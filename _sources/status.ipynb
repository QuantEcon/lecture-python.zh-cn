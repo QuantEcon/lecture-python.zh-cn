{
 "cells": [
  {
   "cell_type": "markdown",
   "id": "8ccd52e7",
   "metadata": {},
   "source": [
    "# 执行统计\n",
    "\n",
    "此表格包含最新的执行统计数据。\n",
    "\n",
    "```{nb-exec-table}\n",
    "```\n",
    "\n",
    "(status:machine-details)=\n",
    "\n",
    "这些讲座是通过`github actions`在`linux`实例上构建的。\n",
    "\n",
    "这些讲座使用以下Python版本"
   ]
  },
  {
   "cell_type": "code",
   "execution_count": null,
   "id": "09f235df",
   "metadata": {},
   "outputs": [],
   "source": [
    "!python --version"
   ]
  },
  {
   "cell_type": "markdown",
   "id": "4634d252",
   "metadata": {},
   "source": [
    "以及以下软件包版本"
   ]
  },
  {
   "cell_type": "code",
   "execution_count": null,
   "id": "edb2c5a5",
   "metadata": {
    "tags": [
     "hide-output"
    ]
   },
   "outputs": [],
   "source": [
    "!conda list"
   ]
  },
  {
   "cell_type": "markdown",
   "id": "446c471d",
   "metadata": {},
   "source": [
    "本讲座系列还可以使用以下GPU"
   ]
  },
  {
   "cell_type": "code",
   "execution_count": null,
   "id": "4d4f8c21",
   "metadata": {},
   "outputs": [],
   "source": [
    "!nvidia-smi"
   ]
  }
 ],
 "metadata": {
  "jupytext": {
   "text_representation": {
    "extension": ".md",
    "format_name": "myst"
   }
  },
  "kernelspec": {
   "display_name": "Python 3",
   "language": "python",
   "name": "python3"
  },
  "source_map": [
   10,
   25,
   27,
   31,
   34,
   38
  ]
 },
 "nbformat": 4,
 "nbformat_minor": 5
}