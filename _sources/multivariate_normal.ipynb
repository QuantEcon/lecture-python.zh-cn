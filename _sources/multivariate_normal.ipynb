{
 "cells": [
  {
   "cell_type": "markdown",
   "id": "91cb41de",
   "metadata": {},
   "source": [
    "(multivariate_normal_v11)=\n",
    "```{raw} jupyter\n",
    "<div id=\"qe-notebook-header\" align=\"right\" style=\"text-align:right;\">\n",
    "        <a href=\"https://quantecon.org/\" title=\"quantecon.org\">\n",
    "                <img style=\"width:250px;display:inline;\" width=\"250px\" src=\"https://assets.quantecon.org/img/qe-menubar-logo.svg\" alt=\"QuantEcon\">\n",
    "        </a>\n",
    "</div>\n",
    "```\n",
    "\n",
    "# 多元正态分布\n",
    "\n",
    "```{contents} 目录\n",
    ":depth: 2\n",
    "```\n",
    "\n",
    "## 概述\n",
    "\n",
    "本讲座介绍概率论、统计学和经济学中的一个重要工具，即**多元正态分布**。\n",
    "\n",
    "在本讲座中，你将学习以下公式：\n",
    "\n",
    "* 长度为N的随机向量$x$的联合分布\n",
    "* $x$的所有子向量的边际分布\n",
    "* $x$的子向量在其他子向量条件下的条件分布\n",
    "\n",
    "我们将使用多元正态分布来构建一些有用的模型：\n",
    "\n",
    "* 智商(IQ)的因子分析模型\n",
    "* 两种独立固有能力(如数学和语言能力)的因子分析模型\n",
    "* 更一般的因子分析模型\n",
    "* 作为因子分析模型近似的主成分分析(PCA)\n",
    "* 由线性随机差分方程生成的时间序列\n",
    "* 最优线性滤波理论\n",
    "\n",
    "## 多元正态分布\n",
    "\n",
    "本讲将定义一个Python类`MultivariateNormal`，用于生成与多元正态分布相关的**边缘**和**条件**分布。\n",
    "\n",
    "对于多元正态分布，非常方便的是：\n",
    "\n",
    "- 条件期望等于线性最小二乘投影\n",
    "- 条件分布由多元线性回归表征\n",
    "\n",
    "我们将把我们的Python类应用到一些例子中。\n",
    "\n",
    "我们使用以下导入："
   ]
  },
  {
   "cell_type": "code",
   "execution_count": null,
   "id": "05294890",
   "metadata": {},
   "outputs": [],
   "source": [
    "import matplotlib.pyplot as plt\n",
    "import matplotlib as mpl\n",
    "FONTPATH = \"fonts/SourceHanSerifSC-SemiBold.otf\"\n",
    "mpl.font_manager.fontManager.addfont(FONTPATH)\n",
    "plt.rcParams['font.family'] = ['Source Han Serif SC']\n",
    "\n",
    "plt.rcParams[\"figure.figsize\"] = (11, 5)  #设置默认图形大小\n",
    "import numpy as np\n",
    "from numba import jit\n",
    "import statsmodels.api as sm"
   ]
  },
  {
   "cell_type": "markdown",
   "id": "f479a903",
   "metadata": {},
   "source": [
    "假设 $N \\times 1$ 随机向量 $z$ 具有多元正态概率密度。\n",
    "\n",
    "这意味着概率密度的形式为\n",
    "\n",
    "$$\n",
    "f\\left(z;\\mu,\\Sigma\\right)=\\left(2\\pi\\right)^{-\\left(\\frac{N}{2}\\right)}\\det\\left(\\Sigma\\right)^{-\\frac{1}{2}}\\exp\\left(-.5\\left(z-\\mu\\right)^{\\prime}\\Sigma^{-1}\\left(z-\\mu\\right)\\right)\n",
    "$$\n",
    "\n",
    "其中 $\\mu=Ez$ 是随机向量 $z$ 的均值，$\\Sigma=E\\left(z-\\mu\\right)\\left(z-\\mu\\right)^\\prime$ 是 $z$ 的协方差矩阵。\n",
    "\n",
    "协方差矩阵 $\\Sigma$ 是对称且正定的。"
   ]
  },
  {
   "cell_type": "code",
   "execution_count": null,
   "id": "8f7ac2af",
   "metadata": {},
   "outputs": [],
   "source": [
    "@jit\n",
    "def f(z, μ, Σ):\n",
    "    \"\"\"\n",
    "    多元正态分布的密度函数。\n",
    "\n",
    "    参数\n",
    "    ---------------\n",
    "    z: ndarray(float, dim=2)\n",
    "        随机向量，N x 1\n",
    "    μ: ndarray(float, dim=1 or 2)\n",
    "        z的均值，N x 1\n",
    "    Σ: ndarray(float, dim=2)\n",
    "        z的协方差矩阵，N x 1\n",
    "    \"\"\"\n",
    "\n",
    "    z = np.atleast_2d(z)\n",
    "    μ = np.atleast_2d(μ)\n",
    "    Σ = np.atleast_2d(Σ)\n",
    "\n",
    "    N = z.size\n",
    "\n",
    "    temp1 = np.linalg.det(Σ) ** (-1/2)\n",
    "    temp2 = np.exp(-.5 * (z - μ).T @ np.linalg.inv(Σ) @ (z - μ))\n",
    "\n",
    "    return (2 * np.pi) ** (-N/2) * temp1 * temp2"
   ]
  },
  {
   "cell_type": "markdown",
   "id": "04cdeecf",
   "metadata": {},
   "source": [
    "对于某个整数 $k\\in \\{1,\\dots, N-1\\}$，将 $z$ 分割为\n",
    "\n",
    "$$\n",
    "z=\\left[\\begin{array}{c} z_{1}\\\\ z_{2} \\end{array}\\right],\n",
    "$$\n",
    "\n",
    "其中 $z_1$ 是一个 $\\left(N-k\\right)\\times1$ 向量，$z_2$ 是一个 $k\\times1$ 向量。\n",
    "\n",
    "令\n",
    "\n",
    "$$\n",
    "\\mu=\\left[\\begin{array}{c}\n",
    "\\mu_{1}\\\\\n",
    "\\mu_{2}\n",
    "\\end{array}\\right],\\quad\\Sigma=\\left[\\begin{array}{cc}\n",
    "\\Sigma_{11} & \\Sigma_{12}\\\\\n",
    "\\Sigma_{21} & \\Sigma_{22}\n",
    "\\end{array}\\right]\n",
    "$$\n",
    "\n",
    "为 $\\mu$ 和 $\\Sigma$ 的相应分割。\n",
    "\n",
    "$z_1$ 的**边缘**分布是：\n",
    "\n",
    "- 多元正态分布，均值为 $\\mu_1$，协方差矩阵为 $\\Sigma_{11}$。\n",
    "\n",
    "$z_2$ 的**边缘**分布是：\n",
    "\n",
    "- 多元正态分布，均值为 $\\mu_2$，协方差矩阵为 $\\Sigma_{22}$。\n",
    "\n",
    "在给定 $z_2$ 条件下，$z_1$ 的**条件**分布是：\n",
    "\n",
    "- 多元正态分布，均值为\n",
    "\n",
    "$$\n",
    "\\hat{\\mu}_1 = \\mu_1 + \\beta \\left(z_2 -\\mu_2\\right)\n",
    "$$\n",
    "\n",
    "协方差矩阵为\n",
    "\n",
    "$$\n",
    "\\hat{\\Sigma}_{11}=\\Sigma_{11}-\\Sigma_{12}\\Sigma_{22}^{-1}\\Sigma_{21}=\\Sigma_{11}-\\beta\\Sigma_{22}\\beta^{\\prime}\n",
    "$$\n",
    "\n",
    "其中\n",
    "\n",
    "$$\n",
    "\n",
    "\\beta = \\Sigma_{12}\\Sigma_{22}^{-1}\n",
    "$$\n",
    "\n",
    "是一个 $\\left(N-k\\right) \\times k$ 的**总体回归系数**矩阵，表示 $(N -k) \\times 1$ 随机向量 $z_1 - \\mu_1$ 对 $k \\times 1$ 随机向量 $z_2 - \\mu_2$ 的回归系数。\n",
    "\n",
    "以下类构造了一个多元正态分布实例，具有两个方法：\n",
    "\n",
    "- `partition`方法计算 $\\beta$，以 $k$ 作为输入\n",
    "- `cond_dist`方法计算 $z_1$ 在给定 $z_2$ 条件下的分布，或 $z_2$ 在给定 $z_1$ 条件下的分布"
   ]
  },
  {
   "cell_type": "code",
   "execution_count": null,
   "id": "9eb99ca5",
   "metadata": {},
   "outputs": [],
   "source": [
    "class MultivariateNormal:\n",
    "    \"\"\"\n",
    "    多元正态分布类。\n",
    "\n",
    "    参数\n",
    "    ----------\n",
    "    μ: ndarray(float, dim=1)\n",
    "        z的均值，N乘1\n",
    "    Σ: ndarray(float, dim=2)\n",
    "        z的协方差矩阵，N乘1\n",
    "\n",
    "    属性\n",
    "    ---------\n",
    "    μ, Σ:\n",
    "        见参数\n",
    "    μs: list(ndarray(float, dim=1))\n",
    "        按顺序排列的均值向量μ1和μ2的列表\n",
    "    Σs: list(list(ndarray(float, dim=2)))\n",
    "        按顺序排列的协方差矩阵Σ11、Σ12、Σ21、Σ22的二维列表\n",
    "    βs: list(ndarray(float, dim=1))\n",
    "        按顺序排列的回归系数β1和β2的列表\n",
    "    \"\"\"\n",
    "\n",
    "    def __init__(self, μ, Σ):\n",
    "        \"初始化\"\n",
    "        self.μ = np.array(μ)\n",
    "        self.Σ = np.atleast_2d(Σ)\n",
    "\n",
    "    def partition(self, k):\n",
    "        \"\"\"\n",
    "        给定k，将随机向量z分割为大小为k的向量z1和大小为N-k的向量z2。\n",
    "        相应地将均值向量μ分割为μ1和μ2，将协方差矩阵Σ分割为Σ11、Σ12、\n",
    "        Σ21、Σ22。使用分割后的数组计算回归系数β1和β2。\n",
    "        \"\"\"\n",
    "        μ = self.μ\n",
    "        Σ = self.Σ\n",
    "\n",
    "        self.μs = [μ[:k], μ[k:]]\n",
    "        self.Σs = [[Σ[:k, :k], Σ[:k, k:]],\n",
    "                   [Σ[k:, :k], Σ[k:, k:]]]\n",
    "\n",
    "        self.βs = [self.Σs[0][1] @ np.linalg.inv(self.Σs[1][1]),\n",
    "                   self.Σs[1][0] @ np.linalg.inv(self.Σs[0][0])]\n",
    "\n",
    "    def cond_dist(self, ind, z):\n",
    "        \"\"\"\n",
    "        计算在给定z2条件下z1的条件分布，或反之。\n",
    "        参数ind决定我们是计算z1的条件分布(ind=0)还是z2的条件分布(ind=1)。\n",
    "\n",
    "        返回值\n",
    "        ---------\n",
    "        μ_hat: ndarray(float, ndim=1)\n",
    "            z1或z2的条件均值。\n",
    "        Σ_hat: ndarray(float, ndim=2)\n",
    "            z1或z2的条件协方差矩阵。\n",
    "        \"\"\"\n",
    "        β = self.βs[ind]\n",
    "        μs = self.μs\n",
    "        Σs = self.Σs\n",
    "\n",
    "        μ_hat = μs[ind] + β @ (z - μs[1-ind])\n",
    "        Σ_hat = Σs[ind][ind] - β @ Σs[1-ind][1-ind] @ β.T\n",
    "\n",
    "        return μ_hat, Σ_hat"
   ]
  },
  {
   "cell_type": "markdown",
   "id": "db1b0e92",
   "metadata": {},
   "source": [
    "让我们通过一系列示例来运用这段代码。\n",
    "\n",
    "我们先从一个简单的二元示例开始；之后我们将转向三元示例。\n",
    "\n",
    "我们将使用我们的`MultivariateNormal`类来计算一些条件分布的总体矩。\n",
    "\n",
    "为了增添趣味，我们还将通过生成模拟数据并计算线性最小二乘回归来计算相关总体回归的样本类比。\n",
    "\n",
    "我们将比较这些模拟数据的线性最小二乘回归与其总体对应值。\n",
    "\n",
    "## 二元示例\n",
    "\n",
    "我们从由以下参数确定的二元正态分布开始\n",
    "\n",
    "$$\n",
    "\\mu=\\left[\\begin{array}{c}\n",
    ".5 \\\\\n",
    "1.0\n",
    "\\end{array}\\right],\\quad\\Sigma=\\left[\\begin{array}{cc}\n",
    "1 & .5\\\\\n",
    ".5 & 1\n",
    "\\end{array}\\right]\n",
    "$$"
   ]
  },
  {
   "cell_type": "code",
   "execution_count": null,
   "id": "180f0f8b",
   "metadata": {},
   "outputs": [],
   "source": [
    "μ = np.array([.5, 1.])\n",
    "Σ = np.array([[1., .5], [.5 ,1.]])\n",
    "\n",
    "# 构建多元正态分布实例\n",
    "multi_normal = MultivariateNormal(μ, Σ)"
   ]
  },
  {
   "cell_type": "code",
   "execution_count": null,
   "id": "f7d774a2",
   "metadata": {},
   "outputs": [],
   "source": [
    "k = 1 # 选择分区\n",
    "\n",
    "# 分区并计算回归系数\n",
    "multi_normal.partition(k)\n",
    "multi_normal.βs[0],multi_normal.βs[1]"
   ]
  },
  {
   "cell_type": "markdown",
   "id": "50311e5c",
   "metadata": {},
   "source": [
    "让我们说明一下你可以_把任何东西都可以回归到其他任何东西上_这个事实。\n",
    "\n",
    "我们已经计算了所需的一切，可以计算两条回归线，一条是$z_2$对$z_1$的回归，另一条是$z_1$对$z_2$的回归。\n",
    "\n",
    "我们将这些回归表示为\n",
    "\n",
    "$$\n",
    "z_1 = a_1 + b_1 z_2 + \\epsilon_1\n",
    "$$\n",
    "\n",
    "和\n",
    "\n",
    "$$\n",
    "z_2 = a_2 + b_2 z_1 + \\epsilon_2\n",
    "$$\n",
    "\n",
    "其中我们有总体最小二乘正交条件\n",
    "\n",
    "$$\n",
    "E \\epsilon_1 z_2 = 0\n",
    "$$\n",
    "\n",
    "和\n",
    "\n",
    "$$\n",
    "E \\epsilon_2 z_1 = 0\n",
    "$$\n",
    "\n",
    "让我们计算$a_1, a_2, b_1, b_2$。"
   ]
  },
  {
   "cell_type": "code",
   "execution_count": null,
   "id": "b209ccb1",
   "metadata": {},
   "outputs": [],
   "source": [
    "beta = multi_normal.βs\n",
    "\n",
    "a1 = μ[0] - beta[0]*μ[1]\n",
    "b1 = beta[0]\n",
    "\n",
    "a2 = μ[1] - beta[1]*μ[0]\n",
    "b2 = beta[1]"
   ]
  },
  {
   "cell_type": "markdown",
   "id": "944e7e7e",
   "metadata": {},
   "source": [
    "让我们打印出截距和斜率。\n",
    "\n",
    "对于 $z_1$ 对 $z_2$ 的回归，我们有"
   ]
  },
  {
   "cell_type": "code",
   "execution_count": null,
   "id": "62df1f75",
   "metadata": {},
   "outputs": [],
   "source": [
    "print (\"a1 = \", a1)\n",
    "print (\"b1 = \", b1)"
   ]
  },
  {
   "cell_type": "markdown",
   "id": "5a6da809",
   "metadata": {},
   "source": [
    "对于 $z_2$ 对 $z_1$ 的回归，我们有"
   ]
  },
  {
   "cell_type": "code",
   "execution_count": null,
   "id": "2458f3fc",
   "metadata": {},
   "outputs": [],
   "source": [
    "print (\"a2 = \", a2)\n",
    "print (\"b2 = \", b2)"
   ]
  },
  {
   "cell_type": "markdown",
   "id": "2a0ebb84",
   "metadata": {},
   "source": [
    "现在让我们绘制这两条回归线并仔细观察。"
   ]
  },
  {
   "cell_type": "code",
   "execution_count": null,
   "id": "5d15777c",
   "metadata": {},
   "outputs": [],
   "source": [
    "z2 = np.linspace(-4,4,100)\n",
    "\n",
    "\n",
    "a1 = np.squeeze(a1)\n",
    "b1 = np.squeeze(b1)\n",
    "\n",
    "a2 = np.squeeze(a2)\n",
    "b2 = np.squeeze(b2)\n",
    "\n",
    "z1  = b1*z2 + a1\n",
    "\n",
    "\n",
    "z1h = z2/b2 - a2/b2\n",
    "\n",
    "\n",
    "fig = plt.figure(figsize=(12,12))\n",
    "ax = fig.add_subplot(1, 1, 1)\n",
    "ax.set(xlim=(-4, 4), ylim=(-4, 4))\n",
    "ax.spines['left'].set_position('center')\n",
    "ax.spines['bottom'].set_position('zero')\n",
    "ax.spines['right'].set_color('none')\n",
    "ax.spines['top'].set_color('none')\n",
    "ax.xaxis.set_ticks_position('bottom')\n",
    "ax.yaxis.set_ticks_position('left')\n",
    "plt.ylabel('$z_1$', loc = 'top')\n",
    "plt.xlabel('$z_2$,', loc = 'right')\n",
    "plt.title('两条回归线')\n",
    "plt.plot(z2,z1, 'r', label = \"$z_1$ 对 $z_2$ 的回归\")\n",
    "plt.plot(z2,z1h, 'b', label = \"$z_2$ 对 $z_1$ 的回归\")\n",
    "plt.legend()\n",
    "plt.show()"
   ]
  },
  {
   "cell_type": "markdown",
   "id": "d3407e6e",
   "metadata": {},
   "source": [
    "红线是在给定 $z_2$ 条件下 $z_1$ 的期望值。\n",
    "\n",
    "红线的截距和斜率是"
   ]
  },
  {
   "cell_type": "code",
   "execution_count": null,
   "id": "1be2bc95",
   "metadata": {},
   "outputs": [],
   "source": [
    "print(\"a1 = \", a1)\n",
    "print(\"b1 = \", b1)"
   ]
  },
  {
   "cell_type": "markdown",
   "id": "77ff9ff5",
   "metadata": {},
   "source": [
    "蓝线是在给定 $z_1$ 条件下 $z_2$ 的期望值。\n",
    "\n",
    "蓝线的截距和斜率是"
   ]
  },
  {
   "cell_type": "code",
   "execution_count": null,
   "id": "97160fd7",
   "metadata": {},
   "outputs": [],
   "source": [
    "print(\"-a2/b2 = \", - a2/b2)\n",
    "print(\"1/b2 = \", 1/b2)"
   ]
  },
  {
   "cell_type": "markdown",
   "id": "6db42ec3",
   "metadata": {},
   "source": [
    "我们可以使用这些回归线或我们的代码来计算条件期望。\n",
    "\n",
    "让我们计算在给定$z_1=5$条件下$z_2$分布的均值和方差。\n",
    "\n",
    "之后我们将对调回归中左右两边的变量。"
   ]
  },
  {
   "cell_type": "code",
   "execution_count": null,
   "id": "de9bf7a4",
   "metadata": {},
   "outputs": [],
   "source": [
    "# compute the cond. dist. of z1\n",
    "ind = 1\n",
    "z1 = np.array([5.]) # given z1\n",
    "\n",
    "μ2_hat, Σ2_hat = multi_normal.cond_dist(ind, z1)\n",
    "print('μ2_hat, Σ2_hat = ', μ2_hat, Σ2_hat)"
   ]
  },
  {
   "cell_type": "markdown",
   "id": "e9ad7935",
   "metadata": {},
   "source": [
    "现在让我们计算在 $z_2=5$ 的条件下 $z_1$ 的分布的均值和方差。"
   ]
  },
  {
   "cell_type": "code",
   "execution_count": null,
   "id": "bd8bb6d8",
   "metadata": {},
   "outputs": [],
   "source": [
    "# 计算 z1 的条件分布\n",
    "ind = 0\n",
    "z2 = np.array([5.]) # 给定 z2\n",
    "\n",
    "μ1_hat, Σ1_hat = multi_normal.cond_dist(ind, z2)\n",
    "print('μ1_hat, Σ1_hat = ', μ1_hat, Σ1_hat)"
   ]
  },
  {
   "cell_type": "markdown",
   "id": "da60b1e8",
   "metadata": {},
   "source": [
    "让我们比较前面的总体均值和方差与从大样本抽取并对$z_1 - \\mu_1$和$z_2 - \\mu_2$进行回归的结果。\n",
    "\n",
    "我们知道\n",
    "\n",
    "$$\n",
    "E z_1 | z_2 = \\left(\\mu_1 - \\beta \\mu_2 \\right) + \\beta z_2\n",
    "$$\n",
    "\n",
    "这可以重新整理为\n",
    "\n",
    "$$\n",
    "z_1 - \\mu_1 = \\beta \\left( z_2 - \\mu_2 \\right) + \\epsilon,\n",
    "$$\n",
    "\n",
    "我们预计，随着样本量越来越大，估计的OLS系数将收敛到$\\beta$，$\\epsilon$的估计方差将收敛到$\\hat{\\Sigma}_1$。"
   ]
  },
  {
   "cell_type": "code",
   "execution_count": null,
   "id": "11d90836",
   "metadata": {},
   "outputs": [],
   "source": [
    "n = 1_000_000 # 样本量\n",
    "\n",
    "# 模拟多元正态随机向量\n",
    "data = np.random.multivariate_normal(μ, Σ, size=n)\n",
    "z1_data = data[:, 0]\n",
    "z2_data = data[:, 1]\n",
    "\n",
    "# OLS回归\n",
    "μ1, μ2 = multi_normal.μs\n",
    "results = sm.OLS(z1_data - μ1, z2_data - μ2).fit()"
   ]
  },
  {
   "cell_type": "markdown",
   "id": "376c7c83",
   "metadata": {},
   "source": [
    "让我们比较前面的总体 $\\beta$ 与 $z_2 - \\mu_2$ 的 OLS 样本估计值"
   ]
  },
  {
   "cell_type": "code",
   "execution_count": null,
   "id": "d8da07ec",
   "metadata": {},
   "outputs": [],
   "source": [
    "multi_normal.βs[0], results.params"
   ]
  },
  {
   "cell_type": "markdown",
   "id": "4815621a",
   "metadata": {},
   "source": [
    "让我们将我们的总体 $\\hat{\\Sigma}_1$ 与 $\\epsilon$ 的自由度调整后的方差估计进行比较"
   ]
  },
  {
   "cell_type": "code",
   "execution_count": null,
   "id": "4cae6b6e",
   "metadata": {},
   "outputs": [],
   "source": [
    "Σ1_hat, results.resid @ results.resid.T / (n - 1)"
   ]
  },
  {
   "cell_type": "markdown",
   "id": "a498d230",
   "metadata": {},
   "source": [
    "最后，让我们计算$\\hat{E z_1 | z_2}$的估计值并将其与$\\hat{\\mu}_1$进行比较"
   ]
  },
  {
   "cell_type": "code",
   "execution_count": null,
   "id": "3290b9f3",
   "metadata": {},
   "outputs": [],
   "source": [
    "μ1_hat, results.predict(z2 - μ2) + μ1"
   ]
  },
  {
   "cell_type": "markdown",
   "id": "0aff3eab",
   "metadata": {},
   "source": [
    "因此，在每种情况下，对于我们的大样本量，样本类比都与其总体对应值非常接近。\n",
    "\n",
    "大数定律解释了为什么样本类比会接近总体对象。\n",
    "\n",
    "## 三变量示例\n",
    "\n",
    "让我们将代码应用到一个三变量示例中。\n",
    "\n",
    "我们将按如下方式指定均值向量和协方差矩阵。"
   ]
  },
  {
   "cell_type": "code",
   "execution_count": null,
   "id": "505bc6cc",
   "metadata": {},
   "outputs": [],
   "source": [
    "μ = np.random.random(3)\n",
    "C = np.random.random((3, 3))\n",
    "Σ = C @ C.T # positive semi-definite\n",
    "\n",
    "multi_normal = MultivariateNormal(μ, Σ)"
   ]
  },
  {
   "cell_type": "code",
   "execution_count": null,
   "id": "37be4b09",
   "metadata": {},
   "outputs": [],
   "source": [
    "μ, Σ"
   ]
  },
  {
   "cell_type": "code",
   "execution_count": null,
   "id": "f7aea0e9",
   "metadata": {},
   "outputs": [],
   "source": [
    "k = 1\n",
    "multi_normal.partition(k)"
   ]
  },
  {
   "cell_type": "markdown",
   "id": "6a2eac89",
   "metadata": {},
   "source": [
    "让我们计算在给定 $z_{2}=\\left[\\begin{array}{c} 2\\\\ 5 \\end{array}\\right]$ 条件下 $z_1$ 的分布。"
   ]
  },
  {
   "cell_type": "code",
   "execution_count": null,
   "id": "65880f21",
   "metadata": {},
   "outputs": [],
   "source": [
    "ind = 0\n",
    "z2 = np.array([2., 5.])\n",
    "\n",
    "μ1_hat, Σ1_hat = multi_normal.cond_dist(ind, z2)"
   ]
  },
  {
   "cell_type": "code",
   "execution_count": null,
   "id": "e0c10285",
   "metadata": {},
   "outputs": [],
   "source": [
    "n = 1_000_000\n",
    "data = np.random.multivariate_normal(μ, Σ, size=n)\n",
    "z1_data = data[:, :k]\n",
    "z2_data = data[:, k:]"
   ]
  },
  {
   "cell_type": "code",
   "execution_count": null,
   "id": "30844cd8",
   "metadata": {},
   "outputs": [],
   "source": [
    "μ1, μ2 = multi_normal.μs\n",
    "results = sm.OLS(z1_data - μ1, z2_data - μ2).fit()"
   ]
  },
  {
   "cell_type": "markdown",
   "id": "b5188ddf",
   "metadata": {},
   "source": [
    "如上所述，我们依次比较总体和样本回归系数、条件协方差矩阵和条件均值向量。"
   ]
  },
  {
   "cell_type": "code",
   "execution_count": null,
   "id": "626e6104",
   "metadata": {},
   "outputs": [],
   "source": [
    "multi_normal.βs[0], results.params"
   ]
  },
  {
   "cell_type": "code",
   "execution_count": null,
   "id": "d50699a7",
   "metadata": {},
   "outputs": [],
   "source": [
    "Σ1_hat, results.resid @ results.resid.T / (n - 1)"
   ]
  },
  {
   "cell_type": "code",
   "execution_count": null,
   "id": "9255d48c",
   "metadata": {},
   "outputs": [],
   "source": [
    "μ1_hat, results.predict(z2 - μ2) + μ1"
   ]
  },
  {
   "cell_type": "markdown",
   "id": "6faa1487",
   "metadata": {},
   "source": [
    "再一次，样本类比很好地近似了它们的总体对应值。\n",
    "\n",
    "## 一维智力（IQ）\n",
    "\n",
    "让我们来看一个更接近现实生活的例子，即从一系列测试分数中推断出一个称为IQ的一维智力测量值。\n",
    "\n",
    "第$i$个测试分数$y_i$等于未知标量IQ $\\theta$和随机变量$w_{i}$的和。\n",
    "\n",
    "$$\n",
    "y_{i} = \\theta + \\sigma_y w_i, \\quad i=1,\\dots, n\n",
    "$$\n",
    "\n",
    "对于一群人的IQ分布是一个正态随机变量，描述如下：\n",
    "\n",
    "$$\n",
    "\\theta = \\mu_{\\theta} + \\sigma_{\\theta} w_{n+1}.\n",
    "$$\n",
    "\n",
    "我们假设测试分数中的噪声$\\{w_i\\}_{i=1}^N$是独立同分布的，且与IQ不相关。\n",
    "\n",
    "我们还假设$\\{w_i\\}_{i=1}^{n+1}$是独立同分布的标准正态分布：\n",
    "\n",
    "$$\n",
    "\\boldsymbol{w}=\n",
    "\\left[\\begin{array}{c}\n",
    "w_{1}\\\\\n",
    "w_{2}\\\\\n",
    "\\vdots\\\\\n",
    "w_{n}\\\\\n",
    "w_{n+1}\n",
    "\\end{array}\\right]\\sim N\\left(0,I_{n+1}\\right)\n",
    "$$\n",
    "\n",
    "以下系统描述了我们感兴趣的$(n+1) \\times 1$随机向量$X$：\n",
    "\n",
    "$$\n",
    "\n",
    "X=\\left[\\begin{array}{c}\n",
    "y_{1}\\\\\n",
    "y_{2}\\\\\n",
    "\\vdots\\\\\n",
    "y_{n}\\\\\n",
    "\\theta\n",
    "\\end{array}\\right]=\\left[\\begin{array}{c}\n",
    "\\mu_{\\theta}\\\\\n",
    "\\mu_{\\theta}\\\\\n",
    "\\vdots\\\\\n",
    "\\mu_{\\theta}\\\\\n",
    "\\mu_{\\theta}\n",
    "\\end{array}\\right]+\\left[\\begin{array}{ccccc}\n",
    "\\sigma_{y} & 0 & \\cdots & 0 & \\sigma_{\\theta}\\\\\n",
    "0 & \\sigma_{y} & \\cdots & 0 & \\sigma_{\\theta}\\\\\n",
    "\\vdots & \\vdots & \\ddots & \\vdots & \\vdots\\\\\n",
    "0 & 0 & \\cdots & \\sigma_{y} & \\sigma_{\\theta}\\\\\n",
    "0 & 0 & \\cdots & 0 & \\sigma_{\\theta}\n",
    "\\end{array}\\right]\\left[\\begin{array}{c}\n",
    "w_{1}\\\\\n",
    "w_{2}\\\\\n",
    "\\vdots\\\\\n",
    "w_{n}\\\\\n",
    "w_{n+1}\n",
    "\\end{array}\\right],\n",
    "$$\n",
    "\n",
    "或等价地，\n",
    "\n",
    "$$\n",
    "X=\\mu_{\\theta}\\boldsymbol{1}_{n+1}+D\\boldsymbol{w}\n",
    "$$\n",
    "\n",
    "其中 $X = \\begin{bmatrix} y \\cr \\theta \\end{bmatrix}$，\n",
    "$\\boldsymbol{1}_{n+1}$ 是一个大小为 $n+1$ 的全1向量，\n",
    "而 $D$ 是一个 $n+1$ 乘 $n+1$ 的矩阵。\n",
    "\n",
    "让我们定义一个Python函数来构造我们已知遵循多元正态分布的随机向量 $X$ 的均值 $\\mu$ 和协方差矩阵 $\\Sigma$。\n",
    "\n",
    "作为参数，该函数接收测试次数 $n$、IQ分布的均值 $\\mu_{\\theta}$ 和标准差 $\\sigma_\\theta$，以及测试分数中随机性的标准差 $\\sigma_{y}$。"
   ]
  },
  {
   "cell_type": "code",
   "execution_count": null,
   "id": "05652ed4",
   "metadata": {},
   "outputs": [],
   "source": [
    "def construct_moments_IQ(n, μθ, σθ, σy):\n",
    "\n",
    "    μ_IQ = np.full(n+1, μθ)\n",
    "\n",
    "    D_IQ = np.zeros((n+1, n+1))\n",
    "    D_IQ[range(n), range(n)] = σy\n",
    "    D_IQ[:, n] = σθ\n",
    "\n",
    "    Σ_IQ = D_IQ @ D_IQ.T\n",
    "\n",
    "    return μ_IQ, Σ_IQ, D_IQ"
   ]
  },
  {
   "cell_type": "markdown",
   "id": "2c745e7b",
   "metadata": {},
   "source": [
    "现在让我们考虑这个模型的一个具体实例。\n",
    "\n",
    "假设我们记录了$50$个测试分数，并且我们知道\n",
    "$\\mu_{\\theta}=100$，$\\sigma_{\\theta}=10$，以及\n",
    "$\\sigma_{y}=10$。\n",
    "\n",
    "我们可以使用`construct_moments_IQ`函数轻松计算$X$的均值向量和协方差矩阵，如下所示。"
   ]
  },
  {
   "cell_type": "code",
   "execution_count": null,
   "id": "583cf7a5",
   "metadata": {},
   "outputs": [],
   "source": [
    "n = 50\n",
    "μθ, σθ, σy = 100., 10., 10.\n",
    "\n",
    "μ_IQ, Σ_IQ, D_IQ = construct_moments_IQ(n, μθ, σθ, σy)\n",
    "μ_IQ, Σ_IQ, D_IQ"
   ]
  },
  {
   "cell_type": "markdown",
   "id": "598d40ba",
   "metadata": {},
   "source": [
    "我们现在可以使用我们的`MultivariateNormal`类来构建一个实例，然后按照我们的需要对均值向量和协方差矩阵进行分割。\n",
    "\n",
    "我们想要对IQ（即随机变量$\\theta$，_我们不知道的_）基于测试分数向量$y$（_我们知道的_）进行回归。\n",
    "\n",
    "我们选择`k=n`，这样$z_{1} = y$且$z_{2} = \\theta$。"
   ]
  },
  {
   "cell_type": "code",
   "execution_count": null,
   "id": "29489091",
   "metadata": {},
   "outputs": [],
   "source": [
    "multi_normal_IQ = MultivariateNormal(μ_IQ, Σ_IQ)\n",
    "\n",
    "k = n\n",
    "multi_normal_IQ.partition(k)"
   ]
  },
  {
   "cell_type": "markdown",
   "id": "6b46d91e",
   "metadata": {},
   "source": [
    "使用生成器 `multivariate_normal`，我们可以从我们的分布中抽取一次随机向量，然后计算在给定测试分数条件下 $\\theta$ 的分布。\n",
    "\n",
    "让我们来做这个，然后打印出一些相关的数值。"
   ]
  },
  {
   "cell_type": "code",
   "execution_count": null,
   "id": "2152020c",
   "metadata": {},
   "outputs": [],
   "source": [
    "x = np.random.multivariate_normal(μ_IQ, Σ_IQ)\n",
    "y = x[:-1] # 测试分数\n",
    "θ = x[-1]  # 智商"
   ]
  },
  {
   "cell_type": "code",
   "execution_count": null,
   "id": "9f2177a3",
   "metadata": {},
   "outputs": [],
   "source": [
    "# 真实值\n",
    "θ"
   ]
  },
  {
   "cell_type": "markdown",
   "id": "28b4ce66",
   "metadata": {},
   "source": [
    "方法 `cond_dist` 接收测试分数 $y$ 作为输入，并返回智商 $\\theta$ 的条件正态分布。\n",
    "\n",
    "在下面的代码中，`ind` 设置回归右侧的变量。\n",
    "\n",
    "根据我们定义向量 $X$ 的方式，我们需要设置 `ind=1` 以使 $\\theta$ 成为总体回归中的左侧变量。"
   ]
  },
  {
   "cell_type": "code",
   "execution_count": null,
   "id": "39d65ef9",
   "metadata": {},
   "outputs": [],
   "source": [
    "ind = 1\n",
    "multi_normal_IQ.cond_dist(ind, y)"
   ]
  },
  {
   "cell_type": "markdown",
   "id": "91f8bab6",
   "metadata": {},
   "source": [
    "第一个数字是条件均值 $\\hat{\\mu}_{\\theta}$，第二个是条件方差 $\\hat{\\Sigma}_{\\theta}$。\n",
    "\n",
    "额外的测试分数如何影响我们的推断？\n",
    "\n",
    "为了阐明这一点，我们通过将条件集中的测试分数数量从 $1$ 变化到 $n$，计算一系列 $\\theta$ 的条件分布。\n",
    "\n",
    "我们将制作一个漂亮的图表，展示随着更多测试结果的出现，我们对这个人的智商判断是如何变化的。"
   ]
  },
  {
   "cell_type": "code",
   "execution_count": null,
   "id": "657eaef3",
   "metadata": {},
   "outputs": [],
   "source": [
    "# 存放矩的数组\n",
    "μθ_hat_arr = np.empty(n)\n",
    "Σθ_hat_arr = np.empty(n)\n",
    "\n",
    "# 循环测试分数的数量\n",
    "for i in range(1, n+1):\n",
    "    # 构建多元正态分布实例\n",
    "    μ_IQ_i, Σ_IQ_i, D_IQ_i = construct_moments_IQ(i, μθ, σθ, σy)\n",
    "    multi_normal_IQ_i = MultivariateNormal(μ_IQ_i, Σ_IQ_i)\n",
    "\n",
    "    # 分割并计算条件分布\n",
    "    multi_normal_IQ_i.partition(i)\n",
    "    scores_i = y[:i]\n",
    "    μθ_hat_i, Σθ_hat_i = multi_normal_IQ_i.cond_dist(1, scores_i)\n",
    "\n",
    "    # 存储结果\n",
    "    μθ_hat_arr[i-1] = μθ_hat_i[0]\n",
    "    Σθ_hat_arr[i-1] = Σθ_hat_i[0, 0]\n",
    "\n",
    "# 将方差转换为标准差\n",
    "σθ_hat_arr = np.sqrt(Σθ_hat_arr)"
   ]
  },
  {
   "cell_type": "code",
   "execution_count": null,
   "id": "6eebe50e",
   "metadata": {},
   "outputs": [],
   "source": [
    "μθ_hat_lower = μθ_hat_arr - 1.96 * σθ_hat_arr\n",
    "μθ_hat_higher = μθ_hat_arr + 1.96 * σθ_hat_arr\n",
    "\n",
    "plt.hlines(θ, 1, n+1, ls='--', label='真实 $θ$')\n",
    "plt.plot(range(1, n+1), μθ_hat_arr, color='b', label=r'$\\hat{μ}_{θ}$')\n",
    "plt.plot(range(1, n+1), μθ_hat_lower, color='b', ls='--')\n",
    "plt.plot(range(1, n+1), μθ_hat_higher, color='b', ls='--')\n",
    "plt.fill_between(range(1, n+1), μθ_hat_lower, μθ_hat_higher,\n",
    "                 color='b', alpha=0.2, label='95%')\n",
    "\n",
    "plt.xlabel('测试分数数量')\n",
    "plt.ylabel('$\\hat{θ}$')\n",
    "plt.legend()\n",
    "\n",
    "plt.show()"
   ]
  },
  {
   "cell_type": "markdown",
   "id": "6ccf7189",
   "metadata": {},
   "source": [
    "上图中的蓝色实线显示了$\\hat{\\mu}_{\\theta}$作为我们已记录和条件化的测试分数数量的函数。\n",
    "\n",
    "蓝色区域显示了从$\\hat{\\mu}_{\\theta}$加上或减去$1.96 \\hat{\\sigma}_{\\theta}$所得到的范围。\n",
    "\n",
    "因此，条件分布的95%概率质量落在这个范围内。\n",
    "\n",
    "黑色虚线显示了我们抽取的随机$\\theta$的值。\n",
    "\n",
    "随着越来越多的测试分数出现，我们对这个人的$\\theta$的估计变得越来越可靠。\n",
    "\n",
    "通过观察条件分布的变化，我们可以看到添加更多的测试分数使$\\hat{\\theta}$逐渐稳定并接近$\\theta$。\n",
    "\n",
    "因此，每个$y_{i}$都提供了关于$\\theta$的信息。\n",
    "\n",
    "如果我们让测试次数$n \\rightarrow + \\infty$，条件标准差$\\hat{\\sigma}_{\\theta}$将以$\\frac{1}{n^{.5}}$的速率收敛到$0$。\n",
    "\n",
    "## 信息即惊奇\n",
    "\n",
    "让我们通过使用不同的表示方法，从另一个角度来看这个问题。\n",
    "\n",
    "我们可以将上述随机向量$X$表示为\n",
    "\n",
    "$$\n",
    "X = \\mu_{\\theta} \\boldsymbol{1}_{n+1} + C \\epsilon, \\quad \\epsilon \\sim N\\left(0, I\\right)\n",
    "$$\n",
    "\n",
    "其中$C$是$\\Sigma$的下三角**Cholesky因子**，使得\n",
    "\n",
    "$$\n",
    "\\Sigma \\equiv DD^{\\prime} = C C^\\prime\n",
    "$$\n",
    "\n",
    "且\n",
    "\n",
    "$$\n",
    "E \\epsilon \\epsilon' = I .\n",
    "$$\n",
    "\n",
    "因此可得\n",
    "\n",
    "$$\n",
    "\\epsilon \\sim N(0, I) .\n",
    "$$\n",
    "\n",
    "令$G=C^{-1}$\n",
    "\n",
    "$G$也是下三角矩阵。\n",
    "\n",
    "我们可以通过以下公式计算$\\epsilon$\n",
    "\n",
    "$$\n",
    "\\epsilon = G \\left( X - \\mu_{\\theta} \\boldsymbol{1}_{n+1} \\right)\n",
    "$$\n",
    "\n",
    "这个公式证实了正交向量$\\epsilon$包含了与非正交向量$\\left( X - \\mu_{\\theta} \\boldsymbol{1}_{n+1} \\right)$相同的信息。\n",
    "\n",
    "我们可以说$\\epsilon$是$\\left( X - \\mu_{\\theta} \\boldsymbol{1}_{n+1} \\right)$的一个正交基。\n",
    "\n",
    "令$c_{i}$为$C$最后一行的第$i$个元素。\n",
    "\n",
    "那么我们可以写作\n",
    "\n",
    "```{math}\n",
    ":label: mnv_1\n",
    "\n",
    "\\theta = \\mu_{\\theta} + c_1 \\epsilon_1 + c_2 \\epsilon_2 + \\dots + c_n \\epsilon_n + c_{n+1} \\epsilon_{n+1}\n",
    "```\n",
    "\n",
    "$\\epsilon_i$ 之间的相互正交性为我们提供了一种有启发性的方式来解释方程 {eq}`mnv_1`。\n",
    "\n",
    "因此，相对于从测试 $i=1, \\ldots, n-1$ 已知的信息而言，$c_i \\epsilon_i$ 是测试编号 $i$ 带来的关于 $\\theta$ 的**新信息**量。\n",
    "\n",
    "这里的**新信息**意味着**惊喜**或无法从先前信息预测的内容。\n",
    "\n",
    "公式 {eq}`mnv_1` 还为我们提供了一种富有启发性的方式来表达我们之前计算的条件均值和条件方差。\n",
    "\n",
    "具体来说，\n",
    "\n",
    "$$\n",
    "E\\left[\\theta \\mid y_1, \\dots, y_k\\right] = \\mu_{\\theta} + c_1 \\epsilon_1 + \\dots + c_k \\epsilon_k\n",
    "$$\n",
    "\n",
    "和\n",
    "\n",
    "$$\n",
    "Var\\left(\\theta \\mid y_1, \\dots, y_k\\right) = c^2_{k+1} + c^2_{k+2} + \\dots + c^2_{n+1}.\n",
    "$$"
   ]
  },
  {
   "cell_type": "code",
   "execution_count": null,
   "id": "fdfbf454",
   "metadata": {},
   "outputs": [],
   "source": [
    "C = np.linalg.cholesky(Σ_IQ)\n",
    "G = np.linalg.inv(C)\n",
    "\n",
    "ε = G @ (x - μθ)"
   ]
  },
  {
   "cell_type": "code",
   "execution_count": null,
   "id": "d23c7a5c",
   "metadata": {},
   "outputs": [],
   "source": [
    "cε = C[n, :] * ε\n",
    "\n",
    "# 计算基于 y1, y2, ..., yk 的条件μθ和Σθ序列\n",
    "μθ_hat_arr_C = np.array([np.sum(cε[:k+1]) for k in range(n)]) + μθ\n",
    "Σθ_hat_arr_C = np.array([np.sum(C[n, i+1:n+1] ** 2) for i in range(n)])"
   ]
  },
  {
   "cell_type": "markdown",
   "id": "2e30bc6c",
   "metadata": {},
   "source": [
    "为了确认这些公式给出的答案与我们之前计算的结果相同，我们可以将基于$\\{y_i\\}_{i=1}^k$条件下的$\\theta$的均值和方差，与我们之前使用`MultivariateNormal`类（基于我们对多元正态分布条件分布的原始表示）实现的公式所得到的结果进行比较。"
   ]
  },
  {
   "cell_type": "code",
   "execution_count": null,
   "id": "7594f5d5",
   "metadata": {},
   "outputs": [],
   "source": [
    "# 条件均值\n",
    "np.max(np.abs(μθ_hat_arr - μθ_hat_arr_C)) < 1e-10"
   ]
  },
  {
   "cell_type": "code",
   "execution_count": null,
   "id": "8259064a",
   "metadata": {},
   "outputs": [],
   "source": [
    "# 条件方差\n",
    "np.max(np.abs(Σθ_hat_arr - Σθ_hat_arr_C)) < 1e-10"
   ]
  },
  {
   "cell_type": "markdown",
   "id": "a36d3714",
   "metadata": {},
   "source": [
    "## Cholesky因子魔法\n",
    "\n",
    "显然，Cholesky分解自动计算了我们的`MultivariateNormal`类所产生的总体**回归系数**和相关统计数据。\n",
    "\n",
    "Cholesky分解**递归地**计算这些内容。\n",
    "\n",
    "实际上，在公式{eq}`mnv_1`中，\n",
    "\n",
    "- 随机变量$c_i \\epsilon_i$包含了关于$\\theta$的信息，这些信息不包含在$\\epsilon_1, \\epsilon_2, \\ldots, \\epsilon_{i-1}$的信息中\n",
    "- 系数$c_i$是$\\theta - \\mu_\\theta$对$\\epsilon_i$的简单总体回归系数\n",
    "\n",
    "## 数学和语言智力\n",
    "\n",
    "我们可以修改前面的例子使其更加贴近现实。\n",
    "\n",
    "有大量证据表明智商不是一个标量。\n",
    "\n",
    "有些人数学能力强但语言能力差。\n",
    "\n",
    "其他人语言能力强但数学能力差。\n",
    "\n",
    "因此现在我们假设智商有两个维度，$\\theta$和$\\eta$。\n",
    "\n",
    "这些分别决定了数学和语言测试的平均表现。\n",
    "\n",
    "我们观察到数学分数 $\\{y_i\\}_{i=1}^{n}$ 和语言分数\n",
    "$\\{y_i\\}_{i=n+1}^{2n}$。\n",
    "\n",
    "当 $n=2$ 时，我们假设结果来自一个多元正态分布，其表示为\n",
    "\n",
    "$$\n",
    "X=\\left[\\begin{array}{c}\n",
    "y_{1}\\\\\n",
    "y_{2}\\\\\n",
    "y_{3}\\\\\n",
    "y_{4}\\\\\n",
    "\\theta\\\\\n",
    "\\eta\n",
    "\\end{array}\\right]=\\left[\\begin{array}{c}\n",
    "\\mu_{\\theta}\\\\\n",
    "\\mu_{\\theta}\\\\\n",
    "\\mu_{\\eta}\\\\\n",
    "\\mu_{\\eta}\\\\\n",
    "\\mu_{\\theta}\\\\\n",
    "\\mu_{\\eta}\n",
    "\\end{array}\\right]+\\left[\\begin{array}{cccccc}\n",
    "\\sigma_{y} & 0 & 0 & 0 & \\sigma_{\\theta} & 0\\\\\n",
    "0 & \\sigma_{y} & 0 & 0 & \\sigma_{\\theta} & 0\\\\\n",
    "0 & 0 & \\sigma_{y} & 0 & 0 & \\sigma_{\\eta}\\\\\n",
    "0 & 0 & 0 & \\sigma_{y} & 0 & \\sigma_{\\eta}\\\\\n",
    "0 & 0 & 0 & 0 & \\sigma_{\\theta} & 0\\\\\n",
    "0 & 0 & 0 & 0 & 0 & \\sigma_{\\eta}\n",
    "\\end{array}\\right]\\left[\\begin{array}{c}\n",
    "w_{1}\\\\\n",
    "w_{2}\\\\\n",
    "w_{3}\\\\\n",
    "w_{4}\\\\\n",
    "w_{5}\\\\\n",
    "w_{6}\n",
    "\\end{array}\\right]\n",
    "$$\n",
    "\n",
    "其中\n",
    "$w \\begin{bmatrix} w_1 \\cr w_2 \\cr \\vdots \\cr w_6 \\end{bmatrix}$\n",
    "是一个标准正态随机向量。\n",
    "\n",
    "我们构建一个Python函数`construct_moments_IQ2d`来构造联合正态分布的均值向量和协方差矩阵。"
   ]
  },
  {
   "cell_type": "code",
   "execution_count": null,
   "id": "69c1343f",
   "metadata": {},
   "outputs": [],
   "source": [
    "def construct_moments_IQ2d(n, μθ, σθ, μη, ση, σy):\n",
    "\n",
    "    μ_IQ2d = np.empty(2*(n+1))\n",
    "    μ_IQ2d[:n] = μθ\n",
    "    μ_IQ2d[2*n] = μθ\n",
    "    μ_IQ2d[n:2*n] = μη\n",
    "    μ_IQ2d[2*n+1] = μη\n",
    "\n",
    "\n",
    "    D_IQ2d = np.zeros((2*(n+1), 2*(n+1)))\n",
    "    D_IQ2d[range(2*n), range(2*n)] = σy\n",
    "    D_IQ2d[:n, 2*n] = σθ\n",
    "    D_IQ2d[2*n, 2*n] = σθ\n",
    "    D_IQ2d[n:2*n, 2*n+1] = ση\n",
    "    D_IQ2d[2*n+1, 2*n+1] = ση\n",
    "\n",
    "    Σ_IQ2d = D_IQ2d @ D_IQ2d.T\n",
    "\n",
    "    return μ_IQ2d, Σ_IQ2d, D_IQ2d"
   ]
  },
  {
   "cell_type": "markdown",
   "id": "1fdc9246",
   "metadata": {},
   "source": [
    "让我们让函数开始工作。"
   ]
  },
  {
   "cell_type": "code",
   "execution_count": null,
   "id": "43ec01db",
   "metadata": {},
   "outputs": [],
   "source": [
    "n = 2\n",
    "# θ、η和y的均值和方差\n",
    "μθ, σθ, μη, ση, σy = 100., 10., 100., 10, 10\n",
    "\n",
    "μ_IQ2d, Σ_IQ2d, D_IQ2d = construct_moments_IQ2d(n, μθ, σθ, μη, ση, σy)\n",
    "μ_IQ2d, Σ_IQ2d, D_IQ2d"
   ]
  },
  {
   "cell_type": "code",
   "execution_count": null,
   "id": "05aeb0c3",
   "metadata": {},
   "outputs": [],
   "source": [
    "# 进行一次抽样\n",
    "x = np.random.multivariate_normal(μ_IQ2d, Σ_IQ2d)\n",
    "y1 = x[:n]\n",
    "y2 = x[n:2*n]\n",
    "θ = x[2*n]\n",
    "η = x[2*n+1]\n",
    "\n",
    "# 真实值\n",
    "θ, η"
   ]
  },
  {
   "cell_type": "markdown",
   "id": "4d6654ea",
   "metadata": {},
   "source": [
    "我们首先计算$\\left(\\theta, \\eta\\right)$的联合正态分布。"
   ]
  },
  {
   "cell_type": "code",
   "execution_count": null,
   "id": "a9631b0c",
   "metadata": {},
   "outputs": [],
   "source": [
    "multi_normal_IQ2d = MultivariateNormal(μ_IQ2d, Σ_IQ2d)\n",
    "\n",
    "k = 2*n # 数据向量的长度\n",
    "multi_normal_IQ2d.partition(k)\n",
    "\n",
    "multi_normal_IQ2d.cond_dist(1, [*y1, *y2])"
   ]
  },
  {
   "cell_type": "markdown",
   "id": "ae886d86",
   "metadata": {},
   "source": [
    "现在让我们分别计算基于各种测试分数子集条件下的 $\\theta$ 和 $\\mu$ 的分布。\n",
    "\n",
    "通过构建一个辅助函数 `cond_dist_IQ2d`，我们可以有趣地比较各种结果。"
   ]
  },
  {
   "cell_type": "code",
   "execution_count": null,
   "id": "a2f769ea",
   "metadata": {},
   "outputs": [],
   "source": [
    "def cond_dist_IQ2d(μ, Σ, data):\n",
    "\n",
    "    n = len(μ)\n",
    "\n",
    "    multi_normal = MultivariateNormal(μ, Σ)\n",
    "    multi_normal.partition(n-1)\n",
    "    μ_hat, Σ_hat = multi_normal.cond_dist(1, data)\n",
    "\n",
    "    return μ_hat, Σ_hat"
   ]
  },
  {
   "cell_type": "markdown",
   "id": "5b71aa98",
   "metadata": {},
   "source": [
    "让我们看看这个例子是如何运行的。"
   ]
  },
  {
   "cell_type": "code",
   "execution_count": null,
   "id": "9f8b6bd1",
   "metadata": {},
   "outputs": [],
   "source": [
    "for indices, IQ, conditions in [([*range(2*n), 2*n], 'θ', 'y1, y2, y3, y4'),\n",
    "                                ([*range(n), 2*n], 'θ', 'y1, y2'),\n",
    "                                ([*range(n, 2*n), 2*n], 'θ', 'y3, y4'),\n",
    "                                ([*range(2*n), 2*n+1], 'η', 'y1, y2, y3, y4'),\n",
    "                                ([*range(n), 2*n+1], 'η', 'y1, y2'),\n",
    "                                ([*range(n, 2*n), 2*n+1], 'η', 'y3, y4')]:\n",
    "\n",
    "    μ_hat, Σ_hat = cond_dist_IQ2d(μ_IQ2d[indices], Σ_IQ2d[indices][:, indices], x[indices[:-1]])\n",
    "    print(f'在{conditions: <15}条件下，{IQ}的均值和方差分别为' +\n",
    "          f'{μ_hat[0]:1.2f}和{Σ_hat[0, 0]:1.2f}')"
   ]
  },
  {
   "cell_type": "markdown",
   "id": "096a74d5",
   "metadata": {},
   "source": [
    "显然，数学考试不能提供关于 $\\mu$ 的信息，语言考试不能提供关于 $\\eta$ 的信息。\n",
    "\n",
    "## 单变量时间序列分析\n",
    "\n",
    "我们可以使用多元正态分布和一些矩阵代数来介绍单变量线性时间序列分析的基础。\n",
    "\n",
    "设 $x_t, y_t, v_t, w_{t+1}$ 对于 $t \\geq 0$ 均为标量。\n",
    "\n",
    "考虑以下模型：\n",
    "\n",
    "$$\n",
    "\\begin{aligned}\n",
    "x_0 & \\sim  N\\left(0, \\sigma_0^2\\right) \\\\\n",
    "x_{t+1} & = a x_{t} + b w_{t+1}, \\quad w_{t+1} \\sim N\\left(0, 1\\right), t \\geq 0  \\\\\n",
    "y_{t} & = c x_{t} + d v_{t}, \\quad v_{t} \\sim N\\left(0, 1\\right), t \\geq 0\n",
    "\\end{aligned}\n",
    "$$\n",
    "\n",
    "我们可以计算 $x_{t}$ 的矩：\n",
    "\n",
    "1. $E x_{t+1}^2 = a^2 E x_{t}^2 + b^2, t \\geq 0$，其中\n",
    "   $E x_{0}^2 = \\sigma_{0}^2$\n",
    "1. $E x_{t+j} x_{t} = a^{j} E x_{t}^2, \\forall t \\ \\forall j$\n",
    "\n",
    "给定某个 $T$，我们可以将序列 $\\{x_{t}\\}_{t=0}^T$ 表示为随机向量\n",
    "\n",
    "$$\n",
    "X=\\left[\\begin{array}{c}\n",
    "x_{0}\\\\\n",
    "x_{1}\\\\\n",
    "\\vdots\\\\\n",
    "x_{T}\n",
    "\\end{array}\\right]\n",
    "$$\n",
    "\n",
    "协方差矩阵 $\\Sigma_{x}$ 可以用我们上面计算的矩来构建。\n",
    "\n",
    "类似地，我们可以定义\n",
    "\n",
    "$$\n",
    "Y=\\left[\\begin{array}{c}\n",
    "y_{0}\\\\\n",
    "y_{1}\\\\\n",
    "\\vdots\\\\\n",
    "y_{T}\n",
    "\\end{array}\\right], \\quad\n",
    "v=\\left[\\begin{array}{c}\n",
    "v_{0}\\\\\n",
    "v_{1}\\\\\n",
    "\\vdots\\\\\n",
    "v_{T}\n",
    "\\end{array}\\right]\n",
    "$$\n",
    "\n",
    "因此\n",
    "\n",
    "$$\n",
    "Y = C X + D V\n",
    "$$\n",
    "\n",
    "其中 $C$ 和 $D$ 都是对角矩阵，对角线上分别为常数 $c$ 和 $d$。\n",
    "\n",
    "因此，$Y$ 的协方差矩阵为\n",
    "\n",
    "$$\n",
    "\\Sigma_{y} = E Y Y^{\\prime} = C \\Sigma_{x} C^{\\prime} + D D^{\\prime}\n",
    "$$\n",
    "\n",
    "通过将 $X$ 和 $Y$ 堆叠，我们可以写成\n",
    "\n",
    "$$\n",
    "Z=\\left[\\begin{array}{c}\n",
    "X\\\\\n",
    "Y\n",
    "\\end{array}\\right]\n",
    "$$\n",
    "\n",
    "且\n",
    "\n",
    "$$\n",
    "\\Sigma_{z} = EZZ^{\\prime}=\\left[\\begin{array}{cc}\n",
    "\\Sigma_{x} & \\Sigma_{x}C^{\\prime}\\\\\n",
    "C\\Sigma_{x} & \\Sigma_{y}\n",
    "\\end{array}\\right]\n",
    "$$\n",
    "\n",
    "因此，堆叠序列 $\\{x_{t}\\}_{t=0}^T$ 和 $\\{y_{t}\\}_{t=0}^T$ 共同服从多元正态分布 $N\\left(0, \\Sigma_{z}\\right)$。"
   ]
  },
  {
   "cell_type": "code",
   "execution_count": null,
   "id": "468f07cc",
   "metadata": {},
   "outputs": [],
   "source": [
    "# 作为示例，考虑 T = 3 的情况\n",
    "T = 3"
   ]
  },
  {
   "cell_type": "code",
   "execution_count": null,
   "id": "a1e87fe2",
   "metadata": {},
   "outputs": [],
   "source": [
    "# 初始分布 x_0 的方差\n",
    "σ0 = 1.\n",
    "\n",
    "# 方程系统的参数\n",
    "a = .9\n",
    "b = 1.\n",
    "c = 1.0\n",
    "d = .05"
   ]
  },
  {
   "cell_type": "code",
   "execution_count": null,
   "id": "71595e18",
   "metadata": {},
   "outputs": [],
   "source": [
    "# 构建 X 的协方差矩阵\n",
    "Σx = np.empty((T+1, T+1))\n",
    "\n",
    "Σx[0, 0] = σ0 ** 2\n",
    "for i in range(T):\n",
    "    Σx[i, i+1:] = Σx[i, i] * a ** np.arange(1, T+1-i)\n",
    "    Σx[i+1:, i] = Σx[i, i+1:]\n",
    "\n",
    "    Σx[i+1, i+1] = a ** 2 * Σx[i, i] + b ** 2"
   ]
  },
  {
   "cell_type": "code",
   "execution_count": null,
   "id": "89946a09",
   "metadata": {},
   "outputs": [],
   "source": [
    "Σx"
   ]
  },
  {
   "cell_type": "code",
   "execution_count": null,
   "id": "c104e5d8",
   "metadata": {},
   "outputs": [],
   "source": [
    "# 构建Y的协方差矩阵\n",
    "C = np.eye(T+1) * c\n",
    "D = np.eye(T+1) * d\n",
    "\n",
    "Σy = C @ Σx @ C.T + D @ D.T"
   ]
  },
  {
   "cell_type": "code",
   "execution_count": null,
   "id": "d7a25b79",
   "metadata": {},
   "outputs": [],
   "source": [
    "# 构建Z的协方差矩阵\n",
    "Σz = np.empty((2*(T+1), 2*(T+1)))\n",
    "\n",
    "Σz[:T+1, :T+1] = Σx\n",
    "Σz[:T+1, T+1:] = Σx @ C.T\n",
    "Σz[T+1:, :T+1] = C @ Σx\n",
    "Σz[T+1:, T+1:] = Σy"
   ]
  },
  {
   "cell_type": "code",
   "execution_count": null,
   "id": "b9e436d3",
   "metadata": {},
   "outputs": [],
   "source": [
    "Σz"
   ]
  },
  {
   "cell_type": "code",
   "execution_count": null,
   "id": "e965bb9c",
   "metadata": {},
   "outputs": [],
   "source": [
    "# 构建Z的均值向量\n",
    "μz = np.zeros(2*(T+1))"
   ]
  },
  {
   "cell_type": "markdown",
   "id": "7a588215",
   "metadata": {},
   "source": [
    "以下 Python 代码让我们可以对随机向量 $X$ 和 $Y$ 进行采样。\n",
    "\n",
    "这对于在下面有趣的练习中进行条件化处理将非常有用。"
   ]
  },
  {
   "cell_type": "code",
   "execution_count": null,
   "id": "1d56e275",
   "metadata": {},
   "outputs": [],
   "source": [
    "z = np.random.multivariate_normal(μz, Σz)\n",
    "\n",
    "x = z[:T+1]\n",
    "y = z[T+1:]"
   ]
  },
  {
   "cell_type": "markdown",
   "id": "7d9438db",
   "metadata": {},
   "source": [
    "### 平滑示例\n",
    "\n",
    "这是一个经典的`平滑`计算示例，其目的是计算$E X \\mid Y$。\n",
    "\n",
    "这个示例的解释是：\n",
    "\n",
    "- $X$是一个隐马尔可夫状态变量$x_t$的随机序列\n",
    "- $Y$是一个包含隐藏状态信息的观测信号$y_t$序列"
   ]
  },
  {
   "cell_type": "code",
   "execution_count": null,
   "id": "a249f38f",
   "metadata": {},
   "outputs": [],
   "source": [
    "# 构建一个多元正态分布实例\n",
    "multi_normal_ex1 = MultivariateNormal(μz, Σz)\n",
    "x = z[:T+1]\n",
    "y = z[T+1:]"
   ]
  },
  {
   "cell_type": "code",
   "execution_count": null,
   "id": "46666fd5",
   "metadata": {},
   "outputs": [],
   "source": [
    "# 将Z分割成X和Y\n",
    "multi_normal_ex1.partition(T+1)"
   ]
  },
  {
   "cell_type": "code",
   "execution_count": null,
   "id": "147d621d",
   "metadata": {},
   "outputs": [],
   "source": [
    "# 计算给定Y=y时X的条件均值和协方差矩阵\n",
    "\n",
    "print(\"X = \", x)\n",
    "print(\"Y = \", y)\n",
    "print(\" E [ X | Y] = \", )\n",
    "\n",
    "multi_normal_ex1.cond_dist(0, y)"
   ]
  },
  {
   "cell_type": "markdown",
   "id": "e7ebc2a4",
   "metadata": {},
   "source": [
    "### 滤波练习\n",
    "\n",
    "计算 $E\\left[x_{t} \\mid y_{t-1}, y_{t-2}, \\dots, y_{0}\\right]$。\n",
    "\n",
    "为此，我们首先需要构建子向量 $\\left[x_{t}, y_{0}, \\dots, y_{t-2}, y_{t-1}\\right]$ 的均值向量和协方差矩阵。\n",
    "\n",
    "例如，假设我们想要求 $x_{3}$ 的条件分布。"
   ]
  },
  {
   "cell_type": "code",
   "execution_count": null,
   "id": "16305155",
   "metadata": {},
   "outputs": [],
   "source": [
    "t = 3"
   ]
  },
  {
   "cell_type": "code",
   "execution_count": null,
   "id": "e59db96c",
   "metadata": {},
   "outputs": [],
   "source": [
    "# 子向量的均值\n",
    "sub_μz = np.zeros(t+1)\n",
    "\n",
    "# 子向量的协方差矩阵\n",
    "sub_Σz = np.empty((t+1, t+1))\n",
    "\n",
    "sub_Σz[0, 0] = Σz[t, t] # x_t\n",
    "sub_Σz[0, 1:] = Σz[t, T+1:T+t+1]\n",
    "sub_Σz[1:, 0] = Σz[T+1:T+t+1, t]\n",
    "sub_Σz[1:, 1:] = Σz[T+1:T+t+1, T+1:T+t+1]"
   ]
  },
  {
   "cell_type": "code",
   "execution_count": null,
   "id": "b13f6af3",
   "metadata": {},
   "outputs": [],
   "source": [
    "sub_Σz"
   ]
  },
  {
   "cell_type": "code",
   "execution_count": null,
   "id": "8db5e2a4",
   "metadata": {},
   "outputs": [],
   "source": [
    "multi_normal_ex2 = MultivariateNormal(sub_μz, sub_Σz)\n",
    "multi_normal_ex2.partition(1)"
   ]
  },
  {
   "cell_type": "code",
   "execution_count": null,
   "id": "0b6ef101",
   "metadata": {},
   "outputs": [],
   "source": [
    "sub_y = y[:t]\n",
    "\n",
    "multi_normal_ex2.cond_dist(0, sub_y)"
   ]
  },
  {
   "cell_type": "markdown",
   "id": "346dfdb8",
   "metadata": {},
   "source": [
    "### 预测练习\n",
    "\n",
    "计算 $E\\left[y_{t} \\mid y_{t-j}, \\dots, y_{0} \\right]$。\n",
    "\n",
    "如同我们在练习2中所做的那样，我们将构建子向量 $\\left[y_{t}, y_{0}, \\dots, y_{t-j-1}, y_{t-j} \\right]$ 的均值向量和协方差矩阵。\n",
    "\n",
    "例如，我们以 $t=3$ 且 $j=2$ 的情况为例。"
   ]
  },
  {
   "cell_type": "code",
   "execution_count": null,
   "id": "b5e1cddb",
   "metadata": {},
   "outputs": [],
   "source": [
    "t = 3\n",
    "j = 2"
   ]
  },
  {
   "cell_type": "code",
   "execution_count": null,
   "id": "d1848f02",
   "metadata": {},
   "outputs": [],
   "source": [
    "sub_μz = np.zeros(t-j+2)\n",
    "sub_Σz = np.empty((t-j+2, t-j+2))\n",
    "\n",
    "sub_Σz[0, 0] = Σz[T+t+1, T+t+1]\n",
    "sub_Σz[0, 1:] = Σz[T+t+1, T+1:T+t-j+2]\n",
    "sub_Σz[1:, 0] = Σz[T+1:T+t-j+2, T+t+1]\n",
    "sub_Σz[1:, 1:] = Σz[T+1:T+t-j+2, T+1:T+t-j+2]"
   ]
  },
  {
   "cell_type": "code",
   "execution_count": null,
   "id": "bd18f529",
   "metadata": {},
   "outputs": [],
   "source": [
    "sub_Σz"
   ]
  },
  {
   "cell_type": "code",
   "execution_count": null,
   "id": "6c67f37d",
   "metadata": {},
   "outputs": [],
   "source": [
    "multi_normal_ex3 = MultivariateNormal(sub_μz, sub_Σz)\n",
    "multi_normal_ex3.partition(1)"
   ]
  },
  {
   "cell_type": "code",
   "execution_count": null,
   "id": "926e80c1",
   "metadata": {},
   "outputs": [],
   "source": [
    "sub_y = y[:t-j+1]\n",
    "\n",
    "multi_normal_ex3.cond_dist(0, sub_y)"
   ]
  },
  {
   "cell_type": "markdown",
   "id": "32cbb23f",
   "metadata": {},
   "source": [
    "### 构建沃尔德表示\n",
    "\n",
    "现在我们将应用科列斯基分解来分解\n",
    "$\\Sigma_{y}=H H^{\\prime}$ 并形成\n",
    "\n",
    "$$\n",
    "\\epsilon = H^{-1} Y.\n",
    "$$\n",
    "\n",
    "然后我们可以将 $y_{t}$ 表示为\n",
    "\n",
    "$$\n",
    "y_{t} = h_{t,t} \\epsilon_{t} + h_{t,t-1} \\epsilon_{t-1} + \\dots + h_{t,0} \\epsilon_{0}.\n",
    "$$"
   ]
  },
  {
   "cell_type": "code",
   "execution_count": null,
   "id": "902516c2",
   "metadata": {},
   "outputs": [],
   "source": [
    "H = np.linalg.cholesky(Σy)\n",
    "\n",
    "H"
   ]
  },
  {
   "cell_type": "code",
   "execution_count": null,
   "id": "d0c92daf",
   "metadata": {},
   "outputs": [],
   "source": [
    "ε = np.linalg.inv(H) @ y\n",
    "\n",
    "ε"
   ]
  },
  {
   "cell_type": "code",
   "execution_count": null,
   "id": "2e498cf3",
   "metadata": {},
   "outputs": [],
   "source": [
    "y"
   ]
  },
  {
   "cell_type": "markdown",
   "id": "0aca5f2e",
   "metadata": {},
   "source": [
    "这个例子是时间序列分析中所谓的**Wold表示**的一个实例。\n",
    "\n",
    "## 随机差分方程\n",
    "\n",
    "考虑二阶线性随机差分方程\n",
    "\n",
    "$$\n",
    "y_{t} = \\alpha_{0} + \\alpha_{1} y_{y-1} + \\alpha_{2} y_{t-2} + u_{t}\n",
    "$$\n",
    "\n",
    "其中 $u_{t} \\sim N \\left(0, \\sigma_{u}^{2}\\right)$ 且\n",
    "\n",
    "$$\n",
    "\\left[\\begin{array}{c}\n",
    "y_{-1}\\\\\n",
    "y_{0}\n",
    "\\end{array}\\right]\\sim N\\left(\\mu_{\\tilde{y}},\\Sigma_{\\tilde{y}}\\right)\n",
    "$$\n",
    "\n",
    "它可以写成堆叠系统的形式\n",
    "\n",
    "$$\n",
    "\\underset{\\equiv A}{\\underbrace{\\left[\\begin{array}{cccccccc}\n",
    "1 & 0 & 0 & 0 & \\cdots & 0 & 0 & 0\\\\\n",
    "-\\alpha_{1} & 1 & 0 & 0 & \\cdots & 0 & 0 & 0\\\\\n",
    "-\\alpha_{2} & -\\alpha_{1} & 1 & 0 & \\cdots & 0 & 0 & 0\\\\\n",
    "0 & -\\alpha_{2} & -\\alpha_{1} & 1 & \\cdots & 0 & 0 & 0\\\\\n",
    "\\vdots & \\vdots & \\vdots & \\vdots & \\cdots & \\vdots & \\vdots & \\vdots\\\\\n",
    "0 & 0 & 0 & 0 & \\cdots & -\\alpha_{2} & -\\alpha_{1} & 1\n",
    "\\end{array}\\right]}}\\left[\\begin{array}{c}\n",
    "y_{1}\\\\\n",
    "y_{2}\\\\\n",
    "y_{3}\\\\\n",
    "y_{4}\\\\\n",
    "\\vdots\\\\\n",
    "y_{T}\n",
    "\n",
    "\\end{array}\\right]=\\underset{\\equiv b}{\\underbrace{\\left[\\begin{array}{c}\n",
    "\\alpha_{0}+\\alpha_{1}y_{0}+\\alpha_{2}y_{-1}\\\\\n",
    "\\alpha_{0}+\\alpha_{2}y_{0}\\\\\n",
    "\\alpha_{0}\\\\\n",
    "\\alpha_{0}\\\\\n",
    "\\vdots\\\\\n",
    "\\alpha_{0}\n",
    "\\end{array}\\right]}} +\\underset{\\equiv u}{\\underbrace{\\left[\\begin{array}{c}\n",
    "u_{1} \\\\\n",
    "u_2 \\\\\n",
    "u_3\\\\\n",
    "u_4\\\\\n",
    "\\vdots\\\\\n",
    "u_T\n",
    "\\end{array}\\right]}}\n",
    "$$\n",
    "\n",
    "我们可以通过求解以下系统来计算 $y$\n",
    "\n",
    "$$\n",
    "y = A^{-1} \\left(b + u\\right)\n",
    "$$\n",
    "\n",
    "我们有\n",
    "\n",
    "$$\n",
    "\\begin{aligned}\n",
    "\\mu_{y} = A^{-1} \\mu_{b} \\\\\n",
    "\\Sigma_{y} &= A^{-1} E \\left[\\left(b - \\mu_{b} + u \\right) \\left(b - \\mu_{b} + u \\right)^{\\prime}\\right] \\left(A^{-1}\\right)^{\\prime} \\\\\n",
    "           &= A^{-1} \\left(\\Sigma_{b} + \\Sigma_{u} \\right) \\left(A^{-1}\\right)^{\\prime}\n",
    "\\end{aligned}\n",
    "$$\n",
    "\n",
    "其中\n",
    "\n",
    "$$\n",
    "\\mu_{b}=\\left[\\begin{array}{c}\n",
    "\\alpha_{0}+\\alpha_{1}\\mu_{y_{0}}+\\alpha_{2}\\mu_{y_{-1}}\\\\\n",
    "\\alpha_{0}+\\alpha_{2}\\mu_{y_{0}}\\\\\n",
    "\\alpha_{0}\\\\\n",
    "\\vdots\\\\\n",
    "\\alpha_{0}\n",
    "\\end{array}\\right]\n",
    "$$\n",
    "\n",
    "$$\n",
    "\\Sigma_{b}=\\left[\\begin{array}{cc}\n",
    "\n",
    "C\\Sigma_{\\tilde{y}}C^{\\prime} & \\boldsymbol{0}_{N-2\\times N-2}\\\\\n",
    "\\boldsymbol{0}_{N-2\\times2} & \\boldsymbol{0}_{N-2\\times N-2}\n",
    "\\end{array}\\right],\\quad C=\\left[\\begin{array}{cc}\n",
    "\\alpha_{2} & \\alpha_{1}\\\\\n",
    "0 & \\alpha_{2}\n",
    "\\end{array}\\right]\n",
    "$$\n",
    "\n",
    "$$\n",
    "\\Sigma_{u}=\\left[\\begin{array}{cccc}\n",
    "\\sigma_{u}^{2} & 0 & \\cdots & 0\\\\\n",
    "0 & \\sigma_{u}^{2} & \\cdots & 0\\\\\n",
    "\\vdots & \\vdots & \\vdots & \\vdots\\\\\n",
    "0 & 0 & \\cdots & \\sigma_{u}^{2}\n",
    "\\end{array}\\right]\n",
    "$$"
   ]
  },
  {
   "cell_type": "code",
   "execution_count": null,
   "id": "a9059785",
   "metadata": {},
   "outputs": [],
   "source": [
    "# 设置参数\n",
    "T = 80\n",
    "T = 160\n",
    "# 二阶差分方程的系数\n",
    "𝛼0 = 10\n",
    "𝛼1 = 1.53\n",
    "𝛼2 = -.9\n",
    "\n",
    "# u的方差\n",
    "σu = 1.\n",
    "σu = 10.\n",
    "\n",
    "# y_{-1}和y_{0}的分布\n",
    "μy_tilde = np.array([1., 0.5])\n",
    "Σy_tilde = np.array([[2., 1.], [1., 0.5]])"
   ]
  },
  {
   "cell_type": "code",
   "execution_count": null,
   "id": "a4b0f16e",
   "metadata": {},
   "outputs": [],
   "source": [
    "# 构建 A 和 A^{\\prime}\n",
    "A = np.zeros((T, T))\n",
    "\n",
    "for i in range(T):\n",
    "    A[i, i] = 1\n",
    "\n",
    "    if i-1 >= 0:\n",
    "        A[i, i-1] = -𝛼1\n",
    "\n",
    "    if i-2 >= 0:\n",
    "        A[i, i-2] = -𝛼2\n",
    "\n",
    "A_inv = np.linalg.inv(A)"
   ]
  },
  {
   "cell_type": "code",
   "execution_count": null,
   "id": "2e78f14f",
   "metadata": {},
   "outputs": [],
   "source": [
    "# 计算b和y的均值向量\n",
    "μb = np.full(T, 𝛼0)\n",
    "μb[0] += 𝛼1 * μy_tilde[1] + 𝛼2 * μy_tilde[0]\n",
    "μb[1] += 𝛼2 * μy_tilde[1]\n",
    "\n",
    "μy = A_inv @ μb"
   ]
  },
  {
   "cell_type": "code",
   "execution_count": null,
   "id": "2dab459f",
   "metadata": {},
   "outputs": [],
   "source": [
    "# 计算b和y的协方差矩阵\n",
    "Σu = np.eye(T) * σu ** 2\n",
    "\n",
    "Σb = np.zeros((T, T))\n",
    "\n",
    "C = np.array([[𝛼2, 𝛼1], [0, 𝛼2]])\n",
    "Σb[:2, :2] = C @ Σy_tilde @ C.T\n",
    "\n",
    "Σy = A_inv @ (Σb + Σu) @ A_inv.T"
   ]
  },
  {
   "cell_type": "markdown",
   "id": "02f2df3d",
   "metadata": {},
   "source": [
    "## 应用于股票价格模型\n",
    "\n",
    "令\n",
    "\n",
    "$$\n",
    "p_{t} = \\sum_{j=0}^{T-t} \\beta^{j} y_{t+j}\n",
    "$$\n",
    "\n",
    "构造\n",
    "\n",
    "$$\n",
    "\\underset{\\equiv p}{\\underbrace{\\left[\\begin{array}{c}\n",
    "p_{1}\\\\\n",
    "p_{2}\\\\\n",
    "p_{3}\\\\\n",
    "\\vdots\\\\\n",
    "p_{T}\n",
    "\\end{array}\\right]}}=\\underset{\\equiv B}{\\underbrace{\\left[\\begin{array}{ccccc}\n",
    "1 & \\beta & \\beta^{2} & \\cdots & \\beta^{T-1}\\\\\n",
    "0 & 1 & \\beta & \\cdots & \\beta^{T-2}\\\\\n",
    "0 & 0 & 1 & \\cdots & \\beta^{T-3}\\\\\n",
    "\\vdots & \\vdots & \\vdots & \\vdots & \\vdots\\\\\n",
    "0 & 0 & 0 & \\cdots & 1\n",
    "\\end{array}\\right]}}\\left[\\begin{array}{c}\n",
    "y_{1}\\\\\n",
    "y_{2}\\\\\n",
    "y_{3}\\\\\n",
    "\\vdots\\\\\n",
    "y_{T}\n",
    "\\end{array}\\right]\n",
    "$$\n",
    "\n",
    "我们得到\n",
    "\n",
    "$$\n",
    "\\begin{aligned}\n",
    "\\mu_{p} = B \\mu_{y} \\\\\n",
    "\\Sigma_{p} = B \\Sigma_{y} B^{\\prime}\n",
    "\\end{aligned}\n",
    "$$"
   ]
  },
  {
   "cell_type": "code",
   "execution_count": null,
   "id": "22cfc6a6",
   "metadata": {},
   "outputs": [],
   "source": [
    "β = .96"
   ]
  },
  {
   "cell_type": "code",
   "execution_count": null,
   "id": "100c6bf9",
   "metadata": {},
   "outputs": [],
   "source": [
    "# 构建 B\n",
    "B = np.zeros((T, T))\n",
    "\n",
    "for i in range(T):\n",
    "    B[i, i:] = β ** np.arange(0, T-i)"
   ]
  },
  {
   "cell_type": "markdown",
   "id": "c24f44c6",
   "metadata": {},
   "source": [
    "记\n",
    "\n",
    "$$\n",
    "z=\\left[\\begin{array}{c}\n",
    "y\\\\\n",
    "p\n",
    "\\end{array}\\right]=\\underset{\\equiv D}{\\underbrace{\\left[\\begin{array}{c}\n",
    "I\\\\\n",
    "B\n",
    "\\end{array}\\right]}} y\n",
    "$$\n",
    "\n",
    "因此，$\\{y_t\\}_{t=1}^{T}$ 和 $\\{p_t\\}_{t=1}^{T}$ 共同\n",
    "服从多元正态分布\n",
    "$N \\left(\\mu_{z}, \\Sigma_{z}\\right)$，其中\n",
    "\n",
    "$$\n",
    "\\mu_{z}=D\\mu_{y}\n",
    "$$\n",
    "\n",
    "$$\n",
    "\\Sigma_{z}=D\\Sigma_{y}D^{\\prime}\n",
    "$$"
   ]
  },
  {
   "cell_type": "code",
   "execution_count": null,
   "id": "4b8f4815",
   "metadata": {},
   "outputs": [],
   "source": [
    "D = np.vstack([np.eye(T), B])"
   ]
  },
  {
   "cell_type": "code",
   "execution_count": null,
   "id": "f67a2b71",
   "metadata": {},
   "outputs": [],
   "source": [
    "μz = D @ μy\n",
    "Σz = D @ Σy @ D.T"
   ]
  },
  {
   "cell_type": "markdown",
   "id": "89e54319",
   "metadata": {},
   "source": [
    "我们可以使用 `MultivariateNormal` 类来模拟 $y_{t}$ 和 $p_{t}$ 的路径，并计算条件期望 $E \\left[p_{t} \\mid y_{t-1}, y_{t}\\right]$。"
   ]
  },
  {
   "cell_type": "code",
   "execution_count": null,
   "id": "710b5a6c",
   "metadata": {},
   "outputs": [],
   "source": [
    "z = np.random.multivariate_normal(μz, Σz)\n",
    "y, p = z[:T], z[T:]"
   ]
  },
  {
   "cell_type": "code",
   "execution_count": null,
   "id": "80b54332",
   "metadata": {},
   "outputs": [],
   "source": [
    "cond_Ep = np.empty(T-1)\n",
    "\n",
    "sub_μ = np.empty(3)\n",
    "sub_Σ = np.empty((3, 3))\n",
    "for t in range(2, T+1):\n",
    "    sub_μ[:] = μz[[t-2, t-1, T-1+t]]\n",
    "    sub_Σ[:, :] = Σz[[t-2, t-1, T-1+t], :][:, [t-2, t-1, T-1+t]]\n",
    "\n",
    "    multi_normal = MultivariateNormal(sub_μ, sub_Σ)\n",
    "    multi_normal.partition(2)\n",
    "\n",
    "    cond_Ep[t-2] = multi_normal.cond_dist(1, y[t-2:t])[0][0]"
   ]
  },
  {
   "cell_type": "code",
   "execution_count": null,
   "id": "6ac4cc2d",
   "metadata": {},
   "outputs": [],
   "source": [
    "plt.plot(range(1, T), y[1:], label='$y_{t}$')\n",
    "plt.plot(range(1, T), y[:-1], label='$y_{t-1}$')\n",
    "plt.plot(range(1, T), p[1:], label='$p_{t}$')\n",
    "plt.plot(range(1, T), cond_Ep, label='$Ep_{t}|y_{t}, y_{t-1}$')\n",
    "\n",
    "plt.xlabel('t')\n",
    "plt.legend(loc=1)\n",
    "plt.show()"
   ]
  },
  {
   "cell_type": "markdown",
   "id": "6fbae667",
   "metadata": {},
   "source": [
    "在上图中，绿线表示如果人们对股息路径有完美预见时的股票价格，而绿线表示条件期望 $E p_t | y_t, y_{t-1}$，这是在人们没有完美预见但基于时间 $t$ 的信息 $y_t, y_{t-1}$ 对未来股息进行最优预测时的股票价格。\n",
    "\n",
    "## 滤波基础\n",
    "\n",
    "假设 $x_0$ 是一个 $n \\times 1$ 随机向量，且 $y_0$ 是一个由以下*观测方程*决定的 $p \\times 1$ 随机向量\n",
    "\n",
    "$$\n",
    "y_0 = G x_0 + v_0  , \\quad x_0 \\sim {\\mathcal N}(\\hat x_0, \\Sigma_0), \\quad v_0 \\sim {\\mathcal N}(0, R)\n",
    "$$\n",
    "\n",
    "其中 $v_0$ 与 $x_0$ 正交，$G$ 是一个 $p \\times n$ 矩阵，且 $R$ 是一个 $p \\times p$ 正定矩阵。\n",
    "\n",
    "我们考虑这样一个人的问题，他：\n",
    "\n",
    "* *观察到* $y_0$\n",
    "* 没有观察到 $x_0$\n",
    "\n",
    "* 已知 $\\hat x_0, \\Sigma_0, G, R$ 以及向量 $\\begin{bmatrix} x_0 \\cr y_0 \\end{bmatrix}$ 的联合概率分布\n",
    "* 想要根据他所知道的联合概率分布，从 $y_0$ 推断 $x_0$。\n",
    "\n",
    "因此，这个人想要构建基于随机向量 $y_0$ 的 $x_0$ 的条件概率分布。\n",
    "\n",
    "$\\begin{bmatrix} x_0 \\cr y_0 \\end{bmatrix}$ 的联合分布是多元正态分布 ${\\mathcal N}(\\mu, \\Sigma)$，其中\n",
    "\n",
    "$$\n",
    "\\mu = \\begin{bmatrix} \\hat x_0 \\cr G \\hat x_0 \\end{bmatrix} , \\quad\n",
    "  \\Sigma = \\begin{bmatrix} \\Sigma_0 & \\Sigma_0 G' \\cr\n",
    "                          G \\Sigma_0 & G \\Sigma_0 G' + R \\end{bmatrix}\n",
    "$$\n",
    "\n",
    "通过适当应用上述关于 $z_1$ 在给定 $z_2$ 条件下的均值向量 $\\hat \\mu_1$ 和协方差矩阵 $\\hat \\Sigma_{11}$ 的公式，我们发现 $x_0$ 在给定 $y_0$ 条件下的概率分布是 ${\\mathcal N}(\\tilde x_0, \\tilde \\Sigma_0)$，其中\n",
    "\n",
    "$$\n",
    "\n",
    "\\begin{aligned} \\beta_0  & = \\Sigma_0 G' (G \\Sigma_0 G' + R)^{-1} \\cr\n",
    "\\tilde x_0 & = \\hat x_0 + \\beta_0 ( y_0 - G \\hat x_0) \\cr\n",
    " \\tilde \\Sigma_0 & = \\Sigma_0 - \\Sigma_0 G' (G \\Sigma_0 G' + R)^{-1} G \\Sigma_0\n",
    "  \\end{aligned}\n",
    "$$\n",
    "\n",
    "我们可以通过将$x_0$表示为以下形式来表达$x_0$在$y_0$条件下的概率分布为${\\mathcal N}(\\tilde x_0, \\tilde \\Sigma_0)$：\n",
    "\n",
    "$$\n",
    " x_0 = \\tilde x_0 + \\zeta_0\n",
    "$$ (eq:x0rep2)\n",
    "\n",
    "其中$\\zeta_0$是一个高斯随机向量，它与$\\tilde x_0$和$y_0$正交，并且具有均值向量$0$和条件协方差矩阵$E [\\zeta_0 \\zeta_0' | y_0] = \\tilde \\Sigma_0$。\n",
    "\n",
    "### 迈向动态分析\n",
    "\n",
    "现在假设我们处在时间序列环境中，并且有一步状态转移方程：\n",
    "\n",
    "$$\n",
    "x_1 = A x_0 + C w_1 ,  \\quad w_1 \\sim {\\mathcal N}(0, I )\n",
    "$$\n",
    "\n",
    "其中$A$是一个$n \\times n$矩阵，$C$是一个$n \\times m$矩阵。\n",
    "\n",
    "使用方程{eq}`eq:x0rep2`，我们也可以将$x_1$表示为\n",
    "\n",
    "$$\n",
    "\n",
    "x_1 = A (\\tilde x_0 + \\zeta_0) + C w_1\n",
    "$$\n",
    "\n",
    "由此可得\n",
    "\n",
    "$$ E x_1 | y_0 = A \\tilde x_0\n",
    "$$\n",
    "\n",
    "相应的条件协方差矩阵 $E (x_1 - E x_1| y_0)  (x_1 - E x_1| y_0)' \\equiv \\Sigma_1$ 为\n",
    "\n",
    "$$\n",
    " \\Sigma_1 = A \\tilde \\Sigma_0 A' + C C'\n",
    "$$\n",
    "\n",
    "或\n",
    "\n",
    "$$\n",
    "\\Sigma_1 =  A \\Sigma_0 A' - A \\Sigma_0 G' (G \\Sigma_0 G' + R)^{-1} G \\Sigma_0 A'\n",
    "$$\n",
    "\n",
    "我们可以将 $x_1$ 在 $y_0$ 条件下的均值写作\n",
    "\n",
    "$$\n",
    " \\hat x_1 = A \\hat x_0 + A \\Sigma_0 G' (G \\Sigma_0 G' + R)^{-1} (y_0 - G \\hat x_0)\n",
    "$$\n",
    "\n",
    "或\n",
    "\n",
    "$$\n",
    " \\hat x_1 = A \\hat x_0 + K_0 (y_0 - G \\hat x_0)\n",
    "$$\n",
    "\n",
    "其中\n",
    "\n",
    "$$\n",
    "K_0 = A \\Sigma_0 G' (G \\Sigma_0 G' + R)^{-1}\n",
    "$$\n",
    "\n",
    "### 动态版本\n",
    "\n",
    "现在假设对于 $t \\geq 0$，\n",
    "$\\{x_{t+1}, y_t\\}_{t=0}^\\infty$ 由以下方程支配\n",
    "\n",
    "$$\n",
    "\\begin{aligned}\n",
    "x_{t+1} & = A x_t + C w_{t+1} \\cr\n",
    "y_t & = G x_t + v_t\n",
    "\\end{aligned}\n",
    "$$\n",
    "\n",
    "其中如前所述 $x_0 \\sim {\\mathcal N}(\\hat x_0, \\Sigma_0)$，\n",
    "$w_{t+1}$ 是独立同分布随机过程的第 $t+1$ 个分量\n",
    "\n",
    "过程 $w_{t+1}$ 服从分布 $w_{t+1} \\sim {\\mathcal N}(0, I)$，而\n",
    "$v_t$ 是独立同分布过程的第 $t$ 个分量，\n",
    "服从分布 $v_t \\sim {\\mathcal N}(0, R)$，且\n",
    "$\\{w_{t+1}\\}_{t=0}^\\infty$ 和 $\\{v_t\\}_{t=0}^\\infty$\n",
    "这两个过程在任意时间点对上都是正交的。\n",
    "\n",
    "我们上面应用的逻辑和公式表明，在给定\n",
    "$y_0, y_1, \\ldots , y_{t-1} = y^{t-1}$ 条件下，$x_t$ 的概率分布为\n",
    "\n",
    "$$\n",
    "x_t | y^{t-1} \\sim {\\mathcal N}(A \\tilde x_t , A \\tilde \\Sigma_t A' + C C' )\n",
    "$$\n",
    "\n",
    "其中 $\\{\\tilde x_t, \\tilde \\Sigma_t\\}_{t=1}^\\infty$ 可以\n",
    "通过从 $t=1$ 开始迭代以下方程计算得到，\n",
    "初始条件 $\\tilde x_0, \\tilde \\Sigma_0$ 按照我们上面的方法计算：\n",
    "\n",
    "$$\n",
    "\\begin{aligned} \\Sigma_t & = A  \\tilde \\Sigma_{t-1} A' + C C' \\cr\n",
    "               \\hat x_t & = A \\tilde x_{t-1} \\cr\n",
    "\\beta_t & = \\Sigma_t G' (G \\Sigma_t G' + R)^{-1} \\cr\n",
    "\\tilde x_t & = \\hat x_t + \\beta_t ( y_t - G \\hat x_t) \\cr\n",
    "\n",
    "\\tilde \\Sigma_t & = \\Sigma_t - \\Sigma_t G' (G \\Sigma_t G' + R)^{-1} G \\Sigma_t\n",
    "  \\end{aligned}\n",
    "$$\n",
    "\n",
    "如果我们将第一个方程向前移动一个周期，然后将第五个方程右侧的$\\tilde \\Sigma_t$表达式代入其中，我们得到\n",
    "\n",
    "$$\n",
    "\\Sigma_{t+1}= C C' + A \\Sigma_t A' - A \\Sigma_t G' (G \\Sigma_t G' +R)^{-1} G \\Sigma_t A' .\n",
    "$$\n",
    "\n",
    "这是一个矩阵黎卡提差分方程，它与另一个出现在线性二次控制理论基础的quantecon讲座中的矩阵黎卡提差分方程密切相关。\n",
    "\n",
    "那个方程的形式为\n",
    "\n",
    "```{math}\n",
    "\n",
    "P_{t-1} =R + A' P_t A  - A' P_t B\n",
    "(B' P_t B + Q)^{-1}  B' P_t A  .\n",
    "\n",
    "```\n",
    "\n",
    "请仔细观察前面这两个方程片刻，第一个是条件协方差矩阵的矩阵差分方程，第二个是出现在跨期成本值函数二次型中的矩阵的矩阵差分方程。\n",
    "\n",
    "尽管这两个方程并不完全相同，但它们展现出显著的家族相似性。\n",
    "\n",
    "* 第一个方程描述了**向前**推进的动态过程\n",
    "* 第二个方程描述了**向后**推进的动态过程\n",
    "* 虽然许多项都很相似，但一个方程似乎对在另一个方程中扮演相似角色的矩阵进行矩阵变换\n",
    "\n",
    "这两个方程的家族相似性反映了控制理论和滤波理论之间存在的超越性**对偶**关系。\n",
    "\n",
    "### 一个例子\n",
    "\n",
    "我们可以使用Python类 *MultivariateNormal* 来构建示例。\n",
    "\n",
    "这是一个时间为$0$的单期问题示例"
   ]
  },
  {
   "cell_type": "code",
   "execution_count": null,
   "id": "b74f8f24",
   "metadata": {},
   "outputs": [],
   "source": [
    "G = np.array([[1., 3.]])\n",
    "R = np.array([[1.]])\n",
    "\n",
    "x0_hat = np.array([0., 1.])\n",
    "Σ0 = np.array([[1., .5], [.3, 2.]])\n",
    "\n",
    "μ = np.hstack([x0_hat, G @ x0_hat])\n",
    "Σ = np.block([[Σ0, Σ0 @ G.T], [G @ Σ0, G @ Σ0 @ G.T + R]])"
   ]
  },
  {
   "cell_type": "code",
   "execution_count": null,
   "id": "37635959",
   "metadata": {},
   "outputs": [],
   "source": [
    "# 构建多元正态分布实例\n",
    "multi_normal = MultivariateNormal(μ, Σ)"
   ]
  },
  {
   "cell_type": "code",
   "execution_count": null,
   "id": "eb25b7c9",
   "metadata": {},
   "outputs": [],
   "source": [
    "multi_normal.partition(2)"
   ]
  },
  {
   "cell_type": "code",
   "execution_count": null,
   "id": "af05ad4d",
   "metadata": {},
   "outputs": [],
   "source": [
    "# y的观测值\n",
    "y0 = 2.3\n",
    "\n",
    "# x0的条件分布\n",
    "μ1_hat, Σ11 = multi_normal.cond_dist(0, y0)\n",
    "μ1_hat, Σ11"
   ]
  },
  {
   "cell_type": "code",
   "execution_count": null,
   "id": "9ab83051",
   "metadata": {},
   "outputs": [],
   "source": [
    "A = np.array([[0.5, 0.2], [-0.1, 0.3]])\n",
    "C = np.array([[2.], [1.]])\n",
    "\n",
    "# x1的条件分布\n",
    "x1_cond = A @ μ1_hat\n",
    "Σ1_cond = C @ C.T + A @ Σ11 @ A.T\n",
    "x1_cond, Σ1_cond"
   ]
  },
  {
   "cell_type": "markdown",
   "id": "413063c7",
   "metadata": {},
   "source": [
    "### 迭代代码\n",
    "\n",
    "以下是通过迭代方程来解决动态滤波问题的代码，并附有示例。"
   ]
  },
  {
   "cell_type": "code",
   "execution_count": null,
   "id": "de9edb48",
   "metadata": {},
   "outputs": [],
   "source": [
    "def iterate(x0_hat, Σ0, A, C, G, R, y_seq):\n",
    "\n",
    "    p, n = G.shape\n",
    "\n",
    "    T = len(y_seq)\n",
    "    x_hat_seq = np.empty((T+1, n))\n",
    "    Σ_hat_seq = np.empty((T+1, n, n))\n",
    "\n",
    "    x_hat_seq[0] = x0_hat\n",
    "    Σ_hat_seq[0] = Σ0\n",
    "\n",
    "    for t in range(T):\n",
    "        xt_hat = x_hat_seq[t]\n",
    "        Σt = Σ_hat_seq[t]\n",
    "        μ = np.hstack([xt_hat, G @ xt_hat])\n",
    "        Σ = np.block([[Σt, Σt @ G.T], [G @ Σt, G @ Σt @ G.T + R]])\n",
    "\n",
    "        # 滤波\n",
    "        multi_normal = MultivariateNormal(μ, Σ)\n",
    "        multi_normal.partition(n)\n",
    "        x_tilde, Σ_tilde = multi_normal.cond_dist(0, y_seq[t])\n",
    "\n",
    "        # 预测\n",
    "        x_hat_seq[t+1] = A @ x_tilde\n",
    "        Σ_hat_seq[t+1] = C @ C.T + A @ Σ_tilde @ A.T\n",
    "\n",
    "    return x_hat_seq, Σ_hat_seq"
   ]
  },
  {
   "cell_type": "code",
   "execution_count": null,
   "id": "87a752fc",
   "metadata": {},
   "outputs": [],
   "source": [
    "iterate(x0_hat, Σ0, A, C, G, R, [2.3, 1.2, 3.2])"
   ]
  },
  {
   "cell_type": "markdown",
   "id": "c7fd59a4",
   "metadata": {},
   "source": [
    "刚才描述的迭代算法是著名的**卡尔曼滤波器**的一个版本。\n",
    "\n",
    "我们在{doc}`卡尔曼滤波器初探 <kalman>`中描述了卡尔曼滤波器及其一些应用。\n",
    "\n",
    "## 经典因子分析模型\n",
    "\n",
    "在心理学和其他领域广泛使用的因子分析模型可以表示为：\n",
    "\n",
    "$$\n",
    "Y = \\Lambda f + U\n",
    "$$\n",
    "\n",
    "其中：\n",
    "\n",
    "1. $Y$ 是 $n \\times 1$ 随机向量，\n",
    "   $E U U^{\\prime} = D$ 是一个对角矩阵，\n",
    "1. $\\Lambda$ 是 $n \\times k$ 系数矩阵，\n",
    "1. $f$ 是 $k \\times 1$ 随机向量，\n",
    "   $E f f^{\\prime} = I$，\n",
    "1. $U$ 是 $n \\times 1$ 随机向量，且 $U \\perp f$（即 $E U f' = 0$）\n",
    "1. 假设 $k$ 相对于 $n$ 较小；通常\n",
    "   $k$ 只有 $1$ 或 $2$，就像我们的智商示例中那样。\n",
    "\n",
    "这意味着：\n",
    "\n",
    "$$\n",
    "\\begin{aligned}\n",
    "\\Sigma_y = E Y Y^{\\prime} = \\Lambda \\Lambda^{\\prime} + D \\\\\n",
    "E Y f^{\\prime} = \\Lambda \\\\\n",
    "E f Y^{\\prime} = \\Lambda^{\\prime}\n",
    "\\end{aligned}\n",
    "$$\n",
    "\n",
    "因此，协方差矩阵 $\\Sigma_Y$ 是一个对角\n",
    "\n",
    "矩阵 $D$ 和一个秩为 $k$ 的半正定矩阵 $\\Lambda \\Lambda^{\\prime}$。\n",
    "\n",
    "这意味着 $Y$ 向量的 $n$ 个分量之间的所有协方差都是通过它们与 $k<$ 个因子的共同依赖关系来中介的。\n",
    "\n",
    "构造\n",
    "\n",
    "$$\n",
    "Z=\\left(\\begin{array}{c}\n",
    "f\\\\\n",
    "Y\n",
    "\\end{array}\\right)\n",
    "$$\n",
    "\n",
    "扩展随机向量 $Z$ 的协方差矩阵可以计算为\n",
    "\n",
    "$$\n",
    "\\Sigma_{z} = EZZ^{\\prime}=\\left(\\begin{array}{cc}\n",
    "I & \\Lambda^{\\prime}\\\\\n",
    "\\Lambda & \\Lambda\\Lambda^{\\prime}+D\n",
    "\\end{array}\\right)\n",
    "$$\n",
    "\n",
    "接下来，我们首先构造 $N=10$ 和 $k=2$ 情况下的均值向量和协方差矩阵。"
   ]
  },
  {
   "cell_type": "code",
   "execution_count": null,
   "id": "0ab8bc3f",
   "metadata": {},
   "outputs": [],
   "source": [
    "N = 10\n",
    "k = 2"
   ]
  },
  {
   "cell_type": "markdown",
   "id": "974c34b2",
   "metadata": {},
   "source": [
    "我们设定系数矩阵$\\Lambda$和$U$的协方差矩阵为\n",
    "\n",
    "$$\n",
    "\\Lambda=\\left(\\begin{array}{cc}\n",
    "1 & 0\\\\\n",
    "\\vdots & \\vdots\\\\\n",
    "1 & 0\\\\\n",
    "0 & 1\\\\\n",
    "\\vdots & \\vdots\\\\\n",
    "0 & 1\n",
    "\\end{array}\\right),\\quad D=\\left(\\begin{array}{cccc}\n",
    "\\sigma_{u}^{2} & 0 & \\cdots & 0\\\\\n",
    "0 & \\sigma_{u}^{2} & \\cdots & 0\\\\\n",
    "\\vdots & \\vdots & \\vdots & \\vdots\\\\\n",
    "0 & 0 & \\cdots & \\sigma_{u}^{2}\n",
    "\\end{array}\\right)\n",
    "$$\n",
    "\n",
    "其中$\\Lambda$的第一列前半部分填充为$1$，后半部分为$0$，第二列则相反。\n",
    "\n",
    "$D$是一个对角矩阵，对角线上的元素为参数$\\sigma_{u}^{2}$。"
   ]
  },
  {
   "cell_type": "code",
   "execution_count": null,
   "id": "79356658",
   "metadata": {},
   "outputs": [],
   "source": [
    "Λ = np.zeros((N, k))\n",
    "Λ[:N//2, 0] = 1\n",
    "Λ[N//2:, 1] = 1\n",
    "\n",
    "σu = .5\n",
    "D = np.eye(N) * σu ** 2"
   ]
  },
  {
   "cell_type": "code",
   "execution_count": null,
   "id": "8953f903",
   "metadata": {},
   "outputs": [],
   "source": [
    "# 计算 Σy\n",
    "Σy = Λ @ Λ.T + D"
   ]
  },
  {
   "cell_type": "markdown",
   "id": "42319d2a",
   "metadata": {},
   "source": [
    "我们现在可以构建$Z$的均值向量和协方差矩阵。"
   ]
  },
  {
   "cell_type": "code",
   "execution_count": null,
   "id": "ee1dd2dc",
   "metadata": {},
   "outputs": [],
   "source": [
    "μz = np.zeros(k+N)\n",
    "\n",
    "Σz = np.empty((k+N, k+N))\n",
    "\n",
    "Σz[:k, :k] = np.eye(k)\n",
    "Σz[:k, k:] = Λ.T\n",
    "Σz[k:, :k] = Λ\n",
    "Σz[k:, k:] = Σy"
   ]
  },
  {
   "cell_type": "code",
   "execution_count": null,
   "id": "b7e55e1a",
   "metadata": {},
   "outputs": [],
   "source": [
    "z = np.random.multivariate_normal(μz, Σz)\n",
    "\n",
    "f = z[:k]\n",
    "y = z[k:]"
   ]
  },
  {
   "cell_type": "code",
   "execution_count": null,
   "id": "37672a6f",
   "metadata": {},
   "outputs": [],
   "source": [
    "multi_normal_factor = MultivariateNormal(μz, Σz)\n",
    "multi_normal_factor.partition(k)"
   ]
  },
  {
   "cell_type": "markdown",
   "id": "15add213",
   "metadata": {},
   "source": [
    "让我们计算隐藏因子$f$在观测值$Y$上的条件分布，即$f \\mid Y=y$。"
   ]
  },
  {
   "cell_type": "code",
   "execution_count": null,
   "id": "6a4972e2",
   "metadata": {},
   "outputs": [],
   "source": [
    "multi_normal_factor.cond_dist(0, y)"
   ]
  },
  {
   "cell_type": "markdown",
   "id": "6cb51b58",
   "metadata": {},
   "source": [
    "我们可以验证条件期望\n",
    "$E \\left[f \\mid Y=y\\right] = B Y$ 其中\n",
    "$B = \\Lambda^{\\prime} \\Sigma_{y}^{-1}$。"
   ]
  },
  {
   "cell_type": "code",
   "execution_count": null,
   "id": "d7f80aef",
   "metadata": {},
   "outputs": [],
   "source": [
    "B = Λ.T @ np.linalg.inv(Σy)\n",
    "\n",
    "B @ y"
   ]
  },
  {
   "cell_type": "markdown",
   "id": "9765d6d3",
   "metadata": {},
   "source": [
    "类似地，我们可以计算条件分布 $Y \\mid f$。"
   ]
  },
  {
   "cell_type": "code",
   "execution_count": null,
   "id": "bb5589c2",
   "metadata": {},
   "outputs": [],
   "source": [
    "multi_normal_factor.cond_dist(1, f)"
   ]
  },
  {
   "cell_type": "markdown",
   "id": "9f46fd32",
   "metadata": {},
   "source": [
    "可以验证该均值为\n",
    "$\\Lambda I^{-1} f = \\Lambda f$。"
   ]
  },
  {
   "cell_type": "code",
   "execution_count": null,
   "id": "c5628596",
   "metadata": {},
   "outputs": [],
   "source": [
    "Λ @ f"
   ]
  },
  {
   "cell_type": "markdown",
   "id": "467aba38",
   "metadata": {},
   "source": [
    "## PCA和因子分析\n",
    "\n",
    "要了解主成分分析(PCA),请参阅本讲座{doc}`奇异值分解 <svd_intro>`。\n",
    "\n",
    "让我们来做个有趣的练习,对实际上由我们的因子分析模型支配的协方差矩阵 $\\Sigma_y$ 进行PCA分解。\n",
    "\n",
    "从技术上讲,这意味着PCA模型是错误设定的。(你能解释为什么吗?)\n",
    "\n",
    "尽管如此,这个练习将让我们研究PCA的前两个主成分如何近似我们假设真实支配Y数据的因子分析模型中两个因子 $f_i$ ($i=1,2$)的条件期望 $E f_i | Y$。\n",
    "\n",
    "因此我们计算PCA分解\n",
    "\n",
    "$$\n",
    "\\Sigma_{y} = P \\tilde{\\Lambda} P^{\\prime}\n",
    "$$\n",
    "\n",
    "其中 $\\tilde{\\Lambda}$ 是一个对角矩阵。\n",
    "\n",
    "我们有\n",
    "\n",
    "$$\n",
    "Y = P \\epsilon\n",
    "$$\n",
    "\n",
    "和\n",
    "\n",
    "$$\n",
    "\\epsilon = P^\\prime Y\n",
    "$$\n",
    "\n",
    "注意,我们将按特征值*降序*排列 $P$ 中的特征向量。"
   ]
  },
  {
   "cell_type": "code",
   "execution_count": null,
   "id": "2f753ff8",
   "metadata": {},
   "outputs": [],
   "source": [
    "𝜆_tilde, P = np.linalg.eigh(Σy)\n",
    "\n",
    "# 按特征值排列特征向量\n",
    "ind = sorted(range(N), key=lambda x: 𝜆_tilde[x], reverse=True)\n",
    "\n",
    "P = P[:, ind]\n",
    "𝜆_tilde = 𝜆_tilde[ind]\n",
    "Λ_tilde = np.diag(𝜆_tilde)\n",
    "\n",
    "print('𝜆_tilde =', 𝜆_tilde)"
   ]
  },
  {
   "cell_type": "code",
   "execution_count": null,
   "id": "f0850757",
   "metadata": {},
   "outputs": [],
   "source": [
    "# 验证特征向量的正交性\n",
    "np.abs(P @ P.T - np.eye(N)).max()"
   ]
  },
  {
   "cell_type": "code",
   "execution_count": null,
   "id": "66e09040",
   "metadata": {},
   "outputs": [],
   "source": [
    "# 验证特征值分解是否正确\n",
    "P @ Λ_tilde @ P.T"
   ]
  },
  {
   "cell_type": "code",
   "execution_count": null,
   "id": "01a9aa9e",
   "metadata": {},
   "outputs": [],
   "source": [
    "ε = P.T @ y\n",
    "\n",
    "print(\"ε = \", ε)"
   ]
  },
  {
   "cell_type": "code",
   "execution_count": null,
   "id": "e4db333c",
   "metadata": {},
   "outputs": [],
   "source": [
    "# 打印两个因子的值\n",
    "\n",
    "print('f = ', f)"
   ]
  },
  {
   "cell_type": "markdown",
   "id": "6ce497d8",
   "metadata": {},
   "source": [
    "下面我们将绘制几个图：\n",
    "\n",
    "- $N$ 个 $y$ 值\n",
    "- $N$ 个主成分 $\\epsilon$ 值\n",
    "- 第一个因子 $f_1$ 的值，仅绘制前 $N/2$ 个在 $\\Lambda$ 中具有非零载荷的 $y$ 观测值\n",
    "- 第二个因子 $f_2$ 的值，仅绘制最后 $N/2$ 个在 $\\Lambda$ 中具有非零载荷的观测值"
   ]
  },
  {
   "cell_type": "code",
   "execution_count": null,
   "id": "162bad14",
   "metadata": {},
   "outputs": [],
   "source": [
    "plt.scatter(range(N), y, label='y')\n",
    "plt.scatter(range(N), ε, label='$\\epsilon$')\n",
    "plt.hlines(f[0], 0, N//2-1, ls='--', label='$f_{1}$')\n",
    "plt.hlines(f[1], N//2, N-1, ls='-.', label='$f_{2}$')\n",
    "plt.legend()\n",
    "\n",
    "plt.show()"
   ]
  },
  {
   "cell_type": "markdown",
   "id": "885d6251",
   "metadata": {},
   "source": [
    "因此，前两个 $\\epsilon_{j}$ 对应于最大的两个特征值。\n",
    "\n",
    "让我们来看看它们，之后我们将查看 $E f | y = B y$"
   ]
  },
  {
   "cell_type": "code",
   "execution_count": null,
   "id": "a3c53cac",
   "metadata": {},
   "outputs": [],
   "source": [
    "ε[:2]"
   ]
  },
  {
   "cell_type": "code",
   "execution_count": null,
   "id": "409209db",
   "metadata": {},
   "outputs": [],
   "source": [
    "# 与 Ef|y 比较\n",
    "B @ y"
   ]
  },
  {
   "cell_type": "markdown",
   "id": "5053108e",
   "metadata": {},
   "source": [
    "$y_{t}$ 中由前两个主成分解释的方差比例可以按如下方式计算。"
   ]
  },
  {
   "cell_type": "code",
   "execution_count": null,
   "id": "1c33e835",
   "metadata": {},
   "outputs": [],
   "source": [
    "𝜆_tilde[:2].sum() / 𝜆_tilde.sum()"
   ]
  },
  {
   "cell_type": "markdown",
   "id": "ae33dce6",
   "metadata": {},
   "source": [
    "计算\n",
    "\n",
    "$$\n",
    "\\hat{Y} = P_{j} \\epsilon_{j} + P_{k} \\epsilon_{k}\n",
    "$$\n",
    "\n",
    "其中 $P_{j}$ 和 $P_{k}$ 对应最大的两个特征值。"
   ]
  },
  {
   "cell_type": "code",
   "execution_count": null,
   "id": "82cd7168",
   "metadata": {},
   "outputs": [],
   "source": [
    "y_hat = P[:, :2] @ ε[:2]"
   ]
  },
  {
   "cell_type": "markdown",
   "id": "802db94a",
   "metadata": {},
   "source": [
    "在这个例子中，Y在前两个主成分上的投影$\\hat{Y}$很好地近似了$Ef \\mid y$。\n",
    "\n",
    "我们通过下面的图来确认这一点，图中展示了$f$、$E y \\mid f$、$E f \\mid y$和$\\hat{y}$（在坐标轴上）与$y$（在纵轴上）的关系。"
   ]
  },
  {
   "cell_type": "code",
   "execution_count": null,
   "id": "1e7eb547",
   "metadata": {},
   "outputs": [],
   "source": [
    "plt.scatter(range(N), Λ @ f, label='$Ey|f$')\n",
    "plt.scatter(range(N), y_hat, label=r'$\\hat{y}$')\n",
    "plt.hlines(f[0], 0, N//2-1, ls='--', label='$f_{1}$')\n",
    "plt.hlines(f[1], N//2, N-1, ls='-.', label='$f_{2}$')\n",
    "\n",
    "Efy = B @ y\n",
    "plt.hlines(Efy[0], 0, N//2-1, ls='--', color='b', label='$Ef_{1}|y$')\n",
    "plt.hlines(Efy[1], N//2, N-1, ls='-.', color='b', label='$Ef_{2}|y$')\n",
    "plt.legend()\n",
    "\n",
    "plt.show()"
   ]
  },
  {
   "cell_type": "markdown",
   "id": "f51a1d25",
   "metadata": {},
   "source": [
    "$\\hat{Y}$ 的协方差矩阵可以通过先构建 $\\epsilon$ 的协方差矩阵，然后使用 $\\epsilon_{1}$ 和 $\\epsilon_{2}$ 的左上角块来计算。"
   ]
  },
  {
   "cell_type": "code",
   "execution_count": null,
   "id": "577782e5",
   "metadata": {},
   "outputs": [],
   "source": [
    "Σεjk = (P.T @ Σy @ P)[:2, :2]\n",
    "\n",
    "Pjk = P[:, :2]\n",
    "\n",
    "Σy_hat = Pjk @ Σεjk @ Pjk.T\n",
    "print('Σy_hat = \\n', Σy_hat)"
   ]
  }
 ],
 "metadata": {
  "jupytext": {
   "text_representation": {
    "extension": ".md",
    "format_name": "myst"
   }
  },
  "kernelspec": {
   "display_name": "Python 3",
   "language": "python",
   "name": "python3"
  },
  "source_map": [
   10,
   59,
   70,
   84,
   110,
   170,
   235,
   261,
   269,
   275,
   307,
   316,
   322,
   325,
   329,
   332,
   337,
   370,
   376,
   379,
   385,
   388,
   403,
   410,
   414,
   421,
   439,
   450,
   454,
   456,
   460,
   462,
   466,
   468,
   480,
   488,
   492,
   495,
   499,
   506,
   513,
   516,
   520,
   524,
   528,
   530,
   610,
   622,
   632,
   638,
   646,
   651,
   657,
   663,
   666,
   674,
   677,
   687,
   711,
   727,
   817,
   824,
   830,
   834,
   839,
   842,
   912,
   932,
   936,
   945,
   955,
   959,
   966,
   972,
   982,
   986,
   997,
   1087,
   1092,
   1103,
   1115,
   1119,
   1127,
   1137,
   1141,
   1144,
   1150,
   1155,
   1166,
   1173,
   1178,
   1186,
   1196,
   1200,
   1213,
   1217,
   1222,
   1226,
   1236,
   1241,
   1251,
   1255,
   1260,
   1264,
   1281,
   1287,
   1293,
   1295,
   1399,
   1417,
   1433,
   1442,
   1452,
   1495,
   1499,
   1505,
   1531,
   1535,
   1538,
   1542,
   1547,
   1562,
   1571,
   1748,
   1759,
   1764,
   1768,
   1777,
   1785,
   1791,
   1821,
   1823,
   1884,
   1887,
   1911,
   1920,
   1923,
   1927,
   1938,
   1945,
   1948,
   1952,
   1954,
   1960,
   1964,
   1968,
   1970,
   1975,
   1977,
   2011,
   2024,
   2029,
   2034,
   2040,
   2044,
   2053,
   2061,
   2067,
   2071,
   2074,
   2078,
   2080,
   2090,
   2092,
   2098,
   2110,
   2115
  ]
 },
 "nbformat": 4,
 "nbformat_minor": 5
}