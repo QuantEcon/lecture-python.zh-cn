{
 "cells": [
  {
   "cell_type": "markdown",
   "id": "98f9ac38",
   "metadata": {},
   "source": [
    "# 带有阿罗证券的竞争均衡\n",
    "\n",
    "## 引言\n",
    "\n",
    "本讲座介绍了Python代码，用于实验具有以下特征的无限期纯交换经济的竞争均衡：\n",
    "\n",
    "* 异质代理人\n",
    "\n",
    "* 单一消费品的禀赋，是共同马尔可夫状态的个人特定函数\n",
    "\n",
    "* 一期阿罗状态或有证券的完全市场\n",
    "\n",
    "* 在宏观经济学和金融学中常用的贴现期望效用偏好\n",
    "\n",
    "* 代理人之间具有共同的期望效用偏好\n",
    "\n",
    "* 代理人之间具有共同的信念\n",
    "\n",
    "* 一个具有固定相对风险厌恶度(CRRA)的单期效用函数，它意味着存在一个代表性消费者，其消费过程可以代入单步Arrow证券定价核的公式中，从而在确定财富均衡分配之前确定均衡价格\n",
    "\n",
    "* 个体在禀赋上的差异使他们想要在时间和马尔可夫状态之间重新配置消费品\n",
    "\n",
    "我们施加限制条件，使我们能够将竞争均衡的价格和数量**贝尔曼化**\n",
    "\n",
    "我们使用贝尔曼方程来描述\n",
    "\n",
    "* 资产价格\n",
    "\n",
    "* 每个人的持续财富水平\n",
    "\n",
    "* 每个人的逐状态自然债务限额\n",
    "\n",
    "\n",
    "在介绍模型的过程中，我们将遇到这些重要概念\n",
    "\n",
    "* 在此类模型中广泛使用的**解算子**\n",
    "\n",
    "* 有限期限经济中**借贷限制**的缺失\n",
    "\n",
    "* 无限期经济中所需的**各州借贷限制**\n",
    "\n",
    "* **迭代期望法则**的对应概念，称为**迭代值法则**\n",
    "\n",
    "* 在竞争均衡中存在的**状态变量退化**现象，这为各种解算子的出现铺平了道路\n",
    "\n",
    "## 设定\n",
    "\n",
    "实际上，本讲座实现了 Ljungqvist 和 Sargent {cite}`Ljungqvist2012` 第9.3.3节中所提出模型的 Python 版本。\n",
    "\n",
    "### 偏好和禀赋\n",
    "\n",
    "在每个时期 $t\\geq 0$，一个随机事件 $s_t \\in {\\bf S}$ 会实现。\n",
    "\n",
    "让我们用 $s^t = [s_0, s_{1}, \\ldots, s_{t-1}, s_t]$ 来表示直到时间 t 的事件历史。\n",
    "\n",
    "(有时我们会无意中颠倒记录顺序，将历史表示为 $s^t = [s_t, s_{t-1}, \\ldots, s_1, s_0]$。)\n",
    "\n",
    "观察到特定事件序列 $s^t$ 的无条件概率由概率测度 $\\pi_t(s^t)$ 给出。\n",
    "\n",
    "对于 $t > \\tau$，我们写出概率\n",
    "\n",
    "将观察到的 $s^t$ 在已知 $s^\\tau$ 的条件下表示为 $\\pi_t(s^t\\vert s^\\tau)$。\n",
    "\n",
    "我们假设交易发生在观察到 $s_0$ 之后，这通过设定初始给定值 $s_0$ 的 $\\pi_0(s_0)=1$ 来表示。\n",
    "\n",
    "在本讲中，我们将遵循大多数宏观经济学和计量经济学的做法，假设 $\\pi_t(s^t)$ 是由马尔可夫过程产生的。\n",
    "\n",
    "有 $K$ 个消费者，记为 $k=1, \\ldots , K$。\n",
    "\n",
    "消费者 $k$ 拥有一个随机禀赋，即一种商品 $y_t^k(s^t)$，其取决于历史 $s^t$。\n",
    "\n",
    "历史 $s^t$ 是公开可观察的。\n",
    "\n",
    "消费者 $k$ 购买一个依赖于历史的消费计划 $c^k = \\{c_t^k(s^t)\\}_{t=0}^\\infty$\n",
    "\n",
    "消费者 $k$ 对消费计划的排序为\n",
    "\n",
    "$$ U_k(c^k) =\n",
    "   \\sum_{t=0}^\\infty \\sum_{s^t} \\beta^t u_k[c_t^k(s^t)]\n",
    "   \\pi_t(s^t),\n",
    "  $$\n",
    "\n",
    "其中 $0 < \\beta < 1$。\n",
    "\n",
    "右边等于 $ E_0 \\sum_{t=0}^\\infty \\beta^t u_k(c_t^k) $，其中 $E_0$ 是数学期望算子，以 $s_0$ 为条件。\n",
    "\n",
    "这里 $u_k(c)$ 是一个关于消费 $c\\geq 0$ 的递增、二次连续可微、严格凹的函数。\n",
    "\n",
    "个人 $k$ 的效用函数满足 Inada 条件\n",
    "\n",
    "$$ \\lim_{c \\downarrow 0} u'_k(c) = +\\infty.$$\n",
    "\n",
    "这个条件意味着每个代理人在每个日期-历史对 $(t, s^t)$ 都会选择严格正的消费。\n",
    "\n",
    "这些内部解使我们能够将分析限制在等式成立的欧拉方程上，并且保证在像我们这样的经济中，**自然债务限制**在连续交易箭头证券时不会受到约束。\n",
    "\n",
    "我们采用宏观经济学中常用的假设，即消费者对所有的 $t$ 和 $s^t$ 共享相同的概率 $\\pi_t(s^t)$。\n",
    "\n",
    "一个**可行配置**满足\n",
    "\n",
    "$$\n",
    "\\sum_i c_t^k(s^t) \\leq \\sum_i y_t^k(s^t)\n",
    "$$\n",
    "\n",
    "对所有的 $t$ 和所有的 $s^t$ 成立。\n",
    "\n",
    "## 递归表述\n",
    "\n",
    "根据Ljungqvist和Sargent {cite}`Ljungqvist2012`第9章第9.3.3节的描述,我们建立了一个具有完整一期Arrow证券市场的纯交换经济的竞争均衡。\n",
    "\n",
    "当禀赋$y^k(s)$都是共同马尔可夫状态$s$的函数时,定价核心采用$Q(s'|s)$的形式,其中$Q(s'|s)$是在t时刻马尔可夫状态为$s$时,t+1时刻状态$s'$中一单位消费的价格。\n",
    "\n",
    "这使我们能够对消费者优化问题提供递归表述。\n",
    "\n",
    "消费者$k$在t时刻的状态是其金融财富$a^k_t$和马尔可夫状态$s_t$。\n",
    "\n",
    "令$v^k(a,s)$为消费者$k$从状态$(a,s)$开始的问题的最优值。\n",
    "\n",
    "* $v^k(a,s)$是当前拥有金融财富$a$的消费者$k$在马尔可夫状态$s$下能获得的最大期望贴现效用。\n",
    "\n",
    "最优值函数满足贝尔曼方程\n",
    "\n",
    "$$\n",
    "\n",
    "v^k(a, s) = \\max_{c, \\hat a(s')} \\left\\{ u_k(c) + \\beta \\sum_{s'} v^k[\\hat a(s'),s'] \\pi (s' | s) \\right\\}\n",
    "$$\n",
    "\n",
    "其中最大化受预算约束\n",
    "\n",
    "$$\n",
    "c + \\sum_{s'} \\hat a(s') Q(s' | s)\n",
    "     \\leq  y^k(s) + a\n",
    "     $$\n",
    "\n",
    "以及约束条件\n",
    "\n",
    "$$\n",
    "\\begin{aligned}\n",
    "c & \\geq 0, \\\\\n",
    "           -   \\hat a(s') & \\leq \\bar A^k(s'), \\hskip.5cm \\forall s' \\in {\\bf S}\n",
    "\\end{aligned}\n",
    "$$\n",
    "\n",
    "第二个约束显然是一组逐状态的债务限制。\n",
    "\n",
    "注意，求解贝尔曼方程的值函数和决策规则隐含地依赖于定价核$Q(\\cdot \\vert \\cdot)$，因为它出现在代理人的预算约束中。\n",
    "\n",
    "使用贝尔曼方程右侧问题的一阶条件和Benveniste-Scheinkman公式并重新整理得到\n",
    "\n",
    "$$\n",
    "Q(s_{t+1} | s_t ) = {\\beta u'_k(c_{t+1}^k) \\pi(s_{t+1} | s_t)\n",
    "                 \\over u'_k(c_t^k) },\n",
    "                 $$\n",
    "\n",
    "其中$c_t^k = c^k(s_t)$\n",
    "\n",
    "且 $c_{t+1}^k = c^k(s_{t+1})$。\n",
    "\n",
    "**递归竞争均衡**是指\n",
    "一个初始财富分布 $\\vec a_0$，一组借贷限额 $\\{\\bar A^k(s)\\}_{k=1}^K$，\n",
    "一个定价核 $Q(s' | s)$，一组价值函数 $\\{v^k(a,s)\\}_{k=1}^K$，以及\n",
    "决策规则 $\\{c^k(s), \\hat a^k(s)\\}_{k=1}^K$，使得\n",
    "\n",
    "* 各状态下的借贷约束满足递归式\n",
    "\n",
    "$$\n",
    "\\bar A^k(s) = y^k(s) + \\sum_{s'} Q(s'|s) \\bar A^k(s')\n",
    "$$\n",
    "\n",
    "* 对于所有 $k$，给定\n",
    "$a^k_0$、$\\bar A^k(s)$ 和定价核，价值函数和决策规则\n",
    "求解消费者问题；\n",
    "\n",
    "* 对于 $\\{s_t\\}_{t=0}^\\infty$ 的所有实现，消费和资产\n",
    "组合 $\\{\\{c^k_t,$\n",
    "$\\{\\hat a^k_{t+1}(s')\\}_{s'}\\}_k\\}_t$ 满足 $\\sum_k c^k_t = \\sum_k y^k(s_t)$ 且\n",
    "对所有 $t$ 和 $s'$ 有 $\\sum_k \\hat a_{t+1}^k(s') = 0$。\n",
    "\n",
    "* 初始金融财富向量 $\\vec a_0$ 满足 $\\sum_{k=1}^K a_0^k = 0$。\n",
    "\n",
    "第三个条件断言在所有马尔可夫状态下净总索赔为零。\n",
    "\n",
    "第四个条件断言经济是封闭的,并且从净总索赔为零的情况开始。\n",
    "\n",
    "## 状态变量退化\n",
    "\n",
    "请参见 Ljungqvist 和 Sargent {cite}`Ljungqvist2012` 对交易时序协议的描述,该协议与 Arrow-Debreu 的设想一致:\n",
    "\n",
    "* 在时间 $0$ 时存在完整的市场,包含完整的历史 $s^t$ 条件下所有日期消费的索赔菜单,所有交易都在时间零发生\n",
    "* 所有交易一次性地在时间 $0$ 发生\n",
    "\n",
    "如果递归竞争均衡中的分配和定价核 $Q$ 要与相应的完全市场经济中的均衡分配和价格体系保持一致(在该经济中存在这种历史条件商品且所有交易在时间 $0$ 发生),我们必须要求 $k = 1, \\ldots , K$ 时 $a_0^k = 0$。\n",
    "\n",
    "也就是说\n",
    "\n",
    "在时间$0$时，每个代理人的消费现值等于其禀赋流的现值，这确保了在时间$0$发生所有交易的单一预算约束安排。\n",
    "\n",
    "系统以所有$i$的$a_0^k =0$开始，这带来了一个显著的含义，我们称之为**状态变量退化**。\n",
    "\n",
    "以下是我们所说的**状态变量退化**的含义：\n",
    "\n",
    "尽管价值函数$v^k(a,s)$中出现了两个状态变量$a,s$，但在从初始马尔可夫状态$s_0$且$a_0^k = 0 \\ \\forall i$开始的递归竞争均衡中，会出现两个结果：\n",
    "\n",
    "* 当马尔可夫状态$s_t$返回到$s_0$时，所有$i$的$a_0^k = 0$。\n",
    "\n",
    "* 金融财富$a$是马尔可夫状态$s$的一个精确函数。\n",
    "\n",
    "第一个发现表明，每个家庭都会周期性地回到其生命开始时的零金融财富状态。\n",
    "\n",
    "第二个发现表明，在竞争均衡中，外生马尔可夫状态是我们追踪个体所需的全部信息。\n",
    "\n",
    "金融财富变得多余，因为它对每个个体来说都是马尔可夫状态的精确函数。\n",
    "\n",
    "这个结果严重依赖于箭头证券市场的完整性。\n",
    "\n",
    "例如，在本讲座{doc}`艾亚加里模型 <aiyagari>`的不完整市场设置中，这一结果并不成立。\n",
    "\n",
    "## 马尔可夫资产价格\n",
    "\n",
    "让我们从简要总结在马尔可夫环境下计算资产价格的公式开始。\n",
    "\n",
    "该设置假定以下基础架构：\n",
    "\n",
    "* 马尔可夫状态：$s \\in S = \\left[\\bar{s}_1, \\ldots, \\bar{s}_n \\right]$，由具有转移概率的n状态马尔可夫链支配\n",
    "\n",
    "$$\n",
    "P_{ij} = \\Pr \\left\\{s_{t+1} = \\bar{s}_j \\mid s_t = \\bar{s}_i \\right\\}\n",
    "$$\n",
    "\n",
    "* 一组$h=1,\\ldots, H$个$n \\times 1$向量，表示$H$个资产在状态$s$下的支付$d^h\\left(s\\right)$\n",
    "\n",
    "* 一个 $n \\times n$ 矩阵定价核 $Q$ 用于一期箭头证券，其中 $Q_{ij}$ = 在时间 $t$ 状态 $s_t = \\bar s_i$ 时，当 $s_{t+1} = \\bar s_j$ 在时间 $t+1$ 时一单位消费的价格：\n",
    "\n",
    "$$\n",
    "Q_{ij} = {\\textrm{Price}} \\left\\{s_{t+1} = \\bar{s}_j \\mid s_t = \\bar{s}_i \\right\\}\n",
    "$$\n",
    "\n",
    "* 在状态 $i$ 中无风险一期债券的价格是 $R_i^{-1} = \\sum_{j}Q_{i,j}$\n",
    "\n",
    "* 在马尔可夫状态 $\\bar s_i$ 中一期无风险债券的总回报率是 $R_i = (\\sum_j Q_{i,j})^{-1}$\n",
    "\n",
    "### 外生定价核\n",
    "\n",
    "在这一点上，我们将把定价核 $Q$ 视为外生的，即由模型外部决定\n",
    "\n",
    "两个例子是：\n",
    "\n",
    "* $Q = \\beta P$ 其中 $\\beta \\in (0,1)$\n",
    "\n",
    "* $Q = S P$ 其中 $S$ 是一个 $n \\times n$ 的*随机贴现因子*矩阵\n",
    "\n",
    "我们将简要写下马尔可夫资产定价对两种类型资产的含义\n",
    "\n",
    "* 在马尔可夫状态$s$和时间$t$时，一个**含红利**股票的价格，该股票使持有人在时间$t$开始时有权获得时间$t$的红利，并可选择在时间$t+1$出售资产。该价格显然满足$p^h(\\bar s_i) = d^h(\\bar s_i) + \\sum_j Q_{ij} p^h(\\bar s_j)$，这意味着向量$p^h$满足$p^h = d^h + Q p^h$，从而得出公式\n",
    "\n",
    "$$\n",
    "p^h = (I - Q)^{-1} d^h\n",
    "$$\n",
    "\n",
    "* 在马尔可夫状态$s$和时间$t$时，一个**除权**股票的价格，该股票使持有人在时间$t$结束时有权获得时间$t+1$的红利，并可选择在时间$t+1$出售股票。该价格为\n",
    "\n",
    "$$\n",
    "p^h = (I - Q)^{-1} Q d^h\n",
    "$$\n",
    "\n",
    "```{note}\n",
    "矩阵几何级数$(I - Q)^{-1} = I + Q + Q^2 + \\cdots$\n",
    "是一个**预解算子**的例子。\n",
    "```\n",
    "\n",
    "下面，我们将描述一个包含一期箭头证券交易的均衡模型，其中定价核是内生的。\n",
    "\n",
    "在构建我们的模型时，我们会反复遇到让我们想起资产定价公式的公式。\n",
    "\n",
    "### 多步前向转移概率和定价核\n",
    "\n",
    "$\\ell$步前向转移概率$P^\\ell$的$(i,j)$分量是\n",
    "\n",
    "$$\n",
    "Prob(s_{t+\\ell} = \\bar s_j | s_t = \\bar s_i)   = P^{\\ell}_{i,j}\n",
    "$$\n",
    "\n",
    "$\\ell$步前向定价核$Q^\\ell$的$(i,j)$分量是\n",
    "\n",
    "$$\n",
    "Q^{(\\ell)}(s_{t+\\ell} = \\bar s_j | s_t = \\bar s_i)   = Q^{\\ell}_{i,j}\n",
    "$$\n",
    "\n",
    "我们将使用这些对象来说明资产定价理论中的一个有用性质。\n",
    "\n",
    "### 迭代期望法则和迭代值法则\n",
    "\n",
    "**迭代值法则**具有与**迭代期望法则**相平行的数学结构\n",
    "\n",
    "在本讲座的马尔可夫设定中，我们可以很容易地描述其结构\n",
    "\n",
    "回顾我们有限状态马尔可夫链的$j$步前向转移概率满足的以下递归关系：\n",
    "\n",
    "$$\n",
    "\n",
    "P_j(s_{t+j}| s_t)  = \\sum_{s_{t+1}} P_{j-1}(s_{t+j}| s_{t+1}) P(s_{t+1} | s_t)\n",
    "$$\n",
    "\n",
    "我们可以使用这个递归来验证迭代期望法则，该法则用于计算随机变量$d(s_{t+j})$在$s_t$条件下的条件期望，通过以下等式链：\n",
    "\n",
    "$$\n",
    "\\begin{aligned}\n",
    "E \\left[ E d(s_{t+j}) | s_{t+1} \\right] | s_t\n",
    "    & = \\sum_{s_{t+1}} \\left[ \\sum_{s_{t+j}} d(s_{t+j}) P_{j-1}(s_{t+j}| s_{t+1} ) \\right]         P(s_{t+1} | s_t) \\\\\n",
    " & = \\sum_{s_{t+j}}  d(s_{t+j}) \\left[ \\sum_{s_{t+1}} P_{j-1} ( s_{t+j} |s_{t+1}) P(s_{t+1}| s_t) \\right] \\\\\n",
    " & = \\sum_{s_{t+j}} d(s_{t+j}) P_j (s_{t+j} | s_t ) \\\\\n",
    " & = E d(s_{t+j})| s_t\n",
    "    \\end{aligned}\n",
    "$$\n",
    "\n",
    "j步前向Arrow证券的定价核满足以下递归关系：\n",
    "\n",
    "$$\n",
    "Q_j(s_{t+j}| s_t)  = \\sum_{s_{t+1}} Q_{j-1}(s_{t+j}| s_{t+1}) Q(s_{t+1} | s_t)\n",
    "$$\n",
    "\n",
    "在马尔可夫状态$s_t$下，时间$t+j$的支付$d(s_{t+j})$在时间$t$的**价值**是\n",
    "\n",
    "$$\n",
    "\n",
    "V(d(s_{t+j})|s_t) = \\sum_{s_{t+j}} d(s_{t+j}) Q_j(s_{t+j}| s_t)\n",
    "$$\n",
    "\n",
    "**迭代值法则**指出\n",
    "\n",
    "$$\n",
    "V \\left[ V (d(s_{t+j}) | s_{t+1}) \\right] | s_t  =   V(d(s_{t+j}))| s_t\n",
    "$$\n",
    "\n",
    "我们通过以下一系列不等式来验证它，这些不等式与我们用来验证迭代期望法则的不等式相对应：\n",
    "\n",
    "$$\n",
    "\\begin{aligned}\n",
    "V \\left[ V  ( d(s_{t+j}) | s_{t+1} ) \\right] | s_t\n",
    "    & = \\sum_{s_{t+1}} \\left[ \\sum_{s_{t+j}} d(s_{t+j}) Q_{j-1}(s_{t+j}| s_{t+1} ) \\right]         Q(s_{t+1} | s_t) \\\\\n",
    " & = \\sum_{s_{t+j}}  d(s_{t+j}) \\left[ \\sum_{s_{t+1}} Q_{j-1} ( s_{t+j} |s_{t+1}) Q(s_{t+1}| s_t) \\right] \\\\\n",
    " & = \\sum_{s_{t+j}} d(s_{t+j}) Q_j (s_{t+j} | s_t ) \\\\\n",
    " & = E V(d(s_{t+j}))| s_t\n",
    "    \\end{aligned}\n",
    "$$\n",
    "\n",
    "## 一般均衡\n",
    "\n",
    "现在我们准备进行一些有趣的计算。\n",
    "\n",
    "我们发现从分析性的**输入**和**输出**角度来思考我们的一般均衡理论很有意思。\n",
    "\n",
    "### 输入\n",
    "\n",
    "* Markov状态：$s \\in S = \\left[\\bar{s}_1, \\ldots, \\bar{s}_n \\right]$，由具有转移概率的$n$状态马尔可夫链控制\n",
    "\n",
    "$$\n",
    "P_{ij} = \\Pr \\left\\{s_{t+1} = \\bar{s}_j \\mid s_t = \\bar{s}_i \\right\\}\n",
    "$$\n",
    "\n",
    "* 个体$k$禀赋的$K \\times 1$向量集合：$y^k\\left(s\\right), k=1,\\ldots, K$\n",
    "\n",
    "* 总禀赋的$n \\times 1$向量：$y\\left(s\\right) \\equiv \\sum_{k=1}^K y^k\\left(s\\right)$\n",
    "\n",
    "* 个体$k$消费的$K \\times 1$向量集合：$c^k\\left(s\\right), k=1,\\ldots, K$\n",
    "\n",
    "* 对于$s \\in S$的可行消费分配限制集合：\n",
    "\n",
    "$$\n",
    "c\\left(s\\right)= \\sum_{k=1}^K c^k\\left(s\\right)\n",
    "\\leq  y\\left(s\\right)\n",
    "$$\n",
    "\n",
    "* 偏好：各主体共同的效用函数$ E_0 \\sum_{t=0}^\\infty \\beta^t u(c^k_t) $，具有CRRA单期效用函数$u\\left(c\\right)$和贴现因子$\\beta \\in (0,1)$\n",
    "\n",
    "单期效用函数为\n",
    "\n",
    "$$\n",
    "u \\left(c\\right) = \\frac{c^{1-\\gamma}}{1-\\gamma}\n",
    "$$\n",
    "\n",
    "因此\n",
    "\n",
    "$$\n",
    "\n",
    "u^\\prime \\left(c\\right) = c^{-\\gamma}\n",
    "$$\n",
    "\n",
    "### 输出\n",
    "\n",
    "* 一个 $n \\times n$ 矩阵定价核 $Q$，用于一期箭头证券，其中 $Q_{ij}$ = 在时间 $t$ 状态 $s_t = \\bar s_i$ 时，购买在 $t+1$ 时刻状态 $s_{t+1} = \\bar s_j$ 时一单位消费的价格\n",
    "\n",
    "* 纯交换，因此 $c\\left(s\\right) = y\\left(s\\right)$\n",
    "\n",
    "* 一个 $K \\times 1$ 的财富分布向量 $\\alpha$，$\\alpha_k \\geq 0, \\sum_{k=1}^K \\alpha_k =1$\n",
    "\n",
    "* 一组 $n \\times 1$ 的个人 $k$ 消费向量：$c^k\\left(s\\right), k=1,\\ldots, K$\n",
    "\n",
    "### $Q$ 是定价核\n",
    "\n",
    "对于任意代理人 $k \\in \\left[1, \\ldots, K\\right]$，在均衡配置下，一期箭头证券的定价核满足\n",
    "\n",
    "$$\n",
    "Q_{ij} = \\beta \\left(\\frac{c^k\\left(\\bar{s}_j\\right)}{c^k\\left(\\bar{s}_i\\right)}\\right)^{-\\gamma} P_{ij}\n",
    "$$\n",
    "\n",
    "其中 $Q$ 是一个 $n \\times n$ 矩阵\n",
    "\n",
    "这来自代理人 $k$ 的一阶必要条件。\n",
    "\n",
    "但是在我们假设的CRRA偏好下，个人消费与总消费成比例变化，因此也与总禀赋成比例变化。\n",
    "\n",
    "  * 这是我们的偏好设定的结果，意味着**恩格尔曲线**在财富方面是仿射的，因此满足**戈尔曼聚合**的条件\n",
    "\n",
    "因此，\n",
    "\n",
    "$$\n",
    "c^k \\left(s\\right) = \\alpha_k c\\left(s\\right) = \\alpha_k y\\left(s\\right)\n",
    "$$\n",
    "\n",
    "对于任意形式为$K \\times 1$向量$\\alpha$的**财富分配**，满足：\n",
    "\n",
    "$$ \\alpha_k \\in \\left(0, 1\\right), \\quad \\sum_{k=1}^K \\alpha_k = 1 $$\n",
    "\n",
    "这意味着我们可以通过以下公式计算定价核：\n",
    "\n",
    "$$\n",
    "Q_{ij} = \\beta \\left(\\frac{y_j}{y_i}\\right)^{-\\gamma} P_{ij}\n",
    "$$ (eq:Qformula)\n",
    "\n",
    "注意$Q_{ij}$与向量$\\alpha$无关。\n",
    "\n",
    "**关键发现：**我们可以在计算**财富分配**之前计算竞争均衡**价格**。\n",
    "\n",
    "### 数值\n",
    "\n",
    "在计算出均衡定价核$Q$后，我们可以计算几个在表示或构建个体家庭最优问题解时所需的**值**。\n",
    "\n",
    "我们用一个$K \\times 1$向量表示在马尔可夫状态$s$下代理人禀赋的状态依赖值：\n",
    "\n",
    "$$\n",
    "A\\left(s\\right)=\\left[\\begin{array}{c}\n",
    "A^{1}\\left(s\\right)\\\\\n",
    " \\vdots\\\\\n",
    "A^{K}\\left(s\\right)\n",
    "\\end{array}\\right], \\quad s \\in \\left[\\bar{s}_1, \\ldots, \\bar{s}_n\\right]\n",
    "$$\n",
    "\n",
    "以及一个$n \\times 1$向量表示每个个体$k$的持续禀赋值：\n",
    "\n",
    "$$\n",
    "A^{k}=\\left[\\begin{array}{c}\n",
    "A^{k}\\left(\\bar{s}_{1}\\right)\\\\\n",
    "\\vdots\\\\\n",
    "A^{k}\\left(\\bar{s}_{n}\\right)\n",
    "\\end{array}\\right], \\quad k \\in \\left[1, \\ldots, K\\right]\n",
    "$$\n",
    "\n",
    "消费者$k$的$A^k$满足：\n",
    "\n",
    "$$\n",
    "A^k = \\left[I - Q\\right]^{-1} \\left[ y^k\\right]\n",
    "$$\n",
    "\n",
    "其中\n",
    "\n",
    "$$\n",
    "y^{k}=\\left[\\begin{array}{c}\n",
    "y^{k}\\left(\\bar{s}_{1}\\right)\\\\\n",
    "\\vdots\\\\\n",
    "y^{k}\\left(\\bar{s}_{n}\\right)\n",
    "\\end{array}\\right] \\equiv \\begin{bmatrix} y^k_1 \\cr \\vdots \\cr y^k_n \\end{bmatrix}\n",
    "\n",
    "$$\n",
    "\n",
    "\n",
    "在具有一期阿罗证券序列交易的**无限期限**经济的竞争均衡中，$A^k(s)$作为**债务限制**的状态向量，限制个人$k$在$t$时刻可以发行的、在$t+1$时刻在状态$s$下支付的一期阿罗证券数量。\n",
    "\n",
    "\n",
    "这些通常被称为**自然债务限制**。\n",
    "\n",
    "显然，它们等于个人$k$即使永远不消费任何商品也能偿还的最大金额。\n",
    "\n",
    "**注意：**如果我们在零消费处有一个Inada条件，或者仅仅规定消费必须非负，那么在具有一期阿罗证券序列交易的**有限期限**经济中，就不需要施加自然债务限制。详见下文关于有限期限经济的部分。\n",
    "\n",
    "\n",
    "\n",
    "### 延续财富\n",
    "\n",
    "延续财富在将具有完整一期阿罗证券序列交易的竞争均衡贝尔曼化过程中扮演着重要角色。\n",
    "\n",
    "我们用 $K \\times 1$ 向量表示马尔可夫状态 $s$ 下的状态依赖延续财富：\n",
    "\n",
    "$$\n",
    "\\psi\\left(s\\right)=\\left[\\begin{array}{c}\n",
    "\\psi^{1}\\left(s\\right)\\\\\n",
    "\\vdots\\\\\n",
    "\\psi^{K}\\left(s\\right)\n",
    "\\end{array}\\right], \\quad s \\in \\left[\\bar{s}_1, \\ldots, \\bar{s}_n\\right]\n",
    "$$\n",
    "\n",
    "对每个个体 $k$ 的延续财富用 $n \\times 1$ 向量表示：\n",
    "\n",
    "$$\n",
    "\\psi^{k}=\\left[\\begin{array}{c}\n",
    "\\psi^{k}\\left(\\bar{s}_{1}\\right)\\\\\n",
    "\\vdots\\\\\n",
    "\\psi^{k}\\left(\\bar{s}_{n}\\right)\n",
    "\\end{array}\\right], \\quad k \\in \\left[1, \\ldots, K\\right]\n",
    "$$\n",
    "\n",
    "消费者 $k$ 的延续财富 $\\psi^k$ 满足：\n",
    "\n",
    "$$\n",
    "\\psi^k = \\left[I - Q\\right]^{-1} \\left[\\alpha_k y - y^k\\right]\n",
    "$$ (eq:continwealth)\n",
    "\n",
    "其中：\n",
    "\n",
    "$$\n",
    "y^{k}=\\left[\\begin{array}{c}\n",
    "y^{k}\\left(\\bar{s}_{1}\\right)\\\\\n",
    "\\vdots\\\\\n",
    "y^{k}\\left(\\bar{s}_{n}\\right)\n",
    "\\end{array}\\right],\\quad y=\\left[\\begin{array}{c}\n",
    "y\\left(\\bar{s}_{1}\\right)\\\\\n",
    "\\vdots\\\\\n",
    "y\\left(\\bar{s}_{n}\\right)\n",
    "\\end{array}\\right]\n",
    "$$\n",
    "\n",
    "注意 $\\sum_{k=1}^K \\psi^k = {0}_{n \\times 1}$。\n",
    "\n",
    "**注释：** 在初始状态 $s_0 \\in \\begin{bmatrix} \\bar s_1, \\ldots, \\bar s_n \\end{bmatrix}$ 时，所有代理人 $k = 1, \\ldots, K$ 的延续财富 $\\psi^k(s_0) = 0$。这表明在时间 $0$、状态 $s_0$ 时，经济中的所有代理人都没有债务和金融资产。\n",
    "\n",
    "**注释：** 请注意，当马尔可夫状态回到时间 $0$ 时的任何值 $s_0$ 时，所有代理人的延续财富都会周期性地回到零。\n",
    "\n",
    "### 最优投资组合\n",
    "\n",
    "该模型的一个巧妙特点是，k 类型代理人的最优投资组合等于我们刚刚计算的延续财富。\n",
    "\n",
    "因此，k 类代理人在下一期对箭头证券的逐状态购买仅取决于下一期的马尔可夫状态，且等于\n",
    "\n",
    "$$\n",
    "a_k(s) = \\psi^k(s), \\quad s \\in \\left[\\bar s_1, \\ldots, \\bar s_n \\right]\n",
    "$$ (eqn:optport)\n",
    "\n",
    "### 均衡财富分布 $\\alpha$\n",
    "\n",
    "当初始状态为特定状态 $s_0 \\in \\left[\\bar{s}_1, \\ldots, \\bar{s}_n\\right]$ 时，\n",
    "\n",
    "我们必须有\n",
    "\n",
    "$$\n",
    "\\psi^k\\left(s_0\\right) = 0, \\quad k=1, \\ldots, K\n",
    "$$\n",
    "\n",
    "这意味着财富的均衡分布满足\n",
    "\n",
    "$$\n",
    "\\alpha_k = \\frac{V_z y^k}{V_z y}\n",
    "$$ (eqn:alphakform)\n",
    "\n",
    "其中 $V \\equiv \\left[I - Q\\right]^{-1}$ 且 $z$ 是对应于初始状态 $s_0$ 的行索引。\n",
    "\n",
    "由于 $\\sum_{k=1}^K V_z y^k = V_z y$，所以 $\\sum_{k=1}^K \\alpha_k = 1$。\n",
    "\n",
    "总之，计算竞争均衡的算法逻辑流程如下：\n",
    "\n",
    "* 根据总体配置和公式 {eq}`eq:Qformula` 计算 $Q$\n",
    "\n",
    "* 根据公式 {eq}`eqn:alphakform` 计算财富分布 $\\alpha$\n",
    "\n",
    "* 使用 $\\alpha$ 为每个消费者 $k$ 分配总体禀赋在每个状态下的份额 $\\alpha_k$\n",
    "\n",
    "* 返回到依赖于 $\\alpha$ 的公式 {eq}`eq:continwealth` 并计算延续财富\n",
    "\n",
    "* 通过公式 {eq}`eqn:optport` 使代理人 $k$ 的投资组合在每个状态下等于其延续财富\n",
    "\n",
    "我们还可以在完整的一期状态或有Arrow证券交易的竞争均衡中添加最优值函数的公式。\n",
    "\n",
    "对消费者$k$，将最优值函数称为$J^k$。\n",
    "\n",
    "对于现在研究的无限期限经济，公式为\n",
    "\n",
    "$$ J^k = (I - \\beta P)^{-1} u(\\alpha_k y)  , \\quad u(c) = \\frac{c^{1-\\gamma}}{1-\\gamma} $$\n",
    "\n",
    "其中$u(\\alpha_k y)$被理解为一个向量。\n",
    "\n",
    "## 有限期限\n",
    "\n",
    "我们现在描述一个在$T+1$期内运行的有限期限版本经济，时期$t \\in {\\bf T} = \\{ 0, 1, \\ldots, T\\}$。\n",
    "\n",
    "因此，我们需要上述对象的$T+1$个对应物，但有一个重要的例外：我们不需要**借贷限制**。\n",
    "\n",
    "* 对于有限期限经济，如果一期效用函数$u(c)$满足在零消费时边际效用为零的Inada条件，则不需要借贷限制。\n",
    "\n",
    "* 在所有时间点 $t \\in {\\bf T}$ 上消费选择的非负性自动限制了借贷。\n",
    "\n",
    "\n",
    "### 延续财富\n",
    "\n",
    "\n",
    "我们用 $K \\times 1$ 向量表示在时间 $t$ 马尔可夫状态 $s$ 下的状态依赖延续财富：\n",
    "\n",
    "$$\n",
    "\\psi_t\\left(s\\right)=\\left[\\begin{array}{c}\n",
    "\\psi^{1}\\left(s\\right)\\\\\n",
    "\\vdots\\\\\n",
    "\\psi^{K}\\left(s\\right)\n",
    "\\end{array}\\right], \\quad s \\in \\left[\\bar{s}_1, \\ldots, \\bar{s}_n\\right]\n",
    "$$\n",
    "\n",
    "以及每个个体 $k$ 的 $n \\times 1$ 延续财富向量：\n",
    "\n",
    "$$\n",
    "\\psi_t^{k}=\\left[\\begin{array}{c}\n",
    "\\psi_t^{k}\\left(\\bar{s}_{1}\\right)\\\\\n",
    "\\vdots\\\\\n",
    "\\psi_t^{k}\\left(\\bar{s}_{n}\\right)\n",
    "\\end{array}\\right], \\quad k \\in \\left[1, \\ldots, K\\right]\n",
    "$$\n",
    "\n",
    "\n",
    "\n",
    "消费者 $k$ 的延续财富 $\\psi^k$ 满足：\n",
    "\n",
    "$$\n",
    "\\begin{aligned}\n",
    "\\psi_T^k & =  \\left[\\alpha_k y - y^k\\right] \\cr\n",
    "\\psi_{T-1}^k & =  \\left[I + Q \\right] \\left[\\alpha_k y - y^k\\right] \\cr\n",
    "\\vdots \\quad  & \\quad \\quad \\quad \\vdots \\cr\n",
    "\n",
    "\\psi_0^k  & = \\left[I + Q + Q^2 + \\cdots + Q^T \\right] \\left[\\alpha_k y - y^k\\right]\n",
    "\\end{aligned}\n",
    "$$ (eq:vv)\n",
    "\n",
    "其中\n",
    "\n",
    "$$\n",
    "y^{k}=\\left[\\begin{array}{c}\n",
    "y^{k}\\left(\\bar{s}_{1}\\right)\\\\\n",
    "\\vdots\\\\\n",
    "y^{k}\\left(\\bar{s}_{n}\\right)\n",
    "\\end{array}\\right],\\quad y=\\left[\\begin{array}{c}\n",
    "y\\left(\\bar{s}_{1}\\right)\\\\\n",
    "\\vdots\\\\\n",
    "y\\left(\\bar{s}_{n}\\right)\n",
    "\\end{array}\\right]\n",
    "$$\n",
    "\n",
    "注意对于所有 $t \\in {\\bf T}$，$\\sum_{k=1}^K \\psi_t^k = {0}_{n \\times 1}$。\n",
    "\n",
    "**注解：** 在初始状态 $s_0 \\in \\begin{bmatrix} \\bar s_1, \\ldots, \\bar s_n \\end{bmatrix}$ 时，对于所有代理人 $k = 1, \\ldots, K$，延续财富 $\\psi_0^k(s_0) = 0$。这表明经济在时间0、状态$s_0$时，所有代理人都没有债务和金融资产。\n",
    "\n",
    "**注解：** 注意当马尔可夫状态回到时间0时的初始值$s_0$时，所有代理人的延续财富都会回到零。如果马尔可夫链使初始状态$s_0$成为循环状态，这种情况会重复发生。\n",
    "\n",
    "初始状态为特定状态$s_0 \\in \\left[\\bar{s}_1, \\ldots, \\bar{s}_n\\right]$时，我们必须有\n",
    "\n",
    "$$\n",
    "\\psi_0^k\\left(s_0\\right) = 0, \\quad k=1, \\ldots, K\n",
    "$$\n",
    "\n",
    "这意味着财富的均衡分布满足\n",
    "\n",
    "$$\n",
    "\\alpha_k = \\frac{V_z y^k}{V_z y}\n",
    "$$ (eq:w)\n",
    "\n",
    "其中在我们的有限期限经济中\n",
    "\n",
    "$$\n",
    " V = \\left[I + Q + Q^2 + \\cdots + Q^T \\right]\n",
    "$$ (eq:ww)\n",
    "\n",
    "且$z$是对应于初始状态$s_0$的行索引。\n",
    "\n",
    "由于$\\sum_{k=1}^K V_z y^k = V_z y$，所以$\\sum_{k=1}^K \\alpha_k = 1$。\n",
    "\n",
    "总之，以下是在我们的有限期限马尔可夫经济中计算带有阿罗证券的竞争均衡的算法逻辑流程：\n",
    "\n",
    "* 根据总体配置和公式{eq}`eq:Qformula`计算$Q$\n",
    "\n",
    "* 根据公式{eq}`eq:w`和{eq}`eq:ww`计算财富分布$\\alpha$\n",
    "\n",
    "* 使用$\\alpha$，为每个消费者$k$分配总体禀赋在每个状态下的份额$\\alpha_k$\n",
    "\n",
    "* 返回到依赖于$\\alpha$的公式{eq}`eq:vv`计算延续财富\n",
    "\n",
    "* 将代理人$k$的投资组合与其延续财富在各个状态下对应\n",
    "\n",
    "对于无限期限经济，价值函数的公式是\n",
    "\n",
    "$$ J^k = (I - \\beta P)^{-1} u(\\alpha_k y)  , \\quad u(c) = \\frac{c^{1-\\gamma}}{1-\\gamma} $$\n",
    "\n",
    "对于有限期限经济，公式是\n",
    "\n",
    "$$ J_0^k = (I + \\beta P + \\cdots + \\beta^T P^T) u(\\alpha_k y) , $$\n",
    "\n",
    "其中$u(\\alpha_k y)$是一个向量。\n",
    "\n",
    "## Python代码\n",
    "\n",
    "现在我们准备深入一些Python代码。\n",
    "\n",
    "像往常一样，我们先导入Python库。"
   ]
  },
  {
   "cell_type": "code",
   "execution_count": 1,
   "id": "1fd78862",
   "metadata": {},
   "outputs": [],
   "source": [
    "import numpy as np\n",
    "import matplotlib.pyplot as plt\n",
    "import matplotlib as mpl\n",
    "FONTPATH = \"fonts/SourceHanSerifSC-SemiBold.otf\"\n",
    "mpl.font_manager.fontManager.addfont(FONTPATH)\n",
    "plt.rcParams['font.family'] = ['Source Han Serif SC']\n"
   ]
  },
  {
   "cell_type": "code",
   "execution_count": 2,
   "id": "b6fcca2a",
   "metadata": {},
   "outputs": [],
   "source": [
    "np.set_printoptions(suppress=True)"
   ]
  },
  {
   "cell_type": "markdown",
   "id": "d15a4e2c",
   "metadata": {},
   "source": [
    "首先，我们创建一个Python类来计算包含单期Arrow证券连续交易的竞争均衡对象。\n",
    "\n",
    "除了无限期限经济外，该代码还可以处理以期限$T$为索引的有限期限经济。\n",
    "\n",
    "在我们先看一些无限期限经济的例子之前，我们将研究一些有限期限经济的例子。"
   ]
  },
  {
   "cell_type": "code",
   "execution_count": 3,
   "id": "2b1b613c",
   "metadata": {},
   "outputs": [],
   "source": [
    "class RecurCompetitive:\n",
    "    \"\"\"\n",
    "    表示具有单期Arrow证券的递归竞争经济的类。\n",
    "    \"\"\"\n",
    "\n",
    "    def __init__(self,\n",
    "                 s,        # 状态向量\n",
    "                 P,        # 转移矩阵\n",
    "                 ys,       # 禀赋 ys = [y1, y2, .., yI]\n",
    "                 γ=0.5,    # 风险厌恶\n",
    "                 β=0.98,   # 贴现率\n",
    "                 T=None):  # 时间范围，无限期则为none\n",
    "\n",
    "        # 偏好参数\n",
    "        self.γ = γ\n",
    "        self.β = β\n",
    "\n",
    "        # 依赖于状态的变量\n",
    "        self.s = s\n",
    "        self.P = P\n",
    "        self.ys = ys\n",
    "        self.y = np.sum(ys, 1)\n",
    "\n",
    "        # 维度\n",
    "        self.n, self.K = ys.shape\n",
    "\n",
    "        # 计算定价核\n",
    "        self.Q = self.pricing_kernel()\n",
    "\n",
    "        # 计算无风险一期债券价格\n",
    "        self.PRF = self.price_risk_free_bond()\n",
    "\n",
    "        # 计算无风险利率\n",
    "        self.R = self.risk_free_rate()\n",
    "\n",
    "        # V = [I - Q]^{-1} (无限期情况)\n",
    "        if T is None:\n",
    "            self.T = None\n",
    "            self.V = np.empty((1, n, n))\n",
    "            self.V[0] = np.linalg.inv(np.eye(n) - self.Q)\n",
    "        # V = [I + Q + Q^2 + ... + Q^T] (有限期情况)\n",
    "        else:\n",
    "            self.T = T\n",
    "            self.V = np.empty((T+1, n, n))\n",
    "            self.V[0] = np.eye(n)\n",
    "\n",
    "            Qt = np.eye(n)\n",
    "            for t in range(1, T+1):\n",
    "                Qt = Qt.dot(self.Q)\n",
    "                self.V[t] = self.V[t-1] + Qt\n",
    "\n",
    "        # 自然债务限制\n",
    "        self.A = self.V[-1] @ ys\n",
    "\n",
    "    def u(self, c):\n",
    "        \"CRRA效用函数\"\n",
    "\n",
    "        return c ** (1 - self.γ) / (1 - self.γ)\n",
    "\n",
    "    def u_prime(self, c):\n",
    "        \"CRRA效用函数的一阶导数\"\n",
    "\n",
    "        return c ** (-self.γ)\n",
    "\n",
    "    def pricing_kernel(self):\n",
    "        \"计算定价核矩阵Q\"\n",
    "\n",
    "        c = self.y\n",
    "\n",
    "        n = self.n\n",
    "        Q = np.empty((n, n))\n",
    "        for i in range(n):\n",
    "            for j in range(n):\n",
    "                ratio = self.u_prime(c[j]) / self.u_prime(c[i])\n",
    "                Q[i, j] = self.β * ratio * P[i, j]\n",
    "\n",
    "        self.Q = Q\n",
    "\n",
    "        return Q\n",
    "\n",
    "    def wealth_distribution(self, s0_idx):\n",
    "        \"求解财富分布α\"\n",
    "\n",
    "        # 设置初始状态\n",
    "        self.s0_idx = s0_idx\n",
    "\n",
    "        # 简化符号\n",
    "        n = self.n\n",
    "        Q = self.Q\n",
    "        y, ys = self.y, self.ys\n",
    "\n",
    "        # V对应s0的行\n",
    "        Vs0 = self.V[-1, s0_idx, :]\n",
    "        α = Vs0 @ self.ys / (Vs0 @ self.y)\n",
    "\n",
    "        self.α = α\n",
    "\n",
    "        return α\n",
    "\n",
    "    def continuation_wealths(self):\n",
    "        \"给定α，计算延续财富ψ\"\n",
    "\n",
    "        diff = np.empty((n, K))\n",
    "        for k in range(K):\n",
    "            diff[:, k] = self.α[k] * self.y - self.ys[:, k]\n",
    "\n",
    "        ψ = self.V @ diff\n",
    "        self.ψ = ψ\n",
    "\n",
    "        return ψ\n",
    "\n",
    "    def price_risk_free_bond(self):\n",
    "        \"给定Q，计算一期无风险债券价格\"\n",
    "\n",
    "        PRF = np.sum(self.Q, 0)\n",
    "        self.PRF = PRF\n",
    "\n",
    "        return PRF\n",
    "\n",
    "    def risk_free_rate(self):\n",
    "        \"给定Q，计算一期无风险利率R\"\n",
    "\n",
    "        R = np.sum(self.Q, 0)\n",
    "        R = np.reciprocal(R)\n",
    "        self.R = R\n",
    "\n",
    "        return R\n",
    "\n",
    "    def value_functionss(self):\n",
    "        \"给定α，计算均衡中的最优价值函数J\"\n",
    "\n",
    "        n, T = self.n, self.T\n",
    "        β = self.β\n",
    "        P = self.P\n",
    "\n",
    "        # 计算无限期情况下的(I - βP)^(-1)\n",
    "        if T is None:\n",
    "            P_seq = np.empty((1, n, n))\n",
    "            P_seq[0] = np.linalg.inv(np.eye(n) - β * P)\n",
    "        # 以及有限期情况下的(I + βP + ... + β^T P^T)\n",
    "        else:\n",
    "            P_seq = np.empty((T+1, n, n))\n",
    "            P_seq[0] = np.eye(n)\n",
    "\n",
    "            Pt = np.eye(n)\n",
    "            for t in range(1, T+1):\n",
    "                Pt = Pt.dot(P)\n",
    "                P_seq[t] = P_seq[t-1] + Pt * β ** t\n",
    "\n",
    "        # 计算矩阵[u(α_1 y), ..., u(α_K, y)]\n",
    "        flow = np.empty((n, K))\n",
    "        for k in range(K):\n",
    "            flow[:, k] = self.u(self.α[k] * self.y)\n",
    "\n",
    "        J = P_seq @ flow\n",
    "\n",
    "        self.J = J\n",
    "\n",
    "        return J"
   ]
  },
  {
   "cell_type": "markdown",
   "id": "fcd2e000",
   "metadata": {},
   "source": [
    "## 示例\n",
    "\n",
    "我们将使用代码在几个示例经济中构建均衡对象。\n",
    "\n",
    "我们的前几个示例将是无限期限经济。\n",
    "\n",
    "我们的最后一个示例将是有限期限经济。\n",
    "\n",
    "### 示例 1\n",
    "\n",
    "请阅读前面课程中的默认参数值以及以下 Python 代码中的经济基本要素。\n",
    "\n",
    "开始。"
   ]
  },
  {
   "cell_type": "code",
   "execution_count": 4,
   "id": "69843b0d",
   "metadata": {},
   "outputs": [],
   "source": [
    "# dimensions\n",
    "K, n = 2, 2\n",
    "\n",
    "# states\n",
    "s = np.array([0, 1])\n",
    "\n",
    "# transition\n",
    "P = np.array([[.5, .5], [.5, .5]])\n",
    "\n",
    "# endowments\n",
    "ys = np.empty((n, K))\n",
    "ys[:, 0] = 1 - s       # y1\n",
    "ys[:, 1] = s           # y2"
   ]
  },
  {
   "cell_type": "code",
   "execution_count": 5,
   "id": "26219087",
   "metadata": {},
   "outputs": [],
   "source": [
    "ex1 = RecurCompetitive(s, P, ys)"
   ]
  },
  {
   "cell_type": "code",
   "execution_count": 6,
   "id": "be46166f",
   "metadata": {},
   "outputs": [
    {
     "data": {
      "text/plain": [
       "array([[1., 0.],\n",
       "       [0., 1.]])"
      ]
     },
     "execution_count": 6,
     "metadata": {},
     "output_type": "execute_result"
    }
   ],
   "source": [
    "# 禀赋\n",
    "ex1.ys"
   ]
  },
  {
   "cell_type": "code",
   "execution_count": 7,
   "id": "f923e144",
   "metadata": {},
   "outputs": [
    {
     "data": {
      "text/plain": [
       "array([[0.49, 0.49],\n",
       "       [0.49, 0.49]])"
      ]
     },
     "execution_count": 7,
     "metadata": {},
     "output_type": "execute_result"
    }
   ],
   "source": [
    "# 定价核\n",
    "ex1.Q"
   ]
  },
  {
   "cell_type": "code",
   "execution_count": 8,
   "id": "e81bd307",
   "metadata": {},
   "outputs": [
    {
     "data": {
      "text/plain": [
       "array([1.02040816, 1.02040816])"
      ]
     },
     "execution_count": 8,
     "metadata": {},
     "output_type": "execute_result"
    }
   ],
   "source": [
    "# 无风险利率 R\n",
    "ex1.R"
   ]
  },
  {
   "cell_type": "code",
   "execution_count": 9,
   "id": "41d803d8",
   "metadata": {},
   "outputs": [
    {
     "data": {
      "text/plain": [
       "array([[25.5, 24.5],\n",
       "       [24.5, 25.5]])"
      ]
     },
     "execution_count": 9,
     "metadata": {},
     "output_type": "execute_result"
    }
   ],
   "source": [
    "# 自然债务限制，A = [A1, A2, ..., AI]\n",
    "ex1.A"
   ]
  },
  {
   "cell_type": "code",
   "execution_count": 10,
   "id": "67863a0d",
   "metadata": {},
   "outputs": [
    {
     "name": "stdout",
     "output_type": "stream",
     "text": [
      "α = [0.51 0.49]\n",
      "ψ = \n",
      "[[[-0.  0.]\n",
      "  [ 1. -1.]]]\n",
      "J = \n",
      "[[[71.41428429 70.        ]\n",
      "  [71.41428429 70.        ]]]\n"
     ]
    }
   ],
   "source": [
    "# 当初始状态为状态1时\n",
    "print(f'α = {ex1.wealth_distribution(s0_idx=0)}')\n",
    "print(f'ψ = \\n{ex1.continuation_wealths()}')\n",
    "print(f'J = \\n{ex1.value_functionss()}')"
   ]
  },
  {
   "cell_type": "code",
   "execution_count": 11,
   "id": "44068f27",
   "metadata": {},
   "outputs": [
    {
     "name": "stdout",
     "output_type": "stream",
     "text": [
      "α = [0.49 0.51]\n",
      "ψ = \n",
      "[[[-1.  1.]\n",
      "  [ 0. -0.]]]\n",
      "J = \n",
      "[[[70.         71.41428429]\n",
      "  [70.         71.41428429]]]\n"
     ]
    }
   ],
   "source": [
    "# 当初始状态为状态2时\n",
    "print(f'α = {ex1.wealth_distribution(s0_idx=1)}')\n",
    "print(f'ψ = \\n{ex1.continuation_wealths()}')\n",
    "print(f'J = \\n{ex1.value_functionss()}')"
   ]
  },
  {
   "cell_type": "markdown",
   "id": "4d780130",
   "metadata": {},
   "source": [
    "### 示例 2"
   ]
  },
  {
   "cell_type": "code",
   "execution_count": 12,
   "id": "adb7b381",
   "metadata": {},
   "outputs": [],
   "source": [
    "# 维度\n",
    "K, n = 2, 2\n",
    "\n",
    "# 状态\n",
    "s = np.array([1, 2])\n",
    "\n",
    "# 转移\n",
    "P = np.array([[.5, .5], [.5, .5]])\n",
    "\n",
    "# 禀赋\n",
    "ys = np.empty((n, K))\n",
    "ys[:, 0] = 1.5         # y1\n",
    "ys[:, 1] = s           # y2"
   ]
  },
  {
   "cell_type": "code",
   "execution_count": 13,
   "id": "a332eb81",
   "metadata": {},
   "outputs": [],
   "source": [
    "ex2 = RecurCompetitive(s, P, ys)"
   ]
  },
  {
   "cell_type": "code",
   "execution_count": 14,
   "id": "ca3fadf9",
   "metadata": {},
   "outputs": [
    {
     "name": "stdout",
     "output_type": "stream",
     "text": [
      "ys = \n",
      " [[1.5 1. ]\n",
      " [1.5 2. ]]\n",
      "Q = \n",
      " [[0.49       0.41412558]\n",
      " [0.57977582 0.49      ]]\n",
      "R =  [0.93477529 1.10604104]\n"
     ]
    }
   ],
   "source": [
    "# 禀赋\n",
    "\n",
    "print(\"ys = \\n\", ex2.ys)\n",
    "\n",
    "# 定价核\n",
    "print (\"Q = \\n\", ex2.Q)\n",
    "\n",
    "# 无风险利率 R\n",
    "print(\"R = \", ex2.R)"
   ]
  },
  {
   "cell_type": "code",
   "execution_count": 15,
   "id": "55830cf7",
   "metadata": {},
   "outputs": [
    {
     "data": {
      "text/plain": [
       "array([[0.49      , 0.41412558],\n",
       "       [0.57977582, 0.49      ]])"
      ]
     },
     "execution_count": 15,
     "metadata": {},
     "output_type": "execute_result"
    }
   ],
   "source": [
    "# 定价核\n",
    "ex2.Q"
   ]
  },
  {
   "cell_type": "markdown",
   "id": "bcd27477",
   "metadata": {},
   "source": [
    "请注意示例经济1和2中的定价核心是不同的。\n",
    "\n",
    "这源于示例1中状态1和状态2的总体禀赋的差异。"
   ]
  },
  {
   "cell_type": "code",
   "execution_count": 16,
   "id": "a3d8a87c",
   "metadata": {},
   "outputs": [
    {
     "data": {
      "text/plain": [
       "0.4141255848169731"
      ]
     },
     "execution_count": 16,
     "metadata": {},
     "output_type": "execute_result"
    }
   ],
   "source": [
    "ex2.β * ex2.u_prime(3.5) / ex2.u_prime(2.5) * ex2.P[0,1]"
   ]
  },
  {
   "cell_type": "code",
   "execution_count": 17,
   "id": "ce7cf446",
   "metadata": {},
   "outputs": [
    {
     "data": {
      "text/plain": [
       "0.5797758187437624"
      ]
     },
     "execution_count": 17,
     "metadata": {},
     "output_type": "execute_result"
    }
   ],
   "source": [
    "ex2.β * ex2.u_prime(2.5) / ex2.u_prime(3.5) * ex2.P[1,0]"
   ]
  },
  {
   "cell_type": "code",
   "execution_count": 18,
   "id": "110274ea",
   "metadata": {},
   "outputs": [
    {
     "data": {
      "text/plain": [
       "array([0.93477529, 1.10604104])"
      ]
     },
     "execution_count": 18,
     "metadata": {},
     "output_type": "execute_result"
    }
   ],
   "source": [
    "# 无风险利率 R\n",
    "ex2.R"
   ]
  },
  {
   "cell_type": "code",
   "execution_count": 19,
   "id": "7b625e7a",
   "metadata": {},
   "outputs": [
    {
     "data": {
      "text/plain": [
       "array([[69.30941886, 66.91255848],\n",
       "       [81.73318641, 79.98879094]])"
      ]
     },
     "execution_count": 19,
     "metadata": {},
     "output_type": "execute_result"
    }
   ],
   "source": [
    "# 自然债务限制，A = [A1, A2, ..., AI]\n",
    "ex2.A"
   ]
  },
  {
   "cell_type": "code",
   "execution_count": 20,
   "id": "f7d9a4ac",
   "metadata": {},
   "outputs": [
    {
     "name": "stdout",
     "output_type": "stream",
     "text": [
      "α = [0.50879763 0.49120237]\n",
      "ψ = \n",
      "[[[-0.          0.        ]\n",
      "  [ 0.55057195 -0.55057195]]]\n",
      "J = \n",
      "[[[122.907875   120.76397493]\n",
      "  [123.32114686 121.17003803]]]\n"
     ]
    }
   ],
   "source": [
    "# 当初始状态为状态1时\n",
    "print(f'α = {ex2.wealth_distribution(s0_idx=0)}')\n",
    "print(f'ψ = \\n{ex2.continuation_wealths()}')\n",
    "print(f'J = \\n{ex2.value_functionss()}')"
   ]
  },
  {
   "cell_type": "code",
   "execution_count": 21,
   "id": "f4fac0bd",
   "metadata": {},
   "outputs": [
    {
     "name": "stdout",
     "output_type": "stream",
     "text": [
      "α = [0.50539319 0.49460681]\n",
      "ψ = \n",
      "[[[-0.46375886  0.46375886]\n",
      "  [ 0.         -0.        ]]]\n",
      "J = \n",
      "[[[122.49598809 121.18174895]\n",
      "  [122.907875   121.58921679]]]\n"
     ]
    }
   ],
   "source": [
    "# 当初始状态为状态1时\n",
    "print(f'α = {ex2.wealth_distribution(s0_idx=1)}')\n",
    "print(f'ψ = \\n{ex2.continuation_wealths()}')\n",
    "print(f'J = \\n{ex2.value_functionss()}')"
   ]
  },
  {
   "cell_type": "markdown",
   "id": "f89876e9",
   "metadata": {},
   "source": [
    "### 示例 3"
   ]
  },
  {
   "cell_type": "code",
   "execution_count": 22,
   "id": "8bef96d1",
   "metadata": {},
   "outputs": [],
   "source": [
    "# 维度\n",
    "K, n = 2, 2\n",
    "\n",
    "# 状态\n",
    "s = np.array([1, 2])\n",
    "\n",
    "# 转移\n",
    "λ = 0.9\n",
    "P = np.array([[1-λ, λ], [0, 1]])\n",
    "\n",
    "# 禀赋\n",
    "ys = np.empty((n, K))\n",
    "ys[:, 0] = [1, 0]         # y1\n",
    "ys[:, 1] = [0, 1]         # y2"
   ]
  },
  {
   "cell_type": "code",
   "execution_count": 23,
   "id": "849e039d",
   "metadata": {},
   "outputs": [],
   "source": [
    "ex3 = RecurCompetitive(s, P, ys)"
   ]
  },
  {
   "cell_type": "code",
   "execution_count": 24,
   "id": "2456781a",
   "metadata": {},
   "outputs": [
    {
     "name": "stdout",
     "output_type": "stream",
     "text": [
      "ys =  [[1. 0.]\n",
      " [0. 1.]]\n",
      "Q =  [[0.098 0.882]\n",
      " [0.    0.98 ]]\n",
      "R =  [10.20408163  0.53705693]\n"
     ]
    }
   ],
   "source": [
    "# 禀赋\n",
    "\n",
    "print(\"ys = \", ex3.ys)\n",
    "\n",
    "# 定价核\n",
    "print (\"Q = \", ex3.Q)\n",
    "\n",
    "# 无风险利率 R\n",
    "print(\"R = \", ex3.R)"
   ]
  },
  {
   "cell_type": "code",
   "execution_count": 25,
   "id": "1afd96d9",
   "metadata": {},
   "outputs": [
    {
     "data": {
      "text/plain": [
       "array([[0.098, 0.882],\n",
       "       [0.   , 0.98 ]])"
      ]
     },
     "execution_count": 25,
     "metadata": {},
     "output_type": "execute_result"
    }
   ],
   "source": [
    "# 定价核\n",
    "ex3.Q"
   ]
  },
  {
   "cell_type": "code",
   "execution_count": 26,
   "id": "f084625e",
   "metadata": {},
   "outputs": [
    {
     "data": {
      "text/plain": [
       "array([[ 1.10864745, 48.89135255],\n",
       "       [ 0.        , 50.        ]])"
      ]
     },
     "execution_count": 26,
     "metadata": {},
     "output_type": "execute_result"
    }
   ],
   "source": [
    "# 自然债务限制，A = [A1, A2, ..., AI]\n",
    "ex3.A"
   ]
  },
  {
   "cell_type": "markdown",
   "id": "06078ccc",
   "metadata": {},
   "source": [
    "注意代理人$1$在状态$2$下的自然债务限制为$0$。"
   ]
  },
  {
   "cell_type": "code",
   "execution_count": 27,
   "id": "944805cd",
   "metadata": {},
   "outputs": [
    {
     "name": "stdout",
     "output_type": "stream",
     "text": [
      "α = [0.02217295 0.97782705]\n",
      "ψ = \n",
      "[[[ 0.         -0.        ]\n",
      "  [ 1.10864745 -1.10864745]]]\n",
      "J = \n",
      "[[[14.89058394 98.88513796]\n",
      "  [14.89058394 98.88513796]]]\n"
     ]
    }
   ],
   "source": [
    "# 当初始状态为状态1时\n",
    "print(f'α = {ex3.wealth_distribution(s0_idx=0)}')\n",
    "print(f'ψ = \\n{ex3.continuation_wealths()}')\n",
    "print(f'J = \\n{ex3.value_functionss()}')"
   ]
  },
  {
   "cell_type": "code",
   "execution_count": 28,
   "id": "81cd9044",
   "metadata": {},
   "outputs": [
    {
     "name": "stdout",
     "output_type": "stream",
     "text": [
      "α = [0. 1.]\n",
      "ψ = \n",
      "[[[-1.10864745  1.10864745]\n",
      "  [ 0.          0.        ]]]\n",
      "J = \n",
      "[[[  0. 100.]\n",
      "  [  0. 100.]]]\n"
     ]
    }
   ],
   "source": [
    "# 当初始状态为状态1时\n",
    "print(f'α = {ex3.wealth_distribution(s0_idx=1)}')\n",
    "print(f'ψ = \\n{ex3.continuation_wealths()}')\n",
    "print(f'J = \\n{ex3.value_functionss()}')"
   ]
  },
  {
   "cell_type": "markdown",
   "id": "e73be7de",
   "metadata": {},
   "source": [
    "让我们看看在示例3的马尔可夫链规范中，均衡分配是如何随转移概率$\\lambda$变化的。"
   ]
  },
  {
   "cell_type": "code",
   "execution_count": 29,
   "id": "7f3c56fe",
   "metadata": {},
   "outputs": [],
   "source": [
    "λ_seq = np.linspace(0, 0.99, 100)\n",
    "\n",
    "# 准备容器\n",
    "αs0_seq = np.empty((len(λ_seq), 2))\n",
    "αs1_seq = np.empty((len(λ_seq), 2))\n",
    "\n",
    "for i, λ in enumerate(λ_seq):\n",
    "    P = np.array([[1-λ, λ], [0, 1]])\n",
    "    ex3 = RecurCompetitive(s, P, ys)\n",
    "\n",
    "    # 初始状态 s0 = 1\n",
    "    α = ex3.wealth_distribution(s0_idx=0)\n",
    "    αs0_seq[i, :] = α\n",
    "\n",
    "    # 初始状态 s0 = 2\n",
    "    α = ex3.wealth_distribution(s0_idx=1)\n",
    "    αs1_seq[i, :] = α"
   ]
  },
  {
   "cell_type": "code",
   "execution_count": 30,
   "id": "32d0b222",
   "metadata": {},
   "outputs": [
    {
     "data": {
      "image/png": "[encoded data removed]",
      "text/plain": [
       "<Figure size 1200x400 with 2 Axes>"
      ]
     },
     "metadata": {},
     "output_type": "display_data"
    }
   ],
   "source": [
    "fig, axs = plt.subplots(1, 2, figsize=(12, 4))\n",
    "\n",
    "for i, αs_seq in enumerate([αs0_seq, αs1_seq]):\n",
    "    for j in range(2):\n",
    "        axs[i].plot(λ_seq, αs_seq[:, j], label=f'α{j+1}')\n",
    "        axs[i].set_xlabel('λ')\n",
    "        axs[i].set_title(f'初始状态 s0 = {s[i]}')\n",
    "        axs[i].legend()\n",
    "\n",
    "plt.show()"
   ]
  },
  {
   "cell_type": "markdown",
   "id": "b9f7aa01",
   "metadata": {},
   "source": [
    "### 示例 4"
   ]
  },
  {
   "cell_type": "code",
   "execution_count": 31,
   "id": "4d519193",
   "metadata": {},
   "outputs": [],
   "source": [
    "# 维度\n",
    "K, n = 2, 3\n",
    "\n",
    "# 状态\n",
    "s = np.array([1, 2, 3])\n",
    "\n",
    "# 转移\n",
    "λ = .9\n",
    "μ = .9\n",
    "δ = .05\n",
    "\n",
    "# 繁荣、适中和衰退状态\n",
    "P = np.array([[1-λ, λ, 0], [μ/2, μ, μ/2], [(1-δ)/2, (1-δ)/2, δ]])\n",
    "\n",
    "# 禀赋\n",
    "ys = np.empty((n, K))\n",
    "ys[:, 0] = [.25, .75, .2]       # y1\n",
    "ys[:, 1] = [1.25, .25, .2]      # y2"
   ]
  },
  {
   "cell_type": "code",
   "execution_count": 32,
   "id": "81c5cad1",
   "metadata": {},
   "outputs": [],
   "source": [
    "ex4 = RecurCompetitive(s, P, ys)"
   ]
  },
  {
   "cell_type": "code",
   "execution_count": 33,
   "id": "319c5dd5",
   "metadata": {},
   "outputs": [
    {
     "name": "stdout",
     "output_type": "stream",
     "text": [
      "ys = \n",
      " [[0.25 1.25]\n",
      " [0.75 0.25]\n",
      " [0.2  0.2 ]]\n",
      "Q = \n",
      " [[0.098      1.08022498 0.        ]\n",
      " [0.36007499 0.882      0.69728222]\n",
      " [0.24038317 0.29440805 0.049     ]]\n",
      "R =  [1.43172499 0.44313807 1.33997564]\n",
      "A = \n",
      " [[-1.4141307  -0.45854174]\n",
      " [-1.4122483  -1.54005386]\n",
      " [-0.58434331 -0.3823659 ]]\n",
      "\n",
      "当初始状态为状态 1\n",
      "α = [0.75514045 0.24485955]\n",
      "ψ = \n",
      "[[[ 0.          0.        ]\n",
      "  [-0.81715447  0.81715447]\n",
      "  [-0.14565791  0.14565791]]]\n",
      "J = \n",
      "[[[-2.65741909 -1.51322919]\n",
      "  [-5.13103133 -2.92179221]\n",
      "  [-2.65649938 -1.51270548]]]\n",
      "\n",
      "当初始状态为状态 2\n",
      "α = [0.47835493 0.52164507]\n",
      "ψ = \n",
      "[[[ 0.5183286  -0.5183286 ]\n",
      "  [ 0.         -0.        ]\n",
      "  [ 0.12191319 -0.12191319]]]\n",
      "J = \n",
      "[[[-2.11505328 -2.20868477]\n",
      "  [-4.08381377 -4.26460049]\n",
      "  [-2.11432128 -2.20792037]]]\n",
      "\n",
      "当初始状态为状态 3\n",
      "α = [0.60446648 0.39553352]\n",
      "ψ = \n",
      "[[[ 0.28216299 -0.28216299]\n",
      "  [-0.37231938  0.37231938]\n",
      "  [ 0.         -0.        ]]]\n",
      "J = \n",
      "[[[-2.37756442 -1.92325926]\n",
      "  [-4.59067883 -3.71349163]\n",
      "  [-2.37674158 -1.92259365]]]\n",
      "\n"
     ]
    }
   ],
   "source": [
    "# 禀赋\n",
    "print(\"ys = \\n\", ex4.ys)\n",
    "\n",
    "# 定价核\n",
    "print (\"Q = \\n\", ex4.Q)\n",
    "\n",
    "# 无风险利率 R\n",
    "print(\"R = \", ex4.R)\n",
    "\n",
    "# 自然债务限制, A = [A1, A2, ..., AI]\n",
    "print(\"A = \\n\", ex4.A)\n",
    "\n",
    "print('')\n",
    "\n",
    "for i in range(1, 4):\n",
    "    # 当初始状态为状态i时\n",
    "    print(f\"当初始状态为状态 {i}\")\n",
    "    print(f'α = {ex4.wealth_distribution(s0_idx=i-1)}')\n",
    "    print(f'ψ = \\n{ex4.continuation_wealths()}')\n",
    "    print(f'J = \\n{ex4.value_functionss()}\\n')"
   ]
  },
  {
   "cell_type": "markdown",
   "id": "5fc2ff05",
   "metadata": {},
   "source": [
    "### 有限期限示例\n",
    "\n",
    "我们现在重新审视示例1中定义的经济，但将时间期限设为$T=10$。"
   ]
  },
  {
   "cell_type": "code",
   "execution_count": 34,
   "id": "366116fc",
   "metadata": {},
   "outputs": [],
   "source": [
    "# 维度\n",
    "K, n = 2, 2\n",
    "\n",
    "# 状态\n",
    "s = np.array([0, 1])\n",
    "\n",
    "# 转移矩阵\n",
    "P = np.array([[.5, .5], [.5, .5]])\n",
    "\n",
    "# 禀赋\n",
    "ys = np.empty((n, K))\n",
    "ys[:, 0] = 1 - s       # y1\n",
    "ys[:, 1] = s           # y2"
   ]
  },
  {
   "cell_type": "code",
   "execution_count": 35,
   "id": "78b675ab",
   "metadata": {},
   "outputs": [],
   "source": [
    "ex1_finite = RecurCompetitive(s, P, ys, T=10)"
   ]
  },
  {
   "cell_type": "code",
   "execution_count": 36,
   "id": "22e70e6f",
   "metadata": {},
   "outputs": [
    {
     "data": {
      "text/plain": [
       "array([[5.48171623, 4.48171623],\n",
       "       [4.48171623, 5.48171623]])"
      ]
     },
     "execution_count": 36,
     "metadata": {},
     "output_type": "execute_result"
    }
   ],
   "source": [
    "# (I + Q + Q^2 + ... + Q^T)\n",
    "ex1_finite.V[-1]"
   ]
  },
  {
   "cell_type": "code",
   "execution_count": 37,
   "id": "77659f5d",
   "metadata": {},
   "outputs": [
    {
     "data": {
      "text/plain": [
       "array([[1., 0.],\n",
       "       [0., 1.]])"
      ]
     },
     "execution_count": 37,
     "metadata": {},
     "output_type": "execute_result"
    }
   ],
   "source": [
    "# 禀赋\n",
    "ex1_finite.ys"
   ]
  },
  {
   "cell_type": "code",
   "execution_count": 38,
   "id": "4311b232",
   "metadata": {},
   "outputs": [
    {
     "data": {
      "text/plain": [
       "array([[0.49, 0.49],\n",
       "       [0.49, 0.49]])"
      ]
     },
     "execution_count": 38,
     "metadata": {},
     "output_type": "execute_result"
    }
   ],
   "source": [
    "# 定价核\n",
    "ex1_finite.Q"
   ]
  },
  {
   "cell_type": "code",
   "execution_count": 39,
   "id": "8ec9d151",
   "metadata": {},
   "outputs": [
    {
     "data": {
      "text/plain": [
       "array([1.02040816, 1.02040816])"
      ]
     },
     "execution_count": 39,
     "metadata": {},
     "output_type": "execute_result"
    }
   ],
   "source": [
    "# 无风险利率 R\n",
    "ex1_finite.R"
   ]
  },
  {
   "cell_type": "markdown",
   "id": "6730ebfa",
   "metadata": {},
   "source": [
    "在有限时间范围的情况下，`ψ`和`J`以序列形式返回。\n",
    "\n",
    "各组成部分按照从$t=T$到$t=0$的顺序排列。"
   ]
  },
  {
   "cell_type": "code",
   "execution_count": 40,
   "id": "46d2203c",
   "metadata": {},
   "outputs": [
    {
     "name": "stdout",
     "output_type": "stream",
     "text": [
      "α = [0.55018351 0.44981649]\n",
      "ψ = \n",
      "[[[-0.44981649  0.44981649]\n",
      "  [ 0.55018351 -0.55018351]]\n",
      "\n",
      " [[-0.40063665  0.40063665]\n",
      "  [ 0.59936335 -0.59936335]]\n",
      "\n",
      " [[-0.35244041  0.35244041]\n",
      "  [ 0.64755959 -0.64755959]]\n",
      "\n",
      " [[-0.30520809  0.30520809]\n",
      "  [ 0.69479191 -0.69479191]]\n",
      "\n",
      " [[-0.25892042  0.25892042]\n",
      "  [ 0.74107958 -0.74107958]]\n",
      "\n",
      " [[-0.21355851  0.21355851]\n",
      "  [ 0.78644149 -0.78644149]]\n",
      "\n",
      " [[-0.16910383  0.16910383]\n",
      "  [ 0.83089617 -0.83089617]]\n",
      "\n",
      " [[-0.12553824  0.12553824]\n",
      "  [ 0.87446176 -0.87446176]]\n",
      "\n",
      " [[-0.08284397  0.08284397]\n",
      "  [ 0.91715603 -0.91715603]]\n",
      "\n",
      " [[-0.04100358  0.04100358]\n",
      "  [ 0.95899642 -0.95899642]]\n",
      "\n",
      " [[-0.          0.        ]\n",
      "  [ 1.         -1.        ]]]\n",
      "\n",
      "J = \n",
      "[[[ 1.48348712  1.3413672 ]\n",
      "  [ 1.48348712  1.3413672 ]]\n",
      "\n",
      " [[ 2.9373045   2.65590706]\n",
      "  [ 2.9373045   2.65590706]]\n",
      "\n",
      " [[ 4.36204553  3.94415611]\n",
      "  [ 4.36204553  3.94415611]]\n",
      "\n",
      " [[ 5.75829174  5.20664019]\n",
      "  [ 5.75829174  5.20664019]]\n",
      "\n",
      " [[ 7.12661302  6.44387459]\n",
      "  [ 7.12661302  6.44387459]]\n",
      "\n",
      " [[ 8.46756788  7.6563643 ]\n",
      "  [ 8.46756788  7.6563643 ]]\n",
      "\n",
      " [[ 9.78170364  8.84460421]\n",
      "  [ 9.78170364  8.84460421]]\n",
      "\n",
      " [[11.06955669 10.00907933]\n",
      "  [11.06955669 10.00907933]]\n",
      "\n",
      " [[12.33165268 11.15026494]\n",
      "  [12.33165268 11.15026494]]\n",
      "\n",
      " [[13.56850674 12.26862684]\n",
      "  [13.56850674 12.26862684]]\n",
      "\n",
      " [[14.78062373 13.3646215 ]\n",
      "  [14.78062373 13.3646215 ]]]\n"
     ]
    }
   ],
   "source": [
    "# 当初始状态为状态2时\n",
    "print(f'α = {ex1_finite.wealth_distribution(s0_idx=0)}')\n",
    "print(f'ψ = \\n{ex1_finite.continuation_wealths()}\\n')\n",
    "print(f'J = \\n{ex1_finite.value_functionss()}')"
   ]
  },
  {
   "cell_type": "code",
   "execution_count": 41,
   "id": "ff213008",
   "metadata": {},
   "outputs": [
    {
     "name": "stdout",
     "output_type": "stream",
     "text": [
      "α = [0.44981649 0.55018351]\n",
      "ψ = \n",
      "[[[-0.55018351  0.55018351]\n",
      "  [ 0.44981649 -0.44981649]]\n",
      "\n",
      " [[-0.59936335  0.59936335]\n",
      "  [ 0.40063665 -0.40063665]]\n",
      "\n",
      " [[-0.64755959  0.64755959]\n",
      "  [ 0.35244041 -0.35244041]]\n",
      "\n",
      " [[-0.69479191  0.69479191]\n",
      "  [ 0.30520809 -0.30520809]]\n",
      "\n",
      " [[-0.74107958  0.74107958]\n",
      "  [ 0.25892042 -0.25892042]]\n",
      "\n",
      " [[-0.78644149  0.78644149]\n",
      "  [ 0.21355851 -0.21355851]]\n",
      "\n",
      " [[-0.83089617  0.83089617]\n",
      "  [ 0.16910383 -0.16910383]]\n",
      "\n",
      " [[-0.87446176  0.87446176]\n",
      "  [ 0.12553824 -0.12553824]]\n",
      "\n",
      " [[-0.91715603  0.91715603]\n",
      "  [ 0.08284397 -0.08284397]]\n",
      "\n",
      " [[-0.95899642  0.95899642]\n",
      "  [ 0.04100358 -0.04100358]]\n",
      "\n",
      " [[-1.          1.        ]\n",
      "  [ 0.         -0.        ]]]\n",
      "\n",
      "J = \n",
      "[[[ 1.3413672   1.48348712]\n",
      "  [ 1.3413672   1.48348712]]\n",
      "\n",
      " [[ 2.65590706  2.9373045 ]\n",
      "  [ 2.65590706  2.9373045 ]]\n",
      "\n",
      " [[ 3.94415611  4.36204553]\n",
      "  [ 3.94415611  4.36204553]]\n",
      "\n",
      " [[ 5.20664019  5.75829174]\n",
      "  [ 5.20664019  5.75829174]]\n",
      "\n",
      " [[ 6.44387459  7.12661302]\n",
      "  [ 6.44387459  7.12661302]]\n",
      "\n",
      " [[ 7.6563643   8.46756788]\n",
      "  [ 7.6563643   8.46756788]]\n",
      "\n",
      " [[ 8.84460421  9.78170364]\n",
      "  [ 8.84460421  9.78170364]]\n",
      "\n",
      " [[10.00907933 11.06955669]\n",
      "  [10.00907933 11.06955669]]\n",
      "\n",
      " [[11.15026494 12.33165268]\n",
      "  [11.15026494 12.33165268]]\n",
      "\n",
      " [[12.26862684 13.56850674]\n",
      "  [12.26862684 13.56850674]]\n",
      "\n",
      " [[13.3646215  14.78062373]\n",
      "  [13.3646215  14.78062373]]]\n"
     ]
    }
   ],
   "source": [
    "# 当初始状态为状态2时\n",
    "print(f'α = {ex1_finite.wealth_distribution(s0_idx=1)}')\n",
    "print(f'ψ = \\n{ex1_finite.continuation_wealths()}\\n')\n",
    "print(f'J = \\n{ex1_finite.value_functionss()}')"
   ]
  },
  {
   "cell_type": "markdown",
   "id": "d0ad921a",
   "metadata": {},
   "source": [
    "我们可以检验当 $T \\rightarrow \\infty$ 时，有限期限的结果是否收敛到无限期限的结果。"
   ]
  },
  {
   "cell_type": "code",
   "execution_count": 42,
   "id": "f40a01f4",
   "metadata": {},
   "outputs": [
    {
     "data": {
      "text/plain": [
       "array([0.49, 0.51])"
      ]
     },
     "execution_count": 42,
     "metadata": {},
     "output_type": "execute_result"
    }
   ],
   "source": [
    "ex1_large = RecurCompetitive(s, P, ys, T=10000)\n",
    "ex1_large.wealth_distribution(s0_idx=1)"
   ]
  },
  {
   "cell_type": "code",
   "execution_count": 43,
   "id": "d5f46525",
   "metadata": {},
   "outputs": [
    {
     "data": {
      "text/plain": [
       "(array([[[25.5, 24.5],\n",
       "         [24.5, 25.5]]]),\n",
       " array([[25.5, 24.5],\n",
       "        [24.5, 25.5]]))"
      ]
     },
     "execution_count": 43,
     "metadata": {},
     "output_type": "execute_result"
    }
   ],
   "source": [
    "ex1.V, ex1_large.V[-1]"
   ]
  },
  {
   "cell_type": "code",
   "execution_count": 44,
   "id": "e53c90b7",
   "metadata": {},
   "outputs": [
    {
     "data": {
      "text/plain": [
       "(array([[[-1.,  1.],\n",
       "         [ 0., -0.]]]),\n",
       " array([[-1.,  1.],\n",
       "        [ 0., -0.]]))"
      ]
     },
     "execution_count": 44,
     "metadata": {},
     "output_type": "execute_result"
    }
   ],
   "source": [
    "ex1_large.continuation_wealths()\n",
    "ex1.ψ, ex1_large.ψ[-1]"
   ]
  },
  {
   "cell_type": "code",
   "execution_count": 45,
   "id": "a1c2c66b",
   "metadata": {},
   "outputs": [
    {
     "data": {
      "text/plain": [
       "(array([[[70.        , 71.41428429],\n",
       "         [70.        , 71.41428429]]]),\n",
       " array([[70.        , 71.41428429],\n",
       "        [70.        , 71.41428429]]))"
      ]
     },
     "execution_count": 45,
     "metadata": {},
     "output_type": "execute_result"
    }
   ],
   "source": [
    "ex1_large.value_functionss()\n",
    "ex1.J, ex1_large.J[-1]"
   ]
  }
 ],
 "metadata": {
  "jupytext": {
   "formats": "ipynb,md:myst",
   "text_representation": {
    "extension": ".md",
    "format_name": "myst",
    "format_version": 0.13,
    "jupytext_version": "1.16.1"
   }
  },
  "kernelspec": {
   "display_name": "Python 3 (ipykernel)",
   "language": "python",
   "name": "python3"
  },
  "language_info": {
   "codemirror_mode": {
    "name": "ipython",
    "version": 3
   },
   "file_extension": ".py",
   "mimetype": "text/x-python",
   "name": "python",
   "nbconvert_exporter": "python",
   "pygments_lexer": "ipython3",
   "version": "3.12.7"
  },
  "source_map": [
   13,
   722,
   732,
   734,
   742,
   902,
   918,
   934,
   938,
   943,
   948,
   953,
   958,
   965,
   970,
   974,
   990,
   994,
   1006,
   1009,
   1015,
   1019,
   1023,
   1028,
   1033,
   1040,
   1045,
   1049,
   1066,
   1070,
   1082,
   1087,
   1090,
   1094,
   1101,
   1106,
   1110,
   1130,
   1141,
   1145,
   1166,
   1170,
   1191,
   1197,
   1213,
   1217,
   1222,
   1227,
   1232,
   1235,
   1241,
   1248,
   1253,
   1257,
   1262,
   1266,
   1271
  ]
 },
 "nbformat": 4,
 "nbformat_minor": 5
}