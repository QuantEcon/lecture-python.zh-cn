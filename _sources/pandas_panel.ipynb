{
 "cells": [
  {
   "cell_type": "markdown",
   "id": "812bd47d",
   "metadata": {},
   "source": [
    "(ppd)=\n",
    "```{raw} jupyter\n",
    "<div id=\"qe-notebook-header\" align=\"right\" style=\"text-align:right;\">\n",
    "        <a href=\"https://quantecon.org/\" title=\"quantecon.org\">\n",
    "                <img style=\"width:250px;display:inline;\" width=\"250px\" src=\"https://assets.quantecon.org/img/qe-menubar-logo.svg\" alt=\"QuantEcon\">\n",
    "        </a>\n",
    "</div>\n",
    "```\n",
    "\n",
    "# {index}`用Pandas处理面板数据 <single: Pandas for Panel Data>`\n",
    "\n",
    "```{index} single: Python; Pandas\n",
    "```\n",
    "\n",
    "```{contents} 目录\n",
    ":depth: 2\n",
    "```\n",
    "\n",
    "## 概述\n",
    "\n",
    "在[之前关于pandas的讲座](https://python-programming.quantecon.org/pandas.html)中，我们学习了如何处理简单的数据集。\n",
    "\n",
    "计量经济学家经常需要处理更复杂的数据集，比如面板数据。\n",
    "\n",
    "常见的任务包括：\n",
    "\n",
    "* 导入数据、清理数据以及在多个轴上重塑数据。\n",
    "* 从面板数据中提取时间序列数据或横截面数据。\n",
    "* 对数据进行分组和汇总。\n",
    "\n",
    "`pandas`（源自'panel'和'data'这两个词）包含强大且易用的工具，专门用于解决这类问题。\n",
    "\n",
    "在接下来的内容中，我们将使用来自OECD的实际最低工资面板数据集来创建：\n",
    "\n",
    "* 数据在多个维度上的汇总统计\n",
    "* 数据集中各国平均最低工资的时间序列\n",
    "* 按大洲划分的工资核密度估计\n",
    "\n",
    "首先，我们将从CSV文件中读取长格式面板数据，并使用`pivot_table`重塑生成的`DataFrame`来构建`MultiIndex`。\n",
    "\n",
    "使用pandas的`merge`函数将为我们的`DataFrame`添加额外的详细信息，并使用`groupby`函数对数据进行汇总。\n",
    "\n",
    "## 切片和重塑数据\n",
    "\n",
    "我们将读取来自OECD的32个国家的实际最低工资数据集，并将其赋值给`realwage`。\n",
    "\n",
    "数据集可通过以下链接访问："
   ]
  },
  {
   "cell_type": "code",
   "execution_count": null,
   "id": "28426730",
   "metadata": {},
   "outputs": [],
   "source": [
    "url1 = 'https://raw.githubusercontent.com/QuantEcon/lecture-python/master/source/_static/lecture_specific/pandas_panel/realwage.csv'"
   ]
  },
  {
   "cell_type": "code",
   "execution_count": null,
   "id": "33856eae",
   "metadata": {},
   "outputs": [],
   "source": [
    "import pandas as pd\n",
    "\n",
    "# 为便于查看，显示数据集前6列\n",
    "pd.set_option('display.max_columns', 6)\n",
    "\n",
    "# 将小数点位数减少到2位\n",
    "pd.options.display.float_format = '{:,.2f}'.format\n",
    "\n",
    "realwage = pd.read_csv(url1)"
   ]
  },
  {
   "cell_type": "markdown",
   "id": "116e934e",
   "metadata": {},
   "source": [
    "让我们看看我们有什么可以使用的数据"
   ]
  },
  {
   "cell_type": "code",
   "execution_count": null,
   "id": "65e648f9",
   "metadata": {},
   "outputs": [],
   "source": [
    "realwage.head()  # 显示前5行"
   ]
  },
  {
   "cell_type": "markdown",
   "id": "2d6463d0",
   "metadata": {},
   "source": [
    "数据目前是长格式的，当数据有多个维度时，使用这种格式难以进行分析。\n",
    "\n",
    "我们将使用`pivot_table`来创建宽格式面板，并使用`MultiIndex`来处理高维数据。\n",
    "\n",
    "`pivot_table`的参数需要指定数据值（values）、索引和在结果数据框中我们所需的列名。\n",
    "\n",
    "通过在columns参数中传入一个列表，我们可以在列轴上创建一个`MultiIndex`"
   ]
  },
  {
   "cell_type": "code",
   "execution_count": null,
   "id": "69a86f8e",
   "metadata": {},
   "outputs": [],
   "source": [
    "realwage = realwage.pivot_table(values='value',\n",
    "                                index='Time',\n",
    "                                columns=['Country', 'Series', 'Pay period'])\n",
    "realwage.head()"
   ]
  },
  {
   "cell_type": "markdown",
   "id": "27c3bc39",
   "metadata": {},
   "source": [
    "为了更容易地筛选我们的时间序列数据，接下来我们将把索引转换为`DateTimeIndex`"
   ]
  },
  {
   "cell_type": "code",
   "execution_count": null,
   "id": "bef9e878",
   "metadata": {},
   "outputs": [],
   "source": [
    "realwage.index = pd.to_datetime(realwage.index)\n",
    "type(realwage.index)"
   ]
  },
  {
   "cell_type": "markdown",
   "id": "990c911d",
   "metadata": {},
   "source": [
    "该数据框的列包含多层级索引，被称为`MultiIndex`，各层级按层次结构排序（Country > Series > Pay period）。\n",
    "\n",
    "`MultiIndex`是在pandas中管理面板数据最简单且最灵活的方式。"
   ]
  },
  {
   "cell_type": "code",
   "execution_count": null,
   "id": "5d2946ee",
   "metadata": {},
   "outputs": [],
   "source": [
    "type(realwage.columns)"
   ]
  },
  {
   "cell_type": "code",
   "execution_count": null,
   "id": "aeb8e2d9",
   "metadata": {},
   "outputs": [],
   "source": [
    "realwage.columns.names"
   ]
  },
  {
   "cell_type": "markdown",
   "id": "83fe14e5",
   "metadata": {},
   "source": [
    "和之前一样，我们可以选择国家（`MultiIndex`中的最高层级）"
   ]
  },
  {
   "cell_type": "code",
   "execution_count": null,
   "id": "89d0ce45",
   "metadata": {},
   "outputs": [],
   "source": [
    "realwage['United States'].head()"
   ]
  },
  {
   "cell_type": "markdown",
   "id": "65c1198a",
   "metadata": {},
   "source": [
    "在本讲中，我们将经常使用`MultiIndex`的堆叠和取消堆叠来将数据框重塑成所需的格式。\n",
    "\n",
    "`.stack()`将列`MultiIndex`的最低层级旋转到行索引（`.unstack()`执行反向操作 - 你可以试试看）"
   ]
  },
  {
   "cell_type": "code",
   "execution_count": null,
   "id": "f2d2cf8f",
   "metadata": {},
   "outputs": [],
   "source": [
    "realwage.stack().head()"
   ]
  },
  {
   "cell_type": "markdown",
   "id": "88c5abf1",
   "metadata": {},
   "source": [
    "我们也可以传入一个参数来选择我们想要堆叠的层级"
   ]
  },
  {
   "cell_type": "code",
   "execution_count": null,
   "id": "ae70c07e",
   "metadata": {},
   "outputs": [],
   "source": [
    "realwage.stack(level='Country').head()"
   ]
  },
  {
   "cell_type": "markdown",
   "id": "cd3edd7e",
   "metadata": {},
   "source": [
    "使用`DatetimeIndex`可以轻松选择特定的时间段。\n",
    "\n",
    "选择一年并堆叠`MultiIndex`的两个较低层级，可以创建我们面板数据的横截面。"
   ]
  },
  {
   "cell_type": "code",
   "execution_count": null,
   "id": "51fa2d70",
   "metadata": {},
   "outputs": [],
   "source": [
    "realwage.loc['2015'].stack(level=(1, 2)).transpose().head()"
   ]
  },
  {
   "cell_type": "markdown",
   "id": "3c978f9b",
   "metadata": {},
   "source": [
    "在本讲后续内容中，我们将使用按国家和时间维度统计的每小时实际最低工资数据框（计量单位为2015年不变价美元）。\n",
    "\n",
    "为了创建筛选后的数据框（`realwage_f`），我们可以使用`xs`方法：在保持更高层级索引（本例中为国家）的同时，选择多级索引中较低层级的值。"
   ]
  },
  {
   "cell_type": "code",
   "execution_count": null,
   "id": "38d6761d",
   "metadata": {},
   "outputs": [],
   "source": [
    "realwage_f = realwage.xs(('Hourly', 'In 2015 constant prices at 2015 USD exchange rates'),\n",
    "                         level=('Pay period', 'Series'), axis=1)\n",
    "realwage_f.head()"
   ]
  },
  {
   "cell_type": "markdown",
   "id": "5d8d0116",
   "metadata": {},
   "source": [
    "## 合并数据框和填充空值（NaN 值）\n",
    "\n",
    "与SQL等关系型数据库类似，pandas内置了合并数据集的方法。\n",
    "\n",
    "使用来自[WorldData.info](https://www.worlddata.info/downloads/)的国家信息，我们将使用`merge`函数将每个国家所属的大洲添加到`realwage_f`中。\n",
    "\n",
    "可以通过以下链接访问数据集："
   ]
  },
  {
   "cell_type": "code",
   "execution_count": null,
   "id": "2aa26952",
   "metadata": {},
   "outputs": [],
   "source": [
    "url2 = 'https://raw.githubusercontent.com/QuantEcon/lecture-python/master/source/_static/lecture_specific/pandas_panel/countries.csv'"
   ]
  },
  {
   "cell_type": "code",
   "execution_count": null,
   "id": "76d228d6",
   "metadata": {},
   "outputs": [],
   "source": [
    "worlddata = pd.read_csv(url2, sep=';')\n",
    "worlddata.head()"
   ]
  },
  {
   "cell_type": "markdown",
   "id": "eb968ba3",
   "metadata": {},
   "source": [
    "首先，我们将从`worlddata`中只选择国家和大洲变量，并将列名重命名为`Country`"
   ]
  },
  {
   "cell_type": "code",
   "execution_count": null,
   "id": "9045cc30",
   "metadata": {},
   "outputs": [],
   "source": [
    "worlddata = worlddata[['Country (en)', 'Continent']]\n",
    "worlddata = worlddata.rename(columns={'Country (en)': 'Country'})\n",
    "worlddata.head()"
   ]
  },
  {
   "cell_type": "markdown",
   "id": "54e49a01",
   "metadata": {},
   "source": [
    "我们想要将新的数据框`worlddata`与`realwage_f`合并。\n",
    "\n",
    "pandas的`merge`函数可以通过行将数据框连接在一起。\n",
    "\n",
    "我们的数据框将使用国家名称进行合并，这需要我们使用数据框`realwage_f`的转置，以便两个数据框中的行都对应于国家名称。"
   ]
  },
  {
   "cell_type": "code",
   "execution_count": null,
   "id": "b4b119c2",
   "metadata": {},
   "outputs": [],
   "source": [
    "realwage_f.transpose().head()"
   ]
  },
  {
   "cell_type": "markdown",
   "id": "3fa72298",
   "metadata": {},
   "source": [
    "我们可以使用左连接（left）、右连接（right）、内连接（inner）或外连接（outer）来合并我们的数据集：\n",
    "\n",
    "* 左连接（left）只包含左侧数据集中的国家\n",
    "* 右连接（right）只包含右侧数据集中的国家\n",
    "* 内连接（inner）只包含左右数据集共有的国家\n",
    "* 外连接（outer）包含左侧和右侧数据集中的任一国家\n",
    "\n",
    "默认情况下，`merge`将使用内连接（inner）。\n",
    "\n",
    "在这个案例中，我们将传入`how='left'`以保留`realwage_f`中的所有国家，但丢弃`worlddata`中不能和`realwage_f`相匹配的国家。\n",
    "\n",
    "这在下图中用红色阴影部分表示\n",
    "\n",
    "```{figure} /_static/lecture_specific/pandas_panel/venn_diag.png\n",
    "\n",
    "```\n",
    "\n",
    "我们还需要指定每个数据框中国家名称的位置，这将作为合并数据框的\"键（key）\"。\n",
    "\n",
    "我们的\"左\"（left）数据框（`realwage_f.transpose()`）在索引中包含国家，所以我们设置`left_index=True`。\n",
    "\n",
    "我们的\"右\"（right）数据框（`worlddata`）在'Country'列中包含国家名称，所以我们设置`right_on='Country'`"
   ]
  },
  {
   "cell_type": "code",
   "execution_count": null,
   "id": "666feb12",
   "metadata": {},
   "outputs": [],
   "source": [
    "merged = pd.merge(realwage_f.transpose(), worlddata,\n",
    "                  how='left', left_index=True, right_on='Country')\n",
    "merged.head()"
   ]
  },
  {
   "cell_type": "markdown",
   "id": "d019c838",
   "metadata": {},
   "source": [
    "在 `realwage_f` 中出现但在 `worlddata` 中未出现的国家，其 `Continent` 列将显示 `NaN`。\n",
    "\n",
    "要检查是否发生这种情况，我们可以在 `Continent` 列上使用 `.isnull()` 并过滤合并后的数据框"
   ]
  },
  {
   "cell_type": "code",
   "execution_count": null,
   "id": "e45cda25",
   "metadata": {},
   "outputs": [],
   "source": [
    "merged[merged['Continent'].isnull()]"
   ]
  },
  {
   "cell_type": "markdown",
   "id": "874f3801",
   "metadata": {},
   "source": [
    "我们有三个缺失值！\n",
    "\n",
    "处理 NaN 值的一个方式是创建一个包含这些国家及其对应大洲的字典。\n",
    "\n",
    "`.map()` 将会把 `merged['Country']` 中的国家与字典中的大洲进行匹配。\n",
    "\n",
    "注意那些不在我们字典中的国家是如何被映射为 `NaN` 的"
   ]
  },
  {
   "cell_type": "code",
   "execution_count": null,
   "id": "cf3244f6",
   "metadata": {},
   "outputs": [],
   "source": [
    "missing_continents = {'Korea': 'Asia',\n",
    "                      'Russian Federation': 'Europe',\n",
    "                      'Slovak Republic': 'Europe'}\n",
    "\n",
    "merged['Country'].map(missing_continents)"
   ]
  },
  {
   "cell_type": "markdown",
   "id": "90f0555d",
   "metadata": {},
   "source": [
    "我们不想用这个映射覆盖整个序列。\n",
    "\n",
    "`.fillna()` 只会用映射值填充 `merged['Continent']` 中的 `NaN` 值，同时保持列中的其他值不变"
   ]
  },
  {
   "cell_type": "code",
   "execution_count": null,
   "id": "484f17ed",
   "metadata": {},
   "outputs": [],
   "source": [
    "merged['Continent'] = merged['Continent'].fillna(merged['Country'].map(missing_continents))\n",
    "\n",
    "# 检查大洲是否被正确映射\n",
    "merged[merged['Country'] == 'Korea']"
   ]
  },
  {
   "cell_type": "markdown",
   "id": "a9704a41",
   "metadata": {},
   "source": [
    "我们把美洲合并成一个大洲 -- 这样可以让我们后面的可视化效果更好。\n",
    "\n",
    "为此，我们将使用`.replace()`并遍历一个包含我们想要替换的大洲的值的列表"
   ]
  },
  {
   "cell_type": "code",
   "execution_count": null,
   "id": "884333db",
   "metadata": {},
   "outputs": [],
   "source": [
    "replace = ['Central America', 'North America', 'South America']\n",
    "\n",
    "for country in replace:\n",
    "    merged['Continent'] = merged['Continent'].replace(\n",
    "                                {country:'America'})"
   ]
  },
  {
   "cell_type": "markdown",
   "id": "c7ecc1b5",
   "metadata": {},
   "source": [
    "现在我们已经将所有想要的数据都放在一个`DataFrame`中，我们将把它重新整形成带有`MultiIndex`的面板形式。\n",
    "\n",
    "我们还应该使用`.sort_index()`来确保对索引进行排序，这样我们之后可以高效地筛选数据框。\n",
    "\n",
    "默认情况下，层级将按照从上到下的顺序排序"
   ]
  },
  {
   "cell_type": "code",
   "execution_count": null,
   "id": "aa51c0d8",
   "metadata": {},
   "outputs": [],
   "source": [
    "merged = merged.set_index(['Continent', 'Country']).sort_index()\n",
    "merged.head()"
   ]
  },
  {
   "cell_type": "markdown",
   "id": "51fb230f",
   "metadata": {},
   "source": [
    "在合并过程中，我们丢失了`DatetimeIndex`，因为我们合并的列不是日期时间格式的"
   ]
  },
  {
   "cell_type": "code",
   "execution_count": null,
   "id": "6007e5ff",
   "metadata": {},
   "outputs": [],
   "source": [
    "merged.columns"
   ]
  },
  {
   "cell_type": "markdown",
   "id": "ec9dce13",
   "metadata": {},
   "source": [
    "现在我们已经将合并的列设置为索引，我们可以使用`.to_datetime()`重新创建一个`DatetimeIndex`"
   ]
  },
  {
   "cell_type": "code",
   "execution_count": null,
   "id": "e42c6bee",
   "metadata": {},
   "outputs": [],
   "source": [
    "merged.columns = pd.to_datetime(merged.columns)\n",
    "merged.columns = merged.columns.rename('Time')\n",
    "merged.columns"
   ]
  },
  {
   "cell_type": "markdown",
   "id": "f48feb38",
   "metadata": {},
   "source": [
    "一般来说`DatetimeIndex`在行轴上运作起来更加顺畅，所以我们将对`merged`进行转置"
   ]
  },
  {
   "cell_type": "code",
   "execution_count": null,
   "id": "c2da4c84",
   "metadata": {},
   "outputs": [],
   "source": [
    "merged = merged.transpose()\n",
    "merged.head()"
   ]
  },
  {
   "cell_type": "markdown",
   "id": "20a09e4e",
   "metadata": {},
   "source": [
    "## 数据分组和汇总\n",
    "\n",
    "对于理解大型面板数据集来说，数据分组和汇总特别有用。\n",
    "\n",
    "一种简单的数据汇总方法是在数据框上调用[聚合方法](https://pandas.pydata.org/pandas-docs/stable/getting_started/intro_tutorials/06_calculate_statistics.html)，比如`.mean()`或`.max()`。\n",
    "\n",
    "例如，我们可以计算2006年至2016年期间每个国家的平均实际最低工资（默认是按行聚合）"
   ]
  },
  {
   "cell_type": "code",
   "execution_count": null,
   "id": "1b299362",
   "metadata": {},
   "outputs": [],
   "source": [
    "merged.mean().head(10)"
   ]
  },
  {
   "cell_type": "markdown",
   "id": "c75456b4",
   "metadata": {},
   "source": [
    "使用这个数据序列，我们可以绘制数据集中每个国家过去十年的平均实际最低工资"
   ]
  },
  {
   "cell_type": "code",
   "execution_count": null,
   "id": "6b1ed203",
   "metadata": {},
   "outputs": [],
   "source": [
    "import matplotlib.pyplot as plt\n",
    "import matplotlib as mpl\n",
    "FONTPATH = \"fonts/SourceHanSerifSC-SemiBold.otf\"\n",
    "mpl.font_manager.fontManager.addfont(FONTPATH)\n",
    "plt.rcParams['font.family'] = ['Source Han Serif SC']\n",
    "\n",
    "import seaborn as sns\n",
    "sns.set_theme()\n",
    "sns.set(font='Source Han Serif SC')\n",
    "\n",
    "# 导入中文国家名称\n",
    "map_url='https://raw.githubusercontent.com/QuantEcon/lecture-python.zh-cn/refs/heads/main/lectures/_static/country_map.csv'\n",
    "country_map = pd.read_csv(map_url).set_index('English')['Chinese']"
   ]
  },
  {
   "cell_type": "code",
   "execution_count": null,
   "id": "134a80ae",
   "metadata": {},
   "outputs": [],
   "source": [
    "merged.T.groupby(level='Continent').mean()"
   ]
  },
  {
   "cell_type": "code",
   "execution_count": null,
   "id": "566a23da",
   "metadata": {},
   "outputs": [],
   "source": [
    "merged.mean().sort_values(ascending=False).plot(\n",
    "          kind='bar',\n",
    "          title=\"2006-2016年平均实际最低工资\")\n",
    "\n",
    "# 设置国家标签\n",
    "country_labels = merged.mean().sort_values(\n",
    "    ascending=False).index.get_level_values('Country').tolist()\n",
    "\n",
    "# 将国家名称从英文转换为中文\n",
    "country_labels_cn = [country_map[label] for label \n",
    "                     in country_labels]\n",
    "plt.xticks(range(0, len(country_labels)), country_labels_cn)\n",
    "plt.xlabel('国家')\n",
    "\n",
    "plt.show()"
   ]
  },
  {
   "cell_type": "markdown",
   "id": "d7cd7c81",
   "metadata": {},
   "source": [
    "通过向`.mean()`传入`axis=1`参数可以对列进行聚合（得到所有国家随时间变化的平均最低工资）"
   ]
  },
  {
   "cell_type": "code",
   "execution_count": null,
   "id": "ff271e97",
   "metadata": {},
   "outputs": [],
   "source": [
    "merged.mean(axis=1).head()"
   ]
  },
  {
   "cell_type": "markdown",
   "id": "e030a74c",
   "metadata": {},
   "source": [
    "我们可以将这个时间序列绘制成折线图"
   ]
  },
  {
   "cell_type": "code",
   "execution_count": null,
   "id": "af4ad0e9",
   "metadata": {},
   "outputs": [],
   "source": [
    "merged.mean(axis=1).plot()\n",
    "plt.title('2006 - 2016年平均实际最低工资')\n",
    "plt.ylabel('2015年美元')\n",
    "plt.xlabel('年份')\n",
    "plt.show()"
   ]
  },
  {
   "cell_type": "markdown",
   "id": "8efc396f",
   "metadata": {},
   "source": [
    "我们也可以指定`MultiIndex`的一个层级（在列轴上）来进行聚合"
   ]
  },
  {
   "cell_type": "code",
   "execution_count": null,
   "id": "f1b08033",
   "metadata": {},
   "outputs": [],
   "source": [
    "merged.T.groupby(level='Continent').mean().head()"
   ]
  },
  {
   "cell_type": "markdown",
   "id": "52768aa4",
   "metadata": {},
   "source": [
    "我们可以将每个大洲的平均最低工资绘制成时间序列图"
   ]
  },
  {
   "cell_type": "code",
   "execution_count": null,
   "id": "ca919812",
   "metadata": {},
   "outputs": [],
   "source": [
    "continent_map = {'Asia':'亚洲', \n",
    "                 'Europe':'欧洲', \n",
    "                 'America':'美洲',\n",
    "                 'Australia':'大洋洲'}\n",
    "\n",
    "(merged.T\n",
    "       .groupby(level='Continent') \n",
    "       .mean()\n",
    "       .T.rename(columns=continent_map)                           \n",
    ").plot()\n",
    "plt.title('平均实际最低工资')\n",
    "plt.ylabel('2015年美元')\n",
    "plt.xlabel('年份')\n",
    "plt.legend(title='大洲')\n",
    "plt.show()"
   ]
  },
  {
   "cell_type": "markdown",
   "id": "44168dc8",
   "metadata": {},
   "source": [
    "出于绘图目的，我们将去掉澳大利亚这个大洲"
   ]
  },
  {
   "cell_type": "code",
   "execution_count": null,
   "id": "2417211b",
   "metadata": {},
   "outputs": [],
   "source": [
    "merged = merged.drop('Australia', level='Continent', axis=1)\n",
    "(merged.T\n",
    "      .groupby(level='Continent')\n",
    "      .mean().T\n",
    "      .rename(columns=continent_map)\n",
    "      ).plot()\n",
    "plt.title('平均实际最低工资')\n",
    "plt.legend(title='大洲')\n",
    "plt.ylabel('2015年美元')\n",
    "plt.xlabel('年份')\n",
    "plt.show()"
   ]
  },
  {
   "cell_type": "markdown",
   "id": "2ec9110b",
   "metadata": {},
   "source": [
    "`.describe()` 可以快速获取一些常见的描述性统计量的汇总结果"
   ]
  },
  {
   "cell_type": "code",
   "execution_count": null,
   "id": "18bca986",
   "metadata": {},
   "outputs": [],
   "source": [
    "merged.stack().describe()"
   ]
  },
  {
   "cell_type": "markdown",
   "id": "b20fb499",
   "metadata": {},
   "source": [
    "让我们更深入地了解 `groupby` 的工作原理。\n",
    "\n",
    "`groupby` 操作遵循一个称为\"拆分-应用-合并\"的模式:\n",
    "\n",
    "1. 首先，数据会按照指定的一个或多个键被拆分成多个组\n",
    "2. 然后，对每个组分别执行相同的操作或计算\n",
    "3. 最后，将所有组的结果合并成一个新的数据结构\n",
    "\n",
    "这种模式使我们能够对数据子集进行灵活的分组分析。\n",
    "\n",
    "`groupby` 方法实现了这个过程的第一步，创建一个新的 `DataFrameGroupBy` 对象，将数据拆分成组。\n",
    "\n",
    "让我们再次按大洲拆分 `merged`，这次使用 `groupby` 函数，并将生成的对象命名为 `grouped`"
   ]
  },
  {
   "cell_type": "code",
   "execution_count": null,
   "id": "a94feb47",
   "metadata": {},
   "outputs": [],
   "source": [
    "grouped = merged.T.groupby(level='Continent')\n",
    "grouped.keys"
   ]
  },
  {
   "cell_type": "markdown",
   "id": "0b425e9b",
   "metadata": {},
   "source": [
    "在对象上调用`groupby`方法时，该函数会被应用于每个组，运算结果会被合并到一个新的数据结构中。\n",
    "\n",
    "例如，我们可以使用`.size()`返回数据集中每个大洲的国家数量。\n",
    "\n",
    "在这种情况下，我们的新数据结构是一个`Series`"
   ]
  },
  {
   "cell_type": "code",
   "execution_count": null,
   "id": "85f099a9",
   "metadata": {},
   "outputs": [],
   "source": [
    "grouped.size()"
   ]
  },
  {
   "cell_type": "markdown",
   "id": "c8d4727b",
   "metadata": {},
   "source": [
    "通过调用 `.get_group()` 来返回单个组中的国家，我们可以为每个大洲创建2016年实际最低工资分布的核密度估计。\n",
    "\n",
    "`grouped.groups.keys()` 将返回 `groupby` 对象中的键"
   ]
  },
  {
   "cell_type": "code",
   "execution_count": null,
   "id": "a6ce8942",
   "metadata": {},
   "outputs": [],
   "source": [
    "continents = grouped.groups.keys()\n",
    "\n",
    "for continent in continents:\n",
    "    sns.kdeplot(grouped.get_group(continent).T.loc['2015'].unstack(), \n",
    "                label=continent_map[continent], fill=True)\n",
    "\n",
    "plt.title('2015年实际最低工资')\n",
    "plt.xlabel('美元')\n",
    "plt.ylabel('密度')\n",
    "plt.legend()\n",
    "plt.show()"
   ]
  },
  {
   "cell_type": "markdown",
   "id": "2c087bc9",
   "metadata": {},
   "source": [
    "## 总结\n",
    "\n",
    "本讲座介绍了pandas的一些高级特性，包括多级索引、合并、分组和绘图。\n",
    "\n",
    "在面板数据分析中，其他可能有用的工具包括[xarray](https://docs.xarray.dev/en/stable/)，这是一个将pandas扩展到N维数据结构的Python包。\n",
    "\n",
    "## 练习\n",
    "\n",
    "```{exercise-start}\n",
    ":label: pp_ex1\n",
    "```\n",
    "\n",
    "在这些练习中，你将使用来自[Eurostat](https://ec.europa.eu/eurostat/data/database)的按年龄和性别划分的欧洲就业率数据集。\n",
    "\n",
    "可以通过以下链接访问数据集："
   ]
  },
  {
   "cell_type": "code",
   "execution_count": null,
   "id": "46baab44",
   "metadata": {},
   "outputs": [],
   "source": [
    "url3 = 'https://raw.githubusercontent.com/QuantEcon/lecture-python/master/source/_static/lecture_specific/pandas_panel/employ.csv'"
   ]
  },
  {
   "cell_type": "markdown",
   "id": "0257539b",
   "metadata": {},
   "source": [
    "读取 CSV 文件会返回一个长格式的面板数据集。使用 `.pivot_table()` 构建一个带有 `MultiIndex` 列的宽格式数据框。\n",
    "\n",
    "首先探究数据框和 `MultiIndex` 层级中可用的变量。\n",
    "\n",
    "编写一个程序，快速返回 `MultiIndex` 中的所有值。\n",
    "\n",
    "```{exercise-end}\n",
    "```\n",
    "\n",
    "```{solution-start} pp_ex1\n",
    ":class: dropdown\n",
    "```"
   ]
  },
  {
   "cell_type": "code",
   "execution_count": null,
   "id": "73793e03",
   "metadata": {},
   "outputs": [],
   "source": [
    "employ = pd.read_csv(url3)\n",
    "employ = employ.pivot_table(values='Value',\n",
    "                            index=['DATE'],\n",
    "                            columns=['UNIT','AGE', 'SEX', 'INDIC_EM', 'GEO'])\n",
    "employ.index = pd.to_datetime(employ.index) # 确保日期为 datetime 格式\n",
    "employ.head()"
   ]
  },
  {
   "cell_type": "markdown",
   "id": "c11ca677",
   "metadata": {},
   "source": [
    "由于这是一个大型数据集，因此探索可用的层级和变量很有用"
   ]
  },
  {
   "cell_type": "code",
   "execution_count": null,
   "id": "b5fe69b7",
   "metadata": {},
   "outputs": [],
   "source": [
    "employ.columns.names"
   ]
  },
  {
   "cell_type": "markdown",
   "id": "19fba4ec",
   "metadata": {},
   "source": [
    "可以通过循环快速获取层级中的变量"
   ]
  },
  {
   "cell_type": "code",
   "execution_count": null,
   "id": "f700e748",
   "metadata": {},
   "outputs": [],
   "source": [
    "for name in employ.columns.names:\n",
    "    print(name, employ.columns.get_level_values(name).unique())"
   ]
  },
  {
   "cell_type": "markdown",
   "id": "b4a0f60c",
   "metadata": {},
   "source": [
    "```{solution-end}\n",
    "```\n",
    "\n",
    "```{exercise-start}\n",
    ":label: pp_ex2\n",
    "```\n",
    "\n",
    "筛选上述数据框，仅保留以'活动人口'百分比表示的就业数据。\n",
    "\n",
    "使用`seaborn`绘制一个按年龄和性别分组的2015年就业率箱线图。\n",
    "\n",
    "```{hint}\n",
    ":class: dropdown\n",
    "\n",
    "`GEO`包含地区和国家。\n",
    "```\n",
    "\n",
    "```{exercise-end}\n",
    "```\n",
    "\n",
    "```{solution-start} pp_ex2\n",
    ":class: dropdown\n",
    "```\n",
    "\n",
    "为了更方便地按国家筛选，将`GEO`调整到最上层并对`MultiIndex`进行排序"
   ]
  },
  {
   "cell_type": "code",
   "execution_count": null,
   "id": "54c72d31",
   "metadata": {},
   "outputs": [],
   "source": [
    "employ.columns = employ.columns.swaplevel(0,-1)\n",
    "employ = employ.sort_index(axis=1)"
   ]
  },
  {
   "cell_type": "markdown",
   "id": "c39d71d0",
   "metadata": {},
   "source": [
    "我们需要删除`GEO`中一些不是国家的项。\n",
    "\n",
    "一个快速去除欧盟地区的方法是使用列表推导式来查找`GEO`中以'Euro'开头的层级值。"
   ]
  },
  {
   "cell_type": "code",
   "execution_count": null,
   "id": "24b2d048",
   "metadata": {},
   "outputs": [],
   "source": [
    "geo_list = employ.columns.get_level_values('GEO').unique().tolist()\n",
    "countries = [x for x in geo_list if not x.startswith('Euro')]\n",
    "employ = employ[countries]\n",
    "employ.columns.get_level_values('GEO').unique()"
   ]
  },
  {
   "cell_type": "markdown",
   "id": "89219137",
   "metadata": {},
   "source": [
    "仅选择数据框中活动人口的就业百分比"
   ]
  },
  {
   "cell_type": "code",
   "execution_count": null,
   "id": "04bb2455",
   "metadata": {},
   "outputs": [],
   "source": [
    "employ_f = employ.xs(('Percentage of total population', 'Active population'),\n",
    "                     level=('UNIT', 'INDIC_EM'),\n",
    "                     axis=1)\n",
    "employ_f.head()"
   ]
  },
  {
   "cell_type": "markdown",
   "id": "ab2d160a",
   "metadata": {},
   "source": [
    "在绘制分组箱形图之前删除\"总计\"值"
   ]
  },
  {
   "cell_type": "code",
   "execution_count": null,
   "id": "9fcb86b7",
   "metadata": {},
   "outputs": [],
   "source": [
    "employ_f = employ_f.drop('Total', level='SEX', axis=1)"
   ]
  },
  {
   "cell_type": "code",
   "execution_count": null,
   "id": "c21c4f17",
   "metadata": {},
   "outputs": [],
   "source": [
    "box = employ_f.loc['2015'].unstack().reset_index()\n",
    "box['SEX'] = box['SEX'].map({'Males': '男性', 'Females': '女性'})\n",
    "sns.boxplot(x=\"AGE\", y=0, hue=\"SEX\", \n",
    "            data=box, palette=(\"husl\"), \n",
    "            showfliers=False)\n",
    "plt.legend(title='性别', \n",
    "           bbox_to_anchor=(1, 0.5))\n",
    "\n",
    "age_labels = {\n",
    "    'From 15 to 24 years': '15-24岁',\n",
    "    'From 25 to 54 years': '25-54岁',\n",
    "    'From 55 to 64 years': '55-64岁',\n",
    "    'From 65 to 74 years': '65-74岁'\n",
    "}\n",
    "\n",
    "xtick_labels = [age_labels.get(label.get_text(), \n",
    "                label.get_text()) \n",
    "                for label in plt.gca().get_xticklabels()]\n",
    "xticks = plt.gca().get_xticks()\n",
    "plt.xticks(ticks=xticks, labels=xtick_labels, rotation=35)\n",
    "plt.xticks(rotation=35)\n",
    "plt.xlabel('年龄')\n",
    "plt.ylabel('人口百分比 (%)')\n",
    "plt.title('欧洲就业情况 (2015)')\n",
    "plt.show()"
   ]
  },
  {
   "cell_type": "markdown",
   "id": "cd5ef0c1",
   "metadata": {},
   "source": [
    "```{solution-end}\n",
    "```"
   ]
  }
 ],
 "metadata": {
  "jupytext": {
   "text_representation": {
    "extension": ".md",
    "format_name": "myst",
    "format_version": 0.13,
    "jupytext_version": "1.17.2"
   }
  },
  "kernelspec": {
   "display_name": "Python 3 (ipykernel)",
   "language": "python",
   "name": "python3"
  },
  "source_map": [
   12,
   62,
   66,
   76,
   80,
   82,
   92,
   97,
   101,
   104,
   110,
   114,
   116,
   120,
   122,
   128,
   130,
   134,
   136,
   142,
   144,
   150,
   154,
   164,
   168,
   171,
   175,
   179,
   187,
   189,
   214,
   218,
   224,
   226,
   236,
   242,
   248,
   253,
   259,
   265,
   273,
   276,
   280,
   282,
   286,
   290,
   294,
   297,
   307,
   309,
   313,
   329,
   333,
   349,
   353,
   355,
   359,
   365,
   369,
   371,
   375,
   391,
   395,
   407,
   411,
   413,
   429,
   432,
   440,
   442,
   448,
   460,
   478,
   480,
   495,
   502,
   506,
   508,
   512,
   515,
   543,
   546,
   552,
   557,
   561,
   566,
   570,
   574,
   600
  ]
 },
 "nbformat": 4,
 "nbformat_minor": 5
}