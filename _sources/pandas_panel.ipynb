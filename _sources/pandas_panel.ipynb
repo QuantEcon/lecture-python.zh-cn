{
 "cells": [
  {
   "cell_type": "markdown",
   "id": "5c6fa6ee",
   "metadata": {},
   "source": [
    "(ppd)=\n",
    "```{raw} jupyter\n",
    "<div id=\"qe-notebook-header\" align=\"right\" style=\"text-align:right;\">\n",
    "        <a href=\"https://quantecon.org/\" title=\"quantecon.org\">\n",
    "                <img style=\"width:250px;display:inline;\" width=\"250px\" src=\"https://assets.quantecon.org/img/qe-menubar-logo.svg\" alt=\"QuantEcon\">\n",
    "        </a>\n",
    "</div>\n",
    "```\n",
    "\n",
    "# {index}`面板数据的Pandas使用 <single: Pandas for Panel Data>`\n",
    "\n",
    "```{index} single: Python; Pandas\n",
    "```\n",
    "\n",
    "```{contents} 目录\n",
    ":depth: 2\n",
    "```\n",
    "\n",
    "## 概述\n",
    "\n",
    "在[之前关于pandas的讲座](https://python-programming.quantecon.org/pandas.html)中，我们学习了如何处理简单的数据集。\n",
    "\n",
    "计量经济学家经常需要处理更复杂的数据集，比如面板数据。\n",
    "\n",
    "常见任务包括：\n",
    "\n",
    "* 导入数据、清理数据以及在多个轴上重塑数据。\n",
    "\n",
    "* 从面板数据中选择时间序列或横截面数据。\n",
    "* 对数据进行分组和汇总。\n",
    "\n",
    "`pandas`（源自'panel'和'data'）包含强大且易用的工具，专门用于解决这类问题。\n",
    "\n",
    "在接下来的内容中，我们将使用来自OECD的实际最低工资面板数据集来创建：\n",
    "\n",
    "* 数据多个维度的汇总统计\n",
    "* 数据集中各国平均最低工资的时间序列\n",
    "* 按大洲划分的工资核密度估计\n",
    "\n",
    "我们将首先从CSV文件中读取长格式面板数据，并使用`pivot_table`重塑生成的`DataFrame`来构建`MultiIndex`。\n",
    "\n",
    "使用pandas的`merge`函数将为我们的`DataFrame`添加额外的详细信息，并使用`groupby`函数对数据进行汇总。\n",
    "\n",
    "## 切片和重塑数据\n",
    "\n",
    "我们将读取来自OECD的32个国家的实际最低工资数据集，并将其赋值给`realwage`。\n",
    "\n",
    "数据集可通过以下链接访问："
   ]
  },
  {
   "cell_type": "code",
   "execution_count": null,
   "id": "d0a82357",
   "metadata": {},
   "outputs": [],
   "source": [
    "url1 = 'https://raw.githubusercontent.com/QuantEcon/lecture-python/master/source/_static/lecture_specific/pandas_panel/realwage.csv'"
   ]
  },
  {
   "cell_type": "code",
   "execution_count": null,
   "id": "b267a2a0",
   "metadata": {},
   "outputs": [],
   "source": [
    "import pandas as pd\n",
    "\n",
    "# 为了查看目的显示6列\n",
    "pd.set_option('display.max_columns', 6)\n",
    "\n",
    "# 将小数点位数减少到2位\n",
    "pd.options.display.float_format = '{:,.2f}'.format\n",
    "\n",
    "realwage = pd.read_csv(url1)"
   ]
  },
  {
   "cell_type": "markdown",
   "id": "9072cdd9",
   "metadata": {},
   "source": [
    "让我们看看我们有什么可以使用的数据"
   ]
  },
  {
   "cell_type": "code",
   "execution_count": null,
   "id": "06e7bb14",
   "metadata": {},
   "outputs": [],
   "source": [
    "realwage.head()  # 显示前5行"
   ]
  },
  {
   "cell_type": "markdown",
   "id": "ecabedf1",
   "metadata": {},
   "source": [
    "数据目前是长格式的，当数据有多个维度时这种格式难以分析。\n",
    "\n",
    "我们将使用`pivot_table`创建宽格式面板，并使用`MultiIndex`来处理高维数据。\n",
    "\n",
    "`pivot_table`的参数需要指定数据（values）、索引和我们想要在结果数据框中的列。\n",
    "\n",
    "通过在columns参数中传入一个列表，我们可以在列轴上创建一个`MultiIndex`"
   ]
  },
  {
   "cell_type": "code",
   "execution_count": null,
   "id": "093e5238",
   "metadata": {},
   "outputs": [],
   "source": [
    "realwage = realwage.pivot_table(values='value',\n",
    "                                index='Time',\n",
    "                                columns=['Country', 'Series', 'Pay period'])\n",
    "realwage.head()"
   ]
  },
  {
   "cell_type": "markdown",
   "id": "2f39dd84",
   "metadata": {},
   "source": [
    "为了更容易地过滤我们的时间序列数据，接下来我们将把索引转换为`DateTimeIndex`"
   ]
  },
  {
   "cell_type": "code",
   "execution_count": null,
   "id": "7b3c57c3",
   "metadata": {},
   "outputs": [],
   "source": [
    "realwage.index = pd.to_datetime(realwage.index)\n",
    "type(realwage.index)"
   ]
  },
  {
   "cell_type": "markdown",
   "id": "1fc80ffa",
   "metadata": {},
   "source": [
    "这些列包含多层级索引，称为`MultiIndex`，各层级按层次结构排序（国家 > 系列 > 支付周期）。\n",
    "\n",
    "`MultiIndex`是在pandas中管理面板数据最简单和最灵活的方式。"
   ]
  },
  {
   "cell_type": "code",
   "execution_count": null,
   "id": "16938dfb",
   "metadata": {},
   "outputs": [],
   "source": [
    "type(realwage.columns)"
   ]
  },
  {
   "cell_type": "code",
   "execution_count": null,
   "id": "96c79c61",
   "metadata": {},
   "outputs": [],
   "source": [
    "realwage.columns.names"
   ]
  },
  {
   "cell_type": "markdown",
   "id": "7d1a5261",
   "metadata": {},
   "source": [
    "和之前一样，我们可以选择国家（我们的`MultiIndex`的最高层级）"
   ]
  },
  {
   "cell_type": "code",
   "execution_count": null,
   "id": "a5990d52",
   "metadata": {},
   "outputs": [],
   "source": [
    "realwage['United States'].head()"
   ]
  },
  {
   "cell_type": "markdown",
   "id": "6f66a1e2",
   "metadata": {},
   "source": [
    "在本讲中，我们将经常使用`MultiIndex`的堆叠和取消堆叠来将数据框重塑成所需的格式。\n",
    "\n",
    "`.stack()`将列`MultiIndex`的最低层级旋转到行索引（`.unstack()`的作用方向相反 - 你可以试试看）"
   ]
  },
  {
   "cell_type": "code",
   "execution_count": null,
   "id": "3fbbb128",
   "metadata": {},
   "outputs": [],
   "source": [
    "realwage.stack().head()"
   ]
  },
  {
   "cell_type": "markdown",
   "id": "277ad35c",
   "metadata": {},
   "source": [
    "我们也可以传入一个参数来选择我们想要堆叠的层级"
   ]
  },
  {
   "cell_type": "code",
   "execution_count": null,
   "id": "7ffc2501",
   "metadata": {},
   "outputs": [],
   "source": [
    "realwage.stack(level='Country').head()"
   ]
  },
  {
   "cell_type": "markdown",
   "id": "8783d7e1",
   "metadata": {},
   "source": [
    "使用`DatetimeIndex`可以轻松选择特定的时间段。\n",
    "\n",
    "选择一年并堆叠`MultiIndex`的两个较低层级，可以创建我们面板数据的横截面"
   ]
  },
  {
   "cell_type": "code",
   "execution_count": null,
   "id": "8e273447",
   "metadata": {},
   "outputs": [],
   "source": [
    "realwage.loc['2015'].stack(level=(1, 2)).transpose().head()"
   ]
  },
  {
   "cell_type": "markdown",
   "id": "3b6c43ba",
   "metadata": {},
   "source": [
    "在本讲座剩余部分，我们将使用一个数据框，其中包含不同国家和时间段的每小时实际最低工资数据，以2015年美元计价。\n",
    "\n",
    "要创建我们的筛选数据框（`realwage_f`），我们可以使用`xs`方法在保持更高层级（本例中为国家）的同时，选择多重索引中较低层级的值。"
   ]
  },
  {
   "cell_type": "code",
   "execution_count": null,
   "id": "c24440fc",
   "metadata": {},
   "outputs": [],
   "source": [
    "realwage_f = realwage.xs(('Hourly', 'In 2015 constant prices at 2015 USD exchange rates'),\n",
    "                         level=('Pay period', 'Series'), axis=1)\n",
    "realwage_f.head()"
   ]
  },
  {
   "cell_type": "markdown",
   "id": "7a9124b6",
   "metadata": {},
   "source": [
    "## 合并数据框和填充空值\n",
    "\n",
    "与SQL等关系型数据库类似，pandas内置了合并数据集的方法。\n",
    "\n",
    "使用来自[WorldData.info](https://www.worlddata.info/downloads/)的国家信息，我们将使用`merge`函数将每个国家所属的大洲添加到`realwage_f`中。\n",
    "\n",
    "可以通过以下链接访问数据集："
   ]
  },
  {
   "cell_type": "code",
   "execution_count": null,
   "id": "e26831a4",
   "metadata": {},
   "outputs": [],
   "source": [
    "url2 = 'https://raw.githubusercontent.com/QuantEcon/lecture-python/master/source/_static/lecture_specific/pandas_panel/countries.csv'"
   ]
  },
  {
   "cell_type": "code",
   "execution_count": null,
   "id": "731508ce",
   "metadata": {},
   "outputs": [],
   "source": [
    "worlddata = pd.read_csv(url2, sep=';')\n",
    "worlddata.head()"
   ]
  },
  {
   "cell_type": "markdown",
   "id": "f6074ed7",
   "metadata": {},
   "source": [
    "首先，我们将从`worlddata`中只选择国家和大洲变量，并将列名重命名为'Country'"
   ]
  },
  {
   "cell_type": "code",
   "execution_count": null,
   "id": "cac40db7",
   "metadata": {},
   "outputs": [],
   "source": [
    "worlddata = worlddata[['Country (en)', 'Continent']]\n",
    "worlddata = worlddata.rename(columns={'Country (en)': 'Country'})\n",
    "worlddata.head()"
   ]
  },
  {
   "cell_type": "markdown",
   "id": "ceb938d0",
   "metadata": {},
   "source": [
    "我们想要将新的数据框`worlddata`与`realwage_f`合并。\n",
    "\n",
    "pandas的`merge`函数允许通过行将数据框连接在一起。\n",
    "\n",
    "我们的数据框将使用国家名称进行合并，这需要我们使用`realwage_f`的转置，以便两个数据框中的行都对应于国家名称。"
   ]
  },
  {
   "cell_type": "code",
   "execution_count": null,
   "id": "959ba7ac",
   "metadata": {},
   "outputs": [],
   "source": [
    "realwage_f.transpose().head()"
   ]
  },
  {
   "cell_type": "markdown",
   "id": "c5c08aab",
   "metadata": {},
   "source": [
    "我们可以使用左连接、右连接、内连接或外连接来合并我们的数据集：\n",
    "\n",
    "* 左连接只包含左侧数据集中的国家\n",
    "* 右连接只包含右侧数据集中的国家\n",
    "* 外连接包含左侧和右侧数据集中的任一国家\n",
    "* 内连接只包含左右数据集共有的国家\n",
    "\n",
    "默认情况下，`merge`将使用内连接。\n",
    "\n",
    "在这里，我们将传入`how='left'`以保留`realwage_f`中的所有国家，但丢弃在`worlddata`中没有对应数据项`realwage_f`的国家。\n",
    "\n",
    "这在下图中用红色阴影部分表示\n",
    "\n",
    "```{figure} /_static/lecture_specific/pandas_panel/venn_diag.png\n",
    "\n",
    "```\n",
    "\n",
    "我们还需要指定每个数据框中国家名称的位置，这将作为合并数据框的\"键\"。\n",
    "\n",
    "我们的\"左\"数据框（`realwage_f.transpose()`）在索引中包含国家，所以我们设置`left_index=True`。\n",
    "\n",
    "我们的'right'数据框（`worlddata`）在'Country'列中包含国家名称，所以我们设置`right_on='Country'`"
   ]
  },
  {
   "cell_type": "code",
   "execution_count": null,
   "id": "289ce39d",
   "metadata": {},
   "outputs": [],
   "source": [
    "merged = pd.merge(realwage_f.transpose(), worlddata,\n",
    "                  how='left', left_index=True, right_on='Country')\n",
    "merged.head()"
   ]
  },
  {
   "cell_type": "markdown",
   "id": "e86159bd",
   "metadata": {},
   "source": [
    "在 `realwage_f` 中出现但在 `worlddata` 中未出现的国家，其 Continent 列将显示 `NaN`。\n",
    "\n",
    "要检查是否发生这种情况，我们可以在 continent 列上使用 `.isnull()` 并过滤合并后的数据框"
   ]
  },
  {
   "cell_type": "code",
   "execution_count": null,
   "id": "3cac8ea2",
   "metadata": {},
   "outputs": [],
   "source": [
    "merged[merged['Continent'].isnull()]"
   ]
  },
  {
   "cell_type": "markdown",
   "id": "a4fbb982",
   "metadata": {},
   "source": [
    "我们有三个缺失值！\n",
    "\n",
    "处理 NaN 值的一个选项是创建一个包含这些国家及其各自大洲的字典。\n",
    "\n",
    "`.map()` 将会把 `merged['Country']` 中的国家与字典中的大洲进行匹配。\n",
    "\n",
    "注意那些不在我们字典中的国家是如何被映射为 `NaN` 的"
   ]
  },
  {
   "cell_type": "code",
   "execution_count": null,
   "id": "ba1100ae",
   "metadata": {},
   "outputs": [],
   "source": [
    "missing_continents = {'Korea': 'Asia',\n",
    "                      'Russian Federation': 'Europe',\n",
    "                      'Slovak Republic': 'Europe'}\n",
    "\n",
    "merged['Country'].map(missing_continents)"
   ]
  },
  {
   "cell_type": "markdown",
   "id": "6a581c0b",
   "metadata": {},
   "source": [
    "我们不想用这个映射覆盖整个系列。\n",
    "\n",
    "`.fillna()` 只会用映射填充 `merged['Continent']` 中的 `NaN` 值，而保持列中的其他值不变"
   ]
  },
  {
   "cell_type": "code",
   "execution_count": null,
   "id": "b50b6789",
   "metadata": {},
   "outputs": [],
   "source": [
    "merged['Continent'] = merged['Continent'].fillna(merged['Country'].map(missing_continents))\n",
    "\n",
    "# 检查大洲是否正确映射\n",
    "\n",
    "merged[merged['Country'] == 'Korea']"
   ]
  },
  {
   "cell_type": "markdown",
   "id": "f551639a",
   "metadata": {},
   "source": [
    "我们还要把美洲合并成一个大洲 - 这样可以让我们后面的可视化效果更好看。\n",
    "\n",
    "为此，我们将使用`.replace()`并遍历一个包含我们想要替换的大洲值的列表"
   ]
  },
  {
   "cell_type": "code",
   "execution_count": null,
   "id": "50f08ff4",
   "metadata": {},
   "outputs": [],
   "source": [
    "replace = ['Central America', 'North America', 'South America']\n",
    "\n",
    "for country in replace:\n",
    "    merged['Continent'].replace(to_replace=country,\n",
    "                                value='America',\n",
    "                                inplace=True)"
   ]
  },
  {
   "cell_type": "markdown",
   "id": "299bb0e7",
   "metadata": {},
   "source": [
    "现在我们已经将所有想要的数据都放在一个`DataFrame`中，我们将把它重新整形成带有`MultiIndex`的面板形式。\n",
    "\n",
    "我们还应该使用`.sort_index()`来确保对索引进行排序，这样我们之后可以高效地筛选数据框。\n",
    "\n",
    "默认情况下，层级将按照从上到下的顺序排序"
   ]
  },
  {
   "cell_type": "code",
   "execution_count": null,
   "id": "dd9f3873",
   "metadata": {},
   "outputs": [],
   "source": [
    "merged = merged.set_index(['Continent', 'Country']).sort_index()\n",
    "merged.head()"
   ]
  },
  {
   "cell_type": "markdown",
   "id": "282c5b84",
   "metadata": {},
   "source": [
    "在合并过程中，我们丢失了`DatetimeIndex`，因为我们合并的列不是日期时间格式的"
   ]
  },
  {
   "cell_type": "code",
   "execution_count": null,
   "id": "78526dce",
   "metadata": {},
   "outputs": [],
   "source": [
    "merged.columns"
   ]
  },
  {
   "cell_type": "markdown",
   "id": "f3b47cd7",
   "metadata": {},
   "source": [
    "现在我们已经将合并的列设置为索引，我们可以使用`.to_datetime()`重新创建一个`DatetimeIndex`"
   ]
  },
  {
   "cell_type": "code",
   "execution_count": null,
   "id": "44b9e705",
   "metadata": {},
   "outputs": [],
   "source": [
    "merged.columns = pd.to_datetime(merged.columns)\n",
    "merged.columns = merged.columns.rename('Time')\n",
    "merged.columns"
   ]
  },
  {
   "cell_type": "markdown",
   "id": "9d0dd53a",
   "metadata": {},
   "source": [
    "`DatetimeIndex`在行轴上运行更加顺畅，所以我们将对`merged`进行转置"
   ]
  },
  {
   "cell_type": "code",
   "execution_count": null,
   "id": "e6687aae",
   "metadata": {},
   "outputs": [],
   "source": [
    "merged = merged.transpose()\n",
    "merged.head()"
   ]
  },
  {
   "cell_type": "markdown",
   "id": "d5efa608",
   "metadata": {},
   "source": [
    "## 数据分组和汇总\n",
    "\n",
    "对于理解大型面板数据集来说，数据分组和汇总特别有用。\n",
    "\n",
    "一种简单的数据汇总方法是在数据框上调用[聚合方法](https://pandas.pydata.org/pandas-docs/stable/getting_started/intro_tutorials/06_calculate_statistics.html)，比如`.mean()`或`.max()`。\n",
    "\n",
    "例如，我们可以计算2006年至2016年期间每个国家的平均实际最低工资（默认是按行聚合）"
   ]
  },
  {
   "cell_type": "code",
   "execution_count": null,
   "id": "be9026a4",
   "metadata": {},
   "outputs": [],
   "source": [
    "merged.mean().head(10)"
   ]
  },
  {
   "cell_type": "markdown",
   "id": "daa9bb50",
   "metadata": {},
   "source": [
    "使用这个数据系列，我们可以绘制数据集中每个国家过去十年的平均实际最低工资"
   ]
  },
  {
   "cell_type": "code",
   "execution_count": null,
   "id": "db6f69ca",
   "metadata": {},
   "outputs": [],
   "source": [
    "import matplotlib.pyplot as plt\n",
    "import matplotlib as mpl\n",
    "FONTPATH = \"fonts/SourceHanSerifSC-SemiBold.otf\"\n",
    "mpl.font_manager.fontManager.addfont(FONTPATH)\n",
    "plt.rcParams['font.family'] = ['Source Han Serif SC']\n",
    "\n",
    "import seaborn as sns\n",
    "sns.set_theme()"
   ]
  },
  {
   "cell_type": "code",
   "execution_count": null,
   "id": "e654b39e",
   "metadata": {},
   "outputs": [],
   "source": [
    "merged.mean().sort_values(ascending=False).plot(kind='bar',\n",
    "                                                title=\"2006-2016年平均实际最低工资\")\n",
    "\n",
    "# 设置国家标签\n",
    "country_labels = merged.mean().sort_values(ascending=False).index.get_level_values('Country').tolist()\n",
    "plt.xticks(range(0, len(country_labels)), country_labels)\n",
    "plt.xlabel('国家')\n",
    "\n",
    "plt.show()"
   ]
  },
  {
   "cell_type": "markdown",
   "id": "0495282c",
   "metadata": {},
   "source": [
    "通过向`.mean()`传入`axis=1`参数可以对列进行聚合（得到所有国家随时间变化的平均最低工资）"
   ]
  },
  {
   "cell_type": "code",
   "execution_count": null,
   "id": "d17c2a46",
   "metadata": {},
   "outputs": [],
   "source": [
    "merged.mean(axis=1).head()"
   ]
  },
  {
   "cell_type": "markdown",
   "id": "46ff40e6",
   "metadata": {},
   "source": [
    "我们可以将这个时间序列绘制成折线图"
   ]
  },
  {
   "cell_type": "code",
   "execution_count": null,
   "id": "2b9736b5",
   "metadata": {},
   "outputs": [],
   "source": [
    "merged.mean(axis=1).plot()\n",
    "plt.title('2006 - 2016年平均实际最低工资')\n",
    "plt.ylabel('2015年美元')\n",
    "plt.xlabel('年份')\n",
    "plt.show()"
   ]
  },
  {
   "cell_type": "markdown",
   "id": "5481c39e",
   "metadata": {},
   "source": [
    "我们也可以指定`MultiIndex`的一个层级（在列轴上）来进行聚合"
   ]
  },
  {
   "cell_type": "code",
   "execution_count": null,
   "id": "3ef08a3c",
   "metadata": {},
   "outputs": [],
   "source": [
    "merged.groupby(level='Continent', axis=1).mean().head()"
   ]
  },
  {
   "cell_type": "markdown",
   "id": "33e3e982",
   "metadata": {},
   "source": [
    "我们可以将每个大洲的平均最低工资绘制成时间序列图"
   ]
  },
  {
   "cell_type": "code",
   "execution_count": null,
   "id": "2e98b1c0",
   "metadata": {},
   "outputs": [],
   "source": [
    "merged.groupby(level='Continent', axis=1).mean().plot()\n",
    "plt.title('平均实际最低工资')\n",
    "plt.ylabel('2015年美元')\n",
    "plt.xlabel('年份')\n",
    "plt.show()"
   ]
  },
  {
   "cell_type": "markdown",
   "id": "50e3def4",
   "metadata": {},
   "source": [
    "为了绘图目的，我们将去掉澳大利亚这个大洲"
   ]
  },
  {
   "cell_type": "code",
   "execution_count": null,
   "id": "e56148a9",
   "metadata": {},
   "outputs": [],
   "source": [
    "merged = merged.drop('Australia', level='Continent', axis=1)\n",
    "merged.groupby(level='Continent', axis=1).mean().plot()\n",
    "plt.title('平均实际最低工资')\n",
    "plt.ylabel('2015年美元')\n",
    "plt.xlabel('年份')\n",
    "plt.show()"
   ]
  },
  {
   "cell_type": "markdown",
   "id": "5dce0ba0",
   "metadata": {},
   "source": [
    "`.describe()` 可以快速获取一些常见的统计摘要数据"
   ]
  },
  {
   "cell_type": "code",
   "execution_count": null,
   "id": "406f824d",
   "metadata": {},
   "outputs": [],
   "source": [
    "merged.stack().describe()"
   ]
  },
  {
   "cell_type": "markdown",
   "id": "5dd3fd71",
   "metadata": {},
   "source": [
    "这是使用 `groupby` 的简化方法。\n",
    "\n",
    "使用 `groupby` 通常遵循\"拆分-应用-合并\"的过程：\n",
    "\n",
    "* 拆分：数据根据一个或多个键进行分组\n",
    "* 应用：在每个组上独立调用函数\n",
    "* 合并：函数调用的结果被合并到新的数据结构中\n",
    "\n",
    "`groupby` 方法实现了这个过程的第一步，创建一个新的 `DataFrameGroupBy` 对象，将数据拆分成组。\n",
    "\n",
    "让我们再次按大洲拆分 `merged`，这次使用 `groupby` 函数，并将结果对象命名为 `grouped`"
   ]
  },
  {
   "cell_type": "code",
   "execution_count": null,
   "id": "12491cad",
   "metadata": {},
   "outputs": [],
   "source": [
    "grouped = merged.groupby(level='Continent', axis=1)\n",
    "grouped"
   ]
  },
  {
   "cell_type": "markdown",
   "id": "b9d29158",
   "metadata": {},
   "source": [
    "在对象上调用聚合方法会将函数应用于每个组，其结果会被合并到一个新的数据结构中。\n",
    "\n",
    "例如，我们可以使用`.size()`返回数据集中每个大洲的国家数量。\n",
    "\n",
    "在这种情况下，我们的新数据结构是一个`Series`"
   ]
  },
  {
   "cell_type": "code",
   "execution_count": null,
   "id": "73ab3ed7",
   "metadata": {},
   "outputs": [],
   "source": [
    "grouped.size()"
   ]
  },
  {
   "cell_type": "markdown",
   "id": "070f58e9",
   "metadata": {},
   "source": [
    "通过调用 `.get_group()` 来返回单个组中的国家，我们可以为每个大洲创建2016年实际最低工资分布的核密度估计。\n",
    "\n",
    "`grouped.groups.keys()` 将返回 `groupby` 对象中的键"
   ]
  },
  {
   "cell_type": "code",
   "execution_count": null,
   "id": "3bd7a4c5",
   "metadata": {},
   "outputs": [],
   "source": [
    "continents = grouped.groups.keys()\n",
    "\n",
    "for continent in continents:\n",
    "    sns.kdeplot(grouped.get_group(continent).loc['2015'].unstack(), label=continent, fill=True)\n",
    "\n",
    "plt.title('Real minimum wages in 2015')\n",
    "plt.xlabel('US dollars')\n",
    "plt.legend()\n",
    "plt.show()"
   ]
  },
  {
   "cell_type": "markdown",
   "id": "6b37bb07",
   "metadata": {},
   "source": [
    "## 总结\n",
    "\n",
    "本讲座介绍了pandas的一些高级特性，包括多重索引、合并、分组和绘图。\n",
    "\n",
    "在面板数据分析中可能有用的其他工具包括[xarray](https://docs.xarray.dev/en/stable/)，这是一个将pandas扩展到N维数据结构的Python包。\n",
    "\n",
    "## 练习\n",
    "\n",
    "```{exercise-start}\n",
    ":label: pp_ex1\n",
    "```\n",
    "\n",
    "在这些练习中，你将使用来自[Eurostat](https://ec.europa.eu/eurostat/data/database)的欧洲按年龄和性别划分的就业率数据集。\n",
    "\n",
    "可以通过以下链接访问数据集："
   ]
  },
  {
   "cell_type": "code",
   "execution_count": null,
   "id": "5ea06e20",
   "metadata": {},
   "outputs": [],
   "source": [
    "url3 = 'https://raw.githubusercontent.com/QuantEcon/lecture-python/master/source/_static/lecture_specific/pandas_panel/employ.csv'"
   ]
  },
  {
   "cell_type": "markdown",
   "id": "98aec641",
   "metadata": {},
   "source": [
    "读取 CSV 文件会返回一个长格式的面板数据集。使用 `.pivot_table()` 构建一个带有 `MultiIndex` 列的宽格式数据框。\n",
    "\n",
    "首先探索数据框和 `MultiIndex` 层级中可用的变量。\n",
    "\n",
    "编写一个程序，快速返回 `MultiIndex` 中的所有值。\n",
    "\n",
    "```{exercise-end}\n",
    "```\n",
    "\n",
    "```{solution-start} pp_ex1\n",
    ":class: dropdown\n",
    "```"
   ]
  },
  {
   "cell_type": "code",
   "execution_count": null,
   "id": "4eea925c",
   "metadata": {},
   "outputs": [],
   "source": [
    "employ = pd.read_csv(url3)\n",
    "employ = employ.pivot_table(values='Value',\n",
    "                            index=['DATE'],\n",
    "                            columns=['UNIT','AGE', 'SEX', 'INDIC_EM', 'GEO'])\n",
    "employ.index = pd.to_datetime(employ.index) # 确保日期为 datetime 格式\n",
    "employ.head()"
   ]
  },
  {
   "cell_type": "markdown",
   "id": "87d405e3",
   "metadata": {},
   "source": [
    "由于这是一个大型数据集，因此探索可用的层级和变量很有用"
   ]
  },
  {
   "cell_type": "code",
   "execution_count": null,
   "id": "7cf8aff2",
   "metadata": {},
   "outputs": [],
   "source": [
    "employ.columns.names"
   ]
  },
  {
   "cell_type": "markdown",
   "id": "fd6a7146",
   "metadata": {},
   "source": [
    "可以通过循环快速获取层级中的变量"
   ]
  },
  {
   "cell_type": "code",
   "execution_count": null,
   "id": "3bbd5fb1",
   "metadata": {},
   "outputs": [],
   "source": [
    "for name in employ.columns.names:\n",
    "    print(name, employ.columns.get_level_values(name).unique())"
   ]
  },
  {
   "cell_type": "markdown",
   "id": "804d074a",
   "metadata": {},
   "source": [
    "```{solution-end}\n",
    "```\n",
    "\n",
    "```{exercise-start}\n",
    ":label: pp_ex2\n",
    "```\n",
    "\n",
    "筛选上述数据框，仅包含以'活动人口'百分比表示的就业数据。\n",
    "\n",
    "使用`seaborn`创建一个按年龄组和性别分组的2015年就业率箱线图。\n",
    "\n",
    "```{hint}\n",
    ":class: dropdown\n",
    "\n",
    "`GEO`包含地区和国家。\n",
    "```\n",
    "\n",
    "```{exercise-end}\n",
    "```\n",
    "\n",
    "```{solution-start} pp_ex2\n",
    ":class: dropdown\n",
    "```\n",
    "\n",
    "为了方便按国家筛选，将`GEO`调整到最上层并对`MultiIndex`进行排序"
   ]
  },
  {
   "cell_type": "code",
   "execution_count": null,
   "id": "15ad6737",
   "metadata": {},
   "outputs": [],
   "source": [
    "employ.columns = employ.columns.swaplevel(0,-1)\n",
    "employ = employ.sort_index(axis=1)"
   ]
  },
  {
   "cell_type": "markdown",
   "id": "cdfc09c1",
   "metadata": {},
   "source": [
    "我们需要删除`GEO`中一些不是国家的项目。\n",
    "\n",
    "一个快速去除欧盟地区的方法是使用列表推导式来查找`GEO`中以'Euro'开头的层级值。"
   ]
  },
  {
   "cell_type": "code",
   "execution_count": null,
   "id": "e9156cc4",
   "metadata": {},
   "outputs": [],
   "source": [
    "geo_list = employ.columns.get_level_values('GEO').unique().tolist()\n",
    "countries = [x for x in geo_list if not x.startswith('Euro')]\n",
    "employ = employ[countries]\n",
    "employ.columns.get_level_values('GEO').unique()"
   ]
  },
  {
   "cell_type": "markdown",
   "id": "efdc379c",
   "metadata": {},
   "source": [
    "从数据框中仅选择活动人口中的就业百分比"
   ]
  },
  {
   "cell_type": "code",
   "execution_count": null,
   "id": "aaf03551",
   "metadata": {},
   "outputs": [],
   "source": [
    "employ_f = employ.xs(('Percentage of total population', 'Active population'),\n",
    "                     level=('UNIT', 'INDIC_EM'),\n",
    "                     axis=1)\n",
    "employ_f.head()"
   ]
  },
  {
   "cell_type": "markdown",
   "id": "f9a82741",
   "metadata": {},
   "source": [
    "在创建分组箱形图之前删除\"总计\"值"
   ]
  },
  {
   "cell_type": "code",
   "execution_count": null,
   "id": "34080154",
   "metadata": {},
   "outputs": [],
   "source": [
    "employ_f = employ_f.drop('Total', level='SEX', axis=1)"
   ]
  },
  {
   "cell_type": "code",
   "execution_count": null,
   "id": "ed67dc7b",
   "metadata": {},
   "outputs": [],
   "source": [
    "box = employ_f.loc['2015'].unstack().reset_index()\n",
    "sns.boxplot(x=\"AGE\", y=0, hue=\"SEX\", data=box, palette=(\"husl\"), showfliers=False)\n",
    "plt.xlabel('')\n",
    "plt.xticks(rotation=35)\n",
    "plt.ylabel('人口百分比 (%)')\n",
    "plt.title('欧洲就业情况 (2015)')\n",
    "plt.legend(bbox_to_anchor=(1,0.5))\n",
    "plt.show()"
   ]
  },
  {
   "cell_type": "markdown",
   "id": "9b959894",
   "metadata": {},
   "source": [
    "```{solution-end}\n",
    "```"
   ]
  }
 ],
 "metadata": {
  "jupytext": {
   "text_representation": {
    "extension": ".md",
    "format_name": "myst"
   }
  },
  "kernelspec": {
   "display_name": "Python 3",
   "language": "python",
   "name": "python3"
  },
  "source_map": [
   10,
   61,
   65,
   75,
   79,
   81,
   91,
   96,
   100,
   103,
   109,
   113,
   115,
   119,
   121,
   127,
   129,
   133,
   135,
   141,
   143,
   149,
   153,
   163,
   167,
   170,
   174,
   178,
   186,
   188,
   213,
   217,
   223,
   225,
   235,
   241,
   247,
   253,
   259,
   266,
   274,
   277,
   281,
   283,
   287,
   291,
   295,
   298,
   308,
   310,
   314,
   325,
   335,
   339,
   341,
   345,
   351,
   355,
   357,
   361,
   367,
   371,
   378,
   382,
   384,
   398,
   401,
   409,
   411,
   417,
   427,
   445,
   447,
   462,
   469,
   473,
   475,
   479,
   482,
   510,
   513,
   519,
   524,
   528,
   533,
   537,
   541,
   550
  ]
 },
 "nbformat": 4,
 "nbformat_minor": 5
}