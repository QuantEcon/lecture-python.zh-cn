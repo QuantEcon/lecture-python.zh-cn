{
 "cells": [
  {
   "cell_type": "markdown",
   "id": "b2296523",
   "metadata": {},
   "source": [
    "(optgrowth)=\n",
    "```{raw} jupyter\n",
    "<div id=\"qe-notebook-header\" align=\"right\" style=\"text-align:right;\">\n",
    "        <a href=\"https://quantecon.org/\" title=\"quantecon.org\">\n",
    "                <img style=\"width:250px;display:inline;\" width=\"250px\" src=\"https://assets.quantecon.org/img/qe-menubar-logo.svg\" alt=\"QuantEcon\">\n",
    "        </a>\n",
    "</div>\n",
    "```\n",
    "\n",
    "# {index}`最优增长 II：使用Numba加速代码 <single: Optimal Growth II: Accelerating the Code with Numba>`\n",
    "\n",
    "```{contents} 目录\n",
    ":depth: 2\n",
    "```\n",
    "\n",
    "除了Anaconda中已有的库外，本讲座还需要以下库："
   ]
  },
  {
   "cell_type": "code",
   "execution_count": null,
   "id": "d5063c92",
   "metadata": {
    "tags": [
     "hide-output"
    ]
   },
   "outputs": [],
   "source": [
    "!pip install quantecon"
   ]
  },
  {
   "cell_type": "markdown",
   "id": "08efb490",
   "metadata": {},
   "source": [
    "## 概述\n",
    "\n",
    "{doc}`在之前的内容中 <optgrowth>`，我们研究了一个具有单个代表性个体的随机最优增长模型。\n",
    "\n",
    "我们使用动态规划方法求解了该模型。\n",
    "\n",
    "在编写代码时，我们注重清晰性和灵活性。\n",
    "\n",
    "这些都很重要，但灵活性和速度之间通常存在权衡。\n",
    "\n",
    "原因是，当代码灵活性较低时，我们可以更容易地利用其结构特点。\n",
    "\n",
    "（这对算法和数学问题来说普遍适用：更具体的问题具有更多的结构特征，经过思考后，可以利用这些特征获得更好的结果。）\n",
    "\n",
    "因此，在本讲中，我们将接受较低的灵活性以获得更快的速度，使用即时(JIT)编译来加速我们的代码。\n",
    "\n",
    "让我们从一些导入开始："
   ]
  },
  {
   "cell_type": "code",
   "execution_count": null,
   "id": "894e6057",
   "metadata": {},
   "outputs": [],
   "source": [
    "import matplotlib.pyplot as plt\n",
    "import matplotlib as mpl\n",
    "FONTPATH = \"fonts/SourceHanSerifSC-SemiBold.otf\"\n",
    "mpl.font_manager.fontManager.addfont(FONTPATH)\n",
    "plt.rcParams['font.family'] = ['Source Han Serif SC']\n",
    "\n",
    "import numpy as np\n",
    "from numba import jit, jit\n",
    "from quantecon.optimize.scalar_maximization import brent_max"
   ]
  },
  {
   "cell_type": "markdown",
   "id": "5115e327",
   "metadata": {},
   "source": [
    "函数`brent_max`也设计用于嵌入JIT编译代码中。\n",
    "\n",
    "这些是SciPy中类似函数的替代方案（不幸的是，SciPy的函数不支持JIT）。\n",
    "\n",
    "## 模型\n",
    "\n",
    "```{index} single: Optimal Growth; Model\n",
    "```\n",
    "\n",
    "这个模型与我们在{doc}`之前的讲座 <optgrowth>`中讨论的最优增长模型相同。\n",
    "\n",
    "我们将从对数效用函数开始：\n",
    "\n",
    "$$\n",
    "u(c) = \\ln(c)\n",
    "$$\n",
    "\n",
    "我们继续假设：\n",
    "\n",
    "* $f(k) = k^{\\alpha}$\n",
    "* $\\phi$是当$\\zeta$为标准正态分布时，$\\xi := \\exp(\\mu + s \\zeta)$的分布\n",
    "\n",
    "我们将再次使用值函数迭代来求解这个模型。\n",
    "\n",
    "具体来说，算法保持不变，唯一的区别在于实现本身。\n",
    "\n",
    "和之前一样，我们将能够与真实解进行比较"
   ]
  },
  {
   "cell_type": "code",
   "execution_count": null,
   "id": "d5b11670",
   "metadata": {
    "load": "_static/lecture_specific/optgrowth/cd_analytical.py"
   },
   "outputs": [],
   "source": [
    "\n",
    "def v_star(y, α, β, μ):\n",
    "    \"\"\"\n",
    "    True value function\n",
    "    \"\"\"\n",
    "    c1 = np.log(1 - α * β) / (1 - β)\n",
    "    c2 = (μ + α * np.log(α * β)) / (1 - α)\n",
    "    c3 = 1 / (1 - β)\n",
    "    c4 = 1 / (1 - α * β)\n",
    "    return c1 + c2 * (c3 - c4) + c4 * np.log(y)\n",
    "\n",
    "def σ_star(y, α, β):\n",
    "    \"\"\"\n",
    "    True optimal policy\n",
    "    \"\"\"\n",
    "    return (1 - α * β) * y\n",
    "\n"
   ]
  },
  {
   "cell_type": "markdown",
   "id": "6d3d5a37",
   "metadata": {},
   "source": [
    "## 计算\n",
    "\n",
    "```{index} single: Dynamic Programming; Computation\n",
    "```\n",
    "\n",
    "我们将再次把最优增长模型的基本要素存储在一个类中。\n",
    "\n",
    "但这次我们将使用[Numba的](https://python-programming.quantecon.org/numba.html) `@jitclass`装饰器来对我们的类进行JIT编译。\n",
    "\n",
    "因为我们要使用Numba来编译我们的类，所以需要指定数据类型。\n",
    "\n",
    "你会在我们的类上方看到一个名为`opt_growth_data`的列表。\n",
    "\n",
    "与{doc}`上一讲<optgrowth>`不同，我们将生产和效用函数的具体形式直接写入类中。\n",
    "\n",
    "这是我们为了获得更快的速度而牺牲灵活性的地方。"
   ]
  },
  {
   "cell_type": "code",
   "execution_count": null,
   "id": "174969b2",
   "metadata": {
    "load": "_static/lecture_specific/optgrowth_fast/ogm.py"
   },
   "outputs": [],
   "source": [
    "from numba import float64\n",
    "from numba.experimental import jitclass\n",
    "\n",
    "opt_growth_data = [\n",
    "    ('α', float64),          # Production parameter\n",
    "    ('β', float64),          # Discount factor\n",
    "    ('μ', float64),          # Shock location parameter\n",
    "    ('s', float64),          # Shock scale parameter\n",
    "    ('grid', float64[:]),    # Grid (array)\n",
    "    ('shocks', float64[:])   # Shock draws (array)\n",
    "]\n",
    "\n",
    "@jitclass(opt_growth_data)\n",
    "class OptimalGrowthModel:\n",
    "\n",
    "    def __init__(self,\n",
    "                α=0.4,\n",
    "                β=0.96,\n",
    "                μ=0,\n",
    "                s=0.1,\n",
    "                grid_max=4,\n",
    "                grid_size=120,\n",
    "                shock_size=250,\n",
    "                seed=1234):\n",
    "\n",
    "        self.α, self.β, self.μ, self.s = α, β, μ, s\n",
    "\n",
    "        # Set up grid\n",
    "        self.grid = np.linspace(1e-5, grid_max, grid_size)\n",
    "\n",
    "        # Store shocks (with a seed, so results are reproducible)\n",
    "        np.random.seed(seed)\n",
    "        self.shocks = np.exp(μ + s * np.random.randn(shock_size))\n",
    "\n",
    "\n",
    "    def f(self, k):\n",
    "        \"The production function\"\n",
    "        return k**self.α\n",
    "\n",
    "\n",
    "    def u(self, c):\n",
    "        \"The utility function\"\n",
    "        return np.log(c)\n",
    "\n",
    "    def f_prime(self, k):\n",
    "        \"Derivative of f\"\n",
    "        return self.α * (k**(self.α - 1))\n",
    "\n",
    "\n",
    "    def u_prime(self, c):\n",
    "        \"Derivative of u\"\n",
    "        return 1/c\n",
    "\n",
    "    def u_prime_inv(self, c):\n",
    "        \"Inverse of u'\"\n",
    "        return 1/c\n"
   ]
  },
  {
   "cell_type": "markdown",
   "id": "d02a5f98",
   "metadata": {},
   "source": [
    "该类包含一些方法如`u_prime`，我们现在不需要但会在后续课程中使用。\n",
    "\n",
    "### Bellman算子\n",
    "\n",
    "我们将使用JIT编译来加速Bellman算子。\n",
    "\n",
    "首先，这里有一个函数，根据Bellman方程{eq}`fpb30`返回特定消费选择`c`在给定状态`y`下的值。"
   ]
  },
  {
   "cell_type": "code",
   "execution_count": null,
   "id": "b27fd0c3",
   "metadata": {},
   "outputs": [],
   "source": [
    "@jit\n",
    "def state_action_value(c, y, v_array, og):\n",
    "    \"\"\"\n",
    "    Bellman方程右侧。\n",
    "\n",
    "     * c是消费\n",
    "     * y是收入\n",
    "     * og是OptimalGrowthModel的一个实例\n",
    "     * v_array表示网格上的值函数猜测\n",
    "\n",
    "    \"\"\"\n",
    "\n",
    "    u, f, β, shocks = og.u, og.f, og.β, og.shocks\n",
    "\n",
    "    v = lambda x: np.interp(x, og.grid, v_array)\n",
    "\n",
    "    return u(c) + β * np.mean(v(f(y - c) * shocks))"
   ]
  },
  {
   "cell_type": "markdown",
   "id": "c79a99b6",
   "metadata": {},
   "source": [
    "现在我们可以实现贝尔曼算子，它用于最大化贝尔曼方程的右侧："
   ]
  },
  {
   "cell_type": "code",
   "execution_count": null,
   "id": "75ffda67",
   "metadata": {},
   "outputs": [],
   "source": [
    "@jit\n",
    "def T(v, og):\n",
    "    \"\"\"\n",
    "    贝尔曼算子。\n",
    "\n",
    "     * og 是 OptimalGrowthModel 的一个实例\n",
    "     * v 是一个数组，表示价值函数的猜测值\n",
    "\n",
    "    \"\"\"\n",
    "\n",
    "    v_new = np.empty_like(v)\n",
    "    v_greedy = np.empty_like(v)\n",
    "\n",
    "    for i in range(len(og.grid)):\n",
    "        y = og.grid[i]\n",
    "\n",
    "        # 在状态 y 下最大化贝尔曼方程的右侧\n",
    "        result = brent_max(state_action_value, 1e-10, y, args=(y, v, og))\n",
    "        v_greedy[i], v_new[i] = result[0], result[1]\n",
    "\n",
    "    return v_greedy, v_new"
   ]
  },
  {
   "cell_type": "markdown",
   "id": "239dde0f",
   "metadata": {},
   "source": [
    "我们使用`solve_model`函数进行迭代直到收敛。"
   ]
  },
  {
   "cell_type": "code",
   "execution_count": null,
   "id": "ac5e9b5e",
   "metadata": {
    "load": "_static/lecture_specific/optgrowth/solve_model.py"
   },
   "outputs": [],
   "source": [
    "def solve_model(og,\n",
    "                tol=1e-4,\n",
    "                max_iter=1000,\n",
    "                verbose=True,\n",
    "                print_skip=25):\n",
    "    \"\"\"\n",
    "    Solve model by iterating with the Bellman operator.\n",
    "\n",
    "    \"\"\"\n",
    "\n",
    "    # Set up loop\n",
    "    v = og.u(og.grid)  # Initial condition\n",
    "    i = 0\n",
    "    error = tol + 1\n",
    "\n",
    "    while i < max_iter and error > tol:\n",
    "        v_greedy, v_new = T(v, og)\n",
    "        error = np.max(np.abs(v - v_new))\n",
    "        i += 1\n",
    "        if verbose and i % print_skip == 0:\n",
    "            print(f\"Error at iteration {i} is {error}.\")\n",
    "        v = v_new\n",
    "\n",
    "    if error > tol:\n",
    "        print(\"Failed to converge!\")\n",
    "    elif verbose:\n",
    "        print(f\"\\nConverged in {i} iterations.\")\n",
    "\n",
    "    return v_greedy, v_new\n"
   ]
  },
  {
   "cell_type": "markdown",
   "id": "c4fc48d6",
   "metadata": {},
   "source": [
    "让我们用默认参数计算近似解。\n",
    "\n",
    "首先创建一个实例："
   ]
  },
  {
   "cell_type": "code",
   "execution_count": null,
   "id": "9bf36f41",
   "metadata": {},
   "outputs": [],
   "source": [
    "og = OptimalGrowthModel()"
   ]
  },
  {
   "cell_type": "markdown",
   "id": "0e57c17b",
   "metadata": {},
   "source": [
    "现在我们调用`solve_model`，使用`%%time`魔法指令来检查运行时间。"
   ]
  },
  {
   "cell_type": "code",
   "execution_count": null,
   "id": "691ed4cc",
   "metadata": {},
   "outputs": [],
   "source": [
    "%%time\n",
    "v_greedy, v_solution = solve_model(og)"
   ]
  },
  {
   "cell_type": "markdown",
   "id": "44877431",
   "metadata": {},
   "source": [
    "你会注意到这比我们的{doc}`原始实现 <optgrowth>`要*快得多*。\n",
    "\n",
    "下面是生成的策略与真实策略的对比图："
   ]
  },
  {
   "cell_type": "code",
   "execution_count": null,
   "id": "ea6a837a",
   "metadata": {},
   "outputs": [],
   "source": [
    "fig, ax = plt.subplots()\n",
    "\n",
    "ax.plot(og.grid, v_greedy, lw=2,\n",
    "        alpha=0.8, label='近似策略函数')\n",
    "\n",
    "ax.plot(og.grid, σ_star(og.grid, og.α, og.β), 'k--',\n",
    "        lw=2, alpha=0.8, label='真实策略函数')\n",
    "\n",
    "ax.legend()\n",
    "plt.show()"
   ]
  },
  {
   "cell_type": "markdown",
   "id": "f6ec4294",
   "metadata": {},
   "source": [
    "再次，拟合效果非常好 --- 这是意料之中的，因为我们没有改变算法。\n",
    "\n",
    "两种策略之间的最大绝对偏差是"
   ]
  },
  {
   "cell_type": "code",
   "execution_count": null,
   "id": "1183978a",
   "metadata": {},
   "outputs": [],
   "source": [
    "np.max(np.abs(v_greedy - σ_star(og.grid, og.α, og.β)))"
   ]
  },
  {
   "cell_type": "markdown",
   "id": "3bcea0d2",
   "metadata": {},
   "source": [
    "## 练习\n",
    "\n",
    "```{exercise}\n",
    ":label: ogfast_ex1\n",
    "\n",
    "计时使用贝尔曼算子迭代20次所需的时间，从初始条件 $v(y) = u(y)$ 开始。\n",
    "\n",
    "使用默认参数设置。\n",
    "```\n",
    "\n",
    "```{solution-start} ogfast_ex1\n",
    ":class: dropdown\n",
    "```\n",
    "\n",
    "让我们设置初始条件。"
   ]
  },
  {
   "cell_type": "code",
   "execution_count": null,
   "id": "c9aa7b97",
   "metadata": {},
   "outputs": [],
   "source": [
    "v = og.u(og.grid)"
   ]
  },
  {
   "cell_type": "markdown",
   "id": "50d52f4d",
   "metadata": {},
   "source": [
    "这是时间统计："
   ]
  },
  {
   "cell_type": "code",
   "execution_count": null,
   "id": "005a7ae3",
   "metadata": {},
   "outputs": [],
   "source": [
    "%%time\n",
    "\n",
    "for i in range(20):\n",
    "    v_greedy, v_new = T(v, og)\n",
    "    v = v_new"
   ]
  },
  {
   "cell_type": "markdown",
   "id": "ef7d01c1",
   "metadata": {},
   "source": [
    "与我们对非编译版本的值函数迭代的{ref}`计时 <og_ex2>`相比，JIT编译的代码通常快一个数量级。\n",
    "\n",
    "```{solution-end}\n",
    "```\n",
    "\n",
    "```{exercise}\n",
    ":label: ogfast_ex2\n",
    "\n",
    "修改最优增长模型以使用CRRA效用函数规范。\n",
    "\n",
    "$$\n",
    "u(c) = \\frac{c^{1 - \\gamma} } {1 - \\gamma}\n",
    "$$\n",
    "\n",
    "将`γ = 1.5`设为默认值，并保持其他规范不变。\n",
    "\n",
    "（注意，`jitclass`目前不支持继承，所以你必须复制类并更改相关参数和方法。）\n",
    "\n",
    "计算最优策略的估计值，绘制图表，并与第一个最优增长讲座中{ref}`类似练习 <og_ex1>`的相同图表进行视觉比较。\n",
    "\n",
    "同时比较执行时间。\n",
    "```\n",
    "\n",
    "```{solution-start} ogfast_ex2\n",
    ":class: dropdown\n",
    "```\n",
    "\n",
    "这是我们的CRRA版本的`OptimalGrowthModel`："
   ]
  },
  {
   "cell_type": "code",
   "execution_count": null,
   "id": "af9e3d34",
   "metadata": {
    "load": "_static/lecture_specific/optgrowth_fast/ogm_crra.py"
   },
   "outputs": [],
   "source": [
    "from numba import float64\n",
    "from numba.experimental import jitclass\n",
    "\n",
    "opt_growth_data = [\n",
    "    ('α', float64),          # Production parameter\n",
    "    ('β', float64),          # Discount factor\n",
    "    ('μ', float64),          # Shock location parameter\n",
    "    ('γ', float64),          # Preference parameter\n",
    "    ('s', float64),          # Shock scale parameter\n",
    "    ('grid', float64[:]),    # Grid (array)\n",
    "    ('shocks', float64[:])   # Shock draws (array)\n",
    "]\n",
    "\n",
    "@jitclass(opt_growth_data)\n",
    "class OptimalGrowthModel_CRRA:\n",
    "\n",
    "    def __init__(self,\n",
    "                α=0.4,\n",
    "                β=0.96,\n",
    "                μ=0,\n",
    "                s=0.1,\n",
    "                γ=1.5,\n",
    "                grid_max=4,\n",
    "                grid_size=120,\n",
    "                shock_size=250,\n",
    "                seed=1234):\n",
    "\n",
    "        self.α, self.β, self.γ, self.μ, self.s = α, β, γ, μ, s\n",
    "\n",
    "        # Set up grid\n",
    "        self.grid = np.linspace(1e-5, grid_max, grid_size)\n",
    "\n",
    "        # Store shocks (with a seed, so results are reproducible)\n",
    "        np.random.seed(seed)\n",
    "        self.shocks = np.exp(μ + s * np.random.randn(shock_size))\n",
    "\n",
    "\n",
    "    def f(self, k):\n",
    "        \"The production function.\"\n",
    "        return k**self.α\n",
    "\n",
    "    def u(self, c):\n",
    "        \"The utility function.\"\n",
    "        return c**(1 - self.γ) / (1 - self.γ)\n",
    "\n",
    "    def f_prime(self, k):\n",
    "        \"Derivative of f.\"\n",
    "        return self.α * (k**(self.α - 1))\n",
    "\n",
    "    def u_prime(self, c):\n",
    "        \"Derivative of u.\"\n",
    "        return c**(-self.γ)\n",
    "\n",
    "    def u_prime_inv(c):\n",
    "        return c**(-1 / self.γ)\n"
   ]
  },
  {
   "cell_type": "markdown",
   "id": "f3897155",
   "metadata": {},
   "source": [
    "让我们创建一个实例："
   ]
  },
  {
   "cell_type": "code",
   "execution_count": null,
   "id": "b9323ca7",
   "metadata": {},
   "outputs": [],
   "source": [
    "og_crra = OptimalGrowthModel_CRRA()"
   ]
  },
  {
   "cell_type": "markdown",
   "id": "e2085f0e",
   "metadata": {},
   "source": [
    "现在我们调用`solve_model`，使用`%%time`魔术命令来检查运行时间。"
   ]
  },
  {
   "cell_type": "code",
   "execution_count": null,
   "id": "4baa5a9c",
   "metadata": {},
   "outputs": [],
   "source": [
    "%%time\n",
    "v_greedy, v_solution = solve_model(og_crra)"
   ]
  },
  {
   "cell_type": "markdown",
   "id": "34db18c7",
   "metadata": {},
   "source": [
    "以下是得到的策略图："
   ]
  },
  {
   "cell_type": "code",
   "execution_count": null,
   "id": "0487350c",
   "metadata": {},
   "outputs": [],
   "source": [
    "fig, ax = plt.subplots()\n",
    "\n",
    "ax.plot(og.grid, v_greedy, lw=2,\n",
    "        alpha=0.6, label='近似值函数')\n",
    "\n",
    "ax.legend(loc='lower right')\n",
    "plt.show()"
   ]
  },
  {
   "cell_type": "markdown",
   "id": "8a6d2344",
   "metadata": {},
   "source": [
    "这与我们在非jit代码中得到的解决方案相符，\n",
    "{ref}`in the exercises <og_ex1>`。\n",
    "\n",
    "执行时间快了一个数量级。\n",
    "\n",
    "```{solution-end}\n",
    "```\n",
    "\n",
    "\n",
    "```{exercise-start}\n",
    ":label: ogfast_ex3\n",
    "```\n",
    "\n",
    "在这个练习中，我们回到原始的对数效用规范。\n",
    "\n",
    "一旦给定最优消费策略$\\sigma$，收入遵循\n",
    "\n",
    "$$\n",
    "y_{t+1} = f(y_t - \\sigma(y_t)) \\xi_{t+1}\n",
    "$$\n",
    "\n",
    "下图显示了三种不同贴现因子（因此是三种不同策略）下该序列100个元素的模拟。\n",
    "\n",
    "```{figure} /_static/lecture_specific/optgrowth/solution_og_ex2.png\n",
    "```\n",
    "\n",
    "在每个序列中，初始条件是$y_0 = 0.1$。\n",
    "\n",
    "贴现因子为`discount_factors = (0.8, 0.9, 0.98)`。\n",
    "\n",
    "我们还通过设置`s = 0.05`稍微降低了冲击的幅度。\n",
    "\n",
    "除此之外，参数和原始设定与讲座前面讨论的对数线性模型相同。\n",
    "\n",
    "注意，更有耐心的代理人通常拥有更高的财富。\n",
    "\n",
    "\n",
    "复现该图形，允许随机性。\n",
    "\n",
    "```{exercise-end}\n",
    "```\n",
    "\n",
    "```{solution-start} ogfast_ex3\n",
    ":class: dropdown\n",
    "```\n",
    "\n",
    "这是一个解决方案："
   ]
  },
  {
   "cell_type": "code",
   "execution_count": null,
   "id": "7ddeddf7",
   "metadata": {},
   "outputs": [],
   "source": [
    "def simulate_og(σ_func, og, y0=0.1, ts_length=100):\n",
    "    '''\n",
    "    根据消费策略σ计算时间序列。\n",
    "    '''\n",
    "    y = np.empty(ts_length)\n",
    "    ξ = np.random.randn(ts_length-1)\n",
    "    y[0] = y0\n",
    "    for t in range(ts_length-1):\n",
    "        y[t+1] = (y[t] - σ_func(y[t]))**og.α * np.exp(og.μ + og.s * ξ[t])\n",
    "    return y"
   ]
  },
  {
   "cell_type": "code",
   "execution_count": null,
   "id": "2879c4df",
   "metadata": {},
   "outputs": [],
   "source": [
    "fig, ax = plt.subplots()\n",
    "\n",
    "for β in (0.8, 0.9, 0.98):\n",
    "\n",
    "    og = OptimalGrowthModel(β=β, s=0.05)\n",
    "\n",
    "    v_greedy, v_solution = solve_model(og, verbose=False)\n",
    "\n",
    "    # 定义最优策略函数\n",
    "    σ_func = lambda x: np.interp(x, og.grid, v_greedy)\n",
    "    y = simulate_og(σ_func, og)\n",
    "    ax.plot(y, lw=2, alpha=0.6, label=rf'$\\beta = {β}$')\n",
    "\n",
    "ax.legend(loc='lower right')\n",
    "plt.show()"
   ]
  },
  {
   "cell_type": "markdown",
   "id": "4cbc9a14",
   "metadata": {},
   "source": [
    "```{solution-end}\n",
    "```"
   ]
  }
 ],
 "metadata": {
  "jupytext": {
   "text_representation": {
    "extension": ".md",
    "format_name": "myst"
   }
  },
  "kernelspec": {
   "display_name": "Python 3",
   "language": "python",
   "name": "python3"
  },
  "source_map": [
   10,
   29,
   34,
   54,
   64,
   94,
   96,
   115,
   117,
   127,
   145,
   149,
   171,
   175,
   177,
   183,
   185,
   189,
   192,
   198,
   209,
   215,
   217,
   235,
   237,
   241,
   247,
   278,
   280,
   284,
   286,
   290,
   293,
   297,
   305,
   355,
   368,
   384
  ]
 },
 "nbformat": 4,
 "nbformat_minor": 5
}