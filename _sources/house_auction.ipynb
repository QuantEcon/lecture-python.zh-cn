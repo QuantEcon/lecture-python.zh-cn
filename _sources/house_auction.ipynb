{
 "cells": [
  {
   "cell_type": "markdown",
   "id": "2f7eb265",
   "metadata": {},
   "source": [
    "# 多种商品分配机制"
   ]
  },
  {
   "cell_type": "code",
   "execution_count": 1,
   "id": "58c8b849",
   "metadata": {
    "tags": [
     "hide-output"
    ]
   },
   "outputs": [
    {
     "name": "stdout",
     "output_type": "stream",
     "text": [
      "Collecting prettytable\r\n"
     ]
    },
    {
     "name": "stdout",
     "output_type": "stream",
     "text": [
      "  Downloading prettytable-3.16.0-py3-none-any.whl.metadata (33 kB)\r\n"
     ]
    },
    {
     "name": "stdout",
     "output_type": "stream",
     "text": [
      "Requirement already satisfied: wcwidth in /home/runner/miniconda3/envs/quantecon/lib/python3.12/site-packages (from prettytable) (0.2.5)\r\n",
      "Downloading prettytable-3.16.0-py3-none-any.whl (33 kB)\r\n"
     ]
    },
    {
     "name": "stdout",
     "output_type": "stream",
     "text": [
      "Installing collected packages: prettytable\r\n"
     ]
    },
    {
     "name": "stdout",
     "output_type": "stream",
     "text": [
      "Successfully installed prettytable-3.16.0\r\n"
     ]
    }
   ],
   "source": [
    "!pip install prettytable"
   ]
  },
  {
   "cell_type": "markdown",
   "id": "387aa5c7",
   "metadata": {},
   "source": [
    "## 概述\n",
    "\n",
    "本讲介绍两种将 $n$ 个私人物品(\"房屋\")分配给 $m$ 个人(\"买家\")的机制。\n",
    "\n",
    "我们假设 $m > n$，即潜在买家数量多于房屋数量。\n",
    "\n",
    "潜在买家将这些房屋视为**替代品**。\n",
    "\n",
    "买家 $j$ 对房屋 $i$ 的估值为 $v_{ij}$。\n",
    "\n",
    "这些估值是**私人的**\n",
    "\n",
    "  * $v_{ij}$ 只有买家 $j$ 知道，除非买家 $j$ 选择告诉他人。\n",
    "\n",
    "我们要求机制最多将一套房屋分配给一个潜在买家。\n",
    "\n",
    "我们将描述两种不同的机制\n",
    "\n",
    " * 多轮递增出价拍卖\n",
    "\n",
    " * Groves-Clarke机制{cite}`Groves_73`, {cite}`Clarke_71`的一个特例，其中有一个善意的社会规划者\n",
    "\n",
    "```{note}\n",
    "1994年，斯坦福大学实际使用了多轮递增出价拍卖的方式，将校园内9块地块的租约出售给符合条件的教职员工。\n",
    "```\n",
    "\n",
    "我们首先概述这两种机制。\n",
    "\n",
    "## 多商品递增出价拍卖\n",
    "\n",
    "拍卖由一名**拍卖师**主持\n",
    "\n",
    "拍卖师有一个 $n \\times 1$ 的向量 $r$，表示 $n$ 套房屋的保留价格。\n",
    "\n",
    "拍卖师只有在某套房屋的最终出价超过 $r_i$ 时才会出售该房屋\n",
    "\n",
    "拍卖师**同时**分配所有 $n$ 套房屋\n",
    "\n",
    "拍卖师不知道竞买人对房屋的私人估值 $v_{ij}$\n",
    "\n",
    "拍卖包含多个**轮次**\n",
    "\n",
    " - 在每轮中，活跃参与者可以对任何 $n$ 套房屋中的一套进行出价\n",
    "\n",
    " - 每个竞买人在一轮中只能对一套房屋出价\n",
    "\n",
    " - 在上一轮中成为某套房屋最高出价者的人，在下一轮将自动保持对该房屋的相同出价\n",
    "\n",
    " - 在轮次之间，未成为最高出价者的竞买人可以改变其选择竞价的房屋\n",
    "\n",
    " - 当所有房屋的价格在相邻两轮之间都没有变化时，拍卖结束\n",
    "\n",
    " - 所有 $n$ 套房屋在最后一轮后都将被分配\n",
    "\n",
    "- 如果没有潜在买家出价超过 $r_i$，房屋 $i$ 将由拍卖人保留\n",
    "\n",
    "在这次拍卖中，个人 $j$ 从不向其他人透露他/她的私人估值 $v_{ij}$\n",
    "\n",
    "\n",
    "\n",
    "\n",
    "## 仁慈的规划者\n",
    "\n",
    "这个机制的设计使所有潜在买家自愿向**社会规划者**透露他们的私人估值，规划者利用这些信息构建一个社会最优配置。\n",
    "\n",
    "在所有可行的配置中，**社会最优配置**使所有潜在买家的私人估值总和最大化。\n",
    "\n",
    "规划者提前告知每个人他/她将如何根据潜在买家报告的估值矩阵来分配房屋。\n",
    "\n",
    "该机制为每个潜在买家提供动机，使其向规划者透露自己的私人估值向量。\n",
    "\n",
    "在规划者收到每个人的私人价值向量后，规划者部署一个**顺序**算法来确定房屋的**分配**以及向获得者收取的一系列**费用**，这些费用是为了补偿他们的存在对其他潜在买家造成的负面**外部性**。\n",
    "\n",
    "## 分配的等价性\n",
    "\n",
    "值得注意的是，这两种机制可以产生几乎相同的分配结果。\n",
    "\n",
    "我们用Python代码实现这两种机制。\n",
    "\n",
    "我们还会手动或半手动计算一些示例。\n",
    "\n",
    "接下来，让我们深入了解细节。\n",
    "\n",
    "## 递增出价拍卖\n",
    "\n",
    "### 基本设置\n",
    "\n",
    "我们从更详细的情况描述开始。\n",
    "\n",
    "* 一个卖家拥有$n$套房屋，他想以最高可能的价格将其出售给$m$个潜在的合格买家。\n",
    "\n",
    "* 卖家最多只想向每个潜在买家出售一套房屋。\n",
    "\n",
    "* 有$m$个潜在的合格买家，用$j = [1, 2, \\ldots, m]$来标识\n",
    "\n",
    "* 每个潜在买家最多只能购买一套房屋。\n",
    "\n",
    "    * 买家 $j$ 愿意为房屋 $i$ 支付的最高价格是 $v_{ij}$。\n",
    "\n",
    "    * 买家 $j$ 知道 $v_{ij}, i= 1, \\ldots , n$，但其他人不知道。\n",
    "\n",
    "    * 如果买家 $j$ 为房屋 $i$ 支付 $p_i$，他获得的剩余价值为 $v_{ij} - p_i$。\n",
    "\n",
    "    * 每个买家 $j$ 想要选择能使其剩余价值 $v_{ij} - p_i$ 最大化的房屋 $i$。\n",
    "\n",
    "    * 卖家想要使 $\\sum_i p_i$ 最大化。\n",
    "\n",
    "卖家进行一个**同步的、多商品的升价拍卖**。\n",
    "\n",
    "拍卖的结果包括：\n",
    "\n",
    "  * 一个 $n \\times 1$ 的销售价格向量 $p = [p_1, \\ldots, p_n]$，表示 $n$ 套房屋的价格。\n",
    "\n",
    "  * 一个由 $0$ 和 $1$ 组成的 $n \\times m$ 矩阵 $Q$，其中 $Q_{ij} = 1$ 当且仅当买家 $j$ 购买了房屋 $i$。\n",
    "\n",
    "  * 一个 $n \\times m$ 的剩余价值矩阵 $S$，除非买家 $j$ 购买了房屋 $i$，否则矩阵元素均为零；如果买家 $j$ 购买了房屋 $i$，则 $S_{ij} = v_{ij} - p_i$"
   ]
  },
  {
   "cell_type": "markdown",
   "id": "5e6e580e",
   "metadata": {},
   "source": [
    "我们用**伪代码**来描述拍卖规则。\n",
    "\n",
    "伪代码将为编写实现拍卖的Python代码提供路线图。"
   ]
  },
  {
   "cell_type": "markdown",
   "id": "c6592afe",
   "metadata": {},
   "source": [
    "## 伪代码\n",
    "\n",
    "这里简要概述了我们Python代码可能的简单结构\n",
    "\n",
    "**输入：**\n",
    "\n",
    "- $n, m$\n",
    "- 一个 $n \\times m$ 的非负矩阵 $v$，表示私人估值\n",
    "- 一个 $n \\times 1$ 的向量 $r$，表示卖方指定的保留价格\n",
    "- 卖方不会接受低于房屋 $i$ 的保留价格 $r_i$ 的价格\n",
    "- 我们可以将这些保留价格视为第 $m+1$ 个虚拟买家的私人估值，该买家实际上不参与拍卖\n",
    "- 初始出价可以从 $r$ 开始\n",
    "- 卖方指定的最小加价幅度标量 $\\epsilon$\n",
    "\n",
    "在拍卖的每一轮中，对房屋的新出价必须至少为目前最高出价**加上** $\\epsilon$\n",
    "\n",
    "**拍卖规则**\n",
    "\n",
    "- 拍卖包含有限数量的**轮次**\n",
    "- 在每一轮中，潜在买家只能对一个房屋出价\n",
    "\n",
    "- 每轮结束后，出价最高的人将暂时获得该房屋\n",
    "    - 每套房屋的暂时中标价会被公布\n",
    "    - 这为进入下一轮做好准备\n",
    "- 进行新一轮竞拍\n",
    "    - 上一轮暂时中标者的出价仍然保留在他们竞拍的房屋上；上一轮的暂时中标者保持其出价不变\n",
    "    - 所有其他活跃的潜在买家必须对某套房屋提交新的出价\n",
    "    - 对某套房屋的新出价必须至少等于上一轮的暂时中标价**加上**$\\epsilon$\n",
    "    - 如果一个人既没有提交新的出价，又不是上一轮的暂时中标者，那么这个人必须永久退出拍卖\n",
    "\n",
    "- 对于每个房屋,会公布最高出价(无论是新出价还是上一轮的临时中标价),并且出价最高的人将(暂时)获得该房屋以开始下一轮\n",
    "- 轮次持续进行,直到**所有**房屋的价格相比上一轮都没有变化\n",
    "- 房屋以最终轮次中标者的出价价格售出\n",
    "\n",
    "**输出:**\n",
    "- 一个 $n \\times 1$ 的销售价格向量 $p$\n",
    "- 一个 $n \\times m$ 的剩余价值矩阵 $S$,除非买家 $j$ 购买了房屋 $i$,此时 $S_{ij} = v_{ij} - p_i$,否则均为零\n",
    "- 一个 $n \\times (m+1)$ 的由 $0$ 和 $1$ 组成的矩阵 $Q$,用于表示哪个买家购买了哪个房屋。(最后一列用于记录未售出的房屋。)\n",
    "\n",
    "**建议的买家策略:**\n",
    "\n",
    "在以下伪代码和实际Python代码中,我们假设所有买家都选择使用以下策略\n",
    "\n",
    "   * 该策略对每个买家来说都是最优的\n",
    "\n",
    "每个买家 $j = 1, \\ldots, m$ 使用相同的策略。\n",
    "\n",
    "该策略的形式为：\n",
    "- 令 $\\check p^t$ 为第 $t$ 轮开始时的 $n \\times 1$ 最高出价向量\n",
    "- 令 $\\epsilon>0$ 为卖方规定的最小加价幅度\n",
    "- 对于每个潜在买家 $j$，计算在第 $t$ 轮最适合竞价的房屋索引，即\n",
    "$\\hat i_t = \\textrm{argmax}_i\\{  [  v_{ij} - \\check p^t_i - \\epsilon  ]\\}$\n",
    "- 如果 $\\max_i\\{  [  v_{ij} - \\check p^t_i - \\epsilon  ]\\} $ $\\leq$ $0$，则买家 $j$ 在第 $t$ 轮永久退出拍卖\n",
    "- 如果 $v_{\\hat i_t, j} - \\check p^t_i - \\epsilon>0$，则买家 $j$ 对房屋 $j$ 出价 $\\check p^t_i + \\epsilon$\n",
    "\n",
    "**解决歧义**：我们目前描述的协议存在两个可能的歧义来源。\n",
    "\n",
    "(1) **买家在每轮中的最优出价选择。** 买家可能对多个房屋有相同的剩余价值。Python中的argmax函数总是返回第一个最大值元素。我们更倾向于在这些获胜者中随机选择。因此，我们在下面编写了自己的argmax函数。\n",
    "\n",
    "(2) **当多个买家出价相同时卖家的获胜者选择。** 为了解决这种模糊性，我们使用下面的np.random.choice函数。\n",
    "\n",
    "鉴于结果的随机性，相同的输入可能会产生不同的房屋分配。\n",
    "\n",
    "然而，这种情况只会在出价价格增量$\\epsilon$不可忽略时发生。"
   ]
  },
  {
   "cell_type": "code",
   "execution_count": 2,
   "id": "4ecec338",
   "metadata": {},
   "outputs": [],
   "source": [
    "import numpy as np\n",
    "import prettytable as pt\n",
    "\n",
    "np.random.seed(100)"
   ]
  },
  {
   "cell_type": "code",
   "execution_count": 3,
   "id": "3d20db36",
   "metadata": {},
   "outputs": [],
   "source": [
    "np.set_printoptions(precision=3, suppress=True)"
   ]
  },
  {
   "cell_type": "markdown",
   "id": "68fe8cad",
   "metadata": {},
   "source": [
    "## 示例"
   ]
  },
  {
   "cell_type": "markdown",
   "id": "203441fa",
   "metadata": {},
   "source": [
    "在构建 Python 类之前，让我们先一步一步地\"手动\"解决问题，以便理解拍卖是如何进行的。\n",
    "\n",
    "逐步解决的方法也有助于减少错误，特别是当价值矩阵比较特殊时（例如，价值之间的差异可以忽略不计，某列包含相同的值，或多个买家具有相同的估值等）。\n",
    "\n",
    "幸运的是，我们的拍卖算法对各种特殊矩阵都表现良好且稳健。\n",
    "\n",
    "我们将在本讲稍后提供一些示例。"
   ]
  },
  {
   "cell_type": "code",
   "execution_count": 4,
   "id": "9b4a3332",
   "metadata": {},
   "outputs": [],
   "source": [
    "v = np.array([[8, 5, 9, 4],\n",
    "              [4, 11, 7, 4],\n",
    "              [9, 7, 6, 4]])\n",
    "n, m = v.shape\n",
    "r = np.array([2, 1, 0])\n",
    "ϵ = 1\n",
    "p = r.copy()\n",
    "buyer_list = np.arange(m)\n",
    "house_list = np.arange(n)"
   ]
  },
  {
   "cell_type": "code",
   "execution_count": 5,
   "id": "dcfd7623",
   "metadata": {},
   "outputs": [
    {
     "data": {
      "text/plain": [
       "array([[ 8,  5,  9,  4],\n",
       "       [ 4, 11,  7,  4],\n",
       "       [ 9,  7,  6,  4]])"
      ]
     },
     "execution_count": 5,
     "metadata": {},
     "output_type": "execute_result"
    }
   ],
   "source": [
    "v"
   ]
  },
  {
   "cell_type": "markdown",
   "id": "e7da4ca2",
   "metadata": {},
   "source": [
    "请记住，列索引 $j$ 表示买家，行索引 $i$ 表示房屋。\n",
    "\n",
    "上述价值矩阵 $v$ 的特殊之处在于买家3（从0开始索引）对每套待售房屋都赋予相同的价值 $4$。\n",
    "\n",
    "也许买家3是一名官僚，他只是按照上级的指示来购买这些房屋。"
   ]
  },
  {
   "cell_type": "code",
   "execution_count": 6,
   "id": "a24e9528",
   "metadata": {},
   "outputs": [
    {
     "data": {
      "text/plain": [
       "array([2, 1, 0])"
      ]
     },
     "execution_count": 6,
     "metadata": {},
     "output_type": "execute_result"
    }
   ],
   "source": [
    "r"
   ]
  },
  {
   "cell_type": "code",
   "execution_count": 7,
   "id": "9f8e3ca8",
   "metadata": {},
   "outputs": [],
   "source": [
    "def find_argmax_with_randomness(v):\n",
    "    \"\"\"\n",
    "    我们构建自己的argmax函数，当存在多个最大值时，随机返回其中一个最大值的索引。\n",
    "    这个函数类似于np.argmax(v,axis=0)\n",
    "\n",
    "    参数：\n",
    "    ----------\n",
    "    v: 2维np.array\n",
    "\n",
    "    \"\"\"\n",
    "\n",
    "    n, m = v.shape\n",
    "    index_array = np.arange(n)\n",
    "    result=[]\n",
    "\n",
    "    for ii in range(m):\n",
    "        max_value = v[:,ii].max()\n",
    "        result.append(np.random.choice(index_array[v[:,ii] == max_value]))\n",
    "\n",
    "    return np.array(result)"
   ]
  },
  {
   "cell_type": "code",
   "execution_count": 8,
   "id": "114ca795",
   "metadata": {},
   "outputs": [],
   "source": [
    "def present_dict(dt):\n",
    "    \"\"\"\n",
    "    一个以表格形式展示信息的函数。\n",
    "\n",
    "    参数：\n",
    "    ----------\n",
    "    dt：字典。\n",
    "\n",
    "    \"\"\"\n",
    "\n",
    "    ymtb = pt.PrettyTable()\n",
    "    ymtb.field_names = ['房屋编号', *dt.keys()]\n",
    "    ymtb.add_row(['买家', *dt.values()])\n",
    "    print(ymtb)"
   ]
  },
  {
   "cell_type": "markdown",
   "id": "32467cdd",
   "metadata": {},
   "source": [
    "**检查启动条件**"
   ]
  },
  {
   "cell_type": "code",
   "execution_count": 9,
   "id": "6869de0a",
   "metadata": {},
   "outputs": [],
   "source": [
    "def check_kick_off_condition(v, r, ϵ):\n",
    "    \"\"\"\n",
    "    一个检查在给定保留价格和价值矩阵的情况下是否可以启动拍卖的函数。\n",
    "    为了避免保留价格过高导致没有人愿意在第一轮出价的情况。\n",
    "\n",
    "    参数：\n",
    "    ----------\n",
    "    v：形状为(n,m)的价值矩阵。\n",
    "\n",
    "    r：保留价格\n",
    "\n",
    "    ϵ：每轮最小价格增量\n",
    "\n",
    "    \"\"\"\n",
    "\n",
    "    # 我们将价格向量转换为与价值矩阵相同形状的矩阵以便于减法运算\n",
    "    p_start = (ϵ+r)[:,None] @ np.ones(m)[None,:]\n",
    "\n",
    "    surplus_value = v - p_start\n",
    "    buyer_decision = (surplus_value > 0).any(axis = 0)\n",
    "    return buyer_decision.any()"
   ]
  },
  {
   "cell_type": "code",
   "execution_count": 10,
   "id": "cf5bcf37",
   "metadata": {},
   "outputs": [
    {
     "data": {
      "text/plain": [
       "True"
      ]
     },
     "execution_count": 10,
     "metadata": {},
     "output_type": "execute_result"
    }
   ],
   "source": [
    "check_kick_off_condition(v, r, ϵ)"
   ]
  },
  {
   "cell_type": "markdown",
   "id": "95fec9ce",
   "metadata": {},
   "source": [
    "### 第一轮"
   ]
  },
  {
   "cell_type": "markdown",
   "id": "cb566b5d",
   "metadata": {},
   "source": [
    "**提交出价**"
   ]
  },
  {
   "cell_type": "code",
   "execution_count": 11,
   "id": "39634a1b",
   "metadata": {},
   "outputs": [],
   "source": [
    "def submit_initial_bid(p_initial, ϵ, v):\n",
    "    \"\"\"\n",
    "    描述第一轮竞价信息的函数。\n",
    "\n",
    "    参数：\n",
    "    ----------\n",
    "    p_initial: 拍卖开始时的价格（或保留价格）\n",
    "\n",
    "    v: 价值矩阵\n",
    "\n",
    "    ϵ: 每轮最小加价幅度\n",
    "\n",
    "    返回：\n",
    "    ----------\n",
    "    p: 本轮竞价后的价格数组\n",
    "\n",
    "    bid_info: 包含竞价信息的字典（房屋编号为键，买家为值）\n",
    "\n",
    "    \"\"\"\n",
    "\n",
    "    p = p_initial.copy()\n",
    "    p_start_mat = (ϵ + p)[:,None] @ np.ones(m)[None,:]\n",
    "    surplus_value = v - p_start_mat\n",
    "\n",
    "    # 我们只关注具有正剩余价值的活跃买家\n",
    "    active_buyer_diagnosis = (surplus_value > 0).any(axis = 0)\n",
    "    active_buyer_list = buyer_list[active_buyer_diagnosis]\n",
    "    active_buyer_surplus_value = surplus_value[:,active_buyer_diagnosis]\n",
    "    active_buyer_choice = find_argmax_with_randomness(active_buyer_surplus_value)\n",
    "    # choice表示在当前价格和ϵ下的最喜欢的房屋\n",
    "\n",
    "    # 我们只保留唯一的房屋索引，因为价格在一轮中只增加一次\n",
    "    house_bid = list(set(active_buyer_choice))\n",
    "    p[house_bid] += ϵ\n",
    "\n",
    "    bid_info = {}\n",
    "    for house_num in house_bid:\n",
    "        bid_info[house_num] = active_buyer_list[active_buyer_choice == house_num]\n",
    "\n",
    "    return p, bid_info"
   ]
  },
  {
   "cell_type": "code",
   "execution_count": 12,
   "id": "7eac7e42",
   "metadata": {},
   "outputs": [],
   "source": [
    "p, bid_info = submit_initial_bid(p, ϵ, v)"
   ]
  },
  {
   "cell_type": "code",
   "execution_count": 13,
   "id": "bfb31dce",
   "metadata": {},
   "outputs": [
    {
     "data": {
      "text/plain": [
       "array([3, 2, 1])"
      ]
     },
     "execution_count": 13,
     "metadata": {},
     "output_type": "execute_result"
    }
   ],
   "source": [
    "p"
   ]
  },
  {
   "cell_type": "code",
   "execution_count": 14,
   "id": "187d438f",
   "metadata": {},
   "outputs": [
    {
     "name": "stdout",
     "output_type": "stream",
     "text": [
      "+----------+-----+-----+-------+\n",
      "| 房屋编号 |  0  |  1  |   2   |\n",
      "+----------+-----+-----+-------+\n",
      "|   买家   | [2] | [1] | [0 3] |\n",
      "+----------+-----+-----+-------+\n"
     ]
    }
   ],
   "source": [
    "present_dict(bid_info)"
   ]
  },
  {
   "cell_type": "markdown",
   "id": "699babe4",
   "metadata": {},
   "source": [
    "**检查终止条件**"
   ]
  },
  {
   "cell_type": "markdown",
   "id": "8ae65332",
   "metadata": {},
   "source": [
    "注意到两个买家对房屋2（从0开始索引）进行竞价。\n",
    "\n",
    "由于拍卖协议没有规定这种情况下的选择规则，我们**随机**选择一个赢家。\n",
    "\n",
    "这是合理的，因为卖家无法区分这些买家，也不知道每个买家的估值。\n",
    "\n",
    "对他来说，随机选择一个赢家既方便又实用。\n",
    "\n",
    "买家3有50%的概率被选为房屋2的赢家，尽管他对房屋的估值低于买家0。\n",
    "\n",
    "在这种情况下，买家0必须以更高的价格再次竞价，从而挤出买家3。\n",
    "\n",
    "因此，最终价格可能是3或4，这取决于最后一轮的赢家。"
   ]
  },
  {
   "cell_type": "code",
   "execution_count": 15,
   "id": "d6c972e6",
   "metadata": {},
   "outputs": [],
   "source": [
    "def check_terminal_condition(bid_info, p, v):\n",
    "    \"\"\"\n",
    "    检查拍卖是否结束的函数。\n",
    "\n",
    "    请记住，当失败者对每个房屋都没有正的剩余价值，\n",
    "    或者没有失败者（每个买家都得到一个房屋）时，拍卖结束。\n",
    "\n",
    "    参数：\n",
    "    ----------\n",
    "    bid_info：包含房屋编号（作为键）和买家（作为值）竞价信息的字典。\n",
    "\n",
    "    p：np.array。房屋价格数组\n",
    "\n",
    "    v：价值矩阵\n",
    "\n",
    "    返回：\n",
    "    ----------\n",
    "    allocation：描述竞价房屋如何分配的字典。\n",
    "\n",
    "    winner_list：赢家列表\n",
    "\n",
    "    loser_list：失败者列表\n",
    "\n",
    "    \"\"\"\n",
    "\n",
    "    # 可能有几个买家竞价一个房屋，我们随机选择一个赢家\n",
    "    winner_list=[np.random.choice(bid_info[ii]) for ii in bid_info.keys()]\n",
    "\n",
    "    allocation = {house_num:winner for house_num,winner in zip(bid_info.keys(),winner_list)}\n",
    "\n",
    "    loser_set = set(buyer_list).difference(set(winner_list))\n",
    "    loser_list = list(loser_set)\n",
    "    loser_num = len(loser_list)\n",
    "\n",
    "    if loser_num == 0:\n",
    "        print('拍卖结束，因为每个买家都得到了一个房屋。')\n",
    "        return allocation,winner_list,loser_list\n",
    "\n",
    "    p_mat = (ϵ + p)[:,None] @ np.ones(loser_num)[None,:]\n",
    "    loser_surplus_value = v[:,loser_list] - p_mat\n",
    "    loser_decision = (loser_surplus_value > 0).any(axis = 0)\n",
    "\n",
    "    print(~(loser_decision.any()))\n",
    "\n",
    "    return allocation,winner_list,loser_list"
   ]
  },
  {
   "cell_type": "code",
   "execution_count": 16,
   "id": "d142bd48",
   "metadata": {},
   "outputs": [
    {
     "name": "stdout",
     "output_type": "stream",
     "text": [
      "False\n"
     ]
    }
   ],
   "source": [
    "allocation, winner_list, loser_list = check_terminal_condition(bid_info, p, v)"
   ]
  },
  {
   "cell_type": "code",
   "execution_count": 17,
   "id": "74c39e08",
   "metadata": {},
   "outputs": [
    {
     "name": "stdout",
     "output_type": "stream",
     "text": [
      "+----------+---+---+---+\n",
      "| 房屋编号 | 0 | 1 | 2 |\n",
      "+----------+---+---+---+\n",
      "|   买家   | 2 | 1 | 0 |\n",
      "+----------+---+---+---+\n"
     ]
    }
   ],
   "source": [
    "present_dict(allocation)"
   ]
  },
  {
   "cell_type": "code",
   "execution_count": 18,
   "id": "2827d6de",
   "metadata": {},
   "outputs": [
    {
     "data": {
      "text/plain": [
       "[2, 1, 0]"
      ]
     },
     "execution_count": 18,
     "metadata": {},
     "output_type": "execute_result"
    }
   ],
   "source": [
    "winner_list"
   ]
  },
  {
   "cell_type": "code",
   "execution_count": 19,
   "id": "3a6c5635",
   "metadata": {},
   "outputs": [
    {
     "data": {
      "text/plain": [
       "[3]"
      ]
     },
     "execution_count": 19,
     "metadata": {},
     "output_type": "execute_result"
    }
   ],
   "source": [
    "loser_list"
   ]
  },
  {
   "cell_type": "markdown",
   "id": "c7cfc616",
   "metadata": {},
   "source": [
    "### 第二轮"
   ]
  },
  {
   "cell_type": "markdown",
   "id": "dbbdfaa6",
   "metadata": {},
   "source": [
    "从第二轮开始，拍卖的进行方式与第一轮不同。\n",
    "\n",
    "现在只有活跃的失败者（那些具有正剩余价值的人）才有动机提交出价，以取代上一轮的临时获胜者。"
   ]
  },
  {
   "cell_type": "code",
   "execution_count": 20,
   "id": "8cdee98f",
   "metadata": {},
   "outputs": [],
   "source": [
    "def submit_bid(loser_list, p, ϵ, v, bid_info):\n",
    "    \"\"\"\n",
    "    一个在第一轮之后执行出价操作的函数。\n",
    "    第一轮之后，只有活跃的失败者会以旧价格加增量作为新的出价。\n",
    "    通过这样的出价，上一轮的获胜者被活跃的失败者取代。\n",
    "\n",
    "    参数：\n",
    "    ----------\n",
    "    loser_list：包含失败者索引的列表\n",
    "\n",
    "    p：np.array。房屋价格数组\n",
    "\n",
    "    ϵ：出价的最小增量\n",
    "\n",
    "    v：价值矩阵\n",
    "\n",
    "    bid_info：包含房屋编号（作为键）和买家（作为值）的出价信息字典。\n",
    "\n",
    "    返回：\n",
    "    ----------\n",
    "    p_end：此轮出价后的价格数组\n",
    "\n",
    "    bid_info：包含更新后出价信息的字典。\n",
    "\n",
    "    \"\"\"\n",
    "\n",
    "    p_end=p.copy()\n",
    "\n",
    "    loser_num = len(loser_list)\n",
    "    p_mat = (ϵ + p_end)[:,None] @ np.ones(loser_num)[None,:]\n",
    "    loser_surplus_value = v[:,loser_list] - p_mat\n",
    "    loser_decision = (loser_surplus_value > 0).any(axis = 0)\n",
    "\n",
    "    active_loser_list = np.array(loser_list)[loser_decision]\n",
    "    active_loser_surplus_value = loser_surplus_value[:,loser_decision]\n",
    "    active_loser_choice = find_argmax_with_randomness(active_loser_surplus_value)\n",
    "\n",
    "    # 我们保留唯一的房屋索引并增加相应的出价价格\n",
    "    house_bid = list(set(active_loser_choice))\n",
    "    p_end[house_bid] += ϵ\n",
    "\n",
    "    # 我们记录来自活跃失败者的出价信息\n",
    "    bid_info_active_loser = {}\n",
    "    for house_num in house_bid:\n",
    "        bid_info_active_loser[house_num] = active_loser_list[active_loser_choice == house_num]\n",
    "\n",
    "    # 我们根据活跃失败者的出价更新出价信息\n",
    "    for house_num in bid_info_active_loser.keys():\n",
    "        bid_info[house_num] = bid_info_active_loser[house_num]\n",
    "\n",
    "    return p_end,bid_info"
   ]
  },
  {
   "cell_type": "code",
   "execution_count": 21,
   "id": "2a6631ee",
   "metadata": {},
   "outputs": [
    {
     "ename": "NameError",
     "evalue": "name '失败者列表' is not defined",
     "output_type": "error",
     "traceback": [
      "\u001b[0;31m---------------------------------------------------------------------------\u001b[0m",
      "\u001b[0;31mNameError\u001b[0m                                 Traceback (most recent call last)",
      "Cell \u001b[0;32mIn[21], line 1\u001b[0m\n\u001b[0;32m----> 1\u001b[0m p,bid_info \u001b[38;5;241m=\u001b[39m submit_bid(失败者列表, p, ϵ, v, bid_info)\n",
      "\u001b[0;31mNameError\u001b[0m: name '失败者列表' is not defined"
     ]
    }
   ],
   "source": [
    "p,bid_info = submit_bid(失败者列表, p, ϵ, v, bid_info)"
   ]
  },
  {
   "cell_type": "code",
   "execution_count": null,
   "id": "63d621e6",
   "metadata": {},
   "outputs": [],
   "source": [
    "p"
   ]
  },
  {
   "cell_type": "code",
   "execution_count": null,
   "id": "1fa12e3c",
   "metadata": {},
   "outputs": [],
   "source": [
    "present_dict(bid_info)"
   ]
  },
  {
   "cell_type": "code",
   "execution_count": null,
   "id": "cc5224db",
   "metadata": {},
   "outputs": [],
   "source": [
    "allocation, winner_list, loser_list = check_terminal_condition(bid_info, p, v)"
   ]
  },
  {
   "cell_type": "code",
   "execution_count": null,
   "id": "512537d7",
   "metadata": {},
   "outputs": [],
   "source": [
    "present_dict(allocation)"
   ]
  },
  {
   "cell_type": "markdown",
   "id": "155a0378",
   "metadata": {},
   "source": [
    "### 第三轮"
   ]
  },
  {
   "cell_type": "code",
   "execution_count": null,
   "id": "5de6fbda",
   "metadata": {},
   "outputs": [],
   "source": [
    "p,bid_info = submit_bid(loser_list, p, ϵ, v, bid_info)"
   ]
  },
  {
   "cell_type": "code",
   "execution_count": null,
   "id": "3fe7fff7",
   "metadata": {},
   "outputs": [],
   "source": [
    "p"
   ]
  },
  {
   "cell_type": "code",
   "execution_count": null,
   "id": "f7482f1d",
   "metadata": {},
   "outputs": [],
   "source": [
    "present_dict(bid_info)"
   ]
  },
  {
   "cell_type": "code",
   "execution_count": null,
   "id": "ef2a5d6e",
   "metadata": {},
   "outputs": [],
   "source": [
    "allocation, winner_list, loser_list = check_terminal_condition(bid_info, p, v)"
   ]
  },
  {
   "cell_type": "code",
   "execution_count": null,
   "id": "319fd8ec",
   "metadata": {},
   "outputs": [],
   "source": [
    "present_dict(allocation)"
   ]
  },
  {
   "cell_type": "markdown",
   "id": "9ff96e59",
   "metadata": {},
   "source": [
    "### 第四轮"
   ]
  },
  {
   "cell_type": "code",
   "execution_count": null,
   "id": "beff4ed8",
   "metadata": {},
   "outputs": [],
   "source": [
    "p,bid_info = submit_bid(loser_list, p, ϵ, v, bid_info)"
   ]
  },
  {
   "cell_type": "code",
   "execution_count": null,
   "id": "de9b4a6d",
   "metadata": {},
   "outputs": [],
   "source": [
    "p"
   ]
  },
  {
   "cell_type": "code",
   "execution_count": null,
   "id": "8d59ba13",
   "metadata": {},
   "outputs": [],
   "source": [
    "present_dict(bid_info)"
   ]
  },
  {
   "cell_type": "markdown",
   "id": "4d0ccd81",
   "metadata": {},
   "source": [
    "注意，买家3现在转而竞标房屋1，因为他意识到房屋2不再是他的最佳选择。"
   ]
  },
  {
   "cell_type": "code",
   "execution_count": null,
   "id": "435bb1ec",
   "metadata": {},
   "outputs": [],
   "source": [
    "allocation,winner_list,loser_list = check_terminal_condition(bid_info, p, v)"
   ]
  },
  {
   "cell_type": "code",
   "execution_count": null,
   "id": "6eef5a23",
   "metadata": {},
   "outputs": [],
   "source": [
    "present_dict(allocation)"
   ]
  },
  {
   "cell_type": "markdown",
   "id": "634227b4",
   "metadata": {},
   "source": [
    "### 第5轮"
   ]
  },
  {
   "cell_type": "code",
   "execution_count": null,
   "id": "413c5551",
   "metadata": {},
   "outputs": [],
   "source": [
    "p,bid_info = submit_bid(loser_list, p, ϵ, v, bid_info)"
   ]
  },
  {
   "cell_type": "code",
   "execution_count": null,
   "id": "2f01f6c2",
   "metadata": {},
   "outputs": [],
   "source": [
    "p"
   ]
  },
  {
   "cell_type": "code",
   "execution_count": null,
   "id": "9838eaca",
   "metadata": {},
   "outputs": [],
   "source": [
    "present_dict(bid_info)"
   ]
  },
  {
   "cell_type": "markdown",
   "id": "84a0c55a",
   "metadata": {},
   "source": [
    "现在买家1再次对房屋1出价4，挤出了买家3，标志着拍卖的结束。"
   ]
  },
  {
   "cell_type": "code",
   "execution_count": null,
   "id": "f26b369a",
   "metadata": {},
   "outputs": [],
   "source": [
    "allocation,winner_list,loser_list = check_terminal_condition(bid_info, p, v)"
   ]
  },
  {
   "cell_type": "code",
   "execution_count": null,
   "id": "3ac45079",
   "metadata": {},
   "outputs": [],
   "source": [
    "present_dict(allocation)"
   ]
  },
  {
   "cell_type": "code",
   "execution_count": null,
   "id": "efd2a3c3",
   "metadata": {},
   "outputs": [],
   "source": [
    "# 对于未售出的房屋\n",
    "\n",
    "house_unsold_list = list(set(house_list).difference(set(allocation.keys())))\n",
    "house_unsold_list"
   ]
  },
  {
   "cell_type": "code",
   "execution_count": null,
   "id": "5edeacfc",
   "metadata": {},
   "outputs": [],
   "source": [
    "total_revenue = p[list(allocation.keys())].sum()\n",
    "total_revenue"
   ]
  },
  {
   "cell_type": "markdown",
   "id": "a77914c0",
   "metadata": {},
   "source": [
    "## Python类"
   ]
  },
  {
   "cell_type": "markdown",
   "id": "67cc9775",
   "metadata": {},
   "source": [
    "上面我们逐步模拟了一个递增出价拍卖。\n",
    "\n",
    "在定义函数时,由于Python函数执行完后会丢失变量,我们反复计算了一些中间对象。\n",
    "\n",
    "这当然导致了代码中的冗余\n",
    "\n",
    "将上述所有代码收集到一个记录所有回合信息的类中会更有效率。"
   ]
  },
  {
   "cell_type": "code",
   "execution_count": null,
   "id": "5e9ae33e",
   "metadata": {},
   "outputs": [],
   "source": [
    "class ascending_bid_auction:\n",
    "\n",
    "    def __init__(self, v, r, ϵ):\n",
    "        \"\"\"\n",
    "        一个模拟房屋递增出价拍卖的类。\n",
    "\n",
    "        给定买家的价值矩阵、卖家的保留价格和最小出价增量，\n",
    "        该类可以执行递增出价拍卖并逐轮展示信息直至结束。\n",
    "\n",
    "        参数:\n",
    "        ----------\n",
    "        v: 二维价值矩阵\n",
    "\n",
    "        r: 保留价格的np.array\n",
    "\n",
    "        ϵ: 最小出价增量\n",
    "\n",
    "        \"\"\"\n",
    "\n",
    "        self.v = v.copy()\n",
    "        self.n,self.m = self.v.shape\n",
    "        self.r = r\n",
    "        self.ϵ = ϵ\n",
    "        self.p = r.copy()\n",
    "        self.buyer_list = np.arange(self.m)\n",
    "        self.house_list = np.arange(self.n)\n",
    "        self.bid_info_history = []\n",
    "        self.allocation_history = []\n",
    "        self.winner_history = []\n",
    "        self.loser_history = []\n",
    "\n",
    "\n",
    "    def find_argmax_with_randomness(self, v):\n",
    "        n,m = v.shape\n",
    "        index_array = np.arange(n)\n",
    "        result=[]\n",
    "\n",
    "        for ii in range(m):\n",
    "            max_value = v[:,ii].max()\n",
    "            result.append(np.random.choice(index_array[v[:,ii] == max_value]))\n",
    "\n",
    "        return np.array(result)\n",
    "\n",
    "\n",
    "    def check_kick_off_condition(self):\n",
    "        # 我们将价格向量转换为与价值矩阵相同形状的矩阵以便于相减\n",
    "        p_start = (self.ϵ + self.r)[:,None] @ np.ones(self.m)[None,:]\n",
    "        self.surplus_value = self.v - p_start\n",
    "        buyer_decision = (self.surplus_value > 0).any(axis = 0)\n",
    "        return buyer_decision.any()\n",
    "\n",
    "\n",
    "    def submit_initial_bid(self):\n",
    "        # 我们打算找到每个买家的最优选择\n",
    "        p_start_mat = (self.ϵ + self.p)[:,None] @ np.ones(self.m)[None,:]\n",
    "        self.surplus_value = self.v - p_start_mat\n",
    "\n",
    "        # 我们只关心有正剩余价值的活跃买家\n",
    "        active_buyer_diagnosis = (self.surplus_value > 0).any(axis = 0)\n",
    "        active_buyer_list = self.buyer_list[active_buyer_diagnosis]\n",
    "        active_buyer_surplus_value = self.surplus_value[:,active_buyer_diagnosis]\n",
    "        active_buyer_choice = self.find_argmax_with_randomness(active_buyer_surplus_value)\n",
    "\n",
    "        # 我们只保留唯一的房屋索引因为价格在一轮中只增加一次\n",
    "        house_bid =  list(set(active_buyer_choice))\n",
    "        self.p[house_bid] += self.ϵ\n",
    "\n",
    "        bid_info = {}\n",
    "        for house_num in house_bid:\n",
    "            bid_info[house_num] = active_buyer_list[active_buyer_choice == house_num]\n",
    "        self.bid_info_history.append(bid_info)\n",
    "\n",
    "        print('出价信息为')\n",
    "        ymtb = pt.PrettyTable()\n",
    "        ymtb.field_names = ['房屋编号', *bid_info.keys()]\n",
    "        ymtb.add_row(['买家', *bid_info.values()])\n",
    "        print(ymtb)\n",
    "\n",
    "        print('房屋的出价为')\n",
    "        ymtb = pt.PrettyTable()\n",
    "        ymtb.field_names = ['房屋编号', *self.house_list]\n",
    "        ymtb.add_row(['价格', *self.p])\n",
    "        print(ymtb)\n",
    "\n",
    "        self.winner_list=[np.random.choice(bid_info[ii]) for ii in bid_info.keys()]\n",
    "        self.winner_history.append(self.winner_list)\n",
    "\n",
    "        self.allocation = {house_num:[winner] for house_num,winner in zip(bid_info.keys(),self.winner_list)}\n",
    "        self.allocation_history.append(self.allocation)\n",
    "\n",
    "        loser_set = set(self.buyer_list).difference(set(self.winner_list))\n",
    "        self.loser_list = list(loser_set)\n",
    "        self.loser_history.append(self.loser_list)\n",
    "\n",
    "        print('获胜者为')\n",
    "        print(self.winner_list)\n",
    "\n",
    "        print('失败者为')\n",
    "        print(self.loser_list)\n",
    "        print('\\n')\n",
    "\n",
    "\n",
    "    def check_terminal_condition(self):\n",
    "        loser_num = len(self.loser_list)\n",
    "\n",
    "        if loser_num == 0:\n",
    "            print('拍卖结束因为每个买家都得到了一套房子。')\n",
    "            print('\\n')\n",
    "            return True\n",
    "\n",
    "        p_mat = (self.ϵ + self.p)[:,None] @ np.ones(loser_num)[None,:]\n",
    "        self.loser_surplus_value = self.v[:,self.loser_list] - p_mat\n",
    "        self.loser_decision = (self.loser_surplus_value > 0).any(axis = 0)\n",
    "\n",
    "        return ~(self.loser_decision.any())\n",
    "\n",
    "\n",
    "    def submit_bid(self):\n",
    "        bid_info = self.allocation_history[-1].copy()  # 我们只记录获胜者的出价信息\n",
    "\n",
    "        loser_num = len(self.loser_list)\n",
    "        p_mat = (self.ϵ + self.p)[:,None] @ np.ones(loser_num)[None,:]\n",
    "        self.loser_surplus_value = self.v[:,self.loser_list] - p_mat\n",
    "        self.loser_decision = (self.loser_surplus_value > 0).any(axis = 0)\n",
    "\n",
    "        active_loser_list = np.array(self.loser_list)[self.loser_decision]\n",
    "        active_loser_surplus_value = self.loser_surplus_value[:,self.loser_decision]\n",
    "        active_loser_choice = self.find_argmax_with_randomness(active_loser_surplus_value)\n",
    "\n",
    "        # 我们保留唯一的房屋索引并增加相应的出价\n",
    "        house_bid = list(set(active_loser_choice))\n",
    "        self.p[house_bid] += self.ϵ\n",
    "\n",
    "        # 我们记录来自活跃失败者的出价信息\n",
    "        bid_info_active_loser = {}\n",
    "        for house_num in house_bid:\n",
    "            bid_info_active_loser[house_num] = active_loser_list[active_loser_choice == house_num]\n",
    "\n",
    "        # 我们根据活跃失败者的出价更新出价信息\n",
    "        for house_num in bid_info_active_loser.keys():\n",
    "            bid_info[house_num] = bid_info_active_loser[house_num]\n",
    "        self.bid_info_history.append(bid_info)\n",
    "\n",
    "        print('出价信息为')\n",
    "        ymtb = pt.PrettyTable()\n",
    "        ymtb.field_names = ['房屋编号', *bid_info.keys()]\n",
    "        ymtb.add_row(['买家', *bid_info.values()])\n",
    "        print(ymtb)\n",
    "\n",
    "        print('房屋的出价为')\n",
    "        ymtb = pt.PrettyTable()\n",
    "        ymtb.field_names = ['房屋编号', *self.house_list]\n",
    "        ymtb.add_row(['价格', *self.p])\n",
    "        print(ymtb)\n",
    "\n",
    "        self.winner_list=[np.random.choice(bid_info[ii]) for ii in bid_info.keys()]\n",
    "        self.winner_history.append(self.winner_list)\n",
    "\n",
    "        self.allocation = {house_num:[winner] for house_num,winner in zip(bid_info.keys(),self.winner_list)}\n",
    "        self.allocation_history.append(self.allocation)\n",
    "\n",
    "        loser_set = set(self.buyer_list).difference(set(self.winner_list))\n",
    "        self.loser_list = list(loser_set)\n",
    "        self.loser_history.append(self.loser_list)\n",
    "\n",
    "        print('获胜者为')\n",
    "        print(self.winner_list)\n",
    "\n",
    "        print('失败者为')\n",
    "        print(self.loser_list)\n",
    "        print('\\n')\n",
    "\n",
    "\n",
    "    def start_auction(self):\n",
    "        print('房屋递增出价拍卖')\n",
    "        print('\\n')\n",
    "\n",
    "        print('基本信息：%d套房屋，%d位买家'%(self.n, self.m))\n",
    "\n",
    "        print('价值矩阵如下')\n",
    "        ymtb = pt.PrettyTable()\n",
    "        ymtb.field_names = ['买家编号', *(np.arange(self.m))]\n",
    "        for ii in range(self.n):\n",
    "            ymtb.add_row(['房屋%d'%(ii), *self.v[ii,:]])\n",
    "        print(ymtb)\n",
    "\n",
    "        print('房屋的保留价格为')\n",
    "        ymtb = pt.PrettyTable()\n",
    "        ymtb.field_names = ['房屋编号', *self.house_list]\n",
    "        ymtb.add_row(['价格', *self.r])\n",
    "        print(ymtb)\n",
    "        print('最小出价增量为%.2f' % self.ϵ)\n",
    "        print('\\n')\n",
    "\n",
    "        ctr = 1\n",
    "        if self.check_kick_off_condition():\n",
    "            print('拍卖成功开始')\n",
    "            print('\\n')\n",
    "            print('第%d轮'% ctr)\n",
    "\n",
    "            self.submit_initial_bid()\n",
    "\n",
    "            while True:\n",
    "                if self.check_terminal_condition():\n",
    "                    print('拍卖结束')\n",
    "                    print('\\n')\n",
    "\n",
    "                    print('最终结果如下')\n",
    "                    print('\\n')\n",
    "                    print('分配方案为')\n",
    "                    ymtb = pt.PrettyTable()\n",
    "                    ymtb.field_names = ['房屋编号', *self.allocation.keys()]\n",
    "                    ymtb.add_row(['买家', *self.allocation.values()])\n",
    "                    print(ymtb)\n",
    "\n",
    "                    print('房屋的出价为')\n",
    "                    ymtb = pt.PrettyTable()\n",
    "                    ymtb.field_names = ['房屋编号', *self.house_list]\n",
    "                    ymtb.add_row(['价格', *self.p])\n",
    "                    print(ymtb)\n",
    "\n",
    "                    print('获胜者为')\n",
    "                    print(self.winner_list)\n",
    "\n",
    "                    print('失败者为')\n",
    "                    print(self.loser_list)\n",
    "\n",
    "                    self.house_unsold_list = list(set(self.house_list).difference(set(self.allocation.keys())))\n",
    "                    print('未售出的房屋为')\n",
    "                    print(self.house_unsold_list)\n",
    "\n",
    "                    self.total_revenue = self.p[list(self.allocation.keys())].sum()\n",
    "                    print('总收入为%.2f' % self.total_revenue)\n",
    "\n",
    "                    break\n",
    "\n",
    "                ctr += 1\n",
    "                print('第%d轮'% ctr)\n",
    "                self.submit_bid()\n",
    "\n",
    "            # 我们计算1.1中要求的剩余矩阵S和数量矩阵X\n",
    "            self.S = np.zeros((self.n, self.m))\n",
    "            for ii,jj in zip(self.allocation.keys(),self.allocation.values()):\n",
    "                self.S[ii,jj] = self.v[ii,jj] - self.p[ii]\n",
    "\n",
    "            self.Q = np.zeros((self.n, self.m + 1))  # 最后一列记录未售出的房屋\n",
    "            for ii,jj in zip(self.allocation.keys(),self.allocation.values()):\n",
    "                self.Q[ii,jj] = 1\n",
    "            for ii in self.house_unsold_list:\n",
    "                self.Q[ii,-1] = 1\n",
    "\n",
    "            # 我们按房屋编号对分配结果进行排序\n",
    "            house_sold_list = list(self.allocation.keys())\n",
    "            house_sold_list.sort()\n",
    "\n",
    "            dict_temp = {}\n",
    "            for ii in house_sold_list:\n",
    "                dict_temp[ii] = self.allocation[ii]\n",
    "            self.allocation = dict_temp\n",
    "\n",
    "        else:\n",
    "            print('由于保留价格过高，拍卖无法开始')"
   ]
  },
  {
   "cell_type": "markdown",
   "id": "1b267061",
   "metadata": {},
   "source": [
    "让我们使用我们的类来进行上述示例中描述的拍卖。"
   ]
  },
  {
   "cell_type": "code",
   "execution_count": null,
   "id": "91176993",
   "metadata": {},
   "outputs": [],
   "source": [
    "v = np.array([[8,5,9,4],[4,11,7,4],[9,7,6,4]])\n",
    "r = np.array([2,1,0])\n",
    "ϵ = 1\n",
    "\n",
    "auction_1 = ascending_bid_auction(v, r, ϵ)\n",
    "\n",
    "auction_1.start_auction()"
   ]
  },
  {
   "cell_type": "code",
   "execution_count": null,
   "id": "1e44a036",
   "metadata": {},
   "outputs": [],
   "source": [
    "# 剩余矩阵 S\n",
    "\n",
    "auction_1.S"
   ]
  },
  {
   "cell_type": "code",
   "execution_count": null,
   "id": "41225ff7",
   "metadata": {},
   "outputs": [],
   "source": [
    "# 数量矩阵 X\n",
    "\n",
    "auction_1.Q"
   ]
  },
  {
   "cell_type": "markdown",
   "id": "c399b2b7",
   "metadata": {},
   "source": [
    "## 稳健性检验\n",
    "\n",
    "让我们通过将代码应用于具有不同私人价值矩阵的拍卖来进行压力测试。\n",
    "\n",
    "**1. 房屋数量 = 买家数量**"
   ]
  },
  {
   "cell_type": "code",
   "execution_count": null,
   "id": "bc412222",
   "metadata": {},
   "outputs": [],
   "source": [
    "v2 = np.array([[8,5,9],[4,11,7],[9,7,6]])\n",
    "\n",
    "auction_2 = ascending_bid_auction(v2, r, ϵ)\n",
    "\n",
    "auction_2.start_auction()"
   ]
  },
  {
   "cell_type": "markdown",
   "id": "ece99666",
   "metadata": {},
   "source": [
    "**2. 多个超额买家**"
   ]
  },
  {
   "cell_type": "code",
   "execution_count": null,
   "id": "37742f4a",
   "metadata": {},
   "outputs": [],
   "source": [
    "v3 = np.array([[8,5,9,4,3],[4,11,7,4,6],[9,7,6,4,2]])\n",
    "\n",
    "auction_3 = ascending_bid_auction(v3, r, ϵ)\n",
    "\n",
    "auction_3.start_auction()"
   ]
  },
  {
   "cell_type": "markdown",
   "id": "fb02cafd",
   "metadata": {},
   "source": [
    "**3. 房屋数量多于买家数量**"
   ]
  },
  {
   "cell_type": "code",
   "execution_count": null,
   "id": "2a4aef4f",
   "metadata": {},
   "outputs": [],
   "source": [
    "v4 = np.array([[8,5,4],[4,11,7],[9,7,9],[6,4,5],[2,2,2]])\n",
    "r2 = np.array([2,1,0,1,1])\n",
    "\n",
    "auction_4 = ascending_bid_auction(v4, r2, ϵ)\n",
    "\n",
    "auction_4.start_auction()"
   ]
  },
  {
   "cell_type": "markdown",
   "id": "e758b4e2",
   "metadata": {},
   "source": [
    "**4. 一些房屋的保留价格极高**"
   ]
  },
  {
   "cell_type": "code",
   "execution_count": null,
   "id": "27dd1722",
   "metadata": {},
   "outputs": [],
   "source": [
    "v5 = np.array([[8,5,4],[4,11,7],[9,7,9],[6,4,5],[2,2,2]])\n",
    "r3 = np.array([10,1,0,1,1])\n",
    "\n",
    "auction_5 = ascending_bid_auction(v5, r3, ϵ)\n",
    "\n",
    "auction_5.start_auction()"
   ]
  },
  {
   "cell_type": "markdown",
   "id": "32ffb7ab",
   "metadata": {},
   "source": [
    "**5. 保留价格太高以至于拍卖无法开始**"
   ]
  },
  {
   "cell_type": "code",
   "execution_count": null,
   "id": "f694651c",
   "metadata": {},
   "outputs": [],
   "source": [
    "r4 = np.array([15,15,15])\n",
    "\n",
    "auction_6 = ascending_bid_auction(v, r4, ϵ)\n",
    "\n",
    "auction_6.start_auction()"
   ]
  },
  {
   "cell_type": "markdown",
   "id": "af657aa3",
   "metadata": {},
   "source": [
    "## Groves-Clarke 机制"
   ]
  },
  {
   "cell_type": "markdown",
   "id": "c5f0ce0d",
   "metadata": {},
   "source": [
    "我们现在描述另一种方式，让社会将 $n$ 套房子分配给 $m$ 个潜在买家，以实现所有潜在买家的总价值最大化。\n",
    "\n",
    "我们继续假设每个买家最多只能购买一套房子。\n",
    "\n",
    "这个机制是 Groves-Clarke 机制的一个特例 {cite}`Groves_73`, {cite}`Clarke_71`。\n",
    "\n",
    "其特殊结构大大简化了用 Python 代码寻找最优分配的过程。\n",
    "\n",
    "我们的机制是这样运作的：\n",
    "\n",
    "* 价值 $V_{ij}$ 是个人 $j$ 的私人信息\n",
    "\n",
    "* 该机制使每个人 $j$ 愿意向社会规划者告知他们对所有房子 $i = 1, \\ldots, n$ 的私人估值 $V_{i,j}$\n",
    "\n",
    "* 社会规划者要求所有潜在竞标者告知他们的私人估值 $V_{ij}$\n",
    "\n",
    "* 社会规划者不向任何人透露这些信息，而是用它们来分配房屋和设定价格\n",
    "\n",
    "* 该机制的设计使所有潜在买家都愿意向规划者透露他们的私人估值\n",
    "\n",
    "   - 对每个潜在买家来说，说真话都是占优策略\n",
    "\n",
    "* 规划者通过计算找到具有最高私人估值的房屋和买家配对\n",
    "   $(\\tilde i, \\tilde j) = \\operatorname{argmax} (V_{ij})$\n",
    "\n",
    "* 规划者将房屋 $\\tilde i$ 分配给买家 $\\tilde j$\n",
    "\n",
    "* 规划者向买家 $\\tilde j$ 收取价格 $\\max_{- \\tilde j} V_{\\tilde i,  j}$，其中 $- \\tilde j$ 表示除 $\\tilde j$ 外的所有 $j$\n",
    "\n",
    "* 规划者通过从 $V$ 中删除行（即房屋）$\\tilde i$ 和列（即买家）$\\tilde j$ 来创建剩余房屋 $-\\tilde i$ 的私人估值矩阵\n",
    "  - （但在此过程中，规划者会记录买家和房屋的真实名称）\n",
    "\n",
    "* 规划者返回到原始步骤并重复\n",
    "\n",
    "* 规划者重复迭代直到所有 $n$ 套房屋都被分配且所有 $n$ 套房屋的价格都被确定"
   ]
  },
  {
   "cell_type": "markdown",
   "id": "fee2e16c",
   "metadata": {},
   "source": [
    "## 手工解决的示例"
   ]
  },
  {
   "cell_type": "markdown",
   "id": "e6a17336",
   "metadata": {},
   "source": [
    "让我们看看Groves-Clarke算法如何处理以下简单的私人估值矩阵$V$\n",
    "\n",
    "$$\n",
    "V =\\begin{bmatrix} 10 & 9 & 8 & 7 & 6 \\cr\n",
    "                    9 & 9 & 7 & 6 & 6 \\cr\n",
    "                    8 & 6 & 6 & 9 & 4 \\cr\n",
    "                    7 & 5 & 6 & 4 & 9 \\end{bmatrix}\n",
    "$$\n",
    "\n",
    "**注意：** 在第一步中，当最高私人估值对应多个房屋-竞价者配对时，我们选择具有最高售价的配对。如果最高售价对应多个具有最高私人估值的配对，我们随机选择其中一个。"
   ]
  },
  {
   "cell_type": "code",
   "execution_count": null,
   "id": "e393a5d7",
   "metadata": {},
   "outputs": [],
   "source": [
    "np.random.seed(666)\n",
    "\n",
    "V_orig = np.array([[10, 9, 8, 7, 6],  # 记录原始值\n",
    "                   [9, 9, 7, 6, 6],\n",
    "                   [8, 6, 6, 9, 4],\n",
    "                   [7, 5, 6, 4, 9]])\n",
    "V = np.copy(V_orig)  # 用于迭代\n",
    "n, m = V.shape\n",
    "p = np.zeros(n) # 房屋价格\n",
    "Q = np.zeros((n, m)) # 记录房屋和买家的状态"
   ]
  },
  {
   "cell_type": "markdown",
   "id": "67f8b1a1",
   "metadata": {},
   "source": [
    "**第一个任务**\n",
    "\n",
    "首先，我们找出具有最高私人估值的房屋和竞价者配对。"
   ]
  },
  {
   "cell_type": "code",
   "execution_count": null,
   "id": "b323efda",
   "metadata": {},
   "outputs": [],
   "source": [
    "i, j = np.where(V==np.max(V))\n",
    "i, j"
   ]
  },
  {
   "cell_type": "markdown",
   "id": "f62ae787",
   "metadata": {},
   "source": [
    "所以，房屋0将以9的价格卖给买家0。然后我们更新房屋0的销售价格和状态矩阵Q。"
   ]
  },
  {
   "cell_type": "code",
   "execution_count": null,
   "id": "3f838b33",
   "metadata": {},
   "outputs": [],
   "source": [
    "p[i] = np.max(np.delete(V[i, :], j))\n",
    "Q[i, j] = 1\n",
    "p, Q"
   ]
  },
  {
   "cell_type": "markdown",
   "id": "735e4b26",
   "metadata": {},
   "source": [
    "然后我们从矩阵$V$中移除第0行和第0列。为了保持实际房屋和买家的数量，我们将这一行和这一列设为-1，这将产生与移除它们相同的效果，因为$V \\geq 0$。"
   ]
  },
  {
   "cell_type": "code",
   "execution_count": null,
   "id": "5bea9c5e",
   "metadata": {},
   "outputs": [],
   "source": [
    "V[i, :] = -1\n",
    "V[:, j] = -1\n",
    "V"
   ]
  },
  {
   "cell_type": "markdown",
   "id": "84746578",
   "metadata": {},
   "source": [
    "**第二个任务**\n",
    "\n",
    "我们再次找出具有最高私人价值的房屋和竞标者配对。"
   ]
  },
  {
   "cell_type": "code",
   "execution_count": null,
   "id": "8125b8d4",
   "metadata": {},
   "outputs": [],
   "source": [
    "i, j = np.where(V==np.max(V))\n",
    "i, j"
   ]
  },
  {
   "cell_type": "markdown",
   "id": "9757603c",
   "metadata": {},
   "source": [
    "在这个特殊的例子中，有三对数据(1, 1)、(2, 3)和(3, 4)具有相同的最高私人价值。为了解决这个问题，我们选择具有最高销售价格的那一对。"
   ]
  },
  {
   "cell_type": "code",
   "execution_count": null,
   "id": "137ba2e1",
   "metadata": {},
   "outputs": [],
   "source": [
    "p_candidate = np.zeros(len(i))\n",
    "for k in range(len(i)):\n",
    "    p_candidate[k] = np.max(np.delete(V[i[k], :], j[k]))\n",
    "k, = np.where(p_candidate==np.max(p_candidate))\n",
    "i, j = i[k], j[k]\n",
    "i, j"
   ]
  },
  {
   "cell_type": "markdown",
   "id": "d55cc395",
   "metadata": {},
   "source": [
    "所以，房屋1将以价格7卖给买家1。我们更新矩阵。"
   ]
  },
  {
   "cell_type": "code",
   "execution_count": null,
   "id": "9726929f",
   "metadata": {},
   "outputs": [],
   "source": [
    "p[i] = np.max(np.delete(V[i, :], j))\n",
    "Q[i, j] = 1\n",
    "V[i, :] = -1\n",
    "V[:, j] = -1\n",
    "p, Q, V"
   ]
  },
  {
   "cell_type": "markdown",
   "id": "c90e8254",
   "metadata": {},
   "source": [
    "**第三个作业**"
   ]
  },
  {
   "cell_type": "code",
   "execution_count": null,
   "id": "9dc1870a",
   "metadata": {},
   "outputs": [],
   "source": [
    "i, j = np.where(V==np.max(V))\n",
    "i, j"
   ]
  },
  {
   "cell_type": "markdown",
   "id": "aab4fdfd",
   "metadata": {},
   "source": [
    "在这个特殊例子中，有两对(2, 3)和(3, 4)具有相同的最高私人价值。\n",
    "\n",
    "为了解决分配问题，我们选择具有最高销售价格的那一对。"
   ]
  },
  {
   "cell_type": "code",
   "execution_count": null,
   "id": "2a52fa9e",
   "metadata": {},
   "outputs": [],
   "source": [
    "p_candidate = np.zeros(len(i))\n",
    "for k in range(len(i)):\n",
    "    p_candidate[k] = np.max(np.delete(V[i[k], :], j[k]))\n",
    "k, = np.where(p_candidate==np.max(p_candidate))\n",
    "i, j = i[k], j[k]\n",
    "i, j"
   ]
  },
  {
   "cell_type": "markdown",
   "id": "186fed6c",
   "metadata": {},
   "source": [
    "这两对甚至有相同的销售价格。\n",
    "\n",
    "我们随机选择一对。"
   ]
  },
  {
   "cell_type": "code",
   "execution_count": null,
   "id": "6494651e",
   "metadata": {},
   "outputs": [],
   "source": [
    "k = np.random.choice(len(i))\n",
    "i, j = i[k], j[k]\n",
    "i, j"
   ]
  },
  {
   "cell_type": "markdown",
   "id": "c6ca68c0",
   "metadata": {},
   "source": [
    "最后，房屋2将卖给买家3。\n",
    "\n",
    "我们相应地更新矩阵。"
   ]
  },
  {
   "cell_type": "code",
   "execution_count": null,
   "id": "265b3a08",
   "metadata": {},
   "outputs": [],
   "source": [
    "p[i] = np.max(np.delete(V[i, :], j))\n",
    "Q[i, j] = 1\n",
    "V[i, :] = -1\n",
    "V[:, j] = -1\n",
    "p, Q, V"
   ]
  },
  {
   "cell_type": "markdown",
   "id": "fb65f857",
   "metadata": {},
   "source": [
    "**第四个作业**"
   ]
  },
  {
   "cell_type": "code",
   "execution_count": null,
   "id": "03f7640d",
   "metadata": {},
   "outputs": [],
   "source": [
    "i, j = np.where(V==np.max(V))\n",
    "i, j"
   ]
  },
  {
   "cell_type": "markdown",
   "id": "a8545d27",
   "metadata": {},
   "source": [
    "房屋3将出售给买家4。\n",
    "\n",
    "最终结果如下。"
   ]
  },
  {
   "cell_type": "code",
   "execution_count": null,
   "id": "75d2478a",
   "metadata": {},
   "outputs": [],
   "source": [
    "p[i] = np.max(np.delete(V[i, :], j))\n",
    "Q[i, j] = 1\n",
    "V[i, :] = -1\n",
    "V[:, j] = -1\n",
    "S = V_orig*Q - np.diag(p)@Q\n",
    "p, Q, V, S"
   ]
  },
  {
   "cell_type": "markdown",
   "id": "671fd58b",
   "metadata": {},
   "source": [
    "## 另一个Python类\n",
    "\n",
    "将我们的计算组装在一个Python类中是很高效的。"
   ]
  },
  {
   "cell_type": "code",
   "execution_count": null,
   "id": "5db640e3",
   "metadata": {},
   "outputs": [],
   "source": [
    "class GC_Mechanism:\n",
    "\n",
    "    def __init__(self, V):\n",
    "        \"\"\"\n",
    "        实现特殊的Groves Clarke房屋拍卖机制。\n",
    "\n",
    "        参数：\n",
    "        ----------\n",
    "        V: 二维私人估值矩阵\n",
    "\n",
    "        \"\"\"\n",
    "\n",
    "        self.V_orig = V.copy()\n",
    "        self.V = V.copy()\n",
    "        self.n, self.m = self.V.shape\n",
    "        self.p = np.zeros(self.n)\n",
    "        self.Q = np.zeros((self.n, self.m))\n",
    "        self.S = np.copy(self.Q)\n",
    "\n",
    "    def find_argmax(self):\n",
    "        \"\"\"\n",
    "        找出具有最高估值的房屋-买家配对。\n",
    "        当最高私人估值对应多个房屋-买家配对时，\n",
    "        我们选择具有最高售价的配对。\n",
    "        此外，如果最高售价对应多个具有最高私人估值的配对，\n",
    "        我们随机选择其中一个。\n",
    "\n",
    "        参数：\n",
    "        ----------\n",
    "        V: 二维私人估值矩阵，其中-1表示已移除的行和列\n",
    "\n",
    "        返回：\n",
    "        ----------\n",
    "        i: 售出房屋的索引\n",
    "\n",
    "        j: 买家的索引\n",
    "\n",
    "        \"\"\"\n",
    "        i, j = np.where(self.V==np.max(self.V))\n",
    "\n",
    "        if (len(i)>1):\n",
    "            p_candidate = np.zeros(len(i))\n",
    "            for k in range(len(i)):\n",
    "                p_candidate[k] = np.max(np.delete(self.V[i[k], :], j[k]))\n",
    "            k, = np.where(p_candidate==np.max(p_candidate))\n",
    "            i, j = i[k], j[k]\n",
    "\n",
    "            if (len(i)>1):\n",
    "                k = np.random.choice(len(i))\n",
    "                k = np.array([k])\n",
    "                i, j = i[k], j[k]\n",
    "        return i, j\n",
    "\n",
    "    def update_status(self, i, j):\n",
    "        self.p[i] = np.max(np.delete(self.V[i, :], j))\n",
    "        self.Q[i, j] = 1\n",
    "        self.V[i, :] = -1\n",
    "        self.V[:, j] = -1\n",
    "\n",
    "    def calculate_surplus(self):\n",
    "        self.S = self.V_orig*self.Q - np.diag(self.p)@self.Q\n",
    "\n",
    "    def start(self):\n",
    "        while (np.max(self.V)>=0):\n",
    "            i, j = self.find_argmax()\n",
    "            self.update_status(i, j)\n",
    "            print(\"房屋%i以价格%i卖给了买家%i\"%(i[0], self.p[i[0]], j[0]))\n",
    "            print(\"\\n\")\n",
    "        self.calculate_surplus()\n",
    "        print(\"房屋价格：\\n\", self.p)\n",
    "        print(\"\\n\")\n",
    "        print(\"状态矩阵：\\n\", self.Q)\n",
    "        print(\"\\n\")\n",
    "        print(\"剩余价值矩阵：\\n\", self.S)\n"
   ]
  },
  {
   "cell_type": "code",
   "execution_count": null,
   "id": "16803d19",
   "metadata": {},
   "outputs": [],
   "source": [
    "np.random.seed(666)\n",
    "\n",
    "V_orig = np.array([[10, 9, 8, 7, 6],\n",
    "                   [9, 9, 7, 6, 6],\n",
    "                   [8, 6, 6, 9, 4],\n",
    "                   [7, 5, 6, 4, 9]])\n",
    "gc_mechanism = GC_Mechanism(V_orig)\n",
    "gc_mechanism.start()"
   ]
  },
  {
   "cell_type": "markdown",
   "id": "b2f2ad21",
   "metadata": {},
   "source": [
    "### 详细说明\n",
    "\n",
    "在此我们使用一些额外的符号，这些符号是为了与VCG文献中的标准符号保持一致。\n",
    "\n",
    "我们要验证我们的伪代码确实是一个**轴心机制**，也称为**VCG**（Vickrey-Clarke-Groves）机制。\n",
    "\n",
    "  * 该机制以{cite}`Groves_73`、{cite}`Clarke_71`和{cite}`Vickrey_61`的名字命名。\n",
    "\n",
    "为了准备验证，我们添加一些符号。\n",
    "\n",
    "令$X$为在上述协议下可行的房屋分配集合（即每人最多分配一套房屋）。\n",
    "\n",
    "令$X(v)$为机制针对私人价值矩阵$v$所选择的分配。\n",
    "\n",
    "该机制将私人价值矩阵$v$映射到$x \\in X$。\n",
    "\n",
    "令$v_j(x)$为个人$j$对分配$x \\in X$所赋予的价值。\n",
    "\n",
    "令$\\check t_j(v)$为机制向个人$j$收取的支付。\n",
    "\n",
    "VCG机制选择的分配为\n",
    "\n",
    "$$\n",
    "X(v)  = \\operatorname{argmax}_{x \\in X} \\sum_{j=1}^m v_j(x)\n",
    "$$ (eq:GC1)\n",
    "\n",
    "并向个人 $j$ 收取\"社会成本\"\n",
    "\n",
    "$$\n",
    "\\check t_j(v) = \\max_{x \\in  X} \\sum_{k \\neq j} v_k(x) -  \\sum_{k \\neq j} v_k(X(v))\n",
    "$$ (eq:GC2)\n",
    "\n",
    "在我们的情况下，方程 {eq}`eq:GC1` 表明VCG分配是为了最大化成功购房者的总价值。\n",
    "\n",
    "在我们的情况下，方程 {eq}`eq:GC2` 表明该机制向人们收取他们在社会中的存在对其他潜在买家造成的外部性费用。\n",
    "\n",
    "因此，根据方程 {eq}`eq:GC2` 可以注意到：\n",
    "\n",
    "- 未成功的潜在买家支付 $0$，因为将他们从\"社会\"中移除不会影响机制选择的分配\n",
    "\n",
    "- 成功的潜在买家支付的金额是：在没有他们存在的情况下社会可以实现的总价值，与在机制下社会中其他人实际实现的总价值之间的差额。\n",
    "\n",
    "上述伪代码中描述的广义第二价格拍卖确实满足条件(1)。\n",
    "\n",
    "我们要计算 $\\check t_j$ （$j = 1, \\ldots, m$）并与第二价格拍卖中的 $p_j$ 进行比较。"
   ]
  },
  {
   "cell_type": "markdown",
   "id": "5b653c8c",
   "metadata": {},
   "source": [
    "### 社会成本\n",
    "\n",
    "使用 GC_Mechanism 类，我们可以计算每个买家的社会成本。\n",
    "\n",
    "让我们看一个更简单的例子，私人价值矩阵为\n",
    "\n",
    "$$\n",
    "V =\\begin{bmatrix} 10 & 9 & 8 & 7 & 6 \\cr\n",
    "                    9 & 8 & 7 & 6 & 6 \\cr\n",
    "                    8 & 7 & 6 & 5 & 4 \\end{bmatrix}\n",
    "$$\n",
    "\n",
    "首先，我们实现 GC 机制并查看结果。"
   ]
  },
  {
   "cell_type": "code",
   "execution_count": null,
   "id": "a453a2c8",
   "metadata": {},
   "outputs": [],
   "source": [
    "np.random.seed(666)\n",
    "\n",
    "V_orig = np.array([[10, 9, 8, 7, 6],\n",
    "                   [9, 8, 7, 6, 6],\n",
    "                   [8, 7, 6, 5, 4]])\n",
    "gc_mechanism = GC_Mechanism(V_orig)\n",
    "gc_mechanism.start()"
   ]
  },
  {
   "cell_type": "markdown",
   "id": "620a2084",
   "metadata": {},
   "source": [
    "我们排除买家0并计算分配。"
   ]
  },
  {
   "cell_type": "code",
   "execution_count": null,
   "id": "ed54c5ac",
   "metadata": {},
   "outputs": [],
   "source": [
    "V_exc_0 = np.copy(V_orig)\n",
    "V_exc_0[:, 0] = -1\n",
    "V_exc_0\n",
    "gc_mechanism_exc_0 = GC_Mechanism(V_exc_0)\n",
    "gc_mechanism_exc_0.start()"
   ]
  },
  {
   "cell_type": "markdown",
   "id": "41bc0b69",
   "metadata": {},
   "source": [
    "计算买家0的社会成本。"
   ]
  },
  {
   "cell_type": "code",
   "execution_count": null,
   "id": "f0d043d0",
   "metadata": {},
   "outputs": [],
   "source": [
    "print(\"买家0的社会成本：\",\n",
    "     np.sum(gc_mechanism_exc_0.Q*gc_mechanism_exc_0.V_orig)-np.sum(np.delete(gc_mechanism.Q*gc_mechanism.V_orig, 0, axis=1)))"
   ]
  },
  {
   "cell_type": "markdown",
   "id": "3bfc033b",
   "metadata": {},
   "source": [
    "对买家1和买家2重复此过程"
   ]
  },
  {
   "cell_type": "code",
   "execution_count": null,
   "id": "c631795c",
   "metadata": {},
   "outputs": [],
   "source": [
    "V_exc_1 = np.copy(V_orig)\n",
    "V_exc_1[:, 1] = -1\n",
    "V_exc_1\n",
    "gc_mechanism_exc_1 = GC_Mechanism(V_exc_1)\n",
    "gc_mechanism_exc_1.start()\n",
    "\n",
    "print(\"\\n买家1的社会成本：\",\n",
    "     np.sum(gc_mechanism_exc_1.Q*gc_mechanism_exc_1.V_orig)-np.sum(np.delete(gc_mechanism.Q*gc_mechanism.V_orig, 1, axis=1)))"
   ]
  },
  {
   "cell_type": "code",
   "execution_count": null,
   "id": "6915e2d8",
   "metadata": {},
   "outputs": [],
   "source": [
    "V_exc_2 = np.copy(V_orig)\n",
    "V_exc_2[:, 2] = -1\n",
    "V_exc_2\n",
    "gc_mechanism_exc_2 = GC_Mechanism(V_exc_2)\n",
    "gc_mechanism_exc_2.start()\n",
    "\n",
    "print(\"\\n买家2的社会成本：\",\n",
    "     np.sum(gc_mechanism_exc_2.Q*gc_mechanism_exc_2.V_orig)-np.sum(np.delete(gc_mechanism.Q*gc_mechanism.V_orig, 2, axis=1)))"
   ]
  }
 ],
 "metadata": {
  "jupytext": {
   "text_representation": {
    "extension": ".md",
    "format_name": "myst",
    "format_version": 0.13,
    "jupytext_version": "1.13.4"
   }
  },
  "kernelspec": {
   "display_name": "Python 3 (ipykernel)",
   "language": "python",
   "name": "python3"
  },
  "language_info": {
   "codemirror_mode": {
    "name": "ipython",
    "version": 3
   },
   "file_extension": ".py",
   "mimetype": "text/x-python",
   "name": "python",
   "nbconvert_exporter": "python",
   "pygments_lexer": "ipython3",
   "version": "3.12.7"
  },
  "source_map": [
   12,
   16,
   21,
   140,
   146,
   213,
   220,
   222,
   226,
   238,
   250,
   252,
   260,
   264,
   287,
   302,
   306,
   330,
   332,
   336,
   340,
   383,
   387,
   391,
   393,
   397,
   413,
   461,
   465,
   469,
   473,
   475,
   479,
   485,
   539,
   543,
   547,
   551,
   555,
   557,
   561,
   565,
   569,
   573,
   577,
   579,
   583,
   587,
   591,
   593,
   597,
   601,
   603,
   607,
   611,
   615,
   617,
   621,
   625,
   629,
   636,
   639,
   643,
   653,
   916,
   920,
   930,
   936,
   940,
   948,
   954,
   958,
   964,
   968,
   975,
   979,
   986,
   990,
   998,
   1002,
   1040,
   1044,
   1057,
   1068,
   1074,
   1077,
   1081,
   1085,
   1089,
   1093,
   1099,
   1102,
   1106,
   1113,
   1117,
   1123,
   1127,
   1130,
   1136,
   1143,
   1149,
   1153,
   1159,
   1165,
   1169,
   1172,
   1178,
   1185,
   1191,
   1269,
   1278,
   1326,
   1342,
   1350,
   1354,
   1360,
   1364,
   1367,
   1371,
   1382
  ]
 },
 "nbformat": 4,
 "nbformat_minor": 5
}