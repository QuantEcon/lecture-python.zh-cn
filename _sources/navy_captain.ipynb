{
 "cells": [
  {
   "cell_type": "markdown",
   "id": "9a8ef40b",
   "metadata": {},
   "source": [
    "(bayesian_vs_frequentist__v1)=\n",
    "```{raw} jupyter\n",
    "<div id=\"qe-notebook-header\" align=\"right\" style=\"text-align:right;\">\n",
    "        <a href=\"https://quantecon.org/\" title=\"quantecon.org\">\n",
    "                <img style=\"width:250px;display:inline;\" width=\"250px\" src=\"https://assets.quantecon.org/img/qe-menubar-logo.svg\" alt=\"QuantEcon\">\n",
    "        </a>\n",
    "</div>\n",
    "```\n",
    "\n",
    "# 贝叶斯与频率主义决策规则的比较\n",
    "\n",
    "```{contents} 目录\n",
    ":depth: 2\n",
    "```"
   ]
  },
  {
   "cell_type": "code",
   "execution_count": null,
   "id": "24a8b5a9",
   "metadata": {},
   "outputs": [],
   "source": [
    "import matplotlib.pyplot as plt\n",
    "import matplotlib as mpl\n",
    "FONTPATH = \"fonts/SourceHanSerifSC-SemiBold.otf\"\n",
    "mpl.font_manager.fontManager.addfont(FONTPATH)\n",
    "plt.rcParams['font.family'] = ['Source Han Serif SC']\n",
    "\n",
    "import numpy as np\n",
    "from numba import jit, prange, float64, int64\n",
    "from numba.experimental import jitclass\n",
    "from math import gamma\n",
    "from scipy.optimize import minimize"
   ]
  },
  {
   "cell_type": "markdown",
   "id": "0c33d76b",
   "metadata": {},
   "source": [
    "## 概述\n",
    "\n",
    "本讲座延续了以下讲座中提出的观点：\n",
    "\n",
    "* {doc}`令米尔顿·弗里德曼困惑的问题 <wald_friedman>`\n",
    "* {doc}`可交换性和贝叶斯更新 <exchangeable>`\n",
    "* {doc}`似然比过程 <likelihood_ratio_process>`\n",
    "\n",
    "在{doc}`令米尔顿·弗里德曼困惑的问题 <wald_friedman>`中，我们描述了二战期间一位海军上尉向米尔顿·弗里德曼提出的问题。\n",
    "\n",
    "海军要求上尉使用一个质量控制决策规则，但上尉怀疑可能存在更好的规则。\n",
    "\n",
    "（海军命令上尉使用一个**频率主义决策规则**的实例。）\n",
    "\n",
    "米尔顿·弗里德曼认识到上尉的推测提出了一个具有挑战性的统计问题，他和哥伦比亚大学美国政府统计研究小组的其他成员随后试图解决这个问题。\n",
    "\n",
    "该小组的成员之一，伟大的数学家亚伯拉罕·瓦尔德很快就解决了这个问题。\n",
    "\n",
    "用贝叶斯统计中的一些思想来阐述这个问题是一个很好的方法,这些思想我们在讲座{doc}`可交换性和贝叶斯更新 <exchangeable>`和讲座{doc}`似然比过程 <likelihood_ratio_process>`中有所描述,后者阐述了贝叶斯更新和似然比过程之间的联系。\n",
    "\n",
    "本讲座使用Python生成模拟,评估在海军上尉决策问题的一个实例中,**频率主义**和**贝叶斯**决策规则下的期望损失。\n",
    "\n",
    "这些模拟验证了海军上尉的直觉,即存在一个比海军命令他使用的规则更好的规则。\n",
    "\n",
    "## 设置\n",
    "\n",
    "为了形式化米尔顿·弗里德曼和艾伦·沃利斯交给亚伯拉罕·瓦尔德的海军上尉问题,我们考虑一个包含以下部分的设定。\n",
    "\n",
    "- 每个时期决策者都会抽取一个非负随机变量\n",
    "\n",
    "决策者从一个他并不完全理解的概率分布中获得$Z$。他知道可能存在两种概率分布，$f_{0}$和$f_{1}$，并且无论是哪种分布都会随时间保持不变。决策者认为在时间开始之前，自然界一次性地选择了$f_{0}$或$f_1$，且选择$f_0$的概率为$\\pi^{*}$。\n",
    "- 决策者从自然界选择的分布中观察到样本$\\left\\{ z_{i}\\right\\} _{i=0}^{t}$。\n",
    "\n",
    "决策者想要确定究竟是哪个分布在支配$Z$，并且担心两种类型的错误及其带来的损失。\n",
    "\n",
    "- **第一类错误**造成的损失$\\bar L_{1}$，即当实际分布为$f=f_{0}$时却判定$f=f_{1}$\n",
    "- **第二类错误**造成的损失$\\bar L_{0}$，即当实际分布为$f=f_{1}$时却判定$f=f_{0}$\n",
    "\n",
    "决策者需要支付成本$c$来获取另一个$z$\n",
    "\n",
    "我们主要借鉴了quantecon讲座中{doc}`一个让弗里德曼困惑的问题 <wald_friedman>`的参数，不过我们将$\\bar L_{0}$和$\\bar L_{1}$都从$25$增加到了$100$，以鼓励频率学派的海军上尉在做决定前进行更多次抽样。\n",
    "\n",
    "我们将每次额外抽样的成本$c$设为$1.25$。\n",
    "\n",
    "我们将概率分布$f_{0}$和$f_{1}$设定为贝塔分布，其中$a_{0}=b_{0}=1$，$a_{1}=3$，且$b_{1}=1.2$。\n",
    "\n",
    "下面是设置这些对象的Python代码。"
   ]
  },
  {
   "cell_type": "code",
   "execution_count": null,
   "id": "494179b6",
   "metadata": {},
   "outputs": [],
   "source": [
    "@jit\n",
    "def p(x, a, b):\n",
    "    \"贝塔分布。\"\n",
    "\n",
    "    r = gamma(a + b) / (gamma(a) * gamma(b))\n",
    "\n",
    "    return r * x**(a-1) * (1 - x)**(b-1)"
   ]
  },
  {
   "cell_type": "markdown",
   "id": "763f8d42",
   "metadata": {},
   "source": [
    "我们首先定义一个`jitclass`，用于存储参数和函数，这些参数和函数将用于解决贝叶斯派和频率派海军上尉的问题。"
   ]
  },
  {
   "cell_type": "code",
   "execution_count": null,
   "id": "1f0b52ba",
   "metadata": {},
   "outputs": [],
   "source": [
    "wf_data = [\n",
    "    ('c', float64),           # 失业补偿\n",
    "    ('a0', float64),          # beta分布的参数\n",
    "    ('b0', float64),\n",
    "    ('a1', float64),\n",
    "    ('b1', float64),\n",
    "    ('L0', float64),          # 当f1为真时选择f0的成本\n",
    "    ('L1', float64),          # 当f0为真时选择f1的成本\n",
    "    ('π_grid', float64[:]),   # 信念π的网格\n",
    "    ('π_grid_size', int64),\n",
    "    ('mc_size', int64),       # 蒙特卡洛模拟的规模\n",
    "    ('z0', float64[:]),       # 随机值序列\n",
    "    ('z1', float64[:])        # 随机值序列\n",
    "]"
   ]
  },
  {
   "cell_type": "code",
   "execution_count": null,
   "id": "8e228352",
   "metadata": {},
   "outputs": [],
   "source": [
    "@jitclass(wf_data)\n",
    "class WaldFriedman:\n",
    "\n",
    "    def __init__(self,\n",
    "                 c=1.25,\n",
    "                 a0=1,\n",
    "                 b0=1,\n",
    "                 a1=3,\n",
    "                 b1=1.2,\n",
    "                 L0=100,\n",
    "                 L1=100,\n",
    "                 π_grid_size=200,\n",
    "                 mc_size=1000):\n",
    "\n",
    "        self.c, self.π_grid_size = c, π_grid_size\n",
    "        self.a0, self.b0, self.a1, self.b1 = a0, b0, a1, b1\n",
    "        self.L0, self.L1 = L0, L1\n",
    "        self.π_grid = np.linspace(0, 1, π_grid_size)\n",
    "        self.mc_size = mc_size\n",
    "\n",
    "        self.z0 = np.random.beta(a0, b0, mc_size)\n",
    "        self.z1 = np.random.beta(a1, b1, mc_size)\n",
    "\n",
    "    def f0(self, x):\n",
    "\n",
    "        return p(x, self.a0, self.b0)\n",
    "\n",
    "    def f1(self, x):\n",
    "\n",
    "        return p(x, self.a1, self.b1)\n",
    "\n",
    "    def κ(self, z, π):\n",
    "        \"\"\"\n",
    "        使用贝叶斯法则和当前观测值z更新π\n",
    "        \"\"\"\n",
    "\n",
    "        a0, b0, a1, b1 = self.a0, self.b0, self.a1, self.b1\n",
    "\n",
    "        π_f0, π_f1 = π * p(z, a0, b0), (1 - π) * p(z, a1, b1)\n",
    "        π_new = π_f0 / (π_f0 + π_f1)\n",
    "\n",
    "        return π_new"
   ]
  },
  {
   "cell_type": "code",
   "execution_count": null,
   "id": "fb927914",
   "metadata": {},
   "outputs": [],
   "source": [
    "wf = WaldFriedman()\n",
    "\n",
    "grid = np.linspace(0, 1, 50)\n",
    "\n",
    "plt.figure()\n",
    "\n",
    "plt.title(\"两个分布\")\n",
    "plt.plot(grid, wf.f0(grid), lw=2, label=\"$f_0$\")\n",
    "plt.plot(grid, wf.f1(grid), lw=2, label=\"$f_1$\")\n",
    "\n",
    "plt.legend()\n",
    "plt.xlabel(\"$z$ 值\")\n",
    "plt.ylabel(\"$z_k$ 的密度\")\n",
    "\n",
    "plt.tight_layout()\n",
    "plt.show()"
   ]
  },
  {
   "cell_type": "markdown",
   "id": "3b7c851a",
   "metadata": {},
   "source": [
    "上面，我们绘制了两个可能的概率密度 $f_0$ 和 $f_1$\n",
    "\n",
    "## 频率主义决策规则\n",
    "\n",
    "海军要求舰长使用频率主义决策规则。\n",
    "\n",
    "具体来说，海军给他一个决策规则，这个规则是海军通过使用频率主义统计理论来最小化预期损失函数而设计的。\n",
    "\n",
    "该决策规则的特征是由样本量 $t$ 和与似然比相关的临界值 $d$ 来确定。\n",
    "\n",
    "令 $L\\left(z^{t}\\right)=\\prod_{i=0}^{t}\\frac{f_{0}\\left(z_{i}\\right)}{f_{1}\\left(z_{i}\\right)}$ 为观察序列 $\\left\\{ z_{i}\\right\\} _{i=0}^{t}$ 的似然比。\n",
    "\n",
    "与样本量 $t$ 相关的决策规则是：\n",
    "\n",
    "- 如果似然比大于 $d$，则判定 $f_0$ 是分布\n",
    "\n",
    "为了理解这个规则是如何设计的，让我们设定零假设和备择假设为：\n",
    "\n",
    "- 零假设：$H_{0}$：$f=f_{0}$\n",
    "- 备择假设 $H_{1}$：$f=f_{1}$\n",
    "\n",
    "在给定样本量 $t$ 和临界值 $d$ 的情况下，在模型中\n",
    "\n",
    "如上所述，总损失的数学期望为\n",
    "\n",
    "```{math}\n",
    ":label: val1\n",
    "\n",
    "\\begin{aligned}\n",
    "\\bar{V}_{fre}\\left(t,d\\right)=ct+\\pi^{*}PFA\\times \\bar L_{1}+\\left(1-\\pi^{*}\\right)\\left(1-PD\\right)\\times \\bar L_{0}\n",
    "\\end{aligned}\n",
    "```\n",
    "\n",
    "$$\n",
    "\\begin{aligned}\n",
    "\\textrm{其中} \\quad PFA & =\\Pr\\left\\{ L\\left(z^{t}\\right)<d\\mid q=f_{0}\\right\\} \\\\\n",
    "PD & =\\Pr\\left\\{ L\\left(z^{t}\\right)<d\\mid q=f_{1}\\right\\}\n",
    "\\end{aligned}\n",
    "$$\n",
    "\n",
    "这里\n",
    "\n",
    "- $PFA$ 表示**虚警**的概率，即\n",
    "  当 $H_0$ 为真时却拒绝它\n",
    "- $PD$ 表示**检测错误**的概率，即\n",
    "  当 $H_1$ 为真时却没有拒绝 $H_0$\n",
    "\n",
    "对于给定的样本量 $t$，$\\left(PFA,PD\\right)$ 对\n",
    "位于**接收者操作特征曲线**上，可以通过选择 $d$ 来\n",
    "唯一确定。\n",
    "\n",
    "要查看一些接收者操作特征曲线，请参阅本课程\n",
    "{doc}`似然比过程 <likelihood_ratio_process>`。\n",
    "\n",
    "要数值求解 $\\bar{V}_{fre}\\left(t,d\\right)$，我们首先\n",
    "\n",
    "模拟当$f_0$或$f_1$生成数据时的$z$序列。"
   ]
  },
  {
   "cell_type": "code",
   "execution_count": null,
   "id": "fecdb3e2",
   "metadata": {},
   "outputs": [],
   "source": [
    "N = 10000\n",
    "T = 100"
   ]
  },
  {
   "cell_type": "code",
   "execution_count": null,
   "id": "58682462",
   "metadata": {},
   "outputs": [],
   "source": [
    "z0_arr = np.random.beta(wf.a0, wf.b0, (N, T))\n",
    "z1_arr = np.random.beta(wf.a1, wf.b1, (N, T))"
   ]
  },
  {
   "cell_type": "code",
   "execution_count": null,
   "id": "9edbdf54",
   "metadata": {},
   "outputs": [],
   "source": [
    "plt.hist(z0_arr.flatten(), bins=50, alpha=0.4, label='f0')\n",
    "plt.hist(z1_arr.flatten(), bins=50, alpha=0.4, label='f1')\n",
    "plt.legend()\n",
    "plt.show()"
   ]
  },
  {
   "cell_type": "markdown",
   "id": "892e21cd",
   "metadata": {},
   "source": [
    "我们可以使用模拟样本计算似然比序列。"
   ]
  },
  {
   "cell_type": "code",
   "execution_count": null,
   "id": "c93ce88b",
   "metadata": {},
   "outputs": [],
   "source": [
    "l = lambda z: wf.f0(z) / wf.f1(z)"
   ]
  },
  {
   "cell_type": "code",
   "execution_count": null,
   "id": "fe546a5e",
   "metadata": {},
   "outputs": [],
   "source": [
    "l0_arr = l(z0_arr)\n",
    "l1_arr = l(z1_arr)\n",
    "\n",
    "L0_arr = np.cumprod(l0_arr, 1)\n",
    "L1_arr = np.cumprod(l1_arr, 1)"
   ]
  },
  {
   "cell_type": "markdown",
   "id": "caf49507",
   "metadata": {},
   "source": [
    "有了似然比的经验分布后，我们可以通过列举每个样本量 $t$ 下的 $\\left(PFA,PD\\right)$ 对来绘制**接收者操作特征曲线**。"
   ]
  },
  {
   "cell_type": "code",
   "execution_count": null,
   "id": "0f4a3ad1",
   "metadata": {},
   "outputs": [],
   "source": [
    "PFA = np.arange(0, 100, 1)\n",
    "\n",
    "for t in range(1, 15, 4):\n",
    "    percentile = np.percentile(L0_arr[:, t], PFA)\n",
    "    PD = [np.sum(L1_arr[:, t] < p) / N for p in percentile]\n",
    "\n",
    "    plt.plot(PFA / 100, PD, label=f\"t={t}\")\n",
    "\n",
    "plt.scatter(0, 1, label=\"perfect detection\")\n",
    "plt.plot([0, 1], [0, 1], color='k', ls='--', label=\"random detection\")\n",
    "\n",
    "plt.arrow(0.5, 0.5, -0.15, 0.15, head_width=0.03)\n",
    "plt.text(0.35, 0.7, \"better\")\n",
    "plt.xlabel(\"虚警概率\")\n",
    "plt.ylabel(\"检测概率\")\n",
    "plt.legend()\n",
    "plt.title(\"接收者操作特征曲线\")\n",
    "plt.show()"
   ]
  },
  {
   "cell_type": "markdown",
   "id": "888e02ec",
   "metadata": {},
   "source": [
    "我们的频率学派通过选择$\\left(t,d\\right)$来最小化方程{eq}`val1`中给出的预期总损失。\n",
    "\n",
    "这样做会得到预期损失\n",
    "\n",
    "$$\n",
    "\\bar{V}_{fre}=\\min_{t,d}\\bar{V}_{fre}\\left(t,d\\right).\n",
    "$$\n",
    "\n",
    "我们首先考虑\n",
    "$\\pi^{*}=\\Pr\\left\\{ \\text{自然选择}f_{0}\\right\\} =0.5$\n",
    "的情况。\n",
    "\n",
    "我们可以通过两个步骤来解决这个最小化问题。\n",
    "\n",
    "首先，我们固定$t$并找到最优截断值$d$，\n",
    "从而得到最小值$\\bar{V}_{fre}\\left(t\\right)$。\n",
    "\n",
    "以下是执行该操作并绘制有用图表的Python代码。"
   ]
  },
  {
   "cell_type": "code",
   "execution_count": null,
   "id": "fe3f29c4",
   "metadata": {},
   "outputs": [],
   "source": [
    "@jit\n",
    "def V_fre_d_t(d, t, L0_arr, L1_arr, π_star, wf):\n",
    "\n",
    "    N = L0_arr.shape[0]\n",
    "\n",
    "    PFA = np.sum(L0_arr[:, t-1] < d) / N\n",
    "    PD = np.sum(L1_arr[:, t-1] < d) / N\n",
    "\n",
    "    V = π_star * PFA *wf. L1 + (1 - π_star) * (1 - PD) * wf.L0\n",
    "\n",
    "    return V"
   ]
  },
  {
   "cell_type": "code",
   "execution_count": null,
   "id": "1a1bdd0c",
   "metadata": {},
   "outputs": [],
   "source": [
    "def V_fre_t(t, L0_arr, L1_arr, π_star, wf):\n",
    "\n",
    "    res = minimize(V_fre_d_t, 1, args=(t, L0_arr, L1_arr, π_star, wf), method='Nelder-Mead')\n",
    "    V = res.fun\n",
    "    d = res.x\n",
    "\n",
    "    PFA = np.sum(L0_arr[:, t-1] < d) / N\n",
    "    PD = np.sum(L1_arr[:, t-1] < d) / N\n",
    "\n",
    "    return V, PFA, PD"
   ]
  },
  {
   "cell_type": "code",
   "execution_count": null,
   "id": "606b5def",
   "metadata": {},
   "outputs": [],
   "source": [
    "def compute_V_fre(L0_arr, L1_arr, π_star, wf):\n",
    "\n",
    "    T = L0_arr.shape[1]\n",
    "\n",
    "    V_fre_arr = np.empty(T)\n",
    "    PFA_arr = np.empty(T) \n",
    "    PD_arr = np.empty(T)\n",
    "\n",
    "    for t in range(1, T+1):\n",
    "        V, PFA, PD = V_fre_t(t, L0_arr, L1_arr, π_star, wf)\n",
    "        V_fre_arr[t-1] = wf.c * t + V\n",
    "        PFA_arr[t-1] = PFA\n",
    "        PD_arr[t-1] = PD\n",
    "\n",
    "    return V_fre_arr, PFA_arr, PD_arr"
   ]
  },
  {
   "cell_type": "code",
   "execution_count": null,
   "id": "455ee4bc",
   "metadata": {},
   "outputs": [],
   "source": [
    "π_star = 0.5\n",
    "V_fre_arr, PFA_arr, PD_arr = compute_V_fre(L0_arr, L1_arr, π_star, wf)\n",
    "\n",
    "plt.plot(range(T), V_fre_arr, label=r'$\\min_{d} \\overline{V}_{fre}(t,d)$')\n",
    "plt.xlabel('时间t')\n",
    "plt.title(r'$\\pi^*=0.5$')\n",
    "plt.legend()\n",
    "plt.show()"
   ]
  },
  {
   "cell_type": "code",
   "execution_count": null,
   "id": "8aa2c3d9",
   "metadata": {},
   "outputs": [],
   "source": [
    "t_optimal = np.argmin(V_fre_arr) + 1"
   ]
  },
  {
   "cell_type": "code",
   "execution_count": null,
   "id": "115bcb23",
   "metadata": {},
   "outputs": [],
   "source": [
    "msg = f\"上图表明，对t进行最小化告诉频率学家要抽取{t_optimal}个观测值然后做出决定。\"\n",
    "print(msg)"
   ]
  },
  {
   "cell_type": "markdown",
   "id": "89e47fc4",
   "metadata": {},
   "source": [
    "现在让我们改变 $\\pi^{*}$ 的值，观察决策规则如何变化。"
   ]
  },
  {
   "cell_type": "code",
   "execution_count": null,
   "id": "f812a1bc",
   "metadata": {},
   "outputs": [],
   "source": [
    "n_π = 20\n",
    "π_star_arr = np.linspace(0.1, 0.9, n_π)\n",
    "\n",
    "V_fre_bar_arr = np.empty(n_π)\n",
    "t_optimal_arr = np.empty(n_π)\n",
    "PFA_optimal_arr = np.empty(n_π)\n",
    "PD_optimal_arr = np.empty(n_π)\n",
    "\n",
    "for i, π_star in enumerate(π_star_arr):\n",
    "    V_fre_arr, PFA_arr, PD_arr = compute_V_fre(L0_arr, L1_arr, π_star, wf)\n",
    "    t_idx = np.argmin(V_fre_arr)\n",
    "\n",
    "    V_fre_bar_arr[i] = V_fre_arr[t_idx]\n",
    "    t_optimal_arr[i] = t_idx + 1\n",
    "    PFA_optimal_arr[i] = PFA_arr[t_idx]\n",
    "    PD_optimal_arr[i] = PD_arr[t_idx]"
   ]
  },
  {
   "cell_type": "code",
   "execution_count": null,
   "id": "8b8c5eb2",
   "metadata": {},
   "outputs": [],
   "source": [
    "plt.plot(π_star_arr, V_fre_bar_arr)\n",
    "plt.xlabel(r'$\\pi^*$')\n",
    "plt.title(r'$\\overline{V}_{fre}$')\n",
    "\n",
    "plt.show()"
   ]
  },
  {
   "cell_type": "markdown",
   "id": "bc8b2e76",
   "metadata": {},
   "source": [
    "下图展示了当 $\\pi^{*}$ 变化时，最优样本量 $t$ 和目标 $\\left(PFA,PD\\right)$ 如何变化。"
   ]
  },
  {
   "cell_type": "code",
   "execution_count": null,
   "id": "0ff18ce3",
   "metadata": {},
   "outputs": [],
   "source": [
    "fig, axs = plt.subplots(1, 2, figsize=(14, 5))\n",
    "\n",
    "axs[0].plot(π_star_arr, t_optimal_arr)\n",
    "axs[0].set_xlabel(r'$\\pi^*$')\n",
    "axs[0].set_title('optimal sample size given $\\pi^*$')\n",
    "\n",
    "axs[1].plot(π_star_arr, PFA_optimal_arr, label='$PFA^*(\\pi^*)$')\n",
    "axs[1].plot(π_star_arr, PD_optimal_arr, label='$PD^*(\\pi^*)$')\n",
    "axs[1].set_xlabel(r'$\\pi^*$')\n",
    "axs[1].legend()\n",
    "axs[1].set_title('optimal PFA and PD given $\\pi^*$')\n",
    "\n",
    "plt.show()"
   ]
  },
  {
   "cell_type": "markdown",
   "id": "e4452e17",
   "metadata": {},
   "source": [
    "## 贝叶斯决策规则\n",
    "\n",
    "在{doc}`一个让米尔顿·弗里德曼困惑的问题 <wald_friedman>`中，我们了解到亚伯拉罕·瓦尔德如何证实了海军上尉的直觉，即存在一个更好的决策规则。\n",
    "\n",
    "我们提出了一个贝叶斯程序，指导上尉通过比较他当前的贝叶斯后验概率$\\pi$与两个临界概率$\\alpha$和$\\beta$来做出决策。\n",
    "\n",
    "为了继续，我们从quantecon讲座{doc}`一个让米尔顿·弗里德曼困惑的问题 <wald_friedman>`中借用一些Python代码，用于计算$\\alpha$和$\\beta$。"
   ]
  },
  {
   "cell_type": "code",
   "execution_count": null,
   "id": "ef7cbb59",
   "metadata": {},
   "outputs": [],
   "source": [
    "@jit(parallel=True)\n",
    "def Q(h, wf):\n",
    "\n",
    "    c, π_grid = wf.c, wf.π_grid\n",
    "    L0, L1 = wf.L0, wf.L1\n",
    "    z0, z1 = wf.z0, wf.z1\n",
    "    mc_size = wf.mc_size\n",
    "\n",
    "    κ = wf.κ\n",
    "\n",
    "    h_new = np.empty_like(π_grid)\n",
    "    h_func = lambda p: np.interp(p, π_grid, h)\n",
    "\n",
    "    for i in prange(len(π_grid)):\n",
    "        π = π_grid[i]\n",
    "\n",
    "        # Find the expected value of J by integrating over z\n",
    "        integral_f0, integral_f1 = 0, 0\n",
    "        for m in range(mc_size):\n",
    "            π_0 = κ(z0[m], π)  # Draw z from f0 and update π\n",
    "            integral_f0 += min((1 - π_0) * L0, π_0 * L1, h_func(π_0))\n",
    "\n",
    "            π_1 = κ(z1[m], π)  # Draw z from f1 and update π\n",
    "            integral_f1 += min((1 - π_1) * L0, π_1 * L1, h_func(π_1))\n",
    "\n",
    "        integral = (π * integral_f0 + (1 - π) * integral_f1) / mc_size\n",
    "\n",
    "        h_new[i] = c + integral\n",
    "\n",
    "    return h_new"
   ]
  },
  {
   "cell_type": "code",
   "execution_count": null,
   "id": "ccb21ebd",
   "metadata": {},
   "outputs": [],
   "source": [
    "@jit\n",
    "def solve_model(wf, tol=1e-4, max_iter=1000):\n",
    "    \"\"\"\n",
    "    计算延续值函数\n",
    "\n",
    "    * wf 是 WaldFriedman 的一个实例\n",
    "    \"\"\"\n",
    "\n",
    "    # 设置循环\n",
    "    h = np.zeros(len(wf.π_grid))\n",
    "    i = 0\n",
    "    error = tol + 1\n",
    "\n",
    "    while i < max_iter and error > tol:\n",
    "        h_new = Q(h, wf)\n",
    "        error = np.max(np.abs(h - h_new))\n",
    "        i += 1\n",
    "        h = h_new\n",
    "\n",
    "    if error > tol:\n",
    "        print(\"未能收敛！\")\n",
    "\n",
    "    return h_new"
   ]
  },
  {
   "cell_type": "code",
   "execution_count": null,
   "id": "6b60723b",
   "metadata": {},
   "outputs": [],
   "source": [
    "h_star = solve_model(wf)"
   ]
  },
  {
   "cell_type": "code",
   "execution_count": null,
   "id": "cbc6d24f",
   "metadata": {},
   "outputs": [],
   "source": [
    "@jit\n",
    "def find_cutoff_rule(wf, h):\n",
    "\n",
    "    \"\"\"\n",
    "    此函数接收一个延续值函数并返回相应的临界点，\n",
    "    这些临界点表示在继续和选择特定模型之间的转换位置\n",
    "    \"\"\"\n",
    "\n",
    "    π_grid = wf.π_grid\n",
    "    L0, L1 = wf.L0, wf.L1\n",
    "\n",
    "    # 在网格上所有点评估选择模型的成本\n",
    "    payoff_f0 = (1 - π_grid) * L0\n",
    "    payoff_f1 = π_grid * L1\n",
    "\n",
    "    # 通过将这些成本与贝尔曼方程的差值可以找到临界点\n",
    "    # (J始终小于或等于p_c_i)\n",
    "    β = π_grid[np.searchsorted(\n",
    "                              payoff_f1 - np.minimum(h, payoff_f0),\n",
    "                              1e-10)\n",
    "               - 1]\n",
    "    α = π_grid[np.searchsorted(\n",
    "                              np.minimum(h, payoff_f1) - payoff_f0,\n",
    "                              1e-10)\n",
    "               - 1]\n",
    "\n",
    "    return (β, α)\n",
    "\n",
    "β, α = find_cutoff_rule(wf, h_star)\n",
    "cost_L0 = (1 - wf.π_grid) * wf.L0\n",
    "cost_L1 = wf.π_grid * wf.L1\n",
    "\n",
    "fig, ax = plt.subplots(figsize=(10, 6))\n",
    "\n",
    "ax.plot(wf.π_grid, h_star, label='延续值')\n",
    "ax.plot(wf.π_grid, cost_L1, label='选择f1')\n",
    "ax.plot(wf.π_grid, cost_L0, label='选择f0')\n",
    "ax.plot(wf.π_grid,\n",
    "        np.amin(np.column_stack([h_star, cost_L0, cost_L1]),axis=1),\n",
    "        lw=15, alpha=0.1, color='b', label='最小成本')\n",
    "\n",
    "ax.annotate(r\"$\\beta$\", xy=(β + 0.01, 0.5), fontsize=14)\n",
    "ax.annotate(r\"$\\alpha$\", xy=(α + 0.01, 0.5), fontsize=14)\n",
    "\n",
    "plt.vlines(β, 0, β * wf.L0, linestyle=\"--\")\n",
    "plt.vlines(α, 0, (1 - α) * wf.L1, linestyle=\"--\")\n",
    "\n",
    "ax.set(xlim=(0, 1), ylim=(0, 0.5 * max(wf.L0, wf.L1)), ylabel=\"成本\",\n",
    "       xlabel=r\"$\\pi$\", title=\"值函数\")\n",
    "\n",
    "plt.legend(borderpad=1.1)\n",
    "plt.show()"
   ]
  },
  {
   "cell_type": "markdown",
   "id": "1ab4f05f",
   "metadata": {},
   "source": [
    "上图描绘了价值函数对决策者贝叶斯后验概率的关系。\n",
    "\n",
    "图中还显示了概率 $\\alpha$ 和 $\\beta$。\n",
    "\n",
    "贝叶斯决策规则是：\n",
    "\n",
    "- 当 $\\pi \\geq \\alpha$ 时接受 $H_0$\n",
    "- 当 $\\pi \\leq \\beta$ 时接受 $H_1$\n",
    "- 当 $\\beta \\leq \\pi \\leq \\alpha$ 时延迟决定并抽取另一个 $z$\n",
    "\n",
    "在这种情况下，我们可以计算两个\"客观\"损失函数，分别基于确知自然选择了 $f_{0}$ 或 $f_{1}$ 的条件。\n",
    "\n",
    "1. 在 $f_{0}$ 下，\n",
    "\n",
    "   $$\n",
    "   V^{0}\\left(\\pi\\right)=\\begin{cases}\n",
    "   0 & \\text{if }\\alpha\\leq\\pi,\\\\\n",
    "   c+EV^{0}\\left(\\pi^{\\prime}\\right) & \\text{if }\\beta\\leq\\pi<\\alpha,\\\\\n",
    "   \\bar L_{1} & \\text{if }\\pi<\\beta.\n",
    "   \\end{cases}\n",
    "   $$\n",
    "\n",
    "1. 在 $f_{1}$ 下，\n",
    "\n",
    "   $$\n",
    "   V^{1}\\left(\\pi\\right)=\\begin{cases}\n",
    "   \\bar L_{0} & \\text{if }\\alpha\\leq\\pi,\\\\\n",
    "   c+EV^{1}\\left(\\pi^{\\prime}\\right) & \\text{if }\\beta\\leq\\pi<\\alpha,\\\\\n",
    "   0 & \\text{if }\\pi<\\beta.\n",
    "   \\end{cases}\n",
    "   $$\n",
    "\n",
    "其中\n",
    "\n",
    "$\\pi^{\\prime}=\\frac{\\pi f_{0}\\left(z^{\\prime}\\right)}{\\pi f_{0}\\left(z^{\\prime}\\right)+\\left(1-\\pi\\right)f_{1}\\left(z^{\\prime}\\right)}$。\n",
    "\n",
    "给定先验概率 $\\pi_{0}$，贝叶斯方法的期望损失为\n",
    "\n",
    "$$\n",
    "\\bar{V}_{Bayes}\\left(\\pi_{0}\\right)=\\pi^{*}V^{0}\\left(\\pi_{0}\\right)+\\left(1-\\pi^{*}\\right)V^{1}\\left(\\pi_{0}\\right).\n",
    "$$\n",
    "\n",
    "下面我们编写一些 Python 代码来数值计算 $V^{0}\\left(\\pi\\right)$ 和 $V^{1}\\left(\\pi\\right)$。"
   ]
  },
  {
   "cell_type": "code",
   "execution_count": null,
   "id": "3183cead",
   "metadata": {},
   "outputs": [],
   "source": [
    "@jit(parallel=True)\n",
    "def V_q(wf, flag):\n",
    "    V = np.zeros(wf.π_grid_size)\n",
    "    if flag == 0:\n",
    "        z_arr = wf.z0\n",
    "        V[wf.π_grid < β] = wf.L1\n",
    "    else:\n",
    "        z_arr = wf.z1\n",
    "        V[wf.π_grid >= α] = wf.L0\n",
    "\n",
    "    V_old = np.empty_like(V)\n",
    "\n",
    "    while True:\n",
    "        V_old[:] = V[:]\n",
    "        V[(β <= wf.π_grid) & (wf.π_grid < α)] = 0\n",
    "\n",
    "        for i in prange(len(wf.π_grid)):\n",
    "            π = wf.π_grid[i]\n",
    "\n",
    "            if π >= α or π < β:\n",
    "                continue\n",
    "\n",
    "            for j in prange(len(z_arr)):\n",
    "                π_next = wf.κ(z_arr[j], π)\n",
    "                V[i] += wf.c + np.interp(π_next, wf.π_grid, V_old)\n",
    "\n",
    "            V[i] /= wf.mc_size\n",
    "\n",
    "        if np.abs(V - V_old).max() < 1e-5:\n",
    "            break\n",
    "\n",
    "    return V"
   ]
  },
  {
   "cell_type": "code",
   "execution_count": null,
   "id": "721943fa",
   "metadata": {},
   "outputs": [],
   "source": [
    "V0 = V_q(wf, 0)\n",
    "V1 = V_q(wf, 1)\n",
    "\n",
    "plt.plot(wf.π_grid, V0, label='$V^0$')\n",
    "plt.plot(wf.π_grid, V1, label='$V^1$')\n",
    "plt.vlines(β, 0, wf.L0, linestyle='--')\n",
    "plt.text(β+0.01, wf.L0/2, 'β')\n",
    "plt.vlines(α, 0, wf.L0, linestyle='--')\n",
    "plt.text(α+0.01, wf.L0/2, 'α')\n",
    "plt.xlabel(r'$\\pi$')\n",
    "plt.title('目标值函数 $V(\\pi)$')\n",
    "plt.legend()\n",
    "plt.show()"
   ]
  },
  {
   "cell_type": "markdown",
   "id": "0af0d289",
   "metadata": {},
   "source": [
    "给定一个假设值\n",
    "$\\pi^{*}=\\Pr\\left\\{ \\text{自然选择 }f_{0}\\right\\}$，我们就可以\n",
    "计算 $\\bar{V}_{Bayes}\\left(\\pi_{0}\\right)$。\n",
    "\n",
    "然后我们可以确定一个初始贝叶斯先验概率 $\\pi_{0}^{*}$，使其\n",
    "最小化这个期望损失的客观概念。\n",
    "\n",
    "下面的图9展示了四种情况，分别对应\n",
    "$\\pi^{*}=0.25,0.3,0.5,0.7$。\n",
    "\n",
    "我们观察到在每种情况下 $\\pi_{0}^{*}$ 都等于 $\\pi^{*}$。"
   ]
  },
  {
   "cell_type": "code",
   "execution_count": null,
   "id": "98a59736",
   "metadata": {},
   "outputs": [],
   "source": [
    "def compute_V_baye_bar(π_star, V0, V1, wf):\n",
    "\n",
    "    V_baye = π_star * V0 + (1 - π_star) * V1\n",
    "    π_idx = np.argmin(V_baye)\n",
    "    π_optimal = wf.π_grid[π_idx]\n",
    "    V_baye_bar = V_baye[π_idx]\n",
    "\n",
    "    return V_baye, π_optimal, V_baye_bar"
   ]
  },
  {
   "cell_type": "code",
   "execution_count": null,
   "id": "25a72734",
   "metadata": {},
   "outputs": [],
   "source": [
    "π_star_arr = [0.25, 0.3, 0.5, 0.7]\n",
    "\n",
    "fig, axs = plt.subplots(2, 2, figsize=(15, 10))\n",
    "\n",
    "for i, π_star in enumerate(π_star_arr):\n",
    "    row_i = i // 2\n",
    "    col_i = i % 2\n",
    "\n",
    "    V_baye, π_optimal, V_baye_bar = compute_V_baye_bar(π_star, V0, V1, wf)\n",
    "\n",
    "    axs[row_i, col_i].plot(wf.π_grid, V_baye)\n",
    "    axs[row_i, col_i].hlines(V_baye_bar, 0, 1, linestyle='--')\n",
    "    axs[row_i, col_i].vlines(π_optimal, V_baye_bar, V_baye.max(), linestyle='--')\n",
    "    axs[row_i, col_i].text(π_optimal+0.05, (V_baye_bar + V_baye.max()) / 2,\n",
    "                        '${\\pi_0^*}=$'+f'{π_optimal:0.2f}')\n",
    "    axs[row_i, col_i].set_xlabel(r'$\\pi$')\n",
    "    axs[row_i, col_i].set_ylabel(r'$\\overline{V}_{baye}(\\pi)$')\n",
    "    axs[row_i, col_i].set_title(r'$\\pi^*=$' + f'{π_star}')\n",
    "\n",
    "fig.suptitle(r'$\\overline{V}_{baye}(\\pi)=\\pi^*V^0(\\pi) + (1-\\pi^*)V^1(\\pi)$', fontsize=16)\n",
    "plt.show()"
   ]
  },
  {
   "cell_type": "markdown",
   "id": "edc1bdde",
   "metadata": {},
   "source": [
    "这种结果模式具有普遍性。\n",
    "\n",
    "因此，以下Python代码生成相关图表，验证了对于所有的$\\pi^{*}$值，$\\pi_{0}^{*}$等于$\\pi^{*}$这一等式都成立。"
   ]
  },
  {
   "cell_type": "code",
   "execution_count": null,
   "id": "b0202f48",
   "metadata": {},
   "outputs": [],
   "source": [
    "π_star_arr = np.linspace(0.1, 0.9, n_π)\n",
    "V_baye_bar_arr = np.empty_like(π_star_arr)\n",
    "π_optimal_arr = np.empty_like(π_star_arr)\n",
    "\n",
    "for i, π_star in enumerate(π_star_arr):\n",
    "\n",
    "    V_baye, π_optimal, V_baye_bar = compute_V_baye_bar(π_star, V0, V1, wf)\n",
    "\n",
    "    V_baye_bar_arr[i] = V_baye_bar\n",
    "    π_optimal_arr[i] = π_optimal\n",
    "\n",
    "fig, axs = plt.subplots(1, 2, figsize=(14, 5))\n",
    "\n",
    "axs[0].plot(π_star_arr, V_baye_bar_arr)\n",
    "axs[0].set_xlabel(r'$\\pi^*$')\n",
    "axs[0].set_title(r'$\\overline{V}_{baye}$')\n",
    "\n",
    "axs[1].plot(π_star_arr, π_optimal_arr, label='optimal prior')\n",
    "axs[1].plot([π_star_arr.min(), π_star_arr.max()],\n",
    "            [π_star_arr.min(), π_star_arr.max()],\n",
    "            c='k', linestyle='--', label='45 degree line')\n",
    "axs[1].set_xlabel(r'$\\pi^*$')\n",
    "axs[1].set_title('optimal prior given $\\pi^*$')\n",
    "axs[1].legend()\n",
    "\n",
    "plt.show()"
   ]
  },
  {
   "cell_type": "markdown",
   "id": "4aad03e8",
   "metadata": {},
   "source": [
    "## 海军上尉的直觉是否正确？\n",
    "\n",
    "现在我们比较频率主义和贝叶斯决策规则所得到的平均（即频率主义）损失。\n",
    "\n",
    "让我们先从比较$\\pi^{*}=0.5$时的平均损失函数开始。"
   ]
  },
  {
   "cell_type": "code",
   "execution_count": null,
   "id": "ddabd84b",
   "metadata": {},
   "outputs": [],
   "source": [
    "π_star = 0.5"
   ]
  },
  {
   "cell_type": "code",
   "execution_count": null,
   "id": "b6c44a95",
   "metadata": {},
   "outputs": [],
   "source": [
    "# 频率派\n",
    "V_fre_arr, PFA_arr, PD_arr = compute_V_fre(L0_arr, L1_arr, π_star, wf)\n",
    "\n",
    "# 贝叶斯派\n",
    "V_baye = π_star * V0 + π_star * V1\n",
    "V_baye_bar = V_baye.min()"
   ]
  },
  {
   "cell_type": "code",
   "execution_count": null,
   "id": "58beca1b",
   "metadata": {},
   "outputs": [],
   "source": [
    "plt.plot(range(T), V_fre_arr, label=r'$\\min_{d} \\overline{V}_{fre}(t,d)$')\n",
    "plt.plot([0, T], [V_baye_bar, V_baye_bar], label=r'$\\overline{V}_{baye}$')\n",
    "plt.xlabel('t')\n",
    "plt.title(r'$\\pi^*=0.5$')\n",
    "plt.legend()\n",
    "plt.show()"
   ]
  },
  {
   "cell_type": "markdown",
   "id": "133a508c",
   "metadata": {},
   "source": [
    "显然，在任何样本量 $t$ 下，频率派决策规则都无法获得比贝叶斯规则更低的损失函数。\n",
    "\n",
    "此外，下图表明贝叶斯决策规则在所有 $\\pi^{*}$ 值上平均表现都更好。"
   ]
  },
  {
   "cell_type": "code",
   "execution_count": null,
   "id": "720d4fb5",
   "metadata": {},
   "outputs": [],
   "source": [
    "fig, axs = plt.subplots(1, 2, figsize=(14, 5))\n",
    "\n",
    "axs[0].plot(π_star_arr, V_fre_bar_arr, label=r'$\\overline{V}_{fre}$')\n",
    "axs[0].plot(π_star_arr, V_baye_bar_arr, label=r'$\\overline{V}_{baye}$')\n",
    "axs[0].legend()\n",
    "axs[0].set_xlabel(r'$\\pi^*$')\n",
    "\n",
    "axs[1].plot(π_star_arr, V_fre_bar_arr - V_baye_bar_arr, label='$diff$')\n",
    "axs[1].legend()\n",
    "axs[1].set_xlabel(r'$\\pi^*$')\n",
    "\n",
    "plt.show()"
   ]
  },
  {
   "cell_type": "markdown",
   "id": "cb449863",
   "metadata": {},
   "source": [
    "上图右侧面板绘制了差值$\\bar{V}_{fre}-\\bar{V}_{Bayes}$。\n",
    "\n",
    "这个差值始终为正值。\n",
    "\n",
    "## 更多细节\n",
    "\n",
    "我们可以通过聚焦于$\\pi^{*}=0.5=\\pi_{0}$的情况来提供更多见解。"
   ]
  },
  {
   "cell_type": "code",
   "execution_count": null,
   "id": "129e4491",
   "metadata": {},
   "outputs": [],
   "source": [
    "π_star = 0.5"
   ]
  },
  {
   "cell_type": "markdown",
   "id": "bfceb44d",
   "metadata": {},
   "source": [
    "回顾当$\\pi^*=0.5$时，频率派决策规则会**事先**设定一个样本量`t_optimal`。\n",
    "\n",
    "对于我们的参数设置，我们可以计算它的值："
   ]
  },
  {
   "cell_type": "code",
   "execution_count": null,
   "id": "507f51ac",
   "metadata": {},
   "outputs": [],
   "source": [
    "t_optimal"
   ]
  },
  {
   "cell_type": "markdown",
   "id": "8702762d",
   "metadata": {},
   "source": [
    "为了方便，让我们将 `t_idx` 定义为对应于 `t_optimal` 样本量的 Python 数组索引。"
   ]
  },
  {
   "cell_type": "code",
   "execution_count": null,
   "id": "dc954ed6",
   "metadata": {},
   "outputs": [],
   "source": [
    "t_idx = t_optimal - 1"
   ]
  },
  {
   "cell_type": "markdown",
   "id": "914692e8",
   "metadata": {},
   "source": [
    "## 贝叶斯决策规则的决策时间分布\n",
    "\n",
    "通过模拟，我们计算贝叶斯决策规则的决策时间频率分布，并将该时间与频率派规则的固定$t$进行比较。\n",
    "\n",
    "以下Python代码创建了一个图表，显示了贝叶斯决策者的贝叶斯决策时间的频率分布，条件是数据由分布$q=f_{0}$或$q=f_{1}$生成。\n",
    "\n",
    "蓝色和红色虚线显示了贝叶斯决策规则的平均值，而黑色虚线显示了频率派的最优样本量$t$。\n",
    "\n",
    "当$q=f_0$时，贝叶斯规则平均比频率派规则**更早**做出决定，而当$q=f_1$时则**更晚**做出决定。"
   ]
  },
  {
   "cell_type": "code",
   "execution_count": null,
   "id": "a12025c7",
   "metadata": {},
   "outputs": [],
   "source": [
    "@jit(parallel=True)\n",
    "def check_results(L_arr, α, β, flag, π0):\n",
    "\n",
    "    N, T = L_arr.shape\n",
    "\n",
    "    time_arr = np.empty(N)\n",
    "    correctness = np.empty(N)\n",
    "\n",
    "    π_arr = π0 * L_arr / (π0 * L_arr + 1 - π0)\n",
    "\n",
    "    for i in prange(N):\n",
    "        for t in range(T):\n",
    "            if (π_arr[i, t] < β) or (π_arr[i, t] > α):\n",
    "                time_arr[i] = t + 1\n",
    "                correctness[i] = (flag == 0 and π_arr[i, t] > α) or (flag == 1 and π_arr[i, t] < β)\n",
    "                break\n",
    "\n",
    "    return time_arr, correctness"
   ]
  },
  {
   "cell_type": "code",
   "execution_count": null,
   "id": "39ad8655",
   "metadata": {},
   "outputs": [],
   "source": [
    "time_arr0, correctness0 = check_results(L0_arr, α, β, 0, π_star)\n",
    "time_arr1, correctness1 = check_results(L1_arr, α, β, 1, π_star)\n",
    "\n",
    "# 无条件分布\n",
    "time_arr_u = np.concatenate((time_arr0, time_arr1))\n",
    "correctness_u = np.concatenate((correctness0, correctness1))"
   ]
  },
  {
   "cell_type": "code",
   "execution_count": null,
   "id": "4ba6deca",
   "metadata": {},
   "outputs": [],
   "source": [
    "n1 = plt.hist(time_arr0, bins=range(1, 30), alpha=0.4, label='f0生成')[0]\n",
    "n2 = plt.hist(time_arr1, bins=range(1, 30), alpha=0.4, label='f1生成')[0]\n",
    "plt.vlines(t_optimal, 0, max(n1.max(), n2.max()), linestyle='--', label='频率派')\n",
    "plt.vlines(np.mean(time_arr0), 0, max(n1.max(), n2.max()),\n",
    "           linestyle='--', color='b', label='f0下的E(t)')\n",
    "plt.vlines(np.mean(time_arr1), 0, max(n1.max(), n2.max()),\n",
    "           linestyle='--', color='r', label='f1下的E(t)')\n",
    "plt.legend();\n",
    "\n",
    "plt.xlabel('t')\n",
    "plt.ylabel('n')\n",
    "plt.title('时间的条件频率分布')\n",
    "\n",
    "plt.show()"
   ]
  },
  {
   "cell_type": "markdown",
   "id": "af8e73c6",
   "metadata": {},
   "source": [
    "稍后我们将弄清这些分布最终如何影响两种决策规则下的客观期望值。\n",
    "\n",
    "首先，让我们看看贝叶斯信念随时间的模拟。\n",
    "\n",
    "利用本讲{doc}`似然比过程 <likelihood_ratio_process>`中描述的从$L_{t}$到$\\pi_{t}$的一一映射（给定$\\pi_0$），我们可以轻松计算任意时间$t$的更新信念。"
   ]
  },
  {
   "cell_type": "code",
   "execution_count": null,
   "id": "df7d35ff",
   "metadata": {},
   "outputs": [],
   "source": [
    "π0_arr = π_star * L0_arr / (π_star * L0_arr + 1 - π_star)\n",
    "π1_arr = π_star * L1_arr / (π_star * L1_arr + 1 - π_star)"
   ]
  },
  {
   "cell_type": "code",
   "execution_count": null,
   "id": "5518d56a",
   "metadata": {},
   "outputs": [],
   "source": [
    "fig, axs = plt.subplots(1, 2, figsize=(14, 4))\n",
    "\n",
    "axs[0].plot(np.arange(1, π0_arr.shape[1]+1), np.mean(π0_arr, 0), label='f0生成')\n",
    "axs[0].plot(np.arange(1, π1_arr.shape[1]+1), 1 - np.mean(π1_arr, 0), label='f1生成')\n",
    "axs[0].set_xlabel('t')\n",
    "axs[0].set_ylabel('$E(\\pi_t)$ 或 ($1 - E(\\pi_t)$)')\n",
    "axs[0].set_title('抽取t个观测值后信念的期望')\n",
    "axs[0].legend()\n",
    "\n",
    "axs[1].plot(np.arange(1, π0_arr.shape[1]+1), np.var(π0_arr, 0), label='f0生成')\n",
    "axs[1].plot(np.arange(1, π1_arr.shape[1]+1), np.var(π1_arr, 0), label='f1生成')\n",
    "axs[1].set_xlabel('t')\n",
    "axs[1].set_ylabel('var($\\pi_t$)')\n",
    "axs[1].set_title('抽取t个观测值后信念的方差')\n",
    "axs[1].legend()\n",
    "\n",
    "plt.show()"
   ]
  },
  {
   "cell_type": "markdown",
   "id": "e3807a81",
   "metadata": {},
   "source": [
    "上图比较了经过$t$次抽样后贝叶斯后验分布的均值和方差。\n",
    "\n",
    "左图比较了$f_{0}$下的$E\\left(\\pi_{t}\\right)$和$f_{1}$下的$1-E\\left(\\pi_{t}\\right)$：它们完全重合。\n",
    "\n",
    "然而,如右图所示,当$t$较小时方差存在显著差异：在$f_{1}$下方差更小。\n",
    "\n",
    "方差的差异是贝叶斯决策者在$f_{1}$生成数据时等待更长时间才做出决定的原因。\n",
    "\n",
    "下面的代码通过简单地将两个可能分布$f_0$和$f_1$的模拟数据合并,绘制了无条件分布的结果。\n",
    "\n",
    "这个合并分布从某种意义上描述了贝叶斯决策者平均会更早做出决定,这似乎在一定程度上证实了海军上尉的直觉判断。"
   ]
  },
  {
   "cell_type": "code",
   "execution_count": null,
   "id": "d45a4d83",
   "metadata": {},
   "outputs": [],
   "source": [
    "n = plt.hist(time_arr_u, bins=range(1, 30), alpha=0.4, label='bayesian')[0]\n",
    "plt.vlines(np.mean(time_arr_u), 0, n.max(), linestyle='--',\n",
    "           color='b', label='bayesian E(t)')\n",
    "plt.vlines(t_optimal, 0, n.max(), linestyle='--', label='frequentist')\n",
    "plt.legend()\n",
    "\n",
    "plt.xlabel('t')\n",
    "plt.ylabel('n')\n",
    "plt.title('Unconditional distribution of times')\n",
    "\n",
    "plt.show()"
   ]
  },
  {
   "cell_type": "markdown",
   "id": "9a1f9582",
   "metadata": {},
   "source": [
    "## 做出正确决策的概率\n",
    "\n",
    "现在我们使用模拟来计算贝叶斯和频率主义决策规则做出正确决定的样本比例。\n",
    "\n",
    "对于频率主义规则，在$f_{1}$下做出正确决定的概率是我们之前定义的给定$t$时的最优检测概率，同样地，在$f_{0}$下它等于1减去最优虚警概率。\n",
    "\n",
    "下面我们绘制频率主义规则的这两个概率，以及贝叶斯规则在$t$之前做出决定*且*决定正确的条件概率。"
   ]
  },
  {
   "cell_type": "code",
   "execution_count": null,
   "id": "5e956538",
   "metadata": {},
   "outputs": [],
   "source": [
    "# 频率主义最优样本量下的最优虚警概率和检测概率\n",
    "V, PFA, PD = V_fre_t(t_optimal, L0_arr, L1_arr, π_star, wf)"
   ]
  },
  {
   "cell_type": "code",
   "execution_count": null,
   "id": "231d2c57",
   "metadata": {},
   "outputs": [],
   "source": [
    "plt.plot([1, 20], [PD, PD], linestyle='--', label='PD: 正确选择f1的频率')\n",
    "plt.plot([1, 20], [1-PFA, 1-PFA], linestyle='--', label='1-PFA: 正确选择f0的频率')\n",
    "plt.vlines(t_optimal, 0, 1, linestyle='--', label='频率论最优样本量')\n",
    "\n",
    "N = time_arr0.size\n",
    "T_arr = np.arange(1, 21)\n",
    "plt.plot(T_arr, [np.sum(correctness0[time_arr0 <= t] == 1) / N for t in T_arr],\n",
    "        label='q=f0且贝叶斯选择f0')\n",
    "plt.plot(T_arr, [np.sum(correctness1[time_arr1 <= t] == 1) / N for t in T_arr],\n",
    "        label='q=f1且贝叶斯选择f1')\n",
    "plt.legend(loc=4)\n",
    "\n",
    "plt.xlabel('t')\n",
    "plt.ylabel('概率')\n",
    "plt.title('t之前做出正确决定的条件概率')\n",
    "\n",
    "plt.show()"
   ]
  },
  {
   "cell_type": "markdown",
   "id": "578e107b",
   "metadata": {},
   "source": [
    "通过使用 $\\pi^{*}$ 进行平均，我们还绘制了无条件分布。"
   ]
  },
  {
   "cell_type": "code",
   "execution_count": null,
   "id": "aee79839",
   "metadata": {},
   "outputs": [],
   "source": [
    "plt.plot([1, 20], [(PD + 1 - PFA) / 2, (PD + 1 - PFA) / 2],\n",
    "        linestyle='--', label='频率派正确决策')\n",
    "plt.vlines(t_optimal, 0, 1, linestyle='--', label='频率派最优样本量')\n",
    "\n",
    "N = time_arr_u.size\n",
    "plt.plot(T_arr, [np.sum(correctness_u[time_arr_u <= t] == 1) / N for t in T_arr],\n",
    "        label=\"贝叶斯派正确决策\")\n",
    "plt.legend()\n",
    "\n",
    "plt.xlabel('t')\n",
    "plt.ylabel('概率')\n",
    "plt.title('t时刻前做出正确决策的无条件概率')\n",
    "\n",
    "plt.show()"
   ]
  },
  {
   "cell_type": "markdown",
   "id": "6e971b1e",
   "metadata": {},
   "source": [
    "## 在频率学家的 $t$ 处的似然比分布\n",
    "\n",
    "接下来我们使用模拟来构建在 $t$ 次抽样后的似然比分布。\n",
    "\n",
    "作为有用的参考点，我们还展示了对应于贝叶斯截断值 $\\alpha$ 和 $\\beta$ 的似然比。\n",
    "\n",
    "为了更清晰地展示分布，我们报告似然比的对数值。\n",
    "\n",
    "下面的图表报告了两个分布，一个是在 $f_0$ 生成数据的条件下的分布，另一个是在 $f_1$ 生成数据的条件下的分布。"
   ]
  },
  {
   "cell_type": "code",
   "execution_count": null,
   "id": "b024052a",
   "metadata": {},
   "outputs": [],
   "source": [
    "Lα = (1 - π_star) *  α / (π_star - π_star * α)\n",
    "Lβ = (1 - π_star) *  β / (π_star - π_star * β)"
   ]
  },
  {
   "cell_type": "code",
   "execution_count": null,
   "id": "b7064f34",
   "metadata": {},
   "outputs": [],
   "source": [
    "L_min = min(L0_arr[:, t_idx].min(), L1_arr[:, t_idx].min())\n",
    "L_max = max(L0_arr[:, t_idx].max(), L1_arr[:, t_idx].max())\n",
    "bin_range = np.linspace(np.log(L_min), np.log(L_max), 50)\n",
    "n0 = plt.hist(np.log(L0_arr[:, t_idx]), bins=bin_range, alpha=0.4, label='f0生成')[0]\n",
    "n1 = plt.hist(np.log(L1_arr[:, t_idx]), bins=bin_range, alpha=0.4, label='f1生成')[0]\n",
    "\n",
    "plt.vlines(np.log(Lβ), 0, max(n0.max(), n1.max()), linestyle='--', color='r', label='log($L_β$)')\n",
    "plt.vlines(np.log(Lα), 0, max(n0.max(), n1.max()), linestyle='--', color='b', label='log($L_α$)')\n",
    "plt.legend()\n",
    "\n",
    "plt.xlabel('log(L)')\n",
    "plt.ylabel('n')\n",
    "plt.title('频率学派t时对数似然比的条件分布')\n",
    "\n",
    "plt.show()"
   ]
  },
  {
   "cell_type": "markdown",
   "id": "eca1f8e8",
   "metadata": {},
   "source": [
    "下一个图表绘制了贝叶斯决策时间的无条件分布，这是通过将两个条件分布合并而构建的。"
   ]
  },
  {
   "cell_type": "code",
   "execution_count": null,
   "id": "4f9fef19",
   "metadata": {},
   "outputs": [],
   "source": [
    "plt.hist(np.log(np.concatenate([L0_arr[:, t_idx], L1_arr[:, t_idx]])),\n",
    "        bins=50, alpha=0.4, label='log(L)的无条件分布')\n",
    "plt.vlines(np.log(Lβ), 0, max(n0.max(), n1.max()), linestyle='--', color='r', label='log($L_β$)')\n",
    "plt.vlines(np.log(Lα), 0, max(n0.max(), n1.max()), linestyle='--', color='b', label='log($L_α$)')\n",
    "plt.legend()\n",
    "\n",
    "plt.xlabel('log(L)')\n",
    "plt.ylabel('n')\n",
    "plt.title('频率论者t时刻的对数似然比的无条件分布')\n",
    "\n",
    "plt.show()"
   ]
  }
 ],
 "metadata": {
  "jupytext": {
   "text_representation": {
    "extension": ".md",
    "format_name": "myst"
   }
  },
  "kernelspec": {
   "display_name": "Python 3",
   "language": "python",
   "name": "python3"
  },
  "source_map": [
   10,
   28,
   40,
   90,
   98,
   102,
   119,
   164,
   181,
   241,
   246,
   251,
   256,
   260,
   264,
   270,
   274,
   293,
   314,
   328,
   341,
   359,
   370,
   374,
   377,
   381,
   400,
   406,
   410,
   424,
   434,
   467,
   493,
   497,
   550,
   596,
   631,
   645,
   659,
   670,
   692,
   698,
   725,
   733,
   737,
   746,
   753,
   759,
   772,
   782,
   784,
   790,
   792,
   796,
   798,
   810,
   831,
   840,
   855,
   863,
   868,
   886,
   900,
   912,
   922,
   927,
   945,
   949,
   964,
   976,
   981,
   997,
   1001
  ]
 },
 "nbformat": 4,
 "nbformat_minor": 5
}