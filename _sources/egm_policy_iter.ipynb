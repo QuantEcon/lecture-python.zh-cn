{
 "cells": [
  {
   "cell_type": "markdown",
   "id": "69accbba",
   "metadata": {},
   "source": [
    "```{raw} jupyter\n",
    "<div id=\"qe-notebook-header\" align=\"right\" style=\"text-align:right;\">\n",
    "        <a href=\"https://quantecon.org/\" title=\"quantecon.org\">\n",
    "                <img style=\"width:250px;display:inline;\" width=\"250px\" src=\"https://assets.quantecon.org/img/qe-menubar-logo.svg\" alt=\"QuantEcon\">\n",
    "        </a>\n",
    "</div>\n",
    "```\n",
    "\n",
    "# {index}`最优增长 IV：内生网格法 <single: Optimal Growth IV: The Endogenous Grid Method>`\n",
    "\n",
    "```{contents} 目录\n",
    ":depth: 2\n",
    "```\n",
    "\n",
    "## 概述\n",
    "\n",
    "在之前，我们使用以下方法求解了随机最优增长模型：\n",
    "\n",
    "1. {doc}`值函数迭代 <optgrowth_fast>`\n",
    "1. {doc}`基于欧拉方程的时间迭代 <coleman_policy_iter>`\n",
    "\n",
    "我们发现时间迭代在准确性和效率方面都明显更好。\n",
    "\n",
    "在本讲中，我们将学习一种对时间迭代的巧妙变形，称为**内生网格方法**（EGM）。\n",
    "\n",
    "EGM是由[Chris Carroll](http://www.econ2.jhu.edu/people/ccarroll/)发明的一种实现政策迭代的数值方法。\n",
    "\n",
    "原始参考文献是{cite}`Carroll2006`。\n",
    "\n",
    "让我们从一些标准导入开始："
   ]
  },
  {
   "cell_type": "code",
   "execution_count": null,
   "id": "8aad2f5f",
   "metadata": {},
   "outputs": [],
   "source": [
    "import matplotlib.pyplot as plt\n",
    "import matplotlib as mpl\n",
    "FONTPATH = \"fonts/SourceHanSerifSC-SemiBold.otf\"\n",
    "mpl.font_manager.fontManager.addfont(FONTPATH)\n",
    "plt.rcParams['font.family'] = ['Source Han Serif SC']\n",
    "\n",
    "import numpy as np\n",
    "from numba import jit"
   ]
  },
  {
   "cell_type": "markdown",
   "id": "97f4a4b3",
   "metadata": {},
   "source": [
    "## 核心思想\n",
    "\n",
    "让我们先回顾一下理论，然后看看数值计算如何配合。\n",
    "\n",
    "### 理论\n",
    "\n",
    "采用{doc}`时间迭代讲座 <coleman_policy_iter>`中设定的模型，遵循相同的术语和符号。\n",
    "\n",
    "欧拉方程为\n",
    "\n",
    "```{math}\n",
    ":label: egm_euler\n",
    "\n",
    "(u'\\circ \\sigma^*)(y)\n",
    "= \\beta \\int (u'\\circ \\sigma^*)(f(y - \\sigma^*(y)) z) f'(y - \\sigma^*(y)) z \\phi(dz)\n",
    "```\n",
    "\n",
    "如我们所见，Coleman-Reffett算子是一个非线性算子$K$，其设计使得$\\sigma^*$是$K$的不动点。\n",
    "\n",
    "它以一个连续严格递增的消费策略$\\sigma \\in \\Sigma$作为参数。\n",
    "\n",
    "它返回一个新函数$K \\sigma$，其中$(K \\sigma)(y)$是满足以下方程的$c \\in (0, \\infty)$：\n",
    "\n",
    "```{math}\n",
    ":label: egm_coledef\n",
    "\n",
    "u'(c)\n",
    "= \\beta \\int (u' \\circ \\sigma) (f(y - c) z ) f'(y - c) z \\phi(dz)\n",
    "```\n",
    "\n",
    "### 外生网格\n",
    "\n",
    "如{doc}`时间迭代讲座 <coleman_policy_iter>`中所讨论的，要在计算机上实现该方法，我们需要一个数值近似。\n",
    "\n",
    "具体来说，我们用有限网格上的一组值来表示策略函数。\n",
    "\n",
    "在需要时，使用插值或其他方法从这种表示中重建函数本身。\n",
    "\n",
    "{doc}`之前 <coleman_policy_iter>`，为了获得更新后消费策略的有限表示，我们\n",
    "\n",
    "* 固定了一个收入点网格 $\\{y_i\\}$\n",
    "* 使用{eq}`egm_coledef`和一个寻根程序计算对应每个$y_i$的消费值$c_i$\n",
    "\n",
    "每个$c_i$被解释为函数$K \\sigma$在$y_i$处的值。\n",
    "\n",
    "因此，有了点$\\{y_i, c_i\\}$后，我们可以通过近似重建$K \\sigma$。\n",
    "\n",
    "然后继续迭代...\n",
    "\n",
    "### 内生网格\n",
    "\n",
    "上述方法需要一个寻根程序来找到对应给定收入值$y_i$的$c_i$。\n",
    "\n",
    "求根计算成本很高，因为它通常需要大量的函数求值。\n",
    "\n",
    "正如Carroll {cite}`Carroll2006`指出的那样，如果$y_i$是内生选择的，我们可以避免这种情况。\n",
    "\n",
    "唯一需要的假设是$u'$在$(0, \\infty)$上是可逆的。\n",
    "\n",
    "令$(u')^{-1}$为$u'$的反函数。\n",
    "\n",
    "基本思路是：\n",
    "\n",
    "* 首先，我们为资本($k = y - c$)固定一个*外生*网格$\\{k_i\\}$。\n",
    "* 然后我们通过以下方式获得$c_i$\n",
    "\n",
    "```{math}\n",
    ":label: egm_getc\n",
    "\n",
    "c_i =\n",
    "(u')^{-1}\n",
    "\\left\\{\n",
    "    \\beta \\int (u' \\circ \\sigma) (f(k_i) z ) \\, f'(k_i) \\, z \\, \\phi(dz)\n",
    "\\right\\}\n",
    "```\n",
    "\n",
    "* 最后，对于每个$c_i$我们设定$y_i = c_i + k_i$。\n",
    "\n",
    "显然，以这种方式构造的每个$(y_i, c_i)$对都满足{eq}`egm_coledef`。\n",
    "\n",
    "有了这些点$\\{y_i, c_i\\}$，我们可以像之前一样通过近似重构$K \\sigma$。\n",
    "\n",
    "EGM这个名称来源于网格$\\{y_i\\}$是**内生**决定的这一事实。\n",
    "\n",
    "## 实现\n",
    "\n",
    "如{doc}`之前 <coleman_policy_iter>`，我们将从一个简单的设定开始，其中\n",
    "\n",
    "* $u(c) = \\ln c$，\n",
    "* 生产函数是柯布-道格拉斯形式，且\n",
    "* 冲击是对数正态分布。\n",
    "\n",
    "这将使我们能够与解析解进行比较"
   ]
  },
  {
   "cell_type": "code",
   "execution_count": null,
   "id": "8c32a717",
   "metadata": {
    "load": "_static/lecture_specific/optgrowth/cd_analytical.py"
   },
   "outputs": [],
   "source": [
    "\n",
    "def v_star(y, α, β, μ):\n",
    "    \"\"\"\n",
    "    True value function\n",
    "    \"\"\"\n",
    "    c1 = np.log(1 - α * β) / (1 - β)\n",
    "    c2 = (μ + α * np.log(α * β)) / (1 - α)\n",
    "    c3 = 1 / (1 - β)\n",
    "    c4 = 1 / (1 - α * β)\n",
    "    return c1 + c2 * (c3 - c4) + c4 * np.log(y)\n",
    "\n",
    "def σ_star(y, α, β):\n",
    "    \"\"\"\n",
    "    True optimal policy\n",
    "    \"\"\"\n",
    "    return (1 - α * β) * y\n",
    "\n"
   ]
  },
  {
   "cell_type": "markdown",
   "id": "dec7848f",
   "metadata": {},
   "source": [
    "我们重用 `OptimalGrowthModel` 类"
   ]
  },
  {
   "cell_type": "code",
   "execution_count": null,
   "id": "be5c4c96",
   "metadata": {
    "load": "_static/lecture_specific/optgrowth_fast/ogm.py"
   },
   "outputs": [],
   "source": [
    "from numba import float64\n",
    "from numba.experimental import jitclass\n",
    "\n",
    "opt_growth_data = [\n",
    "    ('α', float64),          # Production parameter\n",
    "    ('β', float64),          # Discount factor\n",
    "    ('μ', float64),          # Shock location parameter\n",
    "    ('s', float64),          # Shock scale parameter\n",
    "    ('grid', float64[:]),    # Grid (array)\n",
    "    ('shocks', float64[:])   # Shock draws (array)\n",
    "]\n",
    "\n",
    "@jitclass(opt_growth_data)\n",
    "class OptimalGrowthModel:\n",
    "\n",
    "    def __init__(self,\n",
    "                α=0.4,\n",
    "                β=0.96,\n",
    "                μ=0,\n",
    "                s=0.1,\n",
    "                grid_max=4,\n",
    "                grid_size=120,\n",
    "                shock_size=250,\n",
    "                seed=1234):\n",
    "\n",
    "        self.α, self.β, self.μ, self.s = α, β, μ, s\n",
    "\n",
    "        # Set up grid\n",
    "        self.grid = np.linspace(1e-5, grid_max, grid_size)\n",
    "\n",
    "        # Store shocks (with a seed, so results are reproducible)\n",
    "        np.random.seed(seed)\n",
    "        self.shocks = np.exp(μ + s * np.random.randn(shock_size))\n",
    "\n",
    "\n",
    "    def f(self, k):\n",
    "        \"The production function\"\n",
    "        return k**self.α\n",
    "\n",
    "\n",
    "    def u(self, c):\n",
    "        \"The utility function\"\n",
    "        return np.log(c)\n",
    "\n",
    "    def f_prime(self, k):\n",
    "        \"Derivative of f\"\n",
    "        return self.α * (k**(self.α - 1))\n",
    "\n",
    "\n",
    "    def u_prime(self, c):\n",
    "        \"Derivative of u\"\n",
    "        return 1/c\n",
    "\n",
    "    def u_prime_inv(self, c):\n",
    "        \"Inverse of u'\"\n",
    "        return 1/c\n"
   ]
  },
  {
   "cell_type": "markdown",
   "id": "09c132ce",
   "metadata": {},
   "source": [
    "### 算子\n",
    "\n",
    "以下是使用EGM实现$K$的代码，如上所述。"
   ]
  },
  {
   "cell_type": "code",
   "execution_count": null,
   "id": "aa2d220d",
   "metadata": {},
   "outputs": [],
   "source": [
    "@jit\n",
    "def K(σ_array, og):\n",
    "    \"\"\"\n",
    "    使用EGM的Coleman-Reffett算子\n",
    "\n",
    "    \"\"\"\n",
    "\n",
    "    # 简化命名\n",
    "    f, β = og.f, og.β\n",
    "    f_prime, u_prime = og.f_prime, og.u_prime\n",
    "    u_prime_inv = og.u_prime_inv\n",
    "    grid, shocks = og.grid, og.shocks\n",
    "\n",
    "    # 确定内生网格\n",
    "    y = grid + σ_array  # y_i = k_i + c_i\n",
    "\n",
    "    # 使用内生网格进行策略的线性插值\n",
    "    σ = lambda x: np.interp(x, y, σ_array)\n",
    "\n",
    "    # 为新的消费数组分配内存\n",
    "    c = np.empty_like(grid)\n",
    "\n",
    "    # 求解更新后的消费值\n",
    "    for i, k in enumerate(grid):\n",
    "        vals = u_prime(σ(f(k) * shocks)) * f_prime(k) * shocks\n",
    "        c[i] = u_prime_inv(β * np.mean(vals))\n",
    "\n",
    "    return c"
   ]
  },
  {
   "cell_type": "markdown",
   "id": "e19303cc",
   "metadata": {},
   "source": [
    "注意这里没有任何求根算法。\n",
    "\n",
    "### 测试\n",
    "\n",
    "首先我们创建一个实例。"
   ]
  },
  {
   "cell_type": "code",
   "execution_count": null,
   "id": "356cd678",
   "metadata": {},
   "outputs": [],
   "source": [
    "og = OptimalGrowthModel()\n",
    "grid = og.grid"
   ]
  },
  {
   "cell_type": "markdown",
   "id": "f52e22c7",
   "metadata": {},
   "source": [
    "这是我们的求解程序："
   ]
  },
  {
   "cell_type": "code",
   "execution_count": null,
   "id": "bcd60365",
   "metadata": {
    "load": "_static/lecture_specific/coleman_policy_iter/solve_time_iter.py"
   },
   "outputs": [],
   "source": [
    "def solve_model_time_iter(model,    # Class with model information\n",
    "                          σ,        # Initial condition\n",
    "                          tol=1e-4,\n",
    "                          max_iter=1000,\n",
    "                          verbose=True,\n",
    "                          print_skip=25):\n",
    "\n",
    "    # Set up loop\n",
    "    i = 0\n",
    "    error = tol + 1\n",
    "\n",
    "    while i < max_iter and error > tol:\n",
    "        σ_new = K(σ, model)\n",
    "        error = np.max(np.abs(σ - σ_new))\n",
    "        i += 1\n",
    "        if verbose and i % print_skip == 0:\n",
    "            print(f\"Error at iteration {i} is {error}.\")\n",
    "        σ = σ_new\n",
    "\n",
    "    if error > tol:\n",
    "        print(\"Failed to converge!\")\n",
    "    elif verbose:\n",
    "        print(f\"\\nConverged in {i} iterations.\")\n",
    "\n",
    "    return σ_new\n"
   ]
  },
  {
   "cell_type": "markdown",
   "id": "fd1b74e7",
   "metadata": {},
   "source": [
    "让我们运行它："
   ]
  },
  {
   "cell_type": "code",
   "execution_count": null,
   "id": "87033871",
   "metadata": {},
   "outputs": [],
   "source": [
    "σ_init = np.copy(grid)\n",
    "σ = solve_model_time_iter(og, σ_init)"
   ]
  },
  {
   "cell_type": "markdown",
   "id": "180e5ebc",
   "metadata": {},
   "source": [
    "以下是结果策略与真实策略的比较："
   ]
  },
  {
   "cell_type": "code",
   "execution_count": null,
   "id": "ef9b5914",
   "metadata": {},
   "outputs": [],
   "source": [
    "y = grid + σ  # y_i = k_i + c_i\n",
    "\n",
    "fig, ax = plt.subplots()\n",
    "\n",
    "ax.plot(y, σ, lw=2,\n",
    "        alpha=0.8, label='approximate policy function')\n",
    "\n",
    "ax.plot(y, σ_star(y, og.α, og.β), 'k--',\n",
    "        lw=2, alpha=0.8, label='true policy function')\n",
    "\n",
    "ax.legend()\n",
    "plt.show()"
   ]
  },
  {
   "cell_type": "markdown",
   "id": "e55d6855",
   "metadata": {},
   "source": [
    "两个策略之间的最大绝对偏差是"
   ]
  },
  {
   "cell_type": "code",
   "execution_count": null,
   "id": "3123b4c1",
   "metadata": {},
   "outputs": [],
   "source": [
    "np.max(np.abs(σ - σ_star(y, og.α, og.β)))"
   ]
  },
  {
   "cell_type": "markdown",
   "id": "776dd4ba",
   "metadata": {},
   "source": [
    "收敛需要多长时间？"
   ]
  },
  {
   "cell_type": "code",
   "execution_count": null,
   "id": "56459ed7",
   "metadata": {},
   "outputs": [],
   "source": [
    "%%timeit -n 3 -r 1\n",
    "σ = solve_model_time_iter(og, σ_init, verbose=False)"
   ]
  },
  {
   "cell_type": "markdown",
   "id": "93e02eb5",
   "metadata": {},
   "source": [
    "相对于时间迭代，EGM在没有任何数值求根步骤的情况下，仍然能够显著减少计算时间，同时保持高精度。\n",
    "\n",
    "这是因为没有数值求根步骤。\n",
    "\n",
    "我们现在可以非常快速地求解给定参数的随机最优增长模型。"
   ]
  }
 ],
 "metadata": {
  "jupytext": {
   "text_representation": {
    "extension": ".md",
    "format_name": "myst"
   }
  },
  "kernelspec": {
   "display_name": "Python 3",
   "language": "python",
   "name": "python3"
  },
  "source_map": [
   10,
   43,
   52,
   148,
   150,
   154,
   156,
   162,
   191,
   199,
   202,
   206,
   208,
   212,
   215,
   219,
   232,
   236,
   238,
   242,
   245
  ]
 },
 "nbformat": 4,
 "nbformat_minor": 5
}