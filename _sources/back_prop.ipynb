{
 "cells": [
  {
   "cell_type": "markdown",
   "id": "32c933a0",
   "metadata": {},
   "source": [
    "# 人工神经网络简介"
   ]
  },
  {
   "cell_type": "code",
   "execution_count": 1,
   "id": "993e9faa",
   "metadata": {
    "tags": [
     "hide-output"
    ]
   },
   "outputs": [
    {
     "name": "stdout",
     "output_type": "stream",
     "text": [
      "Requirement already satisfied: jax in /home/runner/miniconda3/envs/quantecon/lib/python3.12/site-packages (0.5.3)\r\n"
     ]
    },
    {
     "name": "stdout",
     "output_type": "stream",
     "text": [
      "Requirement already satisfied: jaxlib in /home/runner/miniconda3/envs/quantecon/lib/python3.12/site-packages (0.5.3)\r\n"
     ]
    },
    {
     "name": "stdout",
     "output_type": "stream",
     "text": [
      "Requirement already satisfied: ml_dtypes>=0.4.0 in /home/runner/miniconda3/envs/quantecon/lib/python3.12/site-packages (from jax) (0.5.1)\r\n",
      "Requirement already satisfied: numpy>=1.25 in /home/runner/miniconda3/envs/quantecon/lib/python3.12/site-packages (from jax) (1.26.4)\r\n",
      "Requirement already satisfied: opt_einsum in /home/runner/miniconda3/envs/quantecon/lib/python3.12/site-packages (from jax) (3.4.0)\r\n",
      "Requirement already satisfied: scipy>=1.11.1 in /home/runner/miniconda3/envs/quantecon/lib/python3.12/site-packages (from jax) (1.13.1)\r\n"
     ]
    },
    {
     "name": "stdout",
     "output_type": "stream",
     "text": [
      "Channels:\r\n",
      " - plotly\r\n",
      " - default\r\n",
      " - defaults\r\n",
      "Platform: linux-64\r\n",
      "Collecting package metadata (repodata.json): - "
     ]
    },
    {
     "name": "stdout",
     "output_type": "stream",
     "text": [
      "\b\b\\ "
     ]
    },
    {
     "name": "stdout",
     "output_type": "stream",
     "text": [
      "\b\b| "
     ]
    },
    {
     "name": "stdout",
     "output_type": "stream",
     "text": [
      "\b\b/ "
     ]
    },
    {
     "name": "stdout",
     "output_type": "stream",
     "text": [
      "\b\b- "
     ]
    },
    {
     "name": "stdout",
     "output_type": "stream",
     "text": [
      "\b\bdone\r\n",
      "Solving environment: | "
     ]
    },
    {
     "name": "stdout",
     "output_type": "stream",
     "text": [
      "\b\b/ "
     ]
    },
    {
     "name": "stdout",
     "output_type": "stream",
     "text": [
      "\b\b- "
     ]
    },
    {
     "name": "stdout",
     "output_type": "stream",
     "text": [
      "\b\b\\ "
     ]
    },
    {
     "name": "stdout",
     "output_type": "stream",
     "text": [
      "\b\b| "
     ]
    },
    {
     "name": "stdout",
     "output_type": "stream",
     "text": [
      "\b\b/ "
     ]
    },
    {
     "name": "stdout",
     "output_type": "stream",
     "text": [
      "\b\b- "
     ]
    },
    {
     "name": "stdout",
     "output_type": "stream",
     "text": [
      "\b\b\\ "
     ]
    },
    {
     "name": "stdout",
     "output_type": "stream",
     "text": [
      "\b\b| "
     ]
    },
    {
     "name": "stdout",
     "output_type": "stream",
     "text": [
      "\b\b/ "
     ]
    },
    {
     "name": "stdout",
     "output_type": "stream",
     "text": [
      "\b\b- "
     ]
    },
    {
     "name": "stdout",
     "output_type": "stream",
     "text": [
      "\b\b\\ "
     ]
    },
    {
     "name": "stdout",
     "output_type": "stream",
     "text": [
      "\b\b| "
     ]
    },
    {
     "name": "stdout",
     "output_type": "stream",
     "text": [
      "\b\b/ "
     ]
    },
    {
     "name": "stdout",
     "output_type": "stream",
     "text": [
      "\b\bdone\r\n"
     ]
    },
    {
     "name": "stdout",
     "output_type": "stream",
     "text": [
      "\r\n",
      "## Package Plan ##\r\n",
      "\r\n",
      "  environment location: /home/runner/miniconda3/envs/quantecon\r\n",
      "\r\n",
      "  added / updated specs:\r\n",
      "    - plotly\r\n",
      "    - plotly-orca\r\n",
      "    - retrying\r\n",
      "\r\n",
      "\r\n",
      "The following packages will be downloaded:\r\n",
      "\r\n",
      "    package                    |            build\r\n",
      "    ---------------------------|-----------------\r\n",
      "    plotly-orca-1.3.1          |                1        56.6 MB  plotly\r\n",
      "    retrying-1.3.3             |     pyhd3eb1b0_2          14 KB\r\n",
      "    ------------------------------------------------------------\r\n",
      "                                           Total:        56.6 MB\r\n",
      "\r\n",
      "The following NEW packages will be INSTALLED:\r\n",
      "\r\n",
      "  plotly-orca        plotly/linux-64::plotly-orca-1.3.1-1 \r\n",
      "  retrying           pkgs/main/noarch::retrying-1.3.3-pyhd3eb1b0_2 \r\n",
      "\r\n",
      "\r\n",
      "\r\n",
      "Downloading and Extracting Packages:\r\n",
      "\r",
      "plotly-orca-1.3.1    | 56.6 MB   |                                       |   0% \r\n"
     ]
    },
    {
     "name": "stdout",
     "output_type": "stream",
     "text": [
      "\r",
      "retrying-1.3.3       | 14 KB     |                                       |   0% \u001b[A\r\n",
      "\r",
      "retrying-1.3.3       | 14 KB     | ##################################### | 100% \u001b[A\r\n",
      "\r",
      "retrying-1.3.3       | 14 KB     | ##################################### | 100% \u001b[A"
     ]
    },
    {
     "name": "stdout",
     "output_type": "stream",
     "text": [
      "\r",
      "plotly-orca-1.3.1    | 56.6 MB   | ##################################### | 100% \r",
      "plotly-orca-1.3.1    | 56.6 MB   | ##################################### | 100% "
     ]
    },
    {
     "name": "stdout",
     "output_type": "stream",
     "text": [
      "\r",
      "plotly-orca-1.3.1    | 56.6 MB   | ##################################### | 100% \r",
      "                                                                                \r",
      "\r\n",
      "\r",
      "                                                                                \u001b[A\r",
      "\r\n",
      "Preparing transaction: - "
     ]
    },
    {
     "name": "stdout",
     "output_type": "stream",
     "text": [
      "\b\bdone\r\n",
      "Verifying transaction: | "
     ]
    },
    {
     "name": "stdout",
     "output_type": "stream",
     "text": [
      "\b\b/ "
     ]
    },
    {
     "name": "stdout",
     "output_type": "stream",
     "text": [
      "\b\bdone\r\n",
      "Executing transaction: \\ "
     ]
    },
    {
     "name": "stdout",
     "output_type": "stream",
     "text": [
      "\b\b| "
     ]
    },
    {
     "name": "stdout",
     "output_type": "stream",
     "text": [
      "\b\b/ "
     ]
    },
    {
     "name": "stdout",
     "output_type": "stream",
     "text": [
      "\b\b- "
     ]
    },
    {
     "name": "stdout",
     "output_type": "stream",
     "text": [
      "\b\b\\ "
     ]
    },
    {
     "name": "stdout",
     "output_type": "stream",
     "text": [
      "\b\b| "
     ]
    },
    {
     "name": "stdout",
     "output_type": "stream",
     "text": [
      "\b\b/ "
     ]
    },
    {
     "name": "stdout",
     "output_type": "stream",
     "text": [
      "\b\b- "
     ]
    },
    {
     "name": "stdout",
     "output_type": "stream",
     "text": [
      "\b\b\\ "
     ]
    },
    {
     "name": "stdout",
     "output_type": "stream",
     "text": [
      "\b\b| "
     ]
    },
    {
     "name": "stdout",
     "output_type": "stream",
     "text": [
      "\b\b/ "
     ]
    },
    {
     "name": "stdout",
     "output_type": "stream",
     "text": [
      "\b\b- "
     ]
    },
    {
     "name": "stdout",
     "output_type": "stream",
     "text": [
      "\b\b\\ "
     ]
    },
    {
     "name": "stdout",
     "output_type": "stream",
     "text": [
      "\b\b| "
     ]
    },
    {
     "name": "stdout",
     "output_type": "stream",
     "text": [
      "\b\bdone\r\n"
     ]
    }
   ],
   "source": [
    "!pip install --upgrade jax jaxlib\n",
    "!conda install -y -c plotly plotly plotly-orca retrying"
   ]
  },
  {
   "cell_type": "markdown",
   "id": "de47cb22",
   "metadata": {},
   "source": [
    "```{note}\n",
    "如果您在Google Colab上运行此代码，上述单元格将出现错误。这是因为Google Colab不使用Anaconda来管理Python包。但是本讲座仍然可以执行，因为Google Colab已安装了`plotly`。\n",
    "```\n",
    "\n",
    "## 概述\n",
    "\n",
    "**机器学习**和**人工智能**的主要部分包括\n",
    "\n",
    "* 用已知函数来近似未知函数\n",
    "* 从左右变量的数据集中估计已知函数\n",
    "\n",
    "本讲座描述了一种广泛用于近似函数$f$的普通**人工神经网络**(ANN)的结构，该函数将空间$X$中的$x$映射到空间$Y$中的$y$。\n",
    "\n",
    "为了介绍基本概念，我们研究一个$x$和$y$都是标量的例子。\n",
    "\n",
    "我们将描述以下神经网络的基本构建概念：\n",
    "* 神经元\n",
    "* 激活函数\n",
    "* 神经元网络\n",
    "* 神经网络作为函数的组合\n",
    "* 反向传播及其与微积分链式法则的关系\n",
    "\n",
    "## 一个深度(但不宽)的人工神经网络\n",
    "\n",
    "我们描述一个\"深度\"神经网络,其\"宽度\"为一。\n",
    "\n",
    "**深度**意味着网络由组织成图形节点的大量函数组成。\n",
    "\n",
    "**宽度**指的是被近似函数右侧的变量数量。\n",
    "\n",
    "将\"宽度\"设为一意味着网络仅组合单变量函数。\n",
    "\n",
    "设$x \\in \\mathbb{R}$为一个标量,$y \\in \\mathbb{R}$为另一个标量。\n",
    "\n",
    "我们假设$y$是$x$的一个非线性函数:\n",
    "\n",
    "$$\n",
    "y = f(x)\n",
    "$$\n",
    "\n",
    "我们想用另一个递归定义的函数来近似$f(x)$。\n",
    "\n",
    "对于深度为$N \\geq 1$的网络,每个**层**$i =1, \\ldots N$包含\n",
    "\n",
    "* 一个输入$x_i$\n",
    "* 一个**仿射函数** $w_i x_i + bI$，其中 $w_i$ 是施加在输入 $x_i$ 上的标量**权重**，$b_i$ 是标量**偏置**\n",
    "\n",
    "* 一个**激活函数** $h_i$，它以 $(w_i x_i + b_i)$ 为参数并产生输出 $x_{i+1}$\n",
    "   \n",
    "     \n",
    "激活函数 $h$ 的一个例子是**sigmoid**函数\n",
    "\n",
    "$$\n",
    "h (z) = \\frac{1}{1 + e^{-z}} \n",
    "$$\n",
    "\n",
    "\n",
    "另一个常用的激活函数是**修正线性单元**（ReLU）函数\n",
    "\n",
    "$$\n",
    "h(z) = \\max (0, z) \n",
    "$$\n",
    "\n",
    "\n",
    "还有一个激活函数是恒等函数\n",
    "\n",
    "$$ \n",
    "h(z) = z \n",
    "$$\n",
    "\n",
    "作为下面的激活函数，我们将对第1层到第N-1层使用sigmoid函数，对第N层使用恒等函数。\n",
    "\n",
    "为了近似函数 $f(x)$，我们按如下方式构造 $\\hat f(x)$。\n",
    "\n",
    "令\n",
    "\n",
    "$$\n",
    " l_{i}\\left(x\\right)=w_{i}x+b_{i} . \n",
    "$$ \n",
    "\n",
    "我们通过迭代函数组合 $h_i \\circ l_i$ 来构造 $\\hat f$：\n",
    "\n",
    "$$\n",
    "f(x)\\approx\\hat{f}(x)=h_{N}\\circ l_{N}\\circ h_{N-1}\\circ l_{1}\\circ\\cdots\\circ h_{1}\\circ l_{1}(x)\n",
    "$$\n",
    "\n",
    "如果 $N >1$，我们称右边为\"深度\"神经网络。\n",
    "\n",
    "$N$ 这个整数越大，神经网络就越\"深\"。\n",
    "\n",
    "显然，如果我们知道参数 $\\{w_i, b_i\\}_{i=1}^N$，那么对于给定的 $x = \\tilde x$，我们可以通过迭代以下递归来计算 $\\hat f(x)$：\n",
    "\n",
    "$$\n",
    "x_{i+1} = h_i \\circ l_i(x_i) , \\quad, i = 1, \\ldots N\n",
    "$$ (eq:recursion)\n",
    "\n",
    "从 $x_1 = \\tilde x$ 开始。\n",
    "\n",
    "从这个迭代方案得出的 $x_{N+1}$ 的值等于 $\\hat f(\\tilde x)$。\n",
    "\n",
    "## 参数校准\n",
    "\n",
    "现在我们考虑一个如上所述的神经网络，其宽度为1，深度为 $N$，激活函数 $h_{i}$ （对于 $1\\leqslant i\\leqslant N$）将 $\\mathbb{R}$ 映射到自身。\n",
    "\n",
    "设 $\\left\\{ \\left(w_{i},b_{i}\\right)\\right\\} _{i=1}^{N}$ 表示权重和偏置的序列。\n",
    "\n",
    "如上所述，对于给定的输入 $x_{1}$，我们的近似函数 $\\hat f$ 求值\n",
    "在 $x_1$ 等于我们网络的\"输出\" $x_{N+1}$ 时，可以通过迭代 $x_{i+1}=h_{i}\\left(w_{i}x_{i}+b_{i}\\right)$ 来计算。\n",
    "\n",
    "对于给定的**预测值** $\\hat{y} (x)$ 和**目标值** $y= f(x)$，考虑损失函数\n",
    "\n",
    "$$\n",
    "\\mathcal{L} \\left(\\hat{y},y\\right)(x)=\\frac{1}{2}\\left(\\hat{y}-y\\right)^{2}(x) .\n",
    "$$\n",
    "\n",
    "这个准则是参数 $\\left\\{ \\left(w_{i},b_{i}\\right)\\right\\} _{i=1}^{N}$ 和点 $x$ 的函数。\n",
    "\n",
    "我们感兴趣的是解决以下问题：\n",
    "\n",
    "$$\n",
    "\\min_{\\left\\{ \\left(w_{i},b_{i}\\right)\\right\\} _{i=1}^{N}} \\int {\\mathcal L}\\left(x_{N+1},y\\right)(x) d \\mu(x)\n",
    "$$\n",
    "\n",
    "其中 $\\mu(x)$ 是某个测度，用于衡量我们希望得到 $f(x)$ 的良好近似 $\\hat f(x)$ 的点 $x \\in \\mathbb{R}$。\n",
    "\n",
    "将权重和偏置堆叠成参数向量 $p$：\n",
    "\n",
    "$$ \n",
    "p = \\begin{bmatrix}     \n",
    "  w_1 \\cr \n",
    "  b_1 \\cr\n",
    "  w_2 \\cr\n",
    "  b_2 \\cr\n",
    "  \\vdots \\cr\n",
    "  w_N \\cr\n",
    "  b_N \n",
    "\\end{bmatrix}\n",
    "$$\n",
    "对**随机梯度下降**算法的一个\"简化版本\"应用于寻找函数的零点，得到以下参数更新规则：\n",
    "\n",
    "$$\n",
    "p_{k+1}=p_k-\\alpha\\frac{d \\mathcal{L}}{dx_{N+1}}\\frac{dx_{N+1}}{dp_k}\n",
    "$$ (eq:sgd)\n",
    "\n",
    "其中 $\\frac{d {\\mathcal L}}{dx_{N+1}}=-\\left(x_{N+1}-y\\right)$ 且 $\\alpha > 0$ 是步长。\n",
    "\n",
    "(参见[这里](https://en.wikipedia.org/wiki/Gradient_descent#Description)和[这里](https://en.wikipedia.org/wiki/Newton%27s_method)以了解随机梯度下降与牛顿法的关系。)\n",
    "\n",
    "要实现这个参数更新规则的一个步骤，我们需要导数向量 $\\frac{dx_{N+1}}{dp_k}$。\n",
    "\n",
    "在神经网络文献中，这一步是通过所谓的**反向传播**来完成的。\n",
    "\n",
    "## 反向传播和链式法则\n",
    "\n",
    "得益于\n",
    "\n",
    "* 微分演算中的链式法则和乘积法则的性质，以及\n",
    "\n",
    "* 下三角矩阵的性质\n",
    "反向传播实际上可以通过以下两步完成：\n",
    "\n",
    "* 求下三角矩阵的逆矩阵，以及\n",
    "\n",
    "* 矩阵乘法\n",
    "\n",
    "(这个想法来自 MIT 的 Alan Edelman 在这个精彩的 YouTube 视频的最后 7 分钟)\n",
    "\n",
    "```{youtube} rZS2LGiurKY\n",
    "```\n",
    "\n",
    "下面开始。\n",
    "\n",
    "将 $h(z)$ 对 $z$ 在 $z = z_i$ 处的导数定义为 $\\delta_i$：\n",
    "\n",
    "$$\n",
    "\\delta_i = \\frac{d}{d z} h(z)|_{z=z_i}\n",
    "$$\n",
    "\n",
    "或\n",
    "\n",
    "$$\n",
    "\\delta_{i}=h'\\left(w_{i}x_{i}+b_{i}\\right). \n",
    "$$ \n",
    "\n",
    "对我们的递归式 {eq}`eq:recursion` 重复应用链式法则和乘积法则，可以得到：\n",
    "\n",
    "$$\n",
    "dx_{i+1}=\\delta_{i}\\left(dw_{i}x_{i}+w_{i}dx_{i}+b_{i}\\right)\n",
    "$$\n",
    "\n",
    "在设定 $dx_{1}=0$ 后，我们得到以下方程组：\n",
    "\n",
    "$$\n",
    "\\left(\\begin{array}{c}\n",
    "dx_{2}\\\\\n",
    "\\vdots\\\\\n",
    "dx_{N+1}\n",
    "\\end{array}\\right)=\\underbrace{\\left(\\begin{array}{ccccc}\n",
    "\\delta_{1}w_{1} & \\delta_{1} & 0 & 0 & 0\\\\\n",
    "0 & 0 & \\ddots & 0 & 0\\\\\n",
    "0 & 0 & 0 & \\delta_{N}w_{N} & \\delta_{N}\n",
    "\\end{array}\\right)}_{D}\\left(\\begin{array}{c}\n",
    "dw_{1}\\\\\n",
    "db_{1}\\\\\n",
    "\\vdots\\\\\n",
    "dw_{N}\\\\\n",
    "db_{N}\n",
    "\\end{array}\\right)+\\underbrace{\\left(\\begin{array}{cccc}\n",
    "0 & 0 & 0 & 0\\\\\n",
    "w_{2} & 0 & 0 & 0\\\\\n",
    "0 & \\ddots & 0 & 0\\\\\n",
    "0 & 0 & w_{N} & 0\n",
    "\\end{array}\\right)}_{L}\\left(\\begin{array}{c}\n",
    "dx_{2}\\\\\n",
    "\\vdots\\\\\n",
    "dx_{N+1}\n",
    "\\end{array}\\right)\n",
    "$$ \n",
    "\n",
    "或者\n",
    "\n",
    "$$\n",
    "d x = D dp + L dx\n",
    "$$\n",
    "\n",
    "这意味着\n",
    "\n",
    "$$\n",
    "dx = (I -L)^{-1} D dp\n",
    "$$\n",
    "\n",
    "进而意味着\n",
    "\n",
    "$$\n",
    "\\left(\\begin{array}{c}\n",
    "dx_{N+1}/dw_{1}\\\\\n",
    "dx_{N+1}/db_{1}\\\\\n",
    "\\vdots\\\\\n",
    "dx_{N+1}/dw_{N}\\\\\n",
    "dx_{N+1}/db_{N}\n",
    "\\end{array}\\right)=e_{N}\\left(I-L\\right)^{-1}D.\n",
    "$$\n",
    "\n",
    "然后我们可以通过对一组输入-输出对$\\left\\{ \\left(x_{1}^{i},y^{i}\\right)\\right\\} _{i=1}^{M}$（我们称之为\"训练集\"）多次应用我们的$p$更新来解决上述问题。\n",
    "\n",
    "## 训练集\n",
    "\n",
    "选择训练集相当于在上述函数逼近问题的最小化问题表述中选择测度$\\mu$。\n",
    "\n",
    "本着这个精神，我们将使用均匀网格，比如说50或200个点。\n",
    "对于上述最小化问题，有多种可能的解决方案：\n",
    "\n",
    "* 批量梯度下降，使用训练集上的平均梯度\n",
    "\n",
    "* 随机梯度下降，随机采样点并使用单个梯度\n",
    "\n",
    "* 介于两者之间的方法（即所谓的\"小批量梯度下降\"）\n",
    "\n",
    "上面描述的更新规则 {eq}`eq:sgd` 相当于一个随机梯度下降算法。"
   ]
  },
  {
   "cell_type": "code",
   "execution_count": 2,
   "id": "91b5d4f4",
   "metadata": {},
   "outputs": [],
   "source": [
    "from IPython.display import Image\n",
    "import jax.numpy as jnp\n",
    "from jax import grad, jit, jacfwd, vmap\n",
    "from jax import random\n",
    "import jax\n",
    "import plotly.graph_objects as go"
   ]
  },
  {
   "cell_type": "code",
   "execution_count": 3,
   "id": "3eb4bd69",
   "metadata": {},
   "outputs": [],
   "source": [
    "# 一个辅助函数，用于随机初始化密集神经网络层的权重和偏置\n",
    "def random_layer_params(m, n, key, scale=1.):\n",
    "    w_key, b_key = random.split(key)\n",
    "    return scale * random.normal(w_key, (n, m)), scale * random.normal(b_key, (n,))\n",
    "\n",
    "# 初始化具有\"sizes\"大小的全连接神经网络的所有层\n",
    "def init_network_params(sizes, key):\n",
    "    keys = random.split(key, len(sizes))\n",
    "    return [random_layer_params(m, n, k) for m, n, k in zip(sizes[:-1], sizes[1:], keys)]"
   ]
  },
  {
   "cell_type": "code",
   "execution_count": 4,
   "id": "676490ef",
   "metadata": {},
   "outputs": [],
   "source": [
    "def compute_xδw_seq(params, x):\n",
    "    # 初始化数组\n",
    "    δ = jnp.zeros(len(params))\n",
    "    xs = jnp.zeros(len(params) + 1)\n",
    "    ws = jnp.zeros(len(params))\n",
    "    bs = jnp.zeros(len(params))\n",
    "    \n",
    "    h = jax.nn.sigmoid\n",
    "    \n",
    "    xs = xs.at[0].set(x)\n",
    "    for i, (w, b) in enumerate(params[:-1]):\n",
    "        output = w * xs[i] + b\n",
    "        activation = h(output[0, 0])\n",
    "        \n",
    "        # 存储元素\n",
    "        δ = δ.at[i].set(grad(h)(output[0, 0]))\n",
    "        ws = ws.at[i].set(w[0, 0])\n",
    "        bs = bs.at[i].set(b[0])\n",
    "        xs = xs.at[i+1].set(activation)\n",
    "\n",
    "    final_w, final_b = params[-1]\n",
    "    preds = final_w * xs[-2] + final_b\n",
    "    \n",
    "    # 存储元素\n",
    "    δ = δ.at[-1].set(1.)\n",
    "    ws = ws.at[-1].set(final_w[0, 0])\n",
    "    bs = bs.at[-1].set(final_b[0])\n",
    "    xs = xs.at[-1].set(preds[0, 0])\n",
    "    \n",
    "    return xs, δ, ws, bs\n",
    "    \n",
    "\n",
    "def loss(params, x, y):\n",
    "    xs, δ, ws, bs = compute_xδw_seq(params, x)\n",
    "    preds = xs[-1]\n",
    "    \n",
    "    return 1 / 2 * (y - preds) ** 2"
   ]
  },
  {
   "cell_type": "code",
   "execution_count": 5,
   "id": "750c6b3d",
   "metadata": {},
   "outputs": [],
   "source": [
    "# 参数\n",
    "N = 3  # 层数\n",
    "layer_sizes = [1, ] * (N + 1)\n",
    "param_scale = 0.1\n",
    "step_size = 0.01\n",
    "params = init_network_params(layer_sizes, random.PRNGKey(1))"
   ]
  },
  {
   "cell_type": "code",
   "execution_count": 6,
   "id": "8342071e",
   "metadata": {},
   "outputs": [],
   "source": [
    "x = 5\n",
    "y = 3\n",
    "xs, δ, ws, bs = compute_xδw_seq(params, x)"
   ]
  },
  {
   "cell_type": "code",
   "execution_count": 7,
   "id": "4d0226d5",
   "metadata": {},
   "outputs": [],
   "source": [
    "dxs_ad = jacfwd(lambda params, x: compute_xδw_seq(params, x)[0], argnums=0)(params, x)\n",
    "dxs_ad_mat = jnp.block([dx.reshape((-1, 1)) for dx_tuple in dxs_ad for dx in dx_tuple ])[1:]"
   ]
  },
  {
   "cell_type": "code",
   "execution_count": 8,
   "id": "35a282e6",
   "metadata": {},
   "outputs": [
    {
     "data": {
      "text/plain": [
       "Array([[1.0165801 , 0.06087969, 0.09382247],\n",
       "       [0.20331602, 0.08501981, 1.        ]], dtype=float32)"
      ]
     },
     "execution_count": 8,
     "metadata": {},
     "output_type": "execute_result"
    }
   ],
   "source": [
    "jnp.block([[δ * xs[:-1]], [δ]])"
   ]
  },
  {
   "cell_type": "code",
   "execution_count": 9,
   "id": "120b8d76",
   "metadata": {},
   "outputs": [],
   "source": [
    "L = jnp.diag(δ * ws, k=-1)\n",
    "L = L[1:, 1:]\n",
    "\n",
    "D = jax.scipy.linalg.block_diag(*[row.reshape((1, 2)) for row in jnp.block([[δ * xs[:-1]], [δ]]).T])\n",
    "\n",
    "dxs_la = jax.scipy.linalg.solve_triangular(jnp.eye(N) - L, D, lower=True)"
   ]
  },
  {
   "cell_type": "code",
   "execution_count": 10,
   "id": "b6e0b542",
   "metadata": {},
   "outputs": [
    {
     "data": {
      "text/plain": [
       "Array(0., dtype=float32)"
      ]
     },
     "execution_count": 10,
     "metadata": {},
     "output_type": "execute_result"
    }
   ],
   "source": [
    "# 检查由线性代数方法生成的`dx`\n",
    "# 是否与使用自动微分生成的结果相同\n",
    "jnp.max(jnp.abs(dxs_ad_mat - dxs_la))"
   ]
  },
  {
   "cell_type": "code",
   "execution_count": 11,
   "id": "b6054b2c",
   "metadata": {},
   "outputs": [],
   "source": [
    "grad_loss_ad = jnp.block([dx.reshape((-1, 1)) for dx_tuple in grad(loss)(params, x, y) for dx in dx_tuple ])"
   ]
  },
  {
   "cell_type": "code",
   "execution_count": 12,
   "id": "5c728abe",
   "metadata": {},
   "outputs": [
    {
     "data": {
      "text/plain": [
       "Array(5.9604645e-08, dtype=float32)"
      ]
     },
     "execution_count": 12,
     "metadata": {},
     "output_type": "execute_result"
    }
   ],
   "source": [
    "# 检查两种方法的损失梯度是否相同\n",
    "jnp.max(jnp.abs(-(y - xs[-1]) * dxs_la[-1] - grad_loss_ad))"
   ]
  },
  {
   "cell_type": "code",
   "execution_count": 13,
   "id": "3e395892",
   "metadata": {},
   "outputs": [],
   "source": [
    "@jit\n",
    "def update_ad(params, x, y):\n",
    "    grads = grad(loss)(params, x, y)\n",
    "    return [(w - step_size * dw, b - step_size * db)\n",
    "          for (w, b), (dw, db) in zip(params, grads)]\n",
    "\n",
    "@jit\n",
    "def update_la(params, x, y):\n",
    "    xs, δ, ws, bs = compute_xδw_seq(params, x)\n",
    "    N = len(params)\n",
    "    L = jnp.diag(δ * ws, k=-1)\n",
    "    L = L[1:, 1:]\n",
    "\n",
    "    D = jax.scipy.linalg.block_diag(*[row.reshape((1, 2)) for row in jnp.block([[δ * xs[:-1]], [δ]]).T])\n",
    "    \n",
    "    dxs_la = jax.scipy.linalg.solve_triangular(jnp.eye(N) - L, D, lower=True)\n",
    "    \n",
    "    grads = -(y - xs[-1]) * dxs_la[-1]\n",
    "    \n",
    "    return [(w - step_size * dw, b - step_size * db) \n",
    "            for (w, b), (dw, db) in zip(params, grads.reshape((-1, 2)))]\n",
    "    "
   ]
  },
  {
   "cell_type": "code",
   "execution_count": 14,
   "id": "5e197cfc",
   "metadata": {},
   "outputs": [
    {
     "data": {
      "text/plain": [
       "[(Array([[-0.00826643]], dtype=float32), Array([0.94700736], dtype=float32)),\n",
       " (Array([[-2.0638916]], dtype=float32), Array([-0.7872697], dtype=float32)),\n",
       " (Array([[1.6248171]], dtype=float32), Array([1.5765371], dtype=float32))]"
      ]
     },
     "execution_count": 14,
     "metadata": {},
     "output_type": "execute_result"
    }
   ],
   "source": [
    "# 检查两次更新是否相同\n",
    "update_la(params, x, y)"
   ]
  },
  {
   "cell_type": "code",
   "execution_count": 15,
   "id": "6bf17ebd",
   "metadata": {},
   "outputs": [
    {
     "data": {
      "text/plain": [
       "[(Array([[-0.00826644]], dtype=float32), Array([0.94700736], dtype=float32)),\n",
       " (Array([[-2.0638916]], dtype=float32), Array([-0.7872697], dtype=float32)),\n",
       " (Array([[1.6248171]], dtype=float32), Array([1.5765371], dtype=float32))]"
      ]
     },
     "execution_count": 15,
     "metadata": {},
     "output_type": "execute_result"
    }
   ],
   "source": [
    "update_ad(params, x, y)"
   ]
  },
  {
   "cell_type": "markdown",
   "id": "bf58c10c",
   "metadata": {},
   "source": [
    "## 示例 1\n",
    "\n",
    "考虑函数\n",
    "\n",
    "$$\n",
    "f\\left(x\\right)=-3x+2\n",
    "$$\n",
    "\n",
    "在区间 $\\left[0.5,3\\right]$ 上。\n",
    "\n",
    "我们使用200个点的均匀网格，并对网格上的每个点更新参数300次。\n",
    "\n",
    "$h_{i}$ 是除最后一层外所有层的sigmoid激活函数，最后一层使用恒等函数，且 $N=3$。\n",
    "\n",
    "权重随机初始化。"
   ]
  },
  {
   "cell_type": "code",
   "execution_count": 16,
   "id": "c549ce73",
   "metadata": {},
   "outputs": [],
   "source": [
    "def f(x):\n",
    "    return -3 * x + 2\n",
    "\n",
    "M = 200\n",
    "grid = jnp.linspace(0.5, 3, num=M)\n",
    "f_val = f(grid)"
   ]
  },
  {
   "cell_type": "code",
   "execution_count": 17,
   "id": "dc88e24e",
   "metadata": {},
   "outputs": [],
   "source": [
    "indices = jnp.arange(M)\n",
    "key = random.PRNGKey(0)\n",
    "\n",
    "def train(params, grid, f_val, key, num_epochs=300):\n",
    "    for epoch in range(num_epochs):\n",
    "        key, _ = random.split(key)\n",
    "        random_permutation = random.permutation(random.PRNGKey(1), indices)\n",
    "        for x, y in zip(grid[random_permutation], f_val[random_permutation]):\n",
    "            params = update_la(params, x, y)\n",
    "            \n",
    "    return params "
   ]
  },
  {
   "cell_type": "code",
   "execution_count": 18,
   "id": "40da34d3",
   "metadata": {},
   "outputs": [],
   "source": [
    "# 参数\n",
    "N = 3  # 层数\n",
    "layer_sizes = [1, ] * (N + 1)\n",
    "params_ex1 = init_network_params(layer_sizes, key)"
   ]
  },
  {
   "cell_type": "code",
   "execution_count": 19,
   "id": "d71c16e7",
   "metadata": {},
   "outputs": [
    {
     "name": "stdout",
     "output_type": "stream",
     "text": [
      "CPU times: user 3.82 s, sys: 29.4 ms, total: 3.85 s\n",
      "Wall time: 3.49 s\n"
     ]
    }
   ],
   "source": [
    "%%time \n",
    "params_ex1 = train(params_ex1, grid, f_val, key, num_epochs=500)"
   ]
  },
  {
   "cell_type": "code",
   "execution_count": 20,
   "id": "9a156aa2",
   "metadata": {},
   "outputs": [],
   "source": [
    "predictions = vmap(compute_xδw_seq, in_axes=(None, 0))(params_ex1, grid)[0][:, -1]"
   ]
  },
  {
   "cell_type": "code",
   "execution_count": 21,
   "id": "bb224997",
   "metadata": {},
   "outputs": [
    {
     "data": {
      "image/png": "[encoded data removed]",
      "text/plain": [
       "<IPython.core.display.Image object>"
      ]
     },
     "execution_count": 21,
     "metadata": {},
     "output_type": "execute_result"
    }
   ],
   "source": [
    "fig = go.Figure()\n",
    "fig.add_trace(go.Scatter(x=grid, y=f_val, name=r'$-3x+2$'))\n",
    "fig.add_trace(go.Scatter(x=grid, y=predictions, name='近似值'))\n",
    "\n",
    "# 导出为PNG文件\n",
    "Image(fig.to_image(format=\"png\"))\n",
    "# 在本地运行notebook时\n",
    "# fig.show()将提供交互式图表"
   ]
  },
  {
   "cell_type": "markdown",
   "id": "e6375c80",
   "metadata": {},
   "source": [
    "## 深度多少？\n",
    "\n",
    "思考上述例子中加深神经网络如何影响近似质量是一件很有趣的事\n",
    "\n",
    "* 如果网络太深，你会遇到[梯度消失问题](http://neuralnetworksanddeeplearning.com/chap5.html)\n",
    "* 在本讲所考虑的情况下，步长和训练轮数等其他参数可能与网络层数一样重要或更重要\n",
    "* 实际上，由于$f$是$x$的线性函数，使用恒等映射作为激活函数的单层网络可能效果最好。\n",
    "\n",
    "\n",
    "\n",
    "## 示例2\n",
    "\n",
    "我们使用与前一个示例相同的设置，其中\n",
    "\n",
    "$$\n",
    "f\\left(x\\right)=\\log\\left(x\\right)\n",
    "$$"
   ]
  },
  {
   "cell_type": "code",
   "execution_count": 22,
   "id": "29a240c7",
   "metadata": {},
   "outputs": [],
   "source": [
    "def f(x):\n",
    "    return jnp.log(x)\n",
    "\n",
    "grid = jnp.linspace(0.5, 3, num=M)\n",
    "f_val = f(grid)"
   ]
  },
  {
   "cell_type": "code",
   "execution_count": 23,
   "id": "855a1ea1",
   "metadata": {},
   "outputs": [],
   "source": [
    "# 参数\n",
    "N = 1  # 层数\n",
    "layer_sizes = [1, ] * (N + 1)\n",
    "params_ex2_1 = init_network_params(layer_sizes, key)"
   ]
  },
  {
   "cell_type": "code",
   "execution_count": 24,
   "id": "223d720c",
   "metadata": {},
   "outputs": [],
   "source": [
    "# 参数\n",
    "N = 2  # 层数\n",
    "layer_sizes = [1, ] * (N + 1)\n",
    "params_ex2_2 = init_network_params(layer_sizes, key)"
   ]
  },
  {
   "cell_type": "code",
   "execution_count": 25,
   "id": "bd2d9c43",
   "metadata": {},
   "outputs": [],
   "source": [
    "# 参数\n",
    "N = 3  # 层数\n",
    "layer_sizes = [1, ] * (N + 1)\n",
    "params_ex2_3 = init_network_params(layer_sizes, key)"
   ]
  },
  {
   "cell_type": "code",
   "execution_count": 26,
   "id": "a73a913a",
   "metadata": {},
   "outputs": [],
   "source": [
    "params_ex2_1 = train(params_ex2_1, grid, f_val, key, num_epochs=300)"
   ]
  },
  {
   "cell_type": "code",
   "execution_count": 27,
   "id": "4a4f1782",
   "metadata": {},
   "outputs": [],
   "source": [
    "params_ex2_2 = train(params_ex2_2, grid, f_val, key, num_epochs=300)"
   ]
  },
  {
   "cell_type": "code",
   "execution_count": 28,
   "id": "b2f283ae",
   "metadata": {},
   "outputs": [],
   "source": [
    "params_ex2_3 = train(params_ex2_3, grid, f_val, key, num_epochs=300)"
   ]
  },
  {
   "cell_type": "code",
   "execution_count": 29,
   "id": "d0762dd8",
   "metadata": {},
   "outputs": [],
   "source": [
    "predictions_1 = vmap(compute_xδw_seq, in_axes=(None, 0))(params_ex2_1, grid)[0][:, -1]\n",
    "predictions_2 = vmap(compute_xδw_seq, in_axes=(None, 0))(params_ex2_2, grid)[0][:, -1]\n",
    "predictions_3 = vmap(compute_xδw_seq, in_axes=(None, 0))(params_ex2_3, grid)[0][:, -1]"
   ]
  },
  {
   "cell_type": "code",
   "execution_count": 30,
   "id": "0f12e29d",
   "metadata": {},
   "outputs": [
    {
     "data": {
      "image/png": "[encoded data removed]",
      "text/plain": [
       "<IPython.core.display.Image object>"
      ]
     },
     "execution_count": 30,
     "metadata": {},
     "output_type": "execute_result"
    }
   ],
   "source": [
    "fig = go.Figure()\n",
    "fig.add_trace(go.Scatter(x=grid, y=f_val, name=r'$\\log{x}$'))\n",
    "fig.add_trace(go.Scatter(x=grid, y=predictions_1, name='单层神经网络'))\n",
    "fig.add_trace(go.Scatter(x=grid, y=predictions_2, name='双层神经网络'))\n",
    "fig.add_trace(go.Scatter(x=grid, y=predictions_3, name='三层神经网络'))\n",
    "\n",
    "# 导出为PNG文件\n",
    "Image(fig.to_image(format=\"png\"))\n",
    "# 在本地运行notebook时，fig.show()将提供交互式图表"
   ]
  },
  {
   "cell_type": "code",
   "execution_count": 31,
   "id": "9d3fcb35",
   "metadata": {},
   "outputs": [
    {
     "name": "stdout",
     "output_type": "stream",
     "text": [
      "cpu\n"
     ]
    },
    {
     "name": "stderr",
     "output_type": "stream",
     "text": [
      "/tmp/ipykernel_6716/4016357847.py:4: DeprecationWarning:\n",
      "\n",
      "jax.lib.xla_bridge.get_backend is deprecated; use jax.extend.backend.get_backend.\n",
      "\n"
     ]
    }
   ],
   "source": [
    "## 检查环境中是否启用了gpu\n",
    "\n",
    "from jax.lib import xla_bridge\n",
    "print(xla_bridge.get_backend().platform)"
   ]
  },
  {
   "cell_type": "markdown",
   "id": "e2808dd9",
   "metadata": {},
   "source": [
    "```{note}\n",
    "**云环境：** 此讲座网站是在无法访问`gpu`的服务器环境中构建的\n",
    "如果您在本地运行此讲座，这将让您知道代码是通过`cpu`还是`gpu`执行的\n",
    "```"
   ]
  }
 ],
 "metadata": {
  "jupytext": {
   "text_representation": {
    "extension": ".md",
    "format_name": "myst",
    "format_version": 0.13,
    "jupytext_version": "1.11.5"
   }
  },
  "kernelspec": {
   "display_name": "Python 3",
   "language": "python",
   "name": "python3"
  },
  "language_info": {
   "codemirror_mode": {
    "name": "ipython",
    "version": 3
   },
   "file_extension": ".py",
   "mimetype": "text/x-python",
   "name": "python",
   "nbconvert_exporter": "python",
   "pygments_lexer": "ipython3",
   "version": "3.12.7"
  },
  "source_map": [
   12,
   16,
   21,
   282,
   290,
   301,
   340,
   348,
   353,
   357,
   360,
   368,
   373,
   376,
   380,
   404,
   408,
   410,
   427,
   435,
   448,
   454,
   458,
   461,
   470,
   489,
   496,
   502,
   508,
   514,
   517,
   520,
   523,
   528,
   540,
   545
  ]
 },
 "nbformat": 4,
 "nbformat_minor": 5
}