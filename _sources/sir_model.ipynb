{
 "cells": [
  {
   "cell_type": "markdown",
   "id": "f9cccce5",
   "metadata": {},
   "source": [
    "```{raw} jupyter\n",
    "<div id=\"qe-notebook-header\" align=\"right\" style=\"text-align:right;\">\n",
    "        <a href=\"https://quantecon.org/\" title=\"quantecon.org\">\n",
    "                <img style=\"width:250px;display:inline;\" width=\"250px\" src=\"https://assets.quantecon.org/img/qe-menubar-logo.svg\" alt=\"QuantEcon\">\n",
    "        </a>\n",
    "</div>\n",
    "```\n",
    "\n",
    "# {index}`新冠病毒建模 <single: Modeling COVID 19>`\n",
    "\n",
    "```{contents} 目录\n",
    ":depth: 2\n",
    "```\n",
    "\n",
    "## 概述\n",
    "\n",
    "这是由[Andrew Atkeson](https://sites.google.com/site/andyatkeson/)提供的用于分析新冠疫情的代码的Python版本。\n",
    "\n",
    "特别参见\n",
    "\n",
    "* [NBER工作论文第26867号](https://www.nber.org/papers/w26867)\n",
    "* [COVID-19工作论文和代码](https://sites.google.com/site/andyatkeson/home?authuser=0)\n",
    "\n",
    "他的这些笔记的目的是向经济学家介绍定量建模\n",
    "\n",
    "传染病动态研究。\n",
    "\n",
    "疾病传播使用标准SIR（易感者-感染者-移除者）模型进行建模。\n",
    "\n",
    "模型动态用常微分方程组表示。\n",
    "\n",
    "主要目标是研究通过社交距离实施的抑制措施对感染传播的影响。\n",
    "\n",
    "研究重点是美国的结果，但可以调整参数来研究其他国家。\n",
    "\n",
    "我们将使用以下标准导入："
   ]
  },
  {
   "cell_type": "code",
   "execution_count": null,
   "id": "ea63af3e",
   "metadata": {},
   "outputs": [],
   "source": [
    "import matplotlib.pyplot as plt\n",
    "import matplotlib as mpl\n",
    "FONTPATH = \"fonts/SourceHanSerifSC-SemiBold.otf\"\n",
    "mpl.font_manager.fontManager.addfont(FONTPATH)\n",
    "plt.rcParams['font.family'] = ['Source Han Serif SC']\n",
    "\n",
    "plt.rcParams[\"figure.figsize\"] = (11, 5)  #设置默认图形大小\n",
    "import numpy as np\n",
    "from numpy import exp"
   ]
  },
  {
   "cell_type": "markdown",
   "id": "9070fbbb",
   "metadata": {},
   "source": [
    "我们还将使用SciPy的数值例程odeint来求解微分方程。"
   ]
  },
  {
   "cell_type": "code",
   "execution_count": null,
   "id": "55b10a57",
   "metadata": {},
   "outputs": [],
   "source": [
    "from scipy.integrate import odeint"
   ]
  },
  {
   "cell_type": "markdown",
   "id": "833c3527",
   "metadata": {},
   "source": [
    "这个程序调用了FORTRAN库odepack中的编译代码。\n",
    "\n",
    "## SIR模型\n",
    "\n",
    "在我们将要分析的SIR模型版本中有四个状态。\n",
    "\n",
    "假设人群中的所有个体都处于这四种状态之一。\n",
    "\n",
    "这些状态是：易感者(S)、潜伏者(E)、感染者(I)和移除者(R)。\n",
    "\n",
    "说明：\n",
    "\n",
    "* 处于R状态的人已经被感染并且已经康复或死亡。\n",
    "* 康复的人被假定已获得免疫力。\n",
    "* 处于潜伏期的群体尚未具有传染性。\n",
    "\n",
    "### 时间路径\n",
    "\n",
    "状态之间的流动遵循路径 $S \\to E \\to I \\to R$。\n",
    "\n",
    "当传播率为正且$i(0) > 0$时，人群中的所有个体最终都会被感染。\n",
    "\n",
    "主要关注的是\n",
    "\n",
    "* 在给定时间的感染人数（这决定了医疗系统是否会被压垮）以及\n",
    "* 病例负荷可以推迟多长时间（希望能够推迟到疫苗出现）\n",
    "\n",
    "使用小写字母表示处于各状态的人口比例，其动态方程为\n",
    "\n",
    "```{math}\n",
    ":label: sir_system\n",
    "\n",
    "\\begin{aligned}\n",
    "     \\dot s(t)  & = - \\beta(t) \\, s(t) \\,  i(t)\n",
    "     \\\\\n",
    "     \\dot e(t)  & = \\beta(t) \\,  s(t) \\,  i(t)  - σ e(t)\n",
    "     \\\\\n",
    "     \\dot i(t)  & = σ e(t)  - γ i(t)\n",
    "\\end{aligned}\n",
    "```\n",
    "\n",
    "在这些方程中，\n",
    "\n",
    "* $\\beta(t)$ 被称为*传播率*（个体与他人接触并使其暴露于病毒的速率）。\n",
    "* $\\sigma$ 被称为*感染率*（暴露者转变为感染者的速率）\n",
    "* $\\gamma$ 被称为*恢复率*（感染者康复或死亡的速率）。\n",
    "* 点符号 $\\dot y$ 表示时间导数 $dy/dt$。\n",
    "\n",
    "我们不需要单独建模处于 $R$ 状态的人口比例 $r$，因为这些状态构成一个分区。\n",
    "\n",
    "具体来说，\"已移除\"的人口比例为 $r = 1 - s - e - i$。\n",
    "\n",
    "我们还将追踪累计病例数 $c = i + r$\n",
    "\n",
    "(即所有已感染或曾经感染的人)。\n",
    "\n",
    "系统{eq}`sir_system`可以用向量形式表示为\n",
    "\n",
    "```{math}\n",
    ":label: dfcv\n",
    "\n",
    "\\dot x = F(x, t),  \\qquad x := (s, e, i)\n",
    "```\n",
    "\n",
    "对于适当定义的$F$(见下面的代码)。\n",
    "\n",
    "### 参数\n",
    "\n",
    "$\\sigma$和$\\gamma$都被视为固定的、由生物学决定的参数。\n",
    "\n",
    "按照Atkeson的说明，我们设定\n",
    "\n",
    "* $\\sigma = 1/5.2$，反映平均潜伏期为5.2天。\n",
    "* $\\gamma = 1/18$，对应平均病程18天。\n",
    "\n",
    "传播率被建模为\n",
    "\n",
    "* $\\beta(t) := R(t) \\gamma$，其中$R(t)$是时间$t$时的*有效再生数*。\n",
    "\n",
    "(这个符号表示有点令人困惑，因为$R(t)$与表示已移除状态的符号$R$不同。)\n",
    "\n",
    "## 实现\n",
    "\n",
    "首先我们将人口规模设置为与美国相匹配。"
   ]
  },
  {
   "cell_type": "code",
   "execution_count": null,
   "id": "1799fa07",
   "metadata": {},
   "outputs": [],
   "source": [
    "pop_size = 3.3e8"
   ]
  },
  {
   "cell_type": "markdown",
   "id": "64f83369",
   "metadata": {},
   "source": [
    "接下来我们按照上述方法固定参数。"
   ]
  },
  {
   "cell_type": "code",
   "execution_count": null,
   "id": "15d3b912",
   "metadata": {},
   "outputs": [],
   "source": [
    "γ = 1 / 18\n",
    "σ = 1 / 5.2"
   ]
  },
  {
   "cell_type": "markdown",
   "id": "87ebd37f",
   "metadata": {},
   "source": [
    "现在我们构建一个函数来表示{eq}`dfcv`中的$F$"
   ]
  },
  {
   "cell_type": "code",
   "execution_count": null,
   "id": "1d866d74",
   "metadata": {},
   "outputs": [],
   "source": [
    "def F(x, t, R0=1.6):\n",
    "    \"\"\"\n",
    "    状态向量的时间导数。\n",
    "\n",
    "        * x是状态向量（类数组）\n",
    "        * t是时间（标量）\n",
    "        * R0是有效传播率，默认为常数\n",
    "\n",
    "    \"\"\"\n",
    "    s, e, i = x\n",
    "\n",
    "    # 易感人群的新暴露\n",
    "    β = R0(t) * γ if callable(R0) else R0 * γ\n",
    "    ne = β * s * i\n",
    "\n",
    "    # 时间导数\n",
    "    ds = - ne\n",
    "    de = ne - σ * e\n",
    "    di = σ * e - γ * i\n",
    "\n",
    "    return ds, de, di"
   ]
  },
  {
   "cell_type": "markdown",
   "id": "4a47d206",
   "metadata": {},
   "source": [
    "注意 `R0` 可以是常数或给定的时间函数。\n",
    "\n",
    "初始条件设置为"
   ]
  },
  {
   "cell_type": "code",
   "execution_count": null,
   "id": "3de46938",
   "metadata": {},
   "outputs": [],
   "source": [
    "# initial conditions of s, e, i\n",
    "i_0 = 1e-7\n",
    "e_0 = 4 * i_0\n",
    "s_0 = 1 - i_0 - e_0"
   ]
  },
  {
   "cell_type": "markdown",
   "id": "a9a862f3",
   "metadata": {},
   "source": [
    "用向量形式表示的初始条件是"
   ]
  },
  {
   "cell_type": "code",
   "execution_count": null,
   "id": "fe427685",
   "metadata": {},
   "outputs": [],
   "source": [
    "x_0 = s_0, e_0, i_0"
   ]
  },
  {
   "cell_type": "markdown",
   "id": "4155de4b",
   "metadata": {},
   "source": [
    "我们使用odeint在一系列时间点`t_vec`上通过数值积分求解时间路径。"
   ]
  },
  {
   "cell_type": "code",
   "execution_count": null,
   "id": "d105e30b",
   "metadata": {},
   "outputs": [],
   "source": [
    "def solve_path(R0, t_vec, x_init=x_0):\n",
    "    \"\"\"\n",
    "    通过数值积分求解i(t)和c(t)，\n",
    "    给定R0的时间路径。\n",
    "\n",
    "    \"\"\"\n",
    "    G = lambda x, t: F(x, t, R0)\n",
    "    s_path, e_path, i_path = odeint(G, x_init, t_vec).transpose()\n",
    "\n",
    "    c_path = 1 - s_path - e_path       # 累计病例\n",
    "    return i_path, c_path"
   ]
  },
  {
   "cell_type": "markdown",
   "id": "68b21580",
   "metadata": {},
   "source": [
    "## 实验\n",
    "\n",
    "让我们用这段代码进行一些实验。\n",
    "\n",
    "我们要研究的时间段为550天，大约18个月："
   ]
  },
  {
   "cell_type": "code",
   "execution_count": null,
   "id": "508b2bde",
   "metadata": {},
   "outputs": [],
   "source": [
    "t_length = 550\n",
    "grid_size = 1000\n",
    "t_vec = np.linspace(0, t_length, grid_size)"
   ]
  },
  {
   "cell_type": "markdown",
   "id": "de1ee127",
   "metadata": {},
   "source": [
    "### 实验1：固定R0的情况\n",
    "\n",
    "让我们从`R0`为常数的情况开始。\n",
    "\n",
    "我们在不同`R0`值的假设下计算感染人数的时间路径："
   ]
  },
  {
   "cell_type": "code",
   "execution_count": null,
   "id": "3e7b6ff2",
   "metadata": {},
   "outputs": [],
   "source": [
    "R0_vals = np.linspace(1.6, 3.0, 6)\n",
    "labels = [f'$R0 = {r:.2f}$' for r in R0_vals]\n",
    "i_paths, c_paths = [], []\n",
    "\n",
    "for r in R0_vals:\n",
    "    i_path, c_path = solve_path(r, t_vec)\n",
    "    i_paths.append(i_path)\n",
    "    c_paths.append(c_path)"
   ]
  },
  {
   "cell_type": "markdown",
   "id": "4cfbe92d",
   "metadata": {},
   "source": [
    "这是一些用于绘制时间路径的代码。"
   ]
  },
  {
   "cell_type": "code",
   "execution_count": null,
   "id": "9cdef87f",
   "metadata": {},
   "outputs": [],
   "source": [
    "def plot_paths(paths, labels, times=t_vec):\n",
    "\n",
    "    fig, ax = plt.subplots()\n",
    "\n",
    "    for path, label in zip(paths, labels):\n",
    "        ax.plot(times, path, label=label)\n",
    "\n",
    "    ax.legend(loc='upper left')\n",
    "\n",
    "    plt.show()"
   ]
  },
  {
   "cell_type": "markdown",
   "id": "16bc0a23",
   "metadata": {},
   "source": [
    "让我们绘制当前病例数占人口的比例。"
   ]
  },
  {
   "cell_type": "code",
   "execution_count": null,
   "id": "1b7b8883",
   "metadata": {},
   "outputs": [],
   "source": [
    "plot_paths(i_paths, labels)"
   ]
  },
  {
   "cell_type": "markdown",
   "id": "6ec18863",
   "metadata": {},
   "source": [
    "正如预期的那样，较低的有效传播率会推迟感染高峰。\n",
    "\n",
    "它们也会导致当前病例的峰值降低。\n",
    "\n",
    "以下是累计病例数（占总人口的比例）："
   ]
  },
  {
   "cell_type": "code",
   "execution_count": null,
   "id": "a4c3449a",
   "metadata": {},
   "outputs": [],
   "source": [
    "plot_paths(c_paths, labels)"
   ]
  },
  {
   "cell_type": "markdown",
   "id": "65ac4d3e",
   "metadata": {},
   "source": [
    "### 实验2：改变缓解措施\n",
    "\n",
    "让我们来看一个逐步实施缓解措施（例如社交距离）的场景。\n",
    "\n",
    "以下是一个关于`R0`随时间变化的函数规范。"
   ]
  },
  {
   "cell_type": "code",
   "execution_count": null,
   "id": "3f97db2b",
   "metadata": {},
   "outputs": [],
   "source": [
    "def R0_mitigating(t, r0=3, η=1, r_bar=1.6):\n",
    "    R0 = r0 * exp(- η * t) + (1 - exp(- η * t)) * r_bar\n",
    "    return R0"
   ]
  },
  {
   "cell_type": "markdown",
   "id": "b722b1d5",
   "metadata": {},
   "source": [
    "`R0` 从 3 开始下降到 1.6。\n",
    "\n",
    "这是由于逐步采取更严格的缓解措施所致。\n",
    "\n",
    "参数 `η` 控制限制措施实施的速率或速度。\n",
    "\n",
    "我们考虑几个不同的速率："
   ]
  },
  {
   "cell_type": "code",
   "execution_count": null,
   "id": "2a07d8ef",
   "metadata": {},
   "outputs": [],
   "source": [
    "η_vals = 1/5, 1/10, 1/20, 1/50, 1/100\n",
    "labels = [fr'$\\eta = {η:.2f}$' for η in η_vals]"
   ]
  },
  {
   "cell_type": "markdown",
   "id": "0a16c150",
   "metadata": {},
   "source": [
    "以下是在这些不同速率下 `R0` 的时间路径："
   ]
  },
  {
   "cell_type": "code",
   "execution_count": null,
   "id": "0d321a09",
   "metadata": {},
   "outputs": [],
   "source": [
    "fig, ax = plt.subplots()\n",
    "\n",
    "for η, label in zip(η_vals, labels):\n",
    "    ax.plot(t_vec, R0_mitigating(t_vec, η=η), label=label)\n",
    "\n",
    "ax.legend()\n",
    "plt.show()"
   ]
  },
  {
   "cell_type": "markdown",
   "id": "159fe728",
   "metadata": {},
   "source": [
    "让我们计算感染者人数的时间路径："
   ]
  },
  {
   "cell_type": "code",
   "execution_count": null,
   "id": "cda94def",
   "metadata": {},
   "outputs": [],
   "source": [
    "i_paths, c_paths = [], []\n",
    "\n",
    "for η in η_vals:\n",
    "    R0 = lambda t: R0_mitigating(t, η=η)\n",
    "    i_path, c_path = solve_path(R0, t_vec)\n",
    "    i_paths.append(i_path)\n",
    "    c_paths.append(c_path)"
   ]
  },
  {
   "cell_type": "markdown",
   "id": "223f5319",
   "metadata": {},
   "source": [
    "以下是不同场景下的当前案例："
   ]
  },
  {
   "cell_type": "code",
   "execution_count": null,
   "id": "b40fc0a8",
   "metadata": {},
   "outputs": [],
   "source": [
    "plot_paths(i_paths, labels)"
   ]
  },
  {
   "cell_type": "markdown",
   "id": "b13df8f7",
   "metadata": {},
   "source": [
    "以下是累计病例数（占总人口的比例）："
   ]
  },
  {
   "cell_type": "code",
   "execution_count": null,
   "id": "7cfd782e",
   "metadata": {},
   "outputs": [],
   "source": [
    "plot_paths(c_paths, labels)"
   ]
  },
  {
   "cell_type": "markdown",
   "id": "31777498",
   "metadata": {},
   "source": [
    "## 解除封锁\n",
    "\n",
    "以下复现了Andrew Atkeson关于解除封锁时机的[额外研究结果](https://drive.google.com/file/d/1uS7n-7zq5gfSgrL3S0HByExmpq4Bn3oh/view)。\n",
    "\n",
    "考虑以下两种缓解情景：\n",
    "\n",
    "1. 前30天$R_t = 0.5$，之后17个月$R_t = 2$。这相当于30天后解除封锁。\n",
    "1. 前120天$R_t = 0.5$，之后14个月$R_t = 2$。这相当于4个月后解除封锁。\n",
    "\n",
    "这里考虑的参数设置模型的初始状态为25,000个活跃感染者，以及75,000个已经接触病毒因此即将具有传染性的个体。"
   ]
  },
  {
   "cell_type": "code",
   "execution_count": null,
   "id": "778b6245",
   "metadata": {},
   "outputs": [],
   "source": [
    "# 初始条件\n",
    "i_0 = 25_000 / pop_size\n",
    "e_0 = 75_000 / pop_size\n",
    "s_0 = 1 - i_0 - e_0\n",
    "x_0 = s_0, e_0, i_0"
   ]
  },
  {
   "cell_type": "markdown",
   "id": "b6fef77d",
   "metadata": {},
   "source": [
    "让我们计算路径："
   ]
  },
  {
   "cell_type": "code",
   "execution_count": null,
   "id": "04445cef",
   "metadata": {},
   "outputs": [],
   "source": [
    "R0_paths = (lambda t: 0.5 if t < 30 else 2,\n",
    "            lambda t: 0.5 if t < 120 else 2)\n",
    "\n",
    "labels = [f'场景 {i}' for i in (1, 2)]\n",
    "\n",
    "i_paths, c_paths = [], []\n",
    "\n",
    "for R0 in R0_paths:\n",
    "    i_path, c_path = solve_path(R0, t_vec, x_init=x_0)\n",
    "    i_paths.append(i_path)\n",
    "    c_paths.append(c_path)"
   ]
  },
  {
   "cell_type": "markdown",
   "id": "5816e15d",
   "metadata": {},
   "source": [
    "这是活跃感染病例数："
   ]
  },
  {
   "cell_type": "code",
   "execution_count": null,
   "id": "515289f9",
   "metadata": {},
   "outputs": [],
   "source": [
    "plot_paths(i_paths, labels)"
   ]
  },
  {
   "cell_type": "markdown",
   "id": "c4e02a90",
   "metadata": {},
   "source": [
    "在这些场景下我们可以预期什么样的死亡率？\n",
    "\n",
    "假设1%的病例会导致死亡"
   ]
  },
  {
   "cell_type": "code",
   "execution_count": null,
   "id": "2ec467c9",
   "metadata": {},
   "outputs": [],
   "source": [
    "ν = 0.01"
   ]
  },
  {
   "cell_type": "markdown",
   "id": "8046bf63",
   "metadata": {},
   "source": [
    "这是累计死亡人数："
   ]
  },
  {
   "cell_type": "code",
   "execution_count": null,
   "id": "e5858094",
   "metadata": {},
   "outputs": [],
   "source": [
    "paths = [path * ν * pop_size for path in c_paths]\n",
    "plot_paths(paths, labels)"
   ]
  },
  {
   "cell_type": "markdown",
   "id": "af4d8930",
   "metadata": {},
   "source": [
    "这是每日死亡率："
   ]
  },
  {
   "cell_type": "code",
   "execution_count": null,
   "id": "c198275a",
   "metadata": {},
   "outputs": [],
   "source": [
    "paths = [path * ν * γ * pop_size for path in i_paths]\n",
    "plot_paths(paths, labels)"
   ]
  },
  {
   "cell_type": "markdown",
   "id": "cb5d2dcb",
   "metadata": {},
   "source": [
    "如果能找到疫苗，将曲线峰值推迟到更远的未来可能会减少累计死亡人数。"
   ]
  }
 ],
 "metadata": {
  "jupytext": {
   "text_representation": {
    "extension": ".md",
    "format_name": "myst"
   }
  },
  "kernelspec": {
   "display_name": "Python 3",
   "language": "python",
   "name": "python3"
  },
  "source_map": [
   10,
   49,
   59,
   63,
   65,
   152,
   154,
   158,
   161,
   165,
   187,
   193,
   198,
   202,
   204,
   208,
   220,
   228,
   232,
   240,
   249,
   253,
   264,
   268,
   270,
   278,
   280,
   288,
   292,
   302,
   305,
   309,
   317,
   321,
   329,
   333,
   335,
   339,
   341,
   354,
   360,
   365,
   377,
   381,
   383,
   389,
   391,
   395,
   398,
   402,
   405
  ]
 },
 "nbformat": 4,
 "nbformat_minor": 5
}