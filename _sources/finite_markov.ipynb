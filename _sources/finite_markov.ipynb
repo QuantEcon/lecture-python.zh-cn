{
 "cells": [
  {
   "cell_type": "markdown",
   "id": "689c4fb2",
   "metadata": {},
   "source": [
    "(mc)=\n",
    "```{raw} jupyter\n",
    "<div id=\"qe-notebook-header\" align=\"right\" style=\"text-align:right;\">\n",
    "        <a href=\"https://quantecon.org/\" title=\"quantecon.org\">\n",
    "                <img style=\"width:250px;display:inline;\" width=\"250px\" src=\"https://assets.quantecon.org/img/qe-menubar-logo.svg\" alt=\"QuantEcon\">\n",
    "        </a>\n",
    "</div>\n",
    "```\n",
    "\n",
    "# {index}`有限马尔可夫链 <single: Finite Markov Chains>`\n",
    "\n",
    "```{contents} 目录\n",
    ":depth: 2\n",
    "```\n",
    "\n",
    "除了Anaconda中已有的库外，本讲座还需要以下库："
   ]
  },
  {
   "cell_type": "code",
   "execution_count": 1,
   "id": "3c014f4b",
   "metadata": {
    "tags": [
     "hide-output"
    ]
   },
   "outputs": [
    {
     "name": "stdout",
     "output_type": "stream",
     "text": [
      "Requirement already satisfied: quantecon in /home/runner/miniconda3/envs/quantecon/lib/python3.12/site-packages (0.8.0)\r\n",
      "Requirement already satisfied: numba>=0.49.0 in /home/runner/miniconda3/envs/quantecon/lib/python3.12/site-packages (from quantecon) (0.60.0)\r\n",
      "Requirement already satisfied: numpy>=1.17.0 in /home/runner/miniconda3/envs/quantecon/lib/python3.12/site-packages (from quantecon) (1.26.4)\r\n",
      "Requirement already satisfied: requests in /home/runner/miniconda3/envs/quantecon/lib/python3.12/site-packages (from quantecon) (2.32.3)\r\n",
      "Requirement already satisfied: scipy>=1.5.0 in /home/runner/miniconda3/envs/quantecon/lib/python3.12/site-packages (from quantecon) (1.13.1)\r\n",
      "Requirement already satisfied: sympy in /home/runner/miniconda3/envs/quantecon/lib/python3.12/site-packages (from quantecon) (1.14.0)\r\n",
      "Requirement already satisfied: llvmlite<0.44,>=0.43.0dev0 in /home/runner/miniconda3/envs/quantecon/lib/python3.12/site-packages (from numba>=0.49.0->quantecon) (0.43.0)\r\n",
      "Requirement already satisfied: charset-normalizer<4,>=2 in /home/runner/miniconda3/envs/quantecon/lib/python3.12/site-packages (from requests->quantecon) (3.3.2)\r\n",
      "Requirement already satisfied: idna<4,>=2.5 in /home/runner/miniconda3/envs/quantecon/lib/python3.12/site-packages (from requests->quantecon) (3.7)\r\n",
      "Requirement already satisfied: urllib3<3,>=1.21.1 in /home/runner/miniconda3/envs/quantecon/lib/python3.12/site-packages (from requests->quantecon) (2.2.3)\r\n",
      "Requirement already satisfied: certifi>=2017.4.17 in /home/runner/miniconda3/envs/quantecon/lib/python3.12/site-packages (from requests->quantecon) (2024.8.30)\r\n",
      "Requirement already satisfied: mpmath<1.4,>=1.1.0 in /home/runner/miniconda3/envs/quantecon/lib/python3.12/site-packages (from sympy->quantecon) (1.3.0)\r\n"
     ]
    }
   ],
   "source": [
    "!pip install quantecon"
   ]
  },
  {
   "cell_type": "markdown",
   "id": "9332246d",
   "metadata": {},
   "source": [
    "## 概述\n",
    "\n",
    "马尔可夫链是一类最实用的随机过程，它们之所以重要是因为：\n",
    "\n",
    "* 它们结构简单且灵活，同时有着丰富而优雅的理论基础\n",
    "* 它们能帮助我们直观理解随机动态模型\n",
    "* 它们在定量建模中扮演着核心角色\n",
    "\n",
    "在经济学和金融学领域，许多基础模型都采用了马尔可夫链。\n",
    "\n",
    "本讲座将回顾马尔可夫链的基本理论。\n",
    "\n",
    "我们还将介绍[QuantEcon.py](https://quantecon.org/quantecon-py/)库中提供的一些处理马尔可夫链的高效工具。\n",
    "\n",
    "学习本讲座需要具备基本的概率论和线性代数知识。\n",
    "\n",
    "首先，让我们导入需要的库："
   ]
  },
  {
   "cell_type": "code",
   "execution_count": 2,
   "id": "9b893bc3",
   "metadata": {},
   "outputs": [],
   "source": [
    "import matplotlib.pyplot as plt\n",
    "import matplotlib as mpl\n",
    "FONTPATH = \"fonts/SourceHanSerifSC-SemiBold.otf\"\n",
    "mpl.font_manager.fontManager.addfont(FONTPATH)\n",
    "plt.rcParams['font.family'] = ['Source Han Serif SC']\n",
    "\n",
    "plt.rcParams[\"figure.figsize\"] = (11, 5)  #set default figure size\n",
    "import quantecon as qe\n",
    "import numpy as np\n",
    "from mpl_toolkits.mplot3d import Axes3D"
   ]
  },
  {
   "cell_type": "markdown",
   "id": "54034b29",
   "metadata": {},
   "source": [
    "## 定义\n",
    "\n",
    "让我们先介绍一些基本概念。\n",
    "\n",
    "(finite_dp_stoch_mat)=\n",
    "### {index}`随机矩阵 <single: Stochastic Matrices>`\n",
    "\n",
    "```{index} single: Finite Markov Chains; Stochastic Matrices\n",
    "```\n",
    "\n",
    "**随机矩阵**（或**马尔可夫矩阵**）是一个 $n \\times n$ 的方阵 $P$，满足：\n",
    "\n",
    "1. $P$ 的每个元素都是非负的，且\n",
    "1. $P$ 的每一行之和等于一\n",
    "\n",
    "$P$ 的每一行都可以被视为在 $n$ 个可能结果上的概率质量函数。\n",
    "\n",
    "不难证明[^pm]，如果 $P$ 是随机矩阵，那么对于所有 $k \\in \\mathbb N$，其 $k$ 次幂 $P^k$ 也是随机矩阵。\n",
    "\n",
    "### {index}`马尔可夫链 <single: Markov Chains>`\n",
    "\n",
    "```{index} single: Finite Markov Chains\n",
    "```\n",
    "\n",
    "随机矩阵与马尔可夫链有着紧密的关系。\n",
    "\n",
    "让我们考虑一个有限集 $S$，它包含 $n$ 个元素 $\\{x_1, \\ldots, x_n\\}$。\n",
    "\n",
    "我们称 $S$ 为**状态空间**，其中的元素 $x_1, \\ldots, x_n$ 称为**状态**。\n",
    "\n",
    "**马尔可夫链** $\\{X_t\\}$ 是一个在状态空间 $S$ 上取值的随机变量序列，它具有**马尔可夫性质**。\n",
    "\n",
    "马尔可夫性质表明，对于任意时间 $t$ 和任意状态 $y \\in S$，\n",
    "\n",
    "```{math}\n",
    ":label: fin_markov_mp\n",
    "\n",
    "\\mathbb P \\{ X_{t+1} = y  \\,|\\, X_t \\}\n",
    "= \\mathbb P \\{ X_{t+1}  = y \\,|\\, X_t, X_{t-1}, \\ldots \\}\n",
    "```\n",
    "\n",
    "换句话说，只要知道当前状态，就足以预测未来状态的概率分布，而不需要知道过去的历史。\n",
    "\n",
    "具体来说，马尔可夫链的整个动态行为完全由以下条件概率集合决定\n",
    "\n",
    "```{math}\n",
    ":label: mpp\n",
    "\n",
    "P(x, y) := \\mathbb P \\{ X_{t+1} = y \\,|\\, X_t = x \\}\n",
    "\\qquad (x, y \\in S)\n",
    "```\n",
    "\n",
    "根据定义，\n",
    "\n",
    "* $P(x, y)$ 表示系统在一个时间步内从状态 $x$ 转移到状态 $y$ 的概率\n",
    "* $P(x, \\cdot)$ 表示当当前状态为 $X_t = x$ 时，下一状态 $X_{t+1}$ 的条件概率分布\n",
    "\n",
    "我们可以将这些转移概率组织成一个随机矩阵 $P$，其中\n",
    "\n",
    "$$\n",
    "P_{ij} = P(x_i, x_j)\n",
    "\\qquad 1 \\leq i, j \\leq n\n",
    "$$\n",
    "\n",
    "反过来，给定一个随机矩阵 $P$，我们可以构造一个马尔可夫链 $\\{X_t\\}$，具体方法是：\n",
    "\n",
    "* 从某个初始分布 $\\psi$ 中抽取初始状态 $X_0$\n",
    "* 对于每个时间 $t = 0, 1, \\ldots$，根据条件分布 $P(X_t,\\cdot)$ 随机生成下一状态 $X_{t+1}$\n",
    "\n",
    "通过这种构造方式，我们得到的随机过程自然满足马尔可夫性质 {eq}`mpp`。\n",
    "\n",
    "(mc_eg1)=\n",
    "### 示例1\n",
    "\n",
    "让我们考虑一个劳动者的就业状态，在任何给定时间 $t$，该劳动者要么处于失业状态（状态0）要么处于就业状态（状态1）。\n",
    "\n",
    "假设在一个月的时间内：\n",
    "\n",
    "1. 一个失业劳动者找到工作的概率是 $\\alpha \\in (0, 1)$。\n",
    "2. 一个就业劳动者失去工作的概率是 $\\beta \\in (0, 1)$。\n",
    "\n",
    "在马尔可夫链模型中，我们有：\n",
    "\n",
    "* 状态空间 $S = \\{ 0, 1\\}$\n",
    "* 转移概率 $P(0, 1) = \\alpha$ 和 $P(1, 0) = \\beta$\n",
    "\n",
    "我们可以将这些转移概率表示为一个矩阵：\n",
    "\n",
    "```{math}\n",
    ":label: p_unempemp\n",
    "\n",
    "P\n",
    "= \\left(\n",
    "\\begin{array}{cc}\n",
    "    1 - \\alpha & \\alpha \\\\\n",
    "    \\beta & 1 - \\beta\n",
    "\\end{array}\n",
    "  \\right)\n",
    "```\n",
    "\n",
    "有了 $\\alpha$ 和 $\\beta$ 的值后，我们可以回答许多有趣的问题，例如：\n",
    "\n",
    "* 一个人平均会失业多长时间？\n",
    "* 长期来看，一个劳动者有多大比例的时间处于失业状态？\n",
    "* 如果一个人现在有工作，那么在未来一年内他至少失业一次的概率是多少？\n",
    "\n",
    "我们将在后续章节中详细探讨这些应用。\n",
    "\n",
    "(mc_eg2)=\n",
    "### 示例2\n",
    "\n",
    "Hamilton {cite}`Hamilton2005` 基于美国失业数据估计了以下随机矩阵\n",
    "\n",
    "$$\n",
    "P =\n",
    "\\left(\n",
    "  \\begin{array}{ccc}\n",
    "     0.971 & 0.029 & 0 \\\\\n",
    "     0.145 & 0.778 & 0.077 \\\\\n",
    "     0 & 0.508 & 0.492\n",
    "  \\end{array}\n",
    "\\right)\n",
    "$$\n",
    "\n",
    "在这个模型中：\n",
    "\n",
    "* 数据频率是月度的\n",
    "* 状态1表示\"正常增长\"阶段\n",
    "* 状态2表示\"轻度衰退\"阶段\n",
    "* 状态3表示\"严重衰退\"阶段\n",
    "\n",
    "从矩阵中我们可以看出，如果经济当前处于正常增长阶段，那么下个月仍然保持正常增长的概率高达0.971。\n",
    "\n",
    "注意矩阵主对角线上的元素普遍较大，这表明经济状态往往具有一定的持续性——当经济处于某一特定状态时，它倾向于在该状态停留一段时间。\n",
    "\n",
    "这个马尔可夫链也可以通过下面的有向图来直观表示，图中的箭头上标注了相应的转移概率：\n",
    "\n",
    "```{figure} /_static/lecture_specific/finite_markov/hamilton_graph.png\n",
    "```\n",
    "\n",
    "这里\"ng\"表示正常增长，\"mr\"表示温和衰退，等等。\n",
    "\n",
    "## 模拟\n",
    "\n",
    "```{index} single: Markov Chains; Simulation\n",
    "```\n",
    "\n",
    "研究马尔可夫链问题的一种直观方法是通过模拟。\n",
    "\n",
    "(如果我们想估计某个事件 $E$ 发生的概率，可以进行大量模拟，然后计算事件 $E$ 在这些模拟中出现的频率)。\n",
    "\n",
    "[QuantEcon.py](http://quantecon.org/quantecon-py)库提供了强大的马尔可夫链模拟工具。\n",
    "\n",
    "* 这些工具不仅高效，还包含了许多处理马尔可夫链的实用函数。\n",
    "\n",
    "不过，自己动手编写模拟程序也是一个很好的学习过程——我们先尝试自己实现，然后再介绍[QuantEcon.py](http://quantecon.org/quantecon-py)的方法。\n",
    "\n",
    "在接下来的练习中，我们将状态空间定义为 $S = 0,\\ldots, n-1$。\n",
    "\n",
    "### 自己编写模拟程序\n",
    "\n",
    "要模拟马尔可夫链，我们需要两个基本要素：转移概率矩阵 $P$ 和一个初始概率分布 $\\psi$，用来确定初始状态 $X_0$。\n",
    "\n",
    "马尔可夫链的模拟过程可以概括为：\n",
    "\n",
    "1. 在初始时刻 $t=0$，根据分布 $\\psi$ 随机生成初始状态 $X_0$。\n",
    "2. 对于每个后续时刻 $t$，根据当前状态 $X_t$ 对应的转移概率行 $P(X_t, \\cdot)$ 随机生成下一个状态 $X_{t+1}$。\n",
    "\n",
    "为了实现这个过程，我们需要一种从离散概率分布中抽样的方法。\n",
    "\n",
    "我们将使用 [QuantEcon](http://quantecon.org/quantecon-py) 库中的 `random.draw` 函数，它的用法如下："
   ]
  },
  {
   "cell_type": "code",
   "execution_count": 3,
   "id": "cdf7d923",
   "metadata": {},
   "outputs": [
    {
     "data": {
      "text/plain": [
       "array([1, 1, 0, 1, 1])"
      ]
     },
     "execution_count": 3,
     "metadata": {},
     "output_type": "execute_result"
    }
   ],
   "source": [
    "ψ = (0.3, 0.7)           # {0, 1}上的概率\n",
    "cdf = np.cumsum(ψ)       # 转换为累积分布\n",
    "qe.random.draw(cdf, 5)   # 从ψ中生成5个独立抽样"
   ]
  },
  {
   "cell_type": "markdown",
   "id": "cff0731a",
   "metadata": {},
   "source": [
    "我们将编写一个函数，它接受以下三个参数：\n",
    "\n",
    "* 一个随机矩阵 `P`（表示转移概率矩阵）\n",
    "* 一个初始概率分布 `ψ_0`（用于确定初始状态）\n",
    "* 一个正整数 `sample_size`（表示要生成的马尔可夫链时间序列长度）"
   ]
  },
  {
   "cell_type": "code",
   "execution_count": 4,
   "id": "1d19bd84",
   "metadata": {},
   "outputs": [],
   "source": [
    "def mc_sample_path(P, ψ_0=None, sample_size=1_000):\n",
    "\n",
    "    # 设置\n",
    "    P = np.asarray(P)\n",
    "    X = np.empty(sample_size, dtype=int)\n",
    "\n",
    "    # 将P的每一行转换为累积分布函数\n",
    "    n = len(P)\n",
    "    P_dist = [np.cumsum(P[i, :]) for i in range(n)]\n",
    "\n",
    "    # 抽取初始状态，默认为0\n",
    "    if ψ_0 is not None:\n",
    "        X_0 = qe.random.draw(np.cumsum(ψ_0))\n",
    "    else:\n",
    "        X_0 = 0\n",
    "\n",
    "    # 模拟\n",
    "    X[0] = X_0\n",
    "    for t in range(sample_size - 1):\n",
    "        X[t+1] = qe.random.draw(P_dist[X[t]])\n",
    "\n",
    "    return X"
   ]
  },
  {
   "cell_type": "markdown",
   "id": "d59e6683",
   "metadata": {},
   "source": [
    "让我们用一个$2 \\times 2$的小矩阵来看看它是如何工作的"
   ]
  },
  {
   "cell_type": "code",
   "execution_count": 5,
   "id": "2ae49978",
   "metadata": {},
   "outputs": [],
   "source": [
    "P = [[0.4, 0.6],\n",
    "     [0.2, 0.8]]"
   ]
  },
  {
   "cell_type": "markdown",
   "id": "52fc8ff1",
   "metadata": {},
   "source": [
    "我们稍后会看到，对于从`P`这个转移矩阵生成的足够长的马尔可夫链序列，状态0出现的频率大约为$0.25$。\n",
    "\n",
    "有趣的是，这个频率与初始状态分布$X_0$无关，这反映了马尔可夫链的一个重要性质。\n",
    "\n",
    "下面的代码验证了这一现象："
   ]
  },
  {
   "cell_type": "code",
   "execution_count": 6,
   "id": "7e40b222",
   "metadata": {},
   "outputs": [
    {
     "data": {
      "text/plain": [
       "0.2524"
      ]
     },
     "execution_count": 6,
     "metadata": {},
     "output_type": "execute_result"
    }
   ],
   "source": [
    "X = mc_sample_path(P, ψ_0=[0.1, 0.9], sample_size=100_000)\n",
    "np.mean(X == 0)"
   ]
  },
  {
   "cell_type": "markdown",
   "id": "ba52add9",
   "metadata": {},
   "source": [
    "你可以尝试修改初始分布，使用我们上面定义的`P`矩阵，你会发现输出始终接近0.25。\n",
    "\n",
    "### 使用QuantEcon库\n",
    "\n",
    "正如前面提到的，[QuantEcon.py](http://quantecon.org/quantecon-py)库提供了处理马尔可夫链的各种功能，包括模拟功能。\n",
    "\n",
    "下面我们使用与前面例子相同的转移矩阵P来演示这些功能"
   ]
  },
  {
   "cell_type": "code",
   "execution_count": 7,
   "id": "6b663fbf",
   "metadata": {},
   "outputs": [
    {
     "data": {
      "text/plain": [
       "0.249468"
      ]
     },
     "execution_count": 7,
     "metadata": {},
     "output_type": "execute_result"
    }
   ],
   "source": [
    "from quantecon import MarkovChain\n",
    "\n",
    "mc = qe.MarkovChain(P)\n",
    "X = mc.simulate(ts_length=1_000_000)\n",
    "np.mean(X == 0)"
   ]
  },
  {
   "cell_type": "markdown",
   "id": "e0a026b4",
   "metadata": {},
   "source": [
    "[QuantEcon.py](http://quantecon.org/quantecon-py)库使用了[JIT编译](https://python-programming.quantecon.org/numba.html#numba-link)，因此运行速度明显更快。"
   ]
  },
  {
   "cell_type": "code",
   "execution_count": 8,
   "id": "34ed06ca",
   "metadata": {},
   "outputs": [
    {
     "name": "stdout",
     "output_type": "stream",
     "text": [
      "CPU times: user 1 s, sys: 521 μs, total: 1 s\n",
      "Wall time: 1 s\n"
     ]
    },
    {
     "data": {
      "text/plain": [
       "array([0, 1, 1, ..., 0, 1, 1])"
      ]
     },
     "execution_count": 8,
     "metadata": {},
     "output_type": "execute_result"
    }
   ],
   "source": [
    "%time mc_sample_path(P, sample_size=1_000_000) # 我们自制代码版本"
   ]
  },
  {
   "cell_type": "code",
   "execution_count": 9,
   "id": "ee4d938f",
   "metadata": {},
   "outputs": [
    {
     "name": "stdout",
     "output_type": "stream",
     "text": [
      "CPU times: user 11.5 ms, sys: 2.99 ms, total: 14.5 ms\n",
      "Wall time: 14 ms\n"
     ]
    },
    {
     "data": {
      "text/plain": [
       "array([0, 1, 1, ..., 0, 0, 0])"
      ]
     },
     "execution_count": 9,
     "metadata": {},
     "output_type": "execute_result"
    }
   ],
   "source": [
    "%time mc.simulate(ts_length=1_000_000) # qe代码版本"
   ]
  },
  {
   "cell_type": "markdown",
   "id": "981f92bd",
   "metadata": {},
   "source": [
    "#### 自定义状态值和初始状态\n",
    "\n",
    "在使用`MarkovChain`类时，我们可以自定义状态的表示方式，而不仅限于默认的数字索引。\n",
    "\n",
    "这些自定义状态值可以是任何类型：整数、浮点数，甚至是更直观的字符串标签。\n",
    "\n",
    "下面的例子展示了如何使用有意义的标签来表示就业状态"
   ]
  },
  {
   "cell_type": "code",
   "execution_count": 10,
   "id": "6cc6f942",
   "metadata": {},
   "outputs": [
    {
     "data": {
      "text/plain": [
       "array(['employed', 'employed', 'unemployed', 'employed'], dtype='<U10')"
      ]
     },
     "execution_count": 10,
     "metadata": {},
     "output_type": "execute_result"
    }
   ],
   "source": [
    "mc = qe.MarkovChain(P, state_values=('unemployed', 'employed'))\n",
    "mc.simulate(ts_length=4, init='employed')"
   ]
  },
  {
   "cell_type": "code",
   "execution_count": 11,
   "id": "70edfd3f",
   "metadata": {},
   "outputs": [
    {
     "data": {
      "text/plain": [
       "array(['unemployed', 'employed', 'employed', 'employed'], dtype='<U10')"
      ]
     },
     "execution_count": 11,
     "metadata": {},
     "output_type": "execute_result"
    }
   ],
   "source": [
    "mc.simulate(ts_length=4, init='unemployed')"
   ]
  },
  {
   "cell_type": "code",
   "execution_count": 12,
   "id": "fd30141b",
   "metadata": {},
   "outputs": [
    {
     "data": {
      "text/plain": [
       "array(['unemployed', 'employed', 'unemployed', 'employed'], dtype='<U10')"
      ]
     },
     "execution_count": 12,
     "metadata": {},
     "output_type": "execute_result"
    }
   ],
   "source": [
    "mc.simulate(ts_length=4)  # 从随机选择的初始状态开始"
   ]
  },
  {
   "cell_type": "markdown",
   "id": "dea4d553",
   "metadata": {},
   "source": [
    "如果我们想要看到索引而不是状态值作为输出，我们可以使用"
   ]
  },
  {
   "cell_type": "code",
   "execution_count": 13,
   "id": "706d69e2",
   "metadata": {},
   "outputs": [
    {
     "data": {
      "text/plain": [
       "array([0, 1, 0, 0])"
      ]
     },
     "execution_count": 13,
     "metadata": {},
     "output_type": "execute_result"
    }
   ],
   "source": [
    "mc.simulate_indices(ts_length=4)"
   ]
  },
  {
   "cell_type": "markdown",
   "id": "d03ad70f",
   "metadata": {},
   "source": [
    "(mc_md)=\n",
    "## {index}`边际分布 <single: 边际分布>`\n",
    "\n",
    "```{index} single: 马尔可夫链; 边际分布\n",
    "```\n",
    "\n",
    "假设我们有：\n",
    "\n",
    "1. 一个马尔可夫链 $\\{X_t\\}$，其转移概率矩阵为 $P$\n",
    "1. 在时间 $t$ 时，$X_t$ 的边际分布为 $\\psi_t$\n",
    "\n",
    "我们想知道：在未来某个时间点，比如 $t+1$ 或更一般地 $t+m$ 时，系统的边际分布会是什么？\n",
    "\n",
    "为了解决这个问题，我们用 $\\psi_t$ 表示时间 $t$ 时随机变量 $X_t$ 的概率分布，其中 $t = 0, 1, 2, \\ldots$。\n",
    "\n",
    "我们首先考虑如何从当前分布 $\\psi_t$ 和转移矩阵 $P$ 推导出下一时刻的分布 $\\psi_{t+1}$。\n",
    "\n",
    "考虑任意状态 $y \\in S$，我们想计算系统在下一时刻处于状态 $y$ 的概率。\n",
    "\n",
    "根据[全概率公式](https://baike.baidu.com/item/%E5%85%A8%E6%A6%82%E7%8E%87%E5%85%AC%E5%BC%8F/9980676)，我们可以将这个概率表示为：\n",
    "\n",
    "$$\n",
    "\\mathbb P \\{X_{t+1} = y \\}\n",
    "   = \\sum_{x \\in S} \\mathbb P \\{ X_{t+1} = y \\, | \\, X_t = x \\}\n",
    "               \\cdot \\mathbb P \\{ X_t = x \\}\n",
    "$$\n",
    "\n",
    "换句话说，要计算明天系统处于状态 $y$ 的概率，我们需要考虑今天可能处于的每个状态 $x$，然后将从这些状态转移到 $y$ 的概率加权求和。\n",
    "\n",
    "用数学符号表示，这个表达式可以写为\n",
    "\n",
    "$$\n",
    "\\psi_{t+1}(y) = \\sum_{x \\in S} P(x,y) \\psi_t(x)\n",
    "$$\n",
    "\n",
    "这个等式对状态空间 $S$ 中的每个状态 $y$ 都成立，总共有 $n$ 个这样的方程。\n",
    "\n",
    "如果我们将分布 $\\psi_{t+1}$ 和 $\\psi_t$ 看作*行向量*，那么这整组方程可以简洁地表示为矩阵形式\n",
    "\n",
    "```{math}\n",
    ":label: fin_mc_fr\n",
    "\n",
    "\\psi_{t+1} = \\psi_t P\n",
    "```\n",
    "\n",
    "由此可见，将边际分布向前推进一个时间单位，只需要将分布向量右乘转移矩阵 $P$。\n",
    "\n",
    "如果我们想将分布向前推进 $m$ 个时间单位，只需要将分布向量右乘 $P$ 的 $m$ 次幂。\n",
    "\n",
    "换句话说，通过迭代应用等式 {eq}`fin_mc_fr`，我们得到 $\\psi_{t+m} = \\psi_t P^m$，其中 $P^m$ 表示转移矩阵 $P$ 的 $m$ 次幂。\n",
    "\n",
    "特别地，如果我们知道系统的初始分布 $\\psi_0$，那么 $m$ 时刻的分布就是 $\\psi_0 P^m$。\n",
    "\n",
    "这个结果非常重要，值得我们强调一下\n",
    "\n",
    "```{math}\n",
    ":label: mdfmc\n",
    "\n",
    "X_0 \\sim \\psi_0 \\quad \\implies \\quad X_m \\sim \\psi_0 P^m\n",
    "```\n",
    "\n",
    "更一般地，\n",
    "\n",
    "```{math}\n",
    ":label: mdfmc2\n",
    "\n",
    "X_t \\sim \\psi_t \\quad \\implies \\quad X_{t+m} \\sim \\psi_t P^m\n",
    "```\n",
    "\n",
    "(finite_mc_mstp)=\n",
    "### 多步转移概率\n",
    "\n",
    "我们知道从状态 $x$ 到 $y$ 的一步转移概率是 $P(x,y)$。\n",
    "\n",
    "类似地，从状态 $x$ 到 $y$ 的 $m$ 步转移概率是 $P^m(x,y)$，即矩阵 $P$ 的 $m$ 次幂中第 $(x,y)$ 个元素。\n",
    "\n",
    "为了理解这一点，让我们重新考虑等式 {eq}`mdfmc2`，但这次假设初始分布 $\\psi_t$ 是一个特殊的分布：它在状态 $x$ 处的概率为1，在其他所有状态处的概率为0。这相当于确定系统在时刻 $t$ 处于状态 $x$。\n",
    "\n",
    "这样的分布可以表示为一个行向量：\n",
    "* 在第 $x$ 个位置为1，其他位置为0\n",
    "\n",
    "将这个特殊分布代入 {eq}`mdfmc2`，我们可以看到，在条件 $X_t = x$ 下，$X_{t+m}$ 的分布正好对应于矩阵 $P^m$ 的第 $x$ 行。\n",
    "\n",
    "因此，我们有\n",
    "\n",
    "$$\n",
    "\\mathbb P \\{X_{t+m} = y \\,|\\, X_t = x \\} = P^m(x, y) = P^m \\text{的第} (x, y) \\text{个元素}\n",
    "$$\n",
    "\n",
    "### 示例：衰退的概率\n",
    "\n",
    "```{index} single: Markov Chains; Future Probabilities\n",
    "```\n",
    "\n",
    "让我们回顾{ref}`前面讨论的<mc_eg2>`关于衰退和增长的随机矩阵$P$。\n",
    "\n",
    "假设我们不确定当前的经济状态，这种情况很常见，因为经济数据通常要到月末才能收集到。\n",
    "\n",
    "我们用$\\psi(x)$表示经济处于状态$x$的概率估计。\n",
    "\n",
    "那么，6个月后经济陷入衰退（无论是轻度还是严重）的概率可以通过以下内积计算：\n",
    "\n",
    "$$\n",
    "\\psi P^6\n",
    "\\cdot\n",
    "\\left(\n",
    "  \\begin{array}{c}\n",
    "     0 \\\\\n",
    "     1 \\\\\n",
    "     1\n",
    "  \\end{array}\n",
    "\\right)\n",
    "$$\n",
    "\n",
    "(mc_eg1-1)=\n",
    "### 示例2：分布的横截面解释\n",
    "\n",
    "```{index} single: Markov Chains; Cross-Sectional Distributions\n",
    "```\n",
    "我们研究的边际分布不仅可以解释为概率，还可以被理解为大数定律下大样本中实际观察到的横截面分布。\n",
    "\n",
    "为了更好地理解这一点，让我们回到{ref}`前面讨论的<mc_eg1>`劳动者就业/失业动态模型。\n",
    "\n",
    "想象一个大型劳动者群体，其中每个劳动者的职业生涯都遵循相同的动态过程，且每个劳动者的经历在统计上独立于其他劳动者。\n",
    "\n",
    "假设$\\psi$代表当前在状态空间$\\{ 0, 1 \\}$上的*横截面*分布。\n",
    "\n",
    "这个横截面分布反映了某一时刻就业和失业劳动者的比例。\n",
    "\n",
    "* 具体来说，$\\psi(0)$表示失业率。\n",
    "\n",
    "如果我们想知道10个周期后的横截面分布会是什么样子，答案是$\\psi P^{10}$，其中$P$是{eq}`p_unempemp`中给出的随机矩阵。\n",
    "\n",
    "这一结果成立是因为每个劳动者的状态都按照矩阵$P$的规律演变，因此$\\psi P^{10}$代表了随机选取的单个劳动者的边际分布。\n",
    "\n",
    "根据大数定律，当样本规模足够大时，观察到的频率会非常接近理论概率。\n",
    "\n",
    "因此，对于一个足够大（接近无限）的人口，\n",
    "\n",
    "$\\psi P^{10}$同时也代表了处于各个状态的劳动者比例。\n",
    "\n",
    "这正是我们所说的横截面分布。\n",
    "\n",
    "## {index}`不可约性和非周期性 <single: Irreducibility and Aperiodicity>`\n",
    "\n",
    "```{index} single: Markov Chains; Irreducibility, Aperiodicity\n",
    "```\n",
    "\n",
    "不可约性和非周期性是马尔可夫链理论中两个最基本的概念。\n",
    "\n",
    "下面我们来详细了解这两个概念。\n",
    "\n",
    "### 不可约性\n",
    "\n",
    "假设我们有一个随机矩阵 $P$。\n",
    "\n",
    "当两个状态 $x$ 和 $y$ 之间存在某种\"联系\"时，即存在正整数 $j$ 和 $k$ 使得\n",
    "\n",
    "$$\n",
    "P^j(x, y) > 0\n",
    "\\quad \\text{和} \\quad\n",
    "P^k(y, x) > 0\n",
    "$$\n",
    "\n",
    "则称两个状态 $x$ 和 $y$ 是**互通的**。\n",
    "\n",
    "根据我们{ref}`上面的讨论 <finite_mc_mstp>`，这正好意味着\n",
    "\n",
    "* 状态 $x$ 最终可以从状态 $y$ 到达，且\n",
    "* 状态 $y$ 最终可以从状态 $x$ 到达\n",
    "\n",
    "如果所有状态都是互通的，即对于 $S \\times S$ 中的所有 $(x, y)$，$x$ 和 $y$ 都是互通的，则称随机矩阵 $P$ 是**不可约的**。\n",
    "\n",
    "例如，考虑以下一组虚构家庭财富的转移概率\n",
    "\n",
    "```{figure} /_static/lecture_specific/finite_markov/mc_irreducibility1.png\n",
    "\n",
    "```\n",
    "\n",
    "我们可以将其转换为随机矩阵，在节点之间没有边的地方填零\n",
    "\n",
    "$$\n",
    "P :=\n",
    "\\left(\n",
    "  \\begin{array}{ccc}\n",
    "     0.9 & 0.1 & 0 \\\\\n",
    "     0.4 & 0.4 & 0.2 \\\\\n",
    "     0.1 & 0.1 & 0.8\n",
    "  \\end{array}\n",
    "\\right)\n",
    "$$\n",
    "\n",
    "从图中可以清楚地看出，这个随机矩阵是不可约的：我们最终可以从任何一个状态到达任何其他状态。\n",
    "\n",
    "我们也可以使用[QuantEcon.py](http://quantecon.org/quantecon-py)的MarkovChain类来测试这一点"
   ]
  },
  {
   "cell_type": "code",
   "execution_count": 14,
   "id": "9dd7d9e7",
   "metadata": {},
   "outputs": [
    {
     "data": {
      "text/plain": [
       "True"
      ]
     },
     "execution_count": 14,
     "metadata": {},
     "output_type": "execute_result"
    }
   ],
   "source": [
    "P = [[0.9, 0.1, 0.0],\n",
    "     [0.4, 0.4, 0.2],\n",
    "     [0.1, 0.1, 0.8]]\n",
    "\n",
    "mc = qe.MarkovChain(P, ('poor', 'middle', 'rich'))\n",
    "mc.is_irreducible"
   ]
  },
  {
   "cell_type": "markdown",
   "id": "01271ad7",
   "metadata": {},
   "source": [
    "这是一个更悲观的情景，其中穷人永远保持贫穷\n",
    "\n",
    "```{figure} /_static/lecture_specific/finite_markov/mc_irreducibility2.png\n",
    "```\n",
    "\n",
    "这个随机矩阵不是不可约的，因为，例如，从穷人状态无法到达富人状态。\n",
    "\n",
    "让我们来验证这一点"
   ]
  },
  {
   "cell_type": "code",
   "execution_count": 15,
   "id": "2747c1d9",
   "metadata": {},
   "outputs": [
    {
     "data": {
      "text/plain": [
       "False"
      ]
     },
     "execution_count": 15,
     "metadata": {},
     "output_type": "execute_result"
    }
   ],
   "source": [
    "P = [[1.0, 0.0, 0.0],\n",
    "     [0.1, 0.8, 0.1],\n",
    "     [0.0, 0.2, 0.8]]\n",
    "\n",
    "mc = qe.MarkovChain(P, ('poor', 'middle', 'rich'))\n",
    "mc.is_irreducible"
   ]
  },
  {
   "cell_type": "markdown",
   "id": "a81cb7b5",
   "metadata": {},
   "source": [
    "我们也可以确定各个状态之间的\"连通类\""
   ]
  },
  {
   "cell_type": "code",
   "execution_count": 16,
   "id": "18df8660",
   "metadata": {},
   "outputs": [
    {
     "data": {
      "text/plain": [
       "[array(['poor'], dtype='<U6'), array(['middle', 'rich'], dtype='<U6')]"
      ]
     },
     "execution_count": 16,
     "metadata": {},
     "output_type": "execute_result"
    }
   ],
   "source": [
    "mc.communication_classes"
   ]
  },
  {
   "cell_type": "markdown",
   "id": "418116c2",
   "metadata": {},
   "source": [
    "你可能已经清楚地意识到，不可约性对于长期结果来说将会很重要。\n",
    "\n",
    "例如，在第二个图中贫困是一个终身状态，但在第一个图中则不是。\n",
    "\n",
    "我们稍后会再回到这个话题。\n",
    "\n",
    "### 非周期性\n",
    "\n",
    "简单来说，如果马尔可夫链以可预测的方式循环，我们称之为**周期性**的，否则称为**非周期性**的。\n",
    "\n",
    "这里有一个包含三个状态的简单例子\n",
    "\n",
    "```{figure} /_static/lecture_specific/finite_markov/mc_aperiodicity1.png\n",
    "\n",
    "```\n",
    "\n",
    "该链以周期3循环："
   ]
  },
  {
   "cell_type": "code",
   "execution_count": 17,
   "id": "03644e93",
   "metadata": {},
   "outputs": [
    {
     "data": {
      "text/plain": [
       "3"
      ]
     },
     "execution_count": 17,
     "metadata": {},
     "output_type": "execute_result"
    }
   ],
   "source": [
    "P = [[0, 1, 0],\n",
    "     [0, 0, 1],\n",
    "     [1, 0, 0]]\n",
    "\n",
    "mc = qe.MarkovChain(P)\n",
    "mc.period"
   ]
  },
  {
   "cell_type": "markdown",
   "id": "2845d166",
   "metadata": {},
   "source": [
    "更正式地说，一个状态 $x$ 的**周期**是指状态 $x$ 可能返回自身的步数集合的最大公约数\n",
    "\n",
    "$$\n",
    "D(x) := \\{j \\geq 1 : P^j(x, x) > 0\\}\n",
    "$$\n",
    "\n",
    "在上面的例子中，对于每个状态 $x$，我们有 $D(x) = \\{3, 6, 9, \\ldots\\}$，因此周期是3。\n",
    "\n",
    "如果所有状态的周期都是1，我们称这个马尔可夫链为**非周期的**，否则称为**周期的**。\n",
    "\n",
    "例如，下图所示的马尔可夫链是周期的，这是因为状态 $a$ 的周期是2\n",
    "\n",
    "```{figure} /_static/lecture_specific/finite_markov/mc_aperiodicity2.png\n",
    "\n",
    "```\n",
    "\n",
    "我们可以用以下代码确认这个随机矩阵是周期的"
   ]
  },
  {
   "cell_type": "code",
   "execution_count": 18,
   "id": "516c3e88",
   "metadata": {},
   "outputs": [
    {
     "data": {
      "text/plain": [
       "2"
      ]
     },
     "execution_count": 18,
     "metadata": {},
     "output_type": "execute_result"
    }
   ],
   "source": [
    "P = [[0.0, 1.0, 0.0, 0.0],\n",
    "     [0.5, 0.0, 0.5, 0.0],\n",
    "     [0.0, 0.5, 0.0, 0.5],\n",
    "     [0.0, 0.0, 1.0, 0.0]]\n",
    "\n",
    "mc = qe.MarkovChain(P)\n",
    "mc.period"
   ]
  },
  {
   "cell_type": "code",
   "execution_count": 19,
   "id": "5946b116",
   "metadata": {},
   "outputs": [
    {
     "data": {
      "text/plain": [
       "False"
      ]
     },
     "execution_count": 19,
     "metadata": {},
     "output_type": "execute_result"
    }
   ],
   "source": [
    "mc.is_aperiodic"
   ]
  },
  {
   "cell_type": "markdown",
   "id": "07593a76",
   "metadata": {},
   "source": [
    "## {index}`平稳分布 <single: 平稳分布>`\n",
    "\n",
    "```{index} single: 马尔可夫链; 平稳分布\n",
    "```\n",
    "\n",
    "如{eq}`fin_mc_fr`所示，我们可以通过右乘$P$将边际分布向前推进一个时间单位。\n",
    "\n",
    "某些分布在这种更新过程下保持不变 --- 比如，"
   ]
  },
  {
   "cell_type": "code",
   "execution_count": 20,
   "id": "271b2e20",
   "metadata": {},
   "outputs": [
    {
     "data": {
      "text/plain": [
       "array([0.25, 0.75])"
      ]
     },
     "execution_count": 20,
     "metadata": {},
     "output_type": "execute_result"
    }
   ],
   "source": [
    "P = np.array([[0.4, 0.6],\n",
    "              [0.2, 0.8]])\n",
    "ψ = (0.25, 0.75)\n",
    "ψ @ P"
   ]
  },
  {
   "cell_type": "markdown",
   "id": "1e2f0c2c",
   "metadata": {},
   "source": [
    "这种分布被称为**平稳分布**或**不变分布**。\n",
    "\n",
    "(mc_stat_dd)=\n",
    "形式上，如果对于转移矩阵$P$，边际分布$\\psi^*$满足$\\psi^* = \\psi^* P$，则称其为$P$的**平稳分布**。\n",
    "\n",
    "（这与我们在{doc}`AR(1)过程讲座 <intro:ar1_processes>`中学到的平稳性概念是相同的，只是应用在不同的场景中。）\n",
    "\n",
    "从这个等式中，我们可以直接推导出对于所有$t$都有$\\psi^* = \\psi^* P^t$。\n",
    "\n",
    "这告诉我们一个重要事实：如果$X_0$的分布是平稳分布，那么对于所有$t$，$X_t$将具有相同的分布。\n",
    "\n",
    "因此，平稳分布可以自然地解释为**随机稳态**——我们稍后会详细讨论这一点。\n",
    "\n",
    "从数学角度看，当将$P$视为从（行）向量到（行）向量的映射$\\psi \\mapsto \\psi P$时，平稳分布是$P$的不动点。\n",
    "\n",
    "**定理：** 每个随机矩阵$P$至少有一个平稳分布。\n",
    "\n",
    "(我们在此假设状态空间 $S$ 是有限的；如果不是则需要更多假设)\n",
    "\n",
    "对于这个结果的证明，你可以应用[布劳威尔不动点定理](https://baike.baidu.com/item/%E5%B8%83%E5%8A%B3%E5%A8%81%E5%B0%94%E4%B8%8D%E5%8A%A8%E7%82%B9%E5%AE%9A%E7%90%86/12757191)，或参见[EDTC](https://johnstachurski.net/edtc.html)中的定理4.3.5。\n",
    "\n",
    "对于给定的随机矩阵 $P$，可能存在多个平稳分布。\n",
    "\n",
    "* 例如，如果 $P$ 是单位矩阵，那么所有边际分布都是平稳的。\n",
    "\n",
    "要获得唯一的不变分布，转移矩阵 $P$ 必须具有这样的性质：状态空间的任何非平凡子集都不能是**无限持续的**。\n",
    "\n",
    "如果从状态空间的某个子集无法到达其他部分，则该子集是无限持续的。\n",
    "\n",
    "因此，闭集的不存在与不可约性是对应的。\n",
    "\n",
    "这为以下基本定理提供了直观理解。\n",
    "\n",
    "(mc_conv_thm)=\n",
    "\n",
    "**定理。** 如果$P$既是非周期的又是不可约的，那么\n",
    "\n",
    "1. $P$恰好有一个平稳分布$\\psi^*$。\n",
    "1. 对于任何初始边际分布$\\psi_0$，当$t \\to \\infty$时，有$\\| \\psi_0 P^t - \\psi^* \\| \\to 0$。\n",
    "\n",
    "证明可参见{cite}`haggstrom2002finite`的定理5.2。\n",
    "\n",
    "(注意定理的第1部分只需要不可约性，而第2部分需要同时具备不可约性和非周期性)\n",
    "\n",
    "满足该定理条件的随机矩阵有时被称为**一致遍历的**。\n",
    "\n",
    "$P$的每个元素都严格大于零是保证非周期性和不可约性的充分条件。\n",
    "\n",
    "* 试着思考为什么这个结论是正确的。\n",
    "\n",
    "### 示例\n",
    "\n",
    "回想我们之前{ref}`讨论过的 <mc_eg1>`关于某个劳动者就业/失业动态的模型。\n",
    "\n",
    "假设$\\alpha \\in (0,1)$且$\\beta \\in (0,1)$，一致遍历条件是满足的。\n",
    "\n",
    "令 $\\psi^* = (p, 1-p)$ 为平稳分布，其中 $p$ 对应失业状态（状态0）。\n",
    "\n",
    "使用 $\\psi^* = \\psi^* P$ 并经过一些代数运算得到\n",
    "\n",
    "$$\n",
    "p = \\frac{\\beta}{\\alpha + \\beta}\n",
    "$$\n",
    "\n",
    "这个值表示长期来看，劳动者处于失业状态的平均时间比例 -- 我们将在后续章节中详细讨论这一解释。\n",
    "\n",
    "不出所料，当$\\beta \\to 0$时，它趋近于零；当$\\alpha \\to 0$时，它趋近于一。\n",
    "\n",
    "### 计算平稳分布\n",
    "\n",
    "```{index} single: Markov Chains; Calculating Stationary Distributions\n",
    "```\n",
    "\n",
    "如前所述，某些马尔可夫矩阵 $P$ 可能存在多个平稳分布。\n",
    "\n",
    "换句话说，可能有多个概率分布（行向量）$\\psi$ 满足条件 $\\psi = \\psi P$。\n",
    "\n",
    "实际上，如果 $P$ 有两个不同的平稳分布 $\\psi_1$ 和 $\\psi_2$，那么它必然有无限多个平稳分布。这是因为对于任意 $\\lambda \\in [0, 1]$，它们的凸组合\n",
    "\n",
    "$$\n",
    "\\psi_3 := \\lambda \\psi_1 + (1 - \\lambda) \\psi_2\n",
    "$$\n",
    "\n",
    "也是 $P$ 的平稳分布，这一点很容易验证。\n",
    "\n",
    "当我们考虑只有唯一平稳分布的情况时，可以通过求解以下线性方程组来找到它\n",
    "\n",
    "$$\n",
    "\\psi (I_n - P) = 0\n",
    "$$ (eq:eqpsifixed)\n",
    "\n",
    "其中$I_n$是$n \\times n$单位矩阵，我们需要求解非零向量$\\psi$。\n",
    "\n",
    "注意，零向量也满足方程组{eq}`eq:eqpsifixed`，因此我们需要额外的约束条件。\n",
    "\n",
    "由于$\\psi$表示概率分布，我们需要确保它的所有元素非负且和为1。\n",
    "\n",
    "解决这个问题有几种方法：\n",
    "\n",
    "一种方法是将其视为特征值问题：满足$\\psi = \\psi P$的向量$\\psi$实际上是对应于特征值$\\lambda = 1$的左特征向量。\n",
    "\n",
    "[QuantEcon.py](http://quantecon.org/quantecon-py)库提供了一个专门计算随机矩阵平稳分布的高效算法，能够处理各种复杂情况。\n",
    "\n",
    "下面是使用这个库的推荐方法："
   ]
  },
  {
   "cell_type": "code",
   "execution_count": 21,
   "id": "8e811971",
   "metadata": {},
   "outputs": [
    {
     "data": {
      "text/plain": [
       "array([[0.25, 0.75]])"
      ]
     },
     "execution_count": 21,
     "metadata": {},
     "output_type": "execute_result"
    }
   ],
   "source": [
    "P = [[0.4, 0.6],\n",
    "     [0.2, 0.8]]\n",
    "\n",
    "mc = qe.MarkovChain(P)\n",
    "mc.stationary_distributions  # 显示所有平稳分布"
   ]
  },
  {
   "cell_type": "markdown",
   "id": "d4d3eb12",
   "metadata": {},
   "source": [
    "### 收敛到平稳分布\n",
    "\n",
    "```{index} single: 马尔可夫链; 收敛到平稳分布\n",
    "```\n",
    "马尔可夫链收敛定理的第2部分{ref}`如上所述<mc_conv_thm>`表明，无论初始状态如何，$X_t$的边际分布最终都会收敛到平稳分布。\n",
    "\n",
    "这一结果强有力地证明了我们可以将$\\psi^*$理解为系统长期随机行为的稳定状态，无论系统最初处于什么状态。\n",
    "\n",
    "以下图形直观地展示了这一收敛过程"
   ]
  },
  {
   "cell_type": "code",
   "execution_count": 22,
   "id": "27e0b748",
   "metadata": {},
   "outputs": [
    {
     "data": {
      "image/png": "[encoded data removed]",
      "text/plain": [
       "<Figure size 800x600 with 1 Axes>"
      ]
     },
     "metadata": {},
     "output_type": "display_data"
    }
   ],
   "source": [
    "P = ((0.971, 0.029, 0.000),\n",
    "     (0.145, 0.778, 0.077),\n",
    "     (0.000, 0.508, 0.492))\n",
    "P = np.array(P)\n",
    "\n",
    "ψ = (0.0, 0.2, 0.8)        # 初始条件\n",
    "\n",
    "fig = plt.figure(figsize=(8, 6))\n",
    "ax = fig.add_subplot(111, projection='3d')\n",
    "\n",
    "ax.set(xlim=(0, 1), ylim=(0, 1), zlim=(0, 1),\n",
    "       xticks=(0.25, 0.5, 0.75),\n",
    "       yticks=(0.25, 0.5, 0.75),\n",
    "       zticks=(0.25, 0.5, 0.75))\n",
    "\n",
    "x_vals, y_vals, z_vals = [], [], []\n",
    "for t in range(20):\n",
    "    x_vals.append(ψ[0])\n",
    "    y_vals.append(ψ[1])\n",
    "    z_vals.append(ψ[2])\n",
    "    ψ = ψ @ P\n",
    "\n",
    "ax.scatter(x_vals, y_vals, z_vals, c='r', s=60)\n",
    "ax.view_init(30, 210)\n",
    "\n",
    "mc = qe.MarkovChain(P)\n",
    "ψ_star = mc.stationary_distributions[0]\n",
    "ax.scatter(ψ_star[0], ψ_star[1], ψ_star[2], c='k', s=60)\n",
    "\n",
    "plt.show()"
   ]
  },
  {
   "cell_type": "markdown",
   "id": "a73093df",
   "metadata": {},
   "source": [
    "在这个图中：\n",
    "\n",
    "* $P$ 是{ref}`上文讨论的 <mc_eg2>`描述经济衰退和增长的随机矩阵\n",
    "* 最高处的红点代表我们选择的初始概率分布 $\\psi$（表示为 $\\mathbb R^3$ 中的向量）\n",
    "* 其余红点表示随时间演化的分布 $\\psi P^t$（$t = 1, 2, \\ldots$）\n",
    "* 黑点表示平稳分布 $\\psi^*$\n",
    "\n",
    "你可以尝试更改初始分布，观察系统如何始终收敛到相同的平稳分布。\n",
    "\n",
    "(ergodicity)=\n",
    "## {index}`遍历性 <single: Ergodicity>`\n",
    "\n",
    "```{index} single: 马尔可夫链; 遍历性\n",
    "```\n",
    "\n",
    "在不可约性条件下，还有另一个重要的结果：对于所有 $x \\in S$，\n",
    "\n",
    "```{math}\n",
    ":label: llnfmc0\n",
    "\n",
    "\\frac{1}{m} \\sum_{t = 1}^m \\mathbf{1}\\{X_t = x\\}  \\to \\psi^*(x)\n",
    "    \\quad \\text{当 } m \\to \\infty\n",
    "```\n",
    "\n",
    "这里\n",
    "\n",
    "* $\\mathbf{1}\\{X_t = x\\}$ 是指示函数，当 $X_t = x$ 时等于1，否则等于0\n",
    "* 收敛是以概率1发生的（也称为\"几乎必然\"收敛）\n",
    "* 无论初始状态 $X_0$ 如何分布，这个结果都成立\n",
    "\n",
    "直观地说，这个结果表明，随着时间的推移，马尔可夫链在状态 $x$ 停留的时间比例将收敛到 $\\psi^*(x)$。\n",
    "\n",
    "(new_interp_sd)=\n",
    "这给了我们平稳分布的另一种解释方式——它代表了长期内系统在各状态停留的时间比例，前提是{eq}`llnfmc0`中的收敛成立。\n",
    "\n",
    "{eq}`llnfmc0`实际上是马尔可夫链大数定律的一个特例 — 有兴趣的读者可以参考[EDTC](http://johnstachurski.net/edtc.html)第4.3.4节获取更多细节。\n",
    "\n",
    "(mc_eg1-2)=\n",
    "### 示例\n",
    "\n",
    "让我们回到之前{ref}`讨论过的<mc_eg1-1>`就业/失业模型。\n",
    "\n",
    "假设 $\\alpha \\in (0,1)$ 且 $\\beta \\in (0,1)$，这确保了马尔可夫链的不可约性和非周期性。\n",
    "\n",
    "我们已经知道平稳分布是 $(p, 1-p)$，其中\n",
    "\n",
    "$$\n",
    "p = \\frac{\\beta}{\\alpha + \\beta}\n",
    "$$\n",
    "\n",
    "从横截面角度看，$p$ 表示整个人口中失业者的比例。\n",
    "\n",
    "而根据刚才介绍的遍历性结果，$p$ 也表示单个劳动者长期来看处于失业状态的时间占比。\n",
    "\n",
    "这意味着，从长期来看，群体的横截面平均值与个体的时间序列平均值是一致的。\n",
    "\n",
    "这正是遍历性的核心含义。\n",
    "\n",
    "(finite_mc_expec)=\n",
    "## 计算期望值\n",
    "\n",
    "```{index} single: 马尔可夫链; 预测未来值\n",
    "```\n",
    "\n",
    "我们经常需要计算 $X_t$ 函数的期望值，形式如下：\n",
    "\n",
    "```{math}\n",
    ":label: mc_une\n",
    "\n",
    "\\mathbb E [ h(X_t) ]\n",
    "```\n",
    "\n",
    "以及条件期望值，如：\n",
    "\n",
    "```{math}\n",
    ":label: mc_cce\n",
    "\n",
    "\\mathbb E [ h(X_{t + k})  \\mid X_t = x]\n",
    "```\n",
    "\n",
    "其中：\n",
    "\n",
    "* $\\{X_t\\}$ 是由 $n \\times n$ 随机矩阵 $P$ 生成的马尔可夫链\n",
    "* $h$ 是给定函数，从矩阵代数的角度看，我们将其视为列向量\n",
    "\n",
    "$$\n",
    "h\n",
    "= \\left(\n",
    "\\begin{array}{c}\n",
    "    h(x_1) \\\\\n",
    "    \\vdots \\\\\n",
    "    h(x_n)\n",
    "\\end{array}\n",
    "  \\right)\n",
    "$$\n",
    "\n",
    "计算无条件期望值 {eq}`mc_une` 相对简单。\n",
    "\n",
    "我们只需对 $X_t$ 的边际分布求和即可\n",
    "\n",
    "$$\n",
    "\\mathbb E [ h(X_t) ]\n",
    "= \\sum_{x \\in S} (\\psi P^t)(x) h(x)\n",
    "$$\n",
    "\n",
    "这里 $\\psi$ 是 $X_0$ 的分布。\n",
    "\n",
    "由于 $\\psi$ 以及 $\\psi P^t$ 都是行向量，我们也可以简写为\n",
    "\n",
    "$$\n",
    "\\mathbb E [ h(X_t) ]\n",
    "=  \\psi P^t h\n",
    "$$\n",
    "\n",
    "对于条件期望 {eq}`mc_cce`，我们需要对给定 $X_t = x$ 时 $X_{t + k}$ 的条件分布求和。\n",
    "\n",
    "我们已经知道这个条件分布是 $P^k(x, \\cdot)$，因此\n",
    "\n",
    "```{math}\n",
    ":label: mc_cce2\n",
    "\n",
    "\\mathbb E [ h(X_{t + k})  \\mid X_t = x]\n",
    "= (P^k h)(x)\n",
    "```\n",
    "\n",
    "向量 $P^k h$ 包含了所有状态 $x$ 的条件期望 $\\mathbb E [ h(X_{t + k})  \\mid X_t = x]$。\n",
    "\n",
    "### 迭代期望法则\n",
    "\n",
    "**迭代期望法则**指出\n",
    "\n",
    "$$\n",
    "\\mathbb E \\left[ \\mathbb E [ h(X_{t + k})  \\mid X_t = x] \\right] = \\mathbb E [  h(X_{t + k}) ]\n",
    "$$\n",
    "\n",
    "其中左边的外部期望 $ \\mathbb E$ 是关于 $X_t$ 的边际分布 $\\psi_t$ 的（参见方程 {eq}`mdfmc2`）。\n",
    "\n",
    "为了验证这个法则，我们使用方程 {eq}`mc_cce2` 将 $ (P^k h)(x)$ 代入 $E [ h(X_{t + k})  \\mid X_t = x]$，得到\n",
    "\n",
    "$$\n",
    "\\mathbb E \\left[ \\mathbb E [ h(X_{t + k})  \\mid X_t = x] \\right] = \\psi_t P^k h,\n",
    "$$\n",
    "\n",
    "注意到 $\\psi_t P^k h = \\psi_{t+k} h = \\mathbb E [  h(X_{t + k}) ] $。\n",
    "\n",
    "### 几何和的期望\n",
    "\n",
    "有时我们需要计算几何和的期望值，例如 $\\sum_t \\beta^t h(X_t)$。\n",
    "\n",
    "根据前面的讨论，对于给定的初始状态 $X_t = x$，这个几何和的条件期望可以表示为\n",
    "\n",
    "$$\n",
    "\\mathbb{E} \\left[\n",
    "        \\sum_{j=0}^\\infty \\beta^j h(X_{t+j}) \\mid X_t = x\n",
    "    \\right]\n",
    "= [(I - \\beta P)^{-1} h](x)\n",
    "$$\n",
    "\n",
    "其中\n",
    "\n",
    "$$\n",
    "(I - \\beta P)^{-1}  = I + \\beta P + \\beta^2 P^2 + \\cdots\n",
    "$$\n",
    "\n",
    "乘以 $(I - \\beta P)^{-1}$ 相当于应用**预解算子**（resolvent operator）。\n",
    "\n",
    "## 练习\n",
    "\n",
    "```{exercise}\n",
    ":label: fm_ex1\n",
    "\n",
    "根据{ref}`上述讨论 <mc_eg1-2>`，如果一个劳动者的就业动态遵循随机矩阵\n",
    "\n",
    "$$\n",
    "P\n",
    "= \\left(\n",
    "\\begin{array}{cc}\n",
    "    1 - \\alpha & \\alpha \\\\\n",
    "    \\beta & 1 - \\beta\n",
    "\\end{array}\n",
    "  \\right)\n",
    "$$\n",
    "\n",
    "其中 $\\alpha \\in (0,1)$ 且 $\\beta \\in (0,1)$，那么从长期来看，失业时间的比例将是\n",
    "\n",
    "$$\n",
    "p := \\frac{\\beta}{\\alpha + \\beta}\n",
    "$$\n",
    "\n",
    "换句话说，如果 $\\{X_t\\}$ 表示就业的马尔可夫链，那么当 $m \\to \\infty$ 时，$\\bar X_m \\to p$，其中\n",
    "\n",
    "$$\n",
    "\\bar X_m := \\frac{1}{m} \\sum_{t = 1}^m \\mathbf{1}\\{X_t = 0\\}\n",
    "$$\n",
    "\n",
    "在本练习中，请通过模拟计算大样本量$m$下的 $\\bar X_m$ 值，并验证它确实收敛到理论值 $p$。\n",
    "\n",
    "你会发现，只要参数 $\\alpha$ 和 $\\beta$ 都严格在 0 和 1 之间，无论从什么初始状态开始，这个收敛结果都成立。\n",
    "```\n",
    "\n",
    "\n",
    "```{solution-start} fm_ex1\n",
    ":class: dropdown\n",
    "```\n",
    "\n",
    "让我们通过模拟来验证这个结果。\n",
    "\n",
    "下面的图表展示了从两种不同初始状态开始时，$\\bar X_m - p$ 随时间的变化。\n",
    "\n",
    "我们可以看到，无论初始状态如何，随着样本量 $m$ 的增加，$\\bar X_m$ 都会收敛到理论值 $p$，即 $\\bar X_m - p$ 趋近于零。"
   ]
  },
  {
   "cell_type": "code",
   "execution_count": 23,
   "id": "155bb9f9",
   "metadata": {},
   "outputs": [
    {
     "data": {
      "image/png": "[encoded data removed]",
      "text/plain": [
       "<Figure size 900x600 with 1 Axes>"
      ]
     },
     "metadata": {},
     "output_type": "display_data"
    }
   ],
   "source": [
    "α = β = 0.1\n",
    "N = 10000\n",
    "p = β / (α + β)\n",
    "\n",
    "P = ((1 - α,       α),               # 注意：P和p是不同的\n",
    "     (    β,   1 - β))\n",
    "mc = MarkovChain(P)\n",
    "\n",
    "fig, ax = plt.subplots(figsize=(9, 6))\n",
    "ax.set_ylim(-0.25, 0.25)\n",
    "ax.grid()\n",
    "ax.hlines(0, 0, N, lw=2, alpha=0.6)   # 在零处画水平线\n",
    "\n",
    "for x0, col in ((0, 'blue'), (1, 'green')):\n",
    "\n",
    "    # 生成从x0开始的劳动者的时间序列\n",
    "    X = mc.simulate(N, init=x0)\n",
    "\n",
    "    # 计算每个n的失业时间比例\n",
    "    X_bar = (X == 0).cumsum() / (1 + np.arange(N, dtype=float))\n",
    "\n",
    "    # 绘图\n",
    "    ax.fill_between(range(N), np.zeros(N), X_bar - p, color=col, alpha=0.1)\n",
    "    ax.plot(X_bar - p, color=col, label=fr'$X_0 = \\, {x0} $')\n",
    "    ax.plot(X_bar - p, 'k-', alpha=0.6)\n",
    "\n",
    "ax.legend(loc='upper right')\n",
    "plt.show()"
   ]
  },
  {
   "cell_type": "markdown",
   "id": "d872754e",
   "metadata": {},
   "source": [
    "```{solution-end}\n",
    "```\n",
    "\n",
    "```{exercise-start}\n",
    ":label: fm_ex2\n",
    "```\n",
    "\n",
    "*排名*是经济学和众多学科都非常关注的话题。\n",
    "\n",
    "接下来，我们将探讨一个极其实用且重要的排名问题——搜索引擎如何对网页进行排名。\n",
    "\n",
    "（虽然这个问题并非源自经济学，但搜索排名系统与某些竞争均衡中的价格机制有着深层次的联系——详见{cite}`DLP2013`。）\n",
    "\n",
    "要理解这个问题，我们可以思考一下当你在搜索引擎中输入查询时返回的结果。\n",
    "\n",
    "对于用户来说，理想的搜索体验应该是：\n",
    "\n",
    "1. 获得大量与查询相关的准确结果\n",
    "1. 这些结果按照某种\"重要性\"指标排序呈现\n",
    "\n",
    "我们现在要讨论的正是如何根据重要性指标对网页进行排名的问题。\n",
    "\n",
    "Google的创始人拉里·佩奇和谢尔盖·布林为解决这个问题开发了一种方法，这就是著名的[PageRank](https://baike.baidu.com/item/google%20pagerank/2465380)算法。\n",
    "\n",
    "为了说明这个概念，请看下面的图表\n",
    "\n",
    "```{figure} /_static/lecture_specific/finite_markov/web_graph.png\n",
    "```\n",
    "\n",
    "假设这是一个简化的万维网模型，其中\n",
    "\n",
    "* 每个节点表示一个网页\n",
    "* 每个箭头表示一个网页链接到另一个网页\n",
    "\n",
    "我们来思考一下：什么样的页面才是真正重要的，也就是对搜索引擎用户最有价值的页面？\n",
    "\n",
    "一个直观的衡量标准是看一个页面有多少入站链接——这在某种程度上反映了它的受欢迎度。\n",
    "\n",
    "从图中可以看出，`m`和`j`各有5个入站链接，按这个标准应该是最重要的页面。\n",
    "\n",
    "但这里有个问题：如果链接到`m`的那些页面本身并不重要呢？\n",
    "\n",
    "这就引出了一个更合理的想法：我们应该根据链接源页面的重要性来给入站链接赋予不同的权重。\n",
    "\n",
    "这正是PageRank算法的核心思想。\n",
    "\n",
    "下面我们用一种简化的方式来解释这个算法的基本原理。\n",
    "\n",
    "假设$j$是任意一个页面，$r_j$是它的排名值，我们定义\n",
    "\n",
    "$$\n",
    "r_j = \\sum_{i \\in L_j} \\frac{r_i}{\\ell_i}\n",
    "$$\n",
    "\n",
    "其中\n",
    "\n",
    "* $\\ell_i$ 是页面 $i$ 的出站链接总数\n",
    "* $L_j$ 是所有链接到页面 $j$ 的页面集合\n",
    "\n",
    "这个公式实际上是一个加权的入站链接计数，其中每个链接的权重取决于源页面的重要性（即$r_i$），并通过源页面的出链数量（即$\\ell_i$）进行归一化。\n",
    "\n",
    "这种定义方式自然引导我们回到马尔可夫链的概念。\n",
    "\n",
    "让我们定义矩阵 $P$，其中 $P(i, j) = \\mathbf 1\\{i \\to j\\} / \\ell_i$。这里 $\\mathbf 1\\{i \\to j\\} = 1$ 表示页面 $i$ 链接到页面 $j$，否则为0。\n",
    "\n",
    "如果每个页面至少有一个出站链接，那么 $P$ 就是一个随机矩阵。\n",
    "\n",
    "基于 $P$ 的定义，我们可以重写排名公式：\n",
    "\n",
    "$$\n",
    "r_j\n",
    "= \\sum_{i \\in L_j} \\frac{r_i}{\\ell_i}\n",
    "= \\sum_{\\text{所有 } i} \\mathbf 1\\{i \\to j\\} \\frac{r_i}{\\ell_i}\n",
    "= \\sum_{\\text{所有 } i} P(i, j) r_i\n",
    "$$\n",
    "\n",
    "如果我们将排名表示为行向量 $r$，那么上式可以简写为 $r = r P$。\n",
    "\n",
    "这表明排名向量 $r$ 正是随机矩阵 $P$ 的平稳分布。\n",
    "\n",
    "从直观上理解，$P(i, j)$ 可以被视为从页面 $i$ \"跳转\"到页面 $j$ 的概率：\n",
    "\n",
    "* 如果页面 $i$ 有 $k$ 个出站链接，且其中一个指向 $j$，则 $P(i, j) = 1/k$\n",
    "* 如果页面 $i$ 没有链接到 $j$，则 $P(i, j) = 0$\n",
    "\n",
    "这描述了一个网络浏览者的随机漫步过程——在每个页面上随机点击一个链接继续浏览。\n",
    "\n",
    "由于 $r$ 是 $P$ 的平稳分布，假设一致遍历性成立，我们可以{ref}`解读 <new_interp_sd>` $r_j$ 为一个长期随机浏览者在页面 $j$ 上停留的时间比例。\n",
    "\n",
    "你的练习是将这个排名算法应用到上图所示的网络中，并按排名从高到低列出所有页面。\n",
    "\n",
    "图中共有14个节点（网页），分别标记为 `a` 到 `n`。\n",
    "\n",
    "数据文件中的每一行具有以下格式：\n",
    "\n",
    "```{code-block} none\n",
    "d -> h;\n",
    "```\n",
    "\n",
    "这说明了存在一个从`d`到`h`的链接。\n",
    "\n",
    "下面显示了这个图的数据，当单元格执行时，这些数据被读入名为`web_graph_data.txt`的文件中。"
   ]
  },
  {
   "cell_type": "code",
   "execution_count": 24,
   "id": "f30cf78e",
   "metadata": {},
   "outputs": [
    {
     "name": "stdout",
     "output_type": "stream",
     "text": [
      "Overwriting web_graph_data.txt\n"
     ]
    }
   ],
   "source": [
    "%%file web_graph_data.txt\n",
    "a -> d;\n",
    "a -> f;\n",
    "b -> j;\n",
    "b -> k;\n",
    "b -> m;\n",
    "c -> c;\n",
    "c -> g;\n",
    "c -> j;\n",
    "c -> m;\n",
    "d -> f;\n",
    "d -> h;\n",
    "d -> k;\n",
    "e -> d;\n",
    "e -> h;\n",
    "e -> l;\n",
    "f -> a;\n",
    "f -> b;\n",
    "f -> j;\n",
    "f -> l;\n",
    "g -> b;\n",
    "g -> j;\n",
    "h -> d;\n",
    "h -> g;\n",
    "h -> l;\n",
    "h -> m;\n",
    "i -> g;\n",
    "i -> h;\n",
    "i -> n;\n",
    "j -> e;\n",
    "j -> i;\n",
    "j -> k;\n",
    "k -> n;\n",
    "l -> m;\n",
    "m -> g;\n",
    "n -> c;\n",
    "n -> j;\n",
    "n -> m;"
   ]
  },
  {
   "cell_type": "markdown",
   "id": "bab412f6",
   "metadata": {},
   "source": [
    "要解析这个文件并提取相关信息，你可以使用[正则表达式](https://docs.python.org/3/library/re.html)。\n",
    "\n",
    "下面的代码片段提供了一个关于如何实现的提示"
   ]
  },
  {
   "cell_type": "code",
   "execution_count": 25,
   "id": "5ddbe672",
   "metadata": {},
   "outputs": [
    {
     "data": {
      "text/plain": [
       "['x', 'y', 'z']"
      ]
     },
     "execution_count": 25,
     "metadata": {},
     "output_type": "execute_result"
    }
   ],
   "source": [
    "import re\n",
    "re.findall(r'\\w', 'x +++ y ****** z')  # \\w 匹配字母数字字符"
   ]
  },
  {
   "cell_type": "code",
   "execution_count": 26,
   "id": "86248a29",
   "metadata": {},
   "outputs": [
    {
     "data": {
      "text/plain": [
       "['a', 'b', 'c']"
      ]
     },
     "execution_count": 26,
     "metadata": {},
     "output_type": "execute_result"
    }
   ],
   "source": [
    "re.findall(r'\\w', 'a ^^ b &&& $$ c')"
   ]
  },
  {
   "cell_type": "markdown",
   "id": "7423e76a",
   "metadata": {},
   "source": [
    "当你解出排名时，你会发现实际上`g`是排名最高的节点，而`a`是排名最低的。\n",
    "\n",
    "```{exercise-end}\n",
    "```\n",
    "\n",
    "\n",
    "```{solution-start} fm_ex2\n",
    ":class: dropdown\n",
    "```\n",
    "\n",
    "这是一个解决方案："
   ]
  },
  {
   "cell_type": "code",
   "execution_count": 27,
   "id": "8a5dcf8d",
   "metadata": {},
   "outputs": [
    {
     "name": "stdout",
     "output_type": "stream",
     "text": [
      "排名\\n ***\n",
      "g: 0.1607\n",
      "j: 0.1594\n",
      "m: 0.1195\n",
      "n: 0.1088\n",
      "k: 0.09106\n",
      "b: 0.08326\n",
      "e: 0.05312\n",
      "i: 0.05312\n",
      "c: 0.04834\n",
      "h: 0.0456\n",
      "l: 0.03202\n",
      "d: 0.03056\n",
      "f: 0.01164\n",
      "a: 0.002911\n"
     ]
    }
   ],
   "source": [
    "\"\"\"\n",
    "返回按排名排序的页面列表\n",
    "\"\"\"\n",
    "import re\n",
    "from operator import itemgetter\n",
    "\n",
    "infile = 'web_graph_data.txt'\n",
    "alphabet = 'abcdefghijklmnopqrstuvwxyz'\n",
    "\n",
    "n = 14 # 网页（节点）总数\n",
    "\n",
    "# 创建一个表示链接存在的矩阵Q\n",
    "#  * Q[i, j] = 1 表示从i到j存在链接\n",
    "#  * Q[i, j] = 0 表示不存在链接\n",
    "Q = np.zeros((n, n), dtype=int)\n",
    "with open(infile) as f:\n",
    "    edges = f.readlines()\n",
    "for edge in edges:\n",
    "    from_node, to_node = re.findall(r'\\w', edge)\n",
    "    i, j = alphabet.index(from_node), alphabet.index(to_node)\n",
    "    Q[i, j] = 1\n",
    "\n",
    "# 创建相应的马尔可夫矩阵P\n",
    "P = np.empty((n, n))\n",
    "for i in range(n):\n",
    "    P[i, :] = Q[i, :] / Q[i, :].sum()\n",
    "mc = MarkovChain(P)\n",
    "\n",
    "# 计算平稳分布r\n",
    "r = mc.stationary_distributions[0]\n",
    "ranked_pages = {alphabet[i] : r[i] for i in range(n)}\n",
    "\n",
    "# 输出解，从最高排名到最低排名排序\n",
    "print(r'排名\\n ***')\n",
    "for name, rank in sorted(ranked_pages.items(), key=itemgetter(1), reverse=1):\n",
    "    print(f'{name}: {rank:.4}')"
   ]
  },
  {
   "cell_type": "markdown",
   "id": "7d8c7d5d",
   "metadata": {},
   "source": [
    "```{solution-end}\n",
    "```\n",
    "\n",
    "\n",
    "```{exercise}\n",
    ":label: fm_ex3\n",
    "\n",
    "在数值计算中，有时用离散模型替代连续模型会比较方便。\n",
    "\n",
    "特别是，马尔可夫链经常被用作如下AR(1)过程的离散近似：\n",
    "\n",
    "$$\n",
    "y_{t+1} = \\rho y_t + u_{t+1}\n",
    "$$\n",
    "\n",
    "这里假设${u_t}$是独立同分布的，且服从$N(0, \\sigma_u^2)$。\n",
    "\n",
    "$\\{ y_t \\}$的平稳概率分布的方差为\n",
    "\n",
    "$$\n",
    "\\sigma_y^2 := \\frac{\\sigma_u^2}{1-\\rho^2}\n",
    "$$\n",
    "\n",
    "Tauchen方法{cite}`Tauchen1986`是将这个连续状态过程近似为有限状态马尔可夫链最常用的方法。\n",
    "\n",
    "[QuantEcon.py](http://quantecon.org/quantecon-py)中已经有了这个程序，但让我们作为练习自己写一个版本。\n",
    "\n",
    "作为第一步，我们选择：\n",
    "\n",
    "* $n$，离散近似的状态数\n",
    "* $m$，一个用于参数化状态空间宽度的整数\n",
    "\n",
    "接下来，我们创建一个状态空间$\\{x_0, \\ldots, x_{n-1}\\} \\subset \\mathbb R$\n",
    "\n",
    "以及一个随机 $n \\times n$ 矩阵 $P$，满足以下条件：\n",
    "\n",
    "* $x_0 = - m \\, \\sigma_y$\n",
    "* $x_{n-1} = m \\, \\sigma_y$\n",
    "* $x_{i+1} = x_i + s$ 其中 $s = (x_{n-1} - x_0) / (n - 1)$\n",
    "\n",
    "令 $F$ 为正态分布 $N(0, \\sigma_u^2)$ 的累积分布函数。\n",
    "\n",
    "$P(x_i, x_j)$ 的值是为了近似 AR(1) 过程而计算的 --- 省略推导过程，规则如下：\n",
    "\n",
    "1. 如果 $j = 0$，则设\n",
    "\n",
    "   $$\n",
    "   P(x_i, x_j) = P(x_i, x_0) = F(x_0-\\rho x_i + s/2)\n",
    "   $$\n",
    "\n",
    "1. 如果 $j = n-1$，则设\n",
    "\n",
    "   $$\n",
    "   P(x_i, x_j) = P(x_i, x_{n-1}) = 1 - F(x_{n-1} - \\rho x_i - s/2)\n",
    "   $$\n",
    "\n",
    "1. 否则，设\n",
    "\n",
    "   $$\n",
    "   P(x_i, x_j) = F(x_j - \\rho x_i + s/2) - F(x_j - \\rho x_i - s/2)\n",
    "   $$\n",
    "\n",
    "练习要求编写一个函数 `approx_markov(rho, sigma_u, m=3, n=7)`，返回\n",
    "$\\{x_0, \\ldots, x_{n-1}\\} \\subset \\mathbb R$ 和 $n \\times n$ 矩阵\n",
    "$P$，如上所述。\n",
    "\n",
    "* 更好的方法是编写一个函数，返回[QuantEcon.py](http://quantecon.org/quantecon-py)的MarkovChain类的实例。\n",
    "```\n",
    "\n",
    "```{solution} fm_ex3\n",
    ":class: dropdown\n",
    "\n",
    "可以在[QuantEcon.py](http://quantecon.org/quantecon-py)库中找到解决方案，\n",
    "具体可见[这里](https://github.com/QuantEcon/QuantEcon.py/blob/master/quantecon/markov/approximation.py)。\n",
    "\n",
    "```\n",
    "\n",
    "[^pm]: 提示：首先证明如果P和Q是随机矩阵，那么它们的乘积也是随机矩阵——要检查行和，试着用一列1向量进行后乘。最后，用归纳法论证P^n是随机矩阵。"
   ]
  }
 ],
 "metadata": {
  "jupytext": {
   "text_representation": {
    "extension": ".md",
    "format_name": "myst",
    "format_version": 0.13,
    "jupytext_version": "1.16.4"
   }
  },
  "kernelspec": {
   "display_name": "Python 3 (ipykernel)",
   "language": "python",
   "name": "python3"
  },
  "language_info": {
   "codemirror_mode": {
    "name": "ipython",
    "version": 3
   },
   "file_extension": ".py",
   "mimetype": "text/x-python",
   "name": "python",
   "nbconvert_exporter": "python",
   "pygments_lexer": "ipython3",
   "version": "3.12.7"
  },
  "source_map": [
   12,
   31,
   35,
   55,
   66,
   240,
   244,
   252,
   275,
   279,
   282,
   290,
   293,
   303,
   309,
   313,
   317,
   319,
   329,
   334,
   338,
   340,
   344,
   346,
   544,
   551,
   562,
   569,
   573,
   575,
   595,
   602,
   622,
   632,
   634,
   645,
   650,
   757,
   763,
   775,
   806,
   1019,
   1048,
   1153,
   1192,
   1198,
   1203,
   1205,
   1219,
   1256
  ]
 },
 "nbformat": 4,
 "nbformat_minor": 5
}