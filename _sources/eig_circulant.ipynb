{
 "cells": [
  {
   "cell_type": "markdown",
   "id": "f003ab20",
   "metadata": {},
   "source": [
    "# 循环矩阵\n",
    "\n",
    "## 概述\n",
    "\n",
    "本讲座介绍循环矩阵及其一些性质。\n",
    "\n",
    "循环矩阵具有特殊的结构，这种结构将它们与一些有用的概念联系起来，包括：\n",
    "\n",
    "  * 卷积\n",
    "  * 傅里叶变换\n",
    "  * 置换矩阵\n",
    "\n",
    "由于这些联系，循环矩阵在机器学习中被广泛使用，例如在图像处理中。\n",
    "\n",
    "我们首先导入一些Python包："
   ]
  },
  {
   "cell_type": "code",
   "execution_count": null,
   "id": "e27e864c",
   "metadata": {},
   "outputs": [],
   "source": [
    "import numpy as np\n",
    "from numba import jit\n",
    "import matplotlib.pyplot as plt\n",
    "import matplotlib as mpl\n",
    "FONTPATH = \"fonts/SourceHanSerifSC-SemiBold.otf\"\n",
    "mpl.font_manager.fontManager.addfont(FONTPATH)\n",
    "plt.rcParams['font.family'] = ['Source Han Serif SC']\n"
   ]
  },
  {
   "cell_type": "code",
   "execution_count": null,
   "id": "f446f3b4",
   "metadata": {},
   "outputs": [],
   "source": [
    "np.set_printoptions(precision=3, suppress=True)"
   ]
  },
  {
   "cell_type": "markdown",
   "id": "7b87242b",
   "metadata": {},
   "source": [
    "## 构造循环矩阵\n",
    "\n",
    "要构造一个 $N \\times N$ 的循环矩阵，我们只需要第一行，比如：\n",
    "\n",
    "$$ \\begin{bmatrix} c_{0} & c_{1} & c_{2} & c_{3} & c_{4} & \\cdots & c_{N-1} \\end{bmatrix} .$$\n",
    "\n",
    "设置第一行的元素后，循环矩阵的其余行按以下方式确定：\n",
    "\n",
    "$$\n",
    "C=\\left[\\begin{array}{ccccccc}\n",
    "c_{0} & c_{1} & c_{2} & c_{3} & c_{4} & \\cdots & c_{N-1}\\\\\n",
    "c_{N-1} & c_{0} & c_{1} & c_{2} & c_{3} & \\cdots & c_{N-2}\\\\\n",
    "c_{N-2} & c_{N-1} & c_{0} & c_{1} & c_{2} & \\cdots & c_{N-3}\\\\\n",
    "\\vdots & \\vdots & \\vdots & \\vdots & \\vdots & \\vdots & \\vdots\\\\\n",
    "c_{3} & c_{4} & c_{5} & c_{6} & c_{7} & \\cdots & c_{2}\\\\\n",
    "c_{2} & c_{3} & c_{4} & c_{5} & c_{6} & \\cdots & c_{1}\\\\\n",
    "c_{1} & c_{2} & c_{3} & c_{4} & c_{5} & \\cdots & c_{0}\n",
    "\\end{array}\\right]\n",
    "$$ (eqn:circulant)\n",
    "\n",
    "也可以通过创建上述矩阵的转置来构造循环矩阵，在这种情况下只需要指定第一列。\n",
    "\n",
    "让我们编写一些Python代码来生成循环矩阵："
   ]
  },
  {
   "cell_type": "code",
   "execution_count": null,
   "id": "380be4da",
   "metadata": {},
   "outputs": [],
   "source": [
    "@jit\n",
    "def construct_cirlulant(row):\n",
    "\n",
    "    N = row.size\n",
    "\n",
    "    C = np.empty((N, N))\n",
    "\n",
    "    for i in range(N):\n",
    "\n",
    "        C[i, i:] = row[:N-i]\n",
    "        C[i, :i] = row[N-i:]\n",
    "\n",
    "    return C"
   ]
  },
  {
   "cell_type": "code",
   "execution_count": null,
   "id": "5df49628",
   "metadata": {},
   "outputs": [],
   "source": [
    "# 一个简单的例子，当 N = 3 时\n",
    "construct_cirlulant(np.array([1., 2., 3.]))"
   ]
  },
  {
   "cell_type": "markdown",
   "id": "246aca8e",
   "metadata": {},
   "source": [
    "### 循环矩阵的一些性质\n",
    "\n",
    "以下是一些有用的性质：\n",
    "\n",
    "假设 $A$ 和 $B$ 都是循环矩阵。那么可以验证：\n",
    "\n",
    " * 循环矩阵的转置是循环矩阵\n",
    " * $A + B$ 是循环矩阵\n",
    " * $A B$ 是循环矩阵\n",
    " * $A B = B A$\n",
    "\n",
    "现在考虑一个第一行为\n",
    "\n",
    "  $$  c = \\begin{bmatrix} c_0 & c_1 & \\cdots & c_{N-1} \\end{bmatrix} $$\n",
    "\n",
    "的循环矩阵，并考虑一个向量\n",
    "\n",
    " $$ a = \\begin{bmatrix} a_0 & a_1 & \\cdots  &  a_{N-1} \\end{bmatrix} $$\n",
    "\n",
    "向量 $c$ 和 $a$ 的**卷积**定义为向量 $b = c * a $，其分量为\n",
    "\n",
    "$$\n",
    " b_k = \\sum_{i=0}^{n-1} c_{k-i} a_i\n",
    "$$ (eqn:conv)\n",
    "\n",
    "我们使用 $*$ 来表示通过方程 {eq}`eqn:conv` 描述的**卷积**计算。\n",
    "\n",
    "可以验证向量 $b$ 满足\n",
    "\n",
    "$$ b = C^T a  $$\n",
    "\n",
    "其中 $C^T$ 是方程 {eq}`eqn:circulant` 中定义的循环矩阵的转置。\n",
    "\n",
    "## 与置换矩阵的联系\n",
    "\n",
    "构造循环矩阵的一个好方法是使用**置换矩阵**。\n",
    "\n",
    "在定义置换**矩阵**之前，我们先定义**置换**。\n",
    "\n",
    "非负整数集 $\\{0, 1, 2, \\ldots \\}$ 的**置换**是该集合到自身的一一映射。\n",
    "\n",
    "集合 $\\{1, 2, \\ldots, n\\}$ 的置换重新排列了该集合中的 $n$ 个整数。\n",
    "\n",
    "[置换矩阵](https://mathworld.wolfram.com/PermutationMatrix.html)是通过根据数字 $1$ 到 $n$ 的置换来置换 $n \\times n$ 单位矩阵的行而获得的。\n",
    "\n",
    "因此，每一行和每一列都恰好包含一个 $1$，其余位置都是 $0$。\n",
    "\n",
    "每个置换都对应一个唯一的置换矩阵。\n",
    "\n",
    "例如，$N \\times N$ 矩阵\n",
    "\n",
    "$$\n",
    "P=\\left[\\begin{array}{cccccc}\n",
    "0 & 1 & 0 & 0 & \\cdots & 0\\\\\n",
    "0 & 0 & 1 & 0 & \\cdots & 0\\\\\n",
    "0 & 0 & 0 & 1 & \\cdots & 0\\\\\n",
    "\\vdots & \\vdots & \\vdots & \\vdots & \\vdots & \\vdots\\\\\n",
    "0 & 0 & 0 & 0 & \\cdots & 1\\\\\n",
    "1 & 0 & 0 & 0 & \\cdots & 0\n",
    "\\end{array}\\right]\n",
    "$$ (eqn:exampleP)\n",
    "\n",
    "作为一个**循环移位**算子，当应用于 $N \\times 1$ 向量 $h$ 时，将第 $2$ 行到第 $N$ 行的元素向上移动一行，并将第 $1$ 行的元素移动到第 $N$ 行。\n",
    "\n",
    "方程 {eq}`eqn:exampleP` 中定义的循环移位置换矩阵 $P$ 的特征值可以通过构造\n",
    "\n",
    "$$\n",
    "P-\\lambda I=\\left[\\begin{array}{cccccc}\n",
    "-\\lambda & 1 & 0 & 0 & \\cdots & 0\\\\\n",
    "0 & -\\lambda & 1 & 0 & \\cdots & 0\\\\\n",
    "0 & 0 & -\\lambda & 1 & \\cdots & 0\\\\\n",
    "\\vdots & \\vdots & \\vdots & \\vdots & \\vdots & \\vdots\\\\\n",
    "0 & 0 & 0 & 0 & \\cdots & 1\\\\\n",
    "1 & 0 & 0 & 0 & \\cdots & -\\lambda\n",
    "\\end{array}\\right]\n",
    "$$\n",
    "\n",
    "并求解\n",
    "\n",
    "$$\n",
    "\\textrm{det}(P - \\lambda I) = (-1)^N \\lambda^{N}-1=0\n",
    "$$\n",
    "\n",
    "来计算。\n",
    "\n",
    "特征值 $\\lambda_i$ 可以是复数。\n",
    "\n",
    "这些特征值 $\\lambda_i$ 的模 $\\mid \\lambda_i \\mid$ 都等于 $1$。\n",
    "\n",
    "因此，方程 {eq}`eqn:exampleP` 中定义的置换矩阵 $P$ 的**奇异值**都等于 $1$。\n",
    "\n",
    "可以验证置换矩阵是正交矩阵：\n",
    "\n",
    "$$\n",
    "P P' = I\n",
    "$$\n",
    "\n",
    "## Python示例\n",
    "\n",
    "让我们编写一些Python代码来说明这些概念："
   ]
  },
  {
   "cell_type": "code",
   "execution_count": null,
   "id": "0b41fcdd",
   "metadata": {},
   "outputs": [],
   "source": [
    "@jit\n",
    "def construct_P(N):\n",
    "\n",
    "    P = np.zeros((N, N))\n",
    "\n",
    "    for i in range(N-1):\n",
    "        P[i, i+1] = 1\n",
    "    P[-1, 0] = 1\n",
    "\n",
    "    return P"
   ]
  },
  {
   "cell_type": "code",
   "execution_count": null,
   "id": "42b55343",
   "metadata": {},
   "outputs": [],
   "source": [
    "P4 = construct_P(4)\n",
    "P4"
   ]
  },
  {
   "cell_type": "code",
   "execution_count": null,
   "id": "8a8d7d33",
   "metadata": {},
   "outputs": [],
   "source": [
    "# 计算特征值和特征向量\n",
    "𝜆, Q = np.linalg.eig(P4)"
   ]
  },
  {
   "cell_type": "code",
   "execution_count": null,
   "id": "329b04c4",
   "metadata": {},
   "outputs": [],
   "source": [
    "for i in range(4):\n",
    "    print(f'𝜆{i} = {𝜆[i]:.1f} \\nvec{i} = {Q[i, :]}\\n')"
   ]
  },
  {
   "cell_type": "markdown",
   "id": "b871f6c3",
   "metadata": {},
   "source": [
    "在下面的图中，我们将在复平面上展示移位置换矩阵的特征值。\n",
    "\n",
    "这些特征值均匀分布在单位圆上。\n",
    "\n",
    "它们是**$n$ 次单位根**，意味着它们是满足 $z^n =1$ 的 $n$ 个复数 $z$，其中 $z$ 是一个复数。\n",
    "\n",
    "特别地，$n$ 次单位根是\n",
    "\n",
    "$$\n",
    "z = \\exp\\left(\\frac{2 \\pi j k }{N} \\right) , \\quad k = 0, \\ldots, N-1\n",
    "$$\n",
    "\n",
    "其中 $j$ 表示纯虚数单位。"
   ]
  },
  {
   "cell_type": "code",
   "execution_count": null,
   "id": "f575c064",
   "metadata": {},
   "outputs": [],
   "source": [
    "fig, ax = plt.subplots(2, 2, figsize=(10, 10))\n",
    "\n",
    "for i, N in enumerate([3, 4, 6, 8]):\n",
    "\n",
    "    row_i = i // 2\n",
    "    col_i = i % 2\n",
    "\n",
    "    P = construct_P(N)\n",
    "    𝜆, Q = np.linalg.eig(P)\n",
    "\n",
    "    circ = plt.Circle((0, 0), radius=1, edgecolor='b', facecolor='None')\n",
    "    ax[row_i, col_i].add_patch(circ)\n",
    "\n",
    "    for j in range(N):\n",
    "        ax[row_i, col_i].scatter(𝜆[j].real, 𝜆[j].imag, c='b')\n",
    "\n",
    "    ax[row_i, col_i].set_title(f'N = {N}')\n",
    "    ax[row_i, col_i].set_xlabel('实部')\n",
    "    ax[row_i, col_i].set_ylabel('虚部')\n",
    "\n",
    "plt.show()"
   ]
  },
  {
   "cell_type": "markdown",
   "id": "20cb98c0",
   "metadata": {},
   "source": [
    "对于系数向量 $\\{c_i\\}_{i=0}^{n-1}$，$P$ 的特征向量也是\n",
    "\n",
    "$$\n",
    "C = c_{0} I + c_{1} P + c_{2} P^{2} +\\cdots + c_{N-1} P^{N-1}.\n",
    "$$\n",
    "\n",
    "的特征向量。\n",
    "\n",
    "考虑一个例子，其中 $N=8$ 且 $w = e^{-2 \\pi j / N}$。\n",
    "\n",
    "可以验证 $P_{8}$ 的特征向量矩阵 $F_8$ 是\n",
    "\n",
    "$$\n",
    "F_{8}=\\left[\\begin{array}{ccccc}\n",
    "1 & 1 & 1 & \\cdots & 1\\\\\n",
    "1 & w & w^{2} & \\cdots & w^{7}\\\\\n",
    "1 & w^{2} & w^{4} & \\cdots & w^{14}\\\\\n",
    "1 & w^{3} & w^{6} & \\cdots & w^{21}\\\\\n",
    "1 & w^{4} & w^{8} & \\cdots & w^{28}\\\\\n",
    "1 & w^{5} & w^{10} & \\cdots & w^{35}\\\\\n",
    "1 & w^{6} & w^{12} & \\cdots & w^{42}\\\\\n",
    "1 & w^{7} & w^{14} & \\cdots & w^{49}\n",
    "\\end{array}\\right]\n",
    "$$\n",
    "\n",
    "矩阵 $F_8$ 定义了一个[离散傅里叶变换](https://en.wikipedia.org/wiki/Discrete_Fourier_transform)。\n",
    "\n",
    "为了将其转换为正交特征向量矩阵，我们可以简单地通过将每个元素除以 $\\sqrt{8}$ 来归一化。\n",
    "\n",
    " * 仔细观察上面 $F_8$ 的第一列来理解这个事实\n",
    "\n",
    "对应于每个特征向量的特征值按顺序是 $\\{w^{j}\\}_{j=0}^{7}$。"
   ]
  },
  {
   "cell_type": "code",
   "execution_count": null,
   "id": "536a4c04",
   "metadata": {},
   "outputs": [],
   "source": [
    "def construct_F(N):\n",
    "\n",
    "    w = np.e ** (-complex(0, 2*np.pi/N))\n",
    "\n",
    "    F = np.ones((N, N), dtype=complex)\n",
    "    for i in range(1, N):\n",
    "        F[i, 1:] = w ** (i * np.arange(1, N))\n",
    "\n",
    "    return F, w"
   ]
  },
  {
   "cell_type": "code",
   "execution_count": null,
   "id": "66d64abd",
   "metadata": {},
   "outputs": [],
   "source": [
    "F8, w = construct_F(8)"
   ]
  },
  {
   "cell_type": "code",
   "execution_count": null,
   "id": "3593b387",
   "metadata": {},
   "outputs": [],
   "source": [
    "w"
   ]
  },
  {
   "cell_type": "code",
   "execution_count": null,
   "id": "4bcf22d6",
   "metadata": {},
   "outputs": [],
   "source": [
    "F8"
   ]
  },
  {
   "cell_type": "code",
   "execution_count": null,
   "id": "bf06e262",
   "metadata": {},
   "outputs": [],
   "source": [
    "# 归一化\n",
    "Q8 = F8 / np.sqrt(8)"
   ]
  },
  {
   "cell_type": "code",
   "execution_count": null,
   "id": "8aa0adbb",
   "metadata": {},
   "outputs": [],
   "source": [
    "# 验证正交性（酉性）\n",
    "Q8 @ np.conjugate(Q8)"
   ]
  },
  {
   "cell_type": "markdown",
   "id": "d9666056",
   "metadata": {},
   "source": [
    "让我们验证 $Q_{8}$ 的第 $k$ 列是 $P_{8}$ 的特征向量，对应的特征值是 $w^{k}$。"
   ]
  },
  {
   "cell_type": "code",
   "execution_count": null,
   "id": "40c061f0",
   "metadata": {},
   "outputs": [],
   "source": [
    "P8 = construct_P(8)"
   ]
  },
  {
   "cell_type": "code",
   "execution_count": null,
   "id": "108fadd9",
   "metadata": {},
   "outputs": [],
   "source": [
    "diff_arr = np.empty(8, dtype=complex)\n",
    "for j in range(8):\n",
    "    diff = P8 @ Q8[:, j] - w ** j * Q8[:, j]\n",
    "    diff_arr[j] = diff @ diff.T"
   ]
  },
  {
   "cell_type": "code",
   "execution_count": null,
   "id": "5edc679d",
   "metadata": {},
   "outputs": [],
   "source": [
    "diff_arr"
   ]
  },
  {
   "cell_type": "markdown",
   "id": "e4205f1d",
   "metadata": {},
   "source": [
    "## 关联置换矩阵\n",
    "\n",
    "接下来，我们执行计算来验证方程 {eq}`eqn:circulant` 中定义的循环矩阵 $C$ 可以写成\n",
    "\n",
    "$$\n",
    "C = c_{0} I + c_{1} P + \\cdots + c_{n-1} P^{n-1}\n",
    "$$\n",
    "\n",
    "并且 $P$ 的每个特征向量也是 $C$ 的特征向量。"
   ]
  },
  {
   "cell_type": "code",
   "execution_count": null,
   "id": "84ffb6aa",
   "metadata": {},
   "outputs": [],
   "source": []
  },
  {
   "cell_type": "markdown",
   "id": "7d901eca",
   "metadata": {},
   "source": [
    "我们用 $N=8$ 的情况来说明这一点。"
   ]
  },
  {
   "cell_type": "code",
   "execution_count": null,
   "id": "06bb77ef",
   "metadata": {},
   "outputs": [],
   "source": [
    "c = np.random.random(8)"
   ]
  },
  {
   "cell_type": "code",
   "execution_count": null,
   "id": "1e2c2072",
   "metadata": {},
   "outputs": [],
   "source": [
    "c"
   ]
  },
  {
   "cell_type": "code",
   "execution_count": null,
   "id": "7cd65042",
   "metadata": {},
   "outputs": [],
   "source": [
    "C8 = construct_cirlulant(c)"
   ]
  },
  {
   "cell_type": "markdown",
   "id": "4718ba24",
   "metadata": {},
   "source": [
    "计算 $c_{0} I + c_{1} P + \\cdots + c_{n-1} P^{n-1}$。"
   ]
  },
  {
   "cell_type": "code",
   "execution_count": null,
   "id": "aefd5b59",
   "metadata": {},
   "outputs": [],
   "source": [
    "N = 8\n",
    "\n",
    "C = np.zeros((N, N))\n",
    "P = np.eye(N)\n",
    "\n",
    "for i in range(N):\n",
    "    C += c[i] * P\n",
    "    P = P8 @ P"
   ]
  },
  {
   "cell_type": "code",
   "execution_count": null,
   "id": "0a24fd2e",
   "metadata": {},
   "outputs": [],
   "source": [
    "C"
   ]
  },
  {
   "cell_type": "code",
   "execution_count": null,
   "id": "0b0afe08",
   "metadata": {},
   "outputs": [],
   "source": [
    "C8"
   ]
  },
  {
   "cell_type": "markdown",
   "id": "a8f13695",
   "metadata": {},
   "source": [
    "现在让我们计算两种不同方式构造的循环矩阵之间的差异。"
   ]
  },
  {
   "cell_type": "code",
   "execution_count": null,
   "id": "9ed494f5",
   "metadata": {},
   "outputs": [],
   "source": [
    "np.abs(C - C8).max()"
   ]
  },
  {
   "cell_type": "markdown",
   "id": "22e74954",
   "metadata": {},
   "source": [
    "与特征值 $w^{k-1}$ 相关的 $P_{8}$ 的第 $k$ 列是 $C_{8}$ 的特征向量，对应的特征值是 $\\sum_{h=0}^{7} c_{j} w^{h k}$。"
   ]
  },
  {
   "cell_type": "code",
   "execution_count": null,
   "id": "ab501be2",
   "metadata": {},
   "outputs": [],
   "source": [
    "𝜆_C8 = np.zeros(8, dtype=complex)\n",
    "\n",
    "for j in range(8):\n",
    "    for k in range(8):\n",
    "        𝜆_C8[j] += c[k] * w ** (j * k)"
   ]
  },
  {
   "cell_type": "code",
   "execution_count": null,
   "id": "140b7d4a",
   "metadata": {},
   "outputs": [],
   "source": [
    "𝜆_C8"
   ]
  },
  {
   "cell_type": "markdown",
   "id": "6f9921dd",
   "metadata": {},
   "source": [
    "我们可以通过比较 `C8 @ Q8[:, j]` 和 `𝜆_C8[j] * Q8[:, j]` 来验证这一点。"
   ]
  },
  {
   "cell_type": "code",
   "execution_count": null,
   "id": "9259ec81",
   "metadata": {},
   "outputs": [],
   "source": [
    "# 验证\n",
    "for j in range(8):\n",
    "    diff = C8 @ Q8[:, j] - 𝜆_C8[j] * Q8[:, j]\n",
    "    print(diff)"
   ]
  },
  {
   "cell_type": "markdown",
   "id": "62b2526a",
   "metadata": {},
   "source": [
    "## 离散傅里叶变换\n",
    "\n",
    "**离散傅里叶变换**（DFT）允许我们将离散时间序列表示为复正弦波的加权和。\n",
    "\n",
    "考虑一个包含 $N$ 个实数的序列 $\\{x_j\\}_{j=0}^{N-1}$。\n",
    "\n",
    "**离散傅里叶变换**将 $\\{x_j\\}_{j=0}^{N-1}$ 映射到复数序列 $\\{X_k\\}_{k=0}^{N-1}$，其中\n",
    "\n",
    "$$\n",
    "X_{k}=\\sum_{n=0}^{N-1}x_{n}e^{-2\\pi\\frac{kn}{N}i}\n",
    "$$"
   ]
  },
  {
   "cell_type": "code",
   "execution_count": null,
   "id": "fb27e15a",
   "metadata": {},
   "outputs": [],
   "source": [
    "def DFT(x):\n",
    "    \"离散傅里叶变换。\"\n",
    "\n",
    "    N = len(x)\n",
    "    w = np.e ** (-complex(0, 2*np.pi/N))\n",
    "\n",
    "    X = np.zeros(N, dtype=complex)\n",
    "    for k in range(N):\n",
    "        for n in range(N):\n",
    "            X[k] += x[n] * w ** (k * n)\n",
    "\n",
    "    return X"
   ]
  },
  {
   "cell_type": "markdown",
   "id": "32a85cab",
   "metadata": {},
   "source": [
    "考虑以下示例。\n",
    "\n",
    "$$\n",
    "x_{n}=\\begin{cases}\n",
    "1/2 & n=0,1\\\\\n",
    "0 & \\text{其他情况}\n",
    "\\end{cases}\n",
    "$$"
   ]
  },
  {
   "cell_type": "code",
   "execution_count": null,
   "id": "875928f3",
   "metadata": {},
   "outputs": [],
   "source": [
    "x = np.zeros(10)\n",
    "x[0:2] = 1/2"
   ]
  },
  {
   "cell_type": "code",
   "execution_count": null,
   "id": "d1fd24e7",
   "metadata": {},
   "outputs": [],
   "source": [
    "x"
   ]
  },
  {
   "cell_type": "markdown",
   "id": "2475066e",
   "metadata": {},
   "source": [
    "应用离散傅里叶变换。"
   ]
  },
  {
   "cell_type": "code",
   "execution_count": null,
   "id": "e5286eae",
   "metadata": {},
   "outputs": [],
   "source": [
    "X = DFT(x)"
   ]
  },
  {
   "cell_type": "code",
   "execution_count": null,
   "id": "5b0ac9c6",
   "metadata": {},
   "outputs": [],
   "source": [
    "X"
   ]
  },
  {
   "cell_type": "markdown",
   "id": "434c707e",
   "metadata": {},
   "source": [
    "我们可以绘制数字序列的幅值和相关的离散傅里叶变换。"
   ]
  },
  {
   "cell_type": "code",
   "execution_count": null,
   "id": "39c36069",
   "metadata": {},
   "outputs": [],
   "source": [
    "def plot_magnitude(x=None, X=None):\n",
    "\n",
    "    data = []\n",
    "    names = []\n",
    "    xs = []\n",
    "    if (x is not None):\n",
    "        data.append(x)\n",
    "        names.append('x')\n",
    "        xs.append('n')\n",
    "    if (X is not None):\n",
    "        data.append(X)\n",
    "        names.append('X')\n",
    "        xs.append('j')\n",
    "\n",
    "    num = len(data)\n",
    "    for i in range(num):\n",
    "        n = data[i].size\n",
    "        plt.figure(figsize=(8, 3))\n",
    "        plt.scatter(range(n), np.abs(data[i]))\n",
    "        plt.vlines(range(n), 0, np.abs(data[i]), color='b')\n",
    "\n",
    "        plt.xlabel(xs[i])\n",
    "        plt.ylabel('幅值')\n",
    "        plt.title(names[i])\n",
    "        plt.show()"
   ]
  },
  {
   "cell_type": "code",
   "execution_count": null,
   "id": "1347d267",
   "metadata": {},
   "outputs": [],
   "source": [
    "plot_magnitude(x=x, X=X)"
   ]
  },
  {
   "cell_type": "markdown",
   "id": "453cac72",
   "metadata": {},
   "source": [
    "**逆傅里叶变换**将 $x$ 的傅里叶变换 $X$ 转换回 $x$。\n",
    "\n",
    "逆傅里叶变换定义为\n",
    "\n",
    "$$\n",
    "x_{n} = \\sum_{k=0}^{N-1} \\frac{1}{N} X_{k} e^{2\\pi\\left(\\frac{kn}{N}\\right)i}, \\quad n=0, 1, \\ldots, N-1\n",
    "$$"
   ]
  },
  {
   "cell_type": "code",
   "execution_count": null,
   "id": "07877b30",
   "metadata": {},
   "outputs": [],
   "source": [
    "def inverse_transform(X):\n",
    "\n",
    "    N = len(X)\n",
    "    w = np.e ** (complex(0, 2*np.pi/N))\n",
    "\n",
    "    x = np.zeros(N, dtype=complex)\n",
    "    for n in range(N):\n",
    "        for k in range(N):\n",
    "            x[n] += X[k] * w ** (k * n) / N\n",
    "\n",
    "    return x"
   ]
  },
  {
   "cell_type": "code",
   "execution_count": null,
   "id": "fd27dd80",
   "metadata": {},
   "outputs": [],
   "source": [
    "inverse_transform(X)"
   ]
  },
  {
   "cell_type": "markdown",
   "id": "35d3b337",
   "metadata": {},
   "source": [
    "另一个例子是\n",
    "\n",
    "$$\n",
    "x_{n}=2\\cos\\left(2\\pi\\frac{11}{40}n\\right),\\ n=0,1,2,\\cdots19\n",
    "$$\n",
    "\n",
    "由于 $N=20$，我们不能使用 $\\frac{1}{20}$ 的整数倍来表示频率 $\\frac{11}{40}$。\n",
    "\n",
    "为了处理这种情况，我们最终将使用DFT中所有可用的 $N$ 个频率。\n",
    "\n",
    "由于 $\\frac{11}{40}$ 在 $\\frac{10}{40}$ 和 $\\frac{12}{40}$ 之间（每个都是 $\\frac{1}{20}$ 的整数倍），DFT中的复系数在 $k=5,6,15,16$ 处具有最大幅值，而不仅仅是在单个频率处。"
   ]
  },
  {
   "cell_type": "code",
   "execution_count": null,
   "id": "e7438817",
   "metadata": {},
   "outputs": [],
   "source": [
    "N = 20\n",
    "x = np.empty(N)\n",
    "\n",
    "for j in range(N):\n",
    "    x[j] = 2 * np.cos(2 * np.pi * 11 * j / 40)"
   ]
  },
  {
   "cell_type": "code",
   "execution_count": null,
   "id": "34b5f9e5",
   "metadata": {},
   "outputs": [],
   "source": [
    "X = DFT(x)"
   ]
  },
  {
   "cell_type": "code",
   "execution_count": null,
   "id": "352b7639",
   "metadata": {},
   "outputs": [],
   "source": [
    "plot_magnitude(x=x, X=X)"
   ]
  },
  {
   "cell_type": "markdown",
   "id": "8d9fa4dd",
   "metadata": {},
   "source": [
    "如果我们把最后一个例子改为 $x_{n}=2\\cos\\left(2\\pi\\frac{10}{40}n\\right)$ 会发生什么？\n",
    "\n",
    "注意 $\\frac{10}{40}$ 是 $\\frac{1}{20}$ 的整数倍。"
   ]
  },
  {
   "cell_type": "code",
   "execution_count": null,
   "id": "eea52a76",
   "metadata": {},
   "outputs": [],
   "source": [
    "N = 20\n",
    "x = np.empty(N)\n",
    "\n",
    "for j in range(N):\n",
    "    x[j] = 2 * np.cos(2 * np.pi * 10 * j / 40)"
   ]
  },
  {
   "cell_type": "code",
   "execution_count": null,
   "id": "69d6308b",
   "metadata": {},
   "outputs": [],
   "source": [
    "X = DFT(x)"
   ]
  },
  {
   "cell_type": "code",
   "execution_count": null,
   "id": "623ffc60",
   "metadata": {},
   "outputs": [],
   "source": [
    "plot_magnitude(x=x, X=X)"
   ]
  },
  {
   "cell_type": "markdown",
   "id": "8bd52266",
   "metadata": {},
   "source": [
    "如果我们将离散傅里叶变换表示为矩阵，我们会发现它等于置换矩阵 $P_{N}$ 的特征向量矩阵 $F_{N}$。\n",
    "\n",
    "我们可以使用 $x_{n}=2\\cos\\left(2\\pi\\frac{11}{40}n\\right),\\ n=0,1,2,\\cdots19$ 的例子来说明这一点。"
   ]
  },
  {
   "cell_type": "code",
   "execution_count": null,
   "id": "b5fd9555",
   "metadata": {},
   "outputs": [],
   "source": [
    "N = 20\n",
    "x = np.empty(N)\n",
    "\n",
    "for j in range(N):\n",
    "    x[j] = 2 * np.cos(2 * np.pi * 11 * j / 40)"
   ]
  },
  {
   "cell_type": "code",
   "execution_count": null,
   "id": "03106c01",
   "metadata": {},
   "outputs": [],
   "source": [
    "x"
   ]
  },
  {
   "cell_type": "markdown",
   "id": "674a40c1",
   "metadata": {},
   "source": [
    "首先使用求和公式将 $x$ 变换为 $X$。"
   ]
  },
  {
   "cell_type": "code",
   "execution_count": null,
   "id": "263d6946",
   "metadata": {},
   "outputs": [],
   "source": [
    "X = DFT(x)\n",
    "X"
   ]
  },
  {
   "cell_type": "markdown",
   "id": "a4b49833",
   "metadata": {},
   "source": [
    "现在让我们计算特征向量矩阵 $F_{20}$ 与向量 $x$ 的后乘结果，这个乘积应该等于序列 $\\{x_n\\}_{n=0}^{N-1}$ 的傅里叶变换。"
   ]
  },
  {
   "cell_type": "code",
   "execution_count": null,
   "id": "fb865a6e",
   "metadata": {},
   "outputs": [],
   "source": [
    "F20, _ = construct_F(20)"
   ]
  },
  {
   "cell_type": "code",
   "execution_count": null,
   "id": "4ae772ad",
   "metadata": {},
   "outputs": [],
   "source": [
    "F20 @ x"
   ]
  },
  {
   "cell_type": "markdown",
   "id": "15fb3b2a",
   "metadata": {},
   "source": [
    "同样，逆DFT可以表示为逆DFT矩阵 $F^{-1}_{20}$。"
   ]
  },
  {
   "cell_type": "code",
   "execution_count": null,
   "id": "04f8f54c",
   "metadata": {},
   "outputs": [],
   "source": [
    "F20_inv = np.linalg.inv(F20)\n",
    "F20_inv @ X"
   ]
  }
 ],
 "metadata": {
  "jupytext": {
   "text_representation": {
    "extension": ".md",
    "format_name": "myst",
    "format_version": 0.13,
    "jupytext_version": "1.10.3"
   }
  },
  "kernelspec": {
   "display_name": "Python 3 (ipykernel)",
   "language": "python",
   "name": "python3"
  },
  "source_map": [
   12,
   30,
   41,
   43,
   69,
   85,
   88,
   191,
   204,
   209,
   214,
   217,
   233,
   255,
   290,
   302,
   306,
   310,
   314,
   319,
   322,
   326,
   330,
   337,
   339,
   351,
   353,
   357,
   361,
   365,
   367,
   371,
   382,
   386,
   388,
   392,
   394,
   398,
   406,
   408,
   412,
   417,
   431,
   444,
   455,
   460,
   462,
   466,
   470,
   472,
   476,
   504,
   506,
   516,
   530,
   532,
   546,
   554,
   558,
   560,
   566,
   574,
   578,
   580,
   586,
   594,
   596,
   600,
   603,
   607,
   611,
   613,
   617
  ]
 },
 "nbformat": 4,
 "nbformat_minor": 5
}