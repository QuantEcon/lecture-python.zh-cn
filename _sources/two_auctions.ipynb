{
 "cells": [
  {
   "cell_type": "markdown",
   "id": "316b2cec",
   "metadata": {},
   "source": [
    "# 一价和二价拍卖\n",
    "\n",
    "本讲座旨在为后续关于[多商品分配机制](https://python.quantecon.org/house_auction.html)的讲座做铺垫。\n",
    "\n",
    "在那个讲座中，规划者或拍卖人同时将多个商品分配给一组人。\n",
    "\n",
    "在本讲座中，我们将讨论如何将单个商品分配给一组人中的一个人。\n",
    "\n",
    "我们将学习并模拟两种经典的拍卖方式：\n",
    "\n",
    "* 第一价格密封投标拍卖(FPSB)\n",
    "* 由William Vickrey创建的第二价格密封投标拍卖(SPSB) {cite}`Vickrey_61`\n",
    "\n",
    "我们还将学习并应用：\n",
    "\n",
    "* 收益等价定理\n",
    "\n",
    "我们建议观看Anders Munk-Nielsen关于第二价格拍卖的视频：\n",
    "\n",
    "```{youtube} qwWk_Bqtue8\n",
    "```\n",
    "\n",
    "以及\n",
    "\n",
    "```{youtube} eYTGQCGpmXI\n",
    "```\n",
    "\n",
    "Anders Munk-Nielsen 将他的代码放在了[GitHub](https://github.com/GamEconCph/Lectures-2021/tree/main/Bayesian%20Games)上。\n",
    "\n",
    "我们下面的大部分Python代码都基于他的代码。"
   ]
  },
  {
   "cell_type": "markdown",
   "id": "697063a7",
   "metadata": {},
   "source": [
    "## 第一价格密封拍卖(FPSB)"
   ]
  },
  {
   "cell_type": "markdown",
   "id": "29c7f175",
   "metadata": {},
   "source": [
    "**规则：**\n",
    "\n",
    "* 拍卖一件商品。\n",
    "* 潜在买家同时提交密封投标。\n",
    "* 每个投标者只知道自己的投标。\n",
    "* 商品分配给出价最高的人。\n",
    "* 中标者支付其投标价格。\n",
    "\n",
    "\n",
    "**详细设定：**\n",
    "\n",
    "有$n>2$个潜在买家，编号为$i = 1, 2, \\ldots, n$。\n",
    "\n",
    "买家$i$对被拍卖商品的估值为$v_i$。\n",
    "\n",
    "买家$i$想要最大化她的预期**剩余价值**，定义为$v_i - p$，其中$p$是她在赢得拍卖的情况下需要支付的价格。\n",
    "\n",
    "显然，\n",
    "\n",
    "- 如果$i$的出价恰好是$v_i$，她支付的正是她认为物品值得的价格，不会获得任何剩余价值。\n",
    "- 买家$i$永远不会想要出价高于$v_i$。\n",
    "\n",
    "- 如果买家 $i$ 出价 $b < v_i$ 并赢得拍卖，她获得的剩余价值为 $b - v_i > 0$。\n",
    "- 如果买家 $i$ 出价 $b < v_i$ 而其他人出价高于 $b$，买家 $i$ 就会输掉拍卖且没有剩余价值。\n",
    "- 要继续进行，买家 $i$ 需要知道她的出价 $v_i$ 作为函数时赢得拍卖的概率\n",
    "   - 这要求她知道其他潜在买家 $j \\neq i$ 的出价 $v_j$ 的概率分布\n",
    "- 根据她对该概率分布的认知，买家 $i$ 希望设定一个能最大化其剩余价值数学期望的出价。\n",
    "\n",
    "出价是密封的，所以任何竞标者都不知道其他潜在买家提交的出价。\n",
    "\n",
    "这意味着竞标者实际上参与的是一个玩家不知道其他玩家**收益**的博弈。\n",
    "\n",
    "这是一个**贝叶斯博弈**，其纳什均衡被称为**贝叶斯纳什均衡**。\n",
    "\n",
    "为了完整描述这种情况，我们假设潜在买家的估值是独立且同分布的，其概率分布为所有投标者所知。\n",
    "\n",
    "投标者会选择低于$v_i$的最优投标价格。\n",
    "\n",
    "### 一价密封拍卖的特征\n",
    "\n",
    "一价密封拍卖具有唯一的对称贝叶斯纳什均衡。\n",
    "\n",
    "买家$i$的最优投标是\n",
    "\n",
    "$$\n",
    "\\mathbf{E}[y_{i} | y_{i} < v_{i}]\n",
    "$$ (eq:optbid1)\n",
    "\n",
    "其中$v_{i}$是投标者$i$的估值，$y_{i}$是所有其他投标者的最高估值：\n",
    "\n",
    "$$\n",
    "y_{i} = \\max_{j \\neq i} v_{j}\n",
    "$$ (eq:optbid2)\n",
    "\n",
    "关于这个论断的证明可以在维基百科的[Vickrey拍卖页面](https://en.wikipedia.org/wiki/Vickrey_auction)找到"
   ]
  },
  {
   "cell_type": "markdown",
   "id": "8d3aee50",
   "metadata": {},
   "source": [
    "## 二价密封拍卖(SPSB)"
   ]
  },
  {
   "cell_type": "markdown",
   "id": "f1868211",
   "metadata": {},
   "source": [
    "**规则：**在二价密封拍卖(SPSB)中，赢家支付第二高的投标价格。\n",
    "\n",
    "## 二价密封拍卖的特征\n",
    "\n",
    "在SPSB拍卖中，竞标者最优选择是按其真实价值出价。\n",
    "\n",
    "形式上，在单一不可分物品的SPSB拍卖中，占优策略组合是每个竞标者按其价值出价。\n",
    "\n",
    "关于Vickrey拍卖的证明可在[维基百科页面](https://en.wikipedia.org/wiki/Vickrey_auction)找到"
   ]
  },
  {
   "cell_type": "markdown",
   "id": "6e34e440",
   "metadata": {},
   "source": [
    "## 私人价值的均匀分布"
   ]
  },
  {
   "cell_type": "markdown",
   "id": "4659569a",
   "metadata": {},
   "source": [
    "我们假设竞标者$i$的估值$v_{i}$服从分布$v_{i} \\stackrel{\\text{i.i.d.}}{\\sim} U(0,1)$。\n",
    "\n",
    "在这个假设下，我们可以分析计算FPSB和SPSB中出价的概率分布。\n",
    "\n",
    "我们将模拟结果，并通过大数定律验证模拟结果与分析结果一致。\n",
    "\n",
    "我们可以用我们的模拟来说明**收益等价定理**，该定理断言平均而言，一价和二价密封拍卖为卖家提供相同的收益。\n",
    "\n",
    "要了解收入等价定理，请参阅[此维基百科页面](https://en.wikipedia.org/wiki/Revenue_equivalence)"
   ]
  },
  {
   "cell_type": "markdown",
   "id": "1a0dde5a",
   "metadata": {},
   "source": [
    "## 设置"
   ]
  },
  {
   "cell_type": "markdown",
   "id": "90c27e5a",
   "metadata": {},
   "source": [
    "有 $n$ 个投标人。\n",
    "\n",
    "每个投标人都知道有 $n-1$ 个其他投标人。\n",
    "\n",
    "## 第一价格密封投标拍卖\n",
    "\n",
    "投标人 $i$ 在**第一价格密封投标拍卖**中的最优投标由方程 {eq}`eq:optbid1` 和 {eq}`eq:optbid2` 描述。\n",
    "\n",
    "当投标是从均匀分布中独立同分布抽取时，$y_{i}$ 的累积分布函数为\n",
    "\n",
    "$$\n",
    "\\begin{aligned}\n",
    "\\tilde{F}_{n-1}(y) = \\mathbf{P}(y_{i} \\leq y) &= \\mathbf{P}(\\max_{j \\neq i} v_{j} \\leq y) \\\\\n",
    "&= \\prod_{j \\neq i} \\mathbf{P}(v_{j} \\leq y) \\\\\n",
    "&= y^{n-1}\n",
    "\\end{aligned}\n",
    "$$\n",
    "\n",
    "且 $y_i$ 的概率密度函数为 $\\tilde{f}_{n-1}(y) = (n-1)y^{n-2}$。\n",
    "\n",
    "那么投标人 $i$ 在**第一价格密封投标拍卖**中的最优投标为：\n",
    "\n",
    "$$\n",
    "\\begin{aligned}\n",
    "\\mathbf{E}(y_{i} | y_{i} < v_{i}) &= \\frac{\\int_{0}^{v_{i}} y_{i}\\tilde{f}_{n-1}(y_{i})dy_{i}}{\\int_{0}^{v_{i}} \\tilde{f}_{n-1}(y_{i})dy_{i}} \\\\\n",
    "\n",
    "&= \\frac{\\int_{0}^{v_{i}}(n-1)y_{i}^{n-1}dy_{i}}{\\int_{0}^{v_{i}}(n-1)y_{i}^{n-2}dy_{i}} \\\\\n",
    "&= \\frac{n-1}{n}y_{i}\\bigg{|}_{0}^{v_{i}} \\\\\n",
    "&= \\frac{n-1}{n}v_{i}\n",
    "\\end{aligned}\n",
    "$$\n",
    "\n",
    "## 第二价格密封拍卖\n",
    "\n",
    "在**第二价格密封拍卖**中，对竞价者$i$来说，出价$v_i$是最优选择。"
   ]
  },
  {
   "cell_type": "markdown",
   "id": "dca9966e",
   "metadata": {},
   "source": [
    "## Python代码"
   ]
  },
  {
   "cell_type": "code",
   "execution_count": null,
   "id": "7e85a9fe",
   "metadata": {},
   "outputs": [],
   "source": [
    "import numpy as np\n",
    "import matplotlib.pyplot as plt\n",
    "import matplotlib as mpl\n",
    "FONTPATH = \"fonts/SourceHanSerifSC-SemiBold.otf\"\n",
    "mpl.font_manager.fontManager.addfont(FONTPATH)\n",
    "plt.rcParams['font.family'] = ['Source Han Serif SC']\n",
    "\n",
    "import seaborn as sns\n",
    "import scipy.stats as stats\n",
    "import scipy.interpolate as interp\n",
    "\n",
    "# 用于绘图\n",
    "plt.rcParams.update({\"text.usetex\": True, 'font.size': 14})\n",
    "colors = plt. rcParams['axes.prop_cycle'].by_key()['color']\n",
    "\n",
    "# 确保笔记本生成相同的随机数\n",
    "np.random.seed(1337)"
   ]
  },
  {
   "cell_type": "markdown",
   "id": "28d736ba",
   "metadata": {},
   "source": [
    "我们重复进行一个有5个投标人的拍卖100,000次。\n",
    "\n",
    "每个投标人的估值服从均匀分布$U(0,1)$。"
   ]
  },
  {
   "cell_type": "code",
   "execution_count": null,
   "id": "31d19206",
   "metadata": {},
   "outputs": [],
   "source": [
    "N = 5\n",
    "R = 100_000\n",
    "\n",
    "v = np.random.uniform(0,1,(N,R))\n",
    "\n",
    "# 第一价格密封拍卖的贝叶斯纳什均衡\n",
    "\n",
    "b_star = lambda vi,N :((N-1)/N) * vi\n",
    "b = b_star(v,N)"
   ]
  },
  {
   "cell_type": "markdown",
   "id": "20ba424a",
   "metadata": {},
   "source": [
    "我们计算并排序在一价密封拍卖（FPSB）和二价密封拍卖（SPSB）下产生的出价分布。"
   ]
  },
  {
   "cell_type": "code",
   "execution_count": null,
   "id": "494a4a5c",
   "metadata": {},
   "outputs": [],
   "source": [
    "idx = np.argsort(v, axis=0)  # 在每次拍卖中，竞买人的估值按升序排列。\n",
    "# 我们记录这个顺序是因为我们要将其应用于出价价格和竞买人ID。\n",
    "\n",
    "v = np.take_along_axis(v, idx, axis=0)  # 与np.sort(v, axis=0)相同，但保留了idx\n",
    "b = np.take_along_axis(b, idx, axis=0)\n",
    "\n",
    "ii = np.repeat(np.arange(1,N+1)[:,None], R, axis=1)  # 创建竞买人的ID。\n",
    "ii = np.take_along_axis(ii, idx, axis=0)  # ID也按照出价价格进行排序。\n",
    "\n",
    "winning_player = ii[-1,:] # 在FPSB和SPSB中，最高估值者为赢家。\n",
    "\n",
    "winner_pays_fpsb = b[-1,:]  # 最高出价\n",
    "winner_pays_spsb = v[-2,:]  # 第二高估值\n"
   ]
  },
  {
   "cell_type": "markdown",
   "id": "f8b6af98",
   "metadata": {},
   "source": [
    "让我们绘制_获胜_出价 $b_{(n)}$（即支付金额）与估值 $v_{(n)}$ 的关系图，分别针对FPSB和SPSB。\n",
    "\n",
    "注意：\n",
    "\n",
    "- FPSB：每个估值对应一个唯一的出价\n",
    "- SPSB：因为支付金额等于第二高出价者的估值，即使固定获胜者的估值，支付金额也会有所变化。所以这里每个估值都对应一个支付金额的频率分布。"
   ]
  },
  {
   "cell_type": "code",
   "execution_count": null,
   "id": "39986445",
   "metadata": {},
   "outputs": [],
   "source": [
    "# 我们打算计算不同群组投标者的平均支付金额\n",
    "\n",
    "binned = stats.binned_statistic(v[-1,:], v[-2,:], statistic='mean', bins=20)\n",
    "xx = binned.bin_edges\n",
    "xx = [(xx[ii]+xx[ii+1])/2 for ii in range(len(xx)-1)]\n",
    "yy = binned.statistic\n",
    "\n",
    "fig, ax = plt.subplots(figsize=(6, 4))\n",
    "\n",
    "ax.plot(xx, yy, label='SPSB平均支付金额')\n",
    "ax.plot(v[-1,:], b[-1,:], '--', alpha = 0.8, label = 'FPSB解析解')\n",
    "ax.plot(v[-1,:], v[-2,:], 'o', alpha = 0.05, markersize = 0.1, label = 'SPSB：实际出价')\n",
    "\n",
    "ax.legend(loc='best')\n",
    "ax.set_xlabel('估值, $v_i$')\n",
    "ax.set_ylabel('出价, $b_i$')\n",
    "sns.despine()"
   ]
  },
  {
   "cell_type": "markdown",
   "id": "04c3087c",
   "metadata": {},
   "source": [
    "## 收入等价定理"
   ]
  },
  {
   "cell_type": "markdown",
   "id": "30de10f0",
   "metadata": {},
   "source": [
    "我们现在从卖方预期获得的收入角度比较第一价格密封拍卖(FPSB)和第二价格密封拍卖(SPSB)。\n",
    "\n",
    "**FPSB的预期收入：**\n",
    "\n",
    "估值为$y$的赢家支付$\\frac{n-1}{n}*y$，其中n是投标者数量。\n",
    "\n",
    "我们之前计算得出CDF为$F_{n}(y) = y^{n}$，PDF为$f_{n} = ny^{n-1}$。\n",
    "\n",
    "因此，预期收入为\n",
    "\n",
    "$$\n",
    "\\mathbf{R} = \\int_{0}^{1}\\frac{n-1}{n}v_{i}\\times n v_{i}^{n-1}dv_{i} = \\frac{n-1}{n+1}\n",
    "$$\n",
    "\n",
    "**SPSB的预期收入：**\n",
    "\n",
    "预期收入等于n乘以一个投标者的预期支付。\n",
    "\n",
    "计算得出\n",
    "\n",
    "$$\n",
    "\\begin{aligned}\n",
    "\\mathbf{TR} &= n\\mathbf{E_{v_i}}\\left[\\mathbf{E_{y_i}}[y_{i}|y_{i} < v_{i}]\\mathbf{P}(y_{i} < v_{i}) + 0\\times\\mathbf{P}(y_{i} > v_{i})\\right] \\\\\n",
    "&= n\\mathbf{E_{v_i}}\\left[\\mathbf{E_{y_i}}[y_{i}|y_{i} < v_{i}]\\tilde{F}_{n-1}(v_{i})\\right] \\\\\n",
    "&= n\\mathbf{E_{v_i}}[\\frac{n-1}{n} \\times v_{i} \\times v_{i}^{n-1}] \\\\\n",
    "&= (n-1)\\mathbf{E_{v_i}}[v_{i}^{n}] \\\\\n",
    "\n",
    "&= \\frac{n-1}{n+1}\n",
    "\\end{aligned}\n",
    "$$"
   ]
  },
  {
   "cell_type": "markdown",
   "id": "8314ad35",
   "metadata": {},
   "source": [
    "因此，虽然两种拍卖方式中的中标价格分布通常不同，但我们推断在FPSB和SPSB中的预期支付是相同的。"
   ]
  },
  {
   "cell_type": "code",
   "execution_count": null,
   "id": "d53dc050",
   "metadata": {},
   "outputs": [],
   "source": [
    "fig, ax = plt.subplots(figsize=(6, 4))\n",
    "\n",
    "for payment,label in zip([winner_pays_fpsb, winner_pays_spsb], ['FPSB', 'SPSB']):\n",
    "    print('The average payment of %s: %.4f. Std.: %.4f. Median: %.4f'% (label,payment.mean(),payment.std(),np.median(payment)))\n",
    "    ax.hist(payment, density=True, alpha=0.6, label=label, bins=100)\n",
    "\n",
    "ax.axvline(winner_pays_fpsb.mean(), ls='--', c='g', label='Mean')\n",
    "ax.axvline(winner_pays_spsb.mean(), ls='--', c='r', label='Mean')\n",
    "\n",
    "ax.legend(loc='best')\n",
    "ax.set_xlabel('出价')\n",
    "ax.set_ylabel('密度')\n",
    "sns.despine()"
   ]
  },
  {
   "cell_type": "markdown",
   "id": "07051cd1",
   "metadata": {},
   "source": [
    "**<center>在$[0,1]$上均匀分布的FPSB和SPSB结果总结</center>**\n",
    "\n",
    "|    密封投标拍卖    |             一价拍卖              |             二价拍卖              |\n",
    "| :-----------------------: | :----------------------------------: | :-------------------------------------: |\n",
    "|          获胜者           |            最高出价者             |             最高出价者              |\n",
    "|        获胜者支付        |             获胜者出价             |             第二高出价              |\n",
    "|        失败者支付         |                  0                   |                    0                    |\n",
    "|     占优策略     |            无占优策略            |          如实出价是占优策略           |\n",
    "| 贝叶斯纳什均衡 | 投标人$i$出价$\\frac{n-1}{n}v_{i}$ |    投标人$i$如实出价$v_{i}$     |\n",
    "|   拍卖者收益    |          $\\frac {n-1}{n+1}$          |           $\\frac {n-1}{n+1}$            |"
   ]
  },
  {
   "cell_type": "markdown",
   "id": "c86739f5",
   "metadata": {},
   "source": [
    "**迂回：计算FPSB的贝叶斯纳什均衡**\n",
    "\n",
    "收入等价定理让我们可以从SPSB拍卖的结果推导出FPSB拍卖的最优投标策略。\n",
    "\n",
    "设$b(v_{i})$为FPSB拍卖中的最优出价。\n",
    "\n",
    "收入等价定理告诉我们，价值为$v_{i}$的投标者在这两种拍卖中平均获得相同的**支付**。\n",
    "\n",
    "因此，\n",
    "\n",
    "$$\n",
    "b(v_{i})\\mathbf{P}(y_{i} < v_{i}) + 0 * \\mathbf{P}(y_{i} \\ge v_{i}) = \\mathbf{E}_{y_{i}}[y_{i} | y_{i} < v_{i}]\\mathbf{P}(y_{i} < v_{i}) + 0 * \\mathbf{P}(y_{i} \\ge v_{i})\n",
    "$$\n",
    "\n",
    "由此可得，FPSB拍卖中的最优投标策略是$b(v_{i}) = \\mathbf{E}_{y_{i}}[y_{i} | y_{i} < v_{i}]$。"
   ]
  },
  {
   "cell_type": "markdown",
   "id": "a40650f9",
   "metadata": {},
   "source": [
    "## FPSB中出价的计算"
   ]
  },
  {
   "cell_type": "markdown",
   "id": "86bd3270",
   "metadata": {},
   "source": [
    "在方程{eq}`eq:optbid1`和{eq}`eq:optbid1`中，我们展示了FPSB拍卖中对称贝叶斯纳什均衡的最优出价公式。\n",
    "\n",
    "$$\n",
    "\\mathbf{E}[y_{i} | y_{i} < v_{i}]\n",
    "$$\n",
    "\n",
    "其中\n",
    "- $v_{i} = $ 投标者$i$的价值\n",
    "\n",
    "- $y_{i} = $：除了竞标者$i$以外所有竞标者的最大值，即$y_{i} = \\max_{j \\neq i} v_{j}$\n",
    "\n",
    "我们之前已经为私人价值呈均匀分布的情况下分析计算出了FPSB拍卖中的最优出价。\n",
    "\n",
    "对于大多数私人价值的概率分布，解析解并不容易计算。\n",
    "\n",
    "相反，我们可以根据私人价值的分布情况，以数值方式计算FPSB拍卖中的出价。"
   ]
  },
  {
   "cell_type": "code",
   "execution_count": null,
   "id": "ec720bcf",
   "metadata": {},
   "outputs": [],
   "source": [
    "def evaluate_largest(v_hat, array, order=1):\n",
    "    \"\"\"\n",
    "    一个用于估算其他竞标者的最大值（或特定顺序的最大值）的方法，\n",
    "    条件是玩家1赢得拍卖。\n",
    "\n",
    "    参数：\n",
    "    ----------\n",
    "    v_hat：float，玩家1的价值。玩家1赢得拍卖时的最大值。\n",
    "\n",
    "    array：二维数组，形状为(N,R)的竞标者价值，\n",
    "          其中N：玩家数量，R：拍卖次数\n",
    "\n",
    "    order：int。输家中最大数的顺序。\n",
    "                例如，除获胜者外最大数的顺序是1。\n",
    "                     除获胜者外第二大数的顺序是2。\n",
    "\n",
    "    \"\"\"\n",
    "    N,R = array.shape\n",
    "    array_residual=array[1:,:].copy()  # 删除第一行，因为我们假设第一行是获胜者的出价\n",
    "\n",
    "    index=(array_residual<v_hat).all(axis=0)\n",
    "    array_conditional=array_residual[:,index].copy()\n",
    "\n",
    "    array_conditional=np.sort(array_conditional, axis=0)\n",
    "    return array_conditional[-order,:].mean()"
   ]
  },
  {
   "cell_type": "markdown",
   "id": "03e6ed66",
   "metadata": {},
   "source": [
    "我们可以通过将其与解析解进行比较来检验`evaluate_largest`方法的准确性。\n",
    "\n",
    "我们发现，尽管存在小的差异，evaluate_largest方法运行良好。\n",
    "\n",
    "此外，如果我们进行大量拍卖，比如100万次，这种差异就会消失。"
   ]
  },
  {
   "cell_type": "code",
   "execution_count": null,
   "id": "40d01043",
   "metadata": {},
   "outputs": [],
   "source": [
    "v_grid = np.linspace(0.3,1,8)\n",
    "bid_analytical = b_star(v_grid,N)\n",
    "bid_simulated = [evaluate_largest(ii, v) for ii in v_grid]\n",
    "\n",
    "fig, ax = plt.subplots(figsize=(6, 4))\n",
    "\n",
    "ax.plot(v_grid, bid_analytical, '-', color='k', label='解析解')\n",
    "ax.plot(v_grid, bid_simulated, '--', color='r', label='模拟值')\n",
    "\n",
    "ax.legend(loc='best')\n",
    "ax.set_xlabel('估值, $v_i$')\n",
    "ax.set_ylabel('出价, $b_i$')\n",
    "ax.set_title('FPSB的解')\n",
    "sns.despine()"
   ]
  },
  {
   "cell_type": "markdown",
   "id": "83a3e23c",
   "metadata": {},
   "source": [
    "## $\\chi^2$ 分布\n",
    "\n",
    "让我们尝试一个例子，其中私有价值的分布是一个 $\\chi^2$ 分布。\n",
    "\n",
    "我们先通过以下Python代码来了解 $\\chi^2$ 分布："
   ]
  },
  {
   "cell_type": "code",
   "execution_count": null,
   "id": "15783c02",
   "metadata": {},
   "outputs": [],
   "source": [
    "np.random.seed(1337)\n",
    "v = np.random.chisquare(df=2, size=(N*R,))\n",
    "\n",
    "plt.hist(v, bins=50, edgecolor='w')\n",
    "plt.xlabel('Values: $v$')\n",
    "plt.show()"
   ]
  },
  {
   "cell_type": "markdown",
   "id": "ea74dbca",
   "metadata": {},
   "source": [
    "现在我们让Python构建一个出价函数"
   ]
  },
  {
   "cell_type": "code",
   "execution_count": null,
   "id": "8dee2ee1",
   "metadata": {},
   "outputs": [],
   "source": [
    "np.random.seed(1337)\n",
    "v = np.random.chisquare(df=2, size=(N,R))\n",
    "\n",
    "\n",
    "# 我们计算v的分位数作为我们的网格\n",
    "pct_quantile = np.linspace(0, 100, 101)[1:-1]\n",
    "v_grid = np.percentile(v.flatten(), q=pct_quantile)\n",
    "\n",
    "EV=[evaluate_largest(ii, v) for ii in v_grid]\n",
    "# 由于缺乏观测值，某些低分位数会返回nan值"
   ]
  },
  {
   "cell_type": "code",
   "execution_count": null,
   "id": "870f1d73",
   "metadata": {},
   "outputs": [],
   "source": [
    "# 我们在网格和出价函数中插入0作为补充\n",
    "EV=np.insert(EV,0,0)\n",
    "v_grid=np.insert(v_grid,0,0)\n",
    "\n",
    "b_star_num = interp.interp1d(v_grid, EV, fill_value=\"extrapolate\")"
   ]
  },
  {
   "cell_type": "markdown",
   "id": "ae6bebe5",
   "metadata": {},
   "source": [
    "我们通过计算和可视化结果来检验我们的出价函数。"
   ]
  },
  {
   "cell_type": "code",
   "execution_count": null,
   "id": "8f90e677",
   "metadata": {},
   "outputs": [],
   "source": [
    "pct_quantile_fine = np.linspace(0, 100, 1001)[1:-1]\n",
    "v_grid_fine = np.percentile(v.flatten(), q=pct_quantile_fine)\n",
    "\n",
    "fig, ax = plt.subplots(figsize=(6, 4))\n",
    "\n",
    "ax.plot(v_grid, EV, 'or', label='网格上的模拟')\n",
    "ax.plot(v_grid_fine, b_star_num(v_grid_fine) , '-', label='插值解')\n",
    "\n",
    "ax.legend(loc='best')\n",
    "ax.set_xlabel('估值, $v_i$')\n",
    "ax.set_ylabel('一价密封拍卖中的最优出价')\n",
    "sns.despine()"
   ]
  },
  {
   "cell_type": "markdown",
   "id": "b1401edc",
   "metadata": {},
   "source": [
    "现在我们可以使用Python来计算中标者支付价格的概率分布"
   ]
  },
  {
   "cell_type": "code",
   "execution_count": null,
   "id": "a7b267b4",
   "metadata": {},
   "outputs": [],
   "source": [
    "b=b_star_num(v)\n",
    "\n",
    "idx = np.argsort(v, axis=0)\n",
    "v = np.take_along_axis(v, idx, axis=0)  # 与np.sort(v, axis=0)相同，但保留了idx\n",
    "b = np.take_along_axis(b, idx, axis=0)\n",
    "\n",
    "ii = np.repeat(np.arange(1,N+1)[:,None], R, axis=1)\n",
    "ii = np.take_along_axis(ii, idx, axis=0)\n",
    "\n",
    "winning_player = ii[-1,:]\n",
    "\n",
    "winner_pays_fpsb = b[-1,:]  # 最高出价\n",
    "winner_pays_spsb = v[-2,:]  # 第二高估值"
   ]
  },
  {
   "cell_type": "code",
   "execution_count": null,
   "id": "41738094",
   "metadata": {},
   "outputs": [],
   "source": [
    "fig, ax = plt.subplots(figsize=(6, 4))\n",
    "\n",
    "for payment,label in zip([winner_pays_fpsb, winner_pays_spsb], ['FPSB', 'SPSB']):\n",
    "    print('%s的平均支付额：%.4f。标准差：%.4f。中位数：%.4f'% (label,payment.mean(),payment.std(),np.median(payment)))\n",
    "    ax.hist(payment, density=True, alpha=0.6, label=label, bins=100)\n",
    "\n",
    "ax.axvline(winner_pays_fpsb.mean(), ls='--', c='g', label='均值')\n",
    "ax.axvline(winner_pays_spsb.mean(), ls='--', c='r', label='均值')\n",
    "\n",
    "ax.legend(loc='best')\n",
    "ax.set_xlabel('出价')\n",
    "ax.set_ylabel('密度')\n",
    "sns.despine()"
   ]
  },
  {
   "cell_type": "markdown",
   "id": "df57dd37",
   "metadata": {},
   "source": [
    "## 5 代码总结"
   ]
  },
  {
   "cell_type": "markdown",
   "id": "cbb21df3",
   "metadata": {},
   "source": [
    "我们将使用过的函数整合成一个Python类"
   ]
  },
  {
   "cell_type": "code",
   "execution_count": null,
   "id": "2a154897",
   "metadata": {},
   "outputs": [],
   "source": [
    "class bid_price_solution:\n",
    "\n",
    "    def __init__(self, array):\n",
    "        \"\"\"\n",
    "        一个可以绘制投标者价值分布、\n",
    "        计算FPSB中投标者最优投标价格\n",
    "        并绘制FPSB和SPSB中赢家支付分布的类\n",
    "\n",
    "        参数:\n",
    "        ----------\n",
    "\n",
    "        array: 投标者价值的二维数组，形状为(N,R)，\n",
    "               其中N: 玩家数量, R: 拍卖次数\n",
    "\n",
    "        \"\"\"\n",
    "        self.value_mat=array.copy()\n",
    "\n",
    "        return None\n",
    "\n",
    "    def plot_value_distribution(self):\n",
    "        plt.hist(self.value_mat.flatten(), bins=50, edgecolor='w')\n",
    "        plt.xlabel('价值: $v$')\n",
    "        plt.show()\n",
    "\n",
    "        return None\n",
    "\n",
    "    def evaluate_largest(self, v_hat, order=1):\n",
    "        N,R = self.value_mat.shape\n",
    "        array_residual = self.value_mat[1:,:].copy()\n",
    "        # 删除第一行因为我们假设第一行是赢家的投标\n",
    "\n",
    "        index=(array_residual<v_hat).all(axis=0)\n",
    "        array_conditional=array_residual[:,index].copy()\n",
    "\n",
    "        array_conditional=np.sort(array_conditional, axis=0)\n",
    "\n",
    "        return array_conditional[-order,:].mean()\n",
    "\n",
    "    def compute_optimal_bid_FPSB(self):\n",
    "        # 我们计算v的分位数作为网格\n",
    "        pct_quantile = np.linspace(0, 100, 101)[1:-1]\n",
    "        v_grid = np.percentile(self.value_mat.flatten(), q=pct_quantile)\n",
    "\n",
    "        EV=[self.evaluate_largest(ii) for ii in v_grid]\n",
    "        # 由于缺乏观察值，某些低分位数会返回nan值\n",
    "\n",
    "        # 我们在网格和投标价格函数中插入0作为补充\n",
    "        EV=np.insert(EV,0,0)\n",
    "        v_grid=np.insert(v_grid,0,0)\n",
    "\n",
    "        self.b_star_num = interp.interp1d(v_grid, EV, fill_value=\"extrapolate\")\n",
    "\n",
    "        pct_quantile_fine = np.linspace(0, 100, 1001)[1:-1]\n",
    "        v_grid_fine = np.percentile(self.value_mat.flatten(), q=pct_quantile_fine)\n",
    "\n",
    "        fig, ax = plt.subplots(figsize=(6, 4))\n",
    "\n",
    "        ax.plot(v_grid, EV, 'or', label='网格上的模拟')\n",
    "        ax.plot(v_grid_fine, self.b_star_num(v_grid_fine) , '-', label='插值解')\n",
    "\n",
    "        ax.legend(loc='best')\n",
    "        ax.set_xlabel('估值, $v_i$')\n",
    "        ax.set_ylabel('FPSB中的最优投标')\n",
    "        sns.despine()\n",
    "\n",
    "        return None\n",
    "\n",
    "    def plot_winner_payment_distribution(self):\n",
    "        self.b = self.b_star_num(self.value_mat)\n",
    "\n",
    "        idx = np.argsort(self.value_mat, axis=0)\n",
    "        self.v = np.take_along_axis(self.value_mat, idx, axis=0)  # 与np.sort(v, axis=0)相同，但保留了idx\n",
    "        self.b = np.take_along_axis(self.b, idx, axis=0)\n",
    "\n",
    "        self.ii = np.repeat(np.arange(1,N+1)[:,None], R, axis=1)\n",
    "        self.ii = np.take_along_axis(self.ii, idx, axis=0)\n",
    "\n",
    "        winning_player = self.ii[-1,:]\n",
    "\n",
    "        winner_pays_fpsb = self.b[-1,:]  # 最高投标\n",
    "        winner_pays_spsb = self.v[-2,:]  # 第二高估值\n",
    "\n",
    "        fig, ax = plt.subplots(figsize=(6, 4))\n",
    "\n",
    "        for payment,label in zip([winner_pays_fpsb, winner_pays_spsb], ['FPSB', 'SPSB']):\n",
    "            print('%s的平均支付: %.4f. 标准差: %.4f. 中位数: %.4f'% (label,payment.mean(),payment.std(),np.median(payment)))\n",
    "            ax.hist(payment, density=True, alpha=0.6, label=label, bins=100)\n",
    "\n",
    "        ax.axvline(winner_pays_fpsb.mean(), ls='--', c='g', label='均值')\n",
    "        ax.axvline(winner_pays_spsb.mean(), ls='--', c='r', label='均值')\n",
    "\n",
    "        ax.legend(loc='best')\n",
    "        ax.set_xlabel('投标')\n",
    "        ax.set_ylabel('密度')\n",
    "        sns.despine()\n",
    "\n",
    "        return None"
   ]
  },
  {
   "cell_type": "code",
   "execution_count": null,
   "id": "98635bc2",
   "metadata": {},
   "outputs": [],
   "source": [
    "np.random.seed(1337)\n",
    "v = np.random.chisquare(df=2, size=(N,R))\n",
    "\n",
    "chi_squ_case = bid_price_solution(v)"
   ]
  },
  {
   "cell_type": "code",
   "execution_count": null,
   "id": "2ef95113",
   "metadata": {},
   "outputs": [],
   "source": [
    "chi_squ_case.plot_value_distribution()"
   ]
  },
  {
   "cell_type": "code",
   "execution_count": null,
   "id": "26ade377",
   "metadata": {},
   "outputs": [],
   "source": [
    "chi_squ_case.compute_optimal_bid_FPSB()"
   ]
  },
  {
   "cell_type": "code",
   "execution_count": null,
   "id": "3a54218d",
   "metadata": {},
   "outputs": [],
   "source": [
    "chi_squ_case.plot_winner_payment_distribution()"
   ]
  },
  {
   "cell_type": "markdown",
   "id": "c60c0829",
   "metadata": {},
   "source": [
    "## 参考文献"
   ]
  },
  {
   "cell_type": "markdown",
   "id": "0b97dea7",
   "metadata": {},
   "source": [
    "1. 维基百科关于FPSB的条目：https://en.wikipedia.org/wiki/First-price_sealed-bid_auction\n",
    "2. 维基百科关于SPSB的条目：https://en.wikipedia.org/wiki/Vickrey_auction\n",
    "3. Chandra Chekuri的算法博弈论讲义：http://chekuri.cs.illinois.edu/teaching/spring2008/Lectures/scribed/Notes20.pdf\n",
    "4. Tim Salmon的ECO 4400补充讲义：关于拍卖的一切：https://s2.smu.edu/tsalmon/auctions.pdf\n",
    "5. 拍卖理论-收益等价定理：https://michaellevet.wordpress.com/2015/07/06/auction-theory-revenue-equivalence-theorem/\n",
    "6. 顺序统计量：https://online.stat.psu.edu/stat415/book/export/html/834"
   ]
  }
 ],
 "metadata": {
  "jupytext": {
   "text_representation": {
    "extension": ".md",
    "format_name": "myst",
    "format_version": 0.13,
    "jupytext_version": "1.10.3"
   }
  },
  "kernelspec": {
   "display_name": "Python 3 (ipykernel)",
   "language": "python",
   "name": "python3"
  },
  "source_map": [
   12,
   48,
   52,
   110,
   114,
   126,
   130,
   142,
   146,
   184,
   188,
   206,
   212,
   222,
   226,
   241,
   250,
   268,
   272,
   305,
   309,
   323,
   336,
   354,
   358,
   377,
   403,
   411,
   426,
   434,
   441,
   445,
   458,
   464,
   468,
   481,
   485,
   501,
   515,
   519,
   523,
   623,
   630,
   634,
   638,
   640,
   644
  ]
 },
 "nbformat": 4,
 "nbformat_minor": 5
}