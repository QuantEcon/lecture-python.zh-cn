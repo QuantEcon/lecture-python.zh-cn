{
 "cells": [
  {
   "cell_type": "markdown",
   "id": "9165431f",
   "metadata": {},
   "source": [
    "```{raw} jupyter\n",
    "<div id=\"qe-notebook-header\" align=\"right\" style=\"text-align:right;\">\n",
    "        <a href=\"https://quantecon.org/\" title=\"quantecon.org\">\n",
    "                <img style=\"width:250px;display:inline;\" width=\"250px\" src=\"https://assets.quantecon.org/img/qe-menubar-logo.svg\" alt=\"QuantEcon\">\n",
    "        </a>\n",
    "</div>\n",
    "```\n",
    "\n",
    "# 求职搜索 IV：相关工资报价\n",
    "\n",
    "```{contents} 目录\n",
    ":depth: 2\n",
    "```\n",
    "\n",
    "除了Anaconda中的内容外，本讲座还需要以下库："
   ]
  },
  {
   "cell_type": "code",
   "execution_count": null,
   "id": "d6dcb92c",
   "metadata": {
    "tags": [
     "hide-output"
    ]
   },
   "outputs": [],
   "source": [
    "!pip install quantecon"
   ]
  },
  {
   "cell_type": "markdown",
   "id": "844a6e4a",
   "metadata": {},
   "source": [
    "## 概述\n",
    "\n",
    "在本讲座中，我们求解一个具有持久性和暂时性工资成分的{doc}`McCall求职搜索模型 <mccall_model>`。\n",
    "\n",
    "换句话说，我们放宽了工资随机性在时间上相互独立的假设。\n",
    "\n",
    "同时，我们将回到假设工作是永久性的，不会发生离职。\n",
    "\n",
    "这是为了在研究相关性影响时保持模型相对简单。\n",
    "\n",
    "我们将使用以下导入："
   ]
  },
  {
   "cell_type": "code",
   "execution_count": null,
   "id": "b23f396f",
   "metadata": {},
   "outputs": [],
   "source": [
    "import matplotlib.pyplot as plt\n",
    "import matplotlib as mpl\n",
    "FONTPATH = \"fonts/SourceHanSerifSC-SemiBold.otf\"\n",
    "mpl.font_manager.fontManager.addfont(FONTPATH)\n",
    "plt.rcParams['font.family'] = ['Source Han Serif SC']\n",
    "\n",
    "import numpy as np\n",
    "import quantecon as qe\n",
    "from numpy.random import randn\n",
    "from numba import jit, prange, float64\n",
    "from numba.experimental import jitclass"
   ]
  },
  {
   "cell_type": "markdown",
   "id": "d5e176c8",
   "metadata": {},
   "source": [
    "## 模型\n",
    "\n",
    "每个时间点的工资由下式给出：\n",
    "\n",
    "$$\n",
    "w_t = \\exp(z_t) + y_t\n",
    "$$\n",
    "\n",
    "其中\n",
    "\n",
    "$$\n",
    "y_t \\sim \\exp(\\mu + s \\zeta_t)\n",
    "\\quad \\text{且} \\quad\n",
    "z_{t+1} = d + \\rho z_t + \\sigma \\epsilon_{t+1}\n",
    "$$\n",
    "\n",
    "这里 $\\{ \\zeta_t \\}$ 和 $\\{ \\epsilon_t \\}$ 都是独立同分布的标准正态分布。\n",
    "\n",
    "这里 $\\{y_t\\}$ 是暂时性成分，$\\{z_t\\}$ 是持久性成分。\n",
    "\n",
    "如前所述，劳动者可以：\n",
    "\n",
    "1. 接受报价并在该工资水平永久工作，或\n",
    "1. 领取失业补偿金 $c$ 并等待下一期。\n",
    "\n",
    "价值函数满足贝尔曼方程：\n",
    "\n",
    "$$\n",
    "v^*(w, z) =\n",
    "    \\max\n",
    "    \\left\\{\n",
    "        \\frac{u(w)}{1-\\beta}, u(c) + \\beta \\, \\mathbb E_z v^*(w', z')\n",
    "    \\right\\}\n",
    "$$\n",
    "\n",
    "在这个表达式中，$u$ 是效用函数，$\\mathbb E_z$ 是给定当前 $z$ 时下一期变量的期望。\n",
    "\n",
    "变量 $z$ 作为状态进入贝尔曼方程，因为它的当前值有助于预测未来工资。\n",
    "\n",
    "### 简化\n",
    "\n",
    "有一种方法可以减少这个问题的维度，这大大加快了计算速度。\n",
    "\n",
    "首先，让 $f^*$ 为继续价值函数，定义为：\n",
    "\n",
    "$$\n",
    "f^*(z) := u(c) + \\beta \\, \\mathbb E_z v^*(w', z')\n",
    "$$\n",
    "\n",
    "贝尔曼方程现在可以写成：\n",
    "\n",
    "$$\n",
    "v^*(w, z) = \\max \\left\\{ \\frac{u(w)}{1-\\beta}, \\, f^*(z) \\right\\}\n",
    "$$\n",
    "\n",
    "结合最后两个表达式，我们看到继续价值函数满足：\n",
    "\n",
    "$$\n",
    "f^*(z) = u(c) + \\beta \\, \\mathbb E_z \\max \\left\\{ \\frac{u(w')}{1-\\beta}, f^*(z') \\right\\}\n",
    "$$\n",
    "\n",
    "我们将通过引入算子来求解这个函数方程：\n",
    "\n",
    "$$\n",
    "Qf(z) = u(c) + \\beta \\, \\mathbb E_z \\max \\left\\{ \\frac{u(w')}{1-\\beta}, f(z') \\right\\}\n",
    "$$\n",
    "\n",
    "根据构造，$f^*$ 是 $Q$ 的不动点，即 $Q f^* = f^*$。\n",
    "\n",
    "在温和的假设下，可以证明 $Q$ 是 $\\mathbb R$ 上连续函数空间上的[压缩映射](https://en.wikipedia.org/wiki/Contraction_mapping)。\n",
    "\n",
    "根据巴拿赫压缩映射定理，这意味着 $f^*$ 是唯一的不动点，我们可以从任何合理的初始条件开始通过迭代 $Q$ 来计算它。\n",
    "\n",
    "一旦我们有 $f^*$，我们就可以通过在接受报酬超过继续价值时停止来求解搜寻问题，即：\n",
    "\n",
    "$$\n",
    "\\frac{u(w)}{1-\\beta} \\geq f^*(z)\n",
    "$$\n",
    "\n",
    "对于效用函数，我们取 $u(c) = \\ln(c)$。\n",
    "\n",
    "保留工资是最后一个表达式中等式成立的工资。\n",
    "\n",
    "即：\n",
    "\n",
    "```{math}\n",
    ":label: corr_mcm_barw\n",
    "\n",
    "\\bar w (z) := \\exp(f^*(z) (1-\\beta))\n",
    "```\n",
    "\n",
    "我们的主要目标是求解保留规则并研究其性质和含义。\n",
    "\n",
    "## 实现\n",
    "\n",
    "让 $f$ 作为我们对 $f^*$ 的初始猜测。\n",
    "\n",
    "在迭代时，我们使用{doc}`拟合价值函数迭代 <mccall_fitted_vfi>`算法。\n",
    "\n",
    "特别地，$f$ 和所有后续迭代都存储为网格上的值向量。\n",
    "\n",
    "这些点根据需要通过分段线性插值插值成函数。\n",
    "\n",
    "$Qf$ 定义中的积分通过蒙特卡洛计算。\n",
    "\n",
    "以下列表通过提供我们将使用的数据类型信息来帮助Numba："
   ]
  },
  {
   "cell_type": "code",
   "execution_count": null,
   "id": "6f436ba7",
   "metadata": {},
   "outputs": [],
   "source": [
    "job_search_data = [\n",
    "     ('μ', float64),             # 暂时性冲击对数均值\n",
    "     ('s', float64),             # 暂时性冲击对数方差\n",
    "     ('d', float64),             # 持久性状态位移系数\n",
    "     ('ρ', float64),             # 持久性状态相关系数\n",
    "     ('σ', float64),             # 状态波动率\n",
    "     ('β', float64),             # 贴现因子\n",
    "     ('c', float64),             # 失业补偿金\n",
    "     ('z_grid', float64[:]),     # 状态空间网格\n",
    "     ('e_draws', float64[:,:])   # 积分用的蒙特卡洛抽取\n",
    "]"
   ]
  },
  {
   "cell_type": "markdown",
   "id": "cd322109",
   "metadata": {},
   "source": [
    "这是一个存储数据和贝尔曼方程右侧的类。\n",
    "\n",
    "默认参数值嵌入在类中。"
   ]
  },
  {
   "cell_type": "code",
   "execution_count": null,
   "id": "a0ac714f",
   "metadata": {},
   "outputs": [],
   "source": [
    "@jitclass(job_search_data)\n",
    "class JobSearch:\n",
    "\n",
    "    def __init__(self,\n",
    "                 μ=0.0,       # 暂时性冲击对数均值\n",
    "                 s=1.0,       # 暂时性冲击对数方差\n",
    "                 d=0.0,       # 持久性状态位移系数\n",
    "                 ρ=0.9,       # 持久性状态相关系数\n",
    "                 σ=0.1,       # 状态波动率\n",
    "                 β=0.98,      # 贴现因子\n",
    "                 c=5,         # 失业补偿金\n",
    "                 mc_size=1000,\n",
    "                 grid_size=100):\n",
    "\n",
    "        self.μ, self.s, self.d,  = μ, s, d,\n",
    "        self.ρ, self.σ, self.β, self.c = ρ, σ, β, c\n",
    "\n",
    "        # 设置网格\n",
    "        z_mean = d / (1 - ρ)\n",
    "        z_sd = σ / np.sqrt(1 - ρ**2)\n",
    "        k = 3  # 标准差倍数\n",
    "        a, b = z_mean - k * z_sd, z_mean + k * z_sd\n",
    "        self.z_grid = np.linspace(a, b, grid_size)\n",
    "\n",
    "        # 抽取并存储冲击\n",
    "        np.random.seed(1234)\n",
    "        self.e_draws = randn(2, mc_size)\n",
    "\n",
    "    def parameters(self):\n",
    "        \"\"\"\n",
    "        返回所有参数作为元组。\n",
    "        \"\"\"\n",
    "        return self.μ, self.s, self.d, \\\n",
    "                self.ρ, self.σ, self.β, self.c"
   ]
  },
  {
   "cell_type": "markdown",
   "id": "d5ae900a",
   "metadata": {},
   "source": [
    "接下来我们实现 $Q$ 算子。"
   ]
  },
  {
   "cell_type": "code",
   "execution_count": null,
   "id": "fd39d75d",
   "metadata": {},
   "outputs": [],
   "source": [
    "@jit(parallel=True)\n",
    "def Q(js, f_in, f_out):\n",
    "    \"\"\"\n",
    "    应用算子Q。\n",
    "\n",
    "        * js 是 JobSearch 的实例\n",
    "        * f_in 和 f_out 是表示 f 和 Qf 的数组\n",
    "\n",
    "    \"\"\"\n",
    "\n",
    "    μ, s, d, ρ, σ, β, c = js.parameters()\n",
    "    M = js.e_draws.shape[1]\n",
    "\n",
    "    for i in prange(len(js.z_grid)):\n",
    "        z = js.z_grid[i]\n",
    "        expectation = 0.0\n",
    "        for m in range(M):\n",
    "            e1, e2 = js.e_draws[:, m]\n",
    "            z_next = d + ρ * z + σ * e1\n",
    "            go_val = np.interp(z_next, js.z_grid, f_in)  # f(z')\n",
    "            y_next = np.exp(μ + s * e2)                  # y' 抽取\n",
    "            w_next = np.exp(z_next) + y_next             # w' 抽取\n",
    "            stop_val = np.log(w_next) / (1 - β)\n",
    "            expectation += max(stop_val, go_val)\n",
    "        expectation = expectation / M\n",
    "        f_out[i] = np.log(c) + β * expectation"
   ]
  },
  {
   "cell_type": "markdown",
   "id": "35e9b7c6",
   "metadata": {},
   "source": [
    "这是一个计算 $Q$ 不动点近似值的函数。"
   ]
  },
  {
   "cell_type": "code",
   "execution_count": null,
   "id": "8998541d",
   "metadata": {},
   "outputs": [],
   "source": [
    "def compute_fixed_point(js,\n",
    "                        use_parallel=True,\n",
    "                        tol=1e-4,\n",
    "                        max_iter=1000,\n",
    "                        verbose=True,\n",
    "                        print_skip=25):\n",
    "\n",
    "    f_init = np.full(len(js.z_grid), np.log(js.c))\n",
    "    f_out = np.empty_like(f_init)\n",
    "\n",
    "    # 设置循环\n",
    "    f_in = f_init\n",
    "    i = 0\n",
    "    error = tol + 1\n",
    "\n",
    "    while i < max_iter and error > tol:\n",
    "        Q(js, f_in, f_out)\n",
    "        error = np.max(np.abs(f_in - f_out))\n",
    "        i += 1\n",
    "        if verbose and i % print_skip == 0:\n",
    "            print(f\"第 {i} 次迭代的误差为 {error}。\")\n",
    "        f_in[:] = f_out\n",
    "\n",
    "    if error > tol:\n",
    "        print(\"未能收敛！\")\n",
    "    elif verbose:\n",
    "        print(f\"\\n在第 {i} 次迭代时收敛。\")\n",
    "\n",
    "    return f_out"
   ]
  },
  {
   "cell_type": "markdown",
   "id": "ce2f5cf4",
   "metadata": {},
   "source": [
    "让我们尝试生成一个实例并求解模型。"
   ]
  },
  {
   "cell_type": "code",
   "execution_count": null,
   "id": "047d832c",
   "metadata": {},
   "outputs": [],
   "source": [
    "js = JobSearch()\n",
    "\n",
    "qe.tic()\n",
    "f_star = compute_fixed_point(js, verbose=True)\n",
    "qe.toc()"
   ]
  },
  {
   "cell_type": "markdown",
   "id": "b102563a",
   "metadata": {},
   "source": [
    "接下来我们将计算并绘制在{eq}`corr_mcm_barw`中定义的保留工资函数。"
   ]
  },
  {
   "cell_type": "code",
   "execution_count": null,
   "id": "0134ae4e",
   "metadata": {},
   "outputs": [],
   "source": [
    "res_wage_function = np.exp(f_star * (1 - js.β))\n",
    "\n",
    "fig, ax = plt.subplots()\n",
    "ax.plot(js.z_grid, res_wage_function, label=\"给定 $z$ 的保留工资\")\n",
    "ax.set(xlabel=\"$z$\", ylabel=\"工资\")\n",
    "ax.legend()\n",
    "plt.show()"
   ]
  },
  {
   "cell_type": "markdown",
   "id": "1e4e506f",
   "metadata": {},
   "source": [
    "注意保留工资随当前状态 $z$ 增加。\n",
    "\n",
    "这是因为更高的状态导致代理人预测更高的未来工资，增加了等待的期权价值。\n",
    "\n",
    "让我们尝试改变失业补偿金并观察其对保留工资的影响："
   ]
  },
  {
   "cell_type": "code",
   "execution_count": null,
   "id": "dc70591c",
   "metadata": {},
   "outputs": [],
   "source": [
    "c_vals = 1, 2, 3\n",
    "\n",
    "fig, ax = plt.subplots()\n",
    "\n",
    "for c in c_vals:\n",
    "    js = JobSearch(c=c)\n",
    "    f_star = compute_fixed_point(js, verbose=False)\n",
    "    res_wage_function = np.exp(f_star * (1 - js.β))\n",
    "    ax.plot(js.z_grid, res_wage_function, label=rf\"$c = {c}$ 时的 $\\bar w$\")\n",
    "\n",
    "ax.set(xlabel=\"$z$\", ylabel=\"工资\")\n",
    "ax.legend()\n",
    "plt.show()"
   ]
  },
  {
   "cell_type": "markdown",
   "id": "72bd3116",
   "metadata": {},
   "source": [
    "正如预期的那样，更高的失业补偿金在所有状态值下都提高了保留工资。\n",
    "\n",
    "## 失业持续时间\n",
    "\n",
    "接下来我们研究平均失业持续时间如何随失业补偿金变化。\n",
    "\n",
    "为简单起见，我们将初始状态固定在 $z_t = 0$。"
   ]
  },
  {
   "cell_type": "code",
   "execution_count": null,
   "id": "7ffd1ad4",
   "metadata": {},
   "outputs": [],
   "source": [
    "def compute_unemployment_duration(js, seed=1234):\n",
    "\n",
    "    f_star = compute_fixed_point(js, verbose=False)\n",
    "    μ, s, d, ρ, σ, β, c = js.parameters()\n",
    "    z_grid = js.z_grid\n",
    "    np.random.seed(seed)\n",
    "\n",
    "    @jit\n",
    "    def f_star_function(z):\n",
    "        return np.interp(z, z_grid, f_star)\n",
    "\n",
    "    @jit\n",
    "    def draw_tau(t_max=10_000):\n",
    "        z = 0\n",
    "        t = 0\n",
    "\n",
    "        unemployed = True\n",
    "        while unemployed and t < t_max:\n",
    "            # 抽取当前工资\n",
    "            y = np.exp(μ + s * np.random.randn())\n",
    "            w = np.exp(z) + y\n",
    "            res_wage = np.exp(f_star_function(z) * (1 - β))\n",
    "            # 如果最优选择是停止，记录t\n",
    "            if w >= res_wage:\n",
    "                unemployed = False\n",
    "                τ = t\n",
    "            # 否则增加数据和状态\n",
    "            else:\n",
    "                z = ρ * z + d + σ * np.random.randn()\n",
    "                t += 1\n",
    "        return τ\n",
    "\n",
    "    @jit(parallel=True)\n",
    "    def compute_expected_tau(num_reps=100_000):\n",
    "        sum_value = 0\n",
    "        for i in prange(num_reps):\n",
    "            sum_value += draw_tau()\n",
    "        return sum_value / num_reps\n",
    "\n",
    "    return compute_expected_tau()"
   ]
  },
  {
   "cell_type": "markdown",
   "id": "e10c7035",
   "metadata": {},
   "source": [
    "让我们用一些可能的失业补偿金值来测试这个："
   ]
  },
  {
   "cell_type": "code",
   "execution_count": null,
   "id": "e215c880",
   "metadata": {},
   "outputs": [],
   "source": [
    "c_vals = np.linspace(1.0, 10.0, 8)\n",
    "durations = np.empty_like(c_vals)\n",
    "for i, c in enumerate(c_vals):\n",
    "    js = JobSearch(c=c)\n",
    "    τ = compute_unemployment_duration(js)\n",
    "    durations[i] = τ"
   ]
  },
  {
   "cell_type": "markdown",
   "id": "abc4dbb8",
   "metadata": {},
   "source": [
    "这是结果图："
   ]
  },
  {
   "cell_type": "code",
   "execution_count": null,
   "id": "57964a36",
   "metadata": {},
   "outputs": [],
   "source": [
    "fig, ax = plt.subplots()\n",
    "ax.plot(c_vals, durations)\n",
    "ax.set_xlabel(\"失业补偿金\")\n",
    "ax.set_ylabel(\"平均失业持续时间\")\n",
    "plt.show()"
   ]
  },
  {
   "cell_type": "markdown",
   "id": "370d2c52",
   "metadata": {},
   "source": [
    "不出所料，当失业补偿金更高时，失业持续时间增加。\n",
    "\n",
    "这是因为等待的价值随失业补偿金增加。\n",
    "\n",
    "## 练习\n",
    "\n",
    "```{exercise}\n",
    ":label: mc_ex1\n",
    "\n",
    "研究平均失业持续时间如何随贴现因子 $\\beta$ 变化。\n",
    "\n",
    "* 你的先验预期是什么？\n",
    "* 结果是否符合预期？\n",
    "```\n",
    "\n",
    "```{solution-start} mc_ex1\n",
    ":class: dropdown\n",
    "```\n",
    "\n",
    "这是一个解决方案"
   ]
  },
  {
   "cell_type": "code",
   "execution_count": null,
   "id": "dba966f1",
   "metadata": {},
   "outputs": [],
   "source": [
    "beta_vals = np.linspace(0.94, 0.99, 8)\n",
    "durations = np.empty_like(beta_vals)\n",
    "for i, β in enumerate(beta_vals):\n",
    "    js = JobSearch(β=β)\n",
    "    τ = compute_unemployment_duration(js)\n",
    "    durations[i] = τ"
   ]
  },
  {
   "cell_type": "code",
   "execution_count": null,
   "id": "18a66a6b",
   "metadata": {},
   "outputs": [],
   "source": [
    "fig, ax = plt.subplots()\n",
    "ax.plot(beta_vals, durations)\n",
    "ax.set_xlabel(r\"$\\beta$\")\n",
    "ax.set_ylabel(\"平均失业持续时间\")\n",
    "plt.show()"
   ]
  },
  {
   "cell_type": "markdown",
   "id": "29a69f88",
   "metadata": {},
   "source": [
    "该图显示，更有耐心的个人倾向于等待更长时间才接受报价。\n",
    "\n",
    "```{solution-end}"
   ]
  }
 ],
 "metadata": {
  "jupytext": {
   "text_representation": {
    "extension": ".md",
    "format_name": "myst"
   }
  },
  "kernelspec": {
   "display_name": "Python 3",
   "language": "python",
   "name": "python3"
  },
  "source_map": [
   10,
   28,
   33,
   47,
   59,
   168,
   180,
   186,
   221,
   225,
   252,
   256,
   286,
   290,
   296,
   300,
   308,
   316,
   330,
   340,
   381,
   385,
   392,
   396,
   402,
   425,
   434,
   440
  ]
 },
 "nbformat": 4,
 "nbformat_minor": 5
}