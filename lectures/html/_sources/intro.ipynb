{
 "cells": [
  {
   "cell_type": "markdown",
   "id": "dcb4d251",
   "metadata": {},
   "source": [
    "# Python中级数量经济学\n",
    "\n",
    "本网站提供一系列关于数量经济建模的讲座。\n",
    "\n",
    "```{tableofcontents}\n",
    "```"
   ]
  }
 ],
 "metadata": {
  "jupytext": {
   "text_representation": {
    "extension": ".md",
    "format_name": "myst"
   }
  },
  "kernelspec": {
   "display_name": "Python 3",
   "language": "python",
   "name": "python3"
  },
  "source_map": [
   10
  ]
 },
 "nbformat": 4,
 "nbformat_minor": 5
}