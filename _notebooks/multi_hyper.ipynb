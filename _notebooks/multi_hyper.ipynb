{
 "cells": [
  {
   "cell_type": "markdown",
   "id": "8328a8df",
   "metadata": {},
   "source": [
    "\n",
    "<a id='multi-hyper-v7'></a>\n",
    "<div id=\"qe-notebook-header\" align=\"right\" style=\"text-align:right;\">\n",
    "        <a href=\"https://quantecon.org/\" title=\"quantecon.org\">\n",
    "                <img style=\"width:250px;display:inline;\" width=\"250px\" src=\"https://assets.quantecon.org/img/qe-menubar-logo.svg\" alt=\"QuantEcon\">\n",
    "        </a>\n",
    "</div>"
   ]
  },
  {
   "cell_type": "markdown",
   "id": "b26047c3",
   "metadata": {},
   "source": [
    "# 多元超几何分布"
   ]
  },
  {
   "cell_type": "markdown",
   "id": "254727c7",
   "metadata": {},
   "source": [
    "## 目录\n",
    "\n",
    "- [多元超几何分布](#多元超几何分布)  \n",
    "  - [概述](#概述)  \n",
    "  - [管理员的问题](#管理员的问题)  \n",
    "  - [使用方法](#使用方法)  "
   ]
  },
  {
   "cell_type": "markdown",
   "id": "b2de8dd3",
   "metadata": {},
   "source": [
    "## 概述\n",
    "\n",
    "本讲解介绍了一位管理者如何运用**多元超几何分布**来评估研究基金分配程序的公平性。\n",
    "\n",
    "在本讲中，我们将学习：\n",
    "\n",
    "- 多元超几何分布的性质  \n",
    "- 多元超几何分布的一阶和二阶矩  \n",
    "- 使用多元正态分布的蒙特卡洛模拟来评估正态近似的质量  \n",
    "- 管理员的问题以及为什么多元超几何分布是正确的工具  "
   ]
  },
  {
   "cell_type": "markdown",
   "id": "8a4b6f44",
   "metadata": {},
   "source": [
    "## 管理员的问题\n",
    "\n",
    "一位负责分配研究基金的管理员面临以下情况。\n",
    "\n",
    "为了帮助我们忽略与此无关的细节，并保护管理员和相关人员的匿名性，我们将研究提案称为**球**，将提案作者所在的大洲称为**颜色**。\n",
    "\n",
    "有 $ K_i $ 个颜色为 $ i $ 的球（提案）。\n",
    "\n",
    "有 $ c $ 种不同的颜色（大洲）。\n",
    "\n",
    "因此，$ i = 1, 2, \\ldots, c $\n",
    "\n",
    "所以总共有 $ N = \\sum_{i=1}^c K_i $ 个球。\n",
    "\n",
    "所有这 $ N $ 个球被放入一个箱子中。\n",
    "\n",
    "然后随机抽取 $ n $ 个球。\n",
    "\n",
    "选拔程序应该是**色盲的**，这意味着**球的质量**这一随机变量应该与**球的颜色**无关，决定一个球是否被抽中。\n",
    "\n",
    "因此，选拔程序应该从箱子中随机抽取$ n $个球。\n",
    "\n",
    "这$ n $个被抽中的球代表成功的提案，将获得研究资金。\n",
    "\n",
    "剩余的$ N-n $个球不会获得研究资金。"
   ]
  },
  {
   "cell_type": "markdown",
   "id": "903c8b00",
   "metadata": {},
   "source": [
    "### 研究中的奖励程序细节\n",
    "\n",
    "令$ k_i $为抽取的颜色$ i $的球的数量。\n",
    "\n",
    "总数必须相加，所以$ \\sum_{i=1}^c k_i = n $。\n",
    "\n",
    "在假设选拔过程根据提案质量进行判断，且质量与作者所在大洲无关的前提下，管理者将选拔程序的结果视为一个随机向量\n",
    "\n",
    "$$\n",
    "X = \\begin{pmatrix} k_1 \\cr k_2 \\cr \\vdots \\cr k_c \\end{pmatrix}.\n",
    "$$\n",
    "\n",
    "为了评估选择程序是否**色盲**，管理员想研究所抽取的$ X $的特定实现是否可以合理地被认为是从**色盲**假设所暗示的概率分布中随机抽取的。\n",
    "\n",
    "适当的概率分布是[这里](https://en.wikipedia.org/wiki/Hypergeometric_distribution)所描述的分布。\n",
    "\n",
    "让我们现在具体化管理员的问题，同时继续使用彩色球的比喻。\n",
    "\n",
    "管理员有一个装有$ N = 238 $个球的罐子。\n",
    "\n",
    "157个球是蓝色的，11个球是绿色的，46个球是黄色的，24个球是黑色的。\n",
    "\n",
    "所以$ (K_1, K_2, K_3, K_4) = (157 , 11 , 46 , 24) $且$ c = 4 $。\n",
    "\n",
    "不放回地抽取15个球。\n",
    "\n",
    "所以$ n = 15 $。\n",
    "\n",
    "管理员想知道结果的概率分布\n",
    "\n",
    "$$\n",
    "X = \\begin{pmatrix} k_1 \\cr k_2 \\cr \\vdots \\cr k_4 \\end{pmatrix}.\n",
    "$$\n",
    "\n",
    "特别地，他想知道一个特定的\n",
    "\n",
    "结果 - 以一个 $ 4 \\times 1 $ 的整数向量形式记录蓝色、绿色、黄色和黑色球的数量 - 包含了反对选择过程是*公平*的证据，这里*公平*意味着*色盲*且确实是从 $ N $ 个球的总体中进行的无放回随机抽取。\n",
    "\n",
    "管理员的正确工具是**多元超几何分布**。"
   ]
  },
  {
   "cell_type": "markdown",
   "id": "0b05e008",
   "metadata": {},
   "source": [
    "### 多元超几何分布\n",
    "\n",
    "让我们从一些导入开始。"
   ]
  },
  {
   "cell_type": "code",
   "execution_count": null,
   "id": "63f6c53b",
   "metadata": {
    "hide-output": false
   },
   "outputs": [],
   "source": [
    "import matplotlib.pyplot as plt\n",
    "import matplotlib as mpl\n",
    "FONTPATH = \"fonts/SourceHanSerifSC-SemiBold.otf\"\n",
    "mpl.font_manager.fontManager.addfont(FONTPATH)\n",
    "plt.rcParams['font.family'] = ['Source Han Serif SC']\n",
    "\n",
    "plt.rcParams[\"figure.figsize\"] = (11, 5)  #设置默认图形大小\n",
    "import numpy as np\n",
    "from scipy.special import comb\n",
    "from scipy.stats import normaltest\n",
    "from numba import jit, prange"
   ]
  },
  {
   "cell_type": "markdown",
   "id": "345569e7",
   "metadata": {},
   "source": [
    "总的来说，我们假设在一个坛子里总共有$ c $种物品。\n",
    "\n",
    "如果坛子里有$ K_{i} $个第$ i $种物品，我们不放回地随机抽取$ n $次，那么样本中第$ i $种物品的数量$ (k_{1},k_{2},\\dots,k_{c}) $服从多元超几何分布。\n",
    "\n",
    "再次注意，$ N=\\sum_{i=1}^{c} K_{i} $是坛子中物品的总数，且$ n=\\sum_{i=1}^{c}k_{i} $。\n",
    "\n",
    "**符号说明**\n",
    "\n",
    "我们使用以下符号表示**二项式系数**：$ {m \\choose q} = \\frac{m!}{(m-q)!} $。\n",
    "\n",
    "多元超几何分布具有以下性质：\n",
    "\n",
    "**概率质量函数**：\n",
    "\n",
    "$$\n",
    "\\Pr \\{X_{i}=k_{i} \\  \\forall i\\} =\n",
    " \\frac {\\prod _{i=1}^{c}{\\binom {K_{i}}{k_{i}}}}{\\binom {N}{n}}\n",
    "$$\n",
    "\n",
    "**期望值**：\n",
    "\n",
    "$$\n",
    "{\\displaystyle \\operatorname {E} (X_{i})=n{\\frac {K_{i}}{N}}}\n",
    "$$\n",
    "\n",
    "**方差和协方差**：\n",
    "\n",
    "$$\n",
    "{\\displaystyle \\operatorname {Var} (X_{i})=n{\\frac {N-n}{N-1}}\\;{\\frac {K_{i}}{N}}\\left(1-{\\frac {K_{i}}{N}}\\right)}\n",
    "$$\n",
    "\n",
    "{\\displaystyle \\operatorname {Cov} (X_{i},X_{j})=-n{\\frac {N-n}{N-1}};{\\frac {K_{i}}{N}}{\\frac {K_{j}}{N}}}\n",
    "\\$\\$\n",
    "\n",
    "为了帮我们完成工作，我们将编写一个`Urn`类。"
   ]
  },
  {
   "cell_type": "code",
   "execution_count": null,
   "id": "8ea70c00",
   "metadata": {
    "hide-output": false
   },
   "outputs": [],
   "source": [
    "class Urn:\n",
    "\n",
    "    def __init__(self, K_arr):\n",
    "        \"\"\"\n",
    "        根据坛子中每种类型i物体的数量进行初始化。\n",
    "\n",
    "        参数\n",
    "        ----------\n",
    "        K_arr: ndarray(int)\n",
    "            每种类型i物体的数量。\n",
    "        \"\"\"\n",
    "\n",
    "        self.K_arr = np.array(K_arr)\n",
    "        self.N = np.sum(K_arr)\n",
    "        self.c = len(K_arr)\n",
    "\n",
    "    def pmf(self, k_arr):\n",
    "        \"\"\"\n",
    "        概率质量函数。\n",
    "\n",
    "        参数\n",
    "        ----------\n",
    "        k_arr: ndarray(int)\n",
    "            每种物体观察到的成功次数。\n",
    "        \"\"\"\n",
    "\n",
    "        K_arr, N = self.K_arr, self.N\n",
    "\n",
    "        k_arr = np.atleast_2d(k_arr)\n",
    "        n = np.sum(k_arr, 1)\n",
    "\n",
    "        num = np.prod(comb(K_arr, k_arr), 1)\n",
    "        denom = comb(N, n)\n",
    "\n",
    "        pr = num / denom\n",
    "\n",
    "        return pr\n",
    "\n",
    "    def moments(self, n):\n",
    "        \"\"\"\n",
    "        计算多元超几何分布的均值和方差-协方差矩阵。\n",
    "\n",
    "        参数\n",
    "        ----------\n",
    "        n: int\n",
    "            抽取次数。\n",
    "        \"\"\"\n",
    "\n",
    "        K_arr, N, c = self.K_arr, self.N, self.c\n",
    "\n",
    "        # 均值\n",
    "        μ = n * K_arr / N\n",
    "\n",
    "        # 方差-协方差矩阵\n",
    "        Σ = np.full((c, c), n * (N - n) / (N - 1) / N ** 2)\n",
    "        for i in range(c-1):\n",
    "            Σ[i, i] *= K_arr[i] * (N - K_arr[i])\n",
    "            for j in range(i+1, c):\n",
    "                Σ[i, j] *= - K_arr[i] * K_arr[j]\n",
    "                Σ[j, i] = Σ[i, j]\n",
    "\n",
    "        Σ[-1, -1] *= K_arr[-1] * (N - K_arr[-1])\n",
    "\n",
    "        return μ, Σ\n",
    "\n",
    "    def simulate(self, n, size=1, seed=None):\n",
    "        \"\"\"\n",
    "        从多元超几何分布中模拟样本，每次抽取时\n",
    "        从坛子中不放回地取出n个物体。\n",
    "\n",
    "        参数\n",
    "        ----------\n",
    "        n: int\n",
    "            每次抽取的物体数量。\n",
    "        size: int(可选)\n",
    "            样本大小。\n",
    "        seed: int(可选)\n",
    "            随机种子。\n",
    "        \"\"\"\n",
    "\n",
    "        K_arr = self.K_arr\n",
    "\n",
    "        gen = np.random.Generator(np.random.PCG64(seed))\n",
    "        sample = gen.multivariate_hypergeometric(K_arr, n, size=size)\n",
    "\n",
    "        return sample"
   ]
  },
  {
   "cell_type": "markdown",
   "id": "9ac557b4",
   "metadata": {},
   "source": [
    "## 使用方法"
   ]
  },
  {
   "cell_type": "markdown",
   "id": "d764c84a",
   "metadata": {},
   "source": [
    "### 第一个例子\n",
    "\n",
    "应用这个例子，来自[维基百科](https://en.wikipedia.org/wiki/Hypergeometric_distribution#Multivariate_hypergeometric_distribution)：\n",
    "\n",
    "假设一个骨灰盒中有5个黑色、10个白色和15个红色的弹珠。如果不放回地抽取六个弹珠，抽到每种颜色各两个的概率是\n",
    "\n",
    "$$\n",
    "P(2{\\text{ 黑色}},2{\\text{ 白色}},2{\\text{ 红色}})={{{5 \\choose 2}{10 \\choose 2}{15 \\choose 2}} \\over {30 \\choose 6}}=0.079575596816976\n",
    "$$"
   ]
  },
  {
   "cell_type": "code",
   "execution_count": null,
   "id": "4478c9f7",
   "metadata": {
    "hide-output": false
   },
   "outputs": [],
   "source": [
    "# 构造骨灰盒\n",
    "K_arr = [5, 10, 15]\n",
    "urn = Urn(K_arr)"
   ]
  },
  {
   "cell_type": "markdown",
   "id": "6b6eaf9f",
   "metadata": {},
   "source": [
    "现在使用 Urn 类的 `pmf` 方法来计算结果 $ X = \\begin{pmatrix} 2 & 2 & 2 \\end{pmatrix} $ 的概率"
   ]
  },
  {
   "cell_type": "code",
   "execution_count": null,
   "id": "f30cddde",
   "metadata": {
    "hide-output": false
   },
   "outputs": [],
   "source": [
    "k_arr = [2, 2, 2] # 观察到成功次数的数组\n",
    "urn.pmf(k_arr)"
   ]
  },
  {
   "cell_type": "markdown",
   "id": "acca93f7",
   "metadata": {},
   "source": [
    "我们可以通过构建一个二维数组`k_arr`来计算一系列可能结果的概率，`pmf`将返回一个数组，包含观察到每种情况的概率。"
   ]
  },
  {
   "cell_type": "code",
   "execution_count": null,
   "id": "16e70d98",
   "metadata": {
    "hide-output": false
   },
   "outputs": [],
   "source": [
    "k_arr = [[2, 2, 2], [1, 3, 2]]\n",
    "urn.pmf(k_arr)"
   ]
  },
  {
   "cell_type": "markdown",
   "id": "6d4dce05",
   "metadata": {},
   "source": [
    "现在让我们计算均值向量和方差-协方差矩阵。"
   ]
  },
  {
   "cell_type": "code",
   "execution_count": null,
   "id": "2c53594d",
   "metadata": {
    "hide-output": false
   },
   "outputs": [],
   "source": [
    "n = 6\n",
    "μ, Σ = urn.moments(n)"
   ]
  },
  {
   "cell_type": "code",
   "execution_count": null,
   "id": "0101df4e",
   "metadata": {
    "hide-output": false
   },
   "outputs": [],
   "source": [
    "μ"
   ]
  },
  {
   "cell_type": "code",
   "execution_count": null,
   "id": "3c95ecfd",
   "metadata": {
    "hide-output": false
   },
   "outputs": [],
   "source": [
    "Σ"
   ]
  },
  {
   "cell_type": "markdown",
   "id": "4a0b100c",
   "metadata": {},
   "source": [
    "### 回到管理员的问题\n",
    "\n",
    "现在让我们回到拨款管理员的问题。\n",
    "\n",
    "这里在箱子里的$ i $个物品的数组是\n",
    "$ \\left(157, 11, 46, 24\\right) $。"
   ]
  },
  {
   "cell_type": "code",
   "execution_count": null,
   "id": "cb2f9d21",
   "metadata": {
    "hide-output": false
   },
   "outputs": [],
   "source": [
    "K_arr = [157, 11, 46, 24]\n",
    "urn = Urn(K_arr)"
   ]
  },
  {
   "cell_type": "markdown",
   "id": "eb99c27d",
   "metadata": {},
   "source": [
    "让我们计算结果 $ \\left(10, 1, 4, 0 \\right) $ 的概率。"
   ]
  },
  {
   "cell_type": "code",
   "execution_count": null,
   "id": "d7aace70",
   "metadata": {
    "hide-output": false
   },
   "outputs": [],
   "source": [
    "k_arr = [10, 1, 4, 0]\n",
    "urn.pmf(k_arr)"
   ]
  },
  {
   "cell_type": "markdown",
   "id": "bfaf0d28",
   "metadata": {},
   "source": [
    "我们可以通过构建一个3维数组`k_arr`并使用`Urn`类的`pmf`方法来计算三种可能结果的概率。"
   ]
  },
  {
   "cell_type": "code",
   "execution_count": null,
   "id": "06280375",
   "metadata": {
    "hide-output": false
   },
   "outputs": [],
   "source": [
    "k_arr = [[5, 5, 4 ,1], [10, 1, 2, 2], [13, 0, 2, 0]]\n",
    "urn.pmf(k_arr)"
   ]
  },
  {
   "cell_type": "markdown",
   "id": "a411d04d",
   "metadata": {},
   "source": [
    "现在让我们计算当 $ n=6 $ 时 $ X $ 的均值和方差-协方差矩阵。"
   ]
  },
  {
   "cell_type": "code",
   "execution_count": null,
   "id": "f4447b7d",
   "metadata": {
    "hide-output": false
   },
   "outputs": [],
   "source": [
    "n = 6 # 抽取次数\n",
    "μ, Σ = urn.moments(n)"
   ]
  },
  {
   "cell_type": "code",
   "execution_count": null,
   "id": "1daa26db",
   "metadata": {
    "hide-output": false
   },
   "outputs": [],
   "source": [
    "# 均值\n",
    "μ"
   ]
  },
  {
   "cell_type": "code",
   "execution_count": null,
   "id": "1a20a9be",
   "metadata": {
    "hide-output": false
   },
   "outputs": [],
   "source": [
    "# 方差-协方差矩阵\n",
    "Σ"
   ]
  },
  {
   "cell_type": "markdown",
   "id": "b6dfcda8",
   "metadata": {},
   "source": [
    "我们可以模拟一个大样本，并验证样本均值和协方差与总体均值和协方差非常接近。"
   ]
  },
  {
   "cell_type": "code",
   "execution_count": null,
   "id": "61f420ba",
   "metadata": {
    "hide-output": false
   },
   "outputs": [],
   "source": [
    "size = 10_000_000\n",
    "sample = urn.simulate(n, size=size)"
   ]
  },
  {
   "cell_type": "code",
   "execution_count": null,
   "id": "ee7f2b74",
   "metadata": {
    "hide-output": false
   },
   "outputs": [],
   "source": [
    "# 均值\n",
    "np.mean(sample, 0)"
   ]
  },
  {
   "cell_type": "code",
   "execution_count": null,
   "id": "c352ac53",
   "metadata": {
    "hide-output": false
   },
   "outputs": [],
   "source": [
    "# 方差协方差矩阵\n",
    "np.cov(sample.T)"
   ]
  },
  {
   "cell_type": "markdown",
   "id": "b659a89d",
   "metadata": {},
   "source": [
    "显然，样本均值和协方差很好地近似了它们的总体对应值。"
   ]
  },
  {
   "cell_type": "markdown",
   "id": "cde1d9df",
   "metadata": {},
   "source": [
    "### 正态近似的质量\n",
    "\n",
    "为了判断多元正态分布对多元超几何分布的近似质量，我们从具有相应多元超几何分布的均值向量和协方差矩阵的多元正态分布中抽取大量样本，并将模拟分布与总体多元超几何分布进行比较。"
   ]
  },
  {
   "cell_type": "code",
   "execution_count": null,
   "id": "b6bd0424",
   "metadata": {
    "hide-output": false
   },
   "outputs": [],
   "source": [
    "sample_normal = np.random.multivariate_normal(μ, Σ, size=size)"
   ]
  },
  {
   "cell_type": "code",
   "execution_count": null,
   "id": "38b8e666",
   "metadata": {
    "hide-output": false
   },
   "outputs": [],
   "source": [
    "def bivariate_normal(x, y, μ, Σ, i, j):\n",
    "\n",
    "    μ_x, μ_y = μ[i], μ[j]\n",
    "    σ_x, σ_y = np.sqrt(Σ[i, i]), np.sqrt(Σ[j, j])\n",
    "    σ_xy = Σ[i, j]\n",
    "\n",
    "    x_μ = x - μ_x\n",
    "    y_μ = y - μ_y\n",
    "\n",
    "    ρ = σ_xy / (σ_x * σ_y)\n",
    "    z = x_μ**2 / σ_x**2 + y_μ**2 / σ_y**2 - 2 * ρ * x_μ * y_μ / (σ_x * σ_y)\n",
    "    denom = 2 * np.pi * σ_x * σ_y * np.sqrt(1 - ρ**2)\n",
    "\n",
    "    return np.exp(-z / (2 * (1 - ρ**2))) / denom"
   ]
  },
  {
   "cell_type": "code",
   "execution_count": null,
   "id": "2dffe0f0",
   "metadata": {
    "hide-output": false
   },
   "outputs": [],
   "source": [
    "@jit\n",
    "def count(vec1, vec2, n):\n",
    "    size = sample.shape[0]\n",
    "\n",
    "    count_mat = np.zeros((n+1, n+1))\n",
    "    for i in prange(size):\n",
    "        count_mat[vec1[i], vec2[i]] += 1\n",
    "\n",
    "    return count_mat"
   ]
  },
  {
   "cell_type": "code",
   "execution_count": null,
   "id": "2357a395",
   "metadata": {
    "hide-output": false
   },
   "outputs": [],
   "source": [
    "c = urn.c\n",
    "fig, axs = plt.subplots(c, c, figsize=(14, 14))\n",
    "\n",
    "# 用于绘制二元高斯分布的网格\n",
    "x_grid = np.linspace(-2, n+1, 100)\n",
    "y_grid = np.linspace(-2, n+1, 100)\n",
    "X, Y = np.meshgrid(x_grid, y_grid)\n",
    "\n",
    "for i in range(c):\n",
    "    axs[i, i].hist(sample[:, i], bins=np.arange(0, n, 1), alpha=0.5, density=True, label='超几何')\n",
    "    axs[i, i].hist(sample_normal[:, i], bins=np.arange(0, n, 1), alpha=0.5, density=True, label='正态')\n",
    "    axs[i, i].legend()\n",
    "    axs[i, i].set_title('$k_{' +str(i+1) +'}$')\n",
    "    for j in range(c):\n",
    "        if i == j:\n",
    "            continue\n",
    "\n",
    "        # 二元高斯密度函数\n",
    "        Z = bivariate_normal(X, Y, μ, Σ, i, j)\n",
    "        cs = axs[i, j].contour(X, Y, Z, 4, colors=\"black\", alpha=0.6)\n",
    "        axs[i, j].clabel(cs, inline=1, fontsize=10)\n",
    "\n",
    "        # 经验多元超几何分布\n",
    "        count_mat = count(sample[:, i], sample[:, j], n)\n",
    "        axs[i, j].pcolor(count_mat.T/size, cmap='Blues')\n",
    "        axs[i, j].set_title('$(k_{' +str(i+1) +'}, k_{' + str(j+1) + '})$')\n",
    "\n",
    "plt.show()"
   ]
  },
  {
   "cell_type": "markdown",
   "id": "4de17e3b",
   "metadata": {},
   "source": [
    "对角线图使用直方图绘制每个$ k_i $的边际分布。\n",
    "\n",
    "注意超几何分布与近似正态分布之间存在显著差异。\n",
    "\n",
    "非对角线图为每对$ (i, j) $绘制$ k_i $和$ k_j $的经验联合分布。\n",
    "\n",
    "蓝色越深，表示相应单元格中包含的数据点越多。（注意$ k_i $在x轴上，$ k_j $在y轴上）。\n",
    "\n",
    "等高线图绘制了$ \\left(k_i, k_j\\right) $的二元高斯密度函数，其中总体均值和协方差由我们上面计算的$ \\mu $和$ \\Sigma $的切片给出。\n",
    "\n",
    "让我们也使用`scipy.stats.normaltest`对每个$ k_i $进行正态性检验，该检验实现了D’Agostino和Pearson的检验方法，将偏度和峰度结合起来形成正态性的综合检验。\n",
    "\n",
    "原假设是样本服从正态分布。\n",
    "\n",
    "> `normaltest` 返回与每个 $ k_i $ 样本测试相关的p值数组。"
   ]
  },
  {
   "cell_type": "code",
   "execution_count": null,
   "id": "98fe53fd",
   "metadata": {
    "hide-output": false
   },
   "outputs": [],
   "source": [
    "test_multihyper = normaltest(sample)\n",
    "test_multihyper.pvalue"
   ]
  },
  {
   "cell_type": "markdown",
   "id": "b2bce1b5",
   "metadata": {},
   "source": [
    "正如我们所见，所有p值几乎都是 $ 0 $，零假设被明确地拒绝。\n",
    "\n",
    "相比之下，来自正态分布的样本并不拒绝零假设。"
   ]
  },
  {
   "cell_type": "code",
   "execution_count": null,
   "id": "ebca6f5e",
   "metadata": {
    "hide-output": false
   },
   "outputs": [],
   "source": [
    "test_normal = normaltest(sample_normal)\n",
    "test_normal.pvalue"
   ]
  },
  {
   "cell_type": "markdown",
   "id": "68db790c",
   "metadata": {},
   "source": [
    "从这里得到的教训是，正态近似并不完美。"
   ]
  }
 ],
 "metadata": {
  "date": 1750032243.9646773,
  "filename": "multi_hyper.md",
  "kernelspec": {
   "display_name": "Python",
   "language": "python3",
   "name": "python3"
  },
  "title": "多元超几何分布"
 },
 "nbformat": 4,
 "nbformat_minor": 5
}