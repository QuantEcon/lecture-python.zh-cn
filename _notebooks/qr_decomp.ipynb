{
 "cells": [
  {
   "cell_type": "markdown",
   "id": "b1633a05",
   "metadata": {},
   "source": [
    "# QR分解"
   ]
  },
  {
   "cell_type": "markdown",
   "id": "05eba23a",
   "metadata": {},
   "source": [
    "## 概述\n",
    "\n",
    "本讲解释QR分解及其与以下内容的关系：\n",
    "\n",
    "- 正交投影和最小二乘法  \n",
    "- Gram-Schmidt正交化过程  \n",
    "- 特征值和特征向量  \n",
    "\n",
    "\n",
    "我们将编写一些Python代码来帮助巩固理解。"
   ]
  },
  {
   "cell_type": "markdown",
   "id": "ebff7189",
   "metadata": {},
   "source": [
    "## 矩阵分解\n",
    "\n",
    "QR分解（也称为QR因式分解）是将一个矩阵分解为一个正交矩阵和一个三角矩阵的乘积。\n",
    "\n",
    "对于一个实矩阵$ A $，其QR分解形式为：\n",
    "\n",
    "$$\n",
    "A=QR\n",
    "$$\n",
    "\n",
    "其中：\n",
    "\n",
    "- $ Q $是正交矩阵（满足$ Q^TQ = I $）  \n",
    "- $ R $是上三角矩阵  \n",
    "\n",
    "\n",
    "我们将使用**Gram-Schmidt正交化过程**来计算QR分解\n",
    "\n",
    "由于这个过程很有教育意义，我们将编写自己的Python代码来完成这项工作"
   ]
  },
  {
   "cell_type": "markdown",
   "id": "60f1d3ea",
   "metadata": {},
   "source": [
    "## 格拉姆-施密特正交化过程\n",
    "\n",
    "我们从一个**方阵**$ A $开始。\n",
    "\n",
    "如果方阵$ A $是非奇异的，那么$ QR $分解是唯一的。\n",
    "\n",
    "我们稍后会处理矩形矩阵$ A $。\n",
    "\n",
    "实际上，我们的算法也适用于非方阵的矩形矩阵$ A $。"
   ]
  },
  {
   "cell_type": "markdown",
   "id": "0c99ae90",
   "metadata": {},
   "source": [
    "### 方阵$ A $的格拉姆-施密特过程\n",
    "\n",
    "这里我们对矩阵$ A $的**列**应用格拉姆-施密特过程。\n",
    "\n",
    "具体来说，令\n",
    "\n",
    "$$\n",
    "A= \\left[ \\begin{array}{c|c|c|c} a_1 & a_2 & \\cdots & a_n \\end{array} \\right]\n",
    "$$\n",
    "\n",
    "令$ || · || $表示L2范数。\n",
    "\n",
    "格拉姆-施密特算法按特定顺序重复以下两个步骤\n",
    "\n",
    "- **标准化**向量使其具有单位范数  \n",
    "- **正交化**下一个向量  \n",
    "\n",
    "\n",
    "首先，我们设$ u_1 = a_1 $然后进行**标准化**：\n",
    "\n",
    "$$\n",
    "u_1=a_1, \\ \\ \\ e_1=\\frac{u_1}{||u_1||}\n",
    "$$\n",
    "\n",
    "我们先**正交化**计算$ u_2 $，然后**标准化**得到$ e_2 $：\n",
    "\n",
    "$$\n",
    "u_2=a_2-(a_2· e_1)e_1, \\ \\ \\  e_2=\\frac{u_2}{||u_2||}\n",
    "$$\n",
    "\n",
    "我们邀请读者通过验证 $ e_1 \\cdot e_2 = 0 $ 来确认 $ e_1 $ 与 $ e_2 $ 正交。\n",
    "\n",
    "Gram-Schmidt过程继续迭代。\n",
    "\n",
    "因此，对于 $ k= 2, \\ldots, n-1 $，我们构造\n",
    "\n",
    "$$\n",
    "u_{k+1}=a_{k+1}-(a_{k+1}· e_1)e_1-\\cdots-(a_{k+1}· e_k)e_k, \\ \\ \\ e_{k+1}=\\frac{u_{k+1}}{||u_{k+1}||}\n",
    "$$\n",
    "\n",
    "这里的 $ (a_j \\cdot e_i) $ 可以被解释为 $ a_j $ 在 $ e_i $ 上的线性最小二乘**回归系数**\n",
    "\n",
    "- 它是 $ a_j $ 和 $ e_i $ 的内积除以 $ e_i $ 的内积，其中\n",
    "  由于*标准化*，我们知道 $ e_i \\cdot e_i = 1 $  \n",
    "- 这个回归系数可以解释为**协方差**除以**方差**  \n",
    "\n",
    "\n",
    "可以验证\n",
    "\n",
    "$$\n",
    "A= \\left[ \\begin{array}{c|c|c|c} a_1 & a_2 & \\cdots & a_n \\end{array} \\right]=\n",
    "\\left[ \\begin{array}{c|c|c|c} e_1 & e_2 & \\cdots & e_n \\end{array} \\right]\n",
    "\\left[ \\begin{matrix} a_1·e_1 & a_2·e_1 & \\cdots & a_n·e_1\\\\ 0 & a_2·e_2 & \\cdots & a_n·e_2\n",
    "\n",
    "\\\\ \\vdots & \\vdots & \\ddots & \\vdots \\\\ 0 & 0 & \\cdots & a_n·e_n \\end{matrix} \\right]\n",
    "$$\n",
    "\n",
    "因此，我们构造了分解\n",
    "\n",
    "$$\n",
    "A = Q R\n",
    "$$\n",
    "\n",
    "其中\n",
    "\n",
    "$$\n",
    "Q = \\left[ \\begin{array}{c|c|c|c} a_1 & a_2 & \\cdots & a_n \\end{array} \\right]=\n",
    "\\left[ \\begin{array}{c|c|c|c} e_1 & e_2 & \\cdots & e_n \\end{array} \\right]\n",
    "$$\n",
    "\n",
    "且\n",
    "\n",
    "$$\n",
    "R = \\left[ \\begin{matrix} a_1·e_1 & a_2·e_1 & \\cdots & a_n·e_1\\\\ 0 & a_2·e_2 & \\cdots & a_n·e_2 \n",
    "\\\\ \\vdots & \\vdots & \\ddots & \\vdots \\\\ 0 & 0 & \\cdots & a_n·e_n \\end{matrix} \\right]\n",
    "$$"
   ]
  },
  {
   "cell_type": "markdown",
   "id": "e28fa4e4",
   "metadata": {},
   "source": [
    "### $ A $ 非方阵\n",
    "\n",
    "现在假设 $ A $ 是一个 $ n \\times m $ 矩阵，其中 $ m > n $。\n",
    "\n",
    "那么 $ QR $ 分解为\n",
    "\n",
    "$$\n",
    "A= \\left[ \\begin{array}{c|c|c|c} a_1 & a_2 & \\cdots & a_m \\end{array} \\right]=\\left[ \\begin{array}{c|c|c|c} e_1 & e_2 & \\cdots & e_n \\end{array} \\right]\n",
    "\\left[ \\begin{matrix} a_1·e_1 & a_2·e_1 & \\cdots & a_n·e_1 & a_{n+1}\\cdot e_1 & \\cdots & a_{m}\\cdot e_1 \\\\\n",
    "\n",
    "0 & a_2·e_2 & \\cdots & a_n·e_2 & a_{n+1}\\cdot e_2 & \\cdots & a_{m}\\cdot e_2 \\\\ \\vdots & \\vdots & \\ddots & \\quad  \\vdots & \\vdots & \\ddots & \\vdots\n",
    "\\\\ 0 & 0 & \\cdots & a_n·e_n & a_{n+1}\\cdot e_n & \\cdots & a_{m}\\cdot e_n \\end{matrix} \\right]\n",
    "$$\n",
    "\n",
    "这意味着\n",
    "\n",
    "$$\n",
    "\\begin{align*}\n",
    "a_1 & = (a_1\\cdot e_1) e_1 \\cr\n",
    "a_2 & = (a_2\\cdot e_1) e_1 + (a_2\\cdot e_2) e_2 \\cr\n",
    "\\vdots & \\quad \\vdots \\cr\n",
    "a_n & = (a_n\\cdot e_1) e_1 + (a_n\\cdot e_2) e_2 + \\cdots + (a_n \\cdot e_n) e_n  \\cr\n",
    "a_{n+1} & = (a_{n+1}\\cdot e_1) e_1 + (a_{n+1}\\cdot e_2) e_2 + \\cdots + (a_{n+1}\\cdot e_n) e_n  \\cr\n",
    "\\vdots & \\quad \\vdots \\cr\n",
    "a_m & = (a_m\\cdot e_1) e_1 + (a_m\\cdot e_2) e_2 + \\cdots + (a_m \\cdot e_n) e_n  \\cr\n",
    "\\end{align*}\n",
    "$$"
   ]
  },
  {
   "cell_type": "markdown",
   "id": "f7b7f89e",
   "metadata": {},
   "source": [
    "## 一些代码\n",
    "\n",
    "现在让我们编写一些自制的Python代码，通过部署上述的Gram-Schmidt过程来实现QR分解。"
   ]
  },
  {
   "cell_type": "code",
   "execution_count": null,
   "id": "cc95829e",
   "metadata": {
    "hide-output": false
   },
   "outputs": [],
   "source": [
    "import numpy as np\n",
    "from scipy.linalg import qr"
   ]
  },
  {
   "cell_type": "code",
   "execution_count": null,
   "id": "fbf2261b",
   "metadata": {
    "hide-output": false
   },
   "outputs": [],
   "source": [
    "def QR_Decomposition(A):\n",
    "    n, m = A.shape # 获取A的形状\n",
    "\n",
    "    Q = np.empty((n, n)) # 初始化矩阵Q\n",
    "    u = np.empty((n, n)) # 初始化矩阵u\n",
    "\n",
    "    u[:, 0] = A[:, 0]\n",
    "    Q[:, 0] = u[:, 0] / np.linalg.norm(u[:, 0])\n",
    "\n",
    "    for i in range(1, n):\n",
    "\n",
    "        u[:, i] = A[:, i]\n",
    "        for j in range(i):\n",
    "            u[:, i] -= (A[:, i] @ Q[:, j]) * Q[:, j] # 获取每个u向量\n",
    "\n",
    "        Q[:, i] = u[:, i] / np.linalg.norm(u[:, i]) # 计算每个e向量\n",
    "\n",
    "    R = np.zeros((n, m))\n",
    "    for i in range(n):\n",
    "        for j in range(i, m):\n",
    "            R[i, j] = A[:, j] @ Q[:, i]\n",
    "\n",
    "    return Q, R"
   ]
  },
  {
   "cell_type": "markdown",
   "id": "8a398999",
   "metadata": {},
   "source": [
    "前面的代码没问题，但可以进行一些进一步的整理。\n",
    "\n",
    "我们这样做是因为在本notebook后面部分，我们想要比较使用上面的自制代码与Python `scipy`包提供的QR代码所得到的结果。\n",
    "\n",
    "不同的数值算法产生的$ Q $和$ R $矩阵之间可能存在符号差异。\n",
    "\n",
    "由于在计算$ QR $时这些符号差异会相互抵消，所以这些都是有效的QR分解。\n",
    "\n",
    "但是，为了使我们自制函数和`scipy`中的QR模块的结果具有可比性，让我们要求$ Q $具有正对角线元素。\n",
    "\n",
    "我们通过适当调整$ Q $中列的符号和$ R $中行的符号来实现这一点。\n",
    "\n",
    "为了实现这个目标，我们将定义一对函数。"
   ]
  },
  {
   "cell_type": "code",
   "execution_count": null,
   "id": "d256c4cf",
   "metadata": {
    "hide-output": false
   },
   "outputs": [],
   "source": [
    "def diag_sign(A):\n",
    "    \"计算矩阵A对角线元素的符号\"\n",
    "\n",
    "    D = np.diag(np.sign(np.diag(A)))\n",
    "\n",
    "    return D\n",
    "\n",
    "def adjust_sign(Q, R):\n",
    "    \"\"\"\n",
    "    调整Q中列的符号和R中行的符号，\n",
    "    以确保Q的对角线为正\n",
    "    \"\"\"\n",
    "\n",
    "    D = diag_sign(Q)\n",
    "\n",
    "    Q[:, :] = Q @ D\n",
    "    R[:, :] = D @ R\n",
    "\n",
    "    return Q, R"
   ]
  },
  {
   "cell_type": "markdown",
   "id": "f1ca0f46",
   "metadata": {},
   "source": [
    "## 示例\n",
    "\n",
    "现在让我们做一个例子。"
   ]
  },
  {
   "cell_type": "code",
   "execution_count": null,
   "id": "9b856e6b",
   "metadata": {
    "hide-output": false
   },
   "outputs": [],
   "source": [
    "A = np.array([[1.0, 1.0, 0.0], [1.0, 0.0, 1.0], [0.0, 1.0, 1.0]])\n",
    "# A = np.array([[1.0, 0.5, 0.2], [0.5, 0.5, 1.0], [0.0, 1.0, 1.0]])\n",
    "# A = np.array([[1.0, 0.5, 0.2], [0.5, 0.5, 1.0]])\n",
    "\n",
    "A"
   ]
  },
  {
   "cell_type": "code",
   "execution_count": null,
   "id": "557fa076",
   "metadata": {
    "hide-output": false
   },
   "outputs": [],
   "source": [
    "Q, R = adjust_sign(*QR_Decomposition(A))"
   ]
  },
  {
   "cell_type": "code",
   "execution_count": null,
   "id": "84872608",
   "metadata": {
    "hide-output": false
   },
   "outputs": [],
   "source": [
    "Q"
   ]
  },
  {
   "cell_type": "code",
   "execution_count": null,
   "id": "958a4e1e",
   "metadata": {
    "hide-output": false
   },
   "outputs": [],
   "source": [
    "R"
   ]
  },
  {
   "cell_type": "markdown",
   "id": "ddc5382b",
   "metadata": {},
   "source": [
    "让我们将结果与 `scipy` 包产生的结果进行比较"
   ]
  },
  {
   "cell_type": "code",
   "execution_count": null,
   "id": "5a71ba8e",
   "metadata": {
    "hide-output": false
   },
   "outputs": [],
   "source": [
    "Q_scipy, R_scipy = adjust_sign(*qr(A))"
   ]
  },
  {
   "cell_type": "code",
   "execution_count": null,
   "id": "be5c48b9",
   "metadata": {
    "hide-output": false
   },
   "outputs": [],
   "source": [
    "print('我们的 Q: \\n', Q)\n",
    "print('\\n')\n",
    "print('Scipy 的 Q: \\n', Q_scipy)"
   ]
  },
  {
   "cell_type": "code",
   "execution_count": null,
   "id": "e8e47233",
   "metadata": {
    "hide-output": false
   },
   "outputs": [],
   "source": [
    "print('我们的 R: \\n', R)\n",
    "print('\\n')\n",
    "print('Scipy 的 R: \\n', R_scipy)"
   ]
  },
  {
   "cell_type": "markdown",
   "id": "52f29721",
   "metadata": {},
   "source": [
    "上述结果给我们带来好消息，我们自制的函数与scipy产生的结果一致。\n",
    "\n",
    "现在让我们对一个矩形矩阵$ A $进行QR分解，这个矩阵是$ n \\times m $的，其中$ m > n $。"
   ]
  },
  {
   "cell_type": "code",
   "execution_count": null,
   "id": "0a6c6fe1",
   "metadata": {
    "hide-output": false
   },
   "outputs": [],
   "source": [
    "A = np.array([[1, 3, 4], [2, 0, 9]])"
   ]
  },
  {
   "cell_type": "code",
   "execution_count": null,
   "id": "dd225926",
   "metadata": {
    "hide-output": false
   },
   "outputs": [],
   "source": [
    "Q, R = adjust_sign(*QR_Decomposition(A))\n",
    "Q, R"
   ]
  },
  {
   "cell_type": "code",
   "execution_count": null,
   "id": "635030cb",
   "metadata": {
    "hide-output": false
   },
   "outputs": [],
   "source": [
    "Q_scipy, R_scipy = adjust_sign(*qr(A))\n",
    "Q_scipy, R_scipy"
   ]
  },
  {
   "cell_type": "markdown",
   "id": "ae2a98f3",
   "metadata": {},
   "source": [
    "## 使用QR分解计算特征值\n",
    "\n",
    "现在介绍一个关于QR算法的有用事实。\n",
    "\n",
    "以下基于QR分解的迭代可用于计算**方阵** $ A $ 的**特征值**。\n",
    "\n",
    "算法如下：\n",
    "\n",
    "1. 设 $ A_0 = A $ 并形成 $ A_0 = Q_0 R_0 $  \n",
    "1. 形成 $ A_1 = R_0 Q_0 $。注意 $ A_1 $ 与 $ A_0 $ 相似(易于验证)，因此具有相同的特征值。  \n",
    "1. 形成 $ A_1 = Q_1 R_1 $ (即，形成 $ A_1 $ 的 $ QR $ 分解)。  \n",
    "1. 形成 $ A_2 = R_1 Q_1 $ 然后 $ A_2 = Q_2 R_2 $。  \n",
    "1. 迭代直至收敛。  \n",
    "1. 计算 $ A $ 的特征值，并将其与从该过程得到的极限 $ A_n $ 的对角线值进行比较。  "
   ]
  },
  {
   "cell_type": "markdown",
   "id": "585ac39d",
   "metadata": {},
   "source": [
    "## Todo\n",
    "\n",
    "@mmcky to migrate this to use [sphinx-proof](https://sphinx-proof.readthedocs.io/en/latest/syntax.html#algorithms)\n",
    "\n",
    "**注意：** 这个算法接近于计算特征值最有效的方法之一！\n",
    "\n",
    "让我们编写一些Python代码来尝试这个算法"
   ]
  },
  {
   "cell_type": "code",
   "execution_count": null,
   "id": "ee2dc9dd",
   "metadata": {
    "hide-output": false
   },
   "outputs": [],
   "source": [
    "def QR_eigvals(A, tol=1e-12, maxiter=1000):\n",
    "    \"使用QR分解找到A的特征值。\"\n",
    "\n",
    "    A_old = np.copy(A)\n",
    "    A_new = np.copy(A)\n",
    "\n",
    "    diff = np.inf\n",
    "    i = 0\n",
    "    while (diff > tol) and (i < maxiter):\n",
    "        A_old[:, :] = A_new\n",
    "        Q, R = QR_Decomposition(A_old)\n",
    "\n",
    "        A_new[:, :] = R @ Q\n",
    "\n",
    "        diff = np.abs(A_new - A_old).max()\n",
    "        i += 1\n",
    "\n",
    "    eigvals = np.diag(A_new)\n",
    "\n",
    "    return eigvals"
   ]
  },
  {
   "cell_type": "markdown",
   "id": "4480f4f0",
   "metadata": {},
   "source": [
    "现在让我们试试这段代码，并将结果与`scipy.linalg.eigvals`给出的结果进行比较\n",
    "\n",
    "开始吧"
   ]
  },
  {
   "cell_type": "code",
   "execution_count": null,
   "id": "fcdca30f",
   "metadata": {
    "hide-output": false
   },
   "outputs": [],
   "source": [
    "# 用一个随机A矩阵做实验\n",
    "A = np.random.random((3, 3))"
   ]
  },
  {
   "cell_type": "code",
   "execution_count": null,
   "id": "393dbf69",
   "metadata": {
    "hide-output": false
   },
   "outputs": [],
   "source": [
    "sorted(QR_eigvals(A))"
   ]
  },
  {
   "cell_type": "markdown",
   "id": "291a2658",
   "metadata": {},
   "source": [
    "与 `scipy` 包进行比较。"
   ]
  },
  {
   "cell_type": "code",
   "execution_count": null,
   "id": "cf9ae31c",
   "metadata": {
    "hide-output": false
   },
   "outputs": [],
   "source": [
    "sorted(np.linalg.eigvals(A))"
   ]
  },
  {
   "cell_type": "markdown",
   "id": "522d5df1",
   "metadata": {},
   "source": [
    "## $ QR $ 分解与主成分分析（PCA）\n",
    "\n",
    "$ QR $ 分解与主成分分析（PCA）之间存在一些有趣的联系。\n",
    "\n",
    "以下是一些联系：\n",
    "\n",
    "1. 设 $ X' $ 是一个 $ k \\times n $ 的随机矩阵，其中第 $ j $ 列是从 $ {\\mathcal N}(\\mu, \\Sigma) $ 分布中随机抽取的样本，这里 $ \\mu $ 是 $ k \\times 1 $ 的均值向量，$ \\Sigma $ 是 $ k \\times k $ 的协方差矩阵。我们需要 $ n > > k $ —— 这是一个”计量经济学的例子”。  \n",
    "1. 将 $ X' $ 分解为 $ X' = Q R $，其中 $ Q $ 是 $ k \\times k $ 矩阵，$ R $ 是 $ k \\times n $ 矩阵。  \n",
    "1. 计算 $ R R' $ 的特征值，即我们将计算 $ R R' = \\tilde P \\Lambda \\tilde P' $。  \n",
    "1. 构造 $ X' X = Q \\tilde P \\Lambda \\tilde P' Q' $ 并与特征分解 $ X'X = P \\hat \\Lambda P' $ 进行比较。  \n",
    "1. 我们将发现 $ \\Lambda = \\hat \\Lambda $ 且 $ P = Q \\tilde P $。  \n",
    "\n",
    "\n",
    "让我们用Python代码来验证推测5。\n",
    "\n",
    "首先模拟一个随机的 $ \\left(n, k\\right) $ 矩阵 $ X $。"
   ]
  },
  {
   "cell_type": "code",
   "execution_count": null,
   "id": "58ff2c7c",
   "metadata": {
    "hide-output": false
   },
   "outputs": [],
   "source": [
    "k = 5\n",
    "n = 1000\n",
    "\n",
    "# 生成一些随机矩\n",
    "𝜇 = np.random.random(size=k)\n",
    "C = np.random.random((k, k))\n",
    "Σ = C.T @ C"
   ]
  },
  {
   "cell_type": "code",
   "execution_count": null,
   "id": "2fef9fc9",
   "metadata": {
    "hide-output": false
   },
   "outputs": [],
   "source": [
    "# X 是一个随机矩阵，其中每一列都遵循多元正态分布\n",
    "X = np.random.multivariate_normal(𝜇, Σ, size=n)"
   ]
  },
  {
   "cell_type": "code",
   "execution_count": null,
   "id": "9848813c",
   "metadata": {
    "hide-output": false
   },
   "outputs": [],
   "source": [
    "X.shape"
   ]
  },
  {
   "cell_type": "markdown",
   "id": "02b8c0a2",
   "metadata": {},
   "source": [
    "让我们对$ X^{\\prime} $进行QR分解。"
   ]
  },
  {
   "cell_type": "code",
   "execution_count": null,
   "id": "bd8cd12c",
   "metadata": {
    "hide-output": false
   },
   "outputs": [],
   "source": [
    "Q, R = adjust_sign(*QR_Decomposition(X.T))"
   ]
  },
  {
   "cell_type": "markdown",
   "id": "e5e53b4b",
   "metadata": {},
   "source": [
    "检查 $ Q $ 和 $ R $ 的形状。"
   ]
  },
  {
   "cell_type": "code",
   "execution_count": null,
   "id": "0d80c79d",
   "metadata": {
    "hide-output": false
   },
   "outputs": [],
   "source": [
    "Q.shape, R.shape"
   ]
  },
  {
   "cell_type": "markdown",
   "id": "37430e5f",
   "metadata": {},
   "source": [
    "现在我们可以构造 $ R R^{\\prime}=\\tilde{P} \\Lambda \\tilde{P}^{\\prime} $ 并形成特征分解。"
   ]
  },
  {
   "cell_type": "code",
   "execution_count": null,
   "id": "6605a0e7",
   "metadata": {
    "hide-output": false
   },
   "outputs": [],
   "source": [
    "RR = R @ R.T\n",
    "\n",
    "𝜆, P_tilde = np.linalg.eigh(RR)\n",
    "Λ = np.diag(𝜆)"
   ]
  },
  {
   "cell_type": "markdown",
   "id": "f2b1158e",
   "metadata": {},
   "source": [
    "我们也可以对 $ X^{\\prime} X=P \\hat{\\Lambda} P^{\\prime} $ 进行分解。"
   ]
  },
  {
   "cell_type": "code",
   "execution_count": null,
   "id": "674ef598",
   "metadata": {
    "hide-output": false
   },
   "outputs": [],
   "source": [
    "XX = X.T @ X\n",
    "\n",
    "𝜆_hat, P = np.linalg.eigh(XX)\n",
    "Λ_hat = np.diag(𝜆_hat)"
   ]
  },
  {
   "cell_type": "markdown",
   "id": "83adde38",
   "metadata": {},
   "source": [
    "比较 $ \\Lambda $ 和 $ \\hat{\\Lambda} $ 对角线上的特征值。"
   ]
  },
  {
   "cell_type": "code",
   "execution_count": null,
   "id": "771846d7",
   "metadata": {
    "hide-output": false
   },
   "outputs": [],
   "source": [
    "𝜆, 𝜆_hat"
   ]
  },
  {
   "cell_type": "markdown",
   "id": "6f296e6e",
   "metadata": {},
   "source": [
    "让我们比较 $ P $ 和 $ Q \\tilde{P} $。\n",
    "\n",
    "同样，我们需要注意 $ P $ 和 $ Q\\tilde{P} $ 的列之间的符号差异。"
   ]
  },
  {
   "cell_type": "code",
   "execution_count": null,
   "id": "9c6192d4",
   "metadata": {
    "hide-output": false
   },
   "outputs": [],
   "source": [
    "QP_tilde = Q @ P_tilde\n",
    "\n",
    "np.abs(P @ diag_sign(P) - QP_tilde @ diag_sign(QP_tilde)).max()"
   ]
  },
  {
   "cell_type": "markdown",
   "id": "da555d85",
   "metadata": {},
   "source": [
    "让我们验证 $ X^{\\prime}X $ 可以被分解为 $ Q \\tilde{P} \\Lambda \\tilde{P}^{\\prime} Q^{\\prime} $。"
   ]
  },
  {
   "cell_type": "code",
   "execution_count": null,
   "id": "64303f27",
   "metadata": {
    "hide-output": false
   },
   "outputs": [],
   "source": [
    "QPΛPQ = Q @ P_tilde @ Λ @ P_tilde.T @ Q.T"
   ]
  },
  {
   "cell_type": "code",
   "execution_count": null,
   "id": "fb4571c9",
   "metadata": {
    "hide-output": false
   },
   "outputs": [],
   "source": [
    "np.abs(QPΛPQ - XX).max()"
   ]
  }
 ],
 "metadata": {
  "date": 1742685623.8492725,
  "filename": "qr_decomp.md",
  "kernelspec": {
   "display_name": "Python",
   "language": "python3",
   "name": "python3"
  },
  "title": "QR分解"
 },
 "nbformat": 4,
 "nbformat_minor": 5
}