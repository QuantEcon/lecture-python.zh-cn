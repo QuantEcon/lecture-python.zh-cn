{
 "cells": [
  {
   "cell_type": "markdown",
   "id": "e614267f",
   "metadata": {},
   "source": [
    "<div id=\"qe-notebook-header\" align=\"right\" style=\"text-align:right;\">\n",
    "        <a href=\"https://quantecon.org/\" title=\"quantecon.org\">\n",
    "                <img style=\"width:250px;display:inline;\" width=\"250px\" src=\"https://assets.quantecon.org/img/qe-menubar-logo.svg\" alt=\"QuantEcon\">\n",
    "        </a>\n",
    "</div>"
   ]
  },
  {
   "cell_type": "markdown",
   "id": "e966d238",
   "metadata": {},
   "source": [
    "# 财富分配动态"
   ]
  },
  {
   "cell_type": "markdown",
   "id": "77787c90",
   "metadata": {},
   "source": [
    "## 目录\n",
    "\n",
    "- [财富分配动态](#财富分配动态)  \n",
    "  - [概述](#概述)  \n",
    "  - [洛伦兹曲线和基尼系数](#洛伦兹曲线和基尼系数)  \n",
    "  - [财富动态模型](#财富动态模型)  \n",
    "  - [实现](#实现)  \n",
    "  - [应用](#应用)  \n",
    "  - [练习](#练习)  "
   ]
  },
  {
   "cell_type": "markdown",
   "id": "fd83d2f6",
   "metadata": {},
   "source": [
    "本讲座使用`GPU`的[版本](https://jax.quantecon.org/wealth_dynamics.html)可在[这里](https://jax.quantecon.org/wealth_dynamics.html)找到\n",
    "\n",
    "除了Anaconda中已有的库外，本讲座还需要以下库："
   ]
  },
  {
   "cell_type": "code",
   "execution_count": null,
   "id": "edd4ad74",
   "metadata": {
    "hide-output": false
   },
   "outputs": [],
   "source": [
    "!pip install quantecon"
   ]
  },
  {
   "cell_type": "markdown",
   "id": "2d0a764e",
   "metadata": {},
   "source": [
    "## 概述\n",
    "\n",
    "本笔记介绍了财富分配动态，重点关注\n",
    "\n",
    "- 通过模拟建模和计算财富分配，  \n",
    "- 不平等的衡量指标，如洛伦兹曲线和基尼系数，以及  \n",
    "- 工资收入和资产回报的特性如何影响不平等。  \n",
    "\n",
    "\n",
    "我们讨论的财富分配的一个有趣特性是帕累托尾部。\n",
    "\n",
    "许多国家的财富分配都表现出帕累托尾部\n",
    "\n",
    "- 参见[本讲座](https://quantecon.github.io/lecture-intro.zh-cn/heavy_tails.html)获取定义。  \n",
    "- 关于实证证据的综述，请参见[[Benhabib and Bisin, 2018](https://python.quantecon.org/zreferences.html#id70)]。  \n",
    "\n",
    "\n",
    "这与最富有家庭中的财富高度集中是一致的。\n",
    "\n",
    "这也为我们提供了一种通过尾部指数来量化这种集中度的方法。\n",
    "\n",
    "一个值得关注的问题是，我们是否能从一个相对简单的模型中复制出帕累托尾部。"
   ]
  },
  {
   "cell_type": "markdown",
   "id": "4cd86331",
   "metadata": {},
   "source": [
    "### 关于假设的说明\n",
    "\n",
    "任何给定家庭的财富演变取决于其\n",
    "\n",
    "储蓄行为。\n",
    "\n",
    "对这种行为的建模将成为本系列讲座的重要组成部分。\n",
    "\n",
    "然而，在本次讲座中，我们将满足于相对随意（但合理）的储蓄规则。\n",
    "\n",
    "我们这样做是为了更容易探索不同收入动态和投资回报规格的影响。\n",
    "\n",
    "同时，这里讨论的所有技术都可以应用到使用优化来获得储蓄规则的模型中。\n",
    "\n",
    "我们将使用以下导入。"
   ]
  },
  {
   "cell_type": "code",
   "execution_count": null,
   "id": "51832e2d",
   "metadata": {
    "hide-output": false
   },
   "outputs": [],
   "source": [
    "import matplotlib.pyplot as plt\n",
    "import matplotlib as mpl\n",
    "FONTPATH = \"fonts/SourceHanSerifSC-SemiBold.otf\"\n",
    "mpl.font_manager.fontManager.addfont(FONTPATH)\n",
    "plt.rcParams['font.family'] = ['Source Han Serif SC']\n",
    "\n",
    "plt.rcParams[\"figure.figsize\"] = (11, 5)  #set default figure size\n",
    "import numpy as np\n",
    "import quantecon as qe\n",
    "from numba import jit, float64, prange\n",
    "from numba.experimental import jitclass"
   ]
  },
  {
   "cell_type": "markdown",
   "id": "394e9081",
   "metadata": {},
   "source": [
    "## 洛伦兹曲线和基尼系数\n",
    "\n",
    "在研究财富动态之前，我们先简要回顾一下一些不平等的衡量指标。"
   ]
  },
  {
   "cell_type": "markdown",
   "id": "ce716651",
   "metadata": {},
   "source": [
    "### 洛伦兹曲线\n",
    "\n",
    "[洛伦兹曲线](https://en.wikipedia.org/wiki/Lorenz_curve)是一种广受欢迎的不平等图形度量方法。\n",
    "\n",
    "上面已经导入的[QuantEcon.py](https://github.com/QuantEcon/QuantEcon.py)包含了计算洛伦兹曲线的函数。\n",
    "\n",
    "举例说明，假设："
   ]
  },
  {
   "cell_type": "code",
   "execution_count": null,
   "id": "6380e45e",
   "metadata": {
    "hide-output": false
   },
   "outputs": [],
   "source": [
    "n = 10_000                      # 样本大小\n",
    "w = np.exp(np.random.randn(n))  # 对数正态分布抽样"
   ]
  },
  {
   "cell_type": "markdown",
   "id": "f1d6e784",
   "metadata": {},
   "source": [
    "数据代表了10,000个家庭的财富分布。\n",
    "\n",
    "我们可以按如下方式计算并绘制洛伦兹曲线："
   ]
  },
  {
   "cell_type": "code",
   "execution_count": null,
   "id": "9e95b92d",
   "metadata": {
    "hide-output": false
   },
   "outputs": [],
   "source": [
    "f_vals, l_vals = qe.lorenz_curve(w)\n",
    "\n",
    "fig, ax = plt.subplots()\n",
    "ax.plot(f_vals, l_vals, label='洛伦兹曲线，对数正态样本')\n",
    "ax.plot(f_vals, f_vals, label='洛伦兹曲线，完全平等')\n",
    "ax.legend()\n",
    "plt.show()"
   ]
  },
  {
   "cell_type": "markdown",
   "id": "1c66f780",
   "metadata": {},
   "source": [
    "这条曲线可以这样理解：如果点$ (x,y) $位于曲线上，这意味着最底层$ (100x)\\% $的人口collectively拥有$ (100y)\\% $的财富。\n",
    "\n",
    "“平等”线是45度线（在图中可能不完全是45度，这取决于图形的纵横比）。\n",
    "\n",
    "产生这条线的样本表现出完全平等。\n",
    "\n",
    "图中的另一条线是对数正态样本的洛伦兹曲线，它与完全平等线有显著偏离。\n",
    "\n",
    "例如，最底层80%的人口拥有大约40%的总财富。\n",
    "\n",
    "这里是另一个例子，展示了当底层分布发生变化时洛伦兹曲线如何移动。\n",
    "\n",
    "我们使用帕累托分布和一系列参数生成10,000个观测值，然后计算对应于每组观测值的洛伦兹曲线。"
   ]
  },
  {
   "cell_type": "code",
   "execution_count": null,
   "id": "c9eb0261",
   "metadata": {
    "hide-output": false
   },
   "outputs": [],
   "source": [
    "a_vals = (1, 2, 5)              # Pareto尾部指数\n",
    "n = 10_000                      # 每个样本的大小\n",
    "fig, ax = plt.subplots()\n",
    "for a in a_vals:\n",
    "    u = np.random.uniform(size=n)\n",
    "    y = u**(-1/a)               # 服从尾部指数为a的帕累托分布\n",
    "    f_vals, l_vals = qe.lorenz_curve(y)\n",
    "    ax.plot(f_vals, l_vals, label=f'$a = {a}$')\n",
    "ax.plot(f_vals, f_vals, label='equality')\n",
    "ax.legend()\n",
    "plt.show()"
   ]
  },
  {
   "cell_type": "markdown",
   "id": "a0a9df1b",
   "metadata": {},
   "source": [
    "你可以看到，随着帕累托分布的尾部参数增加，不平等程度降低。\n",
    "\n",
    "这是可以预料的，因为更高的尾部指数意味着帕累托分布尾部的权重更小。"
   ]
  },
  {
   "cell_type": "markdown",
   "id": "8c3db555",
   "metadata": {},
   "source": [
    "### 基尼系数\n",
    "\n",
    "基尼系数的定义和解释可以在相应的[维基百科页面](https://en.wikipedia.org/wiki/Gini_coefficient)上找到。\n",
    "\n",
    "0值表示完全平等（对应洛伦兹曲线与45度线重合的情况），1值表示完全不平等（所有财富都由最富有的家庭持有）。\n",
    "\n",
    "[QuantEcon.py](https://github.com/QuantEcon/QuantEcon.py)库包含一个计算基尼系数的函数。\n",
    "\n",
    "我们可以在参数为$ a $的韦伯分布上测试它，其基尼系数已知为\n",
    "\n",
    "$$\n",
    "G = 1 - 2^{-1/a}\n",
    "$$\n",
    "\n",
    "让我们看看从模拟样本计算出的基尼系数是否在每个固定的$ a $值处都与理论值相匹配。"
   ]
  },
  {
   "cell_type": "code",
   "execution_count": null,
   "id": "03993c0c",
   "metadata": {
    "hide-output": false
   },
   "outputs": [],
   "source": [
    "a_vals = range(1, 20)\n",
    "ginis = []\n",
    "ginis_theoretical = []\n",
    "n = 100\n",
    "\n",
    "fig, ax = plt.subplots()\n",
    "for a in a_vals:\n",
    "    y = np.random.weibull(a, size=n)\n",
    "    ginis.append(qe.gini_coefficient(y))\n",
    "    ginis_theoretical.append(1 - 2**(-1/a))\n",
    "ax.plot(a_vals, ginis, label='estimated gini coefficient')\n",
    "ax.plot(a_vals, ginis_theoretical, label='theoretical gini coefficient')\n",
    "ax.legend()\n",
    "ax.set_xlabel(\"Weibull parameter $a$\")\n",
    "ax.set_ylabel(\"Gini coefficient\")\n",
    "plt.show()"
   ]
  },
  {
   "cell_type": "markdown",
   "id": "5bf4d4dd",
   "metadata": {},
   "source": [
    "模拟结果显示拟合效果良好。"
   ]
  },
  {
   "cell_type": "markdown",
   "id": "be323df0",
   "metadata": {},
   "source": [
    "## 财富动态模型\n",
    "\n",
    "在讨论了不平等度量之后，让我们现在转向财富动态。\n",
    "\n",
    "我们要研究的模型是\n",
    "\n",
    "\n",
    "<a id='equation-wealth-dynam-ah'></a>\n",
    "$$\n",
    "w_{t+1} = (1 + r_{t+1}) s(w_t) + y_{t+1} \\tag{24.1}\n",
    "$$\n",
    "\n",
    "其中\n",
    "\n",
    "- $ w_t $ 是某个家庭在t时刻的财富，  \n",
    "- $ r_t $ 是金融资产的收益率，  \n",
    "- $ y_t $ 是当前非金融（如劳动）收入，  \n",
    "- $ s(w_t) $ 是当前财富减去消费后的净值  \n",
    "\n",
    "\n",
    "令 $ \\{z_t\\} $ 为具有以下形式的相关状态过程：\n",
    "\n",
    "$$\n",
    "z_{t+1} = a z_t + b + \\sigma_z \\epsilon_{t+1}\n",
    "$$\n",
    "\n",
    "我们假设：\n",
    "\n",
    "$$\n",
    "R_t := 1 + r_t = c_r \\exp(z_t) + \\exp(\\mu_r + \\sigma_r \\xi_t)\n",
    "$$\n",
    "\n",
    "且\n",
    "\n",
    "$$\n",
    "y_t = c_y \\exp(z_t) + \\exp(\\mu_y + \\sigma_y \\zeta_t)\n",
    "$$\n",
    "\n",
    "这里 $ \\{ (\\epsilon_t, \\xi_t, \\zeta_t) \\} $ 是在 $ \\mathbb R^3 $ 中的独立同分布标准正态分布。\n",
    "\n",
    "$ c_r $ 的值应该接近于零，因为资产收益率不会表现出较大的趋势。\n",
    "\n",
    "当我们模拟家庭人口时，我们假设所有冲击都是特殊性的（即，特定于个别家庭且彼此之间相互独立）。\n",
    "\n",
    "关于储蓄函数$ s $，我们的默认模型将是\n",
    "\n",
    "\n",
    "<a id='equation-sav-ah'></a>\n",
    "$$\n",
    "s(w) = s_0 w \\cdot \\mathbb 1\\{w \\geq \\hat w\\} \\tag{24.2}\n",
    "$$\n",
    "\n",
    "其中$ s_0 $是一个正常数。\n",
    "\n",
    "因此，当$ w < \\hat w $时，家庭不进行任何储蓄。当$ w \\geq \\bar w $时，家庭会储蓄其财富的$ s_0 $比例。\n",
    "\n",
    "我们使用的是类似于固定储蓄率的模型，同时认识到低财富家庭往往很少储蓄。"
   ]
  },
  {
   "cell_type": "markdown",
   "id": "4d29009c",
   "metadata": {},
   "source": [
    "## 实现\n",
    "\n",
    "这里是一些帮助Numba的类型信息。"
   ]
  },
  {
   "cell_type": "code",
   "execution_count": null,
   "id": "a663ee07",
   "metadata": {
    "hide-output": false
   },
   "outputs": [],
   "source": [
    "wealth_dynamics_data = [\n",
    "    ('w_hat',  float64),    # 储蓄参数\n",
    "    ('s_0',    float64),    # 储蓄参数\n",
    "    ('c_y',    float64),    # 劳动收入参数\n",
    "    ('μ_y',    float64),    # 劳动收入参数\n",
    "    ('σ_y',    float64),    # 劳动收入参数\n",
    "    ('c_r',    float64),    # 回报率参数\n",
    "    ('μ_r',    float64),    # 回报率参数\n",
    "    ('σ_r',    float64),    # 回报率参数\n",
    "    ('a',      float64),    # 总体冲击参数\n",
    "    ('b',      float64),    # 总体冲击参数\n",
    "    ('σ_z',    float64),    # 总体冲击参数\n",
    "    ('z_mean', float64),    # z过程的均值\n",
    "    ('z_var', float64),     # z过程的方差\n",
    "    ('y_mean', float64),    # y过程的均值\n",
    "    ('R_mean', float64)     # R过程的均值\n",
    "]"
   ]
  },
  {
   "cell_type": "markdown",
   "id": "801cf66c",
   "metadata": {},
   "source": [
    "这是一个存储实例数据并实现更新总体状态和家庭财富方法的类。"
   ]
  },
  {
   "cell_type": "code",
   "execution_count": null,
   "id": "248772d9",
   "metadata": {
    "hide-output": false
   },
   "outputs": [],
   "source": [
    "@jitclass(wealth_dynamics_data)\n",
    "class WealthDynamics:\n",
    "\n",
    "    def __init__(self,\n",
    "                 w_hat=1.0,\n",
    "                 s_0=0.75,\n",
    "                 c_y=1.0,\n",
    "                 μ_y=1.0,\n",
    "                 σ_y=0.2,\n",
    "                 c_r=0.05,\n",
    "                 μ_r=0.1,\n",
    "                 σ_r=0.5,\n",
    "                 a=0.5,\n",
    "                 b=0.0,\n",
    "                 σ_z=0.1):\n",
    "\n",
    "        self.w_hat, self.s_0 = w_hat, s_0\n",
    "        self.c_y, self.μ_y, self.σ_y = c_y, μ_y, σ_y\n",
    "        self.c_r, self.μ_r, self.σ_r = c_r, μ_r, σ_r\n",
    "        self.a, self.b, self.σ_z = a, b, σ_z\n",
    "\n",
    "        # 记录稳态矩\n",
    "        self.z_mean = b / (1 - a)\n",
    "        self.z_var = σ_z**2 / (1 - a**2)\n",
    "        exp_z_mean = np.exp(self.z_mean + self.z_var / 2)\n",
    "        self.R_mean = c_r * exp_z_mean + np.exp(μ_r + σ_r**2 / 2)\n",
    "        self.y_mean = c_y * exp_z_mean + np.exp(μ_y + σ_y**2 / 2)\n",
    "\n",
    "        # 测试确保财富不会无限发散的稳定性条件\n",
    "        α = self.R_mean * self.s_0\n",
    "        if α >= 1:\n",
    "            raise ValueError(\"稳定性条件失败。\")\n",
    "\n",
    "    def parameters(self):\n",
    "        \"\"\"\n",
    "        收集并返回参数。\n",
    "        \"\"\"\n",
    "        parameters = (self.w_hat, self.s_0,\n",
    "                      self.c_y, self.μ_y, self.σ_y,\n",
    "                      self.c_r, self.μ_r, self.σ_r,\n",
    "                      self.a, self.b, self.σ_z)\n",
    "        return parameters\n",
    "\n",
    "    def update_states(self, w, z):\n",
    "        \"\"\"\n",
    "        给定当前财富w和持续状态z，更新一个周期。\n",
    "        \"\"\"\n",
    "\n",
    "        # 简化名称\n",
    "        params = self.parameters()\n",
    "        w_hat, s_0, c_y, μ_y, σ_y, c_r, μ_r, σ_r, a, b, σ_z = params\n",
    "        zp = a * z + b + σ_z * np.random.randn()\n",
    "\n",
    "        # 更新财富\n",
    "        y = c_y * np.exp(zp) + np.exp(μ_y + σ_y * np.random.randn())\n",
    "        wp = y\n",
    "        if w >= w_hat:\n",
    "            R = c_r * np.exp(zp) + np.exp(μ_r + σ_r * np.random.randn())\n",
    "            wp += R * s_0 * w\n",
    "        return wp, zp"
   ]
  },
  {
   "cell_type": "markdown",
   "id": "68ea1158",
   "metadata": {},
   "source": [
    "这是一个用于模拟单个家庭财富时间序列的函数。"
   ]
  },
  {
   "cell_type": "code",
   "execution_count": null,
   "id": "a5f91e4c",
   "metadata": {
    "hide-output": false
   },
   "outputs": [],
   "source": [
    "@jit\n",
    "def wealth_time_series(wdy, w_0, n):\n",
    "    \"\"\"\n",
    "    根据给定的初始值w_0，生成一个长度为n的财富时间序列。\n",
    "\n",
    "    每个家庭的初始持续状态z_0是从AR(1)过程的平稳分布中抽取的。\n",
    "\n",
    "        * wdy: WealthDynamics的一个实例\n",
    "        * w_0: 标量\n",
    "        * n: 整数\n",
    "\n",
    "\n",
    "    \"\"\"\n",
    "    z = wdy.z_mean + np.sqrt(wdy.z_var) * np.random.randn()\n",
    "    w = np.empty(n)\n",
    "    w[0] = w_0\n",
    "    for t in range(n-1):\n",
    "        w[t+1], z = wdy.update_states(w[t], z)\n",
    "    return w"
   ]
  },
  {
   "cell_type": "markdown",
   "id": "93a475a6",
   "metadata": {},
   "source": [
    "以下是模拟一组家庭财富随时间变化的函数。\n",
    "\n",
    "注意使用并行化来加快计算速度。"
   ]
  },
  {
   "cell_type": "code",
   "execution_count": null,
   "id": "5e73fcd5",
   "metadata": {
    "hide-output": false
   },
   "outputs": [],
   "source": [
    "@jit(parallel=True)\n",
    "def update_cross_section(wdy, w_distribution, shift_length=500):\n",
    "    \"\"\"\n",
    "    将一组家庭的横截面数据在时间上向前推移\n",
    "\n",
    "    * wdy: WealthDynamics的实例\n",
    "    * w_distribution: array_like, 表示当前的横截面分布\n",
    "\n",
    "    接收当前财富值分布w_distribution作为输入\n",
    "    并将每个w_t更新为w_{t+j},其中\n",
    "    j = shift_length。\n",
    "\n",
    "    返回新的分布。\n",
    "\n",
    "    \"\"\"\n",
    "    new_distribution = np.empty_like(w_distribution)\n",
    "\n",
    "    # 更新每个家庭\n",
    "    for i in prange(len(new_distribution)):\n",
    "        z = wdy.z_mean + np.sqrt(wdy.z_var) * np.random.randn()\n",
    "        w = w_distribution[i]\n",
    "        for t in range(shift_length-1):\n",
    "            w, z = wdy.update_states(w, z)\n",
    "        new_distribution[i] = w\n",
    "    return new_distribution"
   ]
  },
  {
   "cell_type": "markdown",
   "id": "6c64e765",
   "metadata": {},
   "source": [
    "在上述函数中，并行化非常有效，因为一旦已知总体状态的路径，每个家庭的时间路径就可以独立计算。"
   ]
  },
  {
   "cell_type": "markdown",
   "id": "928a4d32",
   "metadata": {},
   "source": [
    "## 应用\n",
    "\n",
    "让我们尝试在不同参数值下模拟该模型，并研究其对财富分配的影响。"
   ]
  },
  {
   "cell_type": "markdown",
   "id": "aeab31b5",
   "metadata": {},
   "source": [
    "### 时间序列\n",
    "\n",
    "让我们看看单个家庭的财富动态。"
   ]
  },
  {
   "cell_type": "code",
   "execution_count": null,
   "id": "afb2861d",
   "metadata": {
    "hide-output": false
   },
   "outputs": [],
   "source": [
    "wdy = WealthDynamics()\n",
    "ts_length = 200\n",
    "w = wealth_time_series(wdy, wdy.y_mean, ts_length)"
   ]
  },
  {
   "cell_type": "code",
   "execution_count": null,
   "id": "f008c00d",
   "metadata": {
    "hide-output": false
   },
   "outputs": [],
   "source": [
    "fig, ax = plt.subplots()\n",
    "ax.plot(w)\n",
    "plt.show()"
   ]
  },
  {
   "cell_type": "markdown",
   "id": "bec862e4",
   "metadata": {},
   "source": [
    "注意财富随时间变化的大幅波动。\n",
    "\n",
    "这种波动类似于我们在[研究Kesten过程时](https://python.quantecon.org/kesten_processes.html)观察到的时间序列。"
   ]
  },
  {
   "cell_type": "markdown",
   "id": "0aa0c255",
   "metadata": {},
   "source": [
    "### 不平等度量\n",
    "\n",
    "让我们看看不平等程度如何随金融资产回报率变化。\n",
    "\n",
    "下面的函数生成一个横截面数据，然后计算洛伦兹曲线和基尼系数。"
   ]
  },
  {
   "cell_type": "code",
   "execution_count": null,
   "id": "2450ed88",
   "metadata": {
    "hide-output": false
   },
   "outputs": [],
   "source": [
    "def generate_lorenz_and_gini(wdy, num_households=100_000, T=500):\n",
    "    \"\"\"\n",
    "    通过将num_households向前模拟到时间T，生成与WealthDynamics模型\n",
    "    相对应的洛伦兹曲线数据和基尼系数。\n",
    "    \"\"\"\n",
    "    ψ_0 = np.full(num_households, wdy.y_mean)\n",
    "    z_0 = wdy.z_mean\n",
    "\n",
    "    ψ_star = update_cross_section(wdy, ψ_0, shift_length=T)\n",
    "    return qe.gini_coefficient(ψ_star), qe.lorenz_curve(ψ_star)"
   ]
  },
  {
   "cell_type": "markdown",
   "id": "d2227088",
   "metadata": {},
   "source": [
    "现在我们研究随着储蓄回报率的变化，财富分配的洛伦兹曲线如何变化。\n",
    "\n",
    "下面的代码绘制了三个不同 $ \\mu_r $ 值对应的洛伦兹曲线。\n",
    "\n",
    "如果你自己运行这段代码，请注意它需要一到两分钟才能执行完成。\n",
    "\n",
    "这是不可避免的，因为我们正在执行一个CPU密集型任务。\n",
    "\n",
    "实际上，这段经过JIT编译和并行化处理的代码相对于计算量来说运行速度已经非常快了。"
   ]
  },
  {
   "cell_type": "code",
   "execution_count": null,
   "id": "d0509952",
   "metadata": {
    "hide-output": false
   },
   "outputs": [],
   "source": [
    "%%time\n",
    "\n",
    "fig, ax = plt.subplots()\n",
    "μ_r_vals = (0.0, 0.025, 0.05)\n",
    "gini_vals = []\n",
    "\n",
    "for μ_r in μ_r_vals:\n",
    "    wdy = WealthDynamics(μ_r=μ_r)\n",
    "    gv, (f_vals, l_vals) = generate_lorenz_and_gini(wdy)\n",
    "    ax.plot(f_vals, l_vals, label=fr'$\\psi^*$ at $\\mu_r = {μ_r:0.2}$')\n",
    "    gini_vals.append(gv)\n",
    "\n",
    "ax.plot(f_vals, f_vals, label='equality')\n",
    "ax.legend(loc=\"upper left\")\n",
    "plt.show()"
   ]
  },
  {
   "cell_type": "markdown",
   "id": "16f271cc",
   "metadata": {},
   "source": [
    "随着金融收入回报的增加，洛伦兹曲线向下移动，表明不平等程度上升。\n",
    "\n",
    "我们将通过下面的基尼系数再次研究这一点，但首先请看看上述代码执行时系统资源的以下图像：\n",
    "\n",
    "由于代码经过高效的JIT编译并完全并行化，如果不更改硬件，几乎不可能让这些任务序列运行得更快。\n",
    "\n",
    "现在让我们检查基尼系数。"
   ]
  },
  {
   "cell_type": "code",
   "execution_count": null,
   "id": "708310cc",
   "metadata": {
    "hide-output": false
   },
   "outputs": [],
   "source": [
    "fig, ax = plt.subplots()\n",
    "ax.plot(μ_r_vals, gini_vals, label='gini coefficient')\n",
    "ax.set_xlabel(r\"$\\mu_r$\")\n",
    "ax.legend()\n",
    "plt.show()"
   ]
  },
  {
   "cell_type": "markdown",
   "id": "42ca17ed",
   "metadata": {},
   "source": [
    "我们再次看到，随着金融收入回报的增加，不平等程度也在上升。\n",
    "\n",
    "让我们通过研究改变金融回报的波动率项$ \\sigma_r $时会发生什么来结束本节。"
   ]
  },
  {
   "cell_type": "code",
   "execution_count": null,
   "id": "67681cb9",
   "metadata": {
    "hide-output": false
   },
   "outputs": [],
   "source": [
    "%%time\n",
    "\n",
    "fig, ax = plt.subplots()\n",
    "σ_r_vals = (0.35, 0.45, 0.52)\n",
    "gini_vals = []\n",
    "\n",
    "for σ_r in σ_r_vals:\n",
    "    wdy = WealthDynamics(σ_r=σ_r)\n",
    "    gv, (f_vals, l_vals) = generate_lorenz_and_gini(wdy)\n",
    "    ax.plot(f_vals, l_vals, label=fr'$\\psi^*$ at $\\sigma_r = {σ_r:0.2}$')\n",
    "    gini_vals.append(gv)\n",
    "\n",
    "ax.plot(f_vals, f_vals, label='equality')\n",
    "ax.legend(loc=\"upper left\")\n",
    "plt.show()"
   ]
  },
  {
   "cell_type": "markdown",
   "id": "eeb63345",
   "metadata": {},
   "source": [
    "我们看到在这个模型中，更大的波动性会导致不平等程度的增加。"
   ]
  },
  {
   "cell_type": "markdown",
   "id": "fe9723e9",
   "metadata": {},
   "source": [
    "## 练习"
   ]
  },
  {
   "cell_type": "markdown",
   "id": "04998f6c",
   "metadata": {},
   "source": [
    "## Exercise 24.1\n",
    "\n",
    "对于具有帕累托尾部的财富或收入分布，更高的尾部指数表明不平等程度更低。\n",
    "\n",
    "事实上，可以证明帕累托分布的基尼系数，当尾部指数为$ a $时，等于$ 1/(2a - 1) $。\n",
    "\n",
    "请尽可能通过模拟来验证这一点。\n",
    "\n",
    "具体来说，绘制一个图表，展示基尼系数与尾部指数的关系，同时使用上述理论值和通过`qe.gini_coefficient`从样本计算得出的值。\n",
    "\n",
    "对于尾部指数的值，使用`a_vals = np.linspace(1, 10, 25)`。\n",
    "\n",
    "对于每个$ a $，使用1,000个样本，并采用在讨论帕累托分布的洛伦兹曲线时使用的采样方法来生成帕累托分布的随机数。\n",
    "\n",
    "请尽可能解释基尼指数与$ a $之间的单调关系。"
   ]
  },
  {
   "cell_type": "markdown",
   "id": "515edb3c",
   "metadata": {},
   "source": [
    "## Solution to[ Exercise 24.1](https://python.quantecon.org/#wd_ex1)\n",
    "\n",
    "这是一个解决方案，它在理论和模拟之间产生了很好的匹配。"
   ]
  },
  {
   "cell_type": "code",
   "execution_count": null,
   "id": "aac187c5",
   "metadata": {
    "hide-output": false
   },
   "outputs": [],
   "source": [
    "a_vals = np.linspace(1, 10, 25)  # Pareto尾部指数\n",
    "ginis = np.empty_like(a_vals)\n",
    "\n",
    "n = 1000                         # 每个样本的大小\n",
    "fig, ax = plt.subplots()\n",
    "for i, a in enumerate(a_vals):\n",
    "    y = np.random.uniform(size=n)**(-1/a)\n",
    "    ginis[i] = qe.gini_coefficient(y)\n",
    "ax.plot(a_vals, ginis, label='sampled')\n",
    "ax.plot(a_vals, 1/(2*a_vals - 1), label='theoretical')\n",
    "ax.legend()\n",
    "plt.show()"
   ]
  },
  {
   "cell_type": "markdown",
   "id": "d8686a0b",
   "metadata": {},
   "source": [
    "一般来说，对于帕累托分布，较高的尾部指数意味着右尾的权重较小。\n",
    "\n",
    "这意味着财富的极端值较少，因此更加平等。\n",
    "\n",
    "更多的平等转化为较低的基尼系数。"
   ]
  },
  {
   "cell_type": "markdown",
   "id": "31b3bcfe",
   "metadata": {},
   "source": [
    "## Exercise 24.2\n",
    "\n",
    "财富过程[(24.1)](#equation-wealth-dynam-ah)类似于[Kesten过程](https://python.quantecon.org/kesten_processes.html)。\n",
    "\n",
    "这是因为，根据[(24.2)](#equation-sav-ah)，在所有高于$ \\hat w $的财富水平上，储蓄是恒定的。\n",
    "\n",
    "当储蓄恒定时，财富过程具有与Kesten过程相同的准线性结构，包含乘性和加性冲击。\n",
    "\n",
    "Kesten-Goldie定理告诉我们，在一系列参数化条件下，Kesten过程具有帕累托尾部。\n",
    "\n",
    "该定理在这里并不直接适用，因为储蓄并不总是恒定的，并且[(24.1)](#equation-wealth-dynam-ah)中的乘性和加性项不是独立同分布的。\n",
    "\n",
    "同时，考虑到这些相似性，也许会出现帕累托尾部。\n",
    "\n",
    "要测试这一点，运行一个生成财富横截面的模拟，并生成一个等级-规模图。\n",
    "\n",
    "如果你愿意，可以使用`quantecon`库中的`rank_size`函数（文档在[这里](https://quanteconpy.readthedocs.io/en/latest/tools/inequality.html#quantecon.inequality.rank_size)）。\n",
    "\n",
    "在查看图表时，请记住帕累托尾部会生成一条直线。你看到的是这样吗？\n",
    "\n",
    "对于样本大小和初始条件，使用"
   ]
  },
  {
   "cell_type": "code",
   "execution_count": null,
   "id": "d260a9d6",
   "metadata": {
    "hide-output": false
   },
   "outputs": [],
   "source": [
    "num_households = 250_000\n",
    "T = 500                                      # 向前移动T个周期\n",
    "ψ_0 = np.full(num_households, wdy.y_mean)   # 初始分布\n",
    "z_0 = wdy.z_mean"
   ]
  },
  {
   "cell_type": "markdown",
   "id": "a710e142",
   "metadata": {},
   "source": [
    "## Solution to[ Exercise 24.2](https://python.quantecon.org/#wd_ex2)\n",
    "\n",
    "首先让我们生成分布:"
   ]
  },
  {
   "cell_type": "code",
   "execution_count": null,
   "id": "e33201e5",
   "metadata": {
    "hide-output": false
   },
   "outputs": [],
   "source": [
    "num_households = 250_000\n",
    "T = 500  # 向前移动的时间长度\n",
    "wdy = WealthDynamics()\n",
    "ψ_0 = np.full(num_households, wdy.y_mean)\n",
    "z_0 = wdy.z_mean\n",
    "\n",
    "ψ_star = update_cross_section(wdy, ψ_0, shift_length=T)"
   ]
  },
  {
   "cell_type": "markdown",
   "id": "cb58a0c7",
   "metadata": {},
   "source": [
    "现在让我们看看等级-规模图:"
   ]
  },
  {
   "cell_type": "code",
   "execution_count": null,
   "id": "3b4cf617",
   "metadata": {
    "hide-output": false
   },
   "outputs": [],
   "source": [
    "fig, ax = plt.subplots()\n",
    "\n",
    "rank_data, size_data = qe.rank_size(ψ_star, c=0.001)\n",
    "ax.loglog(rank_data, size_data, 'o', markersize=3.0, alpha=0.5)\n",
    "ax.set_xlabel(\"对数等级\")\n",
    "ax.set_ylabel(\"对数规模\")\n",
    "\n",
    "plt.show()"
   ]
  }
 ],
 "metadata": {
  "date": 1747894133.4230535,
  "filename": "wealth_dynamics.md",
  "kernelspec": {
   "display_name": "Python",
   "language": "python3",
   "name": "python3"
  },
  "title": "财富分配动态"
 },
 "nbformat": 4,
 "nbformat_minor": 5
}