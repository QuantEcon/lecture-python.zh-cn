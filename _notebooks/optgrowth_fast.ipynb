{
 "cells": [
  {
   "cell_type": "markdown",
   "id": "97c26d17",
   "metadata": {},
   "source": [
    "\n",
    "<a id='optgrowth'></a>\n",
    "<div id=\"qe-notebook-header\" align=\"right\" style=\"text-align:right;\">\n",
    "        <a href=\"https://quantecon.org/\" title=\"quantecon.org\">\n",
    "                <img style=\"width:250px;display:inline;\" width=\"250px\" src=\"https://assets.quantecon.org/img/qe-menubar-logo.svg\" alt=\"QuantEcon\">\n",
    "        </a>\n",
    "</div>"
   ]
  },
  {
   "cell_type": "markdown",
   "id": "daa99164",
   "metadata": {},
   "source": [
    "# 最优增长 II：使用Numba加速代码"
   ]
  },
  {
   "cell_type": "markdown",
   "id": "b1a40391",
   "metadata": {},
   "source": [
    "## 目录\n",
    "\n",
    "- [最优增长 II：使用Numba加速代码](#最优增长-II：使用Numba加速代码)  \n",
    "  - [概述](#概述)  \n",
    "  - [模型](#模型)  \n",
    "  - [计算](#计算)  \n",
    "  - [练习](#练习)  "
   ]
  },
  {
   "cell_type": "markdown",
   "id": "3d64e57b",
   "metadata": {},
   "source": [
    "除了Anaconda中已有的库外，本讲座还需要以下库："
   ]
  },
  {
   "cell_type": "code",
   "execution_count": null,
   "id": "e72e73b0",
   "metadata": {
    "hide-output": false
   },
   "outputs": [],
   "source": [
    "!pip install quantecon"
   ]
  },
  {
   "cell_type": "markdown",
   "id": "60ac165e",
   "metadata": {},
   "source": [
    "## 概述\n",
    "\n",
    "在[上一讲](https://python.quantecon.org/optgrowth.html)中，我们研究了一个具有代表性个体的随机最优增长模型。\n",
    "\n",
    "我们使用动态规划方法对该模型进行了求解。\n",
    "\n",
    "在编写代码时，我们注重清晰性和灵活性。\n",
    "\n",
    "尽管这些特性十分重要，但在实际应用中，灵活性与运行速度之间往往存在权衡。\n",
    "\n",
    "其原因在于，当代码的灵活性降低时，我们能够更容易地利用模型的结构特征。\n",
    "\n",
    "（这一点在算法与数学问题中普遍成立：越具体的问题往往具有更强的结构特征，而经过适当设计，这些结构可被有效利用，从而获得更优的结果。）\n",
    "\n",
    "因此，在本讲中，我们将牺牲一定的灵活性以换取更高的运行速度，采用即时(JIT)编译来加速代码的执行。\n",
    "\n",
    "下面让我们从导入相关库开始："
   ]
  },
  {
   "cell_type": "code",
   "execution_count": null,
   "id": "3c3a1fb2",
   "metadata": {
    "hide-output": false
   },
   "outputs": [],
   "source": [
    "import matplotlib.pyplot as plt\n",
    "import matplotlib as mpl\n",
    "FONTPATH = \"fonts/SourceHanSerifSC-SemiBold.otf\"\n",
    "mpl.font_manager.fontManager.addfont(FONTPATH)\n",
    "plt.rcParams['font.family'] = ['Source Han Serif SC']\n",
    "\n",
    "import numpy as np\n",
    "from numba import jit, jit\n",
    "from quantecon.optimize.scalar_maximization import brent_max"
   ]
  },
  {
   "cell_type": "markdown",
   "id": "d2397b49",
   "metadata": {},
   "source": [
    "函数`brent_max`同样被设计用于嵌入JIT编译代码中。\n",
    "\n",
    "这些函数可作为SciPy中类似函数的替代方案（遗憾的是，SciPy中的相关函数目前尚不支持JIT）。"
   ]
  },
  {
   "cell_type": "markdown",
   "id": "0bb03c54",
   "metadata": {},
   "source": [
    "## 模型\n",
    "\n",
    "\n",
    "<a id='index-1'></a>\n",
    "本节所使用的模型与我们在[前一讲](https://python.quantecon.org/optgrowth.html)关于最优增长的讲授中所讨论的模型相同。\n",
    "\n",
    "我们从对数型效用函数开始：\n",
    "\n",
    "$$\n",
    "u(c) = \\ln(c)\n",
    "$$\n",
    "\n",
    "并继续作如下假设：\n",
    "\n",
    "- 生产函数为 $ f(k) = k^{\\alpha} $；  \n",
    "- 随机冲击项 $ \\xi $ 的分布为 $ \\phi $，其中 $ \\xi := \\exp(\\mu + s \\zeta) $ 且 $ \\zeta $ 为标准正态分布。  \n",
    "\n",
    "\n",
    "我们将再次使用价值函数迭代(VFI)来求解这个模型。\n",
    "\n",
    "具体来说，算法保持不变，唯一的区别在于具体的实现方式。\n",
    "\n",
    "和之前一样，我们会对比本次计算所得结果与真实解。"
   ]
  },
  {
   "cell_type": "code",
   "execution_count": null,
   "id": "a39eb53c",
   "metadata": {
    "hide-output": false
   },
   "outputs": [],
   "source": [
    "\n",
    "def v_star(y, α, β, μ):\n",
    "    \"\"\"\n",
    "    真实价值函数\n",
    "    \"\"\"\n",
    "    c1 = np.log(1 - α * β) / (1 - β)\n",
    "    c2 = (μ + α * np.log(α * β)) / (1 - α)\n",
    "    c3 = 1 / (1 - β)\n",
    "    c4 = 1 / (1 - α * β)\n",
    "    return c1 + c2 * (c3 - c4) + c4 * np.log(y)\n",
    "\n",
    "def σ_star(y, α, β):\n",
    "    \"\"\"\n",
    "    真实最优策略\n",
    "    \"\"\"\n",
    "    return (1 - α * β) * y"
   ]
  },
  {
   "cell_type": "markdown",
   "id": "72468b50",
   "metadata": {},
   "source": [
    "## 计算\n",
    "\n",
    "\n",
    "<a id='index-2'></a>\n",
    "我们将再次把最优增长模型的基本要素封装在一个类中。\n",
    "\n",
    "然而，与此前不同的是，我们将使用[Numba](https://python-programming.quantecon.org/numba.html)的 `@jitclass`装饰器来对该类进行JIT编译。\n",
    "\n",
    "由于我们计划使用Numba来编译该类，因此需要明确指定数据类型。\n",
    "\n",
    "在代码中，你将看到一个名为`opt_growth_data`的列表，该列表定义在类的上方，用于说明这些类型。\n",
    "\n",
    "与[上一讲](https://python.quantecon.org/optgrowth.html)不同的是，这里我们将生产和效用函数的具体形式直接写入类中，而非保持一般性形式。\n",
    "\n",
    "也就是说，我们在此牺牲了一定的灵活性，以换取更高的运行速度。"
   ]
  },
  {
   "cell_type": "code",
   "execution_count": null,
   "id": "5d8786c9",
   "metadata": {
    "hide-output": false
   },
   "outputs": [],
   "source": [
    "from numba import float64\n",
    "from numba.experimental import jitclass\n",
    "\n",
    "opt_growth_data = [\n",
    "    ('α', float64),          # 生产参数\n",
    "    ('β', float64),          # 折现因子\n",
    "    ('μ', float64),          # 冲击的均值参数\n",
    "    ('s', float64),          # 冲击的尺度参数\n",
    "    ('grid', float64[:]),    # 网格（数组）\n",
    "    ('shocks', float64[:])   # 冲击样本（数组）\n",
    "]\n",
    "\n",
    "@jitclass(opt_growth_data)\n",
    "class OptimalGrowthModel:\n",
    "\n",
    "    def __init__(self,\n",
    "                α=0.4,\n",
    "                β=0.96,\n",
    "                μ=0,\n",
    "                s=0.1,\n",
    "                grid_max=4,\n",
    "                grid_size=120,\n",
    "                shock_size=250,\n",
    "                seed=1234):\n",
    "\n",
    "        self.α, self.β, self.μ, self.s = α, β, μ, s\n",
    "\n",
    "         # 设置网格\n",
    "        self.grid = np.linspace(1e-5, grid_max, grid_size)\n",
    "\n",
    "        # 存储冲击（设置随机种子以确保结果可重复）\n",
    "        np.random.seed(seed)\n",
    "        self.shocks = np.exp(μ + s * np.random.randn(shock_size))\n",
    "\n",
    "\n",
    "    def f(self, k):\n",
    "       \"生产函数\"\n",
    "        return k**self.α\n",
    "\n",
    "\n",
    "    def u(self, c):\n",
    "        \"效用函数\"\n",
    "        return np.log(c)\n",
    "\n",
    "    def f_prime(self, k):\n",
    "        \"生产函数的一阶导数\"\n",
    "        return self.α * (k**(self.α - 1))\n",
    "\n",
    "\n",
    "    def u_prime(self, c):\n",
    "        \"效用函数的一阶导数\"\n",
    "        return 1/c\n",
    "\n",
    "    def u_prime_inv(self, c):\n",
    "        \"效用函数一阶导数的反函数\"\n",
    "        return 1/c"
   ]
  },
  {
   "cell_type": "markdown",
   "id": "6f43f5c4",
   "metadata": {},
   "source": [
    "该类还包含若干方法，例如`u_prime`，虽然在当前讲义中尚未使用，但将在后续课程中发挥作用。"
   ]
  },
  {
   "cell_type": "markdown",
   "id": "f0d36f7f",
   "metadata": {},
   "source": [
    "### 贝尔曼算子\n",
    "\n",
    "我们将使用JIT编译来加速贝尔曼算子的计算。\n",
    "\n",
    "首先，定义一个函数，用于计算在给定状态`y`下，某一特定消费选择`c`所对应的价值。该函数基于贝尔曼方程[(57.9)](https://python.quantecon.org/optgrowth.html#equation-fpb30)。"
   ]
  },
  {
   "cell_type": "code",
   "execution_count": null,
   "id": "65c4d4e0",
   "metadata": {
    "hide-output": false
   },
   "outputs": [],
   "source": [
    "@jit\n",
    "def state_action_value(c, y, v_array, og):\n",
    "    \"\"\"\n",
    "    贝尔曼方程右侧。\n",
    "\n",
    "     * c是消费\n",
    "     * y是收入\n",
    "     * og是OptimalGrowthModel的一个实例\n",
    "     * v_array表示网格上的值函数猜测\n",
    "\n",
    "    \"\"\"\n",
    "\n",
    "    u, f, β, shocks = og.u, og.f, og.β, og.shocks\n",
    "\n",
    "    v = lambda x: np.interp(x, og.grid, v_array)\n",
    "\n",
    "    return u(c) + β * np.mean(v(f(y - c) * shocks))"
   ]
  },
  {
   "cell_type": "markdown",
   "id": "1cfbfab2",
   "metadata": {},
   "source": [
    "现在我们可以实现贝尔曼算子，它用于最大化贝尔曼方程的右侧："
   ]
  },
  {
   "cell_type": "code",
   "execution_count": null,
   "id": "30dd7f3e",
   "metadata": {
    "hide-output": false
   },
   "outputs": [],
   "source": [
    "@jit\n",
    "def T(v, og):\n",
    "    \"\"\"\n",
    "    贝尔曼算子。\n",
    "\n",
    "     * og 是 OptimalGrowthModel 的一个实例\n",
    "     * v 是一个数组，表示价值函数的猜测值\n",
    "\n",
    "    \"\"\"\n",
    "\n",
    "    v_new = np.empty_like(v)\n",
    "    v_greedy = np.empty_like(v)\n",
    "\n",
    "    for i in range(len(og.grid)):\n",
    "        y = og.grid[i]\n",
    "\n",
    "        # 在状态 y 下最大化贝尔曼方程的右侧\n",
    "        result = brent_max(state_action_value, 1e-10, y, args=(y, v, og))\n",
    "        v_greedy[i], v_new[i] = result[0], result[1]\n",
    "\n",
    "    return v_greedy, v_new"
   ]
  },
  {
   "cell_type": "markdown",
   "id": "72db82cc",
   "metadata": {},
   "source": [
    "我们使用`solve_model`函数进行迭代直到收敛。"
   ]
  },
  {
   "cell_type": "code",
   "execution_count": null,
   "id": "b0f39241",
   "metadata": {
    "hide-output": false
   },
   "outputs": [],
   "source": [
    "def solve_model(og,\n",
    "                tol=1e-4,\n",
    "                max_iter=1000,\n",
    "                verbose=True,\n",
    "                print_skip=25):\n",
    "    \"\"\"\n",
    "    通过迭代贝尔曼算子求解\n",
    "\n",
    "    \"\"\"\n",
    "\n",
    "    # 设置迭代循环\n",
    "    v = og.u(og.grid)  # 初始条件\n",
    "    i = 0\n",
    "    error = tol + 1\n",
    "\n",
    "    while i < max_iter and error > tol:\n",
    "        v_greedy, v_new = T(v, og)\n",
    "        error = np.max(np.abs(v - v_new))\n",
    "        i += 1\n",
    "        if verbose and i % print_skip == 0:\n",
    "            print(f\"第 {i} 次迭代的误差为 {error}。\")\n",
    "        v = v_new\n",
    "\n",
    "    if error > tol:\n",
    "        print(\"未能收敛！\")\n",
    "    elif verbose:\n",
    "        print(f\"\\n在 {i} 次迭代后收敛。\")\n",
    "\n",
    "    return v_greedy, v_new"
   ]
  },
  {
   "cell_type": "markdown",
   "id": "94be0f23",
   "metadata": {},
   "source": [
    "让我们用默认参数计算近似解。\n",
    "\n",
    "首先创建一个实例："
   ]
  },
  {
   "cell_type": "code",
   "execution_count": null,
   "id": "60ee3ebe",
   "metadata": {
    "hide-output": false
   },
   "outputs": [],
   "source": [
    "og = OptimalGrowthModel()"
   ]
  },
  {
   "cell_type": "markdown",
   "id": "2ecb5f92",
   "metadata": {},
   "source": [
    "现在我们调用`solve_model`，使用`%%time`魔法指令来记录运行时间。"
   ]
  },
  {
   "cell_type": "code",
   "execution_count": null,
   "id": "af820bbd",
   "metadata": {
    "hide-output": false
   },
   "outputs": [],
   "source": [
    "%%time\n",
    "v_greedy, v_solution = solve_model(og)"
   ]
  },
  {
   "cell_type": "markdown",
   "id": "f0a343f4",
   "metadata": {},
   "source": [
    "你会发现，这比我们的[原始实现](https://python.quantecon.org/optgrowth.html)要*快得多*。\n",
    "\n",
    "下面，生成近似策略与真实策略的对比图："
   ]
  },
  {
   "cell_type": "code",
   "execution_count": null,
   "id": "42367b4a",
   "metadata": {
    "hide-output": false
   },
   "outputs": [],
   "source": [
    "fig, ax = plt.subplots()\n",
    "\n",
    "ax.plot(og.grid, v_greedy, lw=2,\n",
    "        alpha=0.8, label='近似策略函数')\n",
    "\n",
    "ax.plot(og.grid, σ_star(og.grid, og.α, og.β), 'k--',\n",
    "        lw=2, alpha=0.8, label='真实策略函数')\n",
    "\n",
    "ax.legend()\n",
    "plt.show()"
   ]
  },
  {
   "cell_type": "markdown",
   "id": "afd072d4",
   "metadata": {},
   "source": [
    "与之前一样，拟合效果非常好 — 这是意料之中的，因为我们没有改变算法。\n",
    "\n",
    "两种策略之间的最大绝对偏差是"
   ]
  },
  {
   "cell_type": "code",
   "execution_count": null,
   "id": "6d002b68",
   "metadata": {
    "hide-output": false
   },
   "outputs": [],
   "source": [
    "np.max(np.abs(v_greedy - σ_star(og.grid, og.α, og.β)))"
   ]
  },
  {
   "cell_type": "markdown",
   "id": "c1a8e8d3",
   "metadata": {},
   "source": [
    "## 练习"
   ]
  },
  {
   "cell_type": "markdown",
   "id": "46340ec7",
   "metadata": {},
   "source": [
    "## Exercise 58.1\n",
    "\n",
    "在默认参数设定下，从给定的初始条件 $ v(y) = u(y) $ 开始，对贝尔曼算子进行 20 次迭代，并记录整个迭代过程所耗费的时间。"
   ]
  },
  {
   "cell_type": "markdown",
   "id": "d76e35e3",
   "metadata": {},
   "source": [
    "## Solution to[ Exercise 58.1](https://python.quantecon.org/#ogfast_ex1)\n",
    "\n",
    "设置初始条件："
   ]
  },
  {
   "cell_type": "code",
   "execution_count": null,
   "id": "96a06244",
   "metadata": {
    "hide-output": false
   },
   "outputs": [],
   "source": [
    "v = og.u(og.grid)"
   ]
  },
  {
   "cell_type": "markdown",
   "id": "c644becb",
   "metadata": {},
   "source": [
    "计时："
   ]
  },
  {
   "cell_type": "code",
   "execution_count": null,
   "id": "c06eb6da",
   "metadata": {
    "hide-output": false
   },
   "outputs": [],
   "source": [
    "%%time\n",
    "\n",
    "for i in range(20):\n",
    "    v_greedy, v_new = T(v, og)\n",
    "    v = v_new"
   ]
  },
  {
   "cell_type": "markdown",
   "id": "d82b5456",
   "metadata": {},
   "source": [
    "与非编译版本的价值函数迭代的[用时](https://python.quantecon.org/optgrowth.html#og_ex2)相比，JIT编译的代码通常快一个数量级。"
   ]
  },
  {
   "cell_type": "markdown",
   "id": "2f828ff7",
   "metadata": {},
   "source": [
    "## Exercise 58.2\n",
    "\n",
    "将最优增长模型修改为采用CRRA效用函数的设定：\n",
    "\n",
    "$$\n",
    "u(c) = \\frac{c^{1 - \\gamma} } {1 - \\gamma}\n",
    "$$\n",
    "\n",
    "设定`γ = 1.5`为默认值，并保持其他模型设定不变。\n",
    "\n",
    "（注意，`jitclass`目前不支持类继承，因此你需要复制原有的类，并相应修改相关的参数与方法。）\n",
    "\n",
    "计算最优策略的估计值，并绘制其图像。将所得图像与第一讲最优增长模型中[对应练习](https://python.quantecon.org/optgrowth.html#og_ex1)的图表进行比较。\n",
    "\n",
    "同时，对比两种实现的运行时间。"
   ]
  },
  {
   "cell_type": "markdown",
   "id": "f0f473f9",
   "metadata": {},
   "source": [
    "## Solution to[ Exercise 58.2](https://python.quantecon.org/#ogfast_ex2)\n",
    "\n",
    "这是CRRA版本的`OptimalGrowthModel`："
   ]
  },
  {
   "cell_type": "code",
   "execution_count": null,
   "id": "c874f78c",
   "metadata": {
    "hide-output": false
   },
   "outputs": [],
   "source": [
    "from numba import float64\n",
    "from numba.experimental import jitclass\n",
    "\n",
    "opt_growth_data = [\n",
    "    ('α', float64),          # 生产参数\n",
    "    ('β', float64),          # 折现因子\n",
    "    ('μ', float64),          # 冲击的均值参数\n",
    "    ('γ', float64),          # 偏好参数\n",
    "    ('s', float64),          # 冲击的尺度参数\n",
    "    ('grid', float64[:]),    # 网格（数组）\n",
    "    ('shocks', float64[:])   # 冲击样本（数组）\n",
    "]\n",
    "\n",
    "@jitclass(opt_growth_data)\n",
    "class OptimalGrowthModel_CRRA:\n",
    "\n",
    "    def __init__(self,\n",
    "                α=0.4,\n",
    "                β=0.96,\n",
    "                μ=0,\n",
    "                s=0.1,\n",
    "                γ=1.5,\n",
    "                grid_max=4,\n",
    "                grid_size=120,\n",
    "                shock_size=250,\n",
    "                seed=1234):\n",
    "\n",
    "        self.α, self.β, self.γ, self.μ, self.s = α, β, γ, μ, s\n",
    "\n",
    "        # 设置网格\n",
    "        self.grid = np.linspace(1e-5, grid_max, grid_size)\n",
    "\n",
    "        # 存储冲击（设置随机种子以确保结果可重复）\n",
    "        np.random.seed(seed)\n",
    "        self.shocks = np.exp(μ + s * np.random.randn(shock_size))\n",
    "\n",
    "    def f(self, k):\n",
    "        \"生产函数\"\n",
    "        return k**self.α\n",
    "\n",
    "    def u(self, c):\n",
    "        \"效用函数\"\n",
    "        return c**(1 - self.γ) / (1 - self.γ)\n",
    "\n",
    "    def f_prime(self, k):\n",
    "        \"生产函数的一阶导数\"\n",
    "        return self.α * (k**(self.α - 1))\n",
    "\n",
    "    def u_prime(self, c):\n",
    "        \"效用函数的一阶导数\"\n",
    "        return c**(-self.γ)\n",
    "\n",
    "    def u_prime_inv(self, c):\n",
    "        \"效用函数一阶导数的反函数\"\n",
    "        return c**(-1 / self.γ)"
   ]
  },
  {
   "cell_type": "markdown",
   "id": "3fe02f6d",
   "metadata": {},
   "source": [
    "创建一个实例："
   ]
  },
  {
   "cell_type": "code",
   "execution_count": null,
   "id": "bf9507dc",
   "metadata": {
    "hide-output": false
   },
   "outputs": [],
   "source": [
    "og_crra = OptimalGrowthModel_CRRA()"
   ]
  },
  {
   "cell_type": "markdown",
   "id": "39359e31",
   "metadata": {},
   "source": [
    "调用`solve_model`，使用`%%time`魔术命令来记录运行时间。"
   ]
  },
  {
   "cell_type": "code",
   "execution_count": null,
   "id": "63548468",
   "metadata": {
    "hide-output": false
   },
   "outputs": [],
   "source": [
    "%%time\n",
    "v_greedy, v_solution = solve_model(og_crra)"
   ]
  },
  {
   "cell_type": "markdown",
   "id": "c9cc500b",
   "metadata": {},
   "source": [
    "以下是得到的策略图："
   ]
  },
  {
   "cell_type": "code",
   "execution_count": null,
   "id": "df679b89",
   "metadata": {
    "hide-output": false
   },
   "outputs": [],
   "source": [
    "fig, ax = plt.subplots()\n",
    "\n",
    "ax.plot(og.grid, v_greedy, lw=2,\n",
    "        alpha=0.6, label='近似价值函数')\n",
    "\n",
    "ax.legend(loc='lower right')\n",
    "plt.show()"
   ]
  },
  {
   "cell_type": "markdown",
   "id": "209b5c88",
   "metadata": {},
   "source": [
    "这与我们在[练习](https://python.quantecon.org/optgrowth.html#og_ex1)中使用非jit代码得到的答案相符，但执行时间快了一个数量级。"
   ]
  },
  {
   "cell_type": "markdown",
   "id": "8b4c2581",
   "metadata": {},
   "source": [
    "## Exercise 58.3\n",
    "\n",
    "在本练习中，我们回到最初的对数型效用函数设定。\n",
    "\n",
    "当给定最优消费政策 $ \\sigma $ 后，收入的动态演化如下：\n",
    "\n",
    "$$\n",
    "y_{t+1} = f(y_t - \\sigma(y_t)) \\xi_{t+1}\n",
    "$$\n",
    "\n",
    "下图展示了该序列在三种不同贴现因子（因而对应三种不同政策）下的模拟结果，每个序列包含 100 个样本点。\n",
    "\n",
    "![https://python.quantecon.org/_static/lecture_specific/optgrowth/solution_og_ex2.png](https://python.quantecon.org/_static/lecture_specific/optgrowth/solution_og_ex2.png)\n",
    "\n",
    "  \n",
    "在每个序列中，初始条件都是 $ y_0 = 0.1 $。\n",
    "\n",
    "贴现因子分别为`discount_factors = (0.8, 0.9, 0.98)`。\n",
    "\n",
    "我们还通过设置`s = 0.05`稍微降低了冲击的幅度。\n",
    "\n",
    "除此之外，参数和原始设定与前面讨论的对数线性模型相同。\n",
    "\n",
    "注意，更有耐心的个体通常拥有更高的财富。\n",
    "\n",
    "请在保持随机性结构的前提下，复现该图像。"
   ]
  },
  {
   "cell_type": "markdown",
   "id": "d2bfdd8c",
   "metadata": {},
   "source": [
    "## Solution to[ Exercise 58.3](https://python.quantecon.org/#ogfast_ex3)\n",
    "\n",
    "参考答案："
   ]
  },
  {
   "cell_type": "code",
   "execution_count": null,
   "id": "44f2d6f4",
   "metadata": {
    "hide-output": false
   },
   "outputs": [],
   "source": [
    "def simulate_og(σ_func, og, y0=0.1, ts_length=100):\n",
    "    '''\n",
    "    根据消费策略σ计算时间序列。\n",
    "    '''\n",
    "    y = np.empty(ts_length)\n",
    "    ξ = np.random.randn(ts_length-1)\n",
    "    y[0] = y0\n",
    "    for t in range(ts_length-1):\n",
    "        y[t+1] = (y[t] - σ_func(y[t]))**og.α * np.exp(og.μ + og.s * ξ[t])\n",
    "    return y"
   ]
  },
  {
   "cell_type": "code",
   "execution_count": null,
   "id": "3e1ce497",
   "metadata": {
    "hide-output": false
   },
   "outputs": [],
   "source": [
    "fig, ax = plt.subplots()\n",
    "\n",
    "for β in (0.8, 0.9, 0.98):\n",
    "\n",
    "    og = OptimalGrowthModel(β=β, s=0.05)\n",
    "\n",
    "    v_greedy, v_solution = solve_model(og, verbose=False)\n",
    "\n",
    "    # 定义最优策略函数\n",
    "    σ_func = lambda x: np.interp(x, og.grid, v_greedy)\n",
    "    y = simulate_og(σ_func, og)\n",
    "    ax.plot(y, lw=2, alpha=0.6, label=rf'$\\beta = {β}$')\n",
    "\n",
    "ax.legend(loc='lower right')\n",
    "plt.show()"
   ]
  }
 ],
 "metadata": {
  "date": 1761257074.6653001,
  "filename": "optgrowth_fast.md",
  "kernelspec": {
   "display_name": "Python",
   "language": "python3",
   "name": "python3"
  },
  "title": "最优增长 II：使用Numba加速代码"
 },
 "nbformat": 4,
 "nbformat_minor": 5
}