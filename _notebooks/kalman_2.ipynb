{
 "cells": [
  {
   "cell_type": "markdown",
   "id": "c488b48b",
   "metadata": {},
   "source": [
    "\n",
    "<a id='kalman'></a>\n",
    "<div id=\"qe-notebook-header\" align=\"right\" style=\"text-align:right;\">\n",
    "        <a href=\"https://quantecon.org/\" title=\"quantecon.org\">\n",
    "                <img style=\"width:250px;display:inline;\" width=\"250px\" src=\"https://assets.quantecon.org/img/qe-menubar-logo.svg\" alt=\"QuantEcon\">\n",
    "        </a>\n",
    "</div>"
   ]
  },
  {
   "cell_type": "markdown",
   "id": "57b8afc0",
   "metadata": {},
   "source": [
    "# 卡尔曼滤波器进阶\n",
    "\n",
    "\n",
    "<a id='index-0'></a>"
   ]
  },
  {
   "cell_type": "markdown",
   "id": "65752433",
   "metadata": {},
   "source": [
    "## Contents\n",
    "\n",
    "- [卡尔曼滤波器进阶](#卡尔曼滤波器进阶)  \n",
    "  - [劳动者的产出](#劳动者的产出)  \n",
    "  - [公司的工资设定政策](#公司的工资设定政策)  \n",
    "  - [状态空间表示](#状态空间表示)  \n",
    "  - [创新表示](#创新表示)  \n",
    "  - [一些计算实验](#一些计算实验)  \n",
    "  - [未来扩展](#未来扩展)  "
   ]
  },
  {
   "cell_type": "markdown",
   "id": "5b5d8dc4",
   "metadata": {},
   "source": [
    "在之前的量化经济学讲座 [卡尔曼滤波器的初步介绍](https://python.quantecon.org/kalman.html) 中，我们使用卡尔曼滤波器来估计火箭的位置。\n",
    "\n",
    "在本讲座中，我们将使用卡尔曼滤波器来推断劳动者的：\n",
    "\n",
    "1. 人力资本  \n",
    "1. 劳动者投入人力资本积累的努力程度  \n",
    "\n",
    "\n",
    "这两个变量都是公司无法直接观察到的。\n",
    "\n",
    "公司只能通过观察劳动者历史产出，以及理解这些产出如何依赖于劳动者的人力资本，以及人力资本如何作为劳动者努力程度的函数来演化，来了解上述变量。\n",
    "\n",
    "我们将设定一个规则，说明公司如何根据每期获得的信息来支付劳动者工资。\n",
    "\n",
    "除了Anaconda中的内容外，本讲座还需要以下库："
   ]
  },
  {
   "cell_type": "code",
   "execution_count": null,
   "id": "7aa9dde3",
   "metadata": {
    "hide-output": false
   },
   "outputs": [],
   "source": [
    "!pip install quantecon"
   ]
  },
  {
   "cell_type": "markdown",
   "id": "f0404068",
   "metadata": {},
   "source": [
    "为了进行模拟，我们引入以下函数库，与 [卡尔曼滤波器的初步介绍](https://python.quantecon.org/kalman.html) 相同："
   ]
  },
  {
   "cell_type": "code",
   "execution_count": null,
   "id": "affaa519",
   "metadata": {
    "hide-output": false
   },
   "outputs": [],
   "source": [
    "import matplotlib.pyplot as plt\n",
    "import matplotlib as mpl\n",
    "FONTPATH = \"fonts/SourceHanSerifSC-SemiBold.otf\"\n",
    "mpl.font_manager.fontManager.addfont(FONTPATH)\n",
    "plt.rcParams['font.family'] = ['Source Han Serif SC']\n",
    "\n",
    "import numpy as np\n",
    "from quantecon import Kalman, LinearStateSpace\n",
    "from collections import namedtuple\n",
    "from scipy.stats import multivariate_normal\n",
    "import matplotlib as mpl\n",
    "\n",
    "# Configure Matplotlib to use pdfLaTeX and CJKutf8\n",
    "mpl.rcParams.update({\n",
    "    'text.usetex': True,\n",
    "    'text.latex.preamble': r'''\n",
    "        \\usepackage{{CJKutf8}}\n",
    "        \\usepackage{{amsmath}}\n",
    "    '''\n",
    "})\n",
    "\n",
    "# Function to wrap Chinese text in CJK environment\n",
    "def cjk(text):\n",
    "    return rf'\\begin{{CJK}}{{UTF8}}{{gbsn}}{text}\\end{{CJK}}'"
   ]
  },
  {
   "cell_type": "markdown",
   "id": "86fa22df",
   "metadata": {},
   "source": [
    "## 劳动者的产出\n",
    "\n",
    "一个代表性劳动者永久受雇于一家公司。\n",
    "\n",
    "劳动者的产出由以下动态过程描述：\n",
    "\n",
    "\n",
    "<a id='equation-worker-model'></a>\n",
    "$$\n",
    "\\begin{aligned}\n",
    "h_{t+1} &= \\alpha h_t + \\beta u_t + c w_{t+1}, \\quad w_{t+1} \\sim {N}(0,1) \\\\\n",
    "u_{t+1} & = u_t \\\\\n",
    "y_t & = g h_t + v_t , \\quad v_t \\sim {N} (0, R)\n",
    "\\end{aligned} \\tag{41.1}\n",
    "$$\n",
    "\n",
    "其中：\n",
    "\n",
    "- $ h_t $ 是时间 $ t $ 时的人力资本对数  \n",
    "- $ u_t $ 是时间 $ t $ 时劳动者投入人力资本积累的努力程度的对数  \n",
    "- $ y_t $ 是时间 $ t $ 时劳动者产出的对数  \n",
    "- $ h_0 \\sim {N}(\\hat h_0, \\sigma_{h,0}) $  \n",
    "- $ u_0 \\sim {N}(\\hat u_0, \\sigma_{u,0}) $  \n",
    "\n",
    "\n",
    "模型的参数包括 $ \\alpha, \\beta, c, R, g, \\hat h_0, \\hat u_0, \\sigma_h, \\sigma_u $。\n",
    "\n",
    "在时间 $ 0 $，公司雇佣了劳动者。\n",
    "\n",
    "劳动者永久依附于公司，因此在所有时间 $ t =0, 1, 2, \\ldots $ 都为同一家公司工作。\n",
    "\n",
    "在时间 $ 0 $ 开始时，公司既无法观察到劳动者的初始人力资本 $ h_0 $，也无法观察到其固有的永久努力水平 $ u_0 $。\n",
    "\n",
    "公司认为特定劳动者的 $ u_0 $ 服从高斯概率分布，因此由 $ u_0 \\sim {N}(\\hat u_0, \\sigma_{u,0}) $ 描述。\n",
    "\n",
    "劳动者”类型”中的 $ h_t $ 部分随时间变化，但努力程度部分 $ u_t = u_0 $ 保持不变。\n",
    "\n",
    "这意味着从公司的角度来看，劳动者的努力程度实际上是一个未知的固定”参数”。\n",
    "\n",
    "在任意时间点 $ t\\geq 1 $，公司能观察到该劳动者从雇佣开始到当前时刻的所有历史产出记录，记为 $ y^{t-1} = [y_{t-1}, y_{t-2}, \\ldots, y_0] $。\n",
    "\n",
    "虽然公司无法直接观察劳动者的真实”类型”（即初始人力资本 $ h_0 $ 和固有努力水平 $ u_0 $），但可以通过观察劳动者当前的产出 $ y_t $ 以及回顾其历史产出记录 $ y^{t-1} $ 来进行推断。"
   ]
  },
  {
   "cell_type": "markdown",
   "id": "227ae112",
   "metadata": {},
   "source": [
    "## 公司的工资设定政策\n",
    "\n",
    "公司根据掌握的劳动者信息来确定工资。具体来说：\n",
    "\n",
    "对于 $ t \\geq 1 $ 时期，公司基于截至 $ t-1 $ 时期的产出历史 $ y^{t-1} $ 来预测劳动者当前的人力资本水平 $ h_t $。劳动者的对数工资设定为：\n",
    "\n",
    "$$\n",
    "w_t = g  E [ h_t | y^{t-1} ], \\quad t \\geq 1\n",
    "$$\n",
    "\n",
    "而在初始时期 $ t=0 $，由于还没有任何历史信息，公司只能基于先验均值来设定工资：\n",
    "\n",
    "$$\n",
    "w_0 = g \\hat h_0\n",
    "$$\n",
    "\n",
    "这种工资设定方式考虑到了一个事实:劳动者的实际产出中包含一个纯随机的成分 $ v_t $。这个随机成分与劳动者的人力资本 $ h_t $ 和努力水平 $ u_t $ 都是相互独立的。"
   ]
  },
  {
   "cell_type": "markdown",
   "id": "94a0539f",
   "metadata": {},
   "source": [
    "## 状态空间表示\n",
    "\n",
    "将系统 [(41.1)](#equation-worker-model) 写成状态空间形式：\n",
    "\n",
    "$$\n",
    "\\begin{aligned}\n",
    "\\begin{bmatrix} h_{t+1} \\cr u_{t+1} \\end{bmatrix} &= \\begin{bmatrix} \\alpha & \\beta \\cr 0 & 1 \\end{bmatrix}\\begin{bmatrix} h_{t} \\cr u_{t} \\end{bmatrix} + \\begin{bmatrix} c \\cr 0 \\end{bmatrix} w_{t+1} \\cr\n",
    "y_t & = \\begin{bmatrix} g & 0 \\end{bmatrix} \\begin{bmatrix} h_{t} \\cr u_{t} \\end{bmatrix} + v_t\n",
    "\\end{aligned}\n",
    "$$\n",
    "\n",
    "这等价于：\n",
    "\n",
    "\n",
    "<a id='equation-ssrepresent'></a>\n",
    "$$\n",
    "\\begin{aligned} \n",
    "x_{t+1} & = A x_t + C w_{t+1} \\cr\n",
    "y_t & = G x_t + v_t \\cr\n",
    "x_0 & \\sim {N}(\\hat x_0, \\Sigma_0) \n",
    "\\end{aligned} \\tag{41.2}\n",
    "$$\n",
    "\n",
    "其中：\n",
    "\n",
    "$$\n",
    "x_t  = \\begin{bmatrix} h_{t} \\cr u_{t} \\end{bmatrix} , \\quad\n",
    "\\hat x_0  = \\begin{bmatrix} \\hat h_0 \\cr \\hat u_0 \\end{bmatrix} , \\quad\n",
    "\\Sigma_0  = \\begin{bmatrix} \\sigma_{h,0} & 0 \\cr\n",
    "                     0 & \\sigma_{u,0} \\end{bmatrix}\n",
    "$$\n",
    "\n",
    "为了计算公司的工资设定政策，我们首先创建一个 `namedtuple` 来存储模型的参数："
   ]
  },
  {
   "cell_type": "code",
   "execution_count": null,
   "id": "53b3163a",
   "metadata": {
    "hide-output": false
   },
   "outputs": [],
   "source": [
    "WorkerModel = namedtuple(\"WorkerModel\", \n",
    "                ('A', 'C', 'G', 'R', 'xhat_0', 'Σ_0'))\n",
    "\n",
    "def create_worker(α=.8, β=.2, c=.2,\n",
    "                  R=.5, g=1.0, hhat_0=4, uhat_0=4, \n",
    "                  σ_h=4, σ_u=4):\n",
    "    \n",
    "    A = np.array([[α, β], \n",
    "                  [0, 1]])\n",
    "    C = np.array([[c], \n",
    "                  [0]])\n",
    "    G = np.array([g, 1])\n",
    "\n",
    "    # 定义初始状态和协方差矩阵\n",
    "    xhat_0 = np.array([[hhat_0], \n",
    "                       [uhat_0]])\n",
    "    \n",
    "    Σ_0 = np.array([[σ_h, 0],\n",
    "                    [0, σ_u]])\n",
    "    \n",
    "    return WorkerModel(A=A, C=C, G=G, R=R, xhat_0=xhat_0, Σ_0=Σ_0)"
   ]
  },
  {
   "cell_type": "markdown",
   "id": "e2d3a142",
   "metadata": {},
   "source": [
    "`WorkerModel` namedtuple 为我们创建了所有需要的对象，以便构建状态空间表示 [(41.2)](#equation-ssrepresent)。\n",
    "\n",
    "这使得我们能够方便地使用 [`LinearStateSpace`](https://quanteconpy.readthedocs.io/en/latest/tools/lss.html) 类来模拟劳动者的历史 $ \\{y_t, h_t\\} $。"
   ]
  },
  {
   "cell_type": "code",
   "execution_count": null,
   "id": "c0c4d9d4",
   "metadata": {
    "hide-output": false
   },
   "outputs": [],
   "source": [
    "# 定义 A, C, G, R, xhat_0, Σ_0\n",
    "worker = create_worker()\n",
    "A, C, G, R = worker.A, worker.C, worker.G, worker.R\n",
    "xhat_0, Σ_0 = worker.xhat_0, worker.Σ_0\n",
    "\n",
    "# 创建 LinearStateSpace 对象\n",
    "ss = LinearStateSpace(A, C, G, np.sqrt(R), \n",
    "        mu_0=xhat_0, Sigma_0=np.zeros((2,2)))\n",
    "\n",
    "T = 100\n",
    "x, y = ss.simulate(T)\n",
    "y = y.flatten()\n",
    "\n",
    "h_0, u_0 = x[0, 0], x[1, 0]"
   ]
  },
  {
   "cell_type": "markdown",
   "id": "bf6fef20",
   "metadata": {},
   "source": [
    "接下来，为了计算公司基于其获得的关于劳动者的信息来设定对数工资的政策，我们使用本量化经济学讲座 [卡尔曼滤波器的初步介绍](https://python.quantecon.org/kalman.html) 中描述的卡尔曼滤波器。\n",
    "\n",
    "特别是，我们想要计算”创新表示”中的所有对象。"
   ]
  },
  {
   "cell_type": "markdown",
   "id": "98e3368d",
   "metadata": {},
   "source": [
    "## 创新表示\n",
    "\n",
    "我们已经掌握了形成劳动者产出过程 $ \\{y_t\\}_{t=0}^T $ 的创新表示所需的所有对象。\n",
    "\n",
    "让我们现在编写代码：\n",
    "\n",
    "$$\n",
    "\\begin{aligned}\n",
    "\\hat x_{t+1} & = A \\hat x_t + K_t a_t \\cr\n",
    "y_{t} & = G \\hat x_t + a_t\n",
    "\\end{aligned}\n",
    "$$\n",
    "\n",
    "其中 $ K_t $ 是时间 $ t $ 的卡尔曼增益矩阵。\n",
    "\n",
    "我们使用 [`Kalman`](https://quanteconpy.readthedocs.io/en/latest/tools/kalman.html) 类来完成这个任务："
   ]
  },
  {
   "cell_type": "code",
   "execution_count": null,
   "id": "cacc2680",
   "metadata": {
    "hide-output": false
   },
   "outputs": [],
   "source": [
    "kalman = Kalman(ss, xhat_0, Σ_0)\n",
    "Σ_t = np.zeros((*Σ_0.shape, T-1))\n",
    "y_hat_t = np.zeros(T-1)\n",
    "x_hat_t = np.zeros((2, T-1))\n",
    "\n",
    "for t in range(1, T):\n",
    "    kalman.update(y[t])\n",
    "    x_hat, Σ = kalman.x_hat, kalman.Sigma\n",
    "    Σ_t[:, :, t-1] = Σ\n",
    "    x_hat_t[:, t-1] = x_hat.reshape(-1)\n",
    "    [y_hat_t[t-1]] = worker.G @ x_hat\n",
    "\n",
    "x_hat_t = np.concatenate((x[:, 1][:, np.newaxis], \n",
    "                    x_hat_t), axis=1)\n",
    "Σ_t = np.concatenate((worker.Σ_0[:, :, np.newaxis], \n",
    "                    Σ_t), axis=2)\n",
    "u_hat_t = x_hat_t[1, :]"
   ]
  },
  {
   "cell_type": "markdown",
   "id": "40afb1aa",
   "metadata": {},
   "source": [
    "对于 $ h_0, u_0 $ 的一个实现，我们绘制 $ E y_t = G \\hat x_t $，其中 $ \\hat x_t = E [x_t | y^{t-1}] $。\n",
    "\n",
    "我们还绘制 $ E [u_0 | y^{t-1}] $，这是公司基于其拥有的信息 $ y^{t-1} $ 对劳动者固有的”工作努力程度” $ u_0 $ 的推断。\n",
    "\n",
    "我们可以观察公司对劳动者工作努力程度的推断 $ E [u_0 | y^{t-1}] $ 如何逐渐收敛于隐藏的 $ u_0 $，而 $ u_0 $ 是公司无法直接观察到的。"
   ]
  },
  {
   "cell_type": "code",
   "execution_count": null,
   "id": "9d782157",
   "metadata": {
    "hide-output": false
   },
   "outputs": [],
   "source": [
    "fig, ax = plt.subplots(1, 2)\n",
    "\n",
    "ax[0].plot(y_hat_t, label=r'$E[y_t| y^{t-1}]$')\n",
    "ax[0].set_xlabel(cjk('时间'))\n",
    "ax[0].set_ylabel(r'$E[y_t]$')\n",
    "ax[0].set_title(cjk('$E[y_t]$ 随时间变化'))\n",
    "ax[0].legend()\n",
    "\n",
    "ax[1].plot(u_hat_t, label=r'$E[u_t|y^{t-1}]$')\n",
    "ax[1].axhline(y=u_0, color='grey', \n",
    "            linestyle='dashed', label=fr'$u_0={u_0:.2f}$')\n",
    "ax[1].set_xlabel(cjk('时间'))\n",
    "ax[1].set_ylabel(r'$E[u_t|y^{t-1}]$')\n",
    "ax[1].set_title(cjk('推断的工作伦理随时间变化'))\n",
    "ax[1].legend()\n",
    "\n",
    "fig.tight_layout()\n",
    "plt.show()"
   ]
  },
  {
   "cell_type": "markdown",
   "id": "a3d5f0a2",
   "metadata": {},
   "source": [
    "## 一些计算实验\n",
    "\n",
    "让我们看看 $ \\Sigma_0 $ 和 $ \\Sigma_T $，以表示公司在设定的时间范围内对隐藏状态了解多少。"
   ]
  },
  {
   "cell_type": "code",
   "execution_count": null,
   "id": "b98c07cf",
   "metadata": {
    "hide-output": false
   },
   "outputs": [],
   "source": [
    "print(Σ_t[:, :, 0])"
   ]
  },
  {
   "cell_type": "code",
   "execution_count": null,
   "id": "3ab08529",
   "metadata": {
    "hide-output": false
   },
   "outputs": [],
   "source": [
    "print(Σ_t[:, :, -1])"
   ]
  },
  {
   "cell_type": "markdown",
   "id": "50aa25bd",
   "metadata": {},
   "source": [
    "显然，条件协方差矩阵中的元素随时间变小。\n",
    "\n",
    "通过在不同时间 $ t $ 绘制 $ E [x_t |y^{t-1}] $ 周围的置信椭圆，我们可以形象地展示条件协方差矩阵 $ \\Sigma_t $ 如何演化。"
   ]
  },
  {
   "cell_type": "code",
   "execution_count": null,
   "id": "b24b7862",
   "metadata": {
    "hide-output": false
   },
   "outputs": [],
   "source": [
    "# 创建用于等高线绘制的点网格\n",
    "h_range = np.linspace(x_hat_t[0, :].min()-0.5*Σ_t[0, 0, 1], \n",
    "                      x_hat_t[0, :].max()+0.5*Σ_t[0, 0, 1], 100)\n",
    "u_range = np.linspace(x_hat_t[1, :].min()-0.5*Σ_t[1, 1, 1], \n",
    "                      x_hat_t[1, :].max()+0.5*Σ_t[1, 1, 1], 100)\n",
    "h, u = np.meshgrid(h_range, u_range)\n",
    "\n",
    "# 为每个时间步创建子图\n",
    "fig, axs = plt.subplots(1, 3, figsize=(12, 7))\n",
    "\n",
    "# 遍历每个时间步\n",
    "for i, t in enumerate(np.linspace(0, T-1, 3, dtype=int)):\n",
    "    # 创建具有时间步 t 的 x_hat 和 Σ 的多变量正态分布\n",
    "    mu = x_hat_t[:, t]\n",
    "    cov = Σ_t[:, :, t]\n",
    "    mvn = multivariate_normal(mean=mu, cov=cov)\n",
    "    \n",
    "    # 在网格上评估多变量正态 PDF\n",
    "    pdf_values = mvn.pdf(np.dstack((h, u)))\n",
    "    \n",
    "    # 创建 PDF 的等高线图\n",
    "    con = axs[i].contour(h, u, pdf_values, cmap='viridis')\n",
    "    axs[i].clabel(con, inline=1, fontsize=10)\n",
    "    axs[i].set_title(cjk('时间步')+f'{t+1}')\n",
    "    axs[i].set_xlabel(r'$h_{{{}}}$'.format(str(t+1)))\n",
    "    axs[i].set_ylabel(r'$u_{{{}}}$'.format(str(t+1)))\n",
    "    \n",
    "    cov_latex = r'$\\Sigma_{{{}}}= \\begin{{bmatrix}} {:.2f} & {:.2f} \\\\ {:.2f} & {:.2f} \\end{{bmatrix}}$'.format(\n",
    "        t+1, cov[0, 0], cov[0, 1], cov[1, 0], cov[1, 1]\n",
    "    )\n",
    "    axs[i].text(0.33, -0.15, cov_latex, transform=axs[i].transAxes)\n",
    "\n",
    "    \n",
    "plt.tight_layout()\n",
    "plt.show()"
   ]
  },
  {
   "cell_type": "markdown",
   "id": "e0768cfa",
   "metadata": {},
   "source": [
    "注意 $ y^t $ 的积累是如何随着样本量 $ t $ 的增长影响置信椭圆的形状。\n",
    "\n",
    "现在让我们使用我们的代码将隐藏状态 $ x_0 $ 设置为特定的向量，以观察公司如何从我们感兴趣的某个 $ x_0 $ 开始学习。\n",
    "\n",
    "例如，让我们设 $ h_0 = 0 $ 和 $ u_0 = 4 $。\n",
    "\n",
    "这是实现这个例子的一种方式："
   ]
  },
  {
   "cell_type": "code",
   "execution_count": null,
   "id": "3ed36ed4",
   "metadata": {
    "hide-output": false
   },
   "outputs": [],
   "source": [
    "# 例如，我们可能想要 h_0 = 0 和 u_0 = 4\n",
    "mu_0 = np.array([0.0, 4.0])\n",
    "\n",
    "# 创建一个 LinearStateSpace 对象，其中 Sigma_0 为零矩阵\n",
    "ss_example = LinearStateSpace(A, C, G, np.sqrt(R), mu_0=mu_0, \n",
    "                              # 这行强制 h_0=0 和 u_0=4\n",
    "                              Sigma_0=np.zeros((2, 2))\n",
    "                             )\n",
    "\n",
    "T = 100\n",
    "x, y = ss_example.simulate(T)\n",
    "y = y.flatten()\n",
    "\n",
    "# 现在 h_0=0 和 u_0=4\n",
    "h_0, u_0 = x[0, 0], x[1, 0]\n",
    "print('h_0 =', h_0)\n",
    "print('u_0 =', u_0)"
   ]
  },
  {
   "cell_type": "markdown",
   "id": "6f895c0d",
   "metadata": {},
   "source": [
    "实现相同例子的另一种方式是使用以下代码："
   ]
  },
  {
   "cell_type": "code",
   "execution_count": null,
   "id": "f956e4b4",
   "metadata": {
    "hide-output": false
   },
   "outputs": [],
   "source": [
    "# 如果我们想要设置初始 \n",
    "# h_0 = hhat_0 = 0 和 u_0 = uhhat_0 = 4.0:\n",
    "worker = create_worker(hhat_0=0.0, uhat_0=4.0)\n",
    "\n",
    "ss_example = LinearStateSpace(A, C, G, np.sqrt(R), \n",
    "                              # 这行取 h_0=hhat_0 和 u_0=uhhat_0\n",
    "                              mu_0=worker.xhat_0,\n",
    "                              # 这行强制 h_0=hhat_0 和 u_0=uhhat_0\n",
    "                              Sigma_0=np.zeros((2, 2))\n",
    "                             )\n",
    "\n",
    "T = 100\n",
    "x, y = ss_example.simulate(T)\n",
    "y = y.flatten()\n",
    "\n",
    "# 现在 h_0 和 u_0 将精确等于 hhat_0\n",
    "h_0, u_0 = x[0, 0], x[1, 0]\n",
    "print('h_0 =', h_0)\n",
    "print('u_0 =', u_0)"
   ]
  },
  {
   "cell_type": "markdown",
   "id": "65ab6862",
   "metadata": {},
   "source": [
    "对于这个劳动者，让我们生成一个类似上面的图："
   ]
  },
  {
   "cell_type": "code",
   "execution_count": null,
   "id": "aeb42ae9",
   "metadata": {
    "hide-output": false
   },
   "outputs": [],
   "source": [
    "# 首先我们使用初始 xhat_0 和 Σ_0 计算卡尔曼滤波器\n",
    "kalman = Kalman(ss, xhat_0, Σ_0)\n",
    "Σ_t = []\n",
    "y_hat_t = np.zeros(T-1)\n",
    "u_hat_t = np.zeros(T-1)\n",
    "\n",
    "# 然后我们使用基于上述线性状态模型的观测值 y \n",
    "# 迭代更新卡尔曼滤波器类：\n",
    "for t in range(1, T):\n",
    "    kalman.update(y[t])\n",
    "    x_hat, Σ = kalman.x_hat, kalman.Sigma\n",
    "    Σ_t.append(Σ)\n",
    "    [y_hat_t[t-1]] = worker.G @ x_hat\n",
    "    [u_hat_t[t-1]] = x_hat[1]\n",
    "\n",
    "\n",
    "# 生成 y_hat_t 和 u_hat_t 的图\n",
    "fig, ax = plt.subplots(1, 2)\n",
    "\n",
    "ax[0].plot(y_hat_t, label=r'$E[y_t| y^{t-1}]$')\n",
    "ax[0].set_xlabel(cjk('时间'))\n",
    "ax[0].set_ylabel(r'$E[y_t]$')\n",
    "ax[0].set_title(cjk('$E[y_t]$ 随时间变化'))\n",
    "ax[0].legend()\n",
    "\n",
    "ax[1].plot(u_hat_t, label=r'$E[u_t|y^{t-1}]$')\n",
    "ax[1].axhline(y=u_0, color='grey', \n",
    "            linestyle='dashed', label=fr'$u_0={u_0:.2f}$')\n",
    "ax[1].set_xlabel(cjk('时间'))\n",
    "ax[1].set_ylabel(r'$E[u_t|y^{t-1}]$')\n",
    "ax[1].set_title(cjk('推断的工作伦理随时间变化'))\n",
    "ax[1].legend()\n",
    "\n",
    "fig.tight_layout()\n",
    "plt.show()"
   ]
  },
  {
   "cell_type": "markdown",
   "id": "e74a0e7c",
   "metadata": {},
   "source": [
    "更一般地，我们可以在 `create_worker` namedtuple 中更改定义劳动者的部分或全部参数。\n",
    "\n",
    "这是一个例子："
   ]
  },
  {
   "cell_type": "code",
   "execution_count": null,
   "id": "71b5dc5a",
   "metadata": {
    "hide-output": false
   },
   "outputs": [],
   "source": [
    "# 我们可以在创建劳动者时设置这些参数 -- 就像类一样！\n",
    "hard_working_worker =  create_worker(α=.4, β=.8, \n",
    "                        hhat_0=7.0, uhat_0=100, σ_h=2.5, σ_u=3.2)\n",
    "\n",
    "print(hard_working_worker)"
   ]
  },
  {
   "cell_type": "markdown",
   "id": "669609d7",
   "metadata": {},
   "source": [
    "让我们通过模拟不同劳动者在50个时期内的表现来进一步理解这个系统。\n",
    "\n",
    "有趣的是,我们会发现随着时间推移,公司对劳动者真实努力程度的估计会越来越准确 - 估计值和实际值之间的差异会逐渐趋近于零。\n",
    "\n",
    "这说明卡尔曼滤波器在帮助公司和劳动者之间建立信息沟通的桥梁,使公司对劳动者真实努力程度的估计越来越准确。"
   ]
  },
  {
   "cell_type": "code",
   "execution_count": null,
   "id": "35a5415f",
   "metadata": {
    "hide-output": false
   },
   "outputs": [],
   "source": [
    "def simulate_workers(worker, T, ax, mu_0=None, Sigma_0=None, \n",
    "                    diff=True, name=None, title=None):\n",
    "    A, C, G, R = worker.A, worker.C, worker.G, worker.R\n",
    "    xhat_0, Σ_0 = worker.xhat_0, worker.Σ_0\n",
    "    \n",
    "    if isinstance(mu_0, type(None)):\n",
    "        mu_0 = xhat_0\n",
    "    if isinstance(Sigma_0, type(None)):\n",
    "        Sigma_0 = worker.Σ_0\n",
    "        \n",
    "    ss = LinearStateSpace(A, C, G, np.sqrt(R), \n",
    "                        mu_0=mu_0, Sigma_0=Sigma_0)\n",
    "\n",
    "    x, y = ss.simulate(T)\n",
    "    y = y.flatten()\n",
    "\n",
    "    u_0 = x[1, 0]\n",
    "    \n",
    "    # 计算卡尔曼滤波器\n",
    "    kalman = Kalman(ss, xhat_0, Σ_0)\n",
    "    Σ_t = []\n",
    "    \n",
    "    y_hat_t = np.zeros(T)\n",
    "    u_hat_t = np.zeros(T)\n",
    "\n",
    "    for i in range(T):\n",
    "        kalman.update(y[i])\n",
    "        x_hat, Σ = kalman.x_hat, kalman.Sigma\n",
    "        Σ_t.append(Σ)\n",
    "        [y_hat_t[i]] = worker.G @ x_hat\n",
    "        [u_hat_t[i]] = x_hat[1]\n",
    "\n",
    "    if diff == True:\n",
    "        title = (cjk('推断的工作努力程度与真实工作努力程度的差异随时间变化') \n",
    "                 if title == None else title)\n",
    "        \n",
    "        ax.plot(u_hat_t - u_0, alpha=.5)\n",
    "        ax.axhline(y=0, color='grey', linestyle='dashed')\n",
    "        ax.set_xlabel(cjk('时间'))\n",
    "        ax.set_ylabel(r'$E[u_t|y^{t-1}] - u_0$')\n",
    "        ax.set_title(title)\n",
    "        \n",
    "    else:\n",
    "        label_line = (r'$E[u_t|y^{t-1}]$' if name == None \n",
    "                      else name)\n",
    "        title = (cjk('推断的工作努力程度随时间变化')\n",
    "                if title == None else title)\n",
    "        \n",
    "        u_hat_plot = ax.plot(u_hat_t, label=label_line)\n",
    "        ax.axhline(y=u_0, color=u_hat_plot[0].get_color(), \n",
    "                    linestyle='dashed', alpha=0.5)\n",
    "        ax.set_xlabel(cjk('时间'))\n",
    "        ax.set_ylabel(r'$E[u_t|y^{t-1}]$')\n",
    "        ax.set_title(title)"
   ]
  },
  {
   "cell_type": "code",
   "execution_count": null,
   "id": "6c70a0d6",
   "metadata": {
    "hide-output": false
   },
   "outputs": [],
   "source": [
    "num_workers = 3\n",
    "T = 50\n",
    "fig, ax = plt.subplots(figsize=(7, 7))\n",
    "\n",
    "for i in range(num_workers):\n",
    "    worker = create_worker(uhat_0=4+2*i)\n",
    "    simulate_workers(worker, T, ax)\n",
    "ax.set_ylim(ymin=-2, ymax=2)\n",
    "plt.show()"
   ]
  },
  {
   "cell_type": "code",
   "execution_count": null,
   "id": "bd738e46",
   "metadata": {
    "hide-output": false
   },
   "outputs": [],
   "source": [
    "# 我们还可以生成 u_t 的图：\n",
    "\n",
    "T = 50\n",
    "fig, ax = plt.subplots(figsize=(7, 7))\n",
    "\n",
    "uhat_0s = [2, -2, 1]\n",
    "αs = [0.2, 0.3, 0.5]\n",
    "βs = [0.1, 0.9, 0.3]\n",
    "\n",
    "for i, (uhat_0, α, β) in enumerate(zip(uhat_0s, αs, βs)):\n",
    "    worker = create_worker(uhat_0=uhat_0, α=α, β=β)\n",
    "    simulate_workers(worker, T, ax,\n",
    "                    # 通过设置 diff=False，它将给出 u_t\n",
    "                    diff=False, name=r'$u_{{{}, t}}$'.format(i))\n",
    "    \n",
    "ax.axhline(y=u_0, xmin=0, xmax=0, color='grey', \n",
    "           linestyle='dashed', label=r'$u_{i, 0}$')\n",
    "ax.legend(bbox_to_anchor=(1, 0.5))\n",
    "plt.show()"
   ]
  },
  {
   "cell_type": "code",
   "execution_count": null,
   "id": "a4fd7692",
   "metadata": {
    "hide-output": false
   },
   "outputs": [],
   "source": [
    "# 我们还可以为所有劳动者使用精确的 u_0=1 和 h_0=2\n",
    "\n",
    "T = 50\n",
    "fig, ax = plt.subplots(figsize=(7, 7))\n",
    "\n",
    "# 这两行设置所有劳动者的 u_0=1 和 h_0=2\n",
    "mu_0 = np.array([[1],\n",
    "                 [2]])\n",
    "Sigma_0 = np.zeros((2,2))\n",
    "\n",
    "uhat_0s = [2, -2, 1]\n",
    "αs = [0.2, 0.3, 0.5]\n",
    "βs = [0.1, 0.9, 0.3]\n",
    "\n",
    "for i, (uhat_0, α, β) in enumerate(zip(uhat_0s, αs, βs)):\n",
    "    worker = create_worker(uhat_0=uhat_0, α=α, β=β)\n",
    "    simulate_workers(worker, T, ax, mu_0=mu_0, Sigma_0=Sigma_0, \n",
    "                     diff=False, name=r'$u_{{{}, t}}$'.format(i))\n",
    "    \n",
    "# 这控制图的边界\n",
    "ax.set_ylim(ymin=-3, ymax=3)\n",
    "ax.axhline(y=u_0, xmin=0, xmax=0, color='grey', \n",
    "           linestyle='dashed', label=r'$u_{i, 0}$')\n",
    "ax.legend(bbox_to_anchor=(1, 0.5))\n",
    "plt.show()"
   ]
  },
  {
   "cell_type": "code",
   "execution_count": null,
   "id": "1f58bf86",
   "metadata": {
    "hide-output": false
   },
   "outputs": [],
   "source": [
    "# 我们可以只为其中一个劳动者生成图：\n",
    "\n",
    "T = 50\n",
    "fig, ax = plt.subplots(figsize=(7, 7))\n",
    "\n",
    "mu_0_1 = np.array([[1],\n",
    "                 [100]])\n",
    "mu_0_2 = np.array([[1],\n",
    "                 [30]])\n",
    "Sigma_0 = np.zeros((2,2))\n",
    "\n",
    "uhat_0s = 100\n",
    "αs = 0.5\n",
    "βs = 0.3\n",
    "\n",
    "worker = create_worker(uhat_0=uhat_0, α=α, β=β)\n",
    "simulate_workers(worker, T, ax, mu_0=mu_0_1, Sigma_0=Sigma_0, \n",
    "                 diff=False, name=cjk('勤奋的劳动者'))\n",
    "simulate_workers(worker, T, ax, mu_0=mu_0_2, Sigma_0=Sigma_0, \n",
    "                 diff=False, \n",
    "                 title=cjk('一个勤奋的劳动者和一个不太勤奋的劳动者'),\n",
    "                 name=cjk('普通劳动者'))\n",
    "ax.axhline(y=u_0, xmin=0, xmax=0, color='grey', \n",
    "           linestyle='dashed', label=r'$u_{i, 0}$')\n",
    "ax.legend(bbox_to_anchor=(1, 0.5))\n",
    "plt.show()"
   ]
  },
  {
   "cell_type": "markdown",
   "id": "82d036f6",
   "metadata": {},
   "source": [
    "## 未来扩展\n",
    "\n",
    "我们可以进行许多有趣的实验，比如创建不同类型的劳动者，让公司通过观察他们的产出历史来推断他们的隐藏特征（如能力和努力程度）。这种设置可以帮助我们理解信息不对称下的劳动力市场动态。"
   ]
  }
 ],
 "metadata": {
  "date": 1761257071.9572706,
  "filename": "kalman_2.md",
  "kernelspec": {
   "display_name": "Python",
   "language": "python3",
   "name": "python3"
  },
  "title": "卡尔曼滤波器进阶"
 },
 "nbformat": 4,
 "nbformat_minor": 5
}