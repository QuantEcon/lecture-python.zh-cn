{
 "cells": [
  {
   "cell_type": "markdown",
   "id": "4e2341a1",
   "metadata": {},
   "source": [
    "# 代际交叠模型中的转型\n",
    "\n",
    "除了 Anaconda 中的内容外，本讲座还需要以下库："
   ]
  },
  {
   "cell_type": "code",
   "execution_count": null,
   "id": "dd280f2c",
   "metadata": {
    "hide-output": false
   },
   "outputs": [],
   "source": [
    "!pip install --upgrade quantecon"
   ]
  },
  {
   "cell_type": "markdown",
   "id": "3cf939c9",
   "metadata": {},
   "source": [
    "## 引言\n",
    "\n",
    "本讲座介绍了由 Peter Diamond [[Diamond, 1965](https://python.quantecon.org/zreferences.html#id267)] 提出的由”两期寿命人群的代际交叠”组成的生命周期模型。\n",
    "\n",
    "我们将介绍Auerbach 和 Kotlikoff (1987) [[Auerbach and Kotlikoff, 1987](https://python.quantecon.org/zreferences.html#id268)]第二章中分析的版本。\n",
    "\n",
    "Auerbach 和 Kotlikoff (1987)使用他们的两期模型作为预备，用来分析他们书中主要讨论的“长期寿命人群的代际交叠模型”。\n",
    "\n",
    "他们的“两期寿命的代际交叠模型”是一个有用的起点,因为\n",
    "\n",
    "- 它阐述了在给定日期存活的不同世代个体之间的互动结构  \n",
    "- 它揭示了政府及相继世代所面临的各种力量与权衡取舍。  \n",
    "- 它为研究政府税收与补贴政策之间的相互关系，以及政府债务发行与偿还政策，提供了一个良好的实验框架。  \n",
    "- 一些涉及从一个稳态到另一个稳态转变的有趣实验可以手工计算  \n",
    "- 它为展示**射击法**提供了一个合适的框架，该方法用于求解同时具有初始条件与终端条件的非线性差分方程组。  \n",
    "\n",
    "\n",
    ">**Note**\n",
    ">\n",
    ">Auerbach 和 Kotlikoff 使用计算机代码来计算他们的长寿人群模型的转换路径。\n",
    "\n",
    "我们在 Auerbach 和 Kotlikoff 第二章模型的基础上作出扩展，用以研究跨世代资源再分配的一些制度安排。\n",
    "\n",
    "- 这些制度安排表现为一系列与年龄相关的定额税收与转移支付。  \n",
    "\n",
    "\n",
    "我们考察这些制度安排如何影响资本积累与政府债务。"
   ]
  },
  {
   "cell_type": "markdown",
   "id": "a59463d3",
   "metadata": {},
   "source": [
    "## 设定\n",
    "\n",
    "时间是离散的，用 $ t=0, 1, 2, \\ldots $ 表示。\n",
    "\n",
    "经济体永远存在，但其中的人不会。\n",
    "\n",
    "在每个时间点 $ t \\geq 0 $，都有一个代表性老年人和一个代表性年轻人存活。\n",
    "在时点 $ t $，一个代表性老年人与一个代表性年轻人共存,这个年轻人将在时点 $ t+1 $ 成为老年人。\n",
    "\n",
    "我们假设人口规模随时间保持不变。\n",
    "\n",
    "年轻人从事工作，进行储蓄和消费。\n",
    "\n",
    "老年人进行消费和储蓄，但不再劳动。\n",
    "\n",
    "政府永远存在,即在各期 $ t=0, 1, 2, \\ldots $ 都存在。\n",
    "\n",
    "每个时期 $ t \\geq 0 $，政府进行征税、支出、转移支付和借贷。\n",
    "\n",
    "在 $ t=0 $ 时刻，模型之外给定的初始条件为\n",
    "\n",
    "- $ K_0 $：由一个代表性的初始老年人在时点 $ t=0 $ 时带入的初始资本存量  \n",
    "- $ D_0 $：由一个代表性的老年人在时点 $ t=0 $ 持有并在 $ t=0 $ 到期的政府债务  \n",
    "\n",
    "\n",
    "$ K_0 $ 和 $ D_0 $ 都以时点 $ 0 $ 的商品单位计量。\n",
    "\n",
    "政府**政策**由五个序列 $ \\{G_t, D_t, \\tau_t, \\delta_{ot}, \\delta_{yt}\\}_{t=0}^\\infty $ 组成，其要素包括\n",
    "\n",
    "- $ \\tau_t $：在时点 $ t $ 对工资、资本收益和政府债券征收的统一税率  \n",
    "- $ D_t $：在时点 $ t $ 到期的一期政府债券的本金,按人均计算  \n",
    "- $ G_t $：政府在时点 $ t $ 的商品购买,按人均计算  \n",
    "- $ \\delta_{yt} $：在时点 $ t $ 对每个年轻人征收的一次性税  \n",
    "- $ \\delta_{ot} $：在时点 $ t $ 对每个老年人征收的一次性税  \n",
    "\n",
    "\n",
    "**配置**是一组序列 $ \\{C_{yt}, C_{ot}, K_{t+1}, L_t,  Y_t, G_t\\}_{t=0}^\\infty $，其组成部分包括\n",
    "\n",
    "- $ K_t $：人均实物资本  \n",
    "- $ L_t $：人均劳动  \n",
    "- $ Y_t $：人均产出  \n",
    "\n",
    "\n",
    "以及\n",
    "\n",
    "- $ C_{yt} $：在时点 $ t \\geq 0 $ 的代表性年轻人的消费  \n",
    "- $ C_{ot} $：在时点 $ t \\geq 0 $ 的代表性老年人的消费  \n",
    "- $ K_{t+1} - K_t \\equiv I_t $ – 在时点 $ t \\geq 0 $ 的实物资本投资  \n",
    "- $ G_t $：政府购买  \n",
    "\n",
    "\n",
    "国民收入与产品核算由以下一组等式构成\n",
    "\n",
    "- $ Y_t = C_{yt} + C_{ot} + (K_{t+1} - K_t) + G_t, \\quad t \\geq 0 $  \n",
    "\n",
    "\n",
    "**价格体系**是一对序列 $ \\{W_t, r_t\\}_{t=0}^\\infty $，其组成部分为生产要素的租赁价格\n",
    "\n",
    "- $ W_t $：在时点 $ t \\geq 0 $ 的劳动要素租金  \n",
    "- $ r_t $：在时点 $ t \\geq 0 $ 的资本要素租金  "
   ]
  },
  {
   "cell_type": "markdown",
   "id": "46737314",
   "metadata": {},
   "source": [
    "## 生产\n",
    "\n",
    "生产包含两种要素：实物资本 $ K_t $ 和劳动投入 $ L_t $。\n",
    "\n",
    "资本不会折旧。\n",
    "\n",
    "初始资本存量 $ K_0 $ 由一个代表性的初始老年人持有，并在时点 $ 0 $ 出租给企业。\n",
    "\n",
    "时点 $ t $ 的净投资率 $ I_t $ 为\n",
    "\n",
    "$$\n",
    "I_t = K_{t+1} - K_t\n",
    "$$\n",
    "\n",
    "时点 $ t $ 的资本存量由过去投资的累计形成：\n",
    "\n",
    "$$\n",
    "K_t = K_0 + \\sum_{s=0}^{t-1} I_s\n",
    "$$\n",
    "\n",
    "生产函数采用 Cobb–Douglas 形式，将实物资本 $ K_t $ 和劳动投入 $ L_t $ 转化为产出 $ Y_t $\n",
    "\n",
    "\n",
    "<a id='equation-eq-prodfn'></a>\n",
    "$$\n",
    "Y_t  = K_t^\\alpha L_t^{1-\\alpha}, \\quad \\alpha \\in (0,1) \\tag{54.1}\n",
    "$$"
   ]
  },
  {
   "cell_type": "markdown",
   "id": "64edefd2",
   "metadata": {},
   "source": [
    "## 政府\n",
    "\n",
    "在时点 $ t-1 $，政府发行一期无风险债务，承诺在时点 $ t $ 支付人均 $ D_t $ 单位的商品。\n",
    "\n",
    "时点 $ t $ 的年轻人购买将于时点 $ t+1 $ 到期的政府债券 $ D_{t+1} $。\n",
    "\n",
    "在时点 $ t $ 发行的政府债券，其税前净利率为 $ r_{t} $，利息支付在时点 $ t+1 $ 进行。\n",
    "\n",
    "政府在时点 $ t \\geq 0 $ 的预算约束为\n",
    "\n",
    "$$\n",
    "D_{t+1} - D_t = r_t D_t + G_t - T_t\n",
    "$$\n",
    "\n",
    "或等价地\n",
    "\n",
    "\n",
    "<a id='equation-eq-govbudgetsequence'></a>\n",
    "$$\n",
    "D_{t+1} = (1 + r_t)  D_t + G_t - T_t \\tag{54.2}\n",
    "$$\n",
    "\n",
    "其中，总税收净额（扣除转移支付）为 $ T_t $，满足\n",
    "\n",
    "$$\n",
    "T_t = \\tau_t W_t L_t + \\tau_t r_t (D_t + K_t) + \\delta_{yt} + \\delta_{ot}\n",
    "$$"
   ]
  },
  {
   "cell_type": "markdown",
   "id": "2928335c",
   "metadata": {},
   "source": [
    "## 要素市场中的活动\n",
    "\n",
    "**老年人：** 在每个时点 $ t \\geq 0 $，一个代表性老年人\n",
    "\n",
    "- 将 $ K_t $ 和 $ D_t $ 带入当期，  \n",
    "- 将资本出租给代表性企业，获得租金 $ r_{t} K_t $，  \n",
    "- 为其租金和利息收入缴税 $ \\tau_t r_t (K_t+ D_t) $，  \n",
    "- 向政府缴纳一次性税款 $ \\delta_{ot} $，  \n",
    "- 将 $ K_t $ 卖给年轻人。  \n",
    "\n",
    "\n",
    "**年轻人：** 在每个时点 $ t \\geq 0 $，一个代表性年轻人\n",
    "\n",
    "- 向代表性企业出售一单位劳动服务，获得工资 $ W_t $，  \n",
    "- 为其劳动收入缴税 $ \\tau_t W_t $,  \n",
    "- 向政府支付一次性税款 $ \\delta_{yt} $，  \n",
    "- 消费支出为 $ C_{yt} $，  \n",
    "- 获得非负资产 $ A_{t+1} $，其中包括实物资本 $ K_{t+1} $ 和在 $ t+1 $ 到期的一期政府债券 $ D_{t+1} $ 之和。  \n",
    "\n",
    "\n",
    ">**Note**\n",
    ">\n",
    ">如果一次性税款为负，意味着政府向个人支付补贴。"
   ]
  },
  {
   "cell_type": "markdown",
   "id": "fa7f38bf",
   "metadata": {},
   "source": [
    "## 代表性企业的问题\n",
    "\n",
    "代表性企业以竞争性工资率 $ W_t $ 从年轻人那里雇佣劳动服务，并以竞争性租金率 $ r_t $ 从老年人那里雇佣资本。\n",
    "\n",
    "资本的租金率 $ r_t $ 等于政府一期债券的利率。\n",
    "\n",
    "租金率的单位是：\n",
    "\n",
    "- 对于 $ W_t $，每单位劳动力在时点 $ t $ 的产出  \n",
    "- 对于 $ r_t $，每单位资本在时点 $ t $ 的产出  \n",
    "\n",
    "\n",
    "我们将时点 $ t $ 的产出作为*计价单位*，因此时点 $ t $ 的产出价格等于1。\n",
    "\n",
    "企业在时点 $ t $ 的利润为\n",
    "\n",
    "$$\n",
    "K_t^\\alpha L_t^{1-\\alpha} - r_t K_t - W_t L_t .\n",
    "$$\n",
    "\n",
    "为了实现利润最大化，企业让边际产量与要素的租赁率相等：\n",
    "\n",
    "\n",
    "<a id='equation-eq-firmfonc'></a>\n",
    "$$\n",
    "\\begin{aligned}\n",
    "W_t & = (1-\\alpha) K_t^\\alpha L_t^{-\\alpha} \\\\\n",
    "r_t & = \\alpha K_t^\\alpha L_t^{1-\\alpha}\n",
    "\\end{aligned} \\tag{54.3}\n",
    "$$\n",
    "\n",
    "产出可以被老年人或年轻人消费；可以卖给年轻人用于增加资本存量；也可以卖给政府，用于不为个体带来效用的用途（在模型中，即“被丢入海洋”）。\n",
    "\n",
    "因此，企业将产出出售给老年人、年轻人和政府。"
   ]
  },
  {
   "cell_type": "markdown",
   "id": "d296bdd9",
   "metadata": {},
   "source": [
    "## 个体问题"
   ]
  },
  {
   "cell_type": "markdown",
   "id": "c0947f17",
   "metadata": {},
   "source": [
    "### 初始老年人\n",
    "\n",
    "在时点 $ t=0 $,一个代表性的初始老年人拥有 $ (1 + r_0(1 - \\tau_0)) A_0 $ 的初始资产。\n",
    "\n",
    "他必须向政府支付一笔一次性税款（如果为正），或从政府获得补贴（如果为负） $ \\delta_{ot} $。\n",
    "\n",
    "老年人的预算约束为\n",
    "\n",
    "\n",
    "<a id='equation-eq-hbudgetold'></a>\n",
    "$$\n",
    "C_{o0} = (1 + r_0 (1 - \\tau_0)) A_0 - \\delta_{ot} . \\tag{54.4}\n",
    "$$\n",
    "\n",
    "初始老年人的效用函数为 $ C_{o0} $,因此其最优消费计划由方程 [(54.4)](#equation-eq-hbudgetold) 给出。"
   ]
  },
  {
   "cell_type": "markdown",
   "id": "66115673",
   "metadata": {},
   "source": [
    "### 年轻人\n",
    "\n",
    "在每个时点 $ t \\geq 0 $，代表性年轻人无弹性地提供一单位劳动，并获得税前劳动收入 $ W_t $。\n",
    "\n",
    "年轻人的税后与转移支付后的收入为 $ W_t (1 - \\tau_t) - \\delta_{yt} $。\n",
    "\n",
    "在每个时点 $ t \\geq 0 $，年轻人选择消费计划 $ C_{yt}, C_{o,t+1} $ 以最大化 Cobb–Douglas 效用函数\n",
    "\n",
    "\n",
    "<a id='equation-eq-utilfn'></a>\n",
    "$$\n",
    "U_t  = C_{yt}^\\beta C_{o,t+1}^{1-\\beta}, \\quad \\beta \\in (0,1) \\tag{54.5}\n",
    "$$\n",
    "\n",
    "其预算约束在 $ t $ 和 $ t+1 $ 时分别为:\n",
    "\n",
    "\n",
    "<a id='equation-eq-twobudgetc'></a>\n",
    "$$\n",
    "\\begin{aligned}\n",
    "C_{yt} + A_{t+1} & =  W_t (1 - \\tau_t) - \\delta_{yt} \\\\\n",
    "C_{o,t+1} & = (1+ r_{t+1} (1 - \\tau_{t+1}))A_{t+1} - \\delta_{ot}\n",
    "\\end{aligned} \\tag{54.6}\n",
    "$$\n",
    "\n",
    "将[(54.6)](#equation-eq-twobudgetc) 的第二个方程解得的储蓄 $ A_{t+1} $ 代入第一个方程，可得现值预算约束\n",
    "\n",
    "\n",
    "<a id='equation-eq-onebudgetc'></a>\n",
    "$$\n",
    "C_{yt} + \\frac{C_{o,t+1}}{1 + r_{t+1}(1 - \\tau_{t+1})} = W_t (1 - \\tau_t) - \\delta_{yt} - \\frac{\\delta_{ot}}{1 + r_{t+1}(1 - \\tau_{t+1})} \\tag{54.7}\n",
    "$$\n",
    "\n",
    "为了求解年轻人的最优问题，构建拉格朗日函数\n",
    "\n",
    "\n",
    "<a id='equation-eq-lagc'></a>\n",
    "$$\n",
    "\\begin{aligned}\n",
    "{\\mathcal L}  & = C_{yt}^\\beta C_{o,t+1}^{1-\\beta} \\\\ &  + \\lambda \\Bigl[ C_{yt} + \\frac{C_{o,t+1}}{1 + r_{t+1}(1 - \\tau_{t+1})} - W_t (1 - \\tau_t) + \\delta_{yt} + \\frac{\\delta_{ot}}{1 + r_{t+1}(1 - \\tau_{t+1})}\\Bigr],\n",
    "\\end{aligned} \\tag{54.8}\n",
    "$$\n",
    "\n",
    "其中 $ \\lambda $ 是跨期预算约束 [(54.7)](#equation-eq-onebudgetc) 的拉格朗日乘子。\n",
    "\n",
    "经过代数运算，由 [(54.7)](#equation-eq-onebudgetc) 和最大化 $ {\\mathcal L} $ 的一阶条件可得最优消费计划满足\n",
    "\n",
    "\n",
    "<a id='equation-eq-optconsplan'></a>\n",
    "$$\n",
    "\\begin{aligned}\n",
    "C_{yt} & = \\beta \\Bigl[ W_t (1 - \\tau_t) - \\delta_{yt} - \\frac{\\delta_{ot}}{1 + r_{t+1}(1 - \\tau_{t+1})}\\Bigr] \\\\\n",
    "\\frac{C_{o,t+1}}{1 + r_{t+1}(1-\\tau_{t+1})  } & = (1-\\beta)   \\Bigl[ W_t (1 - \\tau_t) - \\delta_{yt} - \\frac{\\delta_{ot}}{1 + r_{t+1}(1 - \\tau_{t+1})}\\Bigr] \n",
    "\\end{aligned} \\tag{54.9}\n",
    "$$\n",
    "\n",
    "最小化拉格朗日函数 [(54.8)](#equation-eq-lagc) 关于 $ \\lambda $ 的一阶条件可恢复预算约束 [(54.7)](#equation-eq-onebudgetc)，进而利用 [(54.9)](#equation-eq-optconsplan) 得到最优储蓄计划\n",
    "\n",
    "\n",
    "<a id='equation-eq-optsavingsplan'></a>\n",
    "$$\n",
    "A_{t+1} = (1-\\beta) [ (1- \\tau_t) W_t - \\delta_{yt}] + \\beta \\frac{\\delta_{ot}}{1 + r_{t+1}(1 - \\tau_{t+1})} \\tag{54.10}\n",
    "$$\n",
    "\n",
    "\n",
    "<a id='sec-equilibrium'></a>"
   ]
  },
  {
   "cell_type": "markdown",
   "id": "b35aaac8",
   "metadata": {},
   "source": [
    "## 均衡\n",
    "\n",
    "**定义：** 均衡是一个由资源配置、政府政策和价格体系所组成的三元组，满足以下性质：\n",
    "\n",
    "- 在给定价格体系与政府政策的条件下，该资源配置能解出：  \n",
    "  - $ t \\geq 0 $ 时代表性企业的问题  \n",
    "  - $ t \\geq 0 $时 的个体问题  \n",
    "- 在给定价格体系与资源配置的条件下，政府预算约束在所有 $ t \\geq 0 $ 时都得到满足。  "
   ]
  },
  {
   "cell_type": "markdown",
   "id": "e95c9724",
   "metadata": {},
   "source": [
    "## 后续步骤\n",
    "\n",
    "为分析均衡结果，我们将研究 Auerbach 和 Kotlikoff (1987) [[Auerbach and Kotlikoff, 1987](https://python.quantecon.org/zreferences.html#id268)] 第2章的一个特例。\n",
    "\n",
    "它可以手工求解，我们将在下一步展示这一点。\n",
    "\n",
    "在我们推导出封闭形式解之后，我们将假定自己事先并不知道解，并据此计算均衡路径。\n",
    "\n",
    "具体而言，我们首先会将均衡表述为一个不动点问题：该不动点映射将要素价格与税率序列映射至要素价格与税率序列。\n",
    "\n",
    "然后我们将通过迭代计算并收敛到该映射的不动点，从而得到均衡。"
   ]
  },
  {
   "cell_type": "markdown",
   "id": "33d00fc8",
   "metadata": {},
   "source": [
    "## 封闭形式解\n",
    "\n",
    "为了得到 Auerbach 和 Kotlikoff (1987) [[Auerbach and Kotlikoff, 1987](https://python.quantecon.org/zreferences.html#id268)] 第2章的特例，我们将 $ \\delta_{ot} $ 和 $ \\delta_{yt} $ 都设为零。\n",
    "\n",
    "作为 [(54.9)](#equation-eq-optconsplan) 的特例，代表性年轻人的消费–储蓄计划为：\n",
    "\n",
    "$$\n",
    "\\begin{aligned}\n",
    "C_{yt} & = \\beta (1 - \\tau_t) W_t \\\\\n",
    "A_{t+1} &= (1-\\beta) (1- \\tau_t) W_t\n",
    "\\end{aligned}\n",
    "$$\n",
    "\n",
    "使用 [(54.3)](#equation-eq-firmfonc) 和 $ A_t = K_t + D_t $，我们得到资本的封闭形式传导方程：\n",
    "\n",
    "\n",
    "<a id='equation-eq-klawclosed'></a>\n",
    "$$\n",
    "K_{t+1}=K_{t}^{\\alpha}\\left(1-\\tau_{t}\\right)\\left(1-\\alpha\\right)\\left(1-\\beta\\right) - D_{t}\\\\ \\tag{54.11}\n",
    "$$"
   ]
  },
  {
   "cell_type": "markdown",
   "id": "b578bb7e",
   "metadata": {},
   "source": [
    "### 稳态\n",
    "\n",
    "根据 [(54.11)](#equation-eq-klawclosed) 和政府预算约束 [(54.2)](#equation-eq-govbudgetsequence)，我们可以计算**时不变值**或**稳态值** $ \\hat K, \\hat D, \\hat T $：\n",
    "\n",
    "\n",
    "<a id='equation-eq-steadystates'></a>\n",
    "$$\n",
    "\\begin{aligned}\n",
    "\\hat{K} &=\\hat{K}\\left(1-\\hat{\\tau}\\right)\\left(1-\\alpha\\right)\\left(1-\\beta\\right) - \\hat{D} \\\\\n",
    "\\hat{D} &= (1 + \\hat{r})  \\hat{D} + \\hat{G} - \\hat{T} \\\\\n",
    "\\hat{T} &= \\hat{\\tau} \\hat{Y} + \\hat{\\tau} \\hat{r} \\hat{D} .\n",
    "\\end{aligned} \\tag{54.12}\n",
    "$$\n",
    "\n",
    "这意味着\n",
    "\n",
    "$$\n",
    "\\hat{K} = \\left[\\left(1-\\hat{\\tau}\\right)\\left(1-\\alpha\\right)\\left(1-\\beta\\right)\\right]^{\\frac{1}{1-\\alpha}},\n",
    "\\qquad\n",
    "\\hat{\\tau} = \\frac{\\hat{G} + \\hat{r} \\hat{D}}{\\hat{Y} + \\hat{r} \\hat{D}}.\n",
    "$$\n",
    "\n",
    "示例：考虑以下情况：\n",
    "\n",
    "1. 初始政府债务为零，即$ D_t=0 $，  \n",
    "1. 政府消费 $ G_t $ 等于产出 $ Y_t $ 的 $ 15\\% $  \n",
    "\n",
    "\n",
    "由稳态公式可得\n",
    "\n",
    "$$\n",
    "\\hat{D} = 0,\n",
    "\\qquad\n",
    "\\hat{G} = 0.15 \\hat{Y},\n",
    "\\qquad\n",
    "\\hat{\\tau} = 0.15.\n",
    "$$"
   ]
  },
  {
   "cell_type": "markdown",
   "id": "b2905160",
   "metadata": {},
   "source": [
    "### 实现"
   ]
  },
  {
   "cell_type": "code",
   "execution_count": null,
   "id": "ffc5d745",
   "metadata": {
    "hide-output": false
   },
   "outputs": [],
   "source": [
    "import numpy as np\n",
    "import matplotlib.pyplot as plt\n",
    "import matplotlib as mpl\n",
    "FONTPATH = \"fonts/SourceHanSerifSC-SemiBold.otf\"\n",
    "mpl.font_manager.fontManager.addfont(FONTPATH)\n",
    "plt.rcParams['font.family'] = ['Source Han Serif SC']\n",
    "\n",
    "from numba import jit\n",
    "from quantecon.optimize import brent_max"
   ]
  },
  {
   "cell_type": "markdown",
   "id": "e9a9fbc0",
   "metadata": {},
   "source": [
    "给定参数 $ \\alpha = 0.3 $ 和 $ \\beta = 0.5 $，计算 $ \\hat{K} $："
   ]
  },
  {
   "cell_type": "code",
   "execution_count": null,
   "id": "8bc22a7d",
   "metadata": {
    "hide-output": false
   },
   "outputs": [],
   "source": [
    "# 参数\n",
    "α = 0.3\n",
    "β = 0.5\n",
    "\n",
    "# τ 和 D 的稳态值\n",
    "τ_hat = 0.15\n",
    "D_hat = 0.\n",
    "\n",
    "# 解 K 的稳态值\n",
    "K_hat = ((1 - τ_hat) * (1 - α) * (1 - β)) ** (1 / (1 - α))\n",
    "K_hat"
   ]
  },
  {
   "cell_type": "markdown",
   "id": "a636ee48",
   "metadata": {},
   "source": [
    "知道 $ \\hat K $ 后,我们可以计算其他变量的稳态值。\n",
    "\n",
    "首先，定义一些 Python 辅助函数。"
   ]
  },
  {
   "cell_type": "code",
   "execution_count": null,
   "id": "784c5ccc",
   "metadata": {
    "hide-output": false
   },
   "outputs": [],
   "source": [
    "@jit\n",
    "def K_to_Y(K, α):\n",
    "\n",
    "    return K ** α\n",
    "\n",
    "@jit\n",
    "def K_to_r(K, α):\n",
    "\n",
    "    return α * K ** (α - 1)\n",
    "\n",
    "@jit\n",
    "def K_to_W(K, α):\n",
    "\n",
    "    return (1 - α) * K ** α\n",
    "\n",
    "@jit\n",
    "def K_to_C(K, D, τ, r, α, β):\n",
    "\n",
    "    # 当 δ=0 时老年人的最优消费\n",
    "    A = K + D\n",
    "    Co = A * (1 + r * (1 - τ))\n",
    "\n",
    "    # 当 δ=0 时年轻人的最优消费\n",
    "    W = K_to_W(K, α)\n",
    "    Cy = β * W * (1 - τ)\n",
    "\n",
    "    return Cy, Co"
   ]
  },
  {
   "cell_type": "markdown",
   "id": "6edf35bd",
   "metadata": {},
   "source": [
    "我们可以使用这些辅助函数来获得 $ \\hat{K} $ 和 $ \\hat{r} $ 对应的稳态值 $ \\hat{Y} $、$ \\hat{r} $ 和 $ \\hat{W} $。"
   ]
  },
  {
   "cell_type": "code",
   "execution_count": null,
   "id": "751f22d4",
   "metadata": {
    "hide-output": false
   },
   "outputs": [],
   "source": [
    "Y_hat, r_hat, W_hat = K_to_Y(K_hat, α), K_to_r(K_hat, α), K_to_W(K_hat, α)\n",
    "Y_hat, r_hat, W_hat"
   ]
  },
  {
   "cell_type": "markdown",
   "id": "902e2a83",
   "metadata": {},
   "source": [
    "由于政府债务的稳态值 $ \\hat{D} $ 为 $ 0 $，所有税收都用于支付政府支出"
   ]
  },
  {
   "cell_type": "code",
   "execution_count": null,
   "id": "239f32a4",
   "metadata": {
    "hide-output": false
   },
   "outputs": [],
   "source": [
    "G_hat = τ_hat * Y_hat\n",
    "G_hat"
   ]
  },
  {
   "cell_type": "markdown",
   "id": "01db4d6d",
   "metadata": {},
   "source": [
    "使用最优消费计划找到年轻人和老年人的消费稳态值"
   ]
  },
  {
   "cell_type": "code",
   "execution_count": null,
   "id": "928ee06c",
   "metadata": {
    "hide-output": false
   },
   "outputs": [],
   "source": [
    "Cy_hat, Co_hat = K_to_C(K_hat, D_hat, τ_hat, r_hat, α, β)\n",
    "Cy_hat, Co_hat"
   ]
  },
  {
   "cell_type": "markdown",
   "id": "85b0c5dd",
   "metadata": {},
   "source": [
    "使用一个名为 `init_ss` 的数组来存储稳态下的数量和价格"
   ]
  },
  {
   "cell_type": "code",
   "execution_count": null,
   "id": "6a5a595a",
   "metadata": {
    "hide-output": false
   },
   "outputs": [],
   "source": [
    "init_ss = np.array([K_hat, Y_hat, Cy_hat, Co_hat,     # 数量\n",
    "                    W_hat, r_hat,                     # 价格\n",
    "                    τ_hat, D_hat, G_hat               # 政策\n",
    "                    ])"
   ]
  },
  {
   "cell_type": "markdown",
   "id": "9a72224a",
   "metadata": {},
   "source": [
    "### 转型\n",
    "\n",
    "我们已经计算了一个稳态，在该稳态下，政府政策序列在时间上都是常数。\n",
    "\n",
    "我们将此稳态作为 $ t=0 $ 时另一个经济体的初始条件，在这个经济体中，政府政策序列随时间变化。\n",
    "\n",
    "为便于理解计算，我们将 $ t=0 $ 理解为发生巨大、未预期冲击的时点，其形式包括\n",
    "\n",
    "- 随时间变化的政府政策序列扰乱了原有的稳态；  \n",
    "- 新的政府政策序列最终在时间上收敛为常数，即在某一时点 $ T >0 $ 之后，每个序列在时间上保持不变；  \n",
    "- 一项新的政府政策在 $ t=0 $ 时以政策序列的形式突然公布。  \n",
    "\n",
    "\n",
    "我们假设在 $ t=0 $ 时，包括老年人在内的每个人都知道新的政府政策序列，并据此做出选择。\n",
    "\n",
    "随着资本存量和其他总量随时间对财政政策变化的调整，经济将接近一个新的稳态。\n",
    "\n",
    "通过在序列空间中采用不动点算法，我们可以求解从旧稳态到新稳态的转型路径。\n",
    "\n",
    "但在我们的特例中，由于存在封闭形式解，可采用一种更简单且更快速的方法。\n",
    "\n",
    "为此，我们定义了一个 Python 类 `ClosedFormTrans`，其功能是在给定财政政策冲击下，计算长度为 $ T $ 的转型路径。\n",
    "\n",
    "我们选择足够大的 $ T $，以确保在经过 $ T $ 期后，经济已经非常接近新的稳态。\n",
    "\n",
    "该类包含三个关键参数：`τ_pol`、`D_pol` 和 `G_pol`，分别是税率、政府债务水平和政府购买的序列。\n",
    "\n",
    "在下面的每个政策实验中，我们将把三者中的两个作为输入，从而刻画一项财政政策。\n",
    "\n",
    "接着，我们利用政府预算约束，计算唯一剩余的内生变量。\n",
    "\n",
    "在模拟转型路径时，有必要区分**状态变量**（如 $ K_t,Y_t,D_t,W_t,r_t $）和**控制变量**（如 $ C_{yt},C_{ot},\\tau_{t},G_t $）。"
   ]
  },
  {
   "cell_type": "code",
   "execution_count": null,
   "id": "ae768049",
   "metadata": {
    "hide-output": false
   },
   "outputs": [],
   "source": [
    "class ClosedFormTrans:\n",
    "    \"\"\"\n",
    "    本类用于模拟一个经济体在财政政策变化下的长度为 T 的转型路径，\n",
    "    前提是给定其初始稳态。模拟基于在没有一次性税收情况下的封闭形式解。\n",
    "\n",
    "    \"\"\"\n",
    "\n",
    "    def __init__(self, α, β):\n",
    "\n",
    "        self.α, self.β = α, β\n",
    "\n",
    "    def simulate(self,\n",
    "                T,           # 要模拟的转型路径长度\n",
    "                init_ss,     # 初始稳态\n",
    "                τ_pol=None,  # 税率序列\n",
    "                D_pol=None,  # 政府债务水平序列\n",
    "                G_pol=None): # 政府购买序列\n",
    "\n",
    "        α, β = self.α, self.β\n",
    "\n",
    "        # 解包稳态变量\n",
    "        K_hat, Y_hat, Cy_hat, Co_hat = init_ss[:4]\n",
    "        W_hat, r_hat = init_ss[4:6]\n",
    "        τ_hat, D_hat, G_hat = init_ss[6:9]\n",
    "\n",
    "        # 初始化数组容器\n",
    "        # K, Y, Cy, Co\n",
    "        quant_seq = np.empty((T+1, 4))\n",
    "\n",
    "        # W, r\n",
    "        price_seq = np.empty((T+1, 2))\n",
    "\n",
    "        # τ, D, G\n",
    "        policy_seq = np.empty((T+2, 3))\n",
    "\n",
    "        # t=0，从稳态开始\n",
    "        K0, Y0 = K_hat, Y_hat\n",
    "        W0, r0 = W_hat, r_hat\n",
    "        D0 = D_hat\n",
    "\n",
    "        # 财政政策\n",
    "        if τ_pol is None:\n",
    "            D1 = D_pol[1]\n",
    "            G0 = G_pol[0]\n",
    "            τ0 = (G0 + (1 + r0) * D0 - D1) / (Y0 + r0 * D0)\n",
    "        elif D_pol is None:\n",
    "            τ0 = τ_pol[0]\n",
    "            G0 = G_pol[0]\n",
    "            D1 = (1 + r0) * D0 + G0 - τ0 * (Y0 + r0 * D0)\n",
    "        elif G_pol is None:\n",
    "            D1 = D_pol[1]\n",
    "            τ0 = τ_pol[0]\n",
    "            G0 = τ0 * (Y0 + r0 * D0) + D1 - (1 + r0) * D0\n",
    "\n",
    "        # 最优消费计划\n",
    "        Cy0, Co0 = K_to_C(K0, D0, τ0, r0, α, β)\n",
    "\n",
    "        # t=0 时的经济状态\n",
    "        quant_seq[0, :] = K0, Y0, Cy0, Co0\n",
    "        price_seq[0, :] = W0, r0\n",
    "        policy_seq[0, :] = τ0, D0, G0\n",
    "        policy_seq[1, 1] = D1\n",
    "\n",
    "        # 从 t=1 到 T\n",
    "        for t in range(1, T+1):\n",
    "\n",
    "            # K 的传导\n",
    "            K_old, τ_old = quant_seq[t-1, 0], policy_seq[t-1, 0]\n",
    "            D = policy_seq[t, 1]\n",
    "            K = K_old ** α * (1 - τ_old) * (1 - α) * (1 - β) - D\n",
    "\n",
    "            # 产出、资本回报率、工资\n",
    "            Y, r, W = K_to_Y(K, α), K_to_r(K, α), K_to_W(K, α)\n",
    "\n",
    "            # 为满足政府预算约束\n",
    "            if τ_pol is None:\n",
    "                D = D_pol[t]\n",
    "                D_next = D_pol[t+1]\n",
    "                G = G_pol[t]\n",
    "                τ = (G + (1 + r) * D - D_next) / (Y + r * D)\n",
    "            elif D_pol is None:\n",
    "                τ = τ_pol[t]\n",
    "                G = G_pol[t]\n",
    "                D = policy_seq[t, 1]\n",
    "                D_next = (1 + r) * D + G - τ * (Y + r * D)\n",
    "            elif G_pol is None:\n",
    "                D = D_pol[t]\n",
    "                D_next = D_pol[t+1]\n",
    "                τ = τ_pol[t]\n",
    "                G = τ * (Y + r * D) + D_next - (1 + r) * D\n",
    "\n",
    "            # 最优消费计划\n",
    "            Cy, Co = K_to_C(K, D, τ, r, α, β)\n",
    "\n",
    "            # 存储 t 时点的经济总量\n",
    "            quant_seq[t, :] = K, Y, Cy, Co\n",
    "            price_seq[t, :] = W, r\n",
    "            policy_seq[t, 0] = τ\n",
    "            policy_seq[t+1, 1] = D_next\n",
    "            policy_seq[t, 2] = G\n",
    "\n",
    "        self.quant_seq = quant_seq\n",
    "        self.price_seq = price_seq\n",
    "        self.policy_seq = policy_seq\n",
    "\n",
    "        return quant_seq, price_seq, policy_seq\n",
    "\n",
    "    def plot(self):\n",
    "\n",
    "        quant_seq = self.quant_seq\n",
    "        price_seq = self.price_seq\n",
    "        policy_seq = self.policy_seq\n",
    "\n",
    "        fig, axs = plt.subplots(3, 3, figsize=(14, 10))\n",
    "\n",
    "        # 数量变量\n",
    "        for i, name in enumerate(['K', 'Y', 'Cy', 'Co']):\n",
    "            ax = axs[i//3, i%3]\n",
    "            ax.plot(range(T+1), quant_seq[:T+1, i], label=name)\n",
    "            ax.hlines(init_ss[i], 0, T+1, color='r', linestyle='--')\n",
    "            ax.legend()\n",
    "            ax.set_xlabel('t')\n",
    "\n",
    "        # 价格变量\n",
    "        for i, name in enumerate(['W', 'r']):\n",
    "            ax = axs[(i+4)//3, (i+4)%3]\n",
    "            ax.plot(range(T+1), price_seq[:T+1, i], label=name)\n",
    "            ax.hlines(init_ss[i+4], 0, T+1, color='r', linestyle='--')\n",
    "            ax.legend()\n",
    "            ax.set_xlabel('t')\n",
    "\n",
    "        # 政策变量\n",
    "        for i, name in enumerate(['τ', 'D', 'G']):\n",
    "            ax = axs[(i+6)//3, (i+6)%3]\n",
    "            ax.plot(range(T+1), policy_seq[:T+1, i], label=name)\n",
    "            ax.hlines(init_ss[i+6], 0, T+1, color='r', linestyle='--')\n",
    "            ax.legend()\n",
    "            ax.set_xlabel('t')"
   ]
  },
  {
   "cell_type": "markdown",
   "id": "4a25c16e",
   "metadata": {},
   "source": [
    "我们可以为模型参数 $ \\{\\alpha, \\beta\\} $ 创建一个实例 `closed`，并将其用于各种财政政策实验。"
   ]
  },
  {
   "cell_type": "code",
   "execution_count": null,
   "id": "9aba9549",
   "metadata": {
    "hide-output": false
   },
   "outputs": [],
   "source": [
    "closed = ClosedFormTrans(α, β)"
   ]
  },
  {
   "cell_type": "markdown",
   "id": "fdb0c16c",
   "metadata": {},
   "source": [
    "\n",
    "<a id='exp-tax-cut'></a>"
   ]
  },
  {
   "cell_type": "markdown",
   "id": "61064de0",
   "metadata": {},
   "source": [
    "### 实验1：减税\n",
    "\n",
    "为了展示`ClosedFormTrans`的强大功能，我们首先考虑以下财政政策变动:\n",
    "\n",
    "1. 在 $ t=0 $ 时，政府意外宣布一次性减税，$ \\tau_0 =(1-\\frac{1}{3}) \\hat{\\tau} $，通过发行政府债务 $ \\bar{D} $ 来融资；  \n",
    "1. 从 $ t=1 $ 开始，政府将维持 $ D_t=\\bar{D} $，并调整 $ \\tau_{t} $ 以征税，用于支付政府消费和债务利息；  \n",
    "1. 政府消费固定为 $ G_t = 0.15 \\hat{Y} $。  \n",
    "\n",
    "\n",
    "以下方程完全刻画了从初始稳态出发的均衡转型路径\n",
    "\n",
    "$$\n",
    "\\begin{aligned}\n",
    "K_{t+1} &= K_{t}^{\\alpha}\\left(1-\\tau_{t}\\right)\\left(1-\\alpha\\right)\\left(1-\\beta\\right) - \\bar{D}， \\\\\n",
    "\\tau_{0} &= (1-\\frac{1}{3}) \\hat{\\tau}， \\\\\n",
    "\\bar{D} &= \\hat{G} - \\tau_0\\hat{Y}， \\\\\n",
    "\\quad\\tau_{t} & =\\frac{\\hat{G}+r_{t} \\bar{D}}{\\hat{Y}+r_{t} \\bar{D}}。\n",
    "\\end{aligned}\n",
    "$$\n",
    "\n",
    "我我们可以模拟 20 期的转型过程，之后经济将非常接近新的稳态。\n",
    "\n",
    "第一步是准备一组刻画财政政策的政策变量序列。\n",
    "\n",
    "我们必须事先给定政府支出序列 $ \\{G_t\\}_{t=0}^{T} $ 和债务水平 $ \\{D_t\\}_{t=0}^{T+1} $，然后将它们输入到求解器中。"
   ]
  },
  {
   "cell_type": "code",
   "execution_count": null,
   "id": "c074eba4",
   "metadata": {
    "hide-output": false
   },
   "outputs": [],
   "source": [
    "T = 20\n",
    "\n",
    "# 减税\n",
    "τ0 = τ_hat * (1 - 1/3)\n",
    "\n",
    "# 政府购买序列\n",
    "G_seq = τ_hat * Y_hat * np.ones(T+1)\n",
    "\n",
    "# 政府债务序列\n",
    "D_bar = G_hat - τ0 * Y_hat\n",
    "D_seq = np.ones(T+2) * D_bar\n",
    "D_seq[0] = D_hat"
   ]
  },
  {
   "cell_type": "markdown",
   "id": "c28d0375",
   "metadata": {},
   "source": [
    "让我们使用 `closed` 的 `simulate` 方法来计算动态转换。\n",
    "\n",
    "请注意，我们将 `τ_pol` 保留为 `None`，因为需要确定税率以满足政府预算约束。"
   ]
  },
  {
   "cell_type": "code",
   "execution_count": null,
   "id": "d8fe2b9b",
   "metadata": {
    "hide-output": false
   },
   "outputs": [],
   "source": [
    "quant_seq1, price_seq1, policy_seq1 = closed.simulate(T, init_ss,\n",
    "                                                      D_pol=D_seq,\n",
    "                                                      G_pol=G_seq)\n",
    "closed.plot()"
   ]
  },
  {
   "cell_type": "markdown",
   "id": "23378664",
   "metadata": {},
   "source": [
    "我们也可以尝试更低的减税率，例如 $ 0.2 $。"
   ]
  },
  {
   "cell_type": "code",
   "execution_count": null,
   "id": "d1370a91",
   "metadata": {
    "hide-output": false
   },
   "outputs": [],
   "source": [
    "# 更低的减税率\n",
    "τ0 = 0.15 * (1 - 0.2)\n",
    "\n",
    "# 相应的债务序列\n",
    "D_bar = G_hat - τ0 * Y_hat\n",
    "D_seq = np.ones(T+2) * D_bar\n",
    "D_seq[0] = D_hat\n",
    "\n",
    "quant_seq2, price_seq2, policy_seq2 = closed.simulate(T, init_ss,\n",
    "                                                      D_pol=D_seq,\n",
    "                                                      G_pol=G_seq)"
   ]
  },
  {
   "cell_type": "code",
   "execution_count": null,
   "id": "7d1df8cd",
   "metadata": {
    "hide-output": false
   },
   "outputs": [],
   "source": [
    "fig, axs = plt.subplots(3, 3, figsize=(14, 10))\n",
    "\n",
    "# 数量\n",
    "for i, name in enumerate(['K', 'Y', 'Cy', 'Co']):\n",
    "    ax = axs[i//3, i%3]\n",
    "    ax.plot(range(T+1), quant_seq1[:T+1, i], label=name+', 1/3')\n",
    "    ax.plot(range(T+1), quant_seq2[:T+1, i], label=name+', 0.2')\n",
    "    ax.hlines(init_ss[i], 0, T+1, color='r', linestyle='--')\n",
    "    ax.legend()\n",
    "    ax.set_xlabel('t')\n",
    "\n",
    "# 价格\n",
    "for i, name in enumerate(['W', 'r']):\n",
    "    ax = axs[(i+4)//3, (i+4)%3]\n",
    "    ax.plot(range(T+1), price_seq1[:T+1, i], label=name+', 1/3')\n",
    "    ax.plot(range(T+1), price_seq2[:T+1, i], label=name+', 0.2')\n",
    "    ax.hlines(init_ss[i+4], 0, T+1, color='r', linestyle='--')\n",
    "    ax.legend()\n",
    "    ax.set_xlabel('t')\n",
    "\n",
    "# 政策\n",
    "for i, name in enumerate(['τ', 'D', 'G']):\n",
    "    ax = axs[(i+6)//3, (i+6)%3]\n",
    "    ax.plot(range(T+1), policy_seq1[:T+1, i], label=name+', 1/3')\n",
    "    ax.plot(range(T+1), policy_seq2[:T+1, i], label=name+', 0.2')\n",
    "    ax.hlines(init_ss[i+6], 0, T+1, color='r', linestyle='--')\n",
    "    ax.legend()\n",
    "    ax.set_xlabel('t')"
   ]
  },
  {
   "cell_type": "markdown",
   "id": "e57f8673",
   "metadata": {},
   "source": [
    "具有较低减税率（在 $ t=0 $ 时实施）的经济体，其转型路径模式相同，但扭曲程度较小，并且会收敛到一个拥有更高实物资本存量的新稳态。\n",
    "\n",
    "\n",
    "<a id='exp-expen-cut'></a>"
   ]
  },
  {
   "cell_type": "markdown",
   "id": "60d35d26",
   "metadata": {},
   "source": [
    "### 实验2：政府资产积累\n",
    "\n",
    "假设经济最初处于相同的稳态。\n",
    "\n",
    "现在政府承诺将其在公共服务与商品上的支出削减一半，并从 $ t \\geq 0 $ 开始执行。\n",
    "\n",
    "政府设定的目标是保持相同的税率 $ \\tau_t=\\hat{\\tau} $，并通过时间推移逐步积累资产 $ -D_t $。\n",
    "\n",
    "为了进行该实验，我们将 `τ_seq` 和 `G_seq` 作为输入，并让 `D_pol` 沿转型路径由政府预算约束自动决定。"
   ]
  },
  {
   "cell_type": "code",
   "execution_count": null,
   "id": "e30da60a",
   "metadata": {
    "hide-output": false
   },
   "outputs": [],
   "source": [
    "# 政府支出减半\n",
    "G_seq = τ_hat * 0.5 * Y_hat * np.ones(T+1)\n",
    "\n",
    "# 目标税率\n",
    "τ_seq = τ_hat * np.ones(T+1)\n",
    "\n",
    "closed.simulate(T, init_ss, τ_pol=τ_seq, G_pol=G_seq);\n",
    "closed.plot()"
   ]
  },
  {
   "cell_type": "markdown",
   "id": "26bf2132",
   "metadata": {},
   "source": [
    "随着政府积累资产并将其用于生产，资本的租金率下降，私人投资下降。\n",
    "\n",
    "因此，政府资产与用于生产的实物资本之比 $ -\\frac{D_t}{K_t} $ 将随着时间的推移而增加"
   ]
  },
  {
   "cell_type": "code",
   "execution_count": null,
   "id": "67866885",
   "metadata": {
    "hide-output": false
   },
   "outputs": [],
   "source": [
    "plt.plot(range(T+1), -closed.policy_seq[:-1, 1] / closed.quant_seq[:, 0])\n",
    "plt.xlabel('t')\n",
    "plt.title('-D/K');"
   ]
  },
  {
   "cell_type": "markdown",
   "id": "19082735",
   "metadata": {},
   "source": [
    "我们想知道这一政策实验如何影响个体。\n",
    "\n",
    "从长远来看，未来的世代将在他们的一生中享受更高的消费，因为他们工作时将获得更高的劳动收入。\n",
    "\n",
    "然而，在短期内，老年人遭受损失，因为劳动收入的增加不足以抵消资本收入的下降。\n",
    "\n",
    "这种鲜明的长期效应与短期效应促使我们去研究转型路径。\n",
    "\n",
    ">**Note**\n",
    ">\n",
    ">虽然在新的稳态中消费确实更高，但其代价是公共服务与商品供给的减少。"
   ]
  },
  {
   "cell_type": "markdown",
   "id": "b6a9f862",
   "metadata": {},
   "source": [
    "### 实验3：暂时性支出削减\n",
    "\n",
    "我们接下来考察一种情形，即政府将支出削减一半并积累资产。\n",
    "\n",
    "但在此实验中，政府只在 $ t=0 $ 时削减支出。\n",
    "\n",
    "从 $ t \\geq 1 $ 起，政府支出恢复到 $ \\hat{G} $，而税率 $ \\tau_t $ 调整以维持资产水平 $ -D_t = -D_1 $。"
   ]
  },
  {
   "cell_type": "code",
   "execution_count": null,
   "id": "c6e87d47",
   "metadata": {
    "hide-output": false
   },
   "outputs": [],
   "source": [
    "# 政府购买序列\n",
    "G_seq = τ_hat * Y_hat * np.ones(T+1)\n",
    "G_seq[0] = 0\n",
    "\n",
    "# 政府债务序列\n",
    "D_bar = G_seq[0] - τ_hat * Y_hat\n",
    "D_seq = D_bar * np.ones(T+2)\n",
    "D_seq[0] = D_hat\n",
    "\n",
    "closed.simulate(T, init_ss, D_pol=D_seq, G_pol=G_seq);\n",
    "closed.plot()"
   ]
  },
  {
   "cell_type": "markdown",
   "id": "fff67cf7",
   "metadata": {},
   "source": [
    "经济体很快收敛到一个新的稳态，在该稳态下，物质资本存量更高、利率更低、工资更高，且年轻人与老年人的消费水平均有所提高。\n",
    "\n",
    "尽管从 $ t \\geq 1 $ 起，政府支出 $ G_t $ 恢复到其较高的初始水平，但由于政府在临时削减支出期间积累了资产，从而获得了额外收入 $ -r_t D_t $​，因此可以在更低的税率下维持预算平衡。\n",
    "\n",
    "与 [实验2：政府资产积累](#exp-expen-cut) 相似，转型期初期的老年人会因该政策冲击而受到损失。"
   ]
  },
  {
   "cell_type": "markdown",
   "id": "49a1b1b8",
   "metadata": {},
   "source": [
    "## 计算策略\n",
    "\n",
    "在前述计算中，我们研究了由不同财政政策引发的动态转型。\n",
    "\n",
    "在所有这些实验中，我们都保持了一个假设：不存在一次性税收，即 $ \\delta_{yt}=0, \\delta_{ot}=0 $。\n",
    "\n",
    "在本节中，我们将研究当一次性税收存在时的转型动态。\n",
    "\n",
    "政府将使用一次性税收与转移支付在不同世代之间重新分配资源。\n",
    "\n",
    "引入一次性税收会破坏封闭形式解，因为此时个体的最优消费与储蓄计划取决于未来价格与税率。\n",
    "\n",
    "因此，我们通过寻找“从序列到序列的映射”的不动点来计算均衡转型路径：\n",
    "\n",
    "- 该不动点确定了一个均衡。  \n",
    "\n",
    "\n",
    "为引入这一映射，我们回到 [均衡](#sec-equilibrium) 一节的概念。\n",
    "\n",
    "**定义:** 给定参数 $ \\{\\alpha $, $ \\beta\\} $，一个竞争性均衡由以下内容组成：\n",
    "\n",
    "- 最优消费序列 $ \\{C_{yt}, C_{ot}\\} $  \n",
    "- 价格序列 $ \\{W_t, r_t\\} $  \n",
    "- 资本存量和产出序列 $ \\{K_t, Y_t\\} $  \n",
    "- 税率、政府资产(债务)、政府购买与一次性税收/转移支付的序列 $ \\{\\tau_t, D_t, G_t\\, \\delta_{yt}, \\delta_{ot}\\} $  \n",
    "\n",
    "\n",
    "并满足以下性质：\n",
    "\n",
    "- 在给定价格体系与政府财政政策下，消费计划是最优的；  \n",
    "- 政府预算约束在所有 $ t $ 上均得到满足。  \n",
    "\n",
    "\n",
    "均衡转型路径可以通过“猜测–校验”若干内生序列来计算。\n",
    "\n",
    "例如，在[实验1：减税](#exp-tax-cut)中，序列 $ \\{D_t\\}_{t=0}^{T} $ 和 $ \\{G_t\\}_{t=0}^{T} $ 是外生的。\n",
    "\n",
    "此外，我们假设一次性税收与转移支付序列 $ \\{\\delta_{yt}, \\delta_{ot}\\}_{t=0}^{T} $ 也是外生的，且每个个体都知晓。\n",
    "\n",
    "我们可以按照以下步骤求解其他均衡序列\n",
    "\n",
    "1. 猜测价格 $ \\{W_t, r_t\\}_{t=0}^{T} $ 和税率 $ \\{\\tau_t\\}_{t=0}^{T} $；  \n",
    "1. 求解最优消费和储蓄计划 $ \\{C_{yt}, C_{ot}\\}_{t=0}^{T} $，将未来价格和税率的猜测视为真实值；  \n",
    "1. 求解资本存量的转移 $ \\{K_t\\}_{t=0}^{T} $；  \n",
    "1. 用均衡条件隐含的值更新价格和税率的猜测；  \n",
    "1. 迭代直至收敛。  \n",
    "\n",
    "\n",
    "接下来我们将实现这一”猜测和验证”的方法。\n",
    "\n",
    "我们首先定义 Cobb–Douglas 效用函数"
   ]
  },
  {
   "cell_type": "code",
   "execution_count": null,
   "id": "5810d916",
   "metadata": {
    "hide-output": false
   },
   "outputs": [],
   "source": [
    "@jit\n",
    "def U(Cy, Co, β):\n",
    "\n",
    "    return (Cy ** β) * (Co ** (1-β))"
   ]
  },
  {
   "cell_type": "markdown",
   "id": "a170d0e8",
   "metadata": {},
   "source": [
    "我们使用 `Cy_val` 来计算给定跨期预算约束下任意消费计划 $ C_y $ 的终身价值。\n",
    "\n",
    "注意：这需要知道未来的价格 $ r_{t+1} $ 和税率 $ \\tau_{t+1} $。"
   ]
  },
  {
   "cell_type": "code",
   "execution_count": null,
   "id": "d4af54a5",
   "metadata": {
    "hide-output": false
   },
   "outputs": [],
   "source": [
    "@jit\n",
    "def Cy_val(Cy, W, r_next, τ, τ_next, δy, δo_next, β):\n",
    "\n",
    "    # Co 由预算约束给出\n",
    "    Co = (W * (1 - τ) - δy - Cy) * (1 + r_next * (1 - τ_next)) - δo_next\n",
    "\n",
    "    return U(Cy, Co, β)"
   ]
  },
  {
   "cell_type": "markdown",
   "id": "8259a100",
   "metadata": {},
   "source": [
    "最优消费计划 $ C_y^* $ 可以通过最大化 `Cy_val` 来找到。\n",
    "\n",
    "下面是一个计算稳态下最优消费 $ C_y^*=\\hat{C}_y $ 的例子，其中 $ \\delta_{yt}=\\delta_{ot}=0 $，就像我们之前研究的那样。"
   ]
  },
  {
   "cell_type": "code",
   "execution_count": null,
   "id": "bf55ea8d",
   "metadata": {
    "hide-output": false
   },
   "outputs": [],
   "source": [
    "W, r_next, τ, τ_next = W_hat, r_hat, τ_hat, τ_hat\n",
    "δy, δo_next = 0, 0\n",
    "\n",
    "Cy_opt, U_opt, _ = brent_max(Cy_val,            # 最大化的目标函数\n",
    "                             1e-6,              # 下界\n",
    "                             W*(1-τ)-δy-1e-6,   # 上界\n",
    "                             args=(W, r_next, τ, τ_next, δy, δo_next, β))\n",
    "\n",
    "Cy_opt, U_opt"
   ]
  },
  {
   "cell_type": "markdown",
   "id": "82752a5b",
   "metadata": {},
   "source": [
    "接下来，我们定义一个Python类`AK2`，它可以使用不动点算法计算转型路径。\n",
    "\n",
    "它可以处理非零一次性税收"
   ]
  },
  {
   "cell_type": "code",
   "execution_count": null,
   "id": "5412e3b4",
   "metadata": {
    "hide-output": false
   },
   "outputs": [],
   "source": [
    "class AK2():\n",
    "    \"\"\"\n",
    "    该类模拟一个经济体在给定初始稳态下，对财政政策变化的长度为T的转型路径。\n",
    "    转型路径通过采用不动点算法来满足均衡条件而得出。\n",
    "\n",
    "    \"\"\"\n",
    "\n",
    "    def __init__(self, α, β):\n",
    "\n",
    "        self.α, self.β = α, β\n",
    "\n",
    "    def simulate(self,\n",
    "                T,           # 模拟的转型路径长度\n",
    "                init_ss,     # 初始稳态\n",
    "                δy_seq,      # 年轻人的一次性税收序列\n",
    "                δo_seq,      # 老年人的一次性税收序列\n",
    "                τ_pol=None,  # 税率序列\n",
    "                D_pol=None,  # 政府债务水平序列\n",
    "                G_pol=None,  # 政府购买序列\n",
    "                verbose=False,\n",
    "                max_iter=500,\n",
    "                tol=1e-5):\n",
    "\n",
    "        α, β = self.α, self.β\n",
    "\n",
    "        # 解包稳态变量\n",
    "        K_hat, Y_hat, Cy_hat, Co_hat = init_ss[:4]\n",
    "        W_hat, r_hat = init_ss[4:6]\n",
    "        τ_hat, D_hat, G_hat = init_ss[6:9]\n",
    "\n",
    "        # K, Y, Cy, Co\n",
    "        quant_seq = np.empty((T+2, 4))\n",
    "\n",
    "        # W, r\n",
    "        price_seq = np.empty((T+2, 2))\n",
    "\n",
    "        # τ, D, G\n",
    "        policy_seq = np.empty((T+2, 3))\n",
    "        policy_seq[:, 1] = D_pol\n",
    "        policy_seq[:, 2] = G_pol\n",
    "\n",
    "        # 价格的初始猜测\n",
    "        price_seq[:, 0] = np.ones(T+2) * W_hat\n",
    "        price_seq[:, 1] = np.ones(T+2) * r_hat\n",
    "\n",
    "        # 政策的初始猜测\n",
    "        policy_seq[:, 0] = np.ones(T+2) * τ_hat\n",
    "\n",
    "        # t=0, 从稳态开始\n",
    "        quant_seq[0, :2] = K_hat, Y_hat\n",
    "\n",
    "        if verbose:\n",
    "            # 准备绘制迭代直到收敛\n",
    "            fig, axs = plt.subplots(1, 3, figsize=(14, 4))\n",
    "\n",
    "        # 检查收敛的容器\n",
    "        price_seq_old = np.empty_like(price_seq)\n",
    "        policy_seq_old = np.empty_like(policy_seq)\n",
    "\n",
    "        # 开始迭代\n",
    "        i_iter = 0\n",
    "        while True:\n",
    "\n",
    "            if verbose:\n",
    "                # 在第i次迭代时绘制当前价格\n",
    "                for i, name in enumerate(['W', 'r']):\n",
    "                    axs[i].plot(range(T+1), price_seq[:T+1, i])\n",
    "                    axs[i].set_title(name)\n",
    "                    axs[i].set_xlabel('t')\n",
    "                axs[2].plot(range(T+1), policy_seq[:T+1, 0],\n",
    "                            label=f'第{i_iter}次迭代')\n",
    "                axs[2].legend(bbox_to_anchor=(1.05, 1), loc='upper left')\n",
    "                axs[2].set_title('τ')\n",
    "                axs[2].set_xlabel('t')\n",
    "\n",
    "            # 存储上一次迭代的旧价格\n",
    "            price_seq_old[:] = price_seq\n",
    "            policy_seq_old[:] = policy_seq\n",
    "\n",
    "            # 开始更新数量和价格\n",
    "            for t in range(T+1):\n",
    "                K, Y = quant_seq[t, :2]\n",
    "                W, r = price_seq[t, :]\n",
    "                r_next = price_seq[t+1, 1]\n",
    "                τ, D, G = policy_seq[t, :]\n",
    "                τ_next, D_next, G_next = policy_seq[t+1, :]\n",
    "                δy, δo = δy_seq[t], δo_seq[t]\n",
    "                δy_next, δo_next = δy_seq[t+1], δo_seq[t+1]\n",
    "\n",
    "                # 老年人的消费\n",
    "                Co = (1 + r * (1 - τ)) * (K + D) - δo\n",
    "\n",
    "                # 年轻人的最优消费\n",
    "                out = brent_max(Cy_val, 1e-6, W*(1-τ)-δy-1e-6,\n",
    "                                args=(W, r_next, τ, τ_next,\n",
    "                                      δy, δo_next, β))\n",
    "                Cy = out[0]\n",
    "\n",
    "                quant_seq[t, 2:] = Cy, Co\n",
    "                τ_num = ((1 + r) * D + G - D_next - δy - δo)\n",
    "                τ_denom = (Y + r * D)\n",
    "                policy_seq[t, 0] = τ_num / τ_denom\n",
    "\n",
    "                # 年轻人的储蓄\n",
    "                A_next = W * (1 - τ) - δy - Cy\n",
    "\n",
    "                # K的传导\n",
    "                K_next = A_next - D_next\n",
    "                Y_next = K_to_Y(K_next, α)\n",
    "                W_next, r_next = K_to_W(K_next, α), K_to_r(K_next, α)\n",
    "\n",
    "                quant_seq[t+1, :2] = K_next, Y_next\n",
    "                price_seq[t+1, :] = W_next, r_next\n",
    "\n",
    "            i_iter += 1\n",
    "\n",
    "            if (np.max(np.abs(price_seq_old - price_seq)) < tol) & \\\n",
    "               (np.max(np.abs(policy_seq_old - policy_seq)) < tol):\n",
    "                if verbose:\n",
    "                    print(f\"使用{i_iter}次迭代收敛\")\n",
    "                break\n",
    "\n",
    "            if i_iter > max_iter:\n",
    "                if verbose:\n",
    "                    print(f\"使用{i_iter}次迭代未能收敛\")\n",
    "                break\n",
    "        \n",
    "        self.quant_seq = quant_seq\n",
    "        self.price_seq = price_seq\n",
    "        self.policy_seq = policy_seq\n",
    "\n",
    "        return quant_seq, price_seq, policy_seq\n",
    "\n",
    "    def plot(self):\n",
    "\n",
    "        quant_seq = self.quant_seq\n",
    "        price_seq = self.price_seq\n",
    "        policy_seq = self.policy_seq\n",
    "\n",
    "        fig, axs = plt.subplots(3, 3, figsize=(14, 10))\n",
    "\n",
    "        # 数量\n",
    "        for i, name in enumerate(['K', 'Y', 'Cy', 'Co']):\n",
    "            ax = axs[i//3, i%3]\n",
    "            ax.plot(range(T+1), quant_seq[:T+1, i], label=name)\n",
    "            ax.hlines(init_ss[i], 0, T+1, color='r', linestyle='--')\n",
    "            ax.legend()\n",
    "            ax.set_xlabel('t')\n",
    "\n",
    "        # 价格\n",
    "        for i, name in enumerate(['W', 'r']):\n",
    "            ax = axs[(i+4)//3, (i+4)%3]\n",
    "            ax.plot(range(T+1), price_seq[:T+1, i], label=name)\n",
    "            ax.hlines(init_ss[i+4], 0, T+1, color='r', linestyle='--')\n",
    "            ax.legend()\n",
    "            ax.set_xlabel('t')\n",
    "\n",
    "        # 政策\n",
    "        for i, name in enumerate(['τ', 'D', 'G']):\n",
    "            ax = axs[(i+6)//3, (i+6)%3]\n",
    "            ax.plot(range(T+1), policy_seq[:T+1, i], label=name)\n",
    "            ax.hlines(init_ss[i+6], 0, T+1, color='r', linestyle='--')\n",
    "            ax.legend()\n",
    "            ax.set_xlabel('t')"
   ]
  },
  {
   "cell_type": "markdown",
   "id": "95cccced",
   "metadata": {},
   "source": [
    "我们用模型参数 $ \\{\\alpha, \\beta\\} $ 初始化一个 `AK2` 类的实例,然后用它来进行财政政策实验。"
   ]
  },
  {
   "cell_type": "code",
   "execution_count": null,
   "id": "f9226fca",
   "metadata": {
    "hide-output": false
   },
   "outputs": [],
   "source": [
    "ak2 = AK2(α, β)"
   ]
  },
  {
   "cell_type": "markdown",
   "id": "88b4b85f",
   "metadata": {},
   "source": [
    "我们首先检验，当一次性税收被排除时，‘猜测和校验’方法所得的数值结果与封闭形式解所得到的结果一致。"
   ]
  },
  {
   "cell_type": "code",
   "execution_count": null,
   "id": "1741d224",
   "metadata": {
    "hide-output": false
   },
   "outputs": [],
   "source": [
    "δy_seq = np.ones(T+2) * 0.\n",
    "δo_seq = np.ones(T+2) * 0.\n",
    "\n",
    "D_pol = np.zeros(T+2)\n",
    "G_pol = np.ones(T+2) * G_hat\n",
    "\n",
    "# 减税\n",
    "τ0 = τ_hat * (1 - 1/3)\n",
    "D1 = D_hat * (1 + r_hat * (1 - τ0)) + G_hat - τ0 * Y_hat - δy_seq[0] - δo_seq[0]\n",
    "D_pol[0] = D_hat\n",
    "D_pol[1:] = D1"
   ]
  },
  {
   "cell_type": "code",
   "execution_count": null,
   "id": "52e2173c",
   "metadata": {
    "hide-output": false
   },
   "outputs": [],
   "source": [
    "quant_seq3, price_seq3, policy_seq3 = ak2.simulate(T, init_ss,\n",
    "                                                   δy_seq, δo_seq,\n",
    "                                                   D_pol=D_pol, G_pol=G_pol,\n",
    "                                                   verbose=True)"
   ]
  },
  {
   "cell_type": "code",
   "execution_count": null,
   "id": "e4dd0712",
   "metadata": {
    "hide-output": false
   },
   "outputs": [],
   "source": [
    "ak2.plot()"
   ]
  },
  {
   "cell_type": "markdown",
   "id": "9ec3984b",
   "metadata": {},
   "source": [
    "接下来,我们引入一次性税收。\n",
    "\n",
    "让我们修改 [实验1：减税](#exp-tax-cut) 中的财政政策设定，假定政府同时对年轻人和老年人征收一次性税收 $ \\delta_{yt}=\\delta_{ot}=0.005, t\\geq0 $。"
   ]
  },
  {
   "cell_type": "code",
   "execution_count": null,
   "id": "eed57f08",
   "metadata": {
    "hide-output": false
   },
   "outputs": [],
   "source": [
    "δy_seq = np.ones(T+2) * 0.005\n",
    "δo_seq = np.ones(T+2) * 0.005\n",
    "\n",
    "D1 = D_hat * (1 + r_hat * (1 - τ0)) + G_hat - τ0 * Y_hat - δy_seq[0] - δo_seq[0]\n",
    "D_pol[1:] = D1\n",
    "\n",
    "quant_seq4, price_seq4, policy_seq4 = ak2.simulate(T, init_ss,\n",
    "                                                   δy_seq, δo_seq,\n",
    "                                                   D_pol=D_pol, G_pol=G_pol)"
   ]
  },
  {
   "cell_type": "markdown",
   "id": "d4f849c1",
   "metadata": {},
   "source": [
    "注意：”挤出效应”已经得到缓解。"
   ]
  },
  {
   "cell_type": "code",
   "execution_count": null,
   "id": "9e4a349f",
   "metadata": {
    "hide-output": false
   },
   "outputs": [],
   "source": [
    "fig, axs = plt.subplots(3, 3, figsize=(14, 10))\n",
    "\n",
    "# 数量\n",
    "for i, name in enumerate(['K', 'Y', 'Cy', 'Co']):\n",
    "    ax = axs[i//3, i%3]\n",
    "    ax.plot(range(T+1), quant_seq3[:T+1, i], label=rf\"{name}, $\\delta$s=0\")\n",
    "    ax.plot(range(T+1), quant_seq4[:T+1, i], label=rf\"{name}, $\\delta$s=0.005\")\n",
    "    ax.hlines(init_ss[i], 0, T+1, color='r', linestyle='--')\n",
    "    ax.legend()\n",
    "    ax.set_xlabel('t')\n",
    "\n",
    "# 价格\n",
    "for i, name in enumerate(['W', 'r']):\n",
    "    ax = axs[(i+4)//3, (i+4)%3]\n",
    "    ax.plot(range(T+1), price_seq3[:T+1, i], label=rf\"{name}, $\\delta$s=0\")\n",
    "    ax.plot(range(T+1), price_seq4[:T+1, i], label=rf\"{name}, $\\delta$s=0.005\")\n",
    "    ax.hlines(init_ss[i+4], 0, T+1, color='r', linestyle='--')\n",
    "    ax.legend()\n",
    "    ax.set_xlabel('t')\n",
    "\n",
    "# 政策\n",
    "for i, name in enumerate(['τ', 'D', 'G']):\n",
    "    ax = axs[(i+6)//3, (i+6)%3]\n",
    "    ax.plot(range(T+1), policy_seq3[:T+1, i], label=rf\"{name}, $\\delta$s=0\")\n",
    "    ax.plot(range(T+1), policy_seq4[:T+1, i], label=rf\"{name}, $\\delta$s=0.005\")\n",
    "    ax.hlines(init_ss[i+6], 0, T+1, color='r', linestyle='--')\n",
    "    ax.legend()\n",
    "    ax.set_xlabel('t')"
   ]
  },
  {
   "cell_type": "markdown",
   "id": "081bc4bc",
   "metadata": {},
   "source": [
    "与 [实验1：减税](#exp-tax-cut) 相比，政府提高一次性税收以支付不断增加的债务利息支出，与提高资本所得税税率相比，这种做法的扭曲性更小。"
   ]
  },
  {
   "cell_type": "markdown",
   "id": "3107f042",
   "metadata": {},
   "source": [
    "### 实验4：无基金的社会保障制度\n",
    "\n",
    "在这个实验中，老年人和年轻人的一次性税收数额相等，但符号相反。\n",
    "\n",
    "负的一次性税收即为补贴。\n",
    "\n",
    "因此，在这个实验中，年轻人被征税，而老年人获得补贴。\n",
    "\n",
    "我们将经济体设定在此前若干实验中假定的相同初始稳态。\n",
    "\n",
    "政府从 $ t=0 $ 开始设定一次性税收 $ \\delta_{y,t}=-\\delta_{o,t}=10\\% \\hat{C}_{y} $。\n",
    "\n",
    "它将债务水平和支出保持在其稳态值 $ \\hat{D} $ 和 $ \\hat{G} $。\n",
    "\n",
    "实际上，这个实验相当于引入一个无基金的社会保障制度。\n",
    "\n",
    "我们可以使用代码来计算启动这个制度所引发的转型路径。\n",
    "\n",
    "最后，我们将其结果与 [实验1：减税](#exp-tax-cut) 进行比较。"
   ]
  },
  {
   "cell_type": "code",
   "execution_count": null,
   "id": "4d5a45a7",
   "metadata": {
    "hide-output": false
   },
   "outputs": [],
   "source": [
    "δy_seq = np.ones(T+2) * Cy_hat * 0.1\n",
    "δo_seq = np.ones(T+2) * -Cy_hat * 0.1\n",
    "\n",
    "D_pol[:] = D_hat\n",
    "\n",
    "quant_seq5, price_seq5, policy_seq5 = ak2.simulate(T, init_ss,\n",
    "                                                   δy_seq, δo_seq,\n",
    "                                                   D_pol=D_pol, G_pol=G_pol)"
   ]
  },
  {
   "cell_type": "code",
   "execution_count": null,
   "id": "e2e109d9",
   "metadata": {
    "hide-output": false
   },
   "outputs": [],
   "source": [
    "fig, axs = plt.subplots(3, 3, figsize=(14, 10))\n",
    "\n",
    "# 数量\n",
    "for i, name in enumerate(['K', 'Y', 'Cy', 'Co']):\n",
    "    ax = axs[i//3, i%3]\n",
    "    ax.plot(range(T+1), quant_seq3[:T+1, i], label=name+', 减税')\n",
    "    ax.plot(range(T+1), quant_seq5[:T+1, i], label=name+', 转移支付')\n",
    "    ax.hlines(init_ss[i], 0, T+1, color='r', linestyle='--')\n",
    "    ax.legend()\n",
    "    ax.set_xlabel('t')\n",
    "\n",
    "# 价格\n",
    "for i, name in enumerate(['W', 'r']):\n",
    "    ax = axs[(i+4)//3, (i+4)%3]\n",
    "    ax.plot(range(T+1), price_seq3[:T+1, i], label=name+', 减税')\n",
    "    ax.plot(range(T+1), price_seq5[:T+1, i], label=name+', 转移支付')\n",
    "    ax.hlines(init_ss[i+4], 0, T+1, color='r', linestyle='--')\n",
    "    ax.legend()\n",
    "    ax.set_xlabel('t')\n",
    "\n",
    "# 政策\n",
    "for i, name in enumerate(['τ', 'D', 'G']):\n",
    "    ax = axs[(i+6)//3, (i+6)%3]\n",
    "    ax.plot(range(T+1), policy_seq3[:T+1, i], label=name+', 减税')\n",
    "    ax.plot(range(T+1), policy_seq5[:T+1, i], label=name+', 转移支付')\n",
    "    ax.hlines(init_ss[i+6], 0, T+1, color='r', linestyle='--')\n",
    "    ax.legend()\n",
    "    ax.set_xlabel('t')"
   ]
  },
  {
   "cell_type": "markdown",
   "id": "6cddab73",
   "metadata": {},
   "source": [
    "在社会保障制度启动时，初始老年人尤其受益，因为他无需付出任何代价即可获得转移支付。\n",
    "\n",
    "然而，从长期来看，年轻人与老年人的消费率都会下降，因为社会保障制度削弱了储蓄动机。\n",
    "\n",
    "这会降低实物资本存量，从而导致产出下降。\n",
    "\n",
    "为支付其支出，政府必须提高税率。\n",
    "\n",
    "更高的资本收入税率进一步扭曲了储蓄动机。"
   ]
  }
 ],
 "metadata": {
  "date": 1761257069.2002227,
  "filename": "ak2.md",
  "kernelspec": {
   "display_name": "Python",
   "language": "python3",
   "name": "python3"
  },
  "title": "代际交叠模型中的转型"
 },
 "nbformat": 4,
 "nbformat_minor": 5
}