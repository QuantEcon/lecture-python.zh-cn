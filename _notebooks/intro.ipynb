{
 "cells": [
  {
   "cell_type": "markdown",
   "id": "6ae8829d",
   "metadata": {},
   "source": [
    "# Python中级定量经济学\n",
    "\n",
    "本网站提供一系列关于定量经济建模的讲座。"
   ]
  },
  {
   "cell_type": "markdown",
   "id": "59ae4cbb",
   "metadata": {},
   "source": [
    "# 工具与技术\n",
    "\n",
    "- [新冠病毒建模](https://python.quantecon.org/sir_model.html)\n",
    "- [线性代数](https://python.quantecon.org/linear_algebra.html)\n",
    "- [QR分解](https://python.quantecon.org/qr_decomp.html)\n",
    "- [循环矩阵](https://python.quantecon.org/eig_circulant.html)\n",
    "- [奇异值分解（SVD）](https://python.quantecon.org/svd_intro.html)\n",
    "- [向量自回归和动态模态分解](https://python.quantecon.org/var_dmd.html)\n",
    "- [使用牛顿法求解经济模型](https://python.quantecon.org/newton_method.html)"
   ]
  },
  {
   "cell_type": "markdown",
   "id": "42fd1937",
   "metadata": {},
   "source": [
    "# 基础统计学\n",
    "\n",
    "- [基础概率论与矩阵](https://python.quantecon.org/prob_matrix.html)\n",
    "- [大数定律 和 中心极限定理](https://python.quantecon.org/lln_clt.html)\n",
    "- [概率的两种含义](https://python.quantecon.org/prob_meaning.html)\n",
    "- [多元超几何分布](https://python.quantecon.org/multi_hyper.html)\n",
    "- [多元正态分布](https://python.quantecon.org/multivariate_normal.html)\n",
    "- [故障树不确定性](https://python.quantecon.org/hoist_failure.html)\n",
    "- [人工神经网络简介](https://python.quantecon.org/back_prop.html)\n",
    "- [随机化回应调查](https://python.quantecon.org/rand_resp.html)\n",
    "- [随机回答的期望效用](https://python.quantecon.org/util_rand_resp.html)"
   ]
  },
  {
   "cell_type": "markdown",
   "id": "8c59e982",
   "metadata": {},
   "source": [
    "# 线性规划\n",
    "\n",
    "- [最优传输](https://python.quantecon.org/opt_transport.html)\n",
    "- [冯·诺依曼增长模型（及其推广）](https://python.quantecon.org/von_neumann_model.html)"
   ]
  },
  {
   "cell_type": "markdown",
   "id": "f821988e",
   "metadata": {},
   "source": [
    "# 动态系统导论\n",
    "\n",
    "- [有限马尔可夫链](https://python.quantecon.org/finite_markov.html)\n",
    "- [库存动态](https://python.quantecon.org/inventory_dynamics.html)\n",
    "- [线性状态空间模型](https://python.quantecon.org/linear_models.html)\n",
    "- [萨缪尔森乘数-加速器模型](https://python.quantecon.org/samuelson.html)\n",
    "- [Kesten过程与企业动态](https://python.quantecon.org/kesten_processes.html)\n",
    "- [财富分配动态](https://python.quantecon.org/wealth_dynamics.html)\n",
    "- [卡尔曼滤波初探](https://python.quantecon.org/kalman.html)\n",
    "- [卡尔曼滤波器的另一个视角](https://python.quantecon.org/kalman_2.html)"
   ]
  },
  {
   "cell_type": "markdown",
   "id": "c8c7e939",
   "metadata": {},
   "source": [
    "# 搜索\n",
    "\n",
    "- [求职搜索 I: McCall搜寻模型](https://python.quantecon.org/mccall_model.html)\n",
    "- [求职搜索 II：搜寻与离职](https://python.quantecon.org/mccall_model_with_separation.html)\n",
    "- [求职搜索 III: 拟合值函数迭代](https://python.quantecon.org/mccall_fitted_vfi.html)\n",
    "- [求职搜索 IV：相关工资报价](https://python.quantecon.org/mccall_correlated.html)\n",
    "- [求职搜索 V：职业选择建模](https://python.quantecon.org/career.html)\n",
    "- [求职搜索 VI：在职搜索](https://python.quantecon.org/jv.html)\n",
    "- [求职搜索 VII：McCall劳动者的Q学习](https://python.quantecon.org/mccall_q.html)"
   ]
  },
  {
   "cell_type": "markdown",
   "id": "88a86cd8",
   "metadata": {},
   "source": [
    "# 消费、储蓄与资本\n",
    "\n",
    "- [Cass-Koopmans模型](https://python.quantecon.org/cass_koopmans_1.html)\n",
    "- [Cass-Koopmans竞争均衡](https://python.quantecon.org/cass_koopmans_2.html)\n",
    "- [带扭曲性税收的Cass-Koopmans模型](https://python.quantecon.org/cass_fiscal.html)\n",
    "- [重叠世代模型中的转换](https://python.quantecon.org/ak2.html)\n",
    "- [蛋糕食用问题 I：最优储蓄导论](https://python.quantecon.org/cake_eating_problem.html)\n",
    "- [蛋糕食用问题 II：数值方法](https://python.quantecon.org/cake_eating_numerical.html)\n",
    "- [最优增长 I：随机最优增长模型](https://python.quantecon.org/optgrowth.html)\n",
    "- [最优增长 II：使用Numba加速代码](https://python.quantecon.org/optgrowth_fast.html)\n",
    "- [最优增长 III：时间迭代](https://python.quantecon.org/coleman_policy_iter.html)\n",
    "- [最优增长 IV：内生网格法](https://python.quantecon.org/egm_policy_iter.html)\n",
    "- [收入波动问题 I：基本模型](https://python.quantecon.org/ifp.html)\n",
    "- [收入波动问题 II：资产随机收益](https://python.quantecon.org/ifp_advanced.html)"
   ]
  },
  {
   "cell_type": "markdown",
   "id": "25b5a9a1",
   "metadata": {},
   "source": [
    "# 贝叶斯定律\n",
    "\n",
    "- [非共轭先验](https://python.quantecon.org/bayes_nonconj.html)\n",
    "- [AR(1)参数的后验分布](https://python.quantecon.org/ar1_bayes.html)\n",
    "- [预测 AR(1) 过程](https://python.quantecon.org/ar1_turningpts.html)"
   ]
  },
  {
   "cell_type": "markdown",
   "id": "6dbb007a",
   "metadata": {},
   "source": [
    "# 信息论\n",
    "\n",
    "- [求职搜索 VII: 带学习的搜索](https://python.quantecon.org/odu.html)\n",
    "- [似然比过程](https://python.quantecon.org/likelihood_ratio_process.html)\n",
    "- [计算似然比过程的均值](https://python.quantecon.org/imp_sample.html)\n",
    "- [让弥尔顿·弗里德曼困惑的问题](https://python.quantecon.org/wald_friedman.html)\n",
    "- [可交换性和贝叶斯更新](https://python.quantecon.org/exchangeable.html)\n",
    "- [似然比过程和贝叶斯学习](https://python.quantecon.org/likelihood_bayes.html)\n",
    "- [错误模型](https://python.quantecon.org/mix_model.html)\n",
    "- [贝叶斯与频率主义决策规则的比较](https://python.quantecon.org/navy_captain.html)"
   ]
  },
  {
   "cell_type": "markdown",
   "id": "fdb7567b",
   "metadata": {},
   "source": [
    "# LQ控制\n",
    "\n",
    "- [LQ控制：基础](https://python.quantecon.org/lqcontrol.html)\n",
    "- [LQ控制的拉格朗日方法](https://python.quantecon.org/lagrangian_lqdp.html)\n",
    "- [消除交叉项](https://python.quantecon.org/cross_product_trick.html)\n",
    "- [永久收入模型](https://python.quantecon.org/perm_income.html)\n",
    "- [永久收入 II：线性二次方法](https://python.quantecon.org/perm_income_cons.html)\n",
    "- [通过库存实现生产平滑](https://python.quantecon.org/lq_inventories.html)"
   ]
  },
  {
   "cell_type": "markdown",
   "id": "98f98e99",
   "metadata": {},
   "source": [
    "# 多主体模型\n",
    "\n",
    "- [就业和失业的湖泊模型](https://python.quantecon.org/lake_model.html)\n",
    "- [理性预期均衡](https://python.quantecon.org/rational_expectations.html)\n",
    "- [线性理性预期模型中的稳定性](https://python.quantecon.org/re_with_feedback.html)\n",
    "- [马尔可夫完美均衡](https://python.quantecon.org/markov_perf.html)\n",
    "- [不确定性陷阱](https://python.quantecon.org/uncertainty_traps.html)\n",
    "- [艾亚加里模型](https://python.quantecon.org/aiyagari.html)"
   ]
  },
  {
   "cell_type": "markdown",
   "id": "fc01eaf8",
   "metadata": {},
   "source": [
    "# 资产定价与金融\n",
    "\n",
    "- [资产定价：有限状态模型](https://python.quantecon.org/markov_asset.html)\n",
    "- [带有阿罗证券的竞争均衡](https://python.quantecon.org/ge_arrow.html)\n",
    "- [异质信念与泡沫](https://python.quantecon.org/harrison_kreps.html)"
   ]
  },
  {
   "cell_type": "markdown",
   "id": "74c3e5ea",
   "metadata": {},
   "source": [
    "# 数据与实证\n",
    "\n",
    "- [面板数据的Pandas使用](https://python.quantecon.org/pandas_panel.html)\n",
    "- [Python线性回归](https://python.quantecon.org/ols.html)\n",
    "- [最大似然估计](https://python.quantecon.org/mle.html)"
   ]
  },
  {
   "cell_type": "markdown",
   "id": "6b1d3274",
   "metadata": {},
   "source": [
    "# 拍卖\n",
    "\n",
    "- [一价和二价拍卖](https://python.quantecon.org/two_auctions.html)\n",
    "- [多种商品分配机制](https://python.quantecon.org/house_auction.html)"
   ]
  },
  {
   "cell_type": "markdown",
   "id": "bafafb06",
   "metadata": {},
   "source": [
    "# 其他\n",
    "\n",
    "- [故障排除](https://python.quantecon.org/troubleshooting.html)\n",
    "- [参考文献](https://python.quantecon.org/zreferences.html)\n",
    "- [执行统计](https://python.quantecon.org/status.html)"
   ]
  }
 ],
 "metadata": {
  "date": 1747894129.672119,
  "filename": "intro.md",
  "kernelspec": {
   "display_name": "Python",
   "language": "python3",
   "name": "python3"
  },
  "title": "Python中级定量经济学"
 },
 "nbformat": 4,
 "nbformat_minor": 5
}