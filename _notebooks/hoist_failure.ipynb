{
 "cells": [
  {
   "cell_type": "markdown",
   "id": "f76615a9",
   "metadata": {},
   "source": [
    "# 故障树不确定性"
   ]
  },
  {
   "cell_type": "markdown",
   "id": "9041bba4",
   "metadata": {},
   "source": [
    "## 概述\n",
    "\n",
    "本讲将运用基本工具来近似计算由多个关键部件组成的系统的年度故障率的概率分布。\n",
    "\n",
    "我们将使用对数正态分布来近似关键组件部件的概率分布。\n",
    "\n",
    "为了近似描述整个系统故障率的n个对数正态概率分布之**和**的概率分布，我们将计算这n个对数正态概率分布的卷积。\n",
    "\n",
    "我们将使用以下概念和工具：\n",
    "\n",
    "- 对数正态分布  \n",
    "- 描述独立随机变量之和的概率分布的卷积定理  \n",
    "- 用于近似多组件系统故障率的故障树分析  \n",
    "- 用于描述不确定概率的层次概率模型  \n",
    "- 傅里叶变换和逆傅里叶变换作为计算序列卷积的高效方法  \n",
    "\n",
    "\n",
    "关于傅里叶变换的更多信息，请参见这个 quantecon 讲座 [循环矩阵](https://python.quantecon.org/eig_circulant.html)\n",
    "以及这些讲座 [协方差平稳过程](https://python-advanced.quantecon.org/arma.html) 和 [谱估计](https://python-advanced.quantecon.org/estspec.html)。\n",
    "\n",
    "El-Shanawany, Ardron 和 Walker [[El-Shanawany *et al.*, 2018](https://python.quantecon.org/zreferences.html#id22)] 以及 Greenfield 和 Sargent [[Greenfield and Sargent, 1993](https://python.quantecon.org/zreferences.html#id21)] 使用了这里描述的一些方法来近似核设施安全系统的故障概率。\n",
    "\n",
    "这些方法响应了 Apostolakis [[Apostolakis, 1990](https://python.quantecon.org/zreferences.html#id20)] 提出的关于构建量化程序的一些建议。\n",
    "\n",
    "对安全系统可靠性的不确定性。\n",
    "\n",
    "我们先引入一些Python工具。"
   ]
  },
  {
   "cell_type": "code",
   "execution_count": null,
   "id": "1e469379",
   "metadata": {
    "hide-output": false
   },
   "outputs": [],
   "source": [
    "!pip install tabulate"
   ]
  },
  {
   "cell_type": "code",
   "execution_count": null,
   "id": "c07c8fe6",
   "metadata": {
    "hide-output": false
   },
   "outputs": [],
   "source": [
    "import numpy as np\n",
    "import matplotlib.pyplot as plt\n",
    "import matplotlib as mpl\n",
    "FONTPATH = \"fonts/SourceHanSerifSC-SemiBold.otf\"\n",
    "mpl.font_manager.fontManager.addfont(FONTPATH)\n",
    "plt.rcParams['font.family'] = ['Source Han Serif SC']\n",
    "\n",
    "from scipy.signal import fftconvolve\n",
    "from tabulate import tabulate\n",
    "import time"
   ]
  },
  {
   "cell_type": "code",
   "execution_count": null,
   "id": "fbcdfb81",
   "metadata": {
    "hide-output": false
   },
   "outputs": [],
   "source": [
    "np.set_printoptions(precision=3, suppress=True)"
   ]
  },
  {
   "cell_type": "markdown",
   "id": "6490706e",
   "metadata": {},
   "source": [
    "## 对数正态分布\n",
    "\n",
    "如果一个随机变量 $ x $ 服从均值为 $ \\mu $ 和方差为 $ \\sigma^2 $ 的正态分布，那么 $ x $ 的自然对数，即 $ y = \\log(x) $，就服从参数为 $ \\mu, \\sigma^2 $ 的**对数正态分布**。\n",
    "\n",
    "注意我们说的是**参数**而不是**均值和方差** $ \\mu,\\sigma^2 $。\n",
    "\n",
    "- $ \\mu $ 和 $ \\sigma^2 $ 是 $ x = \\exp (y) $ 的均值和方差  \n",
    "- 它们**不是** $ y $ 的均值和方差  \n",
    "- 相反，$ y $ 的均值是 $ e ^{\\mu + \\frac{1}{2} \\sigma^2} $，$ y $ 的方差是 $ (e^{\\sigma^2} - 1) e^{2 \\mu + \\sigma^2} $  \n",
    "\n",
    "\n",
    "对数正态随机变量 $ y $ 是非负的。\n",
    "\n",
    "对数正态随机变量 $ y $ 的密度函数是\n",
    "\n",
    "$$\n",
    "f(y) = \\frac{1}{y \\sigma \\sqrt{2 \\pi}} \\exp \\left(  \\frac{- (\\log y - \\mu)^2 }{2 \\sigma^2} \\right)\n",
    "$$\n",
    "\n",
    "其中 $ y \\geq 0 $。\n",
    "\n",
    "对数正态随机变量的重要特征是\n",
    "\n",
    "$$\n",
    "\\begin{aligned}\n",
    " \\textrm{均值:} & \\quad e ^{\\mu + \\frac{1}{2} \\sigma^2} \\cr\n",
    "\n",
    "\\textrm{方差:}  & \\quad (e^{\\sigma^2} - 1) e^{2 \\mu + \\sigma^2} \\cr\n",
    "  \\textrm{中位数:} & \\quad e^\\mu \\cr\n",
    " \\textrm{众数:} & \\quad e^{\\mu - \\sigma^2} \\cr\n",
    " \\textrm{.95 分位数:} & \\quad e^{\\mu + 1.645 \\sigma} \\cr\n",
    " \\textrm{.95-.05 分位数比:}  & \\quad e^{1.645 \\sigma} \\cr\n",
    " \\end{aligned}\n",
    "$$\n",
    "\n",
    "回顾两个独立正态分布随机变量的以下_稳定性_性质：\n",
    "\n",
    "如果$ x_1 $是均值为$ \\mu_1 $、方差为$ \\sigma_1^2 $的正态分布，且$ x_2 $独立于$ x_1 $并且是均值为$ \\mu_2 $、方差为$ \\sigma_2^2 $的正态分布，那么$ x_1 + x_2 $是均值为$ \\mu_1 + \\mu_2 $、方差为$ \\sigma_1^2 + \\sigma_2^2 $的正态分布。\n",
    "\n",
    "独立的对数正态分布具有不同的_稳定性_性质。\n",
    "\n",
    "独立对数正态随机变量的**乘积**也是对数正态分布。\n",
    "\n",
    "特别地，如果$ y_1 $是参数为$ (\\mu_1, \\sigma_1^2) $的对数正态分布，且\n",
    "\n",
    "$ y_2 $ 是对数正态分布，参数为 $ (\\mu_2, \\sigma_2^2) $，那么乘积 $ y_1 y_2 $ 也是对数正态分布，其参数为 $ (\\mu_1 + \\mu_2, \\sigma_1^2 + \\sigma_2^2) $。\n",
    "\n",
    ">**Note**\n",
    ">\n",
    ">虽然两个对数正态分布的乘积是对数正态分布，但两个对数正态分布的**和**却**不是**对数正态分布。\n",
    "\n",
    "这个观察为我们在本讲中面临的挑战奠定了基础，即如何近似独立对数正态随机变量**和**的概率分布。\n",
    "\n",
    "要计算两个对数正态分布之和的概率分布，我们可以使用独立随机变量之和的概率分布的卷积性质。"
   ]
  },
  {
   "cell_type": "markdown",
   "id": "0e7d23bc",
   "metadata": {},
   "source": [
    "## 卷积性质\n",
    "\n",
    "设 $ x $ 是概率密度为 $ f(x) $ 的随机变量，其中 $ x \\in {\\bf R} $。\n",
    "\n",
    "设 $ y $ 是概率密度为 $ g(y) $ 的随机变量，其中 $ y \\in {\\bf R} $。\n",
    "\n",
    "设 $ x $ 和 $ y $ 是独立随机变量，且 $ z = x + y \\in {\\bf R} $。\n",
    "\n",
    "那么 $ z $ 的概率分布为\n",
    "\n",
    "$$\n",
    "h(z) = (f * g)(z) \\equiv \\int_{-\\infty}^\\infty f (z) g(z - \\tau) d \\tau\n",
    "$$\n",
    "\n",
    "其中 $ (f*g) $ 表示两个函数 $ f $ 和 $ g $ 的**卷积**。\n",
    "\n",
    "如果随机变量都是非负的，则上述公式可简化为\n",
    "\n",
    "$$\n",
    "h(z) = (f * g)(z) \\equiv \\int_{0}^\\infty f (z) g(z - \\tau) d \\tau\n",
    "$$\n",
    "\n",
    "下面，我们将使用上述公式的离散化版本。\n",
    "\n",
    "具体来说，我们将把 $ f $ 和 $ g $ 都替换为离散化的对应形式，并归一化使其和为1，这样它们就是概率分布。\n",
    "\n",
    "- **离散化**指的是等间隔采样的版本  \n",
    "\n",
    "\n",
    "然后我们将使用以下版本的公式\n",
    "\n",
    "$$\n",
    "h_n = (f*g)_n = \\sum_{m=0}^\\infty f_m g_{n-m} , n \\geq 0\n",
    "$$\n",
    "\n",
    "来计算两个随机变量之和的概率分布的离散化版本，其中一个随机变量的概率质量函数为 $ f $，另一个的概率质量函数为 $ g $。\n",
    "\n",
    "在应用卷积性质到对数正态分布的和之前，让我们先用一些简单的离散分布来练习。\n",
    "\n",
    "以一个例子来说，让我们考虑以下两个概率分布\n",
    "\n",
    "$$\n",
    "f_j = \\textrm{Prob} (X = j), j = 0, 1\n",
    "$$\n",
    "\n",
    "和\n",
    "\n",
    "$$\n",
    "g_j = \\textrm{Prob} (Y = j ) , j = 0, 1, 2, 3\n",
    "$$\n",
    "\n",
    "和\n",
    "\n",
    "$$\n",
    "h_j = \\textrm{Prob} (Z \\equiv X + Y = j) , j=0, 1, 2, 3, 4\n",
    "$$\n",
    "\n",
    "卷积性质告诉我们\n",
    "\n",
    "$$\n",
    "h = f* g = g* f\n",
    "$$\n",
    "\n",
    "让我们使用`numpy.convolve`和`scipy.signal.fftconvolve`来计算一个例子。"
   ]
  },
  {
   "cell_type": "code",
   "execution_count": null,
   "id": "d84c6e1e",
   "metadata": {
    "hide-output": false
   },
   "outputs": [],
   "source": [
    "f = [.75, .25]\n",
    "g = [0., .6,  0., .4]\n",
    "h = np.convolve(f,g)\n",
    "hf = fftconvolve(f,g)\n",
    "\n",
    "print(\"f = \", f,  \", np.sum(f) = \", np.sum(f))\n",
    "print(\"g = \", g, \", np.sum(g) = \", np.sum(g))\n",
    "print(\"h = \", h, \", np.sum(h) = \", np.sum(h))\n",
    "print(\"hf = \", hf, \",np.sum(hf) = \", np.sum(hf))"
   ]
  },
  {
   "cell_type": "markdown",
   "id": "9ee621f0",
   "metadata": {},
   "source": [
    "稍后我们将解释使用`scipy.signal.ftconvolve`而不是`numpy.convolve`的一些优势。\n",
    "\n",
    "它们提供相同的结果，但`scipy.signal.ftconvolve`要快得多。\n",
    "\n",
    "这就是为什么我们在本讲座后面会依赖它。"
   ]
  },
  {
   "cell_type": "markdown",
   "id": "1e931cc2",
   "metadata": {},
   "source": [
    "## 近似分布\n",
    "\n",
    "我们将构建一个示例来验证离散化分布能够很好地近似从底层连续分布中抽取的样本。\n",
    "\n",
    "我们将首先生成25000个样本，包含三个独立的对数正态随机变量以及它们的两两和三重和。\n",
    "\n",
    "然后我们将绘制直方图，并将其与适当离散化的对数正态分布的卷积进行比较。"
   ]
  },
  {
   "cell_type": "code",
   "execution_count": null,
   "id": "4b14c1f3",
   "metadata": {
    "hide-output": false
   },
   "outputs": [],
   "source": [
    "## 创建两个和三个对数正态随机变量的和 ssum2 = s1 + s2 和 ssum3 = s1 + s2 + s3\n",
    "\n",
    "\n",
    "mu1, sigma1 = 5., 1. # 均值和标准差\n",
    "s1 = np.random.lognormal(mu1, sigma1, 25000)\n",
    "\n",
    "mu2, sigma2 = 5., 1. # 均值和标准差\n",
    "s2 = np.random.lognormal(mu2, sigma2, 25000)\n",
    "\n",
    "mu3, sigma3 = 5., 1. # 均值和标准差\n",
    "s3 = np.random.lognormal(mu3, sigma3, 25000)\n",
    "\n",
    "ssum2 = s1 + s2\n",
    "\n",
    "ssum3 = s1 + s2 + s3\n",
    "\n",
    "count, bins, ignored = plt.hist(s1, 1000, density=True, align='mid')"
   ]
  },
  {
   "cell_type": "code",
   "execution_count": null,
   "id": "8cf4adf1",
   "metadata": {
    "hide-output": false
   },
   "outputs": [],
   "source": [
    "count, bins, ignored = plt.hist(ssum2, 1000, density=True, align='mid')"
   ]
  },
  {
   "cell_type": "code",
   "execution_count": null,
   "id": "d5283098",
   "metadata": {
    "hide-output": false
   },
   "outputs": [],
   "source": [
    "count, bins, ignored = plt.hist(ssum3, 1000, density=True, align='mid')"
   ]
  },
  {
   "cell_type": "code",
   "execution_count": null,
   "id": "5e1a3d2f",
   "metadata": {
    "hide-output": false
   },
   "outputs": [],
   "source": [
    "samp_mean2 = np.mean(s2)\n",
    "pop_mean2 = np.exp(mu2+ (sigma2**2)/2)\n",
    "\n",
    "pop_mean2, samp_mean2, mu2, sigma2"
   ]
  },
  {
   "cell_type": "markdown",
   "id": "3cf7c8b4",
   "metadata": {},
   "source": [
    "以下是创建对数正态概率密度函数离散化版本的辅助函数。"
   ]
  },
  {
   "cell_type": "code",
   "execution_count": null,
   "id": "a93fad5d",
   "metadata": {
    "hide-output": false
   },
   "outputs": [],
   "source": [
    "def p_log_normal(x,μ,σ):\n",
    "    p = 1 / (σ*x*np.sqrt(2*np.pi)) * np.exp(-1/2*((np.log(x) - μ)/σ)**2)\n",
    "    return p\n",
    "\n",
    "def pdf_seq(μ,σ,I,m):\n",
    "    x = np.arange(1e-7,I,m)\n",
    "    p_array = p_log_normal(x,μ,σ)\n",
    "    p_array_norm = p_array/np.sum(p_array)\n",
    "    return p_array,p_array_norm,x"
   ]
  },
  {
   "cell_type": "markdown",
   "id": "a9597987",
   "metadata": {},
   "source": [
    "现在我们要为我们的离散化设置一个网格长度$ I $和网格增量大小$ m =1 $。\n",
    "\n",
    ">**Note**\n",
    ">\n",
    ">我们将$ I $设置为2的幂，因为我们希望能够自由使用快速傅里叶变换来计算两个序列（离散分布）的卷积。\n",
    "\n",
    "我们建议尝试2的不同幂值$ p $。\n",
    "\n",
    "例如，将其设置为15而不是12，可以改善离散化概率质量函数对所研究的原始连续概率密度函数的近似程度。"
   ]
  },
  {
   "cell_type": "code",
   "execution_count": null,
   "id": "d8ad391b",
   "metadata": {
    "hide-output": false
   },
   "outputs": [],
   "source": [
    "p=15\n",
    "I = 2**p # 截断值\n",
    "m = .1 # 增量大小"
   ]
  },
  {
   "cell_type": "code",
   "execution_count": null,
   "id": "cf29ed2f",
   "metadata": {
    "hide-output": false
   },
   "outputs": [],
   "source": [
    "## 检查单元格 -- 注意当不进行归一化时会发生什么！\n",
    "## 无需调整即可匹配。与上面进行比较\n",
    "\n",
    "p1,p1_norm,x = pdf_seq(mu1,sigma1,I,m)\n",
    "## 计算评估概率质量函数的点数\n",
    "NT = x.size\n",
    "\n",
    "plt.figure(figsize = (8,8))\n",
    "plt.subplot(2,1,1)\n",
    "plt.plot(x[:int(NT)],p1[:int(NT)],label = '')\n",
    "plt.xlim(0,2500)\n",
    "count, bins, ignored = plt.hist(s1, 1000, density=True, align='mid')\n",
    "\n",
    "plt.show()"
   ]
  },
  {
   "cell_type": "code",
   "execution_count": null,
   "id": "979fb5d2",
   "metadata": {
    "hide-output": false
   },
   "outputs": [],
   "source": [
    "# 从离散化的概率密度函数计算均值并与理论值进行比较\n",
    "\n",
    "mean= np.sum(np.multiply(x[:NT],p1_norm[:NT]))\n",
    "meantheory = np.exp(mu1+.5*sigma1**2)\n",
    "mean, meantheory"
   ]
  },
  {
   "cell_type": "markdown",
   "id": "41332ce9",
   "metadata": {},
   "source": [
    "## 概率质量函数的卷积\n",
    "\n",
    "现在让我们使用卷积定理来计算上面参数化的两个对数正态随机变量之和的概率分布。\n",
    "\n",
    "我们还将计算上面构造的三个对数正态分布之和的概率。\n",
    "\n",
    "在进行这些计算之前，我们需要解释我们选择的用于计算两个序列卷积的Python算法。\n",
    "\n",
    "由于要进行卷积的序列很长，我们使用`scipy.signal.fftconvolve`函数而不是numpy.convolve函数。\n",
    "\n",
    "这两个函数给出的结果实际上是等价的，但对于长序列来说，`scipy.signal.fftconvolve`要快得多。\n",
    "\n",
    "程序`scipy.signal.fftconvolve`使用快速傅里叶变换及其逆变换来计算卷积。\n",
    "\n",
    "让我们定义傅里叶变换和逆傅里叶变换。\n",
    "\n",
    "序列$ \\{x_t\\}_{t=0}^{T-1} $的**傅里叶变换**是一个复数序列$ \\{x(\\omega_j)\\}_{j=0}^{T-1} $，由下式给出：\n",
    "\n",
    "\n",
    "<a id='equation-eq-ft1'></a>\n",
    "$$\n",
    "x(\\omega_j) = \\sum_{t=0}^{T-1} x_t \\exp(- i \\omega_j t) \\tag{13.1}\n",
    "$$\n",
    "\n",
    "其中 $ \\omega_j = \\frac{2 \\pi j}{T} $，$ j=0, 1, \\ldots, T-1 $。\n",
    "\n",
    "序列 $ \\{x(\\omega_j)\\}_{j=0}^{T-1} $ 的**逆傅里叶变换**为\n",
    "\n",
    "\n",
    "<a id='equation-eq-ift1'></a>\n",
    "$$\n",
    "x_t = T^{-1} \\sum_{j=0}^{T-1} x(\\omega_j) \\exp (i \\omega_j t) \\tag{13.2}\n",
    "$$\n",
    "\n",
    "序列 $ \\{x_t\\}_{t=0}^{T-1} $ 和 $ \\{x(\\omega_j)\\}_{j=0}^{T-1} $ 包含相同的信息。\n",
    "\n",
    "方程对 [(13.1)](#equation-eq-ft1) 和 [(13.2)](#equation-eq-ift1) 说明了如何从一个序列恢复其傅里叶对应序列。\n",
    "\n",
    "程序 `scipy.signal.fftconvolve` 利用了两个序列 $ \\{f_k\\} $、$ \\{g_k\\} $ 的卷积可以通过以下方式计算的定理：\n",
    "\n",
    "- 计算序列 $ \\{f_k\\} $ 和 $ \\{g_k\\} $ 的傅里叶变换 $ F(\\omega) $、$ G(\\omega) $  \n",
    "- 形成乘积 $ H (\\omega) = F(\\omega) G (\\omega) $  \n",
    "- 卷积 $ f * g $ 是 $ H(\\omega) $ 的逆傅里叶变换  \n",
    "\n",
    "\n",
    "**快速傅里叶变换**和相关的**逆快速傅里叶变换**能够非常快速地执行这些计算。\n",
    "\n",
    "这就是 `scipy.signal.fftconvolve` 使用的算法。\n",
    "\n",
    "让我们做一个预热计算，比较 `numpy.convolve` 和 `scipy.signal.fftconvolve` 所需的时间。"
   ]
  },
  {
   "cell_type": "code",
   "execution_count": null,
   "id": "18c7a970",
   "metadata": {
    "hide-output": false
   },
   "outputs": [],
   "source": [
    "\n",
    "p1,p1_norm,x = pdf_seq(mu1,sigma1,I,m)\n",
    "p2,p2_norm,x = pdf_seq(mu2,sigma2,I,m)\n",
    "p3,p3_norm,x = pdf_seq(mu3,sigma3,I,m)\n",
    "\n",
    "tic = time.perf_counter()\n",
    "\n",
    "c1 = np.convolve(p1_norm,p2_norm)\n",
    "c2 = np.convolve(c1,p3_norm)\n",
    "\n",
    "\n",
    "toc = time.perf_counter()\n",
    "\n",
    "tdiff1 = toc - tic\n",
    "\n",
    "tic = time.perf_counter()\n",
    "\n",
    "c1f = fftconvolve(p1_norm,p2_norm)\n",
    "c2f = fftconvolve(c1f,p3_norm)\n",
    "toc = time.perf_counter()\n",
    "\n",
    "toc = time.perf_counter()\n",
    "\n",
    "tdiff2 = toc - tic\n",
    "\n",
    "print(\"time with np.convolve = \", tdiff1,  \"; time with fftconvolve = \",  tdiff2)"
   ]
  },
  {
   "cell_type": "markdown",
   "id": "3dbbb0b8",
   "metadata": {},
   "source": [
    "快速傅里叶变换比 `numpy.convolve` 快两个数量级\n",
    "\n",
    "现在让我们将计算得到的两个对数正态随机变量之和的概率质量函数近似值与我们上面形成的样本直方图进行对比绘制。"
   ]
  },
  {
   "cell_type": "code",
   "execution_count": null,
   "id": "7dfdb97d",
   "metadata": {
    "hide-output": false
   },
   "outputs": [],
   "source": [
    "NT= np.size(x)\n",
    "\n",
    "plt.figure(figsize = (8,8))\n",
    "plt.subplot(2,1,1)\n",
    "plt.plot(x[:int(NT)],c1f[:int(NT)]/m,label = '')\n",
    "plt.xlim(0,5000)\n",
    "\n",
    "count, bins, ignored = plt.hist(ssum2, 1000, density=True, align='mid')\n",
    "# plt.plot(P2P3[:10000],label = 'FFT method',linestyle = '--')\n",
    "\n",
    "plt.show()"
   ]
  },
  {
   "cell_type": "code",
   "execution_count": null,
   "id": "137b4ca3",
   "metadata": {
    "hide-output": false
   },
   "outputs": [],
   "source": [
    "NT= np.size(x)\n",
    "plt.figure(figsize = (8,8))\n",
    "plt.subplot(2,1,1)\n",
    "plt.plot(x[:int(NT)],c2f[:int(NT)]/m,label = '')\n",
    "plt.xlim(0,5000)\n",
    "\n",
    "count, bins, ignored = plt.hist(ssum3, 1000, density=True, align='mid')\n",
    "# plt.plot(P2P3[:10000],label = 'FFT方法',linestyle = '--')\n",
    "\n",
    "plt.show()"
   ]
  },
  {
   "cell_type": "code",
   "execution_count": null,
   "id": "da9ed9b6",
   "metadata": {
    "hide-output": false
   },
   "outputs": [],
   "source": [
    "## 让我们计算离散化pdf的均值\n",
    "mean= np.sum(np.multiply(x[:NT],c1f[:NT]))\n",
    "# meantheory = np.exp(mu1+.5*sigma1**2)\n",
    "mean, 2*meantheory"
   ]
  },
  {
   "cell_type": "code",
   "execution_count": null,
   "id": "201d6380",
   "metadata": {
    "hide-output": false
   },
   "outputs": [],
   "source": [
    "## 让我们计算离散化pdf的均值\n",
    "mean= np.sum(np.multiply(x[:NT],c2f[:NT]))\n",
    "# meantheory = np.exp(mu1+.5*sigma1**2)\n",
    "mean, 3*meantheory"
   ]
  },
  {
   "cell_type": "markdown",
   "id": "54d14d65",
   "metadata": {},
   "source": [
    "## 故障树分析\n",
    "\n",
    "我们即将应用卷积定理来计算故障树分析中**顶事件**的概率。\n",
    "\n",
    "在应用卷积定理之前，我们首先描述将组成事件与我们要量化其故障率的**顶端**事件连接起来的模型。\n",
    "\n",
    "该模型是El-Shanawany、Ardron和Walker [[El-Shanawany *et al.*, 2018](https://python.quantecon.org/zreferences.html#id22)]所描述的广泛使用的**故障树分析**的一个例子。\n",
    "\n",
    "为了构建统计模型，我们反复使用所谓的**稀有事件近似**。\n",
    "\n",
    "我们想要计算事件$ A \\cup B $的概率。\n",
    "\n",
    "- 并集$ A \\cup B $是事件$ A $或$ B $发生的情况  \n",
    "\n",
    "\n",
    "概率法则告诉我们，$ A $或$ B $发生的概率为\n",
    "\n",
    "$$\n",
    "P(A \\cup B) = P(A) + P(B) - P(A \\cap B)\n",
    "$$\n",
    "\n",
    "其中交集$ A \\cap B $是事件$ A $**和**$ B $都发生的情况，而并集$ A \\cup B $是事件$ A $**或**$ B $发生的情况。\n",
    "\n",
    "如果$ A $和$ B $是独立的，那么\n",
    "\n",
    "$$\n",
    "P(A \\cap B) = P(A) P(B)\n",
    "$$\n",
    "\n",
    "如果 $ P(A) $ 和 $ P(B) $ 都很小，那么 $ P(A) P(B) $ 就更小。\n",
    "\n",
    "**稀有事件近似**为\n",
    "\n",
    "$$\n",
    "P(A \\cup B) \\approx P(A) + P(B)\n",
    "$$\n",
    "\n",
    "这种近似方法在评估系统故障时被广泛使用。"
   ]
  },
  {
   "cell_type": "markdown",
   "id": "491f7a79",
   "metadata": {},
   "source": [
    "## 应用\n",
    "\n",
    "一个系统的设计特点是，当**任何**一个关键组件发生故障时，系统就会发生故障。\n",
    "\n",
    "每个事件 $ A_i $ 的故障概率 $ P(A_i) $ 都很小。\n",
    "\n",
    "我们假设组件的故障是统计独立的随机变量。\n",
    "\n",
    "我们反复应用**稀有事件近似**，得到系统故障问题的以下公式：\n",
    "\n",
    "$$\n",
    "P(F) \\approx P(A_1) + P (A_2) + \\cdots + P (A_n)\n",
    "$$\n",
    "\n",
    "或\n",
    "\n",
    "\n",
    "<a id='equation-eq-probtop'></a>\n",
    "$$\n",
    "P(F) \\approx \\sum_{i=1}^n P (A_i) \\tag{13.3}\n",
    "$$\n",
    "\n",
    "每个事件的概率以每年故障率的形式记录。"
   ]
  },
  {
   "cell_type": "markdown",
   "id": "1749e05d",
   "metadata": {},
   "source": [
    "## 未知的故障率\n",
    "\n",
    "现在我们来讨论真正感兴趣的问题，参考 [[El-Shanawany *et al.*, 2018](https://python.quantecon.org/zreferences.html#id22)] 和 Greenfield and Sargent\n",
    "\n",
    "[[Greenfield and Sargent, 1993](https://python.quantecon.org/zreferences.html#id21)] 遵循 Apostolakis [[Apostolakis, 1990](https://python.quantecon.org/zreferences.html#id20)] 的思路。\n",
    "\n",
    "构成概率或失效率 $ P(A_i) $ 并非先验已知，需要进行估计。\n",
    "\n",
    "我们通过指定**概率的概率**来解决这个问题，这反映了对故障树分析输入中的构成概率的不确定性这一概念。\n",
    "\n",
    "因此，我们假设系统分析师对系统组件的失效率 $ P(A_i), i =1, \\ldots, n $ 存在不确定性。\n",
    "\n",
    "分析师通过将系统失效概率 $ P(F) $ 和每个组件概率 $ P(A_i) $ 视为随机变量来应对这种情况。\n",
    "\n",
    "- $ P(A_i) $ 概率分布的离散程度表征了分析师对失效概率 $ P(A_i) $ 的不确定性  \n",
    "- $ P(F) $ 的隐含概率分布的离散程度表征了分析师对系统失效概率的不确定性  \n",
    "\n",
    "\n",
    "这导致了有时被称为**层次化**模型，其中分析师对概率$ P(A_i) $本身也有概率估计。\n",
    "\n",
    "分析师通过以下假设来形式化他的不确定性：\n",
    "\n",
    "- 失效概率$ P(A_i) $本身是一个对数正态随机变量，其参数为$ (\\mu_i, \\sigma_i) $。  \n",
    "- 对于所有$ i \\neq j $的配对，失效率$ P(A_i) $和$ P(A_j) $在统计上是相互独立的。  \n",
    "\n",
    "\n",
    "分析师通过阅读工程论文中的可靠性研究来校准失效事件$ i = 1, \\ldots, n $的参数$ (\\mu_i, \\sigma_i) $，这些研究考察了与系统中使用的组件尽可能相似的组件的历史失效率。\n",
    "\n",
    "分析师假设，这些关于年度失效率或失效时间的观测分散性的信息，可以帮助他预测零件在其系统中的性能表现。\n",
    "\n",
    "分析师假设随机变量 $ P(A_i) $ 在统计上是相互独立的。\n",
    "\n",
    "分析师想要近似系统失效概率 $ P(F) $ 的概率质量函数和累积分布函数。\n",
    "\n",
    "- 我们说概率质量函数是因为我们之前描述的对每个随机变量的离散化方式。  \n",
    "\n",
    "\n",
    "分析师通过重复应用卷积定理来计算**顶事件** $ F $（即**系统失效**）的概率质量函数，以计算独立对数正态随机变量之和的概率分布，如方程 [(13.3)](#equation-eq-probtop) 所述。"
   ]
  },
  {
   "cell_type": "markdown",
   "id": "2243cb31",
   "metadata": {},
   "source": [
    "## 废物提升机失效率\n",
    "\n",
    "我们以接近实际的例子来说明，假设 $ n = 14 $。\n",
    "\n",
    "该例子估计了核废料设施中一个关键提升机的年度失效率。\n",
    "\n",
    "监管机构希望系统的设计能够使顶事件的失效率以高概率保持在较小值。\n",
    "\n",
    "这个例子是[[Greenfield and Sargent, 1993](https://python.quantecon.org/zreferences.html#id21)]第27页表10中描述的设计方案B-2（案例I）。\n",
    "\n",
    "该表描述了十四个对数正态随机变量的参数$ \\mu_i, \\sigma_i $，这些随机变量由**七对**独立同分布的随机变量组成。\n",
    "\n",
    "- 在每一对内，参数$ \\mu_i, \\sigma_i $是相同的  \n",
    "- 如[[Greenfield and Sargent, 1993](https://python.quantecon.org/zreferences.html#id21)]第27页表10所述，七个唯一概率$ P(A_i) $的对数正态分布参数已被校准为以下Python代码中的值：  "
   ]
  },
  {
   "cell_type": "code",
   "execution_count": null,
   "id": "187105d7",
   "metadata": {
    "hide-output": false
   },
   "outputs": [],
   "source": [
    "mu1, sigma1 = 4.28, 1.1947\n",
    "mu2, sigma2 = 3.39, 1.1947\n",
    "mu3, sigma3 = 2.795, 1.1947\n",
    "mu4, sigma4 = 2.717, 1.1947\n",
    "mu5, sigma5 = 2.717, 1.1947\n",
    "mu6, sigma6 = 1.444, 1.4632\n",
    "mu7, sigma7 = -.040, 1.4632"
   ]
  },
  {
   "cell_type": "markdown",
   "id": "b3ac69e4",
   "metadata": {},
   "source": [
    ">**Note**\n",
    ">\n",
    ">由于故障率都很小，具有上述参数值的对数正态分布实际上描述的是 $ P(A_i) $ 乘以 $ 10^{-09} $。\n",
    "\n",
    "所以我们将在概率质量函数和相关累积分布函数的 $ x $ 轴上标注的概率应该乘以 $ 10^{-09} $\n",
    "\n",
    "为了提取汇总计算分位数的表格，我们将使用一个辅助函数"
   ]
  },
  {
   "cell_type": "code",
   "execution_count": null,
   "id": "8ef1e3a4",
   "metadata": {
    "hide-output": false
   },
   "outputs": [],
   "source": [
    "def find_nearest(array, value):\n",
    "    array = np.asarray(array)\n",
    "    idx = (np.abs(array - value)).argmin()\n",
    "    return idx"
   ]
  },
  {
   "cell_type": "markdown",
   "id": "e38e8743",
   "metadata": {},
   "source": [
    "我们在以下代码中计算所需的十三个卷积。\n",
    "\n",
    "(请随意尝试不同的幂参数 $ p $ 值，我们用它来设置网格中的点数，以构建离散化连续对数正态分布的概率质量函数。)\n",
    "\n",
    "我们将绘制一个与[[Greenfield and Sargent, 1993](https://python.quantecon.org/zreferences.html#id21)]第29页图5中的累积分布函数(CDF)相对应的图，并且还将展示一个与他们第28页表11相对应的表。"
   ]
  },
  {
   "cell_type": "code",
   "execution_count": null,
   "id": "59197c14",
   "metadata": {
    "hide-output": false
   },
   "outputs": [],
   "source": [
    "p=15\n",
    "I = 2**p # 截断值\n",
    "m =  .05 # 增量大小\n",
    "\n",
    "\n",
    "\n",
    "\n",
    "p1,p1_norm,x = pdf_seq(mu1,sigma1,I,m)\n",
    "p2,p2_norm,x = pdf_seq(mu2,sigma2,I,m)\n",
    "p3,p3_norm,x = pdf_seq(mu3,sigma3,I,m)\n",
    "p4,p4_norm,x = pdf_seq(mu4,sigma4,I,m)\n",
    "p5,p5_norm,x = pdf_seq(mu5,sigma5,I,m)\n",
    "p6,p6_norm,x = pdf_seq(mu6,sigma6,I,m)\n",
    "p7,p7_norm,x = pdf_seq(mu7,sigma7,I,m)\n",
    "p8,p8_norm,x = pdf_seq(mu7,sigma7,I,m)\n",
    "p9,p9_norm,x = pdf_seq(mu7,sigma7,I,m)\n",
    "p10,p10_norm,x = pdf_seq(mu7,sigma7,I,m)\n",
    "p11,p11_norm,x = pdf_seq(mu7,sigma7,I,m)\n",
    "p12,p12_norm,x = pdf_seq(mu7,sigma7,I,m)\n",
    "p13,p13_norm,x = pdf_seq(mu7,sigma7,I,m)\n",
    "p14,p14_norm,x = pdf_seq(mu7,sigma7,I,m)\n",
    "\n",
    "tic = time.perf_counter()\n",
    "\n",
    "c1 = fftconvolve(p1_norm,p2_norm)\n",
    "c2 = fftconvolve(c1,p3_norm)\n",
    "c3 = fftconvolve(c2,p4_norm)\n",
    "c4 = fftconvolve(c3,p5_norm)\n",
    "c5 = fftconvolve(c4,p6_norm)\n",
    "c6 = fftconvolve(c5,p7_norm)\n",
    "c7 = fftconvolve(c6,p8_norm)\n",
    "c8 = fftconvolve(c7,p9_norm)\n",
    "c9 = fftconvolve(c8,p10_norm)\n",
    "c10 = fftconvolve(c9,p11_norm)\n",
    "c11 = fftconvolve(c10,p12_norm)\n",
    "c12 = fftconvolve(c11,p13_norm)\n",
    "c13 = fftconvolve(c12,p14_norm)\n",
    "\n",
    "toc = time.perf_counter()\n",
    "\n",
    "tdiff13 = toc - tic\n",
    "\n",
    "print(\"13个卷积的计算时间 = \", tdiff13)"
   ]
  },
  {
   "cell_type": "code",
   "execution_count": null,
   "id": "f001be22",
   "metadata": {
    "hide-output": false
   },
   "outputs": [],
   "source": [
    "d13 = np.cumsum(c13)\n",
    "Nx=int(1400)\n",
    "plt.figure()\n",
    "plt.plot(x[0:int(Nx/m)],d13[0:int(Nx/m)])  # 展示给Yad看 -- 我乘以了m -- 步长\n",
    "plt.hlines(0.5,min(x),Nx,linestyles='dotted',colors = {'black'})\n",
    "plt.hlines(0.9,min(x),Nx,linestyles='dotted',colors = {'black'})\n",
    "plt.hlines(0.95,min(x),Nx,linestyles='dotted',colors = {'black'})\n",
    "plt.hlines(0.1,min(x),Nx,linestyles='dotted',colors = {'black'})\n",
    "plt.hlines(0.05,min(x),Nx,linestyles='dotted',colors = {'black'})\n",
    "plt.ylim(0,1)\n",
    "plt.xlim(0,Nx)\n",
    "plt.xlabel(\"$x10^{-9}$\",loc = \"right\")\n",
    "plt.show()\n",
    "\n",
    "x_1 = x[find_nearest(d13,0.01)]\n",
    "x_5 = x[find_nearest(d13,0.05)]\n",
    "x_10 = x[find_nearest(d13,0.1)]\n",
    "x_50 = x[find_nearest(d13,0.50)]\n",
    "x_66 = x[find_nearest(d13,0.665)]\n",
    "x_85 = x[find_nearest(d13,0.85)]\n",
    "x_90 = x[find_nearest(d13,0.90)]\n",
    "x_95 = x[find_nearest(d13,0.95)]\n",
    "x_99 = x[find_nearest(d13,0.99)]\n",
    "x_9978 = x[find_nearest(d13,0.9978)]\n",
    "\n",
    "print(tabulate([\n",
    "    ['1%',f\"{x_1}\"],\n",
    "    ['5%',f\"{x_5}\"],\n",
    "    ['10%',f\"{x_10}\"],\n",
    "    ['50%',f\"{x_50}\"],\n",
    "    ['66.5%',f\"{x_66}\"],\n",
    "    ['85%',f\"{x_85}\"],\n",
    "    ['90%',f\"{x_90}\"],\n",
    "    ['95%',f\"{x_95}\"],\n",
    "    ['99%',f\"{x_99}\"],\n",
    "    ['99.78%',f\"{x_9978}\"]],\n",
    "    headers = ['百分位数', 'x * 1e-9']))"
   ]
  },
  {
   "cell_type": "markdown",
   "id": "5a460dfa",
   "metadata": {},
   "source": [
    "上表与 [[Greenfield and Sargent, 1993](https://python.quantecon.org/zreferences.html#id21)] 第28页表11的第2列数据非常接近。\n",
    "\n",
    "差异可能是由于在输入 $ \\mu_i, \\sigma_i, i = 1, \\ldots, 14 $ 时保留的小数位数略有不同，以及在离散化时使用的点数不同所致。"
   ]
  }
 ],
 "metadata": {
  "date": 1749097993.290844,
  "filename": "hoist_failure.md",
  "kernelspec": {
   "display_name": "Python",
   "language": "python3",
   "name": "python3"
  },
  "title": "故障树不确定性"
 },
 "nbformat": 4,
 "nbformat_minor": 5
}