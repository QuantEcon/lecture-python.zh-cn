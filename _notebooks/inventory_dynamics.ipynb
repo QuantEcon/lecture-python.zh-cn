{
 "cells": [
  {
   "cell_type": "markdown",
   "id": "8f33955e",
   "metadata": {},
   "source": [
    "<div id=\"qe-notebook-header\" align=\"right\" style=\"text-align:right;\">\n",
    "        <a href=\"https://quantecon.org/\" title=\"quantecon.org\">\n",
    "                <img style=\"width:250px;display:inline;\" width=\"250px\" src=\"https://assets.quantecon.org/img/qe-menubar-logo.svg\" alt=\"QuantEcon\">\n",
    "        </a>\n",
    "</div>"
   ]
  },
  {
   "cell_type": "markdown",
   "id": "1b8e5a3f",
   "metadata": {},
   "source": [
    "# 库存动态\n",
    "\n",
    "\n",
    "<a id='index-0'></a>"
   ]
  },
  {
   "cell_type": "markdown",
   "id": "46f53d6e",
   "metadata": {},
   "source": [
    "## 目录\n",
    "\n",
    "- [库存动态](#库存动态)  \n",
    "  - [概述](#概述)  \n",
    "  - [样本路径](#样本路径)  \n",
    "  - [边际分布](#边际分布)  \n",
    "  - [练习](#练习)  "
   ]
  },
  {
   "cell_type": "markdown",
   "id": "fbcd2061",
   "metadata": {},
   "source": [
    "## 概述\n",
    "\n",
    "在本讲座中，我们将研究遵循所谓s-S库存动态的企业的库存时间路径。\n",
    "\n",
    "这些企业\n",
    "\n",
    "1. 等待直到库存降至某个水平$ s $以下，然后  \n",
    "1. 订购足够数量以将库存补充到容量$ S $。  \n",
    "\n",
    "\n",
    "这类政策在实践中很常见，并且在某些情况下也是最优的。\n",
    "\n",
    "早期文献综述和一些宏观经济含义可以在[[Caplin, 1985](https://python.quantecon.org/zreferences.html#id51)]中找到。\n",
    "\n",
    "我们的主要目标是学习更多关于模拟、时间序列和马尔可夫动态的知识。\n",
    "\n",
    "虽然我们的马尔可夫环境和许多我们考虑的概念与[有限马尔可夫链讲座](https://python.quantecon.org/finite_markov.html)中的概念相关，但在当前应用中状态空间是连续的。\n",
    "\n",
    "让我们从一些导入开始"
   ]
  },
  {
   "cell_type": "code",
   "execution_count": null,
   "id": "1a635cf4",
   "metadata": {
    "hide-output": false
   },
   "outputs": [],
   "source": [
    "import matplotlib.pyplot as plt\n",
    "import matplotlib as mpl\n",
    "FONTPATH = \"fonts/SourceHanSerifSC-SemiBold.otf\"\n",
    "mpl.font_manager.fontManager.addfont(FONTPATH)\n",
    "plt.rcParams['font.family'] = ['Source Han Serif SC']\n",
    "\n",
    "plt.rcParams[\"figure.figsize\"] = (11, 5)  #设置默认图形大小\n",
    "import numpy as np\n",
    "from numba import jit, float64, prange\n",
    "from numba.experimental import jitclass"
   ]
  },
  {
   "cell_type": "markdown",
   "id": "a5a45c21",
   "metadata": {},
   "source": [
    "## 样本路径\n",
    "\n",
    "考虑一个拥有库存 $ X_t $ 的公司。\n",
    "\n",
    "当库存 $ X_t \\leq s $ 时，公司会补货至 $ S $ 单位。\n",
    "\n",
    "公司面临随机需求 $ \\{ D_t \\} $，我们假设这是独立同分布的。\n",
    "\n",
    "使用符号 $ a^+ := \\max\\{a, 0\\} $，库存动态可以写作\n",
    "\n",
    "$$\n",
    "X_{t+1} =\n",
    "    \\begin{cases}\n",
    "      ( S - D_{t+1})^+ & \\quad \\text{if } X_t \\leq s \\\\\n",
    "      ( X_t - D_{t+1} )^+ &  \\quad \\text{if } X_t > s\n",
    "    \\end{cases}\n",
    "$$\n",
    "\n",
    "在下文中，我们将假设每个 $ D_t $ 都是对数正态分布的，即\n",
    "\n",
    "$$\n",
    "D_t = \\exp(\\mu + \\sigma Z_t)\n",
    "$$\n",
    "\n",
    "其中 $ \\mu $ 和 $ \\sigma $ 是参数，$ \\{Z_t\\} $ 是独立同分布的标准正态分布。\n",
    "\n",
    "这里有一个类，用于存储参数并生成库存的时间路径。"
   ]
  },
  {
   "cell_type": "code",
   "execution_count": null,
   "id": "e87b55e4",
   "metadata": {
    "hide-output": false
   },
   "outputs": [],
   "source": [
    "firm_data = [\n",
    "   ('s', float64),          # 补货触发水平\n",
    "   ('S', float64),          # 容量\n",
    "   ('mu', float64),         # 冲击位置参数\n",
    "   ('sigma', float64)       # 冲击规模参数\n",
    "]\n",
    "\n",
    "\n",
    "@jitclass(firm_data)\n",
    "class Firm:\n",
    "\n",
    "    def __init__(self, s=10, S=100, mu=1.0, sigma=0.5):\n",
    "\n",
    "        self.s, self.S, self.mu, self.sigma = s, S, mu, sigma\n",
    "\n",
    "    def update(self, x):\n",
    "        \"根据当前状态x更新t到t+1的状态。\"\n",
    "\n",
    "        Z = np.random.randn()\n",
    "        D = np.exp(self.mu + self.sigma * Z)\n",
    "        if x <= self.s:\n",
    "            return max(self.S - D, 0)\n",
    "        else:\n",
    "            return max(x - D, 0)\n",
    "\n",
    "    def sim_inventory_path(self, x_init, sim_length):\n",
    "\n",
    "        X = np.empty(sim_length)\n",
    "        X[0] = x_init\n",
    "\n",
    "        for t in range(sim_length-1):\n",
    "            X[t+1] = self.update(X[t])\n",
    "        return X"
   ]
  },
  {
   "cell_type": "markdown",
   "id": "32b1390a",
   "metadata": {},
   "source": [
    "让我们运行第一个模拟，模拟单个路径："
   ]
  },
  {
   "cell_type": "code",
   "execution_count": null,
   "id": "de021e1c",
   "metadata": {
    "hide-output": false
   },
   "outputs": [],
   "source": [
    "firm = Firm()\n",
    "\n",
    "s, S = firm.s, firm.S\n",
    "sim_length = 100\n",
    "x_init = 50\n",
    "\n",
    "X = firm.sim_inventory_path(x_init, sim_length)\n",
    "\n",
    "fig, ax = plt.subplots()\n",
    "bbox = (0., 1.02, 1., .102)\n",
    "legend_args = {'ncol': 3,\n",
    "               'bbox_to_anchor': bbox,\n",
    "               'loc': 3,\n",
    "               'mode': 'expand'}\n",
    "\n",
    "ax.plot(X, label=\"库存\")\n",
    "ax.plot(np.full(sim_length, s), 'k--', label=\"$s$\")\n",
    "ax.plot(np.full(sim_length, S), 'k-', label=\"$S$\")\n",
    "ax.set_ylim(0, S+10)\n",
    "ax.set_xlabel(\"时间\")\n",
    "ax.legend(**legend_args)\n",
    "\n",
    "plt.show()"
   ]
  },
  {
   "cell_type": "markdown",
   "id": "6a0ac74b",
   "metadata": {},
   "source": [
    "现在让我们模拟多条路径，以便更全面地了解不同结果的概率："
   ]
  },
  {
   "cell_type": "code",
   "execution_count": null,
   "id": "e7f8f20f",
   "metadata": {
    "hide-output": false
   },
   "outputs": [],
   "source": [
    "sim_length=200\n",
    "fig, ax = plt.subplots()\n",
    "\n",
    "ax.plot(np.full(sim_length, s), 'k--', label=\"$s$\")\n",
    "ax.plot(np.full(sim_length, S), 'k-', label=\"$S$\")\n",
    "ax.set_ylim(0, S+10)\n",
    "ax.legend(**legend_args)\n",
    "\n",
    "for i in range(400):\n",
    "    X = firm.sim_inventory_path(x_init, sim_length)\n",
    "    ax.plot(X, 'b', alpha=0.2, lw=0.5)\n",
    "\n",
    "plt.show()"
   ]
  },
  {
   "cell_type": "markdown",
   "id": "414866d0",
   "metadata": {},
   "source": [
    "## 边际分布\n",
    "\n",
    "现在让我们来看看某个固定时间点 $ T $ 时 $ X_T $ 的边际分布 $ \\psi_T $。\n",
    "\n",
    "我们将通过在给定初始条件 $ X_0 $ 的情况下生成多个 $ X_T $ 的样本来实现这一点。\n",
    "\n",
    "通过这些 $ X_T $ 的样本，我们可以构建其分布 $ \\psi_T $ 的图像。\n",
    "\n",
    "这里是一个可视化示例，其中 $ T=50 $。"
   ]
  },
  {
   "cell_type": "code",
   "execution_count": null,
   "id": "3efcc66e",
   "metadata": {
    "hide-output": false
   },
   "outputs": [],
   "source": [
    "T = 50\n",
    "M = 200  # 样本数量\n",
    "\n",
    "ymin, ymax = 0, S + 10\n",
    "\n",
    "fig, axes = plt.subplots(1, 2, figsize=(11, 6))\n",
    "\n",
    "for ax in axes:\n",
    "    ax.grid(alpha=0.4)\n",
    "\n",
    "ax = axes[0]\n",
    "\n",
    "ax.set_ylim(ymin, ymax)\n",
    "ax.set_ylabel('$X_t$', fontsize=16)\n",
    "ax.vlines((T,), -1.5, 1.5)\n",
    "\n",
    "ax.set_xticks((T,))\n",
    "ax.set_xticklabels((r'$T$',))\n",
    "\n",
    "sample = np.empty(M)\n",
    "for m in range(M):\n",
    "    X = firm.sim_inventory_path(x_init, 2 * T)\n",
    "    ax.plot(X, 'b-', lw=1, alpha=0.5)\n",
    "    ax.plot((T,), (X[T+1],), 'ko', alpha=0.5)\n",
    "    sample[m] = X[T+1]\n",
    "\n",
    "axes[1].set_ylim(ymin, ymax)\n",
    "\n",
    "axes[1].hist(sample,\n",
    "             bins=16,\n",
    "             density=True,\n",
    "             orientation='horizontal',\n",
    "             histtype='bar',\n",
    "             alpha=0.5)\n",
    "\n",
    "plt.show()"
   ]
  },
  {
   "cell_type": "markdown",
   "id": "4ea6266a",
   "metadata": {},
   "source": [
    "通过绘制更多样本，我们可以得到一个更清晰的图像"
   ]
  },
  {
   "cell_type": "code",
   "execution_count": null,
   "id": "a8352a46",
   "metadata": {
    "hide-output": false
   },
   "outputs": [],
   "source": [
    "T = 50\n",
    "M = 50_000\n",
    "\n",
    "fig, ax = plt.subplots()\n",
    "\n",
    "sample = np.empty(M)\n",
    "for m in range(M):\n",
    "    X = firm.sim_inventory_path(x_init, T+1)\n",
    "    sample[m] = X[T]\n",
    "\n",
    "ax.hist(sample,\n",
    "         bins=36,\n",
    "         density=True,\n",
    "         histtype='bar',\n",
    "         alpha=0.75)\n",
    "\n",
    "plt.show()"
   ]
  },
  {
   "cell_type": "markdown",
   "id": "cea19a2c",
   "metadata": {},
   "source": [
    "请注意分布呈双峰\n",
    "\n",
    "- 大多数公司已经补货两次，但少数公司只补货一次（见上图路径）。  \n",
    "- 第二类公司的库存较低。  \n",
    "\n",
    "\n",
    "我们也可以使用[核密度估计](https://en.wikipedia.org/wiki/Kernel_density_estimation)来近似这个分布。\n",
    "\n",
    "核密度估计可以被理解为平滑的直方图。\n",
    "\n",
    "当被估计的分布可能是平滑的时候，核密度估计比直方图更可取。\n",
    "\n",
    "我们将使用[scikit-learn](https://scikit-learn.org/stable/)中的核密度估计器"
   ]
  },
  {
   "cell_type": "code",
   "execution_count": null,
   "id": "a49a5465",
   "metadata": {
    "hide-output": false
   },
   "outputs": [],
   "source": [
    "from sklearn.neighbors import KernelDensity\n",
    "\n",
    "def plot_kde(sample, ax, label=''):\n",
    "\n",
    "    xmin, xmax = 0.9 * min(sample), 1.1 * max(sample)\n",
    "    xgrid = np.linspace(xmin, xmax, 200)\n",
    "    kde = KernelDensity(kernel='gaussian').fit(sample[:, None])\n",
    "    log_dens = kde.score_samples(xgrid[:, None])\n",
    "\n",
    "    ax.plot(xgrid, np.exp(log_dens), label=label)"
   ]
  },
  {
   "cell_type": "code",
   "execution_count": null,
   "id": "576f47a4",
   "metadata": {
    "hide-output": false
   },
   "outputs": [],
   "source": [
    "fig, ax = plt.subplots()\n",
    "plot_kde(sample, ax)\n",
    "plt.show()"
   ]
  },
  {
   "cell_type": "markdown",
   "id": "b95db8c4",
   "metadata": {},
   "source": [
    "概率质量的分配与上面直方图所显示的类似。"
   ]
  },
  {
   "cell_type": "markdown",
   "id": "a1bbe7b6",
   "metadata": {},
   "source": [
    "## 练习"
   ]
  },
  {
   "cell_type": "markdown",
   "id": "828b919a",
   "metadata": {},
   "source": [
    "## Exercise 20.1\n",
    "\n",
    "这个模型是渐近平稳的，具有唯一的平稳分布。\n",
    "\n",
    "（有关平稳性的背景讨论，请参见[我们关于AR(1)过程的讲座](https://quantecon.github.io/lecture-intro.zh-cn/ar1_processes.html)——基本概念是相同的。）\n",
    "\n",
    "特别是，边际分布序列$ \\{\\psi_t\\} $正在收敛到一个唯一的极限分布，该分布不依赖于初始条件。\n",
    "\n",
    "虽然我们在这里不会证明这一点，但我们可以通过模拟来研究它。\n",
    "\n",
    "你的任务是根据上述讨论，在时间点$ t = 10, 50, 250, 500, 750 $生成并绘制序列$ \\{\\psi_t\\} $。\n",
    "\n",
    "（核密度估计器可能是呈现每个分布的最佳方式。）\n",
    "\n",
    "你应该能看到收敛性，体现在连续分布之间的差异越来越小。\n",
    "\n",
    "尝试不同的初始条件来验证，从长远来看，分布在不同初始条件下是不变的。"
   ]
  },
  {
   "cell_type": "markdown",
   "id": "495f65b4",
   "metadata": {},
   "source": [
    "## Solution to[ Exercise 20.1](https://python.quantecon.org/#id_ex1)\n",
    "\n",
    "以下是一个可能的解决方案：\n",
    "\n",
    "这些计算涉及大量的CPU周期，所以我们试图高效地编写代码。\n",
    "\n",
    "这意味着编写一个专门的函数，而不是使用上面的类。"
   ]
  },
  {
   "cell_type": "code",
   "execution_count": null,
   "id": "554d9de3",
   "metadata": {
    "hide-output": false
   },
   "outputs": [],
   "source": [
    "s, S, mu, sigma = firm.s, firm.S, firm.mu, firm.sigma\n",
    "\n",
    "@jit(parallel=True)\n",
    "def shift_firms_forward(current_inventory_levels, num_periods):\n",
    "\n",
    "    num_firms = len(current_inventory_levels)\n",
    "    new_inventory_levels = np.empty(num_firms)\n",
    "\n",
    "    for f in prange(num_firms):\n",
    "        x = current_inventory_levels[f]\n",
    "        for t in range(num_periods):\n",
    "            Z = np.random.randn()\n",
    "            D = np.exp(mu + sigma * Z)\n",
    "            if x <= s:\n",
    "                x = max(S - D, 0)\n",
    "            else:\n",
    "                x = max(x - D, 0)\n",
    "        new_inventory_levels[f] = x\n",
    "\n",
    "    return new_inventory_levels"
   ]
  },
  {
   "cell_type": "code",
   "execution_count": null,
   "id": "951842bc",
   "metadata": {
    "hide-output": false
   },
   "outputs": [],
   "source": [
    "x_init = 50\n",
    "num_firms = 50_000\n",
    "\n",
    "sample_dates = 0, 10, 50, 250, 500, 750\n",
    "\n",
    "first_diffs = np.diff(sample_dates)\n",
    "\n",
    "fig, ax = plt.subplots()\n",
    "\n",
    "X = np.full(num_firms, x_init)\n",
    "\n",
    "current_date = 0\n",
    "for d in first_diffs:\n",
    "    X = shift_firms_forward(X, d)\n",
    "    current_date += d\n",
    "    plot_kde(X, ax, label=f't = {current_date}')\n",
    "\n",
    "ax.set_xlabel('库存')\n",
    "ax.set_ylabel('概率')\n",
    "ax.legend()\n",
    "plt.show()"
   ]
  },
  {
   "cell_type": "markdown",
   "id": "d1018734",
   "metadata": {},
   "source": [
    "注意到在 $ t=500 $ 或 $ t=750 $ 时密度几乎不再变化。\n",
    "\n",
    "我们已经得到了平稳密度的合理近似。\n",
    "\n",
    "你可以通过测试几个不同的初始条件来确信初始条件并不重要。\n",
    "\n",
    "例如，尝试用所有公司从 $ X_0 = 20 $ 或 $ X_0 = 80 $ 开始重新运行上面的代码。"
   ]
  },
  {
   "cell_type": "markdown",
   "id": "247e94a5",
   "metadata": {},
   "source": [
    "## Exercise 20.2\n",
    "\n",
    "使用模拟计算从 $ X_0 = 70 $ 开始的公司在前50个周期内需要订货两次或更多次的概率。\n",
    "\n",
    "你需要一个较大的样本量来获得准确的结果。"
   ]
  },
  {
   "cell_type": "markdown",
   "id": "fb3f7822",
   "metadata": {},
   "source": [
    "## Solution to[ Exercise 20.2](https://python.quantecon.org/#id_ex2)\n",
    "\n",
    "这是一个解决方案。\n",
    "\n",
    "同样，由于计算量相对较大，我们编写了一个专门的函数而不是使用上面的类。\n",
    "\n",
    "我们还将使用跨公司的并行化处理。"
   ]
  },
  {
   "cell_type": "code",
   "execution_count": null,
   "id": "afc44caa",
   "metadata": {
    "hide-output": false
   },
   "outputs": [],
   "source": [
    "@jit(parallel=True)\n",
    "def compute_freq(sim_length=50, x_init=70, num_firms=1_000_000):\n",
    "\n",
    "    firm_counter = 0  # 记录补货2次或以上的公司数量\n",
    "    for m in prange(num_firms):\n",
    "        x = x_init\n",
    "        restock_counter = 0  # 将记录公司m的补货次数\n",
    "\n",
    "        for t in range(sim_length):\n",
    "            Z = np.random.randn()\n",
    "            D = np.exp(mu + sigma * Z)\n",
    "            if x <= s:\n",
    "                x = max(S - D, 0)\n",
    "                restock_counter += 1\n",
    "            else:\n",
    "                x = max(x - D, 0)\n",
    "\n",
    "        if restock_counter > 1:\n",
    "            firm_counter += 1\n",
    "\n",
    "    return firm_counter / num_firms"
   ]
  },
  {
   "cell_type": "markdown",
   "id": "d94776bb",
   "metadata": {},
   "source": [
    "记录程序运行所需的时间和输出结果。"
   ]
  },
  {
   "cell_type": "code",
   "execution_count": null,
   "id": "068f002e",
   "metadata": {
    "hide-output": false
   },
   "outputs": [],
   "source": [
    "%%time\n",
    "\n",
    "freq = compute_freq()\n",
    "print(f\"至少发生两次缺货的频率 = {freq}\")"
   ]
  },
  {
   "cell_type": "markdown",
   "id": "841f9f2b",
   "metadata": {},
   "source": [
    "尝试将上面jitted函数中的`parallel`标志改为`False`。\n",
    "\n",
    "根据你的系统配置，运行速度的差异可能会很大。\n",
    "\n",
    "（在我们的台式机上，速度提升了5倍。）"
   ]
  }
 ],
 "metadata": {
  "date": 1742685621.5519557,
  "filename": "inventory_dynamics.md",
  "kernelspec": {
   "display_name": "Python",
   "language": "python3",
   "name": "python3"
  },
  "title": "库存动态"
 },
 "nbformat": 4,
 "nbformat_minor": 5
}