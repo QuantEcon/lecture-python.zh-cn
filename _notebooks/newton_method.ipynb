{
 "cells": [
  {
   "cell_type": "markdown",
   "id": "44c3e3e6",
   "metadata": {},
   "source": [
    "\n",
    "<a id='newton-method'></a>\n",
    "<div id=\"qe-notebook-header\" align=\"right\" style=\"text-align:right;\">\n",
    "        <a href=\"https://quantecon.org/\" title=\"quantecon.org\">\n",
    "                <img style=\"width:250px;display:inline;\" width=\"250px\" src=\"https://assets.quantecon.org/img/qe-menubar-logo.svg\" alt=\"QuantEcon\">\n",
    "        </a>\n",
    "</div>\n",
    "\n",
    "\n",
    "<a id='index-0'></a>"
   ]
  },
  {
   "cell_type": "markdown",
   "id": "812aaed3",
   "metadata": {},
   "source": [
    "# 使用牛顿法求解经济模型"
   ]
  },
  {
   "cell_type": "markdown",
   "id": "7901c67b",
   "metadata": {},
   "source": [
    "## 目录\n",
    "\n",
    "- [使用牛顿法求解经济模型](#使用牛顿法求解经济模型)  \n",
    "  - [概述](#概述)  \n",
    "  - [用牛顿法计算不动点](#用牛顿法计算不动点)  \n",
    "  - [一维寻根](#一维寻根)  \n",
    "  - [多元牛顿法](#多元牛顿法)  \n",
    "  - [练习](#练习)  "
   ]
  },
  {
   "cell_type": "markdown",
   "id": "83731486",
   "metadata": {},
   "source": [
    "**GPU:** 这个讲座的一个使用[jax](https://jax.readthedocs.io)在`GPU`上运行代码的版本[可在此处获得](https://jax.quantecon.org/newtons_method.html)"
   ]
  },
  {
   "cell_type": "markdown",
   "id": "b618f7aa",
   "metadata": {},
   "source": [
    "## 概述\n",
    "\n",
    "许多经济问题涉及寻找[不动点\n",
    "\n",
    "[不动点](https://en.wikipedia.org/wiki/Fixed_point_%28mathematics%29)或[零点](https://en.wikipedia.org/wiki/Zero_of_a_function)（有时也称为”根”）。\n",
    "\n",
    "例如，在简单的供需模型中，均衡价格是使超额需求为零的价格。\n",
    "\n",
    "换句话说，均衡是超额需求函数的零点。\n",
    "\n",
    "有各种计算技术可用于求解不动点和零点。\n",
    "\n",
    "在本讲中，我们将学习一种重要的基于梯度的技术，称为[牛顿法](https://en.wikipedia.org/wiki/Newton%27s_method)。\n",
    "\n",
    "牛顿法并不总是有效，但在适用的情况下，与其他方法相比，收敛速度通常较快。\n",
    "\n",
    "本讲将在一维和多维环境中应用牛顿法来解决不动点和零点查找问题。\n",
    "\n",
    "- 在寻找函数$ f $的不动点时，牛顿法通过求解一个  \n",
    "\n",
    "\n",
    "函数 $ f $ 的线性近似。\n",
    "\n",
    "- 在寻找函数 $ f $ 的零点时，牛顿法通过求解函数 $ f $ 的线性近似的零点来更新\n",
    "  现有的猜测值。  \n",
    "\n",
    "\n",
    "为了建立直观认识，我们首先考虑一个简单的一维不动点问题，其中我们已知解，并使用连续\n",
    "近似和牛顿法来求解。\n",
    "\n",
    "然后我们将牛顿法应用到多维环境中，求解多种商品的市场均衡。\n",
    "\n",
    "在讲座最后，我们利用 [`autograd`](https://github.com/HIPS/autograd) 中自动微分的强大功能来求解一个非常高维的均衡问题。"
   ]
  },
  {
   "cell_type": "code",
   "execution_count": null,
   "id": "e675fb4f",
   "metadata": {
    "hide-output": false
   },
   "outputs": [],
   "source": [
    "!pip install autograd"
   ]
  },
  {
   "cell_type": "markdown",
   "id": "ac8d0dd2",
   "metadata": {},
   "source": [
    "我们在本讲中使用以下导入语句"
   ]
  },
  {
   "cell_type": "code",
   "execution_count": null,
   "id": "638a42bd",
   "metadata": {
    "hide-output": false
   },
   "outputs": [],
   "source": [
    "import matplotlib.pyplot as plt\n",
    "import matplotlib as mpl\n",
    "FONTPATH = \"fonts/SourceHanSerifSC-SemiBold.otf\"\n",
    "mpl.font_manager.fontManager.addfont(FONTPATH)\n",
    "plt.rcParams['font.family'] = ['Source Han Serif SC']\n",
    "\n",
    "from collections import namedtuple\n",
    "from scipy.optimize import root\n",
    "from autograd import jacobian\n",
    "# 经过简单封装的numpy，以支持自动微分\n",
    "import autograd.numpy as np\n",
    "\n",
    "plt.rcParams[\"figure.figsize\"] = (10, 5.7)"
   ]
  },
  {
   "cell_type": "markdown",
   "id": "13f986eb",
   "metadata": {},
   "source": [
    "## 用牛顿法计算不动点\n",
    "\n",
    "在本节中，我们将在[索洛增长模型](https://en.wikipedia.org/wiki/Solow%E2%80%93Swan_model)的框架下求解资本运动规律的不动点。\n",
    "\n",
    "我们将通过可视化方式检查不动点，用连续逼近法求解，然后应用牛顿法来实现更快的收敛。\n",
    "\n",
    "\n",
    "<a id='solow'></a>"
   ]
  },
  {
   "cell_type": "markdown",
   "id": "a6585001",
   "metadata": {},
   "source": [
    "### 索洛模型\n",
    "\n",
    "在索洛增长模型中，假设采用柯布-道格拉斯生产技术且人口零增长，资本的运动规律为\n",
    "\n",
    "\n",
    "<a id='equation-motion-law'></a>\n",
    "$$\n",
    "k_{t+1} = g(k_t) \\quad \\text{where} \\quad\n",
    "    g(k) := sAk^\\alpha + (1-\\delta) k \\tag{7.1}\n",
    "$$\n",
    "\n",
    "其中\n",
    "\n",
    "- $ k_t $ 是人均资本存量  \n",
    "- $ A, \\alpha>0 $ 是生产参数，$ \\alpha<1 $  \n",
    "- $ s>0 $ 是储蓄率  \n",
    "- $ \\delta \\in(0,1) $ 是折旧率  \n",
    "\n",
    "\n",
    "在这个例子中，我们希望计算资本运动规律$ g $的唯一严格正不动点。\n",
    "\n",
    "换句话说，我们要寻找一个 $ k^* > 0 $ 使得 $ g(k^*)=k^* $。\n",
    "\n",
    "- 这样的 $ k^* $ 被称为[稳态](https://en.wikipedia.org/wiki/Steady_state)，\n",
    "  因为当 $ k_t = k^* $ 时意味着 $ k_{t+1} = k^* $。  \n",
    "\n",
    "\n",
    "用纸笔解方程 $ g(k)=k $，你可以验证\n",
    "\n",
    "$$\n",
    "k^* = \\left(\\frac{s A}{δ}\\right)^{1/(1 - α)}\n",
    "$$"
   ]
  },
  {
   "cell_type": "markdown",
   "id": "d60b7c58",
   "metadata": {},
   "source": [
    "### 实现\n",
    "\n",
    "让我们使用 [`namedtuple`](https://docs.python.org/3/library/collections.html#collections.namedtuple) 来存储我们的参数，这有助于保持代码的整洁和简洁。"
   ]
  },
  {
   "cell_type": "code",
   "execution_count": null,
   "id": "f4525a39",
   "metadata": {
    "hide-output": false
   },
   "outputs": [],
   "source": [
    "SolowParameters = namedtuple(\"SolowParameters\", ('A', 's', 'α', 'δ'))"
   ]
  },
  {
   "cell_type": "markdown",
   "id": "d1d4f0fb",
   "metadata": {},
   "source": [
    "此函数创建一个带有默认参数值的适当的`namedtuple`。"
   ]
  },
  {
   "cell_type": "code",
   "execution_count": null,
   "id": "de9eef8f",
   "metadata": {
    "hide-output": false
   },
   "outputs": [],
   "source": [
    "def create_solow_params(A=2.0, s=0.3, α=0.3, δ=0.4):\n",
    "    \"创建一个带有默认值的索洛模型参数化。\"\n",
    "    return SolowParameters(A=A, s=s, α=α, δ=δ)"
   ]
  },
  {
   "cell_type": "markdown",
   "id": "3b703c7f",
   "metadata": {},
   "source": [
    "接下来的两个函数实现运动定律[(7.1)](#equation-motion-law)并存储真实的不动点$ k^* $。"
   ]
  },
  {
   "cell_type": "code",
   "execution_count": null,
   "id": "d138c14f",
   "metadata": {
    "hide-output": false
   },
   "outputs": [],
   "source": [
    "def g(k, params):\n",
    "    A, s, α, δ = params\n",
    "    return A * s * k**α + (1 - δ) * k\n",
    "    \n",
    "def exact_fixed_point(params):\n",
    "    A, s, α, δ = params\n",
    "    return ((s * A) / δ)**(1/(1 - α))"
   ]
  },
  {
   "cell_type": "markdown",
   "id": "0f984814",
   "metadata": {},
   "source": [
    "这是一个用于绘制45度动态图的函数。"
   ]
  },
  {
   "cell_type": "code",
   "execution_count": null,
   "id": "afc88f91",
   "metadata": {
    "hide-output": false
   },
   "outputs": [],
   "source": [
    "def plot_45(params, ax, fontsize=14):\n",
    "    \n",
    "    k_min, k_max = 0.0, 3.0\n",
    "    k_grid = np.linspace(k_min, k_max, 1200)\n",
    "\n",
    "    # 绘制函数\n",
    "    lb = r\"$g(k) = sAk^{\\alpha} + (1 - \\delta)k$\"\n",
    "    ax.plot(k_grid, g(k_grid, params),  lw=2, alpha=0.6, label=lb)\n",
    "    ax.plot(k_grid, k_grid, \"k--\", lw=1, alpha=0.7, label=\"45\")\n",
    "\n",
    "    # 显示并标注固定点\n",
    "    kstar = exact_fixed_point(params)\n",
    "    fps = (kstar,)\n",
    "    ax.plot(fps, fps, \"go\", ms=10, alpha=0.6)\n",
    "    ax.annotate(r\"$k^* = (sA / \\delta)^{\\frac{1}{1-\\alpha}}$\", \n",
    "             xy=(kstar, kstar),\n",
    "             xycoords=\"data\",\n",
    "             xytext=(20, -20),\n",
    "             textcoords=\"offset points\",\n",
    "             fontsize=fontsize)\n",
    "\n",
    "    ax.legend(loc=\"upper left\", frameon=False, fontsize=fontsize)\n",
    "\n",
    "    ax.set_yticks((0, 1, 2, 3))\n",
    "    ax.set_yticklabels((0.0, 1.0, 2.0, 3.0), fontsize=fontsize)\n",
    "    ax.set_ylim(0, 3)\n",
    "    ax.set_xlabel(\"$k_t$\", fontsize=fontsize)\n",
    "    ax.set_ylabel(\"$k_{t+1}$\", fontsize=fontsize)"
   ]
  },
  {
   "cell_type": "markdown",
   "id": "a4fc51e9",
   "metadata": {},
   "source": [
    "让我们看看两个参数化的45度图。"
   ]
  },
  {
   "cell_type": "code",
   "execution_count": null,
   "id": "3bd73fe6",
   "metadata": {
    "hide-output": false
   },
   "outputs": [],
   "source": [
    "params = create_solow_params()\n",
    "fig, ax = plt.subplots(figsize=(8, 8))\n",
    "plot_45(params, ax)\n",
    "plt.show()"
   ]
  },
  {
   "cell_type": "code",
   "execution_count": null,
   "id": "34f84541",
   "metadata": {
    "hide-output": false
   },
   "outputs": [],
   "source": [
    "params = create_solow_params(α=0.05, δ=0.5)\n",
    "fig, ax = plt.subplots(figsize=(8, 8))\n",
    "plot_45(params, ax)\n",
    "plt.show()"
   ]
  },
  {
   "cell_type": "markdown",
   "id": "c914ddef",
   "metadata": {},
   "source": [
    "我们看到 $ k^* $ 确实是唯一的正固定点。"
   ]
  },
  {
   "cell_type": "markdown",
   "id": "2af6ebf8",
   "metadata": {},
   "source": [
    "#### 连续近似法\n",
    "\n",
    "首先让我们用连续近似法来计算固定点。\n",
    "\n",
    "在这种情况下，连续近似法意味着从某个初始状态 $ k_0 $ 开始，使用运动规律反复更新资本。\n",
    "\n",
    "这里是从特定选择的 $ k_0 $ 得到的时间序列。"
   ]
  },
  {
   "cell_type": "code",
   "execution_count": null,
   "id": "17dd396b",
   "metadata": {
    "hide-output": false
   },
   "outputs": [],
   "source": [
    "def compute_iterates(k_0, f, params, n=25):\n",
    "    \"计算由任意函数f生成的长度为n的时间序列。\"\n",
    "    k = k_0\n",
    "    k_iterates = []\n",
    "    for t in range(n):\n",
    "        k_iterates.append(k)\n",
    "        k = f(k, params)\n",
    "    return k_iterates"
   ]
  },
  {
   "cell_type": "code",
   "execution_count": null,
   "id": "743f80a3",
   "metadata": {
    "hide-output": false
   },
   "outputs": [],
   "source": [
    "params = create_solow_params()\n",
    "k_0 = 0.25\n",
    "k_series = compute_iterates(k_0, g, params)\n",
    "k_star = exact_fixed_point(params)\n",
    "\n",
    "fig, ax = plt.subplots()\n",
    "ax.plot(k_series, 'o')\n",
    "ax.plot([k_star] * len(k_series), 'k--')\n",
    "ax.set_ylim(0, 3)\n",
    "plt.show()"
   ]
  },
  {
   "cell_type": "markdown",
   "id": "76f1df62",
   "metadata": {},
   "source": [
    "让我们看看长时间序列的输出。"
   ]
  },
  {
   "cell_type": "code",
   "execution_count": null,
   "id": "30dc823a",
   "metadata": {
    "hide-output": false
   },
   "outputs": [],
   "source": [
    "k_series = compute_iterates(k_0, g, params, n=10_000)\n",
    "k_star_approx = k_series[-1]\n",
    "k_star_approx"
   ]
  },
  {
   "cell_type": "markdown",
   "id": "7d170206",
   "metadata": {},
   "source": [
    "这接近真实值。\n",
    "\n",
    "\n",
    "<a id='solved-k'></a>"
   ]
  },
  {
   "cell_type": "code",
   "execution_count": null,
   "id": "569ddea8",
   "metadata": {
    "hide-output": false
   },
   "outputs": [],
   "source": [
    "k_star"
   ]
  },
  {
   "cell_type": "markdown",
   "id": "a03123f2",
   "metadata": {},
   "source": [
    "#### 牛顿法\n",
    "\n",
    "一般来说，当对某个函数$ g $应用牛顿不动点法时，我们从一个不动点的猜测值$ x_0 $开始，然后通过求解$ x_0 $处切线的不动点来更新。\n",
    "\n",
    "首先，我们回顾一下$ g $在$ x_0 $处的一阶近似（即$ g $在$ x_0 $处的一阶泰勒近似）是以下函数：\n",
    "\n",
    "\n",
    "<a id='equation-motivation'></a>\n",
    "$$\n",
    "\\hat g(x) \\approx g(x_0)+g'(x_0)(x-x_0) \\tag{7.2}\n",
    "$$\n",
    "\n",
    "我们通过计算满足以下等式的$ x_1 $来求解$ \\hat g $的不动点：\n",
    "\n",
    "$$\n",
    "x_1=\\frac{g(x_0)-g'(x_0) x_0}{1-g'(x_0)}\n",
    "$$\n",
    "\n",
    "推广上述过程，牛顿不动点法的迭代公式为：\n",
    "\n",
    "\n",
    "<a id='equation-newtons-method'></a>\n",
    "$$\n",
    "x_{t+1} = \\frac{g(x_t) - g'(x_t) x_t}{ 1 - g'(x_t) },\n",
    "\\quad x_0 \\text{ 给定} \\tag{7.3}\n",
    "$$\n",
    "\n",
    "要实现牛顿法，我们观察到资本运动定律[(7.1)](#equation-motion-law)的导数为：\n",
    "\n",
    "\n",
    "<a id='equation-newton-method2'></a>\n",
    "$$\n",
    "g'(k) = \\alpha s A k^{\\alpha-1} + (1-\\delta) \\tag{7.4}\n",
    "$$\n",
    "\n",
    "让我们定义这个："
   ]
  },
  {
   "cell_type": "code",
   "execution_count": null,
   "id": "2245caca",
   "metadata": {
    "hide-output": false
   },
   "outputs": [],
   "source": [
    "def Dg(k, params):\n",
    "    A, s, α, δ = params\n",
    "    return α * A * s * k**(α-1) + (1 - δ)"
   ]
  },
  {
   "cell_type": "markdown",
   "id": "0f1f89e8",
   "metadata": {},
   "source": [
    "这里有一个函数 $ q $ 表示 [(7.3)](#equation-newtons-method)。"
   ]
  },
  {
   "cell_type": "code",
   "execution_count": null,
   "id": "0c89e490",
   "metadata": {
    "hide-output": false
   },
   "outputs": [],
   "source": [
    "def q(k, params):\n",
    "    return (g(k, params) - Dg(k, params) * k) / (1 - Dg(k, params))"
   ]
  },
  {
   "cell_type": "markdown",
   "id": "b85584ef",
   "metadata": {},
   "source": [
    "现在让我们绘制一些轨迹。"
   ]
  },
  {
   "cell_type": "code",
   "execution_count": null,
   "id": "eb71a6db",
   "metadata": {
    "hide-output": false
   },
   "outputs": [],
   "source": [
    "def plot_trajectories(params, \n",
    "                      k0_a=0.8,  # 第一个初始条件\n",
    "                      k0_b=3.1,  # 第二个初始条件\n",
    "                      n=20,      # 时间序列长度\n",
    "                      fs=14):    # 字体大小\n",
    "\n",
    "    fig, axes = plt.subplots(2, 1, figsize=(10, 6))\n",
    "    ax1, ax2 = axes\n",
    "\n",
    "    ks1 = compute_iterates(k0_a, g, params, n)\n",
    "    ax1.plot(ks1, \"-o\", label=\"连续近似\")\n",
    "\n",
    "    ks2 = compute_iterates(k0_b, g, params, n)\n",
    "    ax2.plot(ks2, \"-o\", label=\"连续近似\")\n",
    "\n",
    "    ks3 = compute_iterates(k0_a, q, params, n)\n",
    "    ax1.plot(ks3, \"-o\", label=\"牛顿步骤\")\n",
    "\n",
    "    ks4 = compute_iterates(k0_b, q, params, n)\n",
    "    ax2.plot(ks4, \"-o\", label=\"牛顿步骤\")\n",
    "\n",
    "    for ax in axes:\n",
    "        ax.plot(k_star * np.ones(n), \"k--\")\n",
    "        ax.legend(fontsize=fs, frameon=False)\n",
    "        ax.set_ylim(0.6, 3.2)\n",
    "        ax.set_yticks((k_star,))\n",
    "        ax.set_yticklabels((\"$k^*$\",), fontsize=fs)\n",
    "        ax.set_xticks(np.linspace(0, 19, 20))\n",
    "        \n",
    "    plt.show()"
   ]
  },
  {
   "cell_type": "code",
   "execution_count": null,
   "id": "94b64f51",
   "metadata": {
    "hide-output": false
   },
   "outputs": [],
   "source": [
    "params = create_solow_params()\n",
    "plot_trajectories(params)"
   ]
  },
  {
   "cell_type": "markdown",
   "id": "b2b5e717",
   "metadata": {},
   "source": [
    "我们可以看到牛顿法比连续逼近法收敛得更快。"
   ]
  },
  {
   "cell_type": "markdown",
   "id": "261d3e87",
   "metadata": {},
   "source": [
    "## 一维寻根\n",
    "\n",
    "在上一节中我们计算了不动点。\n",
    "\n",
    "事实上，牛顿法更常与寻找函数零点的问题相关联。\n",
    "\n",
    "让我们讨论这个”寻根”问题，然后说明它与寻找不动点的问题是如何联系的。"
   ]
  },
  {
   "cell_type": "markdown",
   "id": "fd67d37c",
   "metadata": {},
   "source": [
    "### 牛顿法求零点\n",
    "\n",
    "假设我们想要找到一个 $ x $ 使得对某个光滑函数 $ f $ (从实数映射到实数)有 $ f(x)=0 $。\n",
    "\n",
    "假设我们有一个猜测值 $ x_0 $ 并且想要将其更新为新的点 $ x_1 $。\n",
    "\n",
    "作为第一步，我们取 $ f $ 在 $ x_0 $ 处的一阶近似：\n",
    "\n",
    "$$\n",
    "\\hat f(x) \\approx f\\left(x_0\\right)+f^{\\prime}\\left(x_0\\right)\\left(x-x_0\\right)\n",
    "$$\n",
    "\n",
    "现在我们求解 $ \\hat f $ 的零点。\n",
    "\n",
    "具体来说，我们令 $ \\hat{f}(x_1) = 0 $ 并求解 $ x_1 $，得到\n",
    "\n",
    "$$\n",
    "x_1 = x_0 - \\frac{ f(x_0) }{ f'(x_0) },\n",
    "\\quad x_0 \\text{ 已知}\n",
    "$$\n",
    "\n",
    "对于一维零点查找问题，牛顿法的迭代公式可以概括为\n",
    "\n",
    "\n",
    "<a id='equation-oned-newton'></a>\n",
    "$$\n",
    "x_{t+1} = x_t - \\frac{ f(x_t) }{ f'(x_t) },\n",
    "\\quad x_0 \\text{ 给定} \\tag{7.5}\n",
    "$$\n",
    "\n",
    "以下代码实现了迭代公式 [(7.5)](#equation-oned-newton)\n",
    "\n",
    "\n",
    "<a id='first-newton-attempt'></a>"
   ]
  },
  {
   "cell_type": "code",
   "execution_count": null,
   "id": "63701b5b",
   "metadata": {
    "hide-output": false
   },
   "outputs": [],
   "source": [
    "def newton(f, Df, x_0, tol=1e-7, max_iter=100_000):\n",
    "    x = x_0\n",
    "\n",
    "    # 实现零点查找公式\n",
    "    def q(x):\n",
    "        return x - f(x) / Df(x)\n",
    "\n",
    "    error = tol + 1\n",
    "    n = 0\n",
    "    while error > tol:\n",
    "        n += 1\n",
    "        if(n > max_iter):\n",
    "            raise Exception('达到最大迭代次数但未收敛')\n",
    "        y = q(x)\n",
    "        error = np.abs(x - y)\n",
    "        x = y\n",
    "        print(f'迭代 {n}, 误差 = {error:.5f}')\n",
    "    return x"
   ]
  },
  {
   "cell_type": "markdown",
   "id": "5f6014d3",
   "metadata": {},
   "source": [
    "许多库都实现了一维牛顿法，包括SciPy，所以这里的代码仅作说明用途。\n",
    "\n",
    "（话虽如此，当我们想要使用自动微分或GPU加速等技术来应用牛顿法时，了解如何自己实现牛顿法会很有帮助。）"
   ]
  },
  {
   "cell_type": "markdown",
   "id": "9789d9bb",
   "metadata": {},
   "source": [
    "### 在寻找不动点中的应用\n",
    "\n",
    "现在再次考虑索洛不动点计算，我们要求解满足$ g(k) = k $的$ k $值。\n",
    "\n",
    "我们可以通过设定$ f(x) := g(x)-x $将其转换为零点寻找问题。\n",
    "\n",
    "显然，$ f $的任何零点都是$ g $的不动点。\n",
    "\n",
    "让我们将这个想法应用到索洛问题中"
   ]
  },
  {
   "cell_type": "code",
   "execution_count": null,
   "id": "b9006b9e",
   "metadata": {
    "hide-output": false
   },
   "outputs": [],
   "source": [
    "params = create_solow_params()\n",
    "k_star_approx_newton = newton(f=lambda x: g(x, params) - x,\n",
    "                              Df=lambda x: Dg(x, params) - 1,\n",
    "                              x_0=0.8)"
   ]
  },
  {
   "cell_type": "code",
   "execution_count": null,
   "id": "aa547dc9",
   "metadata": {
    "hide-output": false
   },
   "outputs": [],
   "source": [
    "k_star_approx_newton"
   ]
  },
  {
   "cell_type": "markdown",
   "id": "0c670604",
   "metadata": {},
   "source": [
    "结果证实了我们在上面图表中看到的收敛情况：仅需5次迭代就达到了非常精确的结果。"
   ]
  },
  {
   "cell_type": "markdown",
   "id": "6781cc35",
   "metadata": {},
   "source": [
    "## 多元牛顿法\n",
    "\n",
    "在本节中，我们将介绍一个双商品问题，展示问题的可视化，并使用`SciPy`中的零点查找器和牛顿法来求解这个双商品市场的均衡。\n",
    "\n",
    "然后，我们将这个概念扩展到一个包含5,000种商品的更大市场，并再次比较这两种方法的性能。\n",
    "\n",
    "我们将看到使用牛顿法时能获得显著的性能提升。\n",
    "\n",
    "\n",
    "<a id='two-goods-market'></a>"
   ]
  },
  {
   "cell_type": "markdown",
   "id": "79002e5c",
   "metadata": {},
   "source": [
    "### 双商品市场均衡\n",
    "\n",
    "让我们从计算双商品问题的市场均衡开始。\n",
    "\n",
    "我们考虑一个包含两种相关产品的市场，商品0和商品1，价格向量为$ p = (p_0, p_1) $\n",
    "\n",
    "在价格$ p $下，商品$ i $的供给为，\n",
    "\n",
    "$$\n",
    "q^s_i (p) = b_i \\sqrt{p_i}\n",
    "$$\n",
    "\n",
    "在价格$ p $下，商品$ i $的需求为，\n",
    "\n",
    "$$\n",
    "q^d_i (p) = \\exp(-(a_{i0} p_0 + a_{i1} p_1)) + c_i\n",
    "$$\n",
    "\n",
    "这里的$ c_i $、$ b_i $和$ a_{ij} $都是参数。\n",
    "\n",
    "例如，这两种商品可能是通常一起使用的计算机组件，在这种情况下它们是互补品。因此需求取决于两种组件的价格。\n",
    "\n",
    "超额需求函数为，\n",
    "\n",
    "$$\n",
    "e_i(p) = q^d_i(p) - q^s_i(p), \\quad i = 0, 1\n",
    "$$\n",
    "\n",
    "均衡价格向量$ p^* $满足$ e_i(p^*) = 0 $。\n",
    "\n",
    "我们设定\n",
    "\n",
    "$$\n",
    "A = \\begin{pmatrix}\n",
    "            a_{00} & a_{01} \\\\\n",
    "            a_{10} & a_{11}\n",
    "        \\end{pmatrix},\n",
    "            \\qquad \n",
    "    b = \\begin{pmatrix}\n",
    "            b_0 \\\\\n",
    "            b_1\n",
    "        \\end{pmatrix}\n",
    "    \\qquad \\text{和} \\qquad\n",
    "    c = \\begin{pmatrix}\n",
    "            c_0 \\\\\n",
    "            c_1\n",
    "        \\end{pmatrix}\n",
    "$$\n",
    "\n",
    "用于这个特定问题。"
   ]
  },
  {
   "cell_type": "markdown",
   "id": "77f8e5d3",
   "metadata": {},
   "source": [
    "#### 图形化探索\n",
    "\n",
    "由于我们的问题只是二维的，我们可以使用图形分析来可视化并帮助理解这个问题。\n",
    "\n",
    "我们的第一步是定义超额需求函数\n",
    "\n",
    "$$\n",
    "e(p) = \n",
    "    \\begin{pmatrix}\n",
    "    e_0(p) \\\\\n",
    "    e_1(p)\n",
    "    \\end{pmatrix}\n",
    "$$\n",
    "\n",
    "下面的函数计算给定参数的超额需求"
   ]
  },
  {
   "cell_type": "code",
   "execution_count": null,
   "id": "742ac67a",
   "metadata": {
    "hide-output": false
   },
   "outputs": [],
   "source": [
    "def e(p, A, b, c):\n",
    "    return np.exp(- A @ p) + c - b * np.sqrt(p)"
   ]
  },
  {
   "cell_type": "markdown",
   "id": "201b123d",
   "metadata": {},
   "source": [
    "我们的默认参数值将是\n",
    "\n",
    "$$\n",
    "A = \\begin{pmatrix}\n",
    "            0.5 & 0.4 \\\\\n",
    "            0.8 & 0.2\n",
    "        \\end{pmatrix},\n",
    "            \\qquad \n",
    "    b = \\begin{pmatrix}\n",
    "            1 \\\\\n",
    "            1\n",
    "        \\end{pmatrix}\n",
    "    \\qquad \\text{和} \\qquad\n",
    "    c = \\begin{pmatrix}\n",
    "            1 \\\\\n",
    "            1\n",
    "        \\end{pmatrix}\n",
    "$$"
   ]
  },
  {
   "cell_type": "code",
   "execution_count": null,
   "id": "48dc6102",
   "metadata": {
    "hide-output": false
   },
   "outputs": [],
   "source": [
    "A = np.array([\n",
    "    [0.5, 0.4],\n",
    "    [0.8, 0.2]\n",
    "])\n",
    "b = np.ones(2)\n",
    "c = np.ones(2)"
   ]
  },
  {
   "cell_type": "markdown",
   "id": "2d1c8342",
   "metadata": {},
   "source": [
    "在价格水平 $ p = (1, 0.5) $ 时，超额需求为"
   ]
  },
  {
   "cell_type": "code",
   "execution_count": null,
   "id": "761a1c4a",
   "metadata": {
    "hide-output": false
   },
   "outputs": [],
   "source": [
    "ex_demand = e((1.0, 0.5), A, b, c)\n",
    "\n",
    "print(f'商品0的超额需求为 {ex_demand[0]:.3f} \\n'\n",
    "      f'商品1的超额需求为 {ex_demand[1]:.3f}')"
   ]
  },
  {
   "cell_type": "markdown",
   "id": "de8b5d9b",
   "metadata": {},
   "source": [
    "接下来我们在$ (p_0, p_1) $值的网格上绘制两个函数$ e_0 $和$ e_1 $的等高线图和曲面。\n",
    "\n",
    "我们将使用以下函数来构建等高线图"
   ]
  },
  {
   "cell_type": "code",
   "execution_count": null,
   "id": "5b73d1af",
   "metadata": {
    "hide-output": false
   },
   "outputs": [],
   "source": [
    "def plot_excess_demand(ax, good=0, grid_size=100, grid_max=4, surface=True):\n",
    "\n",
    "    # Create a 100x100 grid\n",
    "    p_grid = np.linspace(0, grid_max, grid_size)\n",
    "    z = np.empty((100, 100))\n",
    "\n",
    "    for i, p_1 in enumerate(p_grid):\n",
    "        for j, p_2 in enumerate(p_grid):\n",
    "            z[i, j] = e((p_1, p_2), A, b, c)[good]\n",
    "\n",
    "    if surface:\n",
    "        cs1 = ax.contourf(p_grid, p_grid, z.T, alpha=0.5)\n",
    "        plt.colorbar(cs1, ax=ax, format=\"%.6f\")\n",
    "\n",
    "    ctr1 = ax.contour(p_grid, p_grid, z.T, levels=[0.0])\n",
    "    ax.set_xlabel(\"$p_0$\")\n",
    "    ax.set_ylabel(\"$p_1$\")\n",
    "    ax.set_title(f'Excess Demand for Good {good}')\n",
    "    plt.clabel(ctr1, inline=1, fontsize=13)"
   ]
  },
  {
   "cell_type": "markdown",
   "id": "fc9af0ca",
   "metadata": {},
   "source": [
    "这是我们对 $ e_0 $ 的绘图："
   ]
  },
  {
   "cell_type": "code",
   "execution_count": null,
   "id": "e34203ae",
   "metadata": {
    "hide-output": false
   },
   "outputs": [],
   "source": [
    "fig, ax = plt.subplots()\n",
    "plot_excess_demand(ax, good=0)\n",
    "plt.show()"
   ]
  },
  {
   "cell_type": "markdown",
   "id": "468d757f",
   "metadata": {},
   "source": [
    "这是我们对 $ e_1 $ 的绘图："
   ]
  },
  {
   "cell_type": "code",
   "execution_count": null,
   "id": "2d94d939",
   "metadata": {
    "hide-output": false
   },
   "outputs": [],
   "source": [
    "fig, ax = plt.subplots()\n",
    "plot_excess_demand(ax, good=1)\n",
    "plt.show()"
   ]
  },
  {
   "cell_type": "markdown",
   "id": "c9149100",
   "metadata": {},
   "source": [
    "我们看到黑色的零等高线，它告诉我们何时$ e_i(p)=0 $。\n",
    "\n",
    "对于使得$ e_i(p)=0 $的价格向量$ p $，我们知道商品$ i $处于均衡状态（需求等于供给）。\n",
    "\n",
    "如果这两条等高线在某个价格向量$ p^* $处相交，那么$ p^* $就是一个均衡价格向量。"
   ]
  },
  {
   "cell_type": "code",
   "execution_count": null,
   "id": "8cb05562",
   "metadata": {
    "hide-output": false
   },
   "outputs": [],
   "source": [
    "fig, ax = plt.subplots(figsize=(10, 5.7))\n",
    "for good in (0, 1):\n",
    "    plot_excess_demand(ax, good=good, surface=False)\n",
    "plt.show()"
   ]
  },
  {
   "cell_type": "markdown",
   "id": "f77feba1",
   "metadata": {},
   "source": [
    "看起来在 $ p = (1.6, 1.5) $ 附近存在一个均衡点。"
   ]
  },
  {
   "cell_type": "markdown",
   "id": "47f6595a",
   "metadata": {},
   "source": [
    "#### 使用多维根查找器\n",
    "\n",
    "为了更精确地求解 $ p^* $，我们使用 `scipy.optimize` 中的零点查找算法。\n",
    "\n",
    "我们以 $ p = (1, 1) $ 作为初始猜测值。"
   ]
  },
  {
   "cell_type": "code",
   "execution_count": null,
   "id": "c4199f1a",
   "metadata": {
    "hide-output": false
   },
   "outputs": [],
   "source": [
    "init_p = np.ones(2)"
   ]
  },
  {
   "cell_type": "markdown",
   "id": "6c477b58",
   "metadata": {},
   "source": [
    "这使用[改进的Powell方法](https://docs.scipy.org/doc/scipy/reference/optimize.root-hybr.html#optimize-root-hybr)来寻找零点"
   ]
  },
  {
   "cell_type": "code",
   "execution_count": null,
   "id": "fa396919",
   "metadata": {
    "hide-output": false
   },
   "outputs": [],
   "source": [
    "%%time\n",
    "solution = root(lambda p: e(p, A, b, c), init_p, method='hybr')"
   ]
  },
  {
   "cell_type": "markdown",
   "id": "409df1c2",
   "metadata": {},
   "source": [
    "这是得到的值："
   ]
  },
  {
   "cell_type": "code",
   "execution_count": null,
   "id": "d6ca9f3e",
   "metadata": {
    "hide-output": false
   },
   "outputs": [],
   "source": [
    "p = solution.x\n",
    "p"
   ]
  },
  {
   "cell_type": "markdown",
   "id": "4d3507db",
   "metadata": {},
   "source": [
    "这个结果看起来和我们从图中观察到的猜测很接近。我们可以把它代回到 $ e $ 中验证 $ e(p) \\approx 0 $："
   ]
  },
  {
   "cell_type": "code",
   "execution_count": null,
   "id": "76635a40",
   "metadata": {
    "hide-output": false
   },
   "outputs": [],
   "source": [
    "np.max(np.abs(e(p, A, b, c)))"
   ]
  },
  {
   "cell_type": "markdown",
   "id": "72efd628",
   "metadata": {},
   "source": [
    "这确实是一个很小的误差。"
   ]
  },
  {
   "cell_type": "markdown",
   "id": "ce9d13a4",
   "metadata": {},
   "source": [
    "#### 添加梯度信息\n",
    "\n",
    "在许多情况下，对于应用于光滑函数的零点查找算法，提供函数的[雅可比矩阵](https://en.wikipedia.org/wiki/Jacobian_matrix_and_determinant)可以带来更好的收敛性质。\n",
    "\n",
    "这里我们手动计算雅可比矩阵的元素\n",
    "\n",
    "$$\n",
    "J(p) = \n",
    "    \\begin{pmatrix}\n",
    "        \\frac{\\partial e_0}{\\partial p_0}(p) & \\frac{\\partial e_0}{\\partial p_1}(p) \\\\\n",
    "        \\frac{\\partial e_1}{\\partial p_0}(p) & \\frac{\\partial e_1}{\\partial p_1}(p)\n",
    "    \\end{pmatrix}\n",
    "$$"
   ]
  },
  {
   "cell_type": "code",
   "execution_count": null,
   "id": "8c50372a",
   "metadata": {
    "hide-output": false
   },
   "outputs": [],
   "source": [
    "def jacobian_e(p, A, b, c):\n",
    "    p_0, p_1 = p\n",
    "    a_00, a_01 = A[0, :]\n",
    "    a_10, a_11 = A[1, :]\n",
    "    j_00 = -a_00 * np.exp(-a_00 * p_0) - (b[0]/2) * p_0**(-1/2)\n",
    "    j_01 = -a_01 * np.exp(-a_01 * p_1)\n",
    "    j_10 = -a_10 * np.exp(-a_10 * p_0)\n",
    "    j_11 = -a_11 * np.exp(-a_11 * p_1) - (b[1]/2) * p_1**(-1/2)\n",
    "    J = [[j_00, j_01],\n",
    "         [j_10, j_11]]\n",
    "    return np.array(J)"
   ]
  },
  {
   "cell_type": "code",
   "execution_count": null,
   "id": "b5c9cf35",
   "metadata": {
    "hide-output": false
   },
   "outputs": [],
   "source": [
    "%%time\n",
    "solution = root(lambda p: e(p, A, b, c),\n",
    "                init_p, \n",
    "                jac=lambda p: jacobian_e(p, A, b, c), \n",
    "                method='hybr')"
   ]
  },
  {
   "cell_type": "markdown",
   "id": "4eed9802",
   "metadata": {},
   "source": [
    "现在的解更加精确了（尽管在这个低维问题中，差异非常小）："
   ]
  },
  {
   "cell_type": "code",
   "execution_count": null,
   "id": "fc702d9f",
   "metadata": {
    "hide-output": false
   },
   "outputs": [],
   "source": [
    "p = solution.x\n",
    "np.max(np.abs(e(p, A, b, c)))"
   ]
  },
  {
   "cell_type": "markdown",
   "id": "5e858739",
   "metadata": {},
   "source": [
    "#### 使用牛顿法\n",
    "\n",
    "现在让我们使用牛顿法来计算均衡价格，采用多变量版本的牛顿法\n",
    "\n",
    "\n",
    "<a id='equation-multi-newton'></a>\n",
    "$$\n",
    "p_{n+1} = p_n - J_e(p_n)^{-1} e(p_n) \\tag{7.6}\n",
    "$$\n",
    "\n",
    "这是[(7.5)](#equation-oned-newton)的多变量版本\n",
    "\n",
    "（这里的$ J_e(p_n) $是在$ p_n $处计算的$ e $的雅可比矩阵。）\n",
    "\n",
    "迭代从价格向量$ p_0 $的某个初始猜测开始。\n",
    "\n",
    "在这里，我们不手动编写雅可比矩阵，而是使用`autograd`库中的`jacobian()`函数来自动求导并计算雅可比矩阵。\n",
    "\n",
    "只需稍作修改，我们就可以将[我们之前的尝试](#first-newton-attempt)推广到多维问题"
   ]
  },
  {
   "cell_type": "code",
   "execution_count": null,
   "id": "433631d1",
   "metadata": {
    "hide-output": false
   },
   "outputs": [],
   "source": [
    "def newton(f, x_0, tol=1e-5, max_iter=10):\n",
    "    x = x_0\n",
    "    q = lambda x: x - np.linalg.solve(jacobian(f)(x), f(x))\n",
    "    error = tol + 1\n",
    "    n = 0\n",
    "    while error > tol:\n",
    "        n+=1\n",
    "        if(n > max_iter):\n",
    "            raise Exception('Max iteration reached without convergence')\n",
    "        y = q(x)\n",
    "        if(any(np.isnan(y))):\n",
    "            raise Exception('Solution not found with NaN generated')\n",
    "        error = np.linalg.norm(x - y)\n",
    "        x = y\n",
    "        print(f'iteration {n}, error = {error:.5f}')\n",
    "    print('\\n' + f'Result = {x} \\n')\n",
    "    return x"
   ]
  },
  {
   "cell_type": "code",
   "execution_count": null,
   "id": "acd0e349",
   "metadata": {
    "hide-output": false
   },
   "outputs": [],
   "source": [
    "def e(p, A, b, c):\n",
    "    return np.exp(- np.dot(A, p)) + c - b * np.sqrt(p)"
   ]
  },
  {
   "cell_type": "markdown",
   "id": "c44217df",
   "metadata": {},
   "source": [
    "我们发现算法在4步内终止"
   ]
  },
  {
   "cell_type": "code",
   "execution_count": null,
   "id": "20ac94cd",
   "metadata": {
    "hide-output": false
   },
   "outputs": [],
   "source": [
    "%%time\n",
    "p = newton(lambda p: e(p, A, b, c), init_p)"
   ]
  },
  {
   "cell_type": "code",
   "execution_count": null,
   "id": "4cffd250",
   "metadata": {
    "hide-output": false
   },
   "outputs": [],
   "source": [
    "np.max(np.abs(e(p, A, b, c)))"
   ]
  },
  {
   "cell_type": "markdown",
   "id": "46396cf9",
   "metadata": {},
   "source": [
    "结果非常准确。\n",
    "\n",
    "由于较大的开销，速度并不比优化后的 `scipy` 函数更好。"
   ]
  },
  {
   "cell_type": "markdown",
   "id": "6b6b8155",
   "metadata": {},
   "source": [
    "### 高维问题\n",
    "\n",
    "我们的下一步是研究一个有3,000种商品的大型市场。\n",
    "\n",
    "使用GPU加速线性代数和自动微分的JAX版本可在[此处](https://jax.quantecon.org/newtons_method.html#application)获取\n",
    "\n",
    "超额需求函数基本相同，但现在矩阵 $ A $ 是 $ 3000 \\times 3000 $ 的，参数向量 $ b $ 和 $ c $ 是 $ 3000 \\times 1 $ 的。"
   ]
  },
  {
   "cell_type": "code",
   "execution_count": null,
   "id": "05c58d45",
   "metadata": {
    "hide-output": false
   },
   "outputs": [],
   "source": [
    "dim = 3000\n",
    "np.random.seed(123)\n",
    "\n",
    "# 创建随机矩阵A并将行归一化使其和为1\n",
    "A = np.random.rand(dim, dim)\n",
    "A = np.asarray(A)\n",
    "s = np.sum(A, axis=0)\n",
    "A = A / s\n",
    "\n",
    "# 设置b和c\n",
    "b = np.ones(dim)\n",
    "c = np.ones(dim)"
   ]
  },
  {
   "cell_type": "markdown",
   "id": "4a90d571",
   "metadata": {},
   "source": [
    "这是我们的初始条件"
   ]
  },
  {
   "cell_type": "code",
   "execution_count": null,
   "id": "c0c10eb9",
   "metadata": {
    "hide-output": false
   },
   "outputs": [],
   "source": [
    "init_p = np.ones(dim)"
   ]
  },
  {
   "cell_type": "code",
   "execution_count": null,
   "id": "14c4bdbf",
   "metadata": {
    "hide-output": false
   },
   "outputs": [],
   "source": [
    "%%time\n",
    "p = newton(lambda p: e(p, A, b, c), init_p)"
   ]
  },
  {
   "cell_type": "code",
   "execution_count": null,
   "id": "28433ee8",
   "metadata": {
    "hide-output": false
   },
   "outputs": [],
   "source": [
    "np.max(np.abs(e(p, A, b, c)))"
   ]
  },
  {
   "cell_type": "markdown",
   "id": "3b9a1438",
   "metadata": {},
   "source": [
    "在相同的容差条件下，我们比较牛顿法与SciPy的`root`函数的运行时间和精确度"
   ]
  },
  {
   "cell_type": "code",
   "execution_count": null,
   "id": "e2807147",
   "metadata": {
    "hide-output": false
   },
   "outputs": [],
   "source": [
    "%%time\n",
    "solution = root(lambda p: e(p, A, b, c),\n",
    "                init_p, \n",
    "                jac=lambda p: jacobian(e)(p, A, b, c), \n",
    "                method='hybr',\n",
    "                tol=1e-5)"
   ]
  },
  {
   "cell_type": "code",
   "execution_count": null,
   "id": "dc64c3c7",
   "metadata": {
    "hide-output": false
   },
   "outputs": [],
   "source": [
    "p = solution.x\n",
    "np.max(np.abs(e(p, A, b, c)))"
   ]
  },
  {
   "cell_type": "markdown",
   "id": "ae496e9f",
   "metadata": {},
   "source": [
    "## 练习"
   ]
  },
  {
   "cell_type": "markdown",
   "id": "2e30121d",
   "metadata": {},
   "source": [
    "## Exercise 7.1\n",
    "\n",
    "考虑索洛固定点问题的三维扩展，其中\n",
    "\n",
    "$$\n",
    "A = \\begin{pmatrix}\n",
    "            2 & 3 & 3 \\\\\n",
    "            2 & 4 & 2 \\\\\n",
    "            1 & 5 & 1 \\\\\n",
    "        \\end{pmatrix},\n",
    "            \\quad\n",
    "s = 0.2, \\quad α = 0.5, \\quad δ = 0.8\n",
    "$$\n",
    "\n",
    "和之前一样，运动方程为\n",
    "\n",
    "$$\n",
    "k_{t+1} = g(k_t) \\quad \\text{where} \\quad\n",
    "    g(k) := sAk^\\alpha + (1-\\delta) k\n",
    "$$\n",
    "\n",
    "但现在 $ k_t $ 是一个 $ 3 \\times 1 $ 向量。\n",
    "\n",
    "使用牛顿法求解固定点，初始值如下：\n",
    "\n",
    "$$\n",
    "\\begin{aligned}\n",
    "    k1_{0} &= (1, 1, 1) \\\\\n",
    "    k2_{0} &= (3, 5, 5) \\\\\n",
    "    k3_{0} &= (50, 50, 50)\n",
    "\\end{aligned}\n",
    "$$\n",
    "\n",
    "- 固定点的计算等价于计算满足 $ f(k^*) - k^* = 0 $ 的 $ k^* $。  \n",
    "- 如果你对你的解决方案不确定，可以从已解决的示例开始：  \n",
    "\n",
    "\n",
    "$$\n",
    "A = \\begin{pmatrix}\n",
    "            2 & 0 & 0 \\\\\n",
    "            0 & 2 & 0 \\\\\n",
    "\n",
    "0 & 0 & 2 \\\\\n",
    "        \\end{pmatrix}\n",
    "$$\n",
    "\n",
    "其中 $ s = 0.3 $、$ α = 0.3 $ 和 $ δ = 0.4 $，初始值为：\n",
    "\n",
    "$$\n",
    "k_0 = (1, 1, 1)\n",
    "$$\n",
    "\n",
    "结果应该收敛到[解析解](#solved-k)。"
   ]
  },
  {
   "cell_type": "markdown",
   "id": "8514d892",
   "metadata": {},
   "source": [
    "## Solution to[ Exercise 7.1](https://python.quantecon.org/#newton_ex1)\n",
    "\n",
    "让我们首先定义这个问题的参数"
   ]
  },
  {
   "cell_type": "code",
   "execution_count": null,
   "id": "ca0aca2d",
   "metadata": {
    "hide-output": false
   },
   "outputs": [],
   "source": [
    "A = np.array([[2.0, 3.0, 3.0],\n",
    "              [2.0, 4.0, 2.0],\n",
    "              [1.0, 5.0, 1.0]])\n",
    "\n",
    "s = 0.2\n",
    "α = 0.5\n",
    "δ = 0.8\n",
    "\n",
    "initLs = [np.ones(3),\n",
    "          np.array([3.0, 5.0, 5.0]),\n",
    "          np.repeat(50.0, 3)]"
   ]
  },
  {
   "cell_type": "markdown",
   "id": "a06cad20",
   "metadata": {},
   "source": [
    "然后定义[(7.1)](#equation-motion-law)的多元版本"
   ]
  },
  {
   "cell_type": "code",
   "execution_count": null,
   "id": "f9a7a3f2",
   "metadata": {
    "hide-output": false
   },
   "outputs": [],
   "source": [
    "def multivariate_solow(k, A=A, s=s, α=α, δ=δ):\n",
    "    return (s * np.dot(A, k**α) + (1 - δ) * k)"
   ]
  },
  {
   "cell_type": "markdown",
   "id": "a45c4b98",
   "metadata": {},
   "source": [
    "让我们遍历每个初始值并查看输出结果"
   ]
  },
  {
   "cell_type": "code",
   "execution_count": null,
   "id": "47ae3aea",
   "metadata": {
    "hide-output": false
   },
   "outputs": [],
   "source": [
    "attempt = 1\n",
    "for init in initLs:\n",
    "    print(f'尝试 {attempt}: 初始值为 {init} \\n')\n",
    "    %time k = newton(lambda k: multivariate_solow(k) - k, \\\n",
    "                    init)\n",
    "    print('-'*64)\n",
    "    attempt += 1"
   ]
  },
  {
   "cell_type": "markdown",
   "id": "14761ef5",
   "metadata": {},
   "source": [
    "我们发现，由于这个问题具有明确定义的性质，结果与初始值无关。\n",
    "\n",
    "但是收敛所需的迭代次数取决于初始值。\n",
    "\n",
    "让我们把输出结果代回公式中验证我们的最终结果"
   ]
  },
  {
   "cell_type": "code",
   "execution_count": null,
   "id": "fd8b8f3e",
   "metadata": {
    "hide-output": false
   },
   "outputs": [],
   "source": [
    "multivariate_solow(k) - k"
   ]
  },
  {
   "cell_type": "markdown",
   "id": "21bc0450",
   "metadata": {},
   "source": [
    "注意误差非常小。\n",
    "\n",
    "我们也可以在已知解上测试我们的结果"
   ]
  },
  {
   "cell_type": "code",
   "execution_count": null,
   "id": "caf9c75a",
   "metadata": {
    "hide-output": false
   },
   "outputs": [],
   "source": [
    "A = np.array([[2.0, 0.0, 0.0],\n",
    "               [0.0, 2.0, 0.0],\n",
    "               [0.0, 0.0, 2.0]])\n",
    "\n",
    "s = 0.3\n",
    "α = 0.3\n",
    "δ = 0.4\n",
    "\n",
    "init = np.repeat(1.0, 3)\n",
    "\n",
    "\n",
    "%time k = newton(lambda k: multivariate_solow(k, A=A, s=s, α=α, δ=δ) - k, \\\n",
    "                 init)"
   ]
  },
  {
   "cell_type": "markdown",
   "id": "c9ccc573",
   "metadata": {},
   "source": [
    "结果与真实值非常接近，但仍有细微差异。"
   ]
  },
  {
   "cell_type": "code",
   "execution_count": null,
   "id": "ebd846c3",
   "metadata": {
    "hide-output": false
   },
   "outputs": [],
   "source": [
    "%time k = newton(lambda k: multivariate_solow(k, A=A, s=s, α=α, δ=δ) - k, \\\n",
    "                 init,\\\n",
    "                 tol=1e-7)"
   ]
  },
  {
   "cell_type": "markdown",
   "id": "8138a089",
   "metadata": {},
   "source": [
    "我们可以看到它正在朝着更精确的解决方案迈进。"
   ]
  },
  {
   "cell_type": "markdown",
   "id": "3161e6e6",
   "metadata": {},
   "source": [
    "## Exercise 7.2\n",
    "\n",
    "在这个练习中，让我们尝试不同的初始值，看看牛顿法对不同起始点的反应如何。\n",
    "\n",
    "让我们定义一个具有以下默认值的三商品问题：\n",
    "\n",
    "$$\n",
    "A = \\begin{pmatrix}\n",
    "            0.2 & 0.1 & 0.7 \\\\\n",
    "            0.3 & 0.2 & 0.5 \\\\\n",
    "            0.1 & 0.8 & 0.1 \\\\\n",
    "        \\end{pmatrix},\n",
    "            \\qquad \n",
    "b = \\begin{pmatrix}\n",
    "            1 \\\\\n",
    "            1 \\\\\n",
    "            1\n",
    "        \\end{pmatrix}\n",
    "    \\qquad \\text{和} \\qquad\n",
    "c = \\begin{pmatrix}\n",
    "            1 \\\\\n",
    "            1 \\\\\n",
    "            1\n",
    "        \\end{pmatrix}\n",
    "$$\n",
    "\n",
    "对于这个练习，使用以下极端价格向量作为初始值：\n",
    "\n",
    "$$\n",
    "\\begin{aligned}\n",
    "    p1_{0} &= (5, 5, 5) \\\\\n",
    "    p2_{0} &= (1, 1, 1) \\\\\n",
    "    p3_{0} &= (4.5, 0.1, 4)\n",
    "\\end{aligned}\n",
    "$$\n",
    "\n",
    "将容差设置为$ 0.0 $以获得更精确的输出。"
   ]
  },
  {
   "cell_type": "markdown",
   "id": "8f7194f9",
   "metadata": {},
   "source": [
    "## Solution to[ Exercise 7.2](https://python.quantecon.org/#newton_ex2)\n",
    "\n",
    "定义参数和初始值"
   ]
  },
  {
   "cell_type": "code",
   "execution_count": null,
   "id": "c260f70d",
   "metadata": {
    "hide-output": false
   },
   "outputs": [],
   "source": [
    "A = np.array([\n",
    "    [0.2, 0.1, 0.7],\n",
    "    [0.3, 0.2, 0.5],\n",
    "    [0.1, 0.8, 0.1]\n",
    "])\n",
    "\n",
    "b = np.array([1.0, 1.0, 1.0])\n",
    "c = np.array([1.0, 1.0, 1.0])\n",
    "\n",
    "initLs = [np.repeat(5.0, 3),\n",
    "          np.ones(3),\n",
    "          np.array([4.5, 0.1, 4.0])] "
   ]
  },
  {
   "cell_type": "markdown",
   "id": "6653dfae",
   "metadata": {},
   "source": [
    "让我们检查每个初始猜测值并查看输出结果"
   ]
  },
  {
   "cell_type": "code",
   "execution_count": null,
   "id": "7a19ee54",
   "metadata": {
    "hide-output": false
   },
   "outputs": [],
   "source": [
    "attempt = 1\n",
    "for init in initLs:\n",
    "    print(f'尝试 {attempt}: 初始值为 {init} \\n')\n",
    "    %time p = newton(lambda p: e(p, A, b, c), \\\n",
    "                init, \\\n",
    "                tol=1e-15, \\\n",
    "                max_iter=15)\n",
    "    print('-'*64)\n",
    "    attempt += 1"
   ]
  },
  {
   "cell_type": "markdown",
   "id": "060d0bf3",
   "metadata": {},
   "source": [
    "我们可以发现牛顿法对某些初始值可能会失败。\n",
    "\n",
    "有时可能需要尝试几个初始猜测值才能实现收敛。\n",
    "\n",
    "将结果代回公式中检验我们的结果"
   ]
  },
  {
   "cell_type": "code",
   "execution_count": null,
   "id": "0853c7fa",
   "metadata": {
    "hide-output": false
   },
   "outputs": [],
   "source": [
    "e(p, A, b, c)"
   ]
  },
  {
   "cell_type": "markdown",
   "id": "a3881adb",
   "metadata": {},
   "source": [
    "我们可以看到结果非常精确。"
   ]
  }
 ],
 "metadata": {
  "date": 1742685623.1289835,
  "filename": "newton_method.md",
  "kernelspec": {
   "display_name": "Python",
   "language": "python3",
   "name": "python3"
  },
  "title": "使用牛顿法求解经济模型"
 },
 "nbformat": 4,
 "nbformat_minor": 5
}