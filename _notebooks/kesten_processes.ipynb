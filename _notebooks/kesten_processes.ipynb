{
 "cells": [
  {
   "cell_type": "markdown",
   "id": "c8886597",
   "metadata": {},
   "source": [
    "<div id=\"qe-notebook-header\" align=\"right\" style=\"text-align:right;\">\n",
    "        <a href=\"https://quantecon.org/\" title=\"quantecon.org\">\n",
    "                <img style=\"width:250px;display:inline;\" width=\"250px\" src=\"https://assets.quantecon.org/img/qe-menubar-logo.svg\" alt=\"QuantEcon\">\n",
    "        </a>\n",
    "</div>"
   ]
  },
  {
   "cell_type": "markdown",
   "id": "42aacc15",
   "metadata": {},
   "source": [
    "# Kesten过程与企业动态\n",
    "\n",
    "\n",
    "<a id='index-0'></a>"
   ]
  },
  {
   "cell_type": "markdown",
   "id": "1ac925d3",
   "metadata": {},
   "source": [
    "## Contents\n",
    "\n",
    "- [Kesten过程与企业动态](#Kesten过程与企业动态)  \n",
    "  - [概述](#概述)  \n",
    "  - [Kesten过程](#Kesten过程)  \n",
    "  - [重尾](#重尾)  \n",
    "  - [应用：企业动态](#应用：企业动态)  \n",
    "  - [练习](#练习)  "
   ]
  },
  {
   "cell_type": "markdown",
   "id": "fe33d6c9",
   "metadata": {},
   "source": [
    "除了Anaconda中包含的内容外，本讲座还需要以下库："
   ]
  },
  {
   "cell_type": "code",
   "execution_count": null,
   "id": "6ea02198",
   "metadata": {
    "hide-output": false
   },
   "outputs": [],
   "source": [
    "!pip install quantecon\n",
    "!pip install --upgrade yfinance"
   ]
  },
  {
   "cell_type": "markdown",
   "id": "60c1fa37",
   "metadata": {},
   "source": [
    "## 概述\n",
    "\n",
    "[之前](https://quantecon.github.io/lecture-intro.zh-cn/ar1_processes.html) 我们学习了线性标量值随机过程（AR(1)模型）。\n",
    "\n",
    "现在，我们将进一步推广这些线性模型，允许乘法系数具有随机性。\n",
    "\n",
    "这些过程被称为Kesten过程，以德裔美国数学家Harry Kesten（1931-2019）的名字命名。\n",
    "\n",
    "虽然Kesten过程的数学形式看起来很简单，但它们在经济学中非常重要，主要有两个原因：\n",
    "\n",
    "1. 很多关键的经济过程可以用Kesten过程来描述。  \n",
    "1. Kesten过程能够产生复杂的动态行为，尤其是在某些条件下，它们可以生成带有”重尾”特征的横截面分布，这与我们在现实经济数据中观察到的情况相符。  \n",
    "\n",
    "\n",
    "我们接下来会讨论这些问题。\n",
    "\n",
    "现在我们从一些导入开始："
   ]
  },
  {
   "cell_type": "code",
   "execution_count": null,
   "id": "13ac8890",
   "metadata": {
    "hide-output": false
   },
   "outputs": [],
   "source": [
    "import matplotlib.pyplot as plt\n",
    "import matplotlib as mpl\n",
    "FONTPATH = \"fonts/SourceHanSerifSC-SemiBold.otf\"\n",
    "mpl.font_manager.fontManager.addfont(FONTPATH)\n",
    "plt.rcParams['font.family'] = ['Source Han Serif SC']\n",
    "\n",
    "plt.rcParams[\"figure.figsize\"] = (11, 5)  #设置默认图形大小\n",
    "import numpy as np\n",
    "import quantecon as qe"
   ]
  },
  {
   "cell_type": "markdown",
   "id": "6ad8ce0d",
   "metadata": {},
   "source": [
    "以下两行仅用于避免pandas和matplotlib之间的兼容性问题导致的`FutureWarning`。"
   ]
  },
  {
   "cell_type": "code",
   "execution_count": null,
   "id": "2acfed8b",
   "metadata": {
    "hide-output": false
   },
   "outputs": [],
   "source": [
    "from pandas.plotting import register_matplotlib_converters\n",
    "register_matplotlib_converters()"
   ]
  },
  {
   "cell_type": "markdown",
   "id": "82e18bd2",
   "metadata": {},
   "source": [
    "关于本讲座的更多技术细节，读者可以参考[[Buraczewski *et al.*, 2016](https://python.quantecon.org/zreferences.html#id59)]这本专著。"
   ]
  },
  {
   "cell_type": "markdown",
   "id": "ab1116e6",
   "metadata": {},
   "source": [
    "## Kesten过程\n",
    "\n",
    "\n",
    "<a id='index-1'></a>\n",
    "**Kesten过程**是一种形式如下的随机过程：\n",
    "\n",
    "\n",
    "<a id='equation-kesproc'></a>\n",
    "$$\n",
    "X_{t+1} = a_{t+1} X_t + \\eta_{t+1} \\tag{23.1}\n",
    "$$\n",
    "\n",
    "其中$ \\{a_t\\}_{t \\geq 1} $和$ \\{\\eta_t\\}_{t \\geq 1} $是独立同分布序列。\n",
    "\n",
    "我们感兴趣的是当$ X_0 $给定时$ \\{X_t\\}_{t \\geq 0} $的动态变化。\n",
    "\n",
    "我们将重点关注非负标量的情况，其中$ X_t $的取值范围为$ \\mathbb R_+ $。\n",
    "\n",
    "特别地，我们假设：\n",
    "\n",
    "- 初始条件$ X_0 $是非负的，  \n",
    "- $ \\{a_t\\}_{t \\geq 1} $是非负的独立同分布随机过程，且  \n",
    "- $ \\{\\eta_t\\}_{t \\geq 1} $是另一个非负的独立同分布随机过程，并与第一个过程相互独立。  "
   ]
  },
  {
   "cell_type": "markdown",
   "id": "193d4915",
   "metadata": {},
   "source": [
    "### 示例：GARCH波动率\n",
    "\n",
    "GARCH模型在金融应用中很常见，其中时间序列（如资产收益）表现出时变波动率。\n",
    "\n",
    "例如，考虑以下纳斯达克综合指数从2006年1月1日到2019年11月1日的日收益率图。\n",
    "\n",
    "\n",
    "<a id='ndcode'></a>"
   ]
  },
  {
   "cell_type": "code",
   "execution_count": null,
   "id": "473593f0",
   "metadata": {
    "hide-output": false
   },
   "outputs": [],
   "source": [
    "import yfinance as yf\n",
    "\n",
    "s = yf.download('^IXIC', '2006-1-1', '2019-11-1', auto_adjust=False)['Adj Close']\n",
    "\n",
    "r = s.pct_change()\n",
    "\n",
    "fig, ax = plt.subplots()\n",
    "\n",
    "ax.plot(r, alpha=0.7)\n",
    "\n",
    "ax.set_ylabel('收益率', fontsize=12)\n",
    "ax.set_xlabel('日期', fontsize=12)\n",
    "\n",
    "plt.show()"
   ]
  },
  {
   "cell_type": "markdown",
   "id": "3c92a284",
   "metadata": {},
   "source": [
    "注意该序列如何呈现出波动率爆发（高方差），随后又趋于平稳。\n",
    "\n",
    "GARCH模型可以复现这一特征。\n",
    "\n",
    "GARCH(1, 1)波动率过程的形式如下：\n",
    "\n",
    "\n",
    "<a id='equation-garch11v'></a>\n",
    "$$\n",
    "\\sigma_{t+1}^2 = \\alpha_0 + \\sigma_t^2 (\\alpha_1 \\xi_{t+1}^2 + \\beta) \\tag{23.2}\n",
    "$$\n",
    "\n",
    "其中$ \\{\\xi_t\\} $是独立同分布的，$ \\mathbb E \\xi_t^2 = 1 $且所有参数都是正的。\n",
    "\n",
    "给定资产的收益率可建模为：\n",
    "\n",
    "\n",
    "<a id='equation-garch11r'></a>\n",
    "$$\n",
    "r_t = \\sigma_t \\zeta_t \\tag{23.3}\n",
    "$$\n",
    "\n",
    "其中$ \\{\\zeta_t\\} $也是独立同分布的，且与$ \\{\\xi_t\\} $相互独立。\n",
    "\n",
    "驱动收益率动态变化的波动率序列$ \\{\\sigma_t^2 \\} $是一个Kesten过程。"
   ]
  },
  {
   "cell_type": "markdown",
   "id": "ed0263ec",
   "metadata": {},
   "source": [
    "### 示例：财富动态\n",
    "\n",
    "假设某个家庭在每一期都将其当前财富按固定比例$ s $进行储蓄。\n",
    "\n",
    "该家庭在时期$ t $开始时获得劳动收入$ y_t $。\n",
    "\n",
    "其财富则按照以下方式演化：\n",
    "\n",
    "\n",
    "<a id='equation-wealth-dynam'></a>\n",
    "$$\n",
    "w_{t+1} = R_{t+1} s w_t  + y_{t+1} \\tag{23.4}\n",
    "$$\n",
    "\n",
    "其中$ \\{R_t\\} $是资产的总收益率。\n",
    "\n",
    "如果$ \\{R_t\\} $和$ \\{y_t\\} $都是独立同分布的，那么[(23.4)](#equation-wealth-dynam)就是一个Kesten过程。"
   ]
  },
  {
   "cell_type": "markdown",
   "id": "d8b381b9",
   "metadata": {},
   "source": [
    "### 平稳性\n",
    "\n",
    "在之前的讲座中，如[AR(1)过程](https://quantecon.github.io/lecture-intro.zh-cn/ar1_processes.html)，我们引入了平稳分布的概念。\n",
    "\n",
    "在当前背景下，我们可以这样定义一个平稳分布：\n",
    "\n",
    "对于Kesten过程[(23.1)](#equation-kesproc)，若满足\n",
    "\n",
    "\n",
    "<a id='equation-kp-stationary0'></a>\n",
    "$$\n",
    "X_t \\sim F^*\n",
    "\\quad \\implies \\quad\n",
    "a_{t+1} X_t + \\eta_{t+1} \\sim F^* \\tag{23.5}\n",
    "$$\n",
    "\n",
    "则定义在$ \\mathbb R $上的分布$ F^* $被称为该过程的**平稳分布**。\n",
    "\n",
    "换句话说，如果当前状态$ X_t $服从分布$ F^* $，那么下一期状态$ X_{t+1} $也服从相同的分布$ F^* $。\n",
    "\n",
    "我们可以将其等价写为：\n",
    "\n",
    "\n",
    "<a id='equation-kp-stationary'></a>\n",
    "$$\n",
    "F^*(y) = \\int \\mathbb P\\{ a_{t+1} x + \\eta_{t+1} \\leq y\\} F^*(dx)\n",
    "\\quad \\text{对所有 } y \\geq 0 \\text{成立 } \\tag{23.6}\n",
    "$$\n",
    "\n",
    "式子左边是当前状态服从$ F^* $时，下一期状态的分布。\n",
    "\n",
    "[(23.6)](#equation-kp-stationary)这一等式表明这个分布保持不变。"
   ]
  },
  {
   "cell_type": "markdown",
   "id": "a2719811",
   "metadata": {},
   "source": [
    "### 横截面解释\n",
    "\n",
    "平稳分布具有重要的横截面解释，之前我们已经讨论过，但仍值得在这里重复。\n",
    "\n",
    "例如，假设我们对财富分布（某个国家当前家庭财富的分布）感兴趣。\n",
    "\n",
    "进一步的假设：\n",
    "\n",
    "- 每个家庭的财富根据[(23.4)](#equation-wealth-dynam)独立演化；  \n",
    "- $ F^* $是这个随机过程的平稳分布；  \n",
    "- 存在大量家庭。  \n",
    "\n",
    "\n",
    "那么，$ F^* $就是这个国家横截面财富分布的稳态。\n",
    "\n",
    "换句话说，如果$ F^* $是当前的财富分布，则在*其他条件不变*的情况下，其在后续时期将保持这一分布不变。\n",
    "\n",
    "要理解这一点，假设$ F^* $是当前的财富分布。\n",
    "\n",
    "下一期财富小于$ y $的家庭比例是多少？\n",
    "\n",
    "为了得到这一比例，我们对明天的财富小于$ y $的概率进行求和，给定条件为当前财富为$ w $，按拥有财富$ w $的家庭比例进行加权。\n",
    "\n",
    "注意到财富在区间$ dw $中的家庭比例是$ F^*(dw) $，我们得到：\n",
    "\n",
    "$$\n",
    "\\int \\mathbb P\\{ R_{t+1} s w  + y_{t+1} \\leq y\\} F^*(dw)\n",
    "$$\n",
    "\n",
    "根据平稳性的定义和$ F^* $是财富过程的平稳分布的假设，上述积分结果为$ F^*(y) $。\n",
    "\n",
    "因此，下一期中财富在$ [0, y] $内的家庭比例与当前期相同。\n",
    "\n",
    "由于$ y $是任意选择的，财富分布保持不变。"
   ]
  },
  {
   "cell_type": "markdown",
   "id": "f09a1134",
   "metadata": {},
   "source": [
    "### 平稳性条件\n",
    "\n",
    "Kesten过程$ X_{t+1} = a_{t+1} X_t + \\eta_{t+1} $并不总是具有平稳分布。\n",
    "\n",
    "例如，如果对所有$ t $都有$ a_t \\equiv \\eta_t \\equiv 1 $，那么$ X_t = X_0 + t $，此时序列会发散到无穷大。\n",
    "\n",
    "为了防止这种发散，我们要求$ \\{a_t\\} $在大多数情况下严格小于1。\n",
    "\n",
    "特别地，如果：\n",
    "\n",
    "\n",
    "<a id='equation-kp-stat-cond'></a>\n",
    "$$\n",
    "\\mathbb E \\ln a_t < 0\n",
    "\\quad \\text{且} \\quad\n",
    "\\mathbb E \\eta_t < \\infty \\tag{23.7}\n",
    "$$\n",
    "\n",
    "那么在$ \\mathbb R_+ $上存在唯一的平稳分布。\n",
    "\n",
    "- 参见，例如，[[Buraczewski *et al.*, 2016](https://python.quantecon.org/zreferences.html#id59)]的定理2.1.3提供了稍弱的条件。  \n",
    "\n",
    "\n",
    "作为这个结果的一个应用，我们看到，只要劳动收入具有有限均值且满足$ \\mathbb E \\ln R_t  + \\ln s < 0 $，财富过程[(23.4)](#equation-wealth-dynam)就会有唯一的平稳分布。"
   ]
  },
  {
   "cell_type": "markdown",
   "id": "91887488",
   "metadata": {},
   "source": [
    "## 重尾\n",
    "\n",
    "在某些条件下，Kesten过程的平稳分布具有帕累托尾。\n",
    "\n",
    "（参见我们[之前关于重尾分布的讲座](https://quantecon.github.io/lecture-intro.zh-cn/heavy_tails.html)。）\n",
    "\n",
    "这个事实对经济学很重要，因为帕累托尾分布在经济现象中广泛存在。"
   ]
  },
  {
   "cell_type": "markdown",
   "id": "2aa0a4f1",
   "metadata": {},
   "source": [
    "### Kesten–Goldie定理\n",
    "\n",
    "为了说明Kesten过程的平稳分布具有帕累托尾的条件，我们首先回顾，如果随机变量的分布不集中在$ \\{\\dots, -2t, -t, 0, t, 2t, \\ldots \\} $上（对任意$ t \\geq 0 $），则称该随机变量是**非算术的**。\n",
    "\n",
    "例如，任何具有密度函数的随机变量都是非算术的。\n",
    "\n",
    "著名的Kesten–Goldie定理（参见，例如，[[Buraczewski *et al.*, 2016](https://python.quantecon.org/zreferences.html#id59)]，定理2.4.4）指出，如果：\n",
    "\n",
    "1. [(23.7)](#equation-kp-stat-cond)中的平稳性条件成立；  \n",
    "1. 随机变量$ a_t $几乎必然为正且是非算术的；  \n",
    "1. 对所有$ x \\in \\mathbb R_+ $有$ \\mathbb P\\{a_t x + \\eta_t = x\\} < 1 $；  \n",
    "1. 存在正常数$ \\alpha $使得：  \n",
    "\n",
    "\n",
    "$$\n",
    "\\mathbb E a_t^\\alpha = 1,\n",
    "    \\quad\n",
    "\\mathbb E \\eta_t^\\alpha < \\infty,\n",
    "    \\quad \\text{且} \\quad\n",
    "\\mathbb E [a_t^{\\alpha+1} ] < \\infty\n",
    "$$\n",
    "\n",
    "那么Kesten过程的平稳分布具有帕累托尾，尾部指数为$ \\alpha $。\n",
    "\n",
    "更精确地说，如果$ F^* $是唯一的平稳分布且$ X^* \\sim F^* $，则：\n",
    "\n",
    "$$\n",
    "\\lim_{x \\to \\infty} x^\\alpha \\mathbb P\\{X^* > x\\} = c\n",
    "$$\n",
    "\n",
    "其中$ c $是某个正常数。"
   ]
  },
  {
   "cell_type": "markdown",
   "id": "7f23d2cf",
   "metadata": {},
   "source": [
    "### 直觉解释\n",
    "\n",
    "稍后我们将通过绘秩-规模图来直观地验证Kesten–Goldie定理的结论。\n",
    "\n",
    "在此之前，我们可以对定理条件进行以下直觉性解释。\n",
    "\n",
    "两个重要条件是$ \\mathbb E \\ln a_t < 0 $，即模型是平稳的，以及存在某个$ \\alpha > 0 $使得$ \\mathbb E a_t^\\alpha = 1 $。\n",
    "\n",
    "第一个条件意味着$ a_t $的分布中，大部分概率质量集中在1以下。\n",
    "\n",
    "第二个条件意味着$ a_t $的分布中，至少有部分概率质量位于1或以上。\n",
    "\n",
    "第一个条件确保平稳分布的存在。\n",
    "\n",
    "第二个条件意味着当前状态可以被$ a_t $放大。\n",
    "\n",
    "如果这种情况在连续几个时期发生，那么效果会相互叠加，因为$ a_t $是乘性的。\n",
    "\n",
    "这导致时间序列中出现尖峰，从而填充分布的极端右尾。\n",
    "\n",
    "在以下模拟中可观察到时间序列中的尖峰，该模拟在$ a_t $和$ b_t $服从对数正态分布时生成了10条路径："
   ]
  },
  {
   "cell_type": "code",
   "execution_count": null,
   "id": "502cd465",
   "metadata": {
    "hide-output": false
   },
   "outputs": [],
   "source": [
    "μ = -0.5\n",
    "σ = 1.0\n",
    "\n",
    "def kesten_ts(ts_length=100):\n",
    "    x = np.zeros(ts_length)\n",
    "    for t in range(ts_length-1):\n",
    "        a = np.exp(μ + σ * np.random.randn())\n",
    "        b = np.exp(np.random.randn())\n",
    "        x[t+1] = a * x[t] + b\n",
    "    return x\n",
    "\n",
    "fig, ax = plt.subplots()\n",
    "\n",
    "num_paths = 10\n",
    "np.random.seed(12)\n",
    "\n",
    "for i in range(num_paths):\n",
    "    ax.plot(kesten_ts())\n",
    "\n",
    "ax.set(xlabel='时间', ylabel='$X_t$')\n",
    "plt.show()"
   ]
  },
  {
   "cell_type": "markdown",
   "id": "dcb799a7",
   "metadata": {},
   "source": [
    "## 应用：企业动态\n",
    "\n",
    "正如我们在[关于重尾的讲座](https://quantecon.github.io/lecture-intro.zh-cn/heavy_tails.html)中提到的，对于收入或就业等常见的企业规模衡量指标，美国企业规模分布表现出帕累托尾的特征（参见，例如，[[Axtell, 2001](https://python.quantecon.org/zreferences.html#id69)]，[[Gabaix, 2016](https://python.quantecon.org/zreferences.html#id68)]）。\n",
    "\n",
    "让我们尝试运用Kesten–Goldie定理来解释这个相当有趣的事实。"
   ]
  },
  {
   "cell_type": "markdown",
   "id": "572debd9",
   "metadata": {},
   "source": [
    "### Gibrat定律\n",
    "\n",
    "多年前，Robert Gibrat [[Gibrat, 1931](https://python.quantecon.org/zreferences.html#id58)]提出假设，认为企业规模按照一个简单的规则演化，即下一期规模与当前规模成比例。\n",
    "\n",
    "这一假设现在被称为[Gibrat比例增长定律](https://en.wikipedia.org/wiki/Gibrat%27s_law)。\n",
    "\n",
    "我们可以通过以下方式表达这一观点：企业规模的适当衡量指标$ s_t $满足\n",
    "\n",
    "\n",
    "<a id='equation-firm-dynam-gb'></a>\n",
    "$$\n",
    "\\frac{s_{t+1}}{s_t} = a_{t+1} \\tag{23.8}\n",
    "$$\n",
    "\n",
    "其中$ \\{a_t\\} $是某个正的独立同分布序列。\n",
    "\n",
    "Gibrat定律的一个含意是，单个企业的增长率不依赖于它们的规模。\n",
    "\n",
    "然而，在过去几十年里，文献中积累了很多与Gibrat定律相矛盾的研究。\n",
    "\n",
    "例如，通常发现，平均而言：\n",
    "\n",
    "1. 小企业比大企业增长更快（参见，例如，[[Evans, 1987](https://python.quantecon.org/zreferences.html#id57)]和[[Hall, 1987](https://python.quantecon.org/zreferences.html#id56)]），且  \n",
    "1. 小企业的增长率比大企业更不稳定[[Dunne *et al.*, 1989](https://python.quantecon.org/zreferences.html#id55)]。  \n",
    "\n",
    "\n",
    "另一方面，研究发现Gibrat定律通常对大企业是一个合理的近似[[Evans, 1987](https://python.quantecon.org/zreferences.html#id57)]。\n",
    "\n",
    "我们可以通过修改[(23.8)](#equation-firm-dynam-gb)为以下形式来适应这些实证结果：\n",
    "\n",
    "\n",
    "<a id='equation-firm-dynam'></a>\n",
    "$$\n",
    "s_{t+1} = a_{t+1} s_t + b_{t+1} \\tag{23.9}\n",
    "$$\n",
    "\n",
    "其中$ \\{a_t\\} $和$ \\{b_t\\} $都是独立同分布的，且相互独立。\n",
    "\n",
    "在练习中，你需要证明[(23.9)](#equation-firm-dynam)中的Gibrat定律比[(23.8)](#equation-firm-dynam-gb)中的更符合上述实证结果。"
   ]
  },
  {
   "cell_type": "markdown",
   "id": "681d02a9",
   "metadata": {},
   "source": [
    "### 重尾\n",
    "\n",
    "那么这与帕累托尾有什么关系？\n",
    "\n",
    "答案是[(23.9)](#equation-firm-dynam)是一个Kesten过程。\n",
    "\n",
    "如果Kesten–Goldie定理的条件满足，那么可以预测企业规模分布会呈现重尾特征 — 这正是我们在数据中看到的。\n",
    "\n",
    "在下面的练习中，我们会进一步探讨这个想法，推广企业规模动态模型并检验相应的秩-规模图。\n",
    "\n",
    "我们还将说明为什么帕累托尾的发现对定量分析很重要。"
   ]
  },
  {
   "cell_type": "markdown",
   "id": "c69483f5",
   "metadata": {},
   "source": [
    "## 练习"
   ]
  },
  {
   "cell_type": "markdown",
   "id": "b2f72fd2",
   "metadata": {},
   "source": [
    "## Exercise 23.1\n",
    "\n",
    "使用[(23.2)](#equation-garch11v)–[(23.3)](#equation-garch11r)中的GARCH(1, 1)过程模拟并绘制15年的日收益率（假设每年有250个工作日）。\n",
    "\n",
    "设$ \\xi_t $和$ \\zeta_t $为独立的标准正态分布。\n",
    "\n",
    "设$ \\alpha_0 = 0.00001, \\alpha_1 = 0.1, \\beta = 0.9 $和$ \\sigma_0 = 0 $。\n",
    "\n",
    "与[上文所示的](#ndcode)纳斯达克综合指数收益率进行直观对比。\n",
    "\n",
    "虽然时间路径不同，但应能观察到高波动率的爆发。"
   ]
  },
  {
   "cell_type": "markdown",
   "id": "6beadfc9",
   "metadata": {},
   "source": [
    "## Solution to[ Exercise 23.1](https://python.quantecon.org/#kp_ex1)\n",
    "\n",
    "这是一种解答："
   ]
  },
  {
   "cell_type": "code",
   "execution_count": null,
   "id": "d9eddf42",
   "metadata": {
    "hide-output": false
   },
   "outputs": [],
   "source": [
    "α_0 = 1e-5\n",
    "α_1 = 0.1\n",
    "β = 0.9\n",
    "\n",
    "years = 15\n",
    "days = years * 250\n",
    "\n",
    "def garch_ts(ts_length=days):\n",
    "    σ2 = 0\n",
    "    r = np.zeros(ts_length)\n",
    "    for t in range(ts_length-1):\n",
    "        ξ = np.random.randn()\n",
    "        σ2 = α_0 + σ2 * (α_1 * ξ**2 + β)\n",
    "        r[t] = np.sqrt(σ2) * np.random.randn()\n",
    "    return r\n",
    "\n",
    "fig, ax = plt.subplots()\n",
    "\n",
    "np.random.seed(12)\n",
    "\n",
    "ax.plot(garch_ts(), alpha=0.7)\n",
    "\n",
    "ax.set(xlabel='时间', ylabel='$\\\\sigma_t^2$')\n",
    "plt.show()"
   ]
  },
  {
   "cell_type": "markdown",
   "id": "caeaf08b",
   "metadata": {},
   "source": [
    "## Exercise 23.2\n",
    "\n",
    "在我们关于企业动态的讨论中，认为[(23.9)](#equation-firm-dynam)比[(23.8)](#equation-firm-dynam-gb)中的Gibrat定律更符合实证文献。\n",
    "\n",
    "（实证文献在[(23.9)](#equation-firm-dynam)之前刚刚进行了回顾。）\n",
    "\n",
    "在什么意义上这是正确的（或错误的）？"
   ]
  },
  {
   "cell_type": "markdown",
   "id": "f5c6e9fe",
   "metadata": {},
   "source": [
    "## Solution to[ Exercise 23.2](https://python.quantecon.org/#kp_ex2)\n",
    "\n",
    "实证研究结果是：\n",
    "\n",
    "1. 小企业比大企业增长更快，且  \n",
    "1. 小企业的增长率比大企业更不稳定。  \n",
    "\n",
    "\n",
    "此外，相比小企业，Gibrat定律通常被发现对于大企业而言是一个合理的近似。\n",
    "\n",
    "这个说法是指：[(23.9)](#equation-firm-dynam)中的动态比Gibrat定律更符合要点1-2。\n",
    "\n",
    "要理解原因，我们将[(23.9)](#equation-firm-dynam)重写为增长动态的形式：\n",
    "\n",
    "\n",
    "<a id='equation-firm-dynam-2'></a>\n",
    "$$\n",
    "\\frac{s_{t+1}}{s_t} = a_{t+1} + \\frac{b_{t+1}}{s_t} \\tag{23.10}\n",
    "$$\n",
    "\n",
    "给定$ s_t = s $，企业增长率的均值和方差为：\n",
    "\n",
    "$$\n",
    "\\mathbb E a\n",
    "+ \\frac{\\mathbb E b}{s}\n",
    "\\quad \\text{和} \\quad\n",
    "\\mathbb V a\n",
    "+ \\frac{\\mathbb V b}{s^2}\n",
    "$$\n",
    "\n",
    "这两者都随着企业规模$ s $的增大而下降，与数据所显示的一致。\n",
    "\n",
    "此外，当$ s_t $变大时，动态定律[(23.10)](#equation-firm-dynam-2)显然趋近于Gibrat定律[(23.8)](#equation-firm-dynam-gb)。"
   ]
  },
  {
   "cell_type": "markdown",
   "id": "1a2f9918",
   "metadata": {},
   "source": [
    "## Exercise 23.3\n",
    "\n",
    "考虑如[(23.1)](#equation-kesproc)中给出的任意Kesten过程。\n",
    "\n",
    "假设$ \\{a_t\\} $是对数正态分布，参数为$ (\\mu, \\sigma) $。\n",
    "\n",
    "换句话说，当$ Z $是标准正态分布时，每个$ a_t $与$ \\exp(\\mu + \\sigma Z) $具有相同的分布。\n",
    "\n",
    "进一步假设$ \\mathbb E \\eta_t^r < \\infty $对所有$ r > 0 $成立，例如，当$ \\eta_t $也是对数正态分布时，这一条件成立。\n",
    "\n",
    "证明：当且仅当$ \\mu < 0 $时，Kesten–Goldie定理的条件被满足。\n",
    "\n",
    "并求出使Kesten–Goldie条件成立的$ \\alpha $值。"
   ]
  },
  {
   "cell_type": "markdown",
   "id": "65ac7d67",
   "metadata": {},
   "source": [
    "## Solution to[ Exercise 23.3](https://python.quantecon.org/#kp_ex3)\n",
    "\n",
    "因为$ a_t $有密度函数，所以它是非算术的。\n",
    "\n",
    "由于$ a_t $与$ a = \\exp(\\mu + \\sigma Z) $具有相同的密度函数（当$ Z $是标准正态分布时），我们有：\n",
    "\n",
    "$$\n",
    "\\mathbb E \\ln a_t = \\mathbb E (\\mu + \\sigma Z) = \\mu,\n",
    "$$\n",
    "\n",
    "且由于$ \\eta_t $具有所有阶的有限矩，平稳性条件成立当且仅当$ \\mu < 0 $。\n",
    "\n",
    "给定对数正态分布的性质（它具有所有阶的有限矩），唯一需要验证的另一个条件是存在一个正常数$ \\alpha $，使得$ \\mathbb E a_t^\\alpha = 1 $。\n",
    "\n",
    "这一条件等价于：\n",
    "\n",
    "$$\n",
    "\\exp \\left( \\alpha \\mu + \\frac{\\alpha^2 \\sigma^2}{2} \\right) = 1.\n",
    "$$\n",
    "\n",
    "解这个方程求出$ \\alpha $，可得$ \\alpha = -2\\mu / \\sigma^2 $。"
   ]
  },
  {
   "cell_type": "markdown",
   "id": "b6fc5a55",
   "metadata": {},
   "source": [
    "## Exercise 23.4\n",
    "\n",
    "在如[(23.9)](#equation-firm-dynam)中所述的企业动态模型中，的一个不现实方面是它忽略了企业的进入和退出。\n",
    "\n",
    "在任何时期和任何市场中，我们都能观察到大量企业进入和退出市场。\n",
    "\n",
    "关于这个问题的实证讨论可以在Hugo Hopenhayn [[Hopenhayn, 1992](https://python.quantecon.org/zreferences.html#id174)]的一篇著名论文中找到。\n",
    "\n",
    "在这篇论文中，Hopenhayn构建了一个包含企业利润最大化和市场出清数量、工资及价格的进入退出模型。\n",
    "\n",
    "在他的模型中，当进入企业数量等于退出企业数量时，便达到了平稳均衡。\n",
    "\n",
    "在这种背景下，企业动态可以表示为：\n",
    "\n",
    "\n",
    "<a id='equation-firm-dynam-ee'></a>\n",
    "$$\n",
    "s_{t+1} = e_{t+1} \\mathbb{1}\\{s_t < \\bar s\\} +\n",
    "(a_{t+1} s_t + b_{t+1}) \\mathbb{1}\\{s_t \\geq \\bar s\\} \\tag{23.11}\n",
    "$$\n",
    "\n",
    "其中：\n",
    "\n",
    "- 状态变量$ s_t $代表生产率（这是产出和企业规模的代理变量），  \n",
    "- 独立同分布序列$ \\{ e_t \\} $被视为新进入企业的生产率样本值，且  \n",
    "- 变量$ \\bar s $是一个被视为给定的阈值，尽管它在Hopenhayn的模型中是内生的。  \n",
    "\n",
    "\n",
    "[(23.11)](#equation-firm-dynam-ee)背后的思想是，只要企业的生产率$ s_t $保持在$ \\bar s $或在$ \\bar s $以上，这些企业就可以留在市场中。\n",
    "\n",
    "- 在这种情况下，它们的生产率根据[(23.9)](#equation-firm-dynam)更新。  \n",
    "\n",
    "\n",
    "当企业的生产率$ s_t $低于$ \\bar s $时，企业会选择退出。\n",
    "\n",
    "- 在这种情况下，它们被生产率$ e_{t+1} $的新企业替代。  \n",
    "\n",
    "\n",
    "关于动态特性我们能得出什么结论？\n",
    "\n",
    "虽然[(23.11)](#equation-firm-dynam-ee)不是Kesten过程，但当$ s_t $很大时，它的更新方式与Kesten过程相同。\n",
    "\n",
    "所以，也许它的平稳分布仍然有帕累托尾？\n",
    "\n",
    "你的任务是通过模拟和秩-规模图来研究这个问题。\n",
    "\n",
    "方法是：\n",
    "\n",
    "1. 选定很大的$ M $和$ T $，生成$ M $个$ s_T $的抽取样本；  \n",
    "1. 将结果中最大的1,000个抽取样本绘制成秩-规模图。  \n",
    "\n",
    "\n",
    "（当$ T $很大时，$ s_T $的分布将接近于平稳分布。）\n",
    "\n",
    "在这个模拟中，假设：\n",
    "\n",
    "- $ a_t, b_t $和$ e_t $都是对数正态分布，  \n",
    "- 参数为：  "
   ]
  },
  {
   "cell_type": "code",
   "execution_count": null,
   "id": "a1aadd04",
   "metadata": {
    "hide-output": false
   },
   "outputs": [],
   "source": [
    "μ_a = -0.5        # a的位置参数\n",
    "σ_a = 0.1         # a的尺度参数\n",
    "μ_b = 0.0         # b的位置参数\n",
    "σ_b = 0.5         # b的尺度参数\n",
    "μ_e = 0.0         # e的位置参数\n",
    "σ_e = 0.5         # e的尺度参数\n",
    "s_bar = 1.0       # 阈值\n",
    "T = 500           # 抽样日期\n",
    "M = 1_000_000     # 企业数量\n",
    "s_init = 1.0      # 每个企业的初始条件"
   ]
  },
  {
   "cell_type": "markdown",
   "id": "a7a7441e",
   "metadata": {},
   "source": [
    "## Solution to[ Exercise 23.4](https://python.quantecon.org/#kp_ex4)\n",
    "\n",
    "这是一种答案。\n",
    "首先生成观测值："
   ]
  },
  {
   "cell_type": "code",
   "execution_count": null,
   "id": "86d5fc21",
   "metadata": {
    "hide-output": false
   },
   "outputs": [],
   "source": [
    "from numba import jit, prange\n",
    "from numpy.random import randn\n",
    "\n",
    "\n",
    "@jit(parallel=True)\n",
    "def generate_draws(μ_a=-0.5,\n",
    "                   σ_a=0.1,\n",
    "                   μ_b=0.0,\n",
    "                   σ_b=0.5,\n",
    "                   μ_e=0.0,\n",
    "                   σ_e=0.5,\n",
    "                   s_bar=1.0,\n",
    "                   T=500,\n",
    "                   M=1_000_000,\n",
    "                   s_init=1.0):\n",
    "\n",
    "    draws = np.empty(M)\n",
    "    for m in prange(M):\n",
    "        s = s_init\n",
    "        for t in range(T):\n",
    "            if s < s_bar:\n",
    "                new_s = np.exp(μ_e + σ_e *  randn())\n",
    "            else:\n",
    "                a = np.exp(μ_a + σ_a * randn())\n",
    "                b = np.exp(μ_b + σ_b * randn())\n",
    "                new_s = a * s + b\n",
    "            s = new_s\n",
    "        draws[m] = s\n",
    "\n",
    "    return draws\n",
    "\n",
    "data = generate_draws()"
   ]
  },
  {
   "cell_type": "markdown",
   "id": "6a5d8192",
   "metadata": {},
   "source": [
    "现在来生成秩-规模图："
   ]
  },
  {
   "cell_type": "code",
   "execution_count": null,
   "id": "60d6f841",
   "metadata": {
    "hide-output": false
   },
   "outputs": [],
   "source": [
    "fig, ax = plt.subplots()\n",
    "\n",
    "rank_data, size_data = qe.rank_size(data, c=0.01)\n",
    "ax.loglog(rank_data, size_data, 'o', markersize=3.0, alpha=0.5)\n",
    "ax.set_xlabel(\"对数秩\")\n",
    "ax.set_ylabel(\"对数规模\")\n",
    "\n",
    "plt.show()"
   ]
  },
  {
   "cell_type": "markdown",
   "id": "e70efc02",
   "metadata": {},
   "source": [
    "该图呈现出一条直线，符合帕累托尾的特性。"
   ]
  }
 ],
 "metadata": {
  "date": 1749097993.6564405,
  "filename": "kesten_processes.md",
  "kernelspec": {
   "display_name": "Python",
   "language": "python3",
   "name": "python3"
  },
  "title": "Kesten过程与企业动态"
 },
 "nbformat": 4,
 "nbformat_minor": 5
}