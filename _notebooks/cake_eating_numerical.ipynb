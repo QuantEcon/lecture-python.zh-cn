{
 "cells": [
  {
   "cell_type": "markdown",
   "id": "83a97b7f",
   "metadata": {},
   "source": [
    "# 蛋糕食用问题 II：数值方法"
   ]
  },
  {
   "cell_type": "markdown",
   "id": "9189d56b",
   "metadata": {},
   "source": [
    "## 目录\n",
    "\n",
    "- [蛋糕食用问题 II：数值方法](#蛋糕食用问题-II：数值方法)  \n",
    "  - [概述](#概述)  \n",
    "  - [回顾模型](#回顾模型)  \n",
    "  - [值函数迭代](#值函数迭代)  \n",
    "  - [时间迭代](#时间迭代)  \n",
    "  - [练习](#练习)  "
   ]
  },
  {
   "cell_type": "markdown",
   "id": "603ed041",
   "metadata": {},
   "source": [
    "## 概述\n",
    "\n",
    "在本讲中，我们继续研究[蛋糕食用问题](https://python.quantecon.org/cake_eating_problem.html)。\n",
    "\n",
    "本讲的目标是使用数值方法求解该问题。\n",
    "\n",
    "起初这可能看起来没有必要，因为我们已经通过分析方法得到了最优策略。\n",
    "\n",
    "然而，蛋糕食用问题过于简单，如果不加修改就不太实用，而一旦我们开始修改问题，数值方法就变得必不可少。\n",
    "\n",
    "因此，现在引入数值方法并在这个简单问题上测试它们是有意义的。\n",
    "\n",
    "由于我们知道分析解，这将使我们能够评估不同数值方法的准确性。\n",
    "\n",
    "我们将使用以下导入："
   ]
  },
  {
   "cell_type": "code",
   "execution_count": null,
   "id": "9a9adfc2",
   "metadata": {
    "hide-output": false
   },
   "outputs": [],
   "source": [
    "import matplotlib.pyplot as plt\n",
    "import matplotlib as mpl\n",
    "FONTPATH = \"fonts/SourceHanSerifSC-SemiBold.otf\"\n",
    "mpl.font_manager.fontManager.addfont(FONTPATH)\n",
    "plt.rcParams['font.family'] = ['Source Han Serif SC']\n",
    "\n",
    "import numpy as np\n",
    "from scipy.optimize import minimize_scalar, bisect"
   ]
  },
  {
   "cell_type": "markdown",
   "id": "861a2bcc",
   "metadata": {},
   "source": [
    "## 回顾模型\n",
    "\n",
    "在开始之前，你可能想要[回顾详细内容](https://python.quantecon.org/cake_eating_problem.html)。\n",
    "\n",
    "特别要回顾的是贝尔曼方程：\n",
    "\n",
    "\n",
    "<a id='equation-bellman-cen'></a>\n",
    "$$\n",
    "v(x) = \\max_{0\\leq c \\leq x} \\{u(c) + \\beta v(x-c)\\}\n",
    "\\quad \\text{for all } x \\geq 0. \\tag{39.1}\n",
    "$$\n",
    "\n",
    "其中$ u $是CRRA效用函数。\n",
    "\n",
    "价值函数和最优策略的解析解如下所示。"
   ]
  },
  {
   "cell_type": "code",
   "execution_count": null,
   "id": "7c8fd413",
   "metadata": {
    "hide-output": false
   },
   "outputs": [],
   "source": [
    "def c_star(x, β, γ):\n",
    "\n",
    "    return (1 - β ** (1/γ)) * x\n",
    "\n",
    "\n",
    "def v_star(x, β, γ):\n",
    "\n",
    "    return (1 - β**(1 / γ))**(-γ) * (x**(1-γ) / (1-γ))"
   ]
  },
  {
   "cell_type": "markdown",
   "id": "d6cee51a",
   "metadata": {},
   "source": [
    "我们的首要目标是以数值方式获得这些解析解。"
   ]
  },
  {
   "cell_type": "markdown",
   "id": "e075d57a",
   "metadata": {},
   "source": [
    "## 值函数迭代\n",
    "\n",
    "我们将采用的第一种方法是**值函数迭代**。\n",
    "\n",
    "这是一种**连续逼近**的方法，在我们的[求职搜索讲座](https://python.quantecon.org/mccall_model.html)中已经讨论过。\n",
    "\n",
    "基本思路是：\n",
    "\n",
    "1. 对$ v $取一个任意的初始猜测值。  \n",
    "1. 获得一个更新值$ w $，定义为  \n",
    "  $$\n",
    "  w(x) = \\max_{0\\leq c \\leq x} \\{u(c) + \\beta v(x-c)\\}\n",
    "  $$\n",
    "1. 如果$ w $与$ v $近似相等则停止，否则令$ v=w $并返回步骤2。  \n",
    "\n",
    "\n",
    "让我们用更数学的方式来表述这个过程。"
   ]
  },
  {
   "cell_type": "markdown",
   "id": "cbba8c45",
   "metadata": {},
   "source": [
    "### 贝尔曼算子\n",
    "\n",
    "我们引入**贝尔曼算子**$ T $，它以函数v为参数，返回一个新函数$ Tv $，定义为\n",
    "\n",
    "$$\n",
    "Tv(x) = \\max_{0 \\leq c \\leq x} \\{u(c) + \\beta v(x - c)\\}\n",
    "$$\n",
    "\n",
    "从$ v $我们得到$ Tv $，将$ T $应用于此得到$ T^2 v := T (Tv) $，依此类推。\n",
    "\n",
    "这被称为从初始猜测值$ v $开始**迭代贝尔曼算子**。\n",
    "正如我们在后面的讲座中详细讨论的那样，可以使用Banach收缩映射定理来证明函数序列$ T^n v $收敛到Bellman方程的解。"
   ]
  },
  {
   "cell_type": "markdown",
   "id": "bf201217",
   "metadata": {},
   "source": [
    "### 拟合值函数迭代\n",
    "\n",
    "消费$ c $和状态变量$ x $都是连续的。\n",
    "\n",
    "这在数值计算方面造成了一些复杂性。\n",
    "\n",
    "例如，我们需要存储每个函数$ T^n v $以计算下一个迭代值$ T^{n+1} v $。\n",
    "\n",
    "但这意味着我们必须在无限多个$ x $处存储$ T^n v(x) $，这通常是不可能的。\n",
    "\n",
    "为了解决这个问题，我们将使用拟合值函数迭代，这在之前关于[求职搜索的讲座](https://python.quantecon.org/mccall_fitted_vfi.html)中已经讨论过。\n",
    "\n",
    "这个过程如下：\n",
    "\n",
    "1. 从一组值$ \\{ v_0, \\ldots, v_I \\} $开始，这些值表示初始函数$ v $在网格点$ \\{ x_0, \\ldots, x_I \\} $上的值。  \n",
    "1. 通过以下方式在状态空间$ \\mathbb R_+ $上构建函数$ \\hat v $：\n",
    "  基于这些数据点的线性插值。  \n",
    "1. 通过反复求解贝尔曼方程中的最大化问题，获取并记录每个网格点\n",
    "  $ x_i $ 上的值 $ T \\hat v(x_i) $。  \n",
    "1. 除非满足某些停止条件，否则设置\n",
    "  $ \\{ v_0, \\ldots, v_I \\} = \\{ T \\hat v(x_0), \\ldots, T \\hat v(x_I) \\} $ 并返回步骤2。  \n",
    "\n",
    "\n",
    "在步骤2中，我们将使用连续分段线性插值。"
   ]
  },
  {
   "cell_type": "markdown",
   "id": "6e6d5c1b",
   "metadata": {},
   "source": [
    "### 实现\n",
    "\n",
    "下面的`maximize`函数是一个小型辅助函数，它将SciPy的最小化程序转换为最大化程序。"
   ]
  },
  {
   "cell_type": "code",
   "execution_count": null,
   "id": "6f22b791",
   "metadata": {
    "hide-output": false
   },
   "outputs": [],
   "source": [
    "def maximize(g, a, b, args):\n",
    "    \"\"\"\n",
    "    在区间[a, b]上最大化函数g。\n",
    "\n",
    "    我们利用了在任何区间上g的最大化器\n",
    "    也是-g的最小化器这一事实。元组args收集了g的任何额外\n",
    "    参数。\n",
    "\n",
    "    返回最大值和最大化器。\n",
    "    \"\"\"\n",
    "\n",
    "    objective = lambda x: -g(x, *args)\n",
    "    result = minimize_scalar(objective, bounds=(a, b), method='bounded')\n",
    "    maximizer, maximum = result.x, -result.fun\n",
    "    return maximizer, maximum"
   ]
  },
  {
   "cell_type": "markdown",
   "id": "d918cc52",
   "metadata": {},
   "source": [
    "我们将参数 $ \\beta $ 和 $ \\gamma $ 存储在一个名为 `CakeEating` 的类中。\n",
    "\n",
    "这个类还将提供一个名为 `state_action_value` 的方法，该方法根据特定状态和对 $ v $ 的猜测返回消费选择的价值。"
   ]
  },
  {
   "cell_type": "code",
   "execution_count": null,
   "id": "426750af",
   "metadata": {
    "hide-output": false
   },
   "outputs": [],
   "source": [
    "class CakeEating:\n",
    "\n",
    "    def __init__(self,\n",
    "                 β=0.96,           # 贴现因子\n",
    "                 γ=1.5,            # 相对风险厌恶程度\n",
    "                 x_grid_min=1e-3,  # 为了数值稳定性排除零\n",
    "                 x_grid_max=2.5,   # 蛋糕大小\n",
    "                 x_grid_size=120):\n",
    "\n",
    "        self.β, self.γ = β, γ\n",
    "\n",
    "        # 设置网格\n",
    "        self.x_grid = np.linspace(x_grid_min, x_grid_max, x_grid_size)\n",
    "\n",
    "    # 效用函数\n",
    "    def u(self, c):\n",
    "\n",
    "        γ = self.γ\n",
    "\n",
    "        if γ == 1:\n",
    "            return np.log(c)\n",
    "        else:\n",
    "            return (c ** (1 - γ)) / (1 - γ)\n",
    "\n",
    "    # 效用函数的一阶导数\n",
    "    def u_prime(self, c):\n",
    "\n",
    "        return c ** (-self.γ)\n",
    "\n",
    "    def state_action_value(self, c, x, v_array):\n",
    "        \"\"\"\n",
    "        给定x和c时贝尔曼方程的右侧。\n",
    "        \"\"\"\n",
    "\n",
    "        u, β = self.u, self.β\n",
    "        v = lambda x: np.interp(x, self.x_grid, v_array)\n",
    "\n",
    "        return u(c) + β * v(x - c)"
   ]
  },
  {
   "cell_type": "markdown",
   "id": "98fa951c",
   "metadata": {},
   "source": [
    "现在我们定义贝尔曼算子："
   ]
  },
  {
   "cell_type": "code",
   "execution_count": null,
   "id": "4aa81f08",
   "metadata": {
    "hide-output": false
   },
   "outputs": [],
   "source": [
    "def T(v, ce):\n",
    "    \"\"\"\n",
    "    贝尔曼算子。更新值函数的估计值。\n",
    "\n",
    "    * ce 是 CakeEating 类的一个实例\n",
    "    * v 是一个数组，表示值函数的估计值\n",
    "\n",
    "    \"\"\"\n",
    "    v_new = np.empty_like(v)\n",
    "\n",
    "    for i, x in enumerate(ce.x_grid):\n",
    "        # 在状态 x 下最大化贝尔曼方程的右侧\n",
    "        v_new[i] = maximize(ce.state_action_value, 1e-10, x, (x, v))[1]\n",
    "\n",
    "    return v_new"
   ]
  },
  {
   "cell_type": "markdown",
   "id": "4c3d2d1b",
   "metadata": {},
   "source": [
    "在定义了贝尔曼算子之后，我们就可以开始求解这个模型了。\n",
    "\n",
    "让我们先用默认参数创建一个`CakeEating`实例。"
   ]
  },
  {
   "cell_type": "code",
   "execution_count": null,
   "id": "e0001070",
   "metadata": {
    "hide-output": false
   },
   "outputs": [],
   "source": [
    "ce = CakeEating()"
   ]
  },
  {
   "cell_type": "markdown",
   "id": "e71f35fb",
   "metadata": {},
   "source": [
    "现在让我们看看值函数的迭代过程。\n",
    "\n",
    "我们从初始猜测值$ v $开始，对每个网格点$ x $，令$ v(x) = u(x) $。"
   ]
  },
  {
   "cell_type": "code",
   "execution_count": null,
   "id": "4022d8ba",
   "metadata": {
    "hide-output": false
   },
   "outputs": [],
   "source": [
    "x_grid = ce.x_grid\n",
    "v = ce.u(x_grid)       # 初始猜测\n",
    "n = 12                 # 迭代次数\n",
    "\n",
    "fig, ax = plt.subplots()\n",
    "\n",
    "ax.plot(x_grid, v, color=plt.cm.jet(0),\n",
    "        lw=2, alpha=0.6, label='初始猜测')\n",
    "\n",
    "for i in range(n):\n",
    "    v = T(v, ce)  # 应用贝尔曼算子\n",
    "    ax.plot(x_grid, v, color=plt.cm.jet(i / n), lw=2, alpha=0.6)\n",
    "\n",
    "ax.legend()\n",
    "ax.set_ylabel('值', fontsize=12)\n",
    "ax.set_xlabel('蛋糕大小 $x$', fontsize=12)\n",
    "ax.set_title('值函数迭代')\n",
    "\n",
    "plt.show()"
   ]
  },
  {
   "cell_type": "markdown",
   "id": "531c1656",
   "metadata": {},
   "source": [
    "为了更系统地完成这项工作，我们引入一个名为`compute_value_function`的包装函数，该函数会一直迭代直到满足某些收敛条件。"
   ]
  },
  {
   "cell_type": "code",
   "execution_count": null,
   "id": "5bb803fa",
   "metadata": {
    "hide-output": false
   },
   "outputs": [],
   "source": [
    "def compute_value_function(ce,\n",
    "                           tol=1e-4,\n",
    "                           max_iter=1000,\n",
    "                           verbose=True,\n",
    "                           print_skip=25):\n",
    "\n",
    "    # 设置循环\n",
    "    v = np.zeros(len(ce.x_grid)) # 初始猜测\n",
    "    i = 0\n",
    "    error = tol + 1\n",
    "\n",
    "    while i < max_iter and error > tol:\n",
    "        v_new = T(v, ce)\n",
    "\n",
    "        error = np.max(np.abs(v - v_new))\n",
    "        i += 1\n",
    "\n",
    "        if verbose and i % print_skip == 0:\n",
    "            print(f\"Error at iteration {i} is {error}.\")\n",
    "\n",
    "        v = v_new\n",
    "\n",
    "    if error > tol:\n",
    "        print(\"Failed to converge!\")\n",
    "    elif verbose:\n",
    "        print(f\"\\nConverged in {i} iterations.\")\n",
    "\n",
    "    return v_new"
   ]
  },
  {
   "cell_type": "markdown",
   "id": "d7859249",
   "metadata": {},
   "source": [
    "现在让我们调用它，注意运行需要一点时间。"
   ]
  },
  {
   "cell_type": "code",
   "execution_count": null,
   "id": "42b9a701",
   "metadata": {
    "hide-output": false
   },
   "outputs": [],
   "source": [
    "v = compute_value_function(ce)"
   ]
  },
  {
   "cell_type": "markdown",
   "id": "f6ab7676",
   "metadata": {},
   "source": [
    "现在我们可以绘图查看收敛后的值函数是什么样子。"
   ]
  },
  {
   "cell_type": "code",
   "execution_count": null,
   "id": "5ff8d5cd",
   "metadata": {
    "hide-output": false
   },
   "outputs": [],
   "source": [
    "fig, ax = plt.subplots()\n",
    "\n",
    "ax.plot(x_grid, v, label='近似值函数')\n",
    "ax.set_ylabel('$V(x)$', fontsize=12)\n",
    "ax.set_xlabel('$x$', fontsize=12)\n",
    "ax.set_title('值函数')\n",
    "ax.legend()\n",
    "plt.show()"
   ]
  },
  {
   "cell_type": "markdown",
   "id": "5b36d753",
   "metadata": {},
   "source": [
    "接下来让我们将其与解析解进行比较。"
   ]
  },
  {
   "cell_type": "code",
   "execution_count": null,
   "id": "a83cf8fc",
   "metadata": {
    "hide-output": false
   },
   "outputs": [],
   "source": [
    "v_analytical = v_star(ce.x_grid, ce.β, ce.γ)"
   ]
  },
  {
   "cell_type": "code",
   "execution_count": null,
   "id": "c41a2a5c",
   "metadata": {
    "hide-output": false
   },
   "outputs": [],
   "source": [
    "fig, ax = plt.subplots()\n",
    "\n",
    "ax.plot(x_grid, v_analytical, label='解析解')\n",
    "ax.plot(x_grid, v, label='数值解')\n",
    "ax.set_ylabel('$V(x)$', fontsize=12)\n",
    "ax.set_xlabel('$x$', fontsize=12)\n",
    "ax.legend()\n",
    "ax.set_title('解析值函数与数值值函数的比较')\n",
    "plt.show()"
   ]
  },
  {
   "cell_type": "markdown",
   "id": "3991cf09",
   "metadata": {},
   "source": [
    "对于较大的 $ x $ 值,近似的质量相当好,但在接近下边界时则不太理想。\n",
    "\n",
    "这是因为效用函数以及由此产生的价值函数在接近下边界时非常陡峭,因此很难进行近似。"
   ]
  },
  {
   "cell_type": "markdown",
   "id": "ed4a738f",
   "metadata": {},
   "source": [
    "### 策略函数\n",
    "\n",
    "让我们看看这在计算最优策略时会如何表现。\n",
    "\n",
    "在[蛋糕食用问题的第一讲](https://python.quantecon.org/cake_eating_problem.html)中,最优消费策略被证明为\n",
    "\n",
    "$$\n",
    "\\sigma^*(x) = \\left(1-\\beta^{1/\\gamma} \\right) x\n",
    "$$\n",
    "\n",
    "让我们看看我们的数值结果是否能得到类似的结果。\n",
    "\n",
    "我们的数值策略将是在一系列 $ x $ 点上计算\n",
    "\n",
    "$$\n",
    "\\sigma(x) = \\arg \\max_{0 \\leq c \\leq x} \\{u(c) + \\beta v(x - c)\\}\n",
    "$$\n",
    "\n",
    "然后进行插值。\n",
    "\n",
    "对于 $ v $,我们将使用我们上面获得的价值函数的近似值。\n",
    "\n",
    "这是相关函数:"
   ]
  },
  {
   "cell_type": "code",
   "execution_count": null,
   "id": "53db14d6",
   "metadata": {
    "hide-output": false
   },
   "outputs": [],
   "source": [
    "def σ(ce, v):\n",
    "    \"\"\"\n",
    "    最优策略函数。给定价值函数,\n",
    "    它找到每个状态下的最优消费。\n",
    "\n",
    "    * ce 是 CakeEating 的一个实例\n",
    "    * v 是一个价值函数数组\n",
    "\n",
    "    \"\"\"\n",
    "    c = np.empty_like(v)\n",
    "\n",
    "    for i in range(len(ce.x_grid)):\n",
    "        x = ce.x_grid[i]\n",
    "        # 在状态 x 下最大化贝尔曼方程的右侧\n",
    "        c[i] = maximize(ce.state_action_value, 1e-10, x, (x, v))[0]\n",
    "\n",
    "    return c"
   ]
  },
  {
   "cell_type": "markdown",
   "id": "5207bf5f",
   "metadata": {},
   "source": [
    "现在让我们传入近似值函数并计算最优消费："
   ]
  },
  {
   "cell_type": "code",
   "execution_count": null,
   "id": "3e01bac4",
   "metadata": {
    "hide-output": false
   },
   "outputs": [],
   "source": [
    "c = σ(ce, v)"
   ]
  },
  {
   "cell_type": "markdown",
   "id": "863500ef",
   "metadata": {},
   "source": [
    "\n",
    "<a id='pol-an'></a>\n",
    "让我们将其与真实的解析解进行对比绘图"
   ]
  },
  {
   "cell_type": "code",
   "execution_count": null,
   "id": "096b0d77",
   "metadata": {
    "hide-output": false
   },
   "outputs": [],
   "source": [
    "c_analytical = c_star(ce.x_grid, ce.β, ce.γ)\n",
    "\n",
    "fig, ax = plt.subplots()\n",
    "\n",
    "ax.plot(ce.x_grid, c_analytical, label='analytical')\n",
    "ax.plot(ce.x_grid, c, label='numerical')\n",
    "ax.set_ylabel(r'$\\sigma(x)$')\n",
    "ax.set_xlabel('$x$')\n",
    "ax.legend()\n",
    "\n",
    "plt.show()"
   ]
  },
  {
   "cell_type": "markdown",
   "id": "2f309b70",
   "metadata": {},
   "source": [
    "拟合结果还算合理，但并不完美。\n",
    "\n",
    "我们可以通过增加网格大小或降低值函数迭代程序中的误差容限来改进它。\n",
    "\n",
    "但这两种改变都会导致计算时间变长。\n",
    "\n",
    "另一种可能是使用替代算法，这可以实现更快的计算时间，同时获得更高的精确度。\n",
    "\n",
    "接下来我们将探讨这一点。"
   ]
  },
  {
   "cell_type": "markdown",
   "id": "3d1bf0ae",
   "metadata": {},
   "source": [
    "## 时间迭代\n",
    "\n",
    "现在让我们看看计算最优策略的另一种方法。\n",
    "\n",
    "回想一下，最优策略满足欧拉方程\n",
    "\n",
    "\n",
    "<a id='equation-euler-cen'></a>\n",
    "$$\n",
    "u' (\\sigma(x)) = \\beta u' ( \\sigma(x - \\sigma(x)))\n",
    "\\quad \\text{for all } x > 0 \\tag{39.2}\n",
    "$$\n",
    "\n",
    "从计算角度来看，我们可以从任意初始猜测值 $ \\sigma_0 $ 开始，然后选择 $ c $ 来求解\n",
    "\n",
    "$$\n",
    "u^{\\prime}( c ) = \\beta u^{\\prime} (\\sigma_0(x - c))\n",
    "$$\n",
    "\n",
    "在所有 $ x > 0 $ 处选择 $ c $ 来满足这个方程会产生一个关于 $ x $ 的函数。\n",
    "\n",
    "将这个新函数称为 $ \\sigma_1 $，把它作为新的猜测值并重复这个过程。\n",
    "这被称为**时间迭代**。\n",
    "\n",
    "与值函数迭代一样，我们可以将更新步骤视为一个算子的作用，这次用$ K $表示。\n",
    "\n",
    "- 特别地，$ K\\sigma $是使用刚才描述的程序从$ \\sigma $更新得到的策略。  \n",
    "- 我们将在下面的练习中使用这个术语。  \n",
    "\n",
    "\n",
    "相对于值函数迭代，时间迭代的主要优势在于它在策略空间而不是值函数空间中运作。\n",
    "\n",
    "这很有帮助，因为策略函数的曲率较小，因此更容易近似。\n",
    "\n",
    "在练习中，你需要实现时间迭代并将其与值函数迭代进行比较。\n",
    "\n",
    "你应该会发现这个方法更快且更准确。\n",
    "\n",
    "这是由于\n",
    "\n",
    "1. 刚才提到的曲率问题，以及  \n",
    "1. 我们使用了更多信息——在这种情况下是一阶条件。  "
   ]
  },
  {
   "cell_type": "markdown",
   "id": "3d47816b",
   "metadata": {},
   "source": [
    "## 练习"
   ]
  },
  {
   "cell_type": "markdown",
   "id": "7062efda",
   "metadata": {},
   "source": [
    "## Exercise 39.1\n",
    "\n",
    "尝试以下问题的修改。\n",
    "让蛋糕大小不再按照 $ x_{t+1} = x_t - c_t $ 变化，\n",
    "而是按照\n",
    "\n",
    "$$\n",
    "x_{t+1} = (x_t - c_t)^{\\alpha}\n",
    "$$\n",
    "\n",
    "变化，其中 $ \\alpha $ 是一个满足 $ 0 < \\alpha < 1 $ 的参数。\n",
    "\n",
    "(我们在学习最优增长模型时会看到这种更新规则。)\n",
    "\n",
    "对值函数迭代代码进行必要的修改并绘制值函数和策略函数。\n",
    "\n",
    "尽可能多地重用现有代码。"
   ]
  },
  {
   "cell_type": "markdown",
   "id": "f921a4c9",
   "metadata": {},
   "source": [
    "## Solution to[ Exercise 39.1](https://python.quantecon.org/#cen_ex1)\n",
    "\n",
    "我们需要创建一个类来保存我们的基本参数并返回贝尔曼方程的右侧。\n",
    "\n",
    "我们将使用[继承](https://en.wikipedia.org/wiki/Inheritance_%28object-oriented_programming%29)来最大化代码重用。"
   ]
  },
  {
   "cell_type": "code",
   "execution_count": null,
   "id": "d25e34ca",
   "metadata": {
    "hide-output": false
   },
   "outputs": [],
   "source": [
    "class OptimalGrowth(CakeEating):\n",
    "    \"\"\"\n",
    "    CakeEating的一个子类，添加了参数α并重写了\n",
    "    state_action_value方法。\n",
    "    \"\"\"\n",
    "\n",
    "    def __init__(self,\n",
    "                 β=0.96,           # 贴现因子\n",
    "                 γ=1.5,            # 相对风险厌恶度\n",
    "                 α=0.4,            # 生产力参数\n",
    "                 x_grid_min=1e-3,  # 为了数值稳定性排除零\n",
    "                 x_grid_max=2.5,   # 蛋糕大小\n",
    "                 x_grid_size=120):\n",
    "\n",
    "        self.α = α\n",
    "        CakeEating.__init__(self, β, γ, x_grid_min, x_grid_max, x_grid_size)\n",
    "\n",
    "    def state_action_value(self, c, x, v_array):\n",
    "        \"\"\"\n",
    "        给定x和c时贝尔曼方程的右侧。\n",
    "        \"\"\"\n",
    "\n",
    "        u, β, α = self.u, self.β, self.α\n",
    "        v = lambda x: np.interp(x, self.x_grid, v_array)\n",
    "\n",
    "        return u(c) + β * v((x - c)**α)"
   ]
  },
  {
   "cell_type": "code",
   "execution_count": null,
   "id": "5c6e5f0e",
   "metadata": {
    "hide-output": false
   },
   "outputs": [],
   "source": [
    "og = OptimalGrowth()"
   ]
  },
  {
   "cell_type": "markdown",
   "id": "629bb0da",
   "metadata": {},
   "source": [
    "这是计算得到的值函数。"
   ]
  },
  {
   "cell_type": "code",
   "execution_count": null,
   "id": "a6581cdb",
   "metadata": {
    "hide-output": false
   },
   "outputs": [],
   "source": [
    "v = compute_value_function(og, verbose=False)\n",
    "\n",
    "fig, ax = plt.subplots()\n",
    "\n",
    "ax.plot(x_grid, v, lw=2, alpha=0.6)\n",
    "ax.set_ylabel('值', fontsize=12)\n",
    "ax.set_xlabel('状态 $x$', fontsize=12)\n",
    "\n",
    "plt.show()"
   ]
  },
  {
   "cell_type": "markdown",
   "id": "394692a1",
   "metadata": {},
   "source": [
    "这是计算得出的策略，与我们之前推导的标准蛋糕食用情况（$ \\alpha=1 $）的解决方案相结合。"
   ]
  },
  {
   "cell_type": "code",
   "execution_count": null,
   "id": "4a17634a",
   "metadata": {
    "hide-output": false
   },
   "outputs": [],
   "source": [
    "c_new = σ(og, v)\n",
    "\n",
    "fig, ax = plt.subplots()\n",
    "\n",
    "ax.plot(ce.x_grid, c_analytical, label=r'$\\alpha=1$ 解')\n",
    "ax.plot(ce.x_grid, c_new, label=fr'$\\alpha={og.α}$ 解')\n",
    "\n",
    "ax.set_ylabel('消费', fontsize=12)\n",
    "ax.set_xlabel('$x$', fontsize=12)\n",
    "\n",
    "ax.legend(fontsize=12)\n",
    "\n",
    "plt.show()"
   ]
  },
  {
   "cell_type": "markdown",
   "id": "459c43fd",
   "metadata": {},
   "source": [
    "当 $ \\alpha < 1 $ 时消费更高,因为至少对于较大的 $ x $ 而言,储蓄的回报率更低。"
   ]
  },
  {
   "cell_type": "markdown",
   "id": "3455f47d",
   "metadata": {},
   "source": [
    "## Exercise 39.2\n",
    "\n",
    "实现时间迭代法,回到原始情况(即,去掉上述练习中的修改)。"
   ]
  },
  {
   "cell_type": "markdown",
   "id": "ec082138",
   "metadata": {},
   "source": [
    "## Solution to[ Exercise 39.2](https://python.quantecon.org/#cen_ex2)\n",
    "\n",
    "这是实现时间迭代的一种方法。"
   ]
  },
  {
   "cell_type": "code",
   "execution_count": null,
   "id": "14fb97b6",
   "metadata": {
    "hide-output": false
   },
   "outputs": [],
   "source": [
    "def K(σ_array, ce):\n",
    "    \"\"\"\n",
    "    策略函数算子。给定策略函数,\n",
    "    使用欧拉方程更新最优消费。\n",
    "\n",
    "    * σ_array 是网格上策略函数值的数组\n",
    "    * ce 是 CakeEating 的一个实例\n",
    "\n",
    "    \"\"\"\n",
    "\n",
    "    u_prime, β, x_grid = ce.u_prime, ce.β, ce.x_grid\n",
    "    σ_new = np.empty_like(σ_array)\n",
    "\n",
    "    σ = lambda x: np.interp(x, x_grid, σ_array)\n",
    "\n",
    "    def euler_diff(c, x):\n",
    "        return u_prime(c) - β * u_prime(σ(x - c))\n",
    "\n",
    "    for i, x in enumerate(x_grid):\n",
    "\n",
    "        # 单独处理小的 x --- 有助于数值稳定性\n",
    "        if x < 1e-12:\n",
    "            σ_new[i] = 0.0\n",
    "\n",
    "        # 处理其他 x\n",
    "        else:\n",
    "            σ_new[i] = bisect(euler_diff, 1e-10, x - 1e-10, x)\n",
    "\n",
    "    return σ_new"
   ]
  },
  {
   "cell_type": "code",
   "execution_count": null,
   "id": "b85b85d1",
   "metadata": {
    "hide-output": false
   },
   "outputs": [],
   "source": [
    "def iterate_euler_equation(ce,\n",
    "                           max_iter=500,\n",
    "                           tol=1e-5,\n",
    "                           verbose=True,\n",
    "                           print_skip=25):\n",
    "\n",
    "    x_grid = ce.x_grid\n",
    "\n",
    "    σ = np.copy(x_grid)        # 初始猜测\n",
    "\n",
    "    i = 0\n",
    "    error = tol + 1\n",
    "    while i < max_iter and error > tol:\n",
    "\n",
    "        σ_new = K(σ, ce)\n",
    "\n",
    "        error = np.max(np.abs(σ_new - σ))\n",
    "        i += 1\n",
    "\n",
    "        if verbose and i % print_skip == 0:\n",
    "            print(f\"第{i}次迭代的误差是{error}。\")\n",
    "\n",
    "        σ = σ_new\n",
    "\n",
    "    if error > tol:\n",
    "        print(\"未能收敛！\")\n",
    "    elif verbose:\n",
    "        print(f\"\\n在{i}次迭代后收敛。\")\n",
    "\n",
    "    return σ"
   ]
  },
  {
   "cell_type": "code",
   "execution_count": null,
   "id": "fb81e310",
   "metadata": {
    "hide-output": false
   },
   "outputs": [],
   "source": [
    "ce = CakeEating(x_grid_min=0.0)\n",
    "c_euler = iterate_euler_equation(ce)"
   ]
  },
  {
   "cell_type": "code",
   "execution_count": null,
   "id": "99b3ef89",
   "metadata": {
    "hide-output": false
   },
   "outputs": [],
   "source": [
    "fig, ax = plt.subplots()\n",
    "\n",
    "ax.plot(ce.x_grid, c_analytical, label='解析解')\n",
    "ax.plot(ce.x_grid, c_euler, label='时间迭代解')\n",
    "\n",
    "ax.set_ylabel('消费')\n",
    "ax.set_xlabel('$x$')\n",
    "ax.legend(fontsize=12)\n",
    "\n",
    "plt.show()"
   ]
  }
 ],
 "metadata": {
  "date": 1750032241.0994086,
  "filename": "cake_eating_numerical.md",
  "kernelspec": {
   "display_name": "Python",
   "language": "python3",
   "name": "python3"
  },
  "title": "蛋糕食用问题 II：数值方法"
 },
 "nbformat": 4,
 "nbformat_minor": 5
}