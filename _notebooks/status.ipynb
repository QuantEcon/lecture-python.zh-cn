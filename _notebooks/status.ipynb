{
 "cells": [
  {
   "cell_type": "markdown",
   "id": "36b872fe",
   "metadata": {},
   "source": [
    "# 执行统计\n",
    "\n",
    "此表格包含最新的执行统计数据。\n",
    "\n",
    "[](https://python.quantecon.org/aiyagari.html)[](https://python.quantecon.org/ak2.html)[](https://python.quantecon.org/ar1_bayes.html)[](https://python.quantecon.org/ar1_turningpts.html)[](https://python.quantecon.org/back_prop.html)[](https://python.quantecon.org/bayes_nonconj.html)[](https://python.quantecon.org/cake_eating_numerical.html)[](https://python.quantecon.org/cake_eating_problem.html)[](https://python.quantecon.org/career.html)[](https://python.quantecon.org/cass_fiscal.html)[](https://python.quantecon.org/cass_koopmans_1.html)[](https://python.quantecon.org/cass_koopmans_2.html)[](https://python.quantecon.org/coleman_policy_iter.html)[](https://python.quantecon.org/cross_product_trick.html)[](https://python.quantecon.org/egm_policy_iter.html)[](https://python.quantecon.org/eig_circulant.html)[](https://python.quantecon.org/exchangeable.html)[](https://python.quantecon.org/finite_markov.html)[](https://python.quantecon.org/ge_arrow.html)[](https://python.quantecon.org/harrison_kreps.html)[](https://python.quantecon.org/hoist_failure.html)[](https://python.quantecon.org/house_auction.html)[](https://python.quantecon.org/ifp.html)[](https://python.quantecon.org/ifp_advanced.html)[](https://python.quantecon.org/imp_sample.html)[](https://python.quantecon.org/intro.html)[](https://python.quantecon.org/inventory_dynamics.html)[](https://python.quantecon.org/jv.html)[](https://python.quantecon.org/kalman.html)[](https://python.quantecon.org/kalman_2.html)[](https://python.quantecon.org/kesten_processes.html)[](https://python.quantecon.org/lagrangian_lqdp.html)[](https://python.quantecon.org/lake_model.html)[](https://python.quantecon.org/likelihood_bayes.html)[](https://python.quantecon.org/likelihood_ratio_process.html)[](https://python.quantecon.org/linear_algebra.html)[](https://python.quantecon.org/linear_models.html)[](https://python.quantecon.org/lln_clt.html)[](https://python.quantecon.org/lq_inventories.html)[](https://python.quantecon.org/lqcontrol.html)[](https://python.quantecon.org/markov_asset.html)[](https://python.quantecon.org/markov_perf.html)[](https://python.quantecon.org/mccall_correlated.html)[](https://python.quantecon.org/mccall_fitted_vfi.html)[](https://python.quantecon.org/mccall_model.html)[](https://python.quantecon.org/mccall_model_with_separation.html)[](https://python.quantecon.org/mccall_q.html)[](https://python.quantecon.org/mix_model.html)[](https://python.quantecon.org/mle.html)[](https://python.quantecon.org/multi_hyper.html)[](https://python.quantecon.org/multivariate_normal.html)[](https://python.quantecon.org/navy_captain.html)[](https://python.quantecon.org/newton_method.html)[](https://python.quantecon.org/odu.html)[](https://python.quantecon.org/ols.html)[](https://python.quantecon.org/opt_transport.html)[](https://python.quantecon.org/optgrowth.html)[](https://python.quantecon.org/optgrowth_fast.html)[](https://python.quantecon.org/pandas_panel.html)[](https://python.quantecon.org/perm_income.html)[](https://python.quantecon.org/perm_income_cons.html)[](https://python.quantecon.org/prob_matrix.html)[](https://python.quantecon.org/prob_meaning.html)[](https://python.quantecon.org/qr_decomp.html)[](https://python.quantecon.org/rand_resp.html)[](https://python.quantecon.org/rational_expectations.html)[](https://python.quantecon.org/re_with_feedback.html)[](https://python.quantecon.org/samuelson.html)[](https://python.quantecon.org/sir_model.html)[](https://python.quantecon.org/.html)[](https://python.quantecon.org/svd_intro.html)[](https://python.quantecon.org/troubleshooting.html)[](https://python.quantecon.org/two_auctions.html)[](https://python.quantecon.org/uncertainty_traps.html)[](https://python.quantecon.org/util_rand_resp.html)[](https://python.quantecon.org/var_dmd.html)[](https://python.quantecon.org/von_neumann_model.html)[](https://python.quantecon.org/wald_friedman.html)[](https://python.quantecon.org/wealth_dynamics.html)[](https://python.quantecon.org/zreferences.html)|Document|Modified|Method|Run Time (s)|Status|\n",
    "|:------------------:|:------------------:|:------------------:|:------------------:|:------------------:|\n",
    "|aiyagari|2025-05-12 03:26|cache|17.33|✅|\n",
    "|ak2|2025-05-12 03:27|cache|10.84|✅|\n",
    "|ar1_bayes|2025-05-12 03:29|cache|114.33|✅|\n",
    "|ar1_turningpts|2025-05-12 03:29|cache|18.91|✅|\n",
    "|back_prop|2025-05-12 03:30|cache|46.82|✅|\n",
    "|bayes_nonconj|2025-05-16 03:33|cache|96.98|✅|\n",
    "|cake_eating_numerical|2025-05-12 03:31|cache|18.76|✅|\n",
    "|cake_eating_problem|2025-05-12 03:31|cache|1.59|✅|\n",
    "|career|2025-05-12 03:32|cache|11.72|✅|\n",
    "|cass_fiscal|2025-05-12 03:32|cache|11.59|✅|\n",
    "|cass_koopmans_1|2025-05-12 03:32|cache|11.1|✅|\n",
    "|cass_koopmans_2|2025-05-12 03:32|cache|6.23|✅|\n",
    "|coleman_policy_iter|2025-05-12 03:32|cache|13.05|✅|\n",
    "|cross_product_trick|2025-05-12 03:32|cache|1.0|✅|\n",
    "|egm_policy_iter|2025-05-12 03:32|cache|5.54|✅|\n",
    "|eig_circulant|2025-05-12 03:32|cache|3.57|✅|\n",
    "|exchangeable|2025-05-12 03:33|cache|7.17|✅|\n",
    "|finite_markov|2025-05-12 03:33|cache|5.33|✅|\n",
    "|ge_arrow|2025-05-12 03:33|cache|1.75|✅|\n",
    "|harrison_kreps|2025-05-12 03:33|cache|3.18|✅|\n",
    "|hoist_failure|2025-05-12 03:34|cache|49.04|✅|\n",
    "|house_auction|2025-05-16 03:33|cache|3.0|❌|\n",
    "|ifp|2025-05-12 03:34|cache|31.1|✅|\n",
    "|ifp_advanced|2025-05-12 03:34|cache|16.08|✅|\n",
    "|imp_sample|2025-05-12 03:40|cache|352.47|✅|\n",
    "|intro|2025-05-12 03:40|cache|0.98|✅|\n",
    "|inventory_dynamics|2025-05-12 03:40|cache|9.7|✅|\n",
    "|jv|2025-05-12 03:41|cache|15.11|✅|\n",
    "|kalman|2025-05-12 03:41|cache|5.46|✅|\n",
    "|kalman_2|2025-05-12 03:41|cache|34.5|✅|\n",
    "|kesten_processes|2025-05-12 03:42|cache|32.33|✅|\n",
    "|lagrangian_lqdp|2025-05-12 03:42|cache|19.06|✅|\n",
    "|lake_model|2025-05-12 03:42|cache|9.91|✅|\n",
    "|likelihood_bayes|2025-05-12 03:43|cache|35.61|✅|\n",
    "|likelihood_ratio_process|2025-05-12 03:43|cache|7.33|✅|\n",
    "|linear_algebra|2025-05-12 03:43|cache|2.08|✅|\n",
    "|linear_models|2025-05-12 03:43|cache|5.43|✅|\n",
    "|lln_clt|2025-05-12 03:43|cache|8.25|✅|\n",
    "|lq_inventories|2025-05-12 03:44|cache|10.07|✅|\n",
    "|lqcontrol|2025-05-12 03:44|cache|4.28|✅|\n",
    "|markov_asset|2025-05-12 03:44|cache|4.68|✅|\n",
    "|markov_perf|2025-05-12 03:44|cache|3.78|✅|\n",
    "|mccall_correlated|2025-05-12 03:45|cache|57.14|✅|\n",
    "|mccall_fitted_vfi|2025-05-12 03:45|cache|11.42|✅|\n",
    "|mccall_model|2025-05-12 03:45|cache|11.64|✅|\n",
    "|mccall_model_with_separation|2025-05-12 03:45|cache|6.48|✅|\n",
    "|mccall_q|2025-05-12 03:45|cache|13.62|✅|\n",
    "|mix_model|2025-05-12 03:46|cache|22.12|✅|\n",
    "|mle|2025-05-12 03:46|cache|4.52|✅|\n",
    "|multi_hyper|2025-05-12 03:46|cache|16.55|✅|\n",
    "|multivariate_normal|2025-05-12 03:46|cache|4.11|✅|\n",
    "|navy_captain|2025-05-12 03:47|cache|25.29|✅|\n",
    "|newton_method|2025-05-12 03:48|cache|65.91|✅|\n",
    "|odu|2025-05-12 03:49|cache|56.77|✅|\n",
    "|ols|2025-05-12 03:49|cache|7.66|✅|\n",
    "|opt_transport|2025-05-12 03:49|cache|16.02|✅|\n",
    "|optgrowth|2025-05-12 03:50|cache|45.57|✅|\n",
    "|optgrowth_fast|2025-05-12 03:50|cache|16.58|✅|\n",
    "|pandas_panel|2025-05-12 03:50|cache|4.06|✅|\n",
    "|perm_income|2025-05-12 03:50|cache|3.46|✅|\n",
    "|perm_income_cons|2025-05-12 03:50|cache|4.85|✅|\n",
    "|prob_matrix|2025-05-12 03:51|cache|8.39|✅|\n",
    "|prob_meaning|2025-05-12 03:51|cache|34.13|✅|\n",
    "|qr_decomp|2025-05-12 03:51|cache|1.35|✅|\n",
    "|rand_resp|2025-05-12 03:51|cache|2.3|✅|\n",
    "|rational_expectations|2025-05-12 03:51|cache|3.36|✅|\n",
    "|re_with_feedback|2025-05-12 03:51|cache|7.13|✅|\n",
    "|samuelson|2025-05-12 03:51|cache|8.74|✅|\n",
    "|sir_model|2025-05-12 03:52|cache|2.73|✅|\n",
    "|status|2025-05-12 03:52|cache|5.5|✅|\n",
    "|svd_intro|2025-05-12 03:52|cache|1.46|✅|\n",
    "|troubleshooting|2025-05-12 03:40|cache|0.98|✅|\n",
    "|two_auctions|2025-05-12 03:52|cache|19.33|✅|\n",
    "|uncertainty_traps|2025-05-12 03:52|cache|2.34|✅|\n",
    "|util_rand_resp|2025-05-12 03:52|cache|2.72|✅|\n",
    "|var_dmd|2025-05-12 03:40|cache|0.98|✅|\n",
    "|von_neumann_model|2025-05-12 03:52|cache|2.12|✅|\n",
    "|wald_friedman|2025-05-12 03:52|cache|13.87|✅|\n",
    "|wealth_dynamics|2025-05-12 03:53|cache|39.41|✅|\n",
    "|zreferences|2025-05-12 03:40|cache|0.98|✅|\n",
    "\n",
    "<a id='status-machine-details'></a>\n",
    "这些讲座是通过`github actions`在`linux`实例上构建的。\n",
    "\n",
    "这些讲座使用以下Python版本"
   ]
  },
  {
   "cell_type": "code",
   "execution_count": null,
   "id": "7bdd9278",
   "metadata": {
    "hide-output": false
   },
   "outputs": [],
   "source": [
    "!python --version"
   ]
  },
  {
   "cell_type": "markdown",
   "id": "6e7586b2",
   "metadata": {},
   "source": [
    "以及以下软件包版本"
   ]
  },
  {
   "cell_type": "code",
   "execution_count": null,
   "id": "817874bc",
   "metadata": {
    "hide-output": false
   },
   "outputs": [],
   "source": [
    "!conda list"
   ]
  },
  {
   "cell_type": "markdown",
   "id": "41a84152",
   "metadata": {},
   "source": [
    "本讲座系列还可以使用以下GPU"
   ]
  },
  {
   "cell_type": "code",
   "execution_count": null,
   "id": "26923404",
   "metadata": {
    "hide-output": false
   },
   "outputs": [],
   "source": [
    "!nvidia-smi"
   ]
  }
 ],
 "metadata": {
  "date": 1747366412.9240603,
  "filename": "status.md",
  "kernelspec": {
   "display_name": "Python",
   "language": "python3",
   "name": "python3"
  },
  "title": "执行统计"
 },
 "nbformat": 4,
 "nbformat_minor": 5
}