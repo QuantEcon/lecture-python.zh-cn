{
 "cells": [
  {
   "cell_type": "markdown",
   "id": "929fd022",
   "metadata": {},
   "source": [
    "# 执行统计\n",
    "\n",
    "此表格包含最新的执行统计数据。\n",
    "\n",
    "[](https://python.quantecon.org/aiyagari.html)[](https://python.quantecon.org/ak2.html)[](https://python.quantecon.org/ak_aiyagari.html)[](https://python.quantecon.org/ar1_bayes.html)[](https://python.quantecon.org/ar1_turningpts.html)[](https://python.quantecon.org/back_prop.html)[](https://python.quantecon.org/bayes_nonconj.html)[](https://python.quantecon.org/cake_eating_numerical.html)[](https://python.quantecon.org/cake_eating_problem.html)[](https://python.quantecon.org/career.html)[](https://python.quantecon.org/cass_fiscal.html)[](https://python.quantecon.org/cass_fiscal_2.html)[](https://python.quantecon.org/cass_koopmans_1.html)[](https://python.quantecon.org/cass_koopmans_2.html)[](https://python.quantecon.org/coleman_policy_iter.html)[](https://python.quantecon.org/cross_product_trick.html)[](https://python.quantecon.org/divergence_measures.html)[](https://python.quantecon.org/egm_policy_iter.html)[](https://python.quantecon.org/eig_circulant.html)[](https://python.quantecon.org/exchangeable.html)[](https://python.quantecon.org/finite_markov.html)[](https://python.quantecon.org/ge_arrow.html)[](https://python.quantecon.org/harrison_kreps.html)[](https://python.quantecon.org/hoist_failure.html)[](https://python.quantecon.org/house_auction.html)[](https://python.quantecon.org/ifp.html)[](https://python.quantecon.org/ifp_advanced.html)[](https://python.quantecon.org/imp_sample.html)[](https://python.quantecon.org/intro.html)[](https://python.quantecon.org/inventory_dynamics.html)[](https://python.quantecon.org/jv.html)[](https://python.quantecon.org/kalman.html)[](https://python.quantecon.org/kalman_2.html)[](https://python.quantecon.org/kesten_processes.html)[](https://python.quantecon.org/lagrangian_lqdp.html)[](https://python.quantecon.org/lake_model.html)[](https://python.quantecon.org/likelihood_bayes.html)[](https://python.quantecon.org/likelihood_ratio_process.html)[](https://python.quantecon.org/likelihood_ratio_process_2.html)[](https://python.quantecon.org/likelihood_var.html)[](https://python.quantecon.org/linear_algebra.html)[](https://python.quantecon.org/linear_models.html)[](https://python.quantecon.org/lln_clt.html)[](https://python.quantecon.org/lq_inventories.html)[](https://python.quantecon.org/lqcontrol.html)[](https://python.quantecon.org/markov_asset.html)[](https://python.quantecon.org/markov_perf.html)[](https://python.quantecon.org/mccall_correlated.html)[](https://python.quantecon.org/mccall_fitted_vfi.html)[](https://python.quantecon.org/mccall_model.html)[](https://python.quantecon.org/mccall_model_with_separation.html)[](https://python.quantecon.org/mccall_q.html)[](https://python.quantecon.org/mix_model.html)[](https://python.quantecon.org/mle.html)[](https://python.quantecon.org/multi_hyper.html)[](https://python.quantecon.org/multivariate_normal.html)[](https://python.quantecon.org/navy_captain.html)[](https://python.quantecon.org/newton_method.html)[](https://python.quantecon.org/odu.html)[](https://python.quantecon.org/ols.html)[](https://python.quantecon.org/opt_transport.html)[](https://python.quantecon.org/optgrowth.html)[](https://python.quantecon.org/optgrowth_fast.html)[](https://python.quantecon.org/pandas_panel.html)[](https://python.quantecon.org/perm_income.html)[](https://python.quantecon.org/perm_income_cons.html)[](https://python.quantecon.org/prob_matrix.html)[](https://python.quantecon.org/prob_meaning.html)[](https://python.quantecon.org/qr_decomp.html)[](https://python.quantecon.org/rand_resp.html)[](https://python.quantecon.org/rational_expectations.html)[](https://python.quantecon.org/re_with_feedback.html)[](https://python.quantecon.org/samuelson.html)[](https://python.quantecon.org/sir_model.html)[](https://python.quantecon.org/stats_examples.html)[](https://python.quantecon.org/.html)[](https://python.quantecon.org/svd_intro.html)[](https://python.quantecon.org/troubleshooting.html)[](https://python.quantecon.org/two_auctions.html)[](https://python.quantecon.org/uncertainty_traps.html)[](https://python.quantecon.org/util_rand_resp.html)[](https://python.quantecon.org/var_dmd.html)[](https://python.quantecon.org/von_neumann_model.html)[](https://python.quantecon.org/wald_friedman.html)[](https://python.quantecon.org/wald_friedman_2.html)[](https://python.quantecon.org/wealth_dynamics.html)[](https://python.quantecon.org/zreferences.html)|Document|Modified|Method|Run Time (s)|Status|\n",
    "|:------------------:|:------------------:|:------------------:|:------------------:|:------------------:|\n",
    "|aiyagari|2025-10-20 03:27|cache|14.28|✅|\n",
    "|ak2|2025-10-20 03:28|cache|10.09|✅|\n",
    "|ak_aiyagari|2025-10-23 22:01|cache|4.73|❌|\n",
    "|ar1_bayes|2025-10-20 03:29|cache|99.9|✅|\n",
    "|ar1_turningpts|2025-10-20 03:30|cache|17.84|✅|\n",
    "|back_prop|2025-10-23 22:02|cache|64.65|❌|\n",
    "|bayes_nonconj|2025-10-23 22:03|cache|72.32|❌|\n",
    "|cake_eating_numerical|2025-10-20 03:32|cache|20.26|✅|\n",
    "|cake_eating_problem|2025-10-20 03:32|cache|1.51|✅|\n",
    "|career|2025-10-20 03:32|cache|11.02|✅|\n",
    "|cass_fiscal|2025-10-20 03:32|cache|14.4|✅|\n",
    "|cass_fiscal_2|2025-10-20 03:32|cache|4.42|✅|\n",
    "|cass_koopmans_1|2025-10-20 03:32|cache|13.97|✅|\n",
    "|cass_koopmans_2|2025-10-20 03:32|cache|5.88|✅|\n",
    "|coleman_policy_iter|2025-10-23 22:03|cache|5.71|❌|\n",
    "|cross_product_trick|2025-10-20 03:33|cache|0.71|✅|\n",
    "|divergence_measures|2025-10-20 03:33|cache|10.07|✅|\n",
    "|egm_policy_iter|2025-10-23 22:03|cache|1.36|❌|\n",
    "|eig_circulant|2025-10-20 03:33|cache|7.86|✅|\n",
    "|exchangeable|2025-10-20 03:33|cache|7.02|✅|\n",
    "|finite_markov|2025-10-20 03:33|cache|5.3|✅|\n",
    "|ge_arrow|2025-10-20 03:33|cache|1.67|✅|\n",
    "|harrison_kreps|2025-10-20 03:33|cache|3.3|✅|\n",
    "|hoist_failure|2025-10-20 03:34|cache|48.89|✅|\n",
    "|house_auction|2025-10-23 22:03|cache|2.57|❌|\n",
    "|ifp|2025-10-20 03:35|cache|31.69|✅|\n",
    "|ifp_advanced|2025-10-20 03:35|cache|19.7|✅|\n",
    "|imp_sample|2025-10-23 22:03|cache|1.73|❌|\n",
    "|intro|2025-10-20 03:33|cache|0.71|✅|\n",
    "|inventory_dynamics|2025-10-20 03:35|cache|9.91|✅|\n",
    "|jv|2025-10-20 03:35|cache|14.52|✅|\n",
    "|kalman|2025-10-20 03:35|cache|9.93|✅|\n",
    "|kalman_2|2025-10-20 03:36|cache|40.22|✅|\n",
    "|kesten_processes|2025-10-20 03:37|cache|30.88|✅|\n",
    "|lagrangian_lqdp|2025-10-20 03:37|cache|21.36|✅|\n",
    "|lake_model|2025-10-20 03:37|cache|9.96|✅|\n",
    "|likelihood_bayes|2025-10-23 22:03|cache|1.1|❌|\n",
    "|likelihood_ratio_process|2025-10-23 22:03|cache|2.61|❌|\n",
    "|likelihood_ratio_process_2|2025-10-23 22:03|cache|1.66|❌|\n",
    "|likelihood_var|2025-10-23 22:03|cache|1.66|❌|\n",
    "|linear_algebra|2025-10-20 03:37|cache|2.26|✅|\n",
    "|linear_models|2025-10-20 03:38|cache|9.47|✅|\n",
    "|lln_clt|2025-10-20 03:38|cache|8.54|✅|\n",
    "|lq_inventories|2025-10-20 03:38|cache|10.11|✅|\n",
    "|lqcontrol|2025-10-23 22:03|cache|4.05|✅|\n",
    "|markov_asset|2025-10-20 03:38|cache|4.41|✅|\n",
    "|markov_perf|2025-10-20 03:38|cache|3.74|✅|\n",
    "|mccall_correlated|2025-10-20 03:39|cache|58.26|✅|\n",
    "|mccall_fitted_vfi|2025-10-20 03:39|cache|9.66|✅|\n",
    "|mccall_model|2025-10-20 03:39|cache|15.65|✅|\n",
    "|mccall_model_with_separation|2025-10-20 03:40|cache|5.9|✅|\n",
    "|mccall_q|2025-10-20 03:40|cache|17.14|✅|\n",
    "|mix_model|2025-10-23 22:03|cache|2.97|❌|\n",
    "|mle|2025-10-20 03:40|cache|4.62|✅|\n",
    "|multi_hyper|2025-10-20 03:40|cache|12.91|✅|\n",
    "|multivariate_normal|2025-10-20 03:40|cache|4.11|✅|\n",
    "|navy_captain|2025-10-20 03:41|cache|25.13|✅|\n",
    "|newton_method|2025-10-20 03:42|cache|69.83|✅|\n",
    "|odu|2025-10-20 03:43|cache|56.41|✅|\n",
    "|ols|2025-10-20 03:43|cache|7.21|✅|\n",
    "|opt_transport|2025-10-23 22:04|cache|20.33|❌|\n",
    "|optgrowth|2025-10-20 03:44|cache|47.49|✅|\n",
    "|optgrowth_fast|2025-10-23 22:04|cache|3.06|❌|\n",
    "|pandas_panel|2025-10-20 03:44|cache|3.47|✅|\n",
    "|perm_income|2025-10-20 03:44|cache|3.15|✅|\n",
    "|perm_income_cons|2025-10-20 03:44|cache|9.26|✅|\n",
    "|prob_matrix|2025-10-20 03:44|cache|7.31|✅|\n",
    "|prob_meaning|2025-10-20 03:45|cache|33.36|✅|\n",
    "|qr_decomp|2025-10-20 03:45|cache|1.14|✅|\n",
    "|rand_resp|2025-10-20 03:45|cache|2.2|✅|\n",
    "|rational_expectations|2025-10-20 03:45|cache|3.1|✅|\n",
    "|re_with_feedback|2025-10-20 03:45|cache|11.52|✅|\n",
    "|samuelson|2025-10-20 03:45|cache|12.77|✅|\n",
    "|sir_model|2025-10-20 03:46|cache|2.59|✅|\n",
    "|stats_examples|2025-10-20 03:46|cache|3.43|✅|\n",
    "|status|2025-10-20 03:46|cache|4.51|✅|\n",
    "|svd_intro|2025-10-20 03:46|cache|1.22|✅|\n",
    "|troubleshooting|2025-10-20 03:33|cache|0.71|✅|\n",
    "|two_auctions|2025-10-20 03:46|cache|4.57|✅|\n",
    "|uncertainty_traps|2025-10-20 03:46|cache|2.35|✅|\n",
    "|util_rand_resp|2025-10-20 03:46|cache|2.31|✅|\n",
    "|var_dmd|2025-10-20 03:46|cache|0.74|✅|\n",
    "|von_neumann_model|2025-10-23 22:04|cache|2.25|✅|\n",
    "|wald_friedman|2025-10-20 03:46|cache|17.01|✅|\n",
    "|wald_friedman_2|2025-10-23 22:04|cache|1.6|❌|\n",
    "|wealth_dynamics|2025-10-20 03:47|cache|43.51|✅|\n",
    "|zreferences|2025-10-20 03:33|cache|0.71|✅|\n",
    "\n",
    "<a id='status-machine-details'></a>\n",
    "这些讲座是通过`github actions`在`linux`实例上构建的。\n",
    "\n",
    "这些讲座使用以下Python版本"
   ]
  },
  {
   "cell_type": "code",
   "execution_count": null,
   "id": "d1bced15",
   "metadata": {
    "hide-output": false
   },
   "outputs": [],
   "source": [
    "!python --version"
   ]
  },
  {
   "cell_type": "markdown",
   "id": "f52110c0",
   "metadata": {},
   "source": [
    "以及以下软件包版本"
   ]
  },
  {
   "cell_type": "code",
   "execution_count": null,
   "id": "e05ff2ca",
   "metadata": {
    "hide-output": false
   },
   "outputs": [],
   "source": [
    "!conda list"
   ]
  },
  {
   "cell_type": "markdown",
   "id": "aa2fc7ac",
   "metadata": {},
   "source": [
    "本讲座系列还可以使用以下GPU"
   ]
  },
  {
   "cell_type": "code",
   "execution_count": null,
   "id": "12280ec8",
   "metadata": {
    "hide-output": false
   },
   "outputs": [],
   "source": [
    "!nvidia-smi"
   ]
  }
 ],
 "metadata": {
  "date": 1761257075.8517296,
  "filename": "status.md",
  "kernelspec": {
   "display_name": "Python",
   "language": "python3",
   "name": "python3"
  },
  "title": "执行统计"
 },
 "nbformat": 4,
 "nbformat_minor": 5
}