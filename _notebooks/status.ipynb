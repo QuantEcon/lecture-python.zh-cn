{
 "cells": [
  {
   "cell_type": "markdown",
   "id": "e5309818",
   "metadata": {},
   "source": [
    "# 执行统计\n",
    "\n",
    "此表格包含最新的执行统计数据。\n",
    "\n",
    "[](https://python.quantecon.org/aiyagari.html)[](https://python.quantecon.org/ak2.html)[](https://python.quantecon.org/ar1_bayes.html)[](https://python.quantecon.org/ar1_turningpts.html)[](https://python.quantecon.org/back_prop.html)[](https://python.quantecon.org/bayes_nonconj.html)[](https://python.quantecon.org/cake_eating_numerical.html)[](https://python.quantecon.org/cake_eating_problem.html)[](https://python.quantecon.org/career.html)[](https://python.quantecon.org/cass_fiscal.html)[](https://python.quantecon.org/cass_koopmans_1.html)[](https://python.quantecon.org/cass_koopmans_2.html)[](https://python.quantecon.org/coleman_policy_iter.html)[](https://python.quantecon.org/cross_product_trick.html)[](https://python.quantecon.org/egm_policy_iter.html)[](https://python.quantecon.org/eig_circulant.html)[](https://python.quantecon.org/exchangeable.html)[](https://python.quantecon.org/finite_markov.html)[](https://python.quantecon.org/ge_arrow.html)[](https://python.quantecon.org/harrison_kreps.html)[](https://python.quantecon.org/hoist_failure.html)[](https://python.quantecon.org/house_auction.html)[](https://python.quantecon.org/ifp.html)[](https://python.quantecon.org/ifp_advanced.html)[](https://python.quantecon.org/imp_sample.html)[](https://python.quantecon.org/intro.html)[](https://python.quantecon.org/inventory_dynamics.html)[](https://python.quantecon.org/jv.html)[](https://python.quantecon.org/kalman.html)[](https://python.quantecon.org/kalman_2.html)[](https://python.quantecon.org/kesten_processes.html)[](https://python.quantecon.org/lagrangian_lqdp.html)[](https://python.quantecon.org/lake_model.html)[](https://python.quantecon.org/likelihood_bayes.html)[](https://python.quantecon.org/likelihood_ratio_process.html)[](https://python.quantecon.org/linear_algebra.html)[](https://python.quantecon.org/linear_models.html)[](https://python.quantecon.org/lln_clt.html)[](https://python.quantecon.org/lq_inventories.html)[](https://python.quantecon.org/lqcontrol.html)[](https://python.quantecon.org/markov_asset.html)[](https://python.quantecon.org/markov_perf.html)[](https://python.quantecon.org/mccall_correlated.html)[](https://python.quantecon.org/mccall_fitted_vfi.html)[](https://python.quantecon.org/mccall_model.html)[](https://python.quantecon.org/mccall_model_with_separation.html)[](https://python.quantecon.org/mccall_q.html)[](https://python.quantecon.org/mix_model.html)[](https://python.quantecon.org/mle.html)[](https://python.quantecon.org/multi_hyper.html)[](https://python.quantecon.org/multivariate_normal.html)[](https://python.quantecon.org/navy_captain.html)[](https://python.quantecon.org/newton_method.html)[](https://python.quantecon.org/odu.html)[](https://python.quantecon.org/ols.html)[](https://python.quantecon.org/opt_transport.html)[](https://python.quantecon.org/optgrowth.html)[](https://python.quantecon.org/optgrowth_fast.html)[](https://python.quantecon.org/pandas_panel.html)[](https://python.quantecon.org/perm_income.html)[](https://python.quantecon.org/perm_income_cons.html)[](https://python.quantecon.org/prob_matrix.html)[](https://python.quantecon.org/prob_meaning.html)[](https://python.quantecon.org/qr_decomp.html)[](https://python.quantecon.org/rand_resp.html)[](https://python.quantecon.org/rational_expectations.html)[](https://python.quantecon.org/re_with_feedback.html)[](https://python.quantecon.org/samuelson.html)[](https://python.quantecon.org/sir_model.html)[](https://python.quantecon.org/.html)[](https://python.quantecon.org/svd_intro.html)[](https://python.quantecon.org/troubleshooting.html)[](https://python.quantecon.org/two_auctions.html)[](https://python.quantecon.org/uncertainty_traps.html)[](https://python.quantecon.org/util_rand_resp.html)[](https://python.quantecon.org/var_dmd.html)[](https://python.quantecon.org/von_neumann_model.html)[](https://python.quantecon.org/wald_friedman.html)[](https://python.quantecon.org/wealth_dynamics.html)[](https://python.quantecon.org/zreferences.html)|Document|Modified|Method|Run Time (s)|Status|\n",
    "|:------------------:|:------------------:|:------------------:|:------------------:|:------------------:|\n",
    "|aiyagari|2025-06-09 03:31|cache|16.3|✅|\n",
    "|ak2|2025-06-09 03:31|cache|10.53|✅|\n",
    "|ar1_bayes|2025-06-09 03:33|cache|100.5|✅|\n",
    "|ar1_turningpts|2025-06-09 03:33|cache|18.44|✅|\n",
    "|back_prop|2025-06-09 03:34|cache|44.81|✅|\n",
    "|bayes_nonconj|2025-06-09 03:35|cache|77.96|✅|\n",
    "|cake_eating_numerical|2025-06-09 03:35|cache|19.18|✅|\n",
    "|cake_eating_problem|2025-06-09 03:35|cache|1.82|✅|\n",
    "|career|2025-06-09 03:35|cache|11.58|✅|\n",
    "|cass_fiscal|2025-06-09 03:36|cache|11.17|✅|\n",
    "|cass_koopmans_1|2025-06-09 03:36|cache|10.95|✅|\n",
    "|cass_koopmans_2|2025-06-09 03:36|cache|6.26|✅|\n",
    "|coleman_policy_iter|2025-06-09 03:36|cache|12.86|✅|\n",
    "|cross_product_trick|2025-06-09 03:36|cache|0.8|✅|\n",
    "|egm_policy_iter|2025-06-09 03:36|cache|5.35|✅|\n",
    "|eig_circulant|2025-06-09 03:36|cache|3.61|✅|\n",
    "|exchangeable|2025-06-09 03:36|cache|7.09|✅|\n",
    "|finite_markov|2025-06-09 03:37|cache|5.19|✅|\n",
    "|ge_arrow|2025-06-09 03:37|cache|1.74|✅|\n",
    "|harrison_kreps|2025-06-09 03:37|cache|3.21|✅|\n",
    "|hoist_failure|2025-06-09 03:37|cache|49.19|✅|\n",
    "|house_auction|2025-06-16 00:03|cache|2.68|❌|\n",
    "|ifp|2025-06-09 03:38|cache|30.66|✅|\n",
    "|ifp_advanced|2025-06-09 03:38|cache|15.62|✅|\n",
    "|imp_sample|2025-06-09 03:44|cache|351.61|✅|\n",
    "|intro|2025-06-09 03:44|cache|0.88|✅|\n",
    "|inventory_dynamics|2025-06-09 03:44|cache|10.02|✅|\n",
    "|jv|2025-06-09 03:45|cache|14.95|✅|\n",
    "|kalman|2025-06-09 03:45|cache|5.72|✅|\n",
    "|kalman_2|2025-06-09 03:45|cache|35.4|✅|\n",
    "|kesten_processes|2025-06-09 03:46|cache|30.65|✅|\n",
    "|lagrangian_lqdp|2025-06-09 03:46|cache|19.33|✅|\n",
    "|lake_model|2025-06-09 03:46|cache|10.15|✅|\n",
    "|likelihood_bayes|2025-06-09 03:47|cache|35.53|✅|\n",
    "|likelihood_ratio_process|2025-06-09 03:47|cache|7.32|✅|\n",
    "|linear_algebra|2025-06-09 03:47|cache|2.21|✅|\n",
    "|linear_models|2025-06-09 03:47|cache|5.31|✅|\n",
    "|lln_clt|2025-06-09 03:47|cache|8.34|✅|\n",
    "|lq_inventories|2025-06-09 03:47|cache|10.3|✅|\n",
    "|lqcontrol|2025-06-09 03:48|cache|4.19|✅|\n",
    "|markov_asset|2025-06-09 03:48|cache|4.51|✅|\n",
    "|markov_perf|2025-06-09 03:48|cache|3.67|✅|\n",
    "|mccall_correlated|2025-06-09 03:49|cache|56.77|✅|\n",
    "|mccall_fitted_vfi|2025-06-09 03:49|cache|11.41|✅|\n",
    "|mccall_model|2025-06-09 03:49|cache|11.89|✅|\n",
    "|mccall_model_with_separation|2025-06-09 03:49|cache|6.61|✅|\n",
    "|mccall_q|2025-06-09 03:49|cache|13.87|✅|\n",
    "|mix_model|2025-06-09 03:50|cache|22.61|✅|\n",
    "|mle|2025-06-09 03:50|cache|4.31|✅|\n",
    "|multi_hyper|2025-06-09 03:50|cache|16.71|✅|\n",
    "|multivariate_normal|2025-06-09 03:50|cache|4.13|✅|\n",
    "|navy_captain|2025-06-09 03:51|cache|24.84|✅|\n",
    "|newton_method|2025-06-09 03:52|cache|66.14|✅|\n",
    "|odu|2025-06-09 03:53|cache|55.96|✅|\n",
    "|ols|2025-06-09 03:53|cache|7.45|✅|\n",
    "|opt_transport|2025-06-09 03:53|cache|16.12|✅|\n",
    "|optgrowth|2025-06-09 03:54|cache|44.88|✅|\n",
    "|optgrowth_fast|2025-06-09 03:54|cache|17.01|✅|\n",
    "|pandas_panel|2025-06-09 03:54|cache|3.94|✅|\n",
    "|perm_income|2025-06-09 03:54|cache|3.42|✅|\n",
    "|perm_income_cons|2025-06-09 03:54|cache|5.07|✅|\n",
    "|prob_matrix|2025-06-09 03:54|cache|8.58|✅|\n",
    "|prob_meaning|2025-06-09 03:55|cache|33.86|✅|\n",
    "|qr_decomp|2025-06-09 03:55|cache|1.35|✅|\n",
    "|rand_resp|2025-06-09 03:55|cache|2.28|✅|\n",
    "|rational_expectations|2025-06-09 03:55|cache|3.18|✅|\n",
    "|re_with_feedback|2025-06-09 03:55|cache|7.17|✅|\n",
    "|samuelson|2025-06-09 03:55|cache|8.78|✅|\n",
    "|sir_model|2025-06-09 03:55|cache|2.84|✅|\n",
    "|status|2025-06-09 03:56|cache|5.75|✅|\n",
    "|svd_intro|2025-06-09 03:56|cache|1.34|✅|\n",
    "|troubleshooting|2025-06-09 03:44|cache|0.88|✅|\n",
    "|two_auctions|2025-06-09 03:56|cache|18.68|✅|\n",
    "|uncertainty_traps|2025-06-09 03:56|cache|2.2|✅|\n",
    "|util_rand_resp|2025-06-09 03:56|cache|2.58|✅|\n",
    "|var_dmd|2025-06-09 03:44|cache|0.88|✅|\n",
    "|von_neumann_model|2025-06-09 03:56|cache|1.94|✅|\n",
    "|wald_friedman|2025-06-09 03:56|cache|13.95|✅|\n",
    "|wealth_dynamics|2025-06-09 03:57|cache|39.17|✅|\n",
    "|zreferences|2025-06-09 03:44|cache|0.88|✅|\n",
    "\n",
    "<a id='status-machine-details'></a>\n",
    "这些讲座是通过`github actions`在`linux`实例上构建的。\n",
    "\n",
    "这些讲座使用以下Python版本"
   ]
  },
  {
   "cell_type": "code",
   "execution_count": null,
   "id": "6bc4cc1f",
   "metadata": {
    "hide-output": false
   },
   "outputs": [],
   "source": [
    "!python --version"
   ]
  },
  {
   "cell_type": "markdown",
   "id": "ab96adb5",
   "metadata": {},
   "source": [
    "以及以下软件包版本"
   ]
  },
  {
   "cell_type": "code",
   "execution_count": null,
   "id": "5fc9fb18",
   "metadata": {
    "hide-output": false
   },
   "outputs": [],
   "source": [
    "!conda list"
   ]
  },
  {
   "cell_type": "markdown",
   "id": "ea5ef636",
   "metadata": {},
   "source": [
    "本讲座系列还可以使用以下GPU"
   ]
  },
  {
   "cell_type": "code",
   "execution_count": null,
   "id": "7ed7d9f5",
   "metadata": {
    "hide-output": false
   },
   "outputs": [],
   "source": [
    "!nvidia-smi"
   ]
  }
 ],
 "metadata": {
  "date": 1750032245.5188596,
  "filename": "status.md",
  "kernelspec": {
   "display_name": "Python",
   "language": "python3",
   "name": "python3"
  },
  "title": "执行统计"
 },
 "nbformat": 4,
 "nbformat_minor": 5
}