{
 "cells": [
  {
   "cell_type": "markdown",
   "id": "c1090652",
   "metadata": {},
   "source": [
    "# 执行统计\n",
    "\n",
    "此表格包含最新的执行统计数据。\n",
    "\n",
    "[](https://python.quantecon.org/aiyagari.html)[](https://python.quantecon.org/ak2.html)[](https://python.quantecon.org/ar1_bayes.html)[](https://python.quantecon.org/ar1_turningpts.html)[](https://python.quantecon.org/back_prop.html)[](https://python.quantecon.org/bayes_nonconj.html)[](https://python.quantecon.org/cake_eating_numerical.html)[](https://python.quantecon.org/cake_eating_problem.html)[](https://python.quantecon.org/career.html)[](https://python.quantecon.org/cass_fiscal.html)[](https://python.quantecon.org/cass_koopmans_1.html)[](https://python.quantecon.org/cass_koopmans_2.html)[](https://python.quantecon.org/coleman_policy_iter.html)[](https://python.quantecon.org/cross_product_trick.html)[](https://python.quantecon.org/egm_policy_iter.html)[](https://python.quantecon.org/eig_circulant.html)[](https://python.quantecon.org/exchangeable.html)[](https://python.quantecon.org/finite_markov.html)[](https://python.quantecon.org/ge_arrow.html)[](https://python.quantecon.org/harrison_kreps.html)[](https://python.quantecon.org/hoist_failure.html)[](https://python.quantecon.org/house_auction.html)[](https://python.quantecon.org/ifp.html)[](https://python.quantecon.org/ifp_advanced.html)[](https://python.quantecon.org/imp_sample.html)[](https://python.quantecon.org/intro.html)[](https://python.quantecon.org/inventory_dynamics.html)[](https://python.quantecon.org/jv.html)[](https://python.quantecon.org/kalman.html)[](https://python.quantecon.org/kalman_2.html)[](https://python.quantecon.org/kesten_processes.html)[](https://python.quantecon.org/lagrangian_lqdp.html)[](https://python.quantecon.org/lake_model.html)[](https://python.quantecon.org/likelihood_bayes.html)[](https://python.quantecon.org/likelihood_ratio_process.html)[](https://python.quantecon.org/linear_algebra.html)[](https://python.quantecon.org/linear_models.html)[](https://python.quantecon.org/lln_clt.html)[](https://python.quantecon.org/lq_inventories.html)[](https://python.quantecon.org/lqcontrol.html)[](https://python.quantecon.org/markov_asset.html)[](https://python.quantecon.org/markov_perf.html)[](https://python.quantecon.org/mccall_correlated.html)[](https://python.quantecon.org/mccall_fitted_vfi.html)[](https://python.quantecon.org/mccall_model.html)[](https://python.quantecon.org/mccall_model_with_separation.html)[](https://python.quantecon.org/mccall_q.html)[](https://python.quantecon.org/mix_model.html)[](https://python.quantecon.org/mle.html)[](https://python.quantecon.org/multi_hyper.html)[](https://python.quantecon.org/multivariate_normal.html)[](https://python.quantecon.org/navy_captain.html)[](https://python.quantecon.org/newton_method.html)[](https://python.quantecon.org/odu.html)[](https://python.quantecon.org/ols.html)[](https://python.quantecon.org/opt_transport.html)[](https://python.quantecon.org/optgrowth.html)[](https://python.quantecon.org/optgrowth_fast.html)[](https://python.quantecon.org/pandas_panel.html)[](https://python.quantecon.org/perm_income.html)[](https://python.quantecon.org/perm_income_cons.html)[](https://python.quantecon.org/prob_matrix.html)[](https://python.quantecon.org/prob_meaning.html)[](https://python.quantecon.org/qr_decomp.html)[](https://python.quantecon.org/rand_resp.html)[](https://python.quantecon.org/rational_expectations.html)[](https://python.quantecon.org/re_with_feedback.html)[](https://python.quantecon.org/samuelson.html)[](https://python.quantecon.org/sir_model.html)[](https://python.quantecon.org/.html)[](https://python.quantecon.org/svd_intro.html)[](https://python.quantecon.org/troubleshooting.html)[](https://python.quantecon.org/two_auctions.html)[](https://python.quantecon.org/uncertainty_traps.html)[](https://python.quantecon.org/util_rand_resp.html)[](https://python.quantecon.org/var_dmd.html)[](https://python.quantecon.org/von_neumann_model.html)[](https://python.quantecon.org/wald_friedman.html)[](https://python.quantecon.org/wealth_dynamics.html)[](https://python.quantecon.org/zreferences.html)|Document|Modified|Method|Run Time (s)|Status|\n",
    "|:------------------:|:------------------:|:------------------:|:------------------:|:------------------:|\n",
    "|aiyagari|2025-05-22 06:05|cache|14.55|✅|\n",
    "|ak2|2025-05-19 03:28|cache|10.43|✅|\n",
    "|ar1_bayes|2025-05-19 03:29|cache|108.47|✅|\n",
    "|ar1_turningpts|2025-05-19 03:30|cache|18.81|✅|\n",
    "|back_prop|2025-05-19 03:30|cache|44.18|✅|\n",
    "|bayes_nonconj|2025-05-22 06:06|cache|76.04|✅|\n",
    "|cake_eating_numerical|2025-05-19 03:32|cache|19.62|✅|\n",
    "|cake_eating_problem|2025-05-19 03:32|cache|1.66|✅|\n",
    "|career|2025-05-19 03:32|cache|11.94|✅|\n",
    "|cass_fiscal|2025-05-19 03:32|cache|11.75|✅|\n",
    "|cass_koopmans_1|2025-05-19 03:33|cache|11.17|✅|\n",
    "|cass_koopmans_2|2025-05-19 03:33|cache|6.23|✅|\n",
    "|coleman_policy_iter|2025-05-19 03:33|cache|13.12|✅|\n",
    "|cross_product_trick|2025-05-19 03:33|cache|1.1|✅|\n",
    "|egm_policy_iter|2025-05-19 03:33|cache|5.63|✅|\n",
    "|eig_circulant|2025-05-19 03:33|cache|3.46|✅|\n",
    "|exchangeable|2025-05-19 03:33|cache|7.15|✅|\n",
    "|finite_markov|2025-05-22 06:06|cache|5.76|✅|\n",
    "|ge_arrow|2025-05-19 03:33|cache|1.75|✅|\n",
    "|harrison_kreps|2025-05-19 03:33|cache|3.48|✅|\n",
    "|hoist_failure|2025-05-19 03:34|cache|49.67|✅|\n",
    "|house_auction|2025-05-22 06:06|cache|2.5|❌|\n",
    "|ifp|2025-05-19 03:35|cache|31.49|✅|\n",
    "|ifp_advanced|2025-05-19 03:35|cache|16.08|✅|\n",
    "|imp_sample|2025-05-19 03:41|cache|350.91|✅|\n",
    "|intro|2025-05-19 03:41|cache|1.02|✅|\n",
    "|inventory_dynamics|2025-05-19 03:41|cache|9.86|✅|\n",
    "|jv|2025-05-19 03:41|cache|14.78|✅|\n",
    "|kalman|2025-05-19 03:42|cache|5.66|✅|\n",
    "|kalman_2|2025-05-22 06:06|cache|7.39|❌|\n",
    "|kesten_processes|2025-05-22 06:07|cache|30.72|✅|\n",
    "|lagrangian_lqdp|2025-05-19 03:43|cache|19.26|✅|\n",
    "|lake_model|2025-05-22 06:07|cache|10.26|✅|\n",
    "|likelihood_bayes|2025-05-19 03:44|cache|35.67|✅|\n",
    "|likelihood_ratio_process|2025-05-19 03:44|cache|7.17|✅|\n",
    "|linear_algebra|2025-05-19 03:44|cache|2.24|✅|\n",
    "|linear_models|2025-05-19 03:44|cache|5.32|✅|\n",
    "|lln_clt|2025-05-19 03:44|cache|8.24|✅|\n",
    "|lq_inventories|2025-05-19 03:44|cache|10.07|✅|\n",
    "|lqcontrol|2025-05-19 03:44|cache|4.33|✅|\n",
    "|markov_asset|2025-05-19 03:44|cache|4.51|✅|\n",
    "|markov_perf|2025-05-19 03:44|cache|4.0|✅|\n",
    "|mccall_correlated|2025-05-19 03:45|cache|57.3|✅|\n",
    "|mccall_fitted_vfi|2025-05-19 03:46|cache|11.51|✅|\n",
    "|mccall_model|2025-05-19 03:46|cache|11.69|✅|\n",
    "|mccall_model_with_separation|2025-05-19 03:46|cache|6.35|✅|\n",
    "|mccall_q|2025-05-22 06:07|cache|13.74|✅|\n",
    "|mix_model|2025-05-19 03:47|cache|22.04|✅|\n",
    "|mle|2025-05-19 03:47|cache|4.35|✅|\n",
    "|multi_hyper|2025-05-19 03:47|cache|16.42|✅|\n",
    "|multivariate_normal|2025-05-19 03:47|cache|3.99|✅|\n",
    "|navy_captain|2025-05-19 03:47|cache|25.15|✅|\n",
    "|newton_method|2025-05-19 03:49|cache|67.43|✅|\n",
    "|odu|2025-05-22 06:08|cache|58.38|✅|\n",
    "|ols|2025-05-19 03:50|cache|7.14|✅|\n",
    "|opt_transport|2025-05-19 03:50|cache|16.11|✅|\n",
    "|optgrowth|2025-05-19 03:51|cache|43.83|✅|\n",
    "|optgrowth_fast|2025-05-19 03:51|cache|16.99|✅|\n",
    "|pandas_panel|2025-05-19 03:51|cache|3.83|✅|\n",
    "|perm_income|2025-05-19 03:51|cache|3.52|✅|\n",
    "|perm_income_cons|2025-05-19 03:51|cache|4.92|✅|\n",
    "|prob_matrix|2025-05-19 03:51|cache|8.31|✅|\n",
    "|prob_meaning|2025-05-19 03:52|cache|34.22|✅|\n",
    "|qr_decomp|2025-05-19 03:52|cache|1.27|✅|\n",
    "|rand_resp|2025-05-19 03:52|cache|2.19|✅|\n",
    "|rational_expectations|2025-05-19 03:52|cache|3.13|✅|\n",
    "|re_with_feedback|2025-05-19 03:52|cache|6.99|✅|\n",
    "|samuelson|2025-05-19 03:52|cache|8.56|✅|\n",
    "|sir_model|2025-05-19 03:52|cache|2.79|✅|\n",
    "|status|2025-05-19 03:52|cache|5.17|✅|\n",
    "|svd_intro|2025-05-19 03:52|cache|1.53|✅|\n",
    "|troubleshooting|2025-05-19 03:41|cache|1.02|✅|\n",
    "|two_auctions|2025-05-19 03:53|cache|18.62|✅|\n",
    "|uncertainty_traps|2025-05-19 03:53|cache|2.42|✅|\n",
    "|util_rand_resp|2025-05-19 03:53|cache|2.38|✅|\n",
    "|var_dmd|2025-05-19 03:41|cache|1.02|✅|\n",
    "|von_neumann_model|2025-05-19 03:53|cache|2.07|✅|\n",
    "|wald_friedman|2025-05-19 03:53|cache|13.7|✅|\n",
    "|wealth_dynamics|2025-05-19 03:54|cache|39.29|✅|\n",
    "|zreferences|2025-05-19 03:41|cache|1.02|✅|\n",
    "\n",
    "<a id='status-machine-details'></a>\n",
    "这些讲座是通过`github actions`在`linux`实例上构建的。\n",
    "\n",
    "这些讲座使用以下Python版本"
   ]
  },
  {
   "cell_type": "code",
   "execution_count": null,
   "id": "d582a011",
   "metadata": {
    "hide-output": false
   },
   "outputs": [],
   "source": [
    "!python --version"
   ]
  },
  {
   "cell_type": "markdown",
   "id": "b77e7f67",
   "metadata": {},
   "source": [
    "以及以下软件包版本"
   ]
  },
  {
   "cell_type": "code",
   "execution_count": null,
   "id": "131a88fc",
   "metadata": {
    "hide-output": false
   },
   "outputs": [],
   "source": [
    "!conda list"
   ]
  },
  {
   "cell_type": "markdown",
   "id": "0b320ee5",
   "metadata": {},
   "source": [
    "本讲座系列还可以使用以下GPU"
   ]
  },
  {
   "cell_type": "code",
   "execution_count": null,
   "id": "f4f79f06",
   "metadata": {
    "hide-output": false
   },
   "outputs": [],
   "source": [
    "!nvidia-smi"
   ]
  }
 ],
 "metadata": {
  "date": 1747894132.7853005,
  "filename": "status.md",
  "kernelspec": {
   "display_name": "Python",
   "language": "python3",
   "name": "python3"
  },
  "title": "执行统计"
 },
 "nbformat": 4,
 "nbformat_minor": 5
}