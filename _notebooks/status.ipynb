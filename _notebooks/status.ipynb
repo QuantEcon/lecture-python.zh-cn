{
 "cells": [
  {
   "cell_type": "markdown",
   "id": "01d92678",
   "metadata": {},
   "source": [
    "# 执行统计\n",
    "\n",
    "此表格包含最新的执行统计数据。\n",
    "\n",
    "[](https://python.quantecon.org/aiyagari.html)[](https://python.quantecon.org/ak2.html)[](https://python.quantecon.org/ar1_bayes.html)[](https://python.quantecon.org/ar1_turningpts.html)[](https://python.quantecon.org/back_prop.html)[](https://python.quantecon.org/bayes_nonconj.html)[](https://python.quantecon.org/cake_eating_numerical.html)[](https://python.quantecon.org/cake_eating_problem.html)[](https://python.quantecon.org/career.html)[](https://python.quantecon.org/cass_fiscal.html)[](https://python.quantecon.org/cass_koopmans_1.html)[](https://python.quantecon.org/cass_koopmans_2.html)[](https://python.quantecon.org/coleman_policy_iter.html)[](https://python.quantecon.org/cross_product_trick.html)[](https://python.quantecon.org/egm_policy_iter.html)[](https://python.quantecon.org/eig_circulant.html)[](https://python.quantecon.org/exchangeable.html)[](https://python.quantecon.org/finite_markov.html)[](https://python.quantecon.org/ge_arrow.html)[](https://python.quantecon.org/harrison_kreps.html)[](https://python.quantecon.org/hoist_failure.html)[](https://python.quantecon.org/house_auction.html)[](https://python.quantecon.org/ifp.html)[](https://python.quantecon.org/ifp_advanced.html)[](https://python.quantecon.org/imp_sample.html)[](https://python.quantecon.org/intro.html)[](https://python.quantecon.org/inventory_dynamics.html)[](https://python.quantecon.org/jv.html)[](https://python.quantecon.org/kalman.html)[](https://python.quantecon.org/kalman_2.html)[](https://python.quantecon.org/kesten_processes.html)[](https://python.quantecon.org/lagrangian_lqdp.html)[](https://python.quantecon.org/lake_model.html)[](https://python.quantecon.org/likelihood_bayes.html)[](https://python.quantecon.org/likelihood_ratio_process.html)[](https://python.quantecon.org/linear_algebra.html)[](https://python.quantecon.org/linear_models.html)[](https://python.quantecon.org/lln_clt.html)[](https://python.quantecon.org/lq_inventories.html)[](https://python.quantecon.org/lqcontrol.html)[](https://python.quantecon.org/markov_asset.html)[](https://python.quantecon.org/markov_perf.html)[](https://python.quantecon.org/mccall_correlated.html)[](https://python.quantecon.org/mccall_fitted_vfi.html)[](https://python.quantecon.org/mccall_model.html)[](https://python.quantecon.org/mccall_model_with_separation.html)[](https://python.quantecon.org/mccall_q.html)[](https://python.quantecon.org/mix_model.html)[](https://python.quantecon.org/mle.html)[](https://python.quantecon.org/multi_hyper.html)[](https://python.quantecon.org/multivariate_normal.html)[](https://python.quantecon.org/navy_captain.html)[](https://python.quantecon.org/newton_method.html)[](https://python.quantecon.org/odu.html)[](https://python.quantecon.org/ols.html)[](https://python.quantecon.org/opt_transport.html)[](https://python.quantecon.org/optgrowth.html)[](https://python.quantecon.org/optgrowth_fast.html)[](https://python.quantecon.org/pandas_panel.html)[](https://python.quantecon.org/perm_income.html)[](https://python.quantecon.org/perm_income_cons.html)[](https://python.quantecon.org/prob_matrix.html)[](https://python.quantecon.org/prob_meaning.html)[](https://python.quantecon.org/qr_decomp.html)[](https://python.quantecon.org/rand_resp.html)[](https://python.quantecon.org/rational_expectations.html)[](https://python.quantecon.org/re_with_feedback.html)[](https://python.quantecon.org/samuelson.html)[](https://python.quantecon.org/sir_model.html)[](https://python.quantecon.org/.html)[](https://python.quantecon.org/svd_intro.html)[](https://python.quantecon.org/troubleshooting.html)[](https://python.quantecon.org/two_auctions.html)[](https://python.quantecon.org/uncertainty_traps.html)[](https://python.quantecon.org/util_rand_resp.html)[](https://python.quantecon.org/var_dmd.html)[](https://python.quantecon.org/von_neumann_model.html)[](https://python.quantecon.org/wald_friedman.html)[](https://python.quantecon.org/wealth_dynamics.html)[](https://python.quantecon.org/zreferences.html)|Document|Modified|Method|Run Time (s)|Status|\n",
    "|:------------------:|:------------------:|:------------------:|:------------------:|:------------------:|\n",
    "|aiyagari|2025-06-02 03:32|cache|19.04|✅|\n",
    "|ak2|2025-06-02 03:32|cache|10.81|✅|\n",
    "|ar1_bayes|2025-06-02 03:34|cache|104.98|✅|\n",
    "|ar1_turningpts|2025-06-02 03:34|cache|17.71|✅|\n",
    "|back_prop|2025-06-02 03:35|cache|48.8|✅|\n",
    "|bayes_nonconj|2025-06-02 03:36|cache|75.33|✅|\n",
    "|cake_eating_numerical|2025-06-02 03:36|cache|19.01|✅|\n",
    "|cake_eating_problem|2025-06-02 03:36|cache|1.62|✅|\n",
    "|career|2025-06-02 03:36|cache|11.5|✅|\n",
    "|cass_fiscal|2025-06-02 03:37|cache|11.37|✅|\n",
    "|cass_koopmans_1|2025-06-02 03:37|cache|10.75|✅|\n",
    "|cass_koopmans_2|2025-06-02 03:37|cache|5.96|✅|\n",
    "|coleman_policy_iter|2025-06-02 03:37|cache|12.73|✅|\n",
    "|cross_product_trick|2025-06-02 03:37|cache|0.89|✅|\n",
    "|egm_policy_iter|2025-06-02 03:37|cache|5.38|✅|\n",
    "|eig_circulant|2025-06-02 03:37|cache|3.35|✅|\n",
    "|exchangeable|2025-06-02 03:37|cache|7.02|✅|\n",
    "|finite_markov|2025-06-02 03:37|cache|5.38|✅|\n",
    "|ge_arrow|2025-06-02 03:38|cache|1.73|✅|\n",
    "|harrison_kreps|2025-06-02 03:38|cache|3.15|✅|\n",
    "|hoist_failure|2025-06-02 03:38|cache|49.17|✅|\n",
    "|house_auction|2025-06-05 04:32|cache|2.91|❌|\n",
    "|ifp|2025-06-02 03:39|cache|30.82|✅|\n",
    "|ifp_advanced|2025-06-02 03:39|cache|15.82|✅|\n",
    "|imp_sample|2025-06-02 03:45|cache|365.54|✅|\n",
    "|intro|2025-06-02 03:45|cache|4.02|✅|\n",
    "|inventory_dynamics|2025-06-02 03:46|cache|9.68|✅|\n",
    "|jv|2025-06-02 03:46|cache|14.8|✅|\n",
    "|kalman|2025-06-02 03:46|cache|5.55|✅|\n",
    "|kalman_2|2025-06-02 03:46|cache|34.66|✅|\n",
    "|kesten_processes|2025-06-02 03:47|cache|31.47|✅|\n",
    "|lagrangian_lqdp|2025-06-02 03:47|cache|18.76|✅|\n",
    "|lake_model|2025-06-02 03:47|cache|9.95|✅|\n",
    "|likelihood_bayes|2025-06-02 03:48|cache|35.49|✅|\n",
    "|likelihood_ratio_process|2025-06-02 03:48|cache|7.24|✅|\n",
    "|linear_algebra|2025-06-02 03:48|cache|1.98|✅|\n",
    "|linear_models|2025-06-02 03:48|cache|5.16|✅|\n",
    "|lln_clt|2025-06-02 03:48|cache|8.4|✅|\n",
    "|lq_inventories|2025-06-02 03:49|cache|10.0|✅|\n",
    "|lqcontrol|2025-06-02 03:49|cache|4.24|✅|\n",
    "|markov_asset|2025-06-02 03:49|cache|4.64|✅|\n",
    "|markov_perf|2025-06-02 03:49|cache|3.59|✅|\n",
    "|mccall_correlated|2025-06-02 03:50|cache|56.64|✅|\n",
    "|mccall_fitted_vfi|2025-06-02 03:50|cache|11.62|✅|\n",
    "|mccall_model|2025-06-02 03:50|cache|11.8|✅|\n",
    "|mccall_model_with_separation|2025-06-02 03:50|cache|6.66|✅|\n",
    "|mccall_q|2025-06-02 03:51|cache|14.05|✅|\n",
    "|mix_model|2025-06-02 03:51|cache|22.73|✅|\n",
    "|mle|2025-06-02 03:51|cache|4.28|✅|\n",
    "|multi_hyper|2025-06-02 03:51|cache|16.51|✅|\n",
    "|multivariate_normal|2025-06-02 03:51|cache|4.06|✅|\n",
    "|navy_captain|2025-06-02 03:52|cache|24.57|✅|\n",
    "|newton_method|2025-06-02 03:53|cache|66.93|✅|\n",
    "|odu|2025-06-02 03:54|cache|55.64|✅|\n",
    "|ols|2025-06-02 03:54|cache|6.67|✅|\n",
    "|opt_transport|2025-06-02 03:54|cache|16.06|✅|\n",
    "|optgrowth|2025-06-02 03:55|cache|44.72|✅|\n",
    "|optgrowth_fast|2025-06-02 03:55|cache|16.87|✅|\n",
    "|pandas_panel|2025-06-02 03:55|cache|3.83|✅|\n",
    "|perm_income|2025-06-02 03:55|cache|3.45|✅|\n",
    "|perm_income_cons|2025-06-02 03:55|cache|5.03|✅|\n",
    "|prob_matrix|2025-06-02 03:56|cache|8.33|✅|\n",
    "|prob_meaning|2025-06-02 03:56|cache|33.77|✅|\n",
    "|qr_decomp|2025-06-02 03:56|cache|1.19|✅|\n",
    "|rand_resp|2025-06-02 03:56|cache|2.21|✅|\n",
    "|rational_expectations|2025-06-02 03:56|cache|3.17|✅|\n",
    "|re_with_feedback|2025-06-02 03:56|cache|6.95|✅|\n",
    "|samuelson|2025-06-02 03:57|cache|8.77|✅|\n",
    "|sir_model|2025-06-02 03:57|cache|2.73|✅|\n",
    "|status|2025-06-02 03:57|cache|5.47|✅|\n",
    "|svd_intro|2025-06-02 03:57|cache|1.5|✅|\n",
    "|troubleshooting|2025-06-02 03:45|cache|4.02|✅|\n",
    "|two_auctions|2025-06-02 03:57|cache|18.53|✅|\n",
    "|uncertainty_traps|2025-06-02 03:57|cache|2.36|✅|\n",
    "|util_rand_resp|2025-06-02 03:57|cache|2.57|✅|\n",
    "|var_dmd|2025-06-02 03:45|cache|4.02|✅|\n",
    "|von_neumann_model|2025-06-02 03:57|cache|1.96|✅|\n",
    "|wald_friedman|2025-06-02 03:57|cache|13.67|✅|\n",
    "|wealth_dynamics|2025-06-05 04:33|cache|45.54|✅|\n",
    "|zreferences|2025-06-02 03:45|cache|4.02|✅|\n",
    "\n",
    "<a id='status-machine-details'></a>\n",
    "这些讲座是通过`github actions`在`linux`实例上构建的。\n",
    "\n",
    "这些讲座使用以下Python版本"
   ]
  },
  {
   "cell_type": "code",
   "execution_count": null,
   "id": "d4fefc7c",
   "metadata": {
    "hide-output": false
   },
   "outputs": [],
   "source": [
    "!python --version"
   ]
  },
  {
   "cell_type": "markdown",
   "id": "ce5e1425",
   "metadata": {},
   "source": [
    "以及以下软件包版本"
   ]
  },
  {
   "cell_type": "code",
   "execution_count": null,
   "id": "cbc73b49",
   "metadata": {
    "hide-output": false
   },
   "outputs": [],
   "source": [
    "!conda list"
   ]
  },
  {
   "cell_type": "markdown",
   "id": "5f20dd50",
   "metadata": {},
   "source": [
    "本讲座系列还可以使用以下GPU"
   ]
  },
  {
   "cell_type": "code",
   "execution_count": null,
   "id": "8fcc592a",
   "metadata": {
    "hide-output": false
   },
   "outputs": [],
   "source": [
    "!nvidia-smi"
   ]
  }
 ],
 "metadata": {
  "date": 1749097996.780822,
  "filename": "status.md",
  "kernelspec": {
   "display_name": "Python",
   "language": "python3",
   "name": "python3"
  },
  "title": "执行统计"
 },
 "nbformat": 4,
 "nbformat_minor": 5
}