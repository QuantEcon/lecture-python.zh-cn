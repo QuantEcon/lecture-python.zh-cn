{
 "cells": [
  {
   "cell_type": "markdown",
   "id": "0f98e900",
   "metadata": {},
   "source": [
    "# 执行统计\n",
    "\n",
    "此表格包含最新的执行统计数据。\n",
    "\n",
    "[](https://python.quantecon.org/aiyagari.html)[](https://python.quantecon.org/ak2.html)[](https://python.quantecon.org/ar1_bayes.html)[](https://python.quantecon.org/ar1_turningpts.html)[](https://python.quantecon.org/back_prop.html)[](https://python.quantecon.org/bayes_nonconj.html)[](https://python.quantecon.org/cake_eating_numerical.html)[](https://python.quantecon.org/cake_eating_problem.html)[](https://python.quantecon.org/career.html)[](https://python.quantecon.org/cass_fiscal.html)[](https://python.quantecon.org/cass_koopmans_1.html)[](https://python.quantecon.org/cass_koopmans_2.html)[](https://python.quantecon.org/coleman_policy_iter.html)[](https://python.quantecon.org/cross_product_trick.html)[](https://python.quantecon.org/egm_policy_iter.html)[](https://python.quantecon.org/eig_circulant.html)[](https://python.quantecon.org/exchangeable.html)[](https://python.quantecon.org/finite_markov.html)[](https://python.quantecon.org/ge_arrow.html)[](https://python.quantecon.org/harrison_kreps.html)[](https://python.quantecon.org/hoist_failure.html)[](https://python.quantecon.org/house_auction.html)[](https://python.quantecon.org/ifp.html)[](https://python.quantecon.org/ifp_advanced.html)[](https://python.quantecon.org/imp_sample.html)[](https://python.quantecon.org/intro.html)[](https://python.quantecon.org/inventory_dynamics.html)[](https://python.quantecon.org/jv.html)[](https://python.quantecon.org/kalman.html)[](https://python.quantecon.org/kalman_2.html)[](https://python.quantecon.org/kesten_processes.html)[](https://python.quantecon.org/lagrangian_lqdp.html)[](https://python.quantecon.org/lake_model.html)[](https://python.quantecon.org/likelihood_bayes.html)[](https://python.quantecon.org/likelihood_ratio_process.html)[](https://python.quantecon.org/linear_algebra.html)[](https://python.quantecon.org/linear_models.html)[](https://python.quantecon.org/lln_clt.html)[](https://python.quantecon.org/lq_inventories.html)[](https://python.quantecon.org/lqcontrol.html)[](https://python.quantecon.org/markov_asset.html)[](https://python.quantecon.org/markov_perf.html)[](https://python.quantecon.org/mccall_correlated.html)[](https://python.quantecon.org/mccall_fitted_vfi.html)[](https://python.quantecon.org/mccall_model.html)[](https://python.quantecon.org/mccall_model_with_separation.html)[](https://python.quantecon.org/mccall_q.html)[](https://python.quantecon.org/mix_model.html)[](https://python.quantecon.org/mle.html)[](https://python.quantecon.org/multi_hyper.html)[](https://python.quantecon.org/multivariate_normal.html)[](https://python.quantecon.org/navy_captain.html)[](https://python.quantecon.org/newton_method.html)[](https://python.quantecon.org/odu.html)[](https://python.quantecon.org/ols.html)[](https://python.quantecon.org/opt_transport.html)[](https://python.quantecon.org/optgrowth.html)[](https://python.quantecon.org/optgrowth_fast.html)[](https://python.quantecon.org/pandas_panel.html)[](https://python.quantecon.org/perm_income.html)[](https://python.quantecon.org/perm_income_cons.html)[](https://python.quantecon.org/prob_matrix.html)[](https://python.quantecon.org/prob_meaning.html)[](https://python.quantecon.org/qr_decomp.html)[](https://python.quantecon.org/rand_resp.html)[](https://python.quantecon.org/rational_expectations.html)[](https://python.quantecon.org/re_with_feedback.html)[](https://python.quantecon.org/samuelson.html)[](https://python.quantecon.org/sir_model.html)[](https://python.quantecon.org/.html)[](https://python.quantecon.org/svd_intro.html)[](https://python.quantecon.org/troubleshooting.html)[](https://python.quantecon.org/two_auctions.html)[](https://python.quantecon.org/uncertainty_traps.html)[](https://python.quantecon.org/util_rand_resp.html)[](https://python.quantecon.org/var_dmd.html)[](https://python.quantecon.org/von_neumann_model.html)[](https://python.quantecon.org/wald_friedman.html)[](https://python.quantecon.org/wealth_dynamics.html)[](https://python.quantecon.org/zreferences.html)|Document|Modified|Method|Run Time (s)|Status|\n",
    "|:------------------:|:------------------:|:------------------:|:------------------:|:------------------:|\n",
    "|aiyagari|2025-03-19 02:20|cache|15.23|✅|\n",
    "|ak2|2025-03-19 02:20|cache|10.15|✅|\n",
    "|ar1_bayes|2025-03-22 23:14|cache|105.74|✅|\n",
    "|ar1_turningpts|2025-03-22 23:14|cache|17.88|✅|\n",
    "|back_prop|2025-03-22 23:15|cache|39.51|✅|\n",
    "|bayes_nonconj|2025-03-22 23:16|cache|79.27|✅|\n",
    "|cake_eating_numerical|2025-03-19 02:20|cache|18.66|✅|\n",
    "|cake_eating_problem|2025-03-19 02:20|cache|1.66|✅|\n",
    "|career|2025-03-19 02:21|cache|11.36|✅|\n",
    "|cass_fiscal|2025-03-19 02:21|cache|11.29|✅|\n",
    "|cass_koopmans_1|2025-03-19 02:21|cache|10.98|✅|\n",
    "|cass_koopmans_2|2025-03-19 02:21|cache|6.3|✅|\n",
    "|coleman_policy_iter|2025-03-19 02:21|cache|12.83|✅|\n",
    "|cross_product_trick|2025-03-19 02:21|cache|0.83|✅|\n",
    "|egm_policy_iter|2025-03-19 02:21|cache|5.59|✅|\n",
    "|eig_circulant|2025-03-19 02:22|cache|3.5|✅|\n",
    "|exchangeable|2025-03-19 02:22|cache|6.91|✅|\n",
    "|finite_markov|2025-03-19 02:22|cache|5.31|✅|\n",
    "|ge_arrow|2025-03-22 23:17|cache|1.9|✅|\n",
    "|harrison_kreps|2025-03-22 23:17|cache|5.71|✅|\n",
    "|hoist_failure|2025-03-22 23:17|cache|48.51|✅|\n",
    "|house_auction|2025-03-22 23:17|cache|2.4|❌|\n",
    "|ifp|2025-03-19 02:22|cache|31.37|✅|\n",
    "|ifp_advanced|2025-03-19 02:23|cache|15.78|✅|\n",
    "|imp_sample|2025-03-19 02:29|cache|365.56|✅|\n",
    "|intro|2025-03-19 02:29|cache|0.98|✅|\n",
    "|inventory_dynamics|2025-03-19 02:29|cache|9.71|✅|\n",
    "|jv|2025-03-19 02:29|cache|14.79|✅|\n",
    "|kalman|2025-03-19 02:29|cache|5.32|✅|\n",
    "|kalman_2|2025-03-19 02:30|cache|35.0|✅|\n",
    "|kesten_processes|2025-03-19 02:30|cache|30.18|✅|\n",
    "|lagrangian_lqdp|2025-03-19 02:31|cache|19.41|✅|\n",
    "|lake_model|2025-03-19 02:31|cache|9.82|✅|\n",
    "|likelihood_bayes|2025-03-19 02:31|cache|35.93|✅|\n",
    "|likelihood_ratio_process|2025-03-19 02:31|cache|7.33|✅|\n",
    "|linear_algebra|2025-03-19 02:31|cache|2.22|✅|\n",
    "|linear_models|2025-03-19 02:32|cache|5.37|✅|\n",
    "|lln_clt|2025-03-22 23:18|cache|8.42|✅|\n",
    "|lq_inventories|2025-03-19 02:32|cache|10.2|✅|\n",
    "|lqcontrol|2025-03-19 02:32|cache|4.27|✅|\n",
    "|markov_asset|2025-03-22 23:18|cache|4.36|✅|\n",
    "|markov_perf|2025-03-19 02:32|cache|3.86|✅|\n",
    "|mccall_correlated|2025-03-19 02:33|cache|57.83|✅|\n",
    "|mccall_fitted_vfi|2025-03-19 02:33|cache|11.5|✅|\n",
    "|mccall_model|2025-03-19 02:33|cache|11.78|✅|\n",
    "|mccall_model_with_separation|2025-03-19 02:33|cache|6.58|✅|\n",
    "|mccall_q|2025-03-19 02:34|cache|13.87|✅|\n",
    "|mix_model|2025-03-22 23:18|cache|21.19|✅|\n",
    "|mle|2025-03-22 23:18|cache|4.51|✅|\n",
    "|multi_hyper|2025-03-22 23:18|cache|16.2|✅|\n",
    "|multivariate_normal|2025-03-22 23:18|cache|3.76|✅|\n",
    "|navy_captain|2025-03-19 02:34|cache|24.92|✅|\n",
    "|newton_method|2025-03-19 02:35|cache|67.18|✅|\n",
    "|odu|2025-03-19 02:36|cache|58.28|✅|\n",
    "|ols|2025-03-22 23:19|cache|7.69|✅|\n",
    "|opt_transport|2025-03-19 02:36|cache|14.11|✅|\n",
    "|optgrowth|2025-03-19 02:37|cache|44.93|✅|\n",
    "|optgrowth_fast|2025-03-19 02:37|cache|17.28|✅|\n",
    "|pandas_panel|2025-03-22 23:19|cache|3.8|✅|\n",
    "|perm_income|2025-03-19 02:37|cache|3.57|✅|\n",
    "|perm_income_cons|2025-03-19 02:38|cache|5.17|✅|\n",
    "|prob_matrix|2025-03-22 23:19|cache|8.36|✅|\n",
    "|prob_meaning|2025-03-22 23:19|cache|33.43|✅|\n",
    "|qr_decomp|2025-03-19 02:38|cache|1.18|✅|\n",
    "|rand_resp|2025-03-22 23:19|cache|2.11|✅|\n",
    "|rational_expectations|2025-03-19 02:38|cache|3.19|✅|\n",
    "|re_with_feedback|2025-03-19 02:38|cache|7.34|✅|\n",
    "|samuelson|2025-03-19 02:38|cache|8.78|✅|\n",
    "|sir_model|2025-03-19 02:38|cache|2.82|✅|\n",
    "|status|2025-03-19 02:38|cache|4.27|✅|\n",
    "|svd_intro|2025-03-19 02:38|cache|1.3|✅|\n",
    "|troubleshooting|2025-03-19 02:29|cache|0.98|✅|\n",
    "|two_auctions|2025-03-22 23:20|cache|17.69|✅|\n",
    "|uncertainty_traps|2025-03-19 02:38|cache|2.19|✅|\n",
    "|util_rand_resp|2025-03-22 23:20|cache|2.35|✅|\n",
    "|var_dmd|2025-03-19 02:29|cache|0.98|✅|\n",
    "|von_neumann_model|2025-03-19 02:38|cache|1.99|✅|\n",
    "|wald_friedman|2025-03-19 02:38|cache|13.73|✅|\n",
    "|wealth_dynamics|2025-03-19 02:39|cache|39.46|✅|\n",
    "|zreferences|2025-03-19 02:29|cache|0.98|✅|\n",
    "\n",
    "<a id='status-machine-details'></a>\n",
    "这些讲座是通过`github actions`在`linux`实例上构建的。\n",
    "\n",
    "这些讲座使用以下Python版本"
   ]
  },
  {
   "cell_type": "code",
   "execution_count": null,
   "id": "9a960827",
   "metadata": {
    "hide-output": false
   },
   "outputs": [],
   "source": [
    "!python --version"
   ]
  },
  {
   "cell_type": "markdown",
   "id": "80f5319d",
   "metadata": {},
   "source": [
    "以及以下软件包版本"
   ]
  },
  {
   "cell_type": "code",
   "execution_count": null,
   "id": "4acc647a",
   "metadata": {
    "hide-output": false
   },
   "outputs": [],
   "source": [
    "!conda list"
   ]
  },
  {
   "cell_type": "markdown",
   "id": "d5ca9ffa",
   "metadata": {},
   "source": [
    "本讲座系列还可以使用以下GPU"
   ]
  },
  {
   "cell_type": "code",
   "execution_count": null,
   "id": "30286b51",
   "metadata": {
    "hide-output": false
   },
   "outputs": [],
   "source": [
    "!nvidia-smi"
   ]
  }
 ],
 "metadata": {
  "date": 1742685624.3527822,
  "filename": "status.md",
  "kernelspec": {
   "display_name": "Python",
   "language": "python3",
   "name": "python3"
  },
  "title": "执行统计"
 },
 "nbformat": 4,
 "nbformat_minor": 5
}