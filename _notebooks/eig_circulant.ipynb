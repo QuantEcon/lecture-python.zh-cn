{
 "cells": [
  {
   "cell_type": "markdown",
   "id": "3f02f1ea",
   "metadata": {},
   "source": [
    "# 循环矩阵"
   ]
  },
  {
   "cell_type": "markdown",
   "id": "685a933b",
   "metadata": {},
   "source": [
    "## 概述\n",
    "\n",
    "本讲座将介绍循环矩阵这一特殊的矩阵类型。\n",
    "\n",
    "循环矩阵有着独特的结构特征，这使得它们与许多重要的数学概念密切相关，比如：\n",
    "\n",
    "- 卷积运算  \n",
    "- 傅里叶变换  \n",
    "- 置换矩阵  \n",
    "\n",
    "\n",
    "正是由于这些重要联系，循环矩阵在机器学习等领域得到了广泛应用。例如，它们在图像处理中扮演着重要角色。\n",
    "\n",
    "我们首先导入一些Python包："
   ]
  },
  {
   "cell_type": "code",
   "execution_count": null,
   "id": "8fa158f8",
   "metadata": {
    "hide-output": false
   },
   "outputs": [],
   "source": [
    "import numpy as np\n",
    "from numba import jit\n",
    "import matplotlib.pyplot as plt\n",
    "import matplotlib as mpl\n",
    "FONTPATH = \"fonts/SourceHanSerifSC-SemiBold.otf\"\n",
    "mpl.font_manager.fontManager.addfont(FONTPATH)\n",
    "plt.rcParams['font.family'] = ['Source Han Serif SC']"
   ]
  },
  {
   "cell_type": "code",
   "execution_count": null,
   "id": "c32ba698",
   "metadata": {
    "hide-output": false
   },
   "outputs": [],
   "source": [
    "np.set_printoptions(precision=3, suppress=True)"
   ]
  },
  {
   "cell_type": "markdown",
   "id": "6d0f8e58",
   "metadata": {},
   "source": [
    "## 构造循环矩阵\n",
    "\n",
    "要构造一个 $ N \\times N $ 的循环矩阵，我们只需要第一行，比如：\n",
    "\n",
    "$$\n",
    "\\begin{bmatrix} c_{0} & c_{1} & c_{2} & c_{3} & c_{4} & \\cdots & c_{N-1} \\end{bmatrix} .\n",
    "$$\n",
    "\n",
    "设置第一行的元素后，循环矩阵的其余行按以下方式确定：\n",
    "\n",
    "\n",
    "<a id='equation-eqn-circulant'></a>\n",
    "$$\n",
    "C=\\left[\\begin{array}{ccccccc}\n",
    "c_{0} & c_{1} & c_{2} & c_{3} & c_{4} & \\cdots & c_{N-1}\\\\\n",
    "c_{N-1} & c_{0} & c_{1} & c_{2} & c_{3} & \\cdots & c_{N-2}\\\\\n",
    "c_{N-2} & c_{N-1} & c_{0} & c_{1} & c_{2} & \\cdots & c_{N-3}\\\\\n",
    "\\vdots & \\vdots & \\vdots & \\vdots & \\vdots & \\vdots & \\vdots\\\\\n",
    "c_{3} & c_{4} & c_{5} & c_{6} & c_{7} & \\cdots & c_{2}\\\\\n",
    "c_{2} & c_{3} & c_{4} & c_{5} & c_{6} & \\cdots & c_{1}\\\\\n",
    "c_{1} & c_{2} & c_{3} & c_{4} & c_{5} & \\cdots & c_{0}\n",
    "\\end{array}\\right] \\tag{4.1}\n",
    "$$\n",
    "\n",
    "也可以通过创建上述矩阵的转置来构造循环矩阵，在这种情况下只需要指定第一列。\n",
    "\n",
    "让我们编写一些Python代码来生成循环矩阵："
   ]
  },
  {
   "cell_type": "code",
   "execution_count": null,
   "id": "d8730661",
   "metadata": {
    "hide-output": false
   },
   "outputs": [],
   "source": [
    "@jit\n",
    "def construct_cirlulant(row):\n",
    "\n",
    "    N = row.size\n",
    "\n",
    "    C = np.empty((N, N))\n",
    "\n",
    "    for i in range(N):\n",
    "\n",
    "        C[i, i:] = row[:N-i]\n",
    "        C[i, :i] = row[N-i:]\n",
    "\n",
    "    return C"
   ]
  },
  {
   "cell_type": "code",
   "execution_count": null,
   "id": "9aa4af73",
   "metadata": {
    "hide-output": false
   },
   "outputs": [],
   "source": [
    "# 当 N = 3 时的一个简单例子\n",
    "construct_cirlulant(np.array([1., 2., 3.]))"
   ]
  },
  {
   "cell_type": "markdown",
   "id": "151eb49b",
   "metadata": {},
   "source": [
    "### 循环矩阵的一些性质\n",
    "\n",
    "以下是一些有用的性质。\n",
    "\n",
    "假设 $ A $ 和 $ B $ 都是循环矩阵。那么可以验证：\n",
    "\n",
    "- 循环矩阵的转置是循环矩阵  \n",
    "- $ A + B $ 是循环矩阵  \n",
    "- $ A B $ 是循环矩阵  \n",
    "- $ A B = B A $  \n",
    "\n",
    "\n",
    "现在考虑一个第一行为\n",
    "\n",
    "$$\n",
    "c = \\begin{bmatrix} c_0 & c_1 & \\cdots & c_{N-1} \\end{bmatrix}\n",
    "$$\n",
    "\n",
    "的循环矩阵，并考虑一个向量\n",
    "\n",
    "$$\n",
    "a = \\begin{bmatrix} a_0 & a_1 & \\cdots  &  a_{N-1} \\end{bmatrix}\n",
    "$$\n",
    "\n",
    "向量 $ c $ 和 $ a $ 的**卷积**定义为向量 $ b = c * a $，其分量为\n",
    "\n",
    "\n",
    "<a id='equation-eqn-conv'></a>\n",
    "$$\n",
    "b_k = \\sum_{i=0}^{n-1} c_{k-i} a_i \\tag{4.2}\n",
    "$$\n",
    "\n",
    "我们使用 $ * $ 来表示通过方程 [(4.2)](#equation-eqn-conv) 描述的**卷积**计算。\n",
    "\n",
    "可以验证向量 $ b $ 满足\n",
    "\n",
    "$$\n",
    "b = C^T a\n",
    "$$\n",
    "\n",
    "其中 $ C^T $ 是方程 [(4.1)](#equation-eqn-circulant) 中定义的循环矩阵的转置。"
   ]
  },
  {
   "cell_type": "markdown",
   "id": "06a3e257",
   "metadata": {},
   "source": [
    "## 与置换矩阵的联系\n",
    "\n",
    "构造循环矩阵的一个好方法是使用**置换矩阵**。\n",
    "\n",
    "在定义置换**矩阵**之前，我们先定义**置换**。\n",
    "\n",
    "非负整数集 $ \\{0, 1, 2, \\ldots \\} $ 的**置换**是该集合到自身的一一映射。\n",
    "\n",
    "集合 $ \\{1, 2, \\ldots, n\\} $ 的置换重新排列了该集合中的 $ n $ 个整数。\n",
    "\n",
    "[置换矩阵](https://mathworld.wolfram.com/PermutationMatrix.html)是通过根据数字 $ 1 $ 到 $ n $ 的置换来置换 $ n \\times n $ 单位矩阵的行而获得的。\n",
    "\n",
    "因此，每一行和每一列都恰好包含一个 $ 1 $，其余位置都是 $ 0 $。\n",
    "\n",
    "每个置换都对应一个唯一的置换矩阵。\n",
    "\n",
    "例如，$ N \\times N $ 矩阵\n",
    "\n",
    "\n",
    "<a id='equation-eqn-examplep'></a>\n",
    "$$\n",
    "P=\\left[\\begin{array}{cccccc}\n",
    "0 & 1 & 0 & 0 & \\cdots & 0\\\\\n",
    "0 & 0 & 1 & 0 & \\cdots & 0\\\\\n",
    "0 & 0 & 0 & 1 & \\cdots & 0\\\\\n",
    "\\vdots & \\vdots & \\vdots & \\vdots & \\vdots & \\vdots\\\\\n",
    "0 & 0 & 0 & 0 & \\cdots & 1\\\\\n",
    "1 & 0 & 0 & 0 & \\cdots & 0\n",
    "\\end{array}\\right] \\tag{4.3}\n",
    "$$\n",
    "\n",
    "是一个**循环移位**算子，当应用于 $ N \\times 1 $ 向量 $ h $ 时，将第 $ 2 $ 行到第 $ N $ 行的元素向上移动一行，并将第 $ 1 $ 行的元素移动到第 $ N $ 行。\n",
    "\n",
    "方程 [(4.3)](#equation-eqn-examplep) 中定义的循环移位置换矩阵 $ P $ 的特征值可以通过构造\n",
    "\n",
    "$$\n",
    "P-\\lambda I=\\left[\\begin{array}{cccccc}\n",
    "-\\lambda & 1 & 0 & 0 & \\cdots & 0\\\\\n",
    "0 & -\\lambda & 1 & 0 & \\cdots & 0\\\\\n",
    "0 & 0 & -\\lambda & 1 & \\cdots & 0\\\\\n",
    "\\vdots & \\vdots & \\vdots & \\vdots & \\vdots & \\vdots\\\\\n",
    "0 & 0 & 0 & 0 & \\cdots & 1\\\\\n",
    "1 & 0 & 0 & 0 & \\cdots & -\\lambda\n",
    "\\end{array}\\right]\n",
    "$$\n",
    "\n",
    "并求解\n",
    "\n",
    "$$\n",
    "\\textrm{det}(P - \\lambda I) = (-1)^N \\lambda^{N}-1=0\n",
    "$$\n",
    "\n",
    "来计算。\n",
    "\n",
    "特征值 $ \\lambda_i $ 可以是复数。\n",
    "\n",
    "这些特征值 $ \\lambda_i $ 的模 $ \\mid \\lambda_i \\mid $ 都等于 $ 1 $。\n",
    "\n",
    "因此，方程 [(4.3)](#equation-eqn-examplep) 中定义的置换矩阵 $ P $ 的**奇异值**都等于 $ 1 $。\n",
    "\n",
    "可以验证置换矩阵是正交矩阵：\n",
    "\n",
    "$$\n",
    "P P' = I\n",
    "$$"
   ]
  },
  {
   "cell_type": "markdown",
   "id": "27b54f5c",
   "metadata": {},
   "source": [
    "## Python示例\n",
    "\n",
    "让我们编写一些Python代码来说明这些概念："
   ]
  },
  {
   "cell_type": "code",
   "execution_count": null,
   "id": "3f051e84",
   "metadata": {
    "hide-output": false
   },
   "outputs": [],
   "source": [
    "@jit\n",
    "def construct_P(N):\n",
    "\n",
    "    P = np.zeros((N, N))\n",
    "\n",
    "    for i in range(N-1):\n",
    "        P[i, i+1] = 1\n",
    "    P[-1, 0] = 1\n",
    "\n",
    "    return P"
   ]
  },
  {
   "cell_type": "code",
   "execution_count": null,
   "id": "38b08d51",
   "metadata": {
    "hide-output": false
   },
   "outputs": [],
   "source": [
    "P4 = construct_P(4)\n",
    "P4"
   ]
  },
  {
   "cell_type": "code",
   "execution_count": null,
   "id": "d7f8bc99",
   "metadata": {
    "hide-output": false
   },
   "outputs": [],
   "source": [
    "# 计算特征值和特征向量\n",
    "𝜆, Q = np.linalg.eig(P4)"
   ]
  },
  {
   "cell_type": "code",
   "execution_count": null,
   "id": "302d3ab2",
   "metadata": {
    "hide-output": false
   },
   "outputs": [],
   "source": [
    "for i in range(4):\n",
    "    print(f'𝜆{i} = {𝜆[i]:.1f} \\nvec{i} = {Q[i, :]}\\n')"
   ]
  },
  {
   "cell_type": "markdown",
   "id": "23138da2",
   "metadata": {},
   "source": [
    "让我们在复平面上绘制移位置换矩阵的特征值。\n",
    "\n",
    "从图中可以看出，这些特征值在单位圆上均匀分布。\n",
    "\n",
    "这些特征值实际上就是单位根 – 即满足方程 $ z^n = 1 $ 的复数 $ z $。\n",
    "\n",
    "具体来说，对于阶数为 $ n $ 的置换矩阵，其特征值就是 $ n $ 个单位根，它们的表达式为\n",
    "\n",
    "$$\n",
    "z = \\exp\\left(\\frac{2 \\pi j k }{N} \\right) , \\quad k = 0, \\ldots, N-1\n",
    "$$\n",
    "\n",
    "其中 $ j $ 表示纯虚数单位。"
   ]
  },
  {
   "cell_type": "code",
   "execution_count": null,
   "id": "880c3a88",
   "metadata": {
    "hide-output": false
   },
   "outputs": [],
   "source": [
    "fig, ax = plt.subplots(2, 2, figsize=(10, 10))\n",
    "\n",
    "for i, N in enumerate([3, 4, 6, 8]):\n",
    "\n",
    "    row_i = i // 2\n",
    "    col_i = i % 2\n",
    "\n",
    "    P = construct_P(N)\n",
    "    𝜆, Q = np.linalg.eig(P)\n",
    "\n",
    "    circ = plt.Circle((0, 0), radius=1, edgecolor='b', facecolor='None')\n",
    "    ax[row_i, col_i].add_patch(circ)\n",
    "\n",
    "    for j in range(N):\n",
    "        ax[row_i, col_i].scatter(𝜆[j].real, 𝜆[j].imag, c='b')\n",
    "\n",
    "    ax[row_i, col_i].set_title(f'N = {N}')\n",
    "    ax[row_i, col_i].set_xlabel('实部')\n",
    "    ax[row_i, col_i].set_ylabel('虚部')\n",
    "\n",
    "plt.show()"
   ]
  },
  {
   "cell_type": "markdown",
   "id": "44b7bf65",
   "metadata": {},
   "source": [
    "对于系数向量 $ \\{c_i\\}_{i=0}^{n-1} $，$ P $ 的特征向量也是\n",
    "\n",
    "$$\n",
    "C = c_{0} I + c_{1} P + c_{2} P^{2} +\\cdots + c_{N-1} P^{N-1}.\n",
    "$$\n",
    "\n",
    "的特征向量。\n",
    "\n",
    "考虑一个例子，其中 $ N=8 $ 且 $ w = e^{-2 \\pi j / N} $。\n",
    "\n",
    "可以验证 $ P_{8} $ 的特征向量矩阵 $ F_8 $ 是\n",
    "\n",
    "$$\n",
    "F_{8}=\\left[\\begin{array}{ccccc}\n",
    "1 & 1 & 1 & \\cdots & 1\\\\\n",
    "1 & w & w^{2} & \\cdots & w^{7}\\\\\n",
    "1 & w^{2} & w^{4} & \\cdots & w^{14}\\\\\n",
    "1 & w^{3} & w^{6} & \\cdots & w^{21}\\\\\n",
    "1 & w^{4} & w^{8} & \\cdots & w^{28}\\\\\n",
    "1 & w^{5} & w^{10} & \\cdots & w^{35}\\\\\n",
    "1 & w^{6} & w^{12} & \\cdots & w^{42}\\\\\n",
    "1 & w^{7} & w^{14} & \\cdots & w^{49}\n",
    "\\end{array}\\right]\n",
    "$$\n",
    "\n",
    "矩阵 $ F_8 $ 定义了一个[离散傅里叶变换](https://en.wikipedia.org/wiki/Discrete_Fourier_transform)。\n",
    "\n",
    "为了将其转换为正交特征向量矩阵，我们可以简单地通过将每个元素除以 $ \\sqrt{8} $ 来归一化。\n",
    "\n",
    "- 仔细观察上面 $ F_8 $ 的第一列来理解这个事实  \n",
    "\n",
    "\n",
    "对应于每个特征向量的特征值按顺序是 $ \\{w^{j}\\}_{j=0}^{7} $。"
   ]
  },
  {
   "cell_type": "code",
   "execution_count": null,
   "id": "72588e78",
   "metadata": {
    "hide-output": false
   },
   "outputs": [],
   "source": [
    "def construct_F(N):\n",
    "\n",
    "    w = np.e ** (-complex(0, 2*np.pi/N))\n",
    "\n",
    "    F = np.ones((N, N), dtype=complex)\n",
    "    for i in range(1, N):\n",
    "        F[i, 1:] = w ** (i * np.arange(1, N))\n",
    "\n",
    "    return F, w"
   ]
  },
  {
   "cell_type": "code",
   "execution_count": null,
   "id": "6012b4ca",
   "metadata": {
    "hide-output": false
   },
   "outputs": [],
   "source": [
    "F8, w = construct_F(8)"
   ]
  },
  {
   "cell_type": "code",
   "execution_count": null,
   "id": "a319855f",
   "metadata": {
    "hide-output": false
   },
   "outputs": [],
   "source": [
    "w"
   ]
  },
  {
   "cell_type": "code",
   "execution_count": null,
   "id": "d4cf2c6d",
   "metadata": {
    "hide-output": false
   },
   "outputs": [],
   "source": [
    "F8"
   ]
  },
  {
   "cell_type": "code",
   "execution_count": null,
   "id": "797b2cc2",
   "metadata": {
    "hide-output": false
   },
   "outputs": [],
   "source": [
    "# 归一化\n",
    "Q8 = F8 / np.sqrt(8)"
   ]
  },
  {
   "cell_type": "code",
   "execution_count": null,
   "id": "b209b89d",
   "metadata": {
    "hide-output": false
   },
   "outputs": [],
   "source": [
    "# 验证正交性\n",
    "Q8 @ np.conjugate(Q8)"
   ]
  },
  {
   "cell_type": "markdown",
   "id": "a7235ff7",
   "metadata": {},
   "source": [
    "让我们验证 $ Q_{8} $ 的第 $ k $ 列是 $ P_{8} $ 的特征向量，对应的特征值是 $ w^{k} $。"
   ]
  },
  {
   "cell_type": "code",
   "execution_count": null,
   "id": "155bc6cd",
   "metadata": {
    "hide-output": false
   },
   "outputs": [],
   "source": [
    "P8 = construct_P(8)"
   ]
  },
  {
   "cell_type": "code",
   "execution_count": null,
   "id": "1d67fd3e",
   "metadata": {
    "hide-output": false
   },
   "outputs": [],
   "source": [
    "diff_arr = np.empty(8, dtype=complex)\n",
    "for j in range(8):\n",
    "    diff = P8 @ Q8[:, j] - w ** j * Q8[:, j]\n",
    "    diff_arr[j] = diff @ diff.T"
   ]
  },
  {
   "cell_type": "code",
   "execution_count": null,
   "id": "e45fd7bb",
   "metadata": {
    "hide-output": false
   },
   "outputs": [],
   "source": [
    "diff_arr"
   ]
  },
  {
   "cell_type": "markdown",
   "id": "f6dc1ede",
   "metadata": {},
   "source": [
    "## 循环矩阵与置换矩阵的关系\n",
    "\n",
    "接下来，我们将验证方程 [(4.1)](#equation-eqn-circulant) 中定义的循环矩阵 $ C $ 可以表示为置换矩阵的线性组合：\n",
    "\n",
    "$$\n",
    "C = c_{0} I + c_{1} P + \\cdots + c_{n-1} P^{n-1}\n",
    "$$\n",
    "\n",
    "并且 $ P $ 的每个特征向量也是 $ C $ 的特征向量。\n",
    "\n",
    "我们用 $ N=8 $ 的情况来说明这一点。"
   ]
  },
  {
   "cell_type": "code",
   "execution_count": null,
   "id": "65887227",
   "metadata": {
    "hide-output": false
   },
   "outputs": [],
   "source": [
    "c = np.random.random(8)"
   ]
  },
  {
   "cell_type": "code",
   "execution_count": null,
   "id": "5470db33",
   "metadata": {
    "hide-output": false
   },
   "outputs": [],
   "source": [
    "c"
   ]
  },
  {
   "cell_type": "code",
   "execution_count": null,
   "id": "b62e38bf",
   "metadata": {
    "hide-output": false
   },
   "outputs": [],
   "source": [
    "C8 = construct_cirlulant(c)"
   ]
  },
  {
   "cell_type": "markdown",
   "id": "ff90dde6",
   "metadata": {},
   "source": [
    "计算 $ c_{0} I + c_{1} P + \\cdots + c_{n-1} P^{n-1} $"
   ]
  },
  {
   "cell_type": "code",
   "execution_count": null,
   "id": "dc3ddf04",
   "metadata": {
    "hide-output": false
   },
   "outputs": [],
   "source": [
    "N = 8\n",
    "\n",
    "C = np.zeros((N, N))\n",
    "P = np.eye(N)\n",
    "\n",
    "for i in range(N):\n",
    "    C += c[i] * P\n",
    "    P = P8 @ P"
   ]
  },
  {
   "cell_type": "code",
   "execution_count": null,
   "id": "7a129fb5",
   "metadata": {
    "hide-output": false
   },
   "outputs": [],
   "source": [
    "C"
   ]
  },
  {
   "cell_type": "code",
   "execution_count": null,
   "id": "11d4a6ef",
   "metadata": {
    "hide-output": false
   },
   "outputs": [],
   "source": [
    "C8"
   ]
  },
  {
   "cell_type": "markdown",
   "id": "32631704",
   "metadata": {},
   "source": [
    "现在让我们计算两种不同方式构造的循环矩阵之间的差值。"
   ]
  },
  {
   "cell_type": "code",
   "execution_count": null,
   "id": "9d89ad29",
   "metadata": {
    "hide-output": false
   },
   "outputs": [],
   "source": [
    "np.abs(C - C8).max()"
   ]
  },
  {
   "cell_type": "markdown",
   "id": "d84ca908",
   "metadata": {},
   "source": [
    "$ P_8 $ 的第 $ k $ 列是 $ C_8 $ 的特征向量，其特征值为 $ \\sum_{h=0}^{7} c_h w^{hk} $，其中 $ w^{k-1} $ 是 $ P_8 $ 对应的特征值。"
   ]
  },
  {
   "cell_type": "code",
   "execution_count": null,
   "id": "af84e763",
   "metadata": {
    "hide-output": false
   },
   "outputs": [],
   "source": [
    "𝜆_C8 = np.zeros(8, dtype=complex)\n",
    "\n",
    "for j in range(8):\n",
    "    for k in range(8):\n",
    "        𝜆_C8[j] += c[k] * w ** (j * k)"
   ]
  },
  {
   "cell_type": "code",
   "execution_count": null,
   "id": "b2b2ef06",
   "metadata": {
    "hide-output": false
   },
   "outputs": [],
   "source": [
    "𝜆_C8"
   ]
  },
  {
   "cell_type": "markdown",
   "id": "a3014c01",
   "metadata": {},
   "source": [
    "我们可以通过比较 `C8 @ Q8[:, j]` 和 `𝜆_C8[j] * Q8[:, j]` 来验证这一点。"
   ]
  },
  {
   "cell_type": "code",
   "execution_count": null,
   "id": "43986bbf",
   "metadata": {
    "hide-output": false
   },
   "outputs": [],
   "source": [
    "# 验证\n",
    "for j in range(8):\n",
    "    diff = C8 @ Q8[:, j] - 𝜆_C8[j] * Q8[:, j]\n",
    "    print(diff)"
   ]
  },
  {
   "cell_type": "markdown",
   "id": "80ba4652",
   "metadata": {},
   "source": [
    "## 离散傅里叶变换\n",
    "\n",
    "**离散傅里叶变换**（DFT）允许我们将离散时间序列表示为复正弦波的加权和。\n",
    "\n",
    "考虑一个包含 $ N $ 个实数的序列 $ \\{x_j\\}_{j=0}^{N-1} $。\n",
    "\n",
    "**离散傅里叶变换**将 $ \\{x_j\\}_{j=0}^{N-1} $ 映射到复数序列 $ \\{X_k\\}_{k=0}^{N-1} $，其中\n",
    "\n",
    "$$\n",
    "X_{k}=\\sum_{n=0}^{N-1}x_{n}e^{-2\\pi\\frac{kn}{N}i}\n",
    "$$"
   ]
  },
  {
   "cell_type": "code",
   "execution_count": null,
   "id": "bca99163",
   "metadata": {
    "hide-output": false
   },
   "outputs": [],
   "source": [
    "def DFT(x):\n",
    "    \"离散傅里叶变换。\"\n",
    "\n",
    "    N = len(x)\n",
    "    w = np.e ** (-complex(0, 2*np.pi/N))\n",
    "\n",
    "    X = np.zeros(N, dtype=complex)\n",
    "    for k in range(N):\n",
    "        for n in range(N):\n",
    "            X[k] += x[n] * w ** (k * n)\n",
    "\n",
    "    return X"
   ]
  },
  {
   "cell_type": "markdown",
   "id": "84ba2fd1",
   "metadata": {},
   "source": [
    "考虑以下示例：\n",
    "\n",
    "$$\n",
    "x_{n}=\\begin{cases}\n",
    "1/2 & n=0,1\\\\\n",
    "0 & \\text{其他情况}\n",
    "\\end{cases}\n",
    "$$"
   ]
  },
  {
   "cell_type": "code",
   "execution_count": null,
   "id": "94714349",
   "metadata": {
    "hide-output": false
   },
   "outputs": [],
   "source": [
    "x = np.zeros(10)\n",
    "x[0:2] = 1/2"
   ]
  },
  {
   "cell_type": "code",
   "execution_count": null,
   "id": "6c95c3f5",
   "metadata": {
    "hide-output": false
   },
   "outputs": [],
   "source": [
    "x"
   ]
  },
  {
   "cell_type": "markdown",
   "id": "1d817a85",
   "metadata": {},
   "source": [
    "应用离散傅里叶变换。"
   ]
  },
  {
   "cell_type": "code",
   "execution_count": null,
   "id": "b9ed055f",
   "metadata": {
    "hide-output": false
   },
   "outputs": [],
   "source": [
    "X = DFT(x)"
   ]
  },
  {
   "cell_type": "code",
   "execution_count": null,
   "id": "c220c3ce",
   "metadata": {
    "hide-output": false
   },
   "outputs": [],
   "source": [
    "X"
   ]
  },
  {
   "cell_type": "markdown",
   "id": "84932c38",
   "metadata": {},
   "source": [
    "我们可以绘制数字序列的幅值和相关的离散傅里叶变换。"
   ]
  },
  {
   "cell_type": "code",
   "execution_count": null,
   "id": "03799043",
   "metadata": {
    "hide-output": false
   },
   "outputs": [],
   "source": [
    "def plot_magnitude(x=None, X=None):\n",
    "\n",
    "    data = []\n",
    "    names = []\n",
    "    xs = []\n",
    "    if (x is not None):\n",
    "        data.append(x)\n",
    "        names.append('x')\n",
    "        xs.append('n')\n",
    "    if (X is not None):\n",
    "        data.append(X)\n",
    "        names.append('X')\n",
    "        xs.append('j')\n",
    "\n",
    "    num = len(data)\n",
    "    for i in range(num):\n",
    "        n = data[i].size\n",
    "        plt.figure(figsize=(8, 3))\n",
    "        plt.scatter(range(n), np.abs(data[i]))\n",
    "        plt.vlines(range(n), 0, np.abs(data[i]), color='b')\n",
    "\n",
    "        plt.xlabel(xs[i])\n",
    "        plt.ylabel('幅值')\n",
    "        plt.title(names[i])\n",
    "        plt.show()"
   ]
  },
  {
   "cell_type": "code",
   "execution_count": null,
   "id": "ca1e3c00",
   "metadata": {
    "hide-output": false
   },
   "outputs": [],
   "source": [
    "plot_magnitude(x=x, X=X)"
   ]
  },
  {
   "cell_type": "markdown",
   "id": "96cffabf",
   "metadata": {},
   "source": [
    "**逆傅里叶变换**将 $ x $ 的傅里叶变换 $ X $ 转换回 $ x $。\n",
    "\n",
    "逆傅里叶变换定义为\n",
    "\n",
    "$$\n",
    "x_{n} = \\sum_{k=0}^{N-1} \\frac{1}{N} X_{k} e^{2\\pi\\left(\\frac{kn}{N}\\right)i}, \\quad n=0, 1, \\ldots, N-1\n",
    "$$"
   ]
  },
  {
   "cell_type": "code",
   "execution_count": null,
   "id": "0ef155f7",
   "metadata": {
    "hide-output": false
   },
   "outputs": [],
   "source": [
    "def inverse_transform(X):\n",
    "\n",
    "    N = len(X)\n",
    "    w = np.e ** (complex(0, 2*np.pi/N))\n",
    "\n",
    "    x = np.zeros(N, dtype=complex)\n",
    "    for n in range(N):\n",
    "        for k in range(N):\n",
    "            x[n] += X[k] * w ** (k * n) / N\n",
    "\n",
    "    return x"
   ]
  },
  {
   "cell_type": "code",
   "execution_count": null,
   "id": "384bff68",
   "metadata": {
    "hide-output": false
   },
   "outputs": [],
   "source": [
    "inverse_transform(X)"
   ]
  },
  {
   "cell_type": "markdown",
   "id": "ea016f5c",
   "metadata": {},
   "source": [
    "另一个例子是\n",
    "\n",
    "$$\n",
    "x_{n}=2\\cos\\left(2\\pi\\frac{11}{40}n\\right),\\ n=0,1,2,\\cdots19\n",
    "$$\n",
    "\n",
    "由于 $ N=20 $，我们不能使用 $ \\frac{1}{20} $ 的整数倍来表示频率 $ \\frac{11}{40} $。\n",
    "\n",
    "为了处理这种情况，我们最终将使用DFT中所有可用的 $ N $ 个频率。\n",
    "\n",
    "由于 $ \\frac{11}{40} $ 在 $ \\frac{10}{40} $ 和 $ \\frac{12}{40} $ 之间（每个都是 $ \\frac{1}{20} $ 的整数倍），DFT中的复系数在 $ k=5,6,15,16 $ 处具有最大幅值，而不仅仅是在单个频率处。"
   ]
  },
  {
   "cell_type": "code",
   "execution_count": null,
   "id": "9a05bab3",
   "metadata": {
    "hide-output": false
   },
   "outputs": [],
   "source": [
    "N = 20\n",
    "x = np.empty(N)\n",
    "\n",
    "for j in range(N):\n",
    "    x[j] = 2 * np.cos(2 * np.pi * 11 * j / 40)"
   ]
  },
  {
   "cell_type": "code",
   "execution_count": null,
   "id": "2feb3896",
   "metadata": {
    "hide-output": false
   },
   "outputs": [],
   "source": [
    "X = DFT(x)"
   ]
  },
  {
   "cell_type": "code",
   "execution_count": null,
   "id": "e2fbf380",
   "metadata": {
    "hide-output": false
   },
   "outputs": [],
   "source": [
    "plot_magnitude(x=x, X=X)"
   ]
  },
  {
   "cell_type": "markdown",
   "id": "a253b04c",
   "metadata": {},
   "source": [
    "如果我们把最后一个例子改为 $ x_{n}=2\\cos\\left(2\\pi\\frac{10}{40}n\\right) $ 会发生什么？\n",
    "\n",
    "注意 $ \\frac{10}{40} $ 是 $ \\frac{1}{20} $ 的整数倍。"
   ]
  },
  {
   "cell_type": "code",
   "execution_count": null,
   "id": "14b464d5",
   "metadata": {
    "hide-output": false
   },
   "outputs": [],
   "source": [
    "N = 20\n",
    "x = np.empty(N)\n",
    "\n",
    "for j in range(N):\n",
    "    x[j] = 2 * np.cos(2 * np.pi * 10 * j / 40)"
   ]
  },
  {
   "cell_type": "code",
   "execution_count": null,
   "id": "42b08e35",
   "metadata": {
    "hide-output": false
   },
   "outputs": [],
   "source": [
    "X = DFT(x)"
   ]
  },
  {
   "cell_type": "code",
   "execution_count": null,
   "id": "9585fa4d",
   "metadata": {
    "hide-output": false
   },
   "outputs": [],
   "source": [
    "plot_magnitude(x=x, X=X)"
   ]
  },
  {
   "cell_type": "markdown",
   "id": "4fdddc1e",
   "metadata": {},
   "source": [
    "如果我们将离散傅里叶变换表示为矩阵，我们会发现它等于置换矩阵 $ P_{N} $ 的特征向量矩阵 $ F_{N} $。\n",
    "\n",
    "我们可以使用 $ x_{n}=2\\cos\\left(2\\pi\\frac{11}{40}n\\right),\\ n=0,1,2,\\cdots19 $ 的例子来说明这一点。"
   ]
  },
  {
   "cell_type": "code",
   "execution_count": null,
   "id": "e99abea8",
   "metadata": {
    "hide-output": false
   },
   "outputs": [],
   "source": [
    "N = 20\n",
    "x = np.empty(N)\n",
    "\n",
    "for j in range(N):\n",
    "    x[j] = 2 * np.cos(2 * np.pi * 11 * j / 40)"
   ]
  },
  {
   "cell_type": "code",
   "execution_count": null,
   "id": "0b2fad90",
   "metadata": {
    "hide-output": false
   },
   "outputs": [],
   "source": [
    "x"
   ]
  },
  {
   "cell_type": "markdown",
   "id": "9f31c32d",
   "metadata": {},
   "source": [
    "首先使用求和公式将 $ x $ 变换为 $ X $。"
   ]
  },
  {
   "cell_type": "code",
   "execution_count": null,
   "id": "8ca7b547",
   "metadata": {
    "hide-output": false
   },
   "outputs": [],
   "source": [
    "X = DFT(x)\n",
    "X"
   ]
  },
  {
   "cell_type": "markdown",
   "id": "b4414f75",
   "metadata": {},
   "source": [
    "现在让我们计算特征向量矩阵 $ F_{20} $ 与向量 $ x $ 的后乘结果，这个乘积应该等于序列 $ \\{x_n\\}_{n=0}^{N-1} $ 的傅里叶变换。"
   ]
  },
  {
   "cell_type": "code",
   "execution_count": null,
   "id": "66890733",
   "metadata": {
    "hide-output": false
   },
   "outputs": [],
   "source": [
    "F20, _ = construct_F(20)"
   ]
  },
  {
   "cell_type": "code",
   "execution_count": null,
   "id": "4ce0139e",
   "metadata": {
    "hide-output": false
   },
   "outputs": [],
   "source": [
    "F20 @ x"
   ]
  },
  {
   "cell_type": "markdown",
   "id": "1c9b40d9",
   "metadata": {},
   "source": [
    "同样，逆DFT可以表示为逆DFT矩阵 $ F^{-1}_{20} $。"
   ]
  },
  {
   "cell_type": "code",
   "execution_count": null,
   "id": "853bfbb3",
   "metadata": {
    "hide-output": false
   },
   "outputs": [],
   "source": [
    "F20_inv = np.linalg.inv(F20)\n",
    "F20_inv @ X"
   ]
  }
 ],
 "metadata": {
  "date": 1761257070.1427417,
  "filename": "eig_circulant.md",
  "kernelspec": {
   "display_name": "Python",
   "language": "python3",
   "name": "python3"
  },
  "title": "循环矩阵"
 },
 "nbformat": 4,
 "nbformat_minor": 5
}