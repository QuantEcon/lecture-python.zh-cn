{
 "cells": [
  {
   "cell_type": "markdown",
   "id": "86514ccc",
   "metadata": {},
   "source": [
    "<div id=\"qe-notebook-header\" align=\"right\" style=\"text-align:right;\">\n",
    "        <a href=\"https://quantecon.org/\" title=\"quantecon.org\">\n",
    "                <img style=\"width:250px;display:inline;\" width=\"250px\" src=\"https://assets.quantecon.org/img/qe-menubar-logo.svg\" alt=\"QuantEcon\">\n",
    "        </a>\n",
    "</div>"
   ]
  },
  {
   "cell_type": "markdown",
   "id": "2a0c1bf8",
   "metadata": {},
   "source": [
    "# 萨缪尔森乘数-加速器模型"
   ]
  },
  {
   "cell_type": "markdown",
   "id": "43f9af89",
   "metadata": {},
   "source": [
    "## 目录\n",
    "\n",
    "- [萨缪尔森乘数-加速器模型](#萨缪尔森乘数-加速器模型)  \n",
    "  - [概述](#概述)  \n",
    "  - [详细内容](#详细内容)  \n",
    "  - [实现](#实现)  \n",
    "  - [随机冲击](#随机冲击)  \n",
    "  - [政府支出](#政府支出)  \n",
    "  - [将所有内容封装到类中](#将所有内容封装到类中)  \n",
    "  - [使用LinearStateSpace类](#使用LinearStateSpace类)  \n",
    "  - [纯乘数模型](#纯乘数模型)  \n",
    "  - [总结](#总结)  "
   ]
  },
  {
   "cell_type": "markdown",
   "id": "f76af782",
   "metadata": {},
   "source": [
    "除了Anaconda中已有的库外，这节课程还需要以下库："
   ]
  },
  {
   "cell_type": "code",
   "execution_count": null,
   "id": "192859f5",
   "metadata": {
    "hide-output": false
   },
   "outputs": [],
   "source": [
    "!pip install quantecon"
   ]
  },
  {
   "cell_type": "markdown",
   "id": "3cdc82a0",
   "metadata": {},
   "source": [
    "## 概述\n",
    "\n",
    "本讲将介绍保罗·萨缪尔森著名的乘数加速模型,包括其非随机和随机两个版本 [[Samuelson, 1939](https://python.quantecon.org/zreferences.html#id96)]。\n",
    "\n",
    "在此过程中，我们将扩展[面向对象编程第二讲](https://python-programming.quantecon.org/python_oop.html#example-the-solow-growth-model)中的索洛模型类示例。\n",
    "\n",
    "本讲的主要目标包括：\n",
    "\n",
    "- 通过萨缪尔森模型深入学习面向对象编程和类的使用  \n",
    "- 深入理解这个经典的经济学模型  \n",
    "- 复习线性差分方程的相关知识，包括非随机和随机两种情况  \n",
    "\n",
    "\n",
    "让我们从一些标准的导入开始："
   ]
  },
  {
   "cell_type": "code",
   "execution_count": null,
   "id": "a3c2d51f",
   "metadata": {
    "hide-output": false
   },
   "outputs": [],
   "source": [
    "import matplotlib.pyplot as plt\n",
    "import matplotlib as mpl\n",
    "FONTPATH = \"fonts/SourceHanSerifSC-SemiBold.otf\"\n",
    "mpl.font_manager.fontManager.addfont(FONTPATH)\n",
    "plt.rcParams['font.family'] = ['Source Han Serif SC']\n",
    "\n",
    "plt.rcParams[\"figure.figsize\"] = (11, 5)  #设置默认图形大小\n",
    "import numpy as np"
   ]
  },
  {
   "cell_type": "markdown",
   "id": "7edf4e12",
   "metadata": {},
   "source": [
    "我们还将使用以下Python库："
   ]
  },
  {
   "cell_type": "code",
   "execution_count": null,
   "id": "f0bf31b3",
   "metadata": {
    "hide-output": false
   },
   "outputs": [],
   "source": [
    "from quantecon import LinearStateSpace\n",
    "import cmath\n",
    "import math\n",
    "import sympy\n",
    "from sympy import Symbol, init_printing\n",
    "from cmath import sqrt"
   ]
  },
  {
   "cell_type": "markdown",
   "id": "b9a40ace",
   "metadata": {},
   "source": [
    "### 萨缪尔森模型\n",
    "\n",
    "萨缪尔森（Samuelson）使用*二阶线性差分方程*来表示一个基于三个组成部分的国民产出模型：\n",
    "\n",
    "- *国民产出恒等式*，表明国民产出或国民收入是消费、投资和政府购买的总和。  \n",
    "- 凯恩斯式的*消费函数*，表明$ t $时期的消费等于一个常数乘以$ t-1 $时期的国民产出。  \n",
    "- 投资*加速器*，表明$ t $时期的投资等于一个称为*加速系数*的常数乘以$ t-1 $时期和$ t-2 $时期产出之差。  \n",
    "\n",
    "\n",
    "消费、投资和政府购买的总和构成了*总需求*，根据供需平衡，这必然对应了相同数量的*总供给*。\n",
    "\n",
    "（关于线性差分方程的内容请参见[这里](https://baike.baidu.com/item/%E5%B8%B8%E7%B3%BB%E6%95%B0%E7%BA%BF%E6%80%A7%E9%80%92%E6%8E%A8%E6%95%B0%E5%88%97/8017610)或[[Sargent, 1987](https://python.quantecon.org/zreferences.html#id218)]的第九章。）\n",
    "\n",
    "萨缪尔森使用该模型分析了边际消费倾向和加速系数的特定值如何在一定概率上导致国民产出出现暂时性的*商业周期*。\n",
    "\n",
    "可能的动态特性包括以下几种：\n",
    "\n",
    "- 动态平稳收敛到一个固定的产出水平  \n",
    "- 最终收敛到固定产出水平的衰减商业周期  \n",
    "- 既不衰减也不发散的持续性商业周期  \n",
    "\n",
    "\n",
    "后面我们将介绍一个扩展模型，在国民收入恒等式右侧加入一个随机冲击项，代表总需求的随机波动。\n",
    "\n",
    "这一修改使国民产出受到二阶*随机线性差分方程*的影响，在适当的参数值下，会产生反复出现的不规则商业周期。\n",
    "\n",
    "(关于随机线性差分方程的内容，请参见[[Sargent, 1987](https://python.quantecon.org/zreferences.html#id218)]的第XI章。)"
   ]
  },
  {
   "cell_type": "markdown",
   "id": "9f3201a7",
   "metadata": {},
   "source": [
    "## 详细内容\n",
    "\n",
    "让我们假设：\n",
    "\n",
    "- $ \\{G_t\\} $是一系列的政府支出水平 –  \n",
    "\n",
    "\n",
    "我们先将所有时期的 $ G_t = G $ 设为常数。\n",
    "\n",
    "- $ \\{C_t\\} $ 是总消费支出水平的序列，是模型中的一个关键内生变量。  \n",
    "- $ \\{I_t\\} $ 是投资率的序列，是另一个关键内生变量。  \n",
    "- $ \\{Y_t\\} $ 是国民收入水平的序列，也是一个内生变量。  \n",
    "\n",
    "\n",
    "- $ \\alpha $ 是凯恩斯消费函数 $ C_t = \\alpha Y_{t-1} + \\gamma $ 中的边际消费倾向。  \n",
    "- $ \\beta $ 是”投资加速器” $ I_t = \\beta (Y_{t-1} - Y_{t-2}) $ 中的”加速系数”。  \n",
    "- $ \\{\\epsilon_{t}\\} $ 是一个独立同分布的标准正态随机变量序列。  \n",
    "- $ \\sigma \\geq 0 $ 是一个”波动性”参数 — 当设定 $ \\sigma = 0 $ 时，\n",
    "  我们将得到最初要研究的非随机情况。  \n",
    "\n",
    "\n",
    "该模型结合了消费函数\n",
    "\n",
    "\n",
    "<a id='equation-consumption'></a>\n",
    "$$\n",
    "C_t = \\alpha Y_{t-1} + \\gamma \\tag{37.1}\n",
    "$$\n",
    "\n",
    "和投资加速器\n",
    "\n",
    "\n",
    "<a id='equation-accelerator'></a>\n",
    "$$\n",
    "I_t = \\beta (Y_{t-1} - Y_{t-2}) \\tag{37.2}\n",
    "$$\n",
    "\n",
    "以及国民收入恒等式\n",
    "\n",
    "\n",
    "<a id='equation-income-identity'></a>\n",
    "$$\n",
    "Y_t = C_t + I_t + G_t \\tag{37.3}\n",
    "$$\n",
    "\n",
    "- 参数 $ \\alpha $ 是人们的收入*边际消费倾向*  \n",
    "  - 方程 [(37.1)](#equation-consumption) 表明人们会消费每增加一美元收入中的 $ \\alpha \\in (0,1) $ 部分。  \n",
    "- 参数 $ \\beta > 0 $ 是投资加速系数 - 方程\n",
    "  [(37.2)](#equation-accelerator) 表明当收入增加时人们会投资实物资本，当收入减少时会减少投资。  \n",
    "\n",
    "\n",
    "方程 [(37.1)](#equation-consumption)、[(37.2)](#equation-accelerator) 和 [(37.3)](#equation-income-identity)\n",
    "推导出以下关于国民收入的二阶线性差分方程：\n",
    "\n",
    "$$\n",
    "Y_t = (\\alpha+\\beta) Y_{t-1} - \\beta Y_{t-2} + (\\gamma + G_t)\n",
    "$$\n",
    "\n",
    "或\n",
    "\n",
    "\n",
    "<a id='equation-second-order'></a>\n",
    "$$\n",
    "Y_t = \\rho_1 Y_{t-1} + \\rho_2 Y_{t-2} + (\\gamma + G_t) \\tag{37.4}\n",
    "$$\n",
    "\n",
    "其中 $ \\rho_1 = (\\alpha+\\beta) $ 且 $ \\rho_2 = -\\beta $。\n",
    "\n",
    "为完成这个模型，我们需要两个**初始条件**。\n",
    "\n",
    "如果模型要生成 $ t=0, \\ldots, T $ 的时间序列，我们\n",
    "\n",
    "需要初始值\n",
    "\n",
    "$$\n",
    "Y_{-1} = \\bar Y_{-1}, \\quad  Y_{-2} = \\bar Y_{-2}\n",
    "$$\n",
    "\n",
    "我们通常会设置参数$ (\\alpha,\\beta) $，使得从任意一对初始条件$ (\\bar Y_{-1}, \\bar Y_{-2}) $开始，国民收入$ Y_t $在$ t $变大时会收敛到一个常数值。\n",
    "\n",
    "也就是说，我们感兴趣的是：\n",
    "\n",
    "- $ Y_t $在收敛到其**稳态**水平过程中的暂时波动  \n",
    "- 及其收敛到稳态水平的**速率**  \n",
    "\n",
    "\n",
    "到目前为止我们讨论的是模型的非随机版本，即没有随机冲击影响总需求的情况。在这种情况下，模型只会产生暂时的波动。\n",
    "\n",
    "为了使模型更贴近现实，我们可以在总需求中引入随机冲击，这样就能产生持续的、不规则的经济波动。"
   ]
  },
  {
   "cell_type": "markdown",
   "id": "81a748e5",
   "metadata": {},
   "source": [
    "### 模型的随机版本\n",
    "\n",
    "我们通过在方程[(37.4)](#equation-second-order)的右侧加入一个**冲击**或**扰动**的随机过程$ \\{\\sigma \\epsilon_t \\} $，创建模型的**随机**版本，\n",
    "\n",
    "由此得出**二阶标量线性随机差分方程**：\n",
    "\n",
    "\n",
    "<a id='equation-second-stochastic'></a>\n",
    "$$\n",
    "Y_t = \\gamma + G_t + (α+β) Y_{t-1} - β Y_{t-2} + \\sigma \\epsilon_{t} \\tag{37.5}\n",
    "$$"
   ]
  },
  {
   "cell_type": "markdown",
   "id": "196da174",
   "metadata": {},
   "source": [
    "### 模型的数学分析\n",
    "\n",
    "首先，让我们设定 $ G_t \\equiv 0 $，$ \\sigma = 0 $，以及\n",
    "$ \\gamma = 0 $。\n",
    "\n",
    "然后我们可以将方程 [(37.5)](#equation-second-stochastic) 写作\n",
    "\n",
    "$$\n",
    "Y_t = \\rho_1 Y_{t-1} + \\rho_2 Y_{t-2}\n",
    "$$\n",
    "\n",
    "或\n",
    "\n",
    "\n",
    "<a id='equation-second-stochastic2'></a>\n",
    "$$\n",
    "Y_{t+2} - \\rho_1 Y_{t+1} - \\rho_2 Y_t  = 0 \\tag{37.6}\n",
    "$$\n",
    "\n",
    "为了发现 [(37.6)](#equation-second-stochastic2) 解的性质，\n",
    "首先形成 [(37.6)](#equation-second-stochastic2) 的**特征多项式**是很有用的：\n",
    "\n",
    "\n",
    "<a id='equation-polynomial'></a>\n",
    "$$\n",
    "z^2 - \\rho_1 z  - \\rho_2 \\tag{37.7}\n",
    "$$\n",
    "\n",
    "其中 $ z $ 可能是一个复数。\n",
    "\n",
    "我们想要找到特征多项式的两个**零点**（又称**根**）– 即\n",
    "$ \\lambda_1, \\lambda_2 $。\n",
    "\n",
    "这是两个特殊的 $ z $ 值，即 $ z= \\lambda_1 $ 和\n",
    "$ z= \\lambda_2 $，如果我们将 $ z $ 设为其中之一\n",
    "\n",
    "将这些值代入表达式 [(37.7)](#equation-polynomial)，\n",
    "特征多项式 [(37.7)](#equation-polynomial) 等于零：\n",
    "\n",
    "\n",
    "<a id='equation-polynomial-sol'></a>\n",
    "$$\n",
    "z^2 - \\rho_1 z  - \\rho_2  = (z- \\lambda_1 ) (z -\\lambda_2) = 0 \\tag{37.8}\n",
    "$$\n",
    "\n",
    "方程 [(37.8)](#equation-polynomial-sol) 被称为特征多项式的**因式分解**。\n",
    "\n",
    "当根为复数时，它们将以共轭复数对的形式出现。\n",
    "\n",
    "当根为复数时，用极坐标形式表示它们会比较方便\n",
    "\n",
    "$$\n",
    "\\lambda_1 =  r e^{i \\omega}, \\  \\lambda_2 = r e^{-i \\omega}\n",
    "$$\n",
    "\n",
    "其中 $ r $ 是复数的*幅值*，而 $ \\omega $ 是其*角度*或*相位*。\n",
    "\n",
    "这些也可以表示为\n",
    "\n",
    "$$\n",
    "\\lambda_1 = r (cos (\\omega) + i \\sin (\\omega))\n",
    "$$\n",
    "\n",
    "$$\n",
    "\\lambda_2 = r (cos (\\omega) - i \\sin(\\omega))\n",
    "$$\n",
    "\n",
    "（要了解极坐标形式，请参见[这里](https://www.khanacademy.org/math/precalculus/x9e81a4f98389efdf:complex/x9e81a4f98389efdf:complex-mul-div-polar/a/complex-number-polar-form-review)）\n",
    "\n",
    "给定**初始条件** $ Y_{-1}, Y_{-2} $，我们想要生成差分方程 [(37.6)](#equation-second-stochastic2) 的**解**。\n",
    "\n",
    "它可以表示为\n",
    "\n",
    "$$\n",
    "Y_t = \\lambda_1^t c_1 + \\lambda_2^t c_2\n",
    "$$\n",
    "\n",
    "其中 $ c_1 $ 和 $ c_2 $ 是取决于两个初始条件和 $ \\rho_1, \\rho_2 $ 的常数。\n",
    "\n",
    "当根为复数时，以下的计算将非常有用。\n",
    "\n",
    "注意\n",
    "\n",
    "$$\n",
    "\\begin{aligned}\n",
    "  Y_t & =  & c_1 (r e^{i \\omega})^t + c_2 (r e^{-i \\omega})^t  \\\\\n",
    "   & = & c_1 r^t e^{i\\omega t} + c_2 r^t e^{-i \\omega t} \\\\\n",
    "   & = &  c_1 r^t [\\cos(\\omega t) + i \\sin(\\omega t) ] + c_2 r^t [\\cos(\\omega t) - i \\sin(\\omega t) ] \\\\\n",
    "   & = & (c_1 + c_2) r^t \\cos(\\omega t) + i (c_1 - c_2) r^t \\sin(\\omega t)\n",
    " \\end{aligned}\n",
    "$$\n",
    "\n",
    "要使 $ Y_t $ 对每个 $ t $ 都是实数，唯一的方式是 $ c_1 + c_2 $ 为实数，而 $ c_1 - c_2 $ 为虚数。\n",
    "\n",
    "这种情况只有当$ c_1 $和$ c_2 $是复共轭时才会发生，此时它们可以用极坐标形式表示为\n",
    "\n",
    "$$\n",
    "c_1 = v e^{i \\theta},  \\  \\ c_2 = v e^{- i \\theta}\n",
    "$$\n",
    "\n",
    "因此我们可以写成\n",
    "\n",
    "$$\n",
    "\\begin{aligned}\n",
    "  Y_t & = & v e^{i \\theta} r^t e^{i \\omega t} + v e ^{- i \\theta} r^t e^{-i \\omega t} \\\\\n",
    "      & = & v r^t [ e^{i(\\omega t + \\theta)} + e^{-i (\\omega t +\\theta)}]  \\\\\n",
    "      & = & 2 v r^t  \\cos (\\omega t + \\theta)\n",
    " \\end{aligned}\n",
    "$$\n",
    "\n",
    "其中$ v $和$ \\theta $是确定的常数，可以通过$ Y_{-1}, Y_{-2} $的初始条件得到。\n",
    "\n",
    "这个公式表明，当根为复数时，$ Y_t $表现出具有**周期**$ \\check p = \\frac{2 \\pi}{\\omega} $和**衰减因子**$ r $的振荡。\n",
    "\n",
    "我们称$ \\check p $为**周期**，是因为在这段时间内，余弦波$ \\cos(\\omega t + \\theta) $恰好完成一个完整的周期。\n",
    "\n",
    "（请画一个余弦函数来辅助自己理解）\n",
    "\n",
    "**注释：** 遵循[[Samuelson, 1939](https://python.quantecon.org/zreferences.html#id96)]，我们要选择模型的参数$ \\alpha, \\beta $，使得特征多项式的（可能是复数的）根$ \\lambda_1, \\lambda_2 $的绝对值都严格小于1：\n",
    "\n",
    "$$\n",
    "| \\lambda_j | < 1 \\quad \\quad \\text{对于 } j = 1, 2\n",
    "$$\n",
    "\n",
    "**注释：** 当特征多项式的两个根$ \\lambda_1, \\lambda_2 $的绝对值都严格小于1时，较大根的绝对值决定了模型非随机版本向稳态收敛的速率。"
   ]
  },
  {
   "cell_type": "markdown",
   "id": "af8d315e",
   "metadata": {},
   "source": [
    "### 本讲内容\n",
    "\n",
    "我们编写一个函数来生成$ \\{Y_t\\} $序列的模拟，将其作为时间的函数。\n",
    "\n",
    "该函数需要我们输入$ Y_{-1}, Y_{-2} $的初始条件。\n",
    "\n",
    "该函数会检查$ \\alpha, \\beta $的设置是否使得$ \\lambda_1, \\lambda_2 $的绝对值（也称为”模”）小于1。\n",
    "\n",
    "该函数还会告诉我们根是否为复数，如果是复数，则会返回它们的实部和虚部。\n",
    "\n",
    "如果两个根都是实数，函数会返回它们的值。\n",
    "\n",
    "我们使用编写的函数来模拟随机路径（当$ \\sigma >0 $时）。\n",
    "\n",
    "我们编写函数的方式允许我们输入几种简单形式的$ \\{G_t\\} $路径，例如：\n",
    "\n",
    "- 在某个时间点$ G $的一次性跳跃  \n",
    "- 在某个时间点发生的$ G $的永久性跳跃  \n",
    "\n",
    "\n",
    "我们继续将萨缪尔森的乘数-加速器模型作为实验工具，用来构建一个简单的面向对象编程示例。\n",
    "\n",
    "决定下一期$ Y_{t+1} $的”状态”现在不仅仅是当前值$ Y_t $，还包括滞后一期的值$ Y_{t-1} $。\n",
    "\n",
    "因此这比在 Solow 模型的类定义中所需的记录工作要稍微多一些。\n",
    "\n",
    "我们以萨缪尔森的乘数-加速器模型为例，说明如何逐步为类添加功能。\n",
    "\n",
    "我们希望在类中有一个方法可以自动生成模拟，既可以是非随机的（$ \\sigma=0 $）也可以是随机的（$ \\sigma > 0 $）。\n",
    "\n",
    "我们还将展示如何将 Samuelson 模型映射到[这里](https://python.quantecon.org/linear_models.html)描述的`LinearStateSpace`类的一个简单实例中。\n",
    "\n",
    "我们可以使用`LinearStateSpace`实例来完成上面用我们自制函数和类所做的各种事情。\n",
    "\n",
    "除此之外，我们通过示例说明，我们用来形成 Samuelson 模型的`LinearStateSpace`类实例的矩阵 $ A $ 的特征值，等于 Samuelson 乘数加速器模型的特征多项式[(37.7)](#equation-polynomial)的根。\n",
    "\n",
    "以下是当政府支出为常数 $ G $ 时，线性状态空间系统中矩阵 $ A $ 的公式：\n",
    "\n",
    "$$\n",
    "A = \\begin{bmatrix} 1 & 0 & 0 \\cr\n",
    "                      \\gamma + G & \\rho_1 & \\rho_2 \\cr\n",
    "                      0 & 1 & 0 \\end{bmatrix}\n",
    "$$"
   ]
  },
  {
   "cell_type": "markdown",
   "id": "3d665bcb",
   "metadata": {},
   "source": [
    "## 实现\n",
    "\n",
    "我们从 [[Sargent, 1987](https://python.quantecon.org/zreferences.html#id218)] 第189页开始绘制一个信息丰富的图表"
   ]
  },
  {
   "cell_type": "code",
   "execution_count": null,
   "id": "5e7c8c27",
   "metadata": {
    "hide-output": false
   },
   "outputs": [],
   "source": [
    "def param_plot():\n",
    "\n",
    "    \"\"\"该函数创建了Sargent宏观经济理论第二版(1987年)第189页的图表。\n",
    "    \"\"\"\n",
    "\n",
    "    fig, ax = plt.subplots(figsize=(10, 6))\n",
    "    ax.set_aspect('equal')\n",
    "\n",
    "    # 设置坐标轴\n",
    "    xmin, ymin = -3, -2\n",
    "    xmax, ymax = -xmin, -ymin\n",
    "    plt.axis([xmin, xmax, ymin, ymax])\n",
    "\n",
    "    # 设置坐标轴标签\n",
    "    ax.set(xticks=[], yticks=[])\n",
    "    ax.set_xlabel(r'$\\rho_2$', fontsize=16)\n",
    "    ax.xaxis.set_label_position('top')\n",
    "    ax.set_ylabel(r'$\\rho_1$', rotation=0, fontsize=16)\n",
    "    ax.yaxis.set_label_position('right')\n",
    "\n",
    "    # 绘制(t1, t2)点\n",
    "    ρ1 = np.linspace(-2, 2, 100)\n",
    "    ax.plot(ρ1, -abs(ρ1) + 1, c='black')\n",
    "    ax.plot(ρ1, np.full_like(ρ1, -1), c='black')\n",
    "    ax.plot(ρ1, -(ρ1**2 / 4), c='black')\n",
    "\n",
    "    # 关闭普通坐标轴\n",
    "    for spine in ['left', 'bottom', 'top', 'right']:\n",
    "        ax.spines[spine].set_visible(False)\n",
    "\n",
    "    # 添加表示坐标轴的箭头\n",
    "    axes_arrows = {'arrowstyle': '<|-|>', 'lw': 1.3}\n",
    "    ax.annotate('', xy=(xmin, 0), xytext=(xmax, 0), arrowprops=axes_arrows)\n",
    "    ax.annotate('', xy=(0, ymin), xytext=(0, ymax), arrowprops=axes_arrows)\n",
    "\n",
    "    # 在图上标注方程\n",
    "    plot_arrowsl = {'arrowstyle': '-|>', 'connectionstyle': \"arc3, rad=-0.2\"}\n",
    "    plot_arrowsr = {'arrowstyle': '-|>', 'connectionstyle': \"arc3, rad=0.2\"}\n",
    "    ax.annotate(r'$\\rho_1 + \\rho_2 < 1$', xy=(0.5, 0.3), xytext=(0.8, 0.6),\n",
    "                arrowprops=plot_arrowsr, fontsize='12')\n",
    "    ax.annotate(r'$\\rho_1 + \\rho_2 = 1$', xy=(0.38, 0.6), xytext=(0.6, 0.8),\n",
    "                arrowprops=plot_arrowsr, fontsize='12')\n",
    "    ax.annotate(r'$\\rho_2 < 1 + \\rho_1$', xy=(-0.5, 0.3), xytext=(-1.3, 0.6),\n",
    "                arrowprops=plot_arrowsl, fontsize='12')\n",
    "    ax.annotate(r'$\\rho_2 = 1 + \\rho_1$', xy=(-0.38, 0.6), xytext=(-1, 0.8),\n",
    "                arrowprops=plot_arrowsl, fontsize='12')\n",
    "    ax.annotate(r'$\\rho_2 = -1$', xy=(1.5, -1), xytext=(1.8, -1.3),\n",
    "                arrowprops=plot_arrowsl, fontsize='12')\n",
    "    ax.annotate(r'${\\rho_1}^2 + 4\\rho_2 = 0$', xy=(1.15, -0.35),\n",
    "                xytext=(1.5, -0.3), arrowprops=plot_arrowsr, fontsize='12')\n",
    "    ax.annotate(r'${\\rho_1}^2 + 4\\rho_2 < 0$', xy=(1.4, -0.7),\n",
    "                xytext=(1.8, -0.6), arrowprops=plot_arrowsr, fontsize='12')\n",
    "\n",
    "    # 标注解的类别\n",
    "    ax.text(1.5, 1, '爆炸性\\n增长', ha='center', fontsize=16)\n",
    "    ax.text(-1.5, 1, '爆炸性\\n振荡', ha='center', fontsize=16)\n",
    "    ax.text(0.05, -1.5, '爆炸性振荡', ha='center', fontsize=16)\n",
    "    ax.text(0.09, -0.5, '阻尼振荡', ha='center', fontsize=16)\n",
    "\n",
    "    # 在y轴上添加小标记\n",
    "    ax.axhline(y=1.005, xmin=0.495, xmax=0.505, c='black')\n",
    "    ax.text(-0.12, -1.12, '-1', fontsize=10)\n",
    "    ax.text(-0.12, 0.98, '1', fontsize=10)\n",
    "\n",
    "    return fig\n",
    "\n",
    "param_plot()\n",
    "plt.show()"
   ]
  },
  {
   "cell_type": "markdown",
   "id": "71ead35e",
   "metadata": {},
   "source": [
    "该图显示了在萨缪尔森模型中由差分方程参数对$ (\\rho_1 = (\\alpha + \\beta), \\rho_2 = - \\beta) $所隐含的$ (\\lambda_1, \\lambda_2) $根对所在的区域，这些区域表示：\n",
    "\n",
    "- $ (\\lambda_1, \\lambda_2) $是复数且模小于$ 1 $ - 在这种情况下，$ \\{Y_t\\} $序列呈现衰减振荡。  \n",
    "- $ (\\lambda_1, \\lambda_2) $都是实数，但其中一个严格大于$ 1 $ - 这导致爆炸性增长。  \n",
    "- $ (\\lambda_1, \\lambda_2) $都是实数，但其中一个严格小于$ -1 $ - 这导致爆炸性振荡。  \n",
    "- $ (\\lambda_1, \\lambda_2) $都是实数且绝对值都小于$ 1 $ - 在这种情况下，会平滑地收敛到稳态，没有衰减循环。  \n",
    "\n",
    "\n",
    "稍后我们将在图上用红色标记显示由$ (\\alpha, \\beta) $设置所隐含的特定点。"
   ]
  },
  {
   "cell_type": "markdown",
   "id": "a624a495",
   "metadata": {},
   "source": [
    "### 描述特征多项式含义的函数"
   ]
  },
  {
   "cell_type": "code",
   "execution_count": null,
   "id": "cb100aeb",
   "metadata": {
    "hide-output": false
   },
   "outputs": [],
   "source": [
    "def categorize_solution(ρ1, ρ2):\n",
    "\n",
    "    \"\"\"该函数接收ρ1和ρ2的值，并用它们\n",
    "    来分类解的类型\n",
    "    \"\"\"\n",
    "\n",
    "    discriminant = ρ1 ** 2 + 4 * ρ2\n",
    "    if ρ2 > 1 + ρ1 or ρ2 < -1:\n",
    "        print('爆炸性振荡')\n",
    "    elif ρ1 + ρ2 > 1:\n",
    "        print('爆炸性增长')\n",
    "    elif discriminant < 0:\n",
    "        print('根是复数且模小于1；\\\n",
    "因此是衰减振荡')\n",
    "    else:\n",
    "        print('根是实数且绝对值小于1；\\\n",
    "因此平滑收敛到稳态')"
   ]
  },
  {
   "cell_type": "code",
   "execution_count": null,
   "id": "f52afd52",
   "metadata": {
    "hide-output": false
   },
   "outputs": [],
   "source": [
    "### 测试categorize_solution函数\n",
    "\n",
    "categorize_solution(1.3, -.4)"
   ]
  },
  {
   "cell_type": "markdown",
   "id": "3ed2879e",
   "metadata": {},
   "source": [
    "### 绘制路径的函数\n",
    "\n",
    "我们再定义一个对接下来的工作很有用的函数"
   ]
  },
  {
   "cell_type": "code",
   "execution_count": null,
   "id": "cbaf7522",
   "metadata": {
    "hide-output": false
   },
   "outputs": [],
   "source": [
    "def plot_y(function=None):\n",
    "\n",
    "    \"\"\"该函数用于绘制 Y_t 的路径\"\"\"\n",
    "\n",
    "    plt.subplots(figsize=(10, 6))\n",
    "    plt.plot(function)\n",
    "    plt.xlabel('时间 $t$')\n",
    "    plt.ylabel('$Y_t$', rotation=0)\n",
    "    plt.grid()\n",
    "    plt.show()"
   ]
  },
  {
   "cell_type": "markdown",
   "id": "02e7cc9c",
   "metadata": {},
   "source": [
    "### 手动或”人工”求根计算\n",
    "\n",
    "以下函数使用高中代数方法计算特征多项式的根。\n",
    "\n",
    "（我们稍后会用其他方法计算根）\n",
    "\n",
    "该函数还根据我们设置的初始条件绘制 $ Y_t $ 的图像"
   ]
  },
  {
   "cell_type": "code",
   "execution_count": null,
   "id": "6f8f63d2",
   "metadata": {
    "hide-output": false
   },
   "outputs": [],
   "source": [
    "# 这是一个'手动'方法\n",
    "\n",
    "def y_nonstochastic(y_0=100, y_1=80, α=.92, β=.5, γ=10, n=80):\n",
    "\n",
    "    \"\"\"接收参数值并计算特征多项式的根。它会说明这些根是实根还是复根，\n",
    "    以及它们的绝对值是否小于1。它还会根据给定的两个国民收入初始条件\n",
    "    计算长度为n的模拟序列\n",
    "    \"\"\"\n",
    "\n",
    "    roots = []\n",
    "\n",
    "    ρ1 = α + β\n",
    "    ρ2 = -β\n",
    "\n",
    "    print(f'ρ_1 是 {ρ1}')\n",
    "    print(f'ρ_2 是 {ρ2}')\n",
    "\n",
    "    discriminant = ρ1 ** 2 + 4 * ρ2\n",
    "\n",
    "    if discriminant == 0:\n",
    "        roots.append(-ρ1 / 2)\n",
    "        print('单个实根：')\n",
    "        print(''.join(str(roots)))\n",
    "    elif discriminant > 0:\n",
    "        roots.append((-ρ1 + sqrt(discriminant).real) / 2)\n",
    "        roots.append((-ρ1 - sqrt(discriminant).real) / 2)\n",
    "        print('两个实根：')\n",
    "        print(''.join(str(roots)))\n",
    "    else:\n",
    "        roots.append((-ρ1 + sqrt(discriminant)) / 2)\n",
    "        roots.append((-ρ1 - sqrt(discriminant)) / 2)\n",
    "        print('两个复根：')\n",
    "        print(''.join(str(roots)))\n",
    "\n",
    "    if all(abs(root) < 1 for root in roots):\n",
    "        print('根的绝对值都小于1')\n",
    "    else:\n",
    "        print('根的绝对值不都小于1')\n",
    "\n",
    "    def transition(x, t): return ρ1 * x[t - 1] + ρ2 * x[t - 2] + γ\n",
    "\n",
    "    y_t = [y_0, y_1]\n",
    "\n",
    "    for t in range(2, n):\n",
    "        y_t.append(transition(y_t, t))\n",
    "\n",
    "    return y_t\n",
    "\n",
    "plot_y(y_nonstochastic())"
   ]
  },
  {
   "cell_type": "markdown",
   "id": "18eb9be0",
   "metadata": {},
   "source": [
    "### 反向推导参数以生成阻尼周期\n",
    "\n",
    "下一个单元格编写的代码以极坐标形式的一对共轭复数的模 $ r $ 和相位 $ \\phi $ 作为输入\n",
    "\n",
    "$$\n",
    "\\lambda_1 = r \\exp(i \\phi), \\quad \\lambda_2 = r \\exp(- i \\phi)\n",
    "$$\n",
    "\n",
    "- 代码假设这两个复数是特征多项式的根  \n",
    "- 然后反向推导出能生成这些根的 $ (\\alpha, \\beta) $ 和 $ (\\rho_1, \\rho_2) $ 对  "
   ]
  },
  {
   "cell_type": "code",
   "execution_count": null,
   "id": "1f24324e",
   "metadata": {
    "hide-output": false
   },
   "outputs": [],
   "source": [
    "### 反向推导周期的代码\n",
    "### y_t = r^t (c_1 cos(ϕ t) + c2 sin(ϕ t))\n",
    "###\n",
    "\n",
    "def f(r, ϕ):\n",
    "    \"\"\"\n",
    "    接收复数 r exp(j ϕ) 的模 r 和角度 ϕ，\n",
    "    并创建特征多项式的 ρ1 和 ρ2，其中\n",
    "    r exp(j ϕ) 和 r exp(- j ϕ) 是复根。\n",
    "\n",
    "    返回验证这些根的乘数系数 α 和加速器系数 β。\n",
    "    \"\"\"\n",
    "    g1 = cmath.rect(r, ϕ)  # 生成两个复根\n",
    "    g2 = cmath.rect(r, -ϕ)\n",
    "    ρ1 = g1 + g2           # 隐含的 ρ1, ρ2\n",
    "    ρ2 = -g1 * g2\n",
    "    β = -ρ2                # 反向推导验证这些的 α 和 β\n",
    "    α = ρ1 - β\n",
    "    return ρ1, ρ2, α, β\n",
    "\n",
    "## 现在让我们在示例中使用这个函数\n",
    "## 这里是示例参数\n",
    "\n",
    "r = .95\n",
    "period = 10                # 时间单位中的周期长度\n",
    "ϕ = 2 * math.pi/period\n",
    "\n",
    "## 应用函数\n",
    "\n",
    "ρ1, ρ2, α, β = f(r, ϕ)\n",
    "\n",
    "print(f\"α, β = {α}, {β}\")\n",
    "print(f\"ρ1, ρ2 = {ρ1}, {ρ2}\")"
   ]
  },
  {
   "cell_type": "code",
   "execution_count": null,
   "id": "ac3abbbb",
   "metadata": {
    "hide-output": false
   },
   "outputs": [],
   "source": [
    "## 打印 ρ1 和 ρ2 的实部\n",
    "\n",
    "ρ1 = ρ1.real\n",
    "ρ2 = ρ2.real\n",
    "\n",
    "ρ1, ρ2"
   ]
  },
  {
   "cell_type": "markdown",
   "id": "e34cca75",
   "metadata": {},
   "source": [
    "### 使用Numpy求根\n",
    "\n",
    "我们将使用`numpy`来计算特征多项式的根"
   ]
  },
  {
   "cell_type": "code",
   "execution_count": null,
   "id": "772ae52b",
   "metadata": {
    "hide-output": false
   },
   "outputs": [],
   "source": [
    "r1, r2 = np.roots([1, -ρ1, -ρ2])\n",
    "\n",
    "p1 = cmath.polar(r1)\n",
    "p2 = cmath.polar(r2)\n",
    "\n",
    "print(f\"r, ϕ = {r}, {ϕ}\")\n",
    "print(f\"p1, p2 = {p1}, {p2}\")\n",
    "# print(f\"g1, g2 = {g1}, {g2}\")\n",
    "\n",
    "print(f\"α, β = {α}, {β}\")\n",
    "print(f\"ρ1, ρ2 = {ρ1}, {ρ2}\")"
   ]
  },
  {
   "cell_type": "code",
   "execution_count": null,
   "id": "8b6130ac",
   "metadata": {
    "hide-output": false
   },
   "outputs": [],
   "source": [
    "##=== 此方法使用numpy计算根 ===#\n",
    "\n",
    "\n",
    "def y_nonstochastic(y_0=100, y_1=80, α=.9, β=.8, γ=10, n=80):\n",
    "\n",
    "    \"\"\" 这个函数使用numpy来帮我们计算特征多项式的根，\n",
    "    而不是像之前那样手动计算\n",
    "    \"\"\"\n",
    "\n",
    "    # 有用的常数\n",
    "    ρ1 = α + β\n",
    "    ρ2 = -β\n",
    "\n",
    "    categorize_solution(ρ1, ρ2)\n",
    "\n",
    "    # 求多项式的根\n",
    "    roots = np.roots([1, -ρ1, -ρ2])\n",
    "    print(f'根为 {roots}')\n",
    "\n",
    "    # 检查是实根还是复根\n",
    "    if all(isinstance(root, complex) for root in roots):\n",
    "        print('根为复数')\n",
    "    else:\n",
    "        print('根为实数')\n",
    "\n",
    "    # 检查根的绝对值是否小于1\n",
    "    if all(abs(root) < 1 for root in roots):\n",
    "        print('根的绝对值小于1')\n",
    "    else:\n",
    "        print('根的绝对值不小于1')\n",
    "\n",
    "    # 定义转移方程\n",
    "    def transition(x, t): return ρ1 * x[t - 1] + ρ2 * x[t - 2] + γ\n",
    "\n",
    "    # 设置初始条件\n",
    "    y_t = [y_0, y_1]\n",
    "\n",
    "    # 生成y_t序列\n",
    "    for t in range(2, n):\n",
    "        y_t.append(transition(y_t, t))\n",
    "\n",
    "    return y_t\n",
    "\n",
    "plot_y(y_nonstochastic())"
   ]
  },
  {
   "cell_type": "markdown",
   "id": "e1d31588",
   "metadata": {},
   "source": [
    "### 反向推导复数根：示例\n",
    "\n",
    "下一个单元研究反向推导复数根的含义。\n",
    "\n",
    "我们将生成一个周期为10的**无阻尼**循环"
   ]
  },
  {
   "cell_type": "code",
   "execution_count": null,
   "id": "472e808a",
   "metadata": {
    "hide-output": false
   },
   "outputs": [],
   "source": [
    "r = 1   # 生成无阻尼、非爆炸性循环\n",
    "\n",
    "period = 10   # 时间单位中的循环长度\n",
    "ϕ = 2 * math.pi/period\n",
    "\n",
    "## 应用反向推导函数f\n",
    "\n",
    "ρ1, ρ2, α, β = f(r, ϕ)\n",
    "\n",
    "# 去掉虚部，使其成为y_nonstochastic的有效输入\n",
    "α = α.real\n",
    "β = β.real\n",
    "\n",
    "print(f\"α, β = {α}, {β}\")\n",
    "\n",
    "ytemp = y_nonstochastic(α=α, β=β, y_0=20, y_1=30)\n",
    "plot_y(ytemp)"
   ]
  },
  {
   "cell_type": "markdown",
   "id": "c446386c",
   "metadata": {},
   "source": [
    "### 题外话：使用 Sympy 求根\n",
    "\n",
    "我们也可以使用 sympy 来计算根的解析公式"
   ]
  },
  {
   "cell_type": "code",
   "execution_count": null,
   "id": "7d7a3692",
   "metadata": {
    "hide-output": false
   },
   "outputs": [],
   "source": [
    "init_printing()\n",
    "\n",
    "r1 = Symbol(\"ρ_1\")\n",
    "r2 = Symbol(\"ρ_2\")\n",
    "z = Symbol(\"z\")\n",
    "\n",
    "sympy.solve(z**2 - r1*z - r2, z)"
   ]
  },
  {
   "cell_type": "code",
   "execution_count": null,
   "id": "7357ed9d",
   "metadata": {
    "hide-output": false
   },
   "outputs": [],
   "source": [
    "α = Symbol(\"α\")\n",
    "β = Symbol(\"β\")\n",
    "r1 = α + β\n",
    "r2 = -β\n",
    "\n",
    "sympy.solve(z**2 - r1*z - r2, z)"
   ]
  },
  {
   "cell_type": "markdown",
   "id": "e043070f",
   "metadata": {},
   "source": [
    "## 随机冲击\n",
    "\n",
    "现在我们将构建一些代码来模拟模型的随机版本，这个版本是通过在总需求中添加随机冲击过程而产生的"
   ]
  },
  {
   "cell_type": "code",
   "execution_count": null,
   "id": "ddad6fe9",
   "metadata": {
    "hide-output": false
   },
   "outputs": [],
   "source": [
    "def y_stochastic(y_0=0, y_1=0, α=0.8, β=0.2, γ=10, n=100, σ=5):\n",
    "\n",
    "    \"\"\"该函数接收模型随机版本的参数，\n",
    "    并分析特征多项式的根，\n",
    "    同时生成一个模拟。\n",
    "    \"\"\"\n",
    "\n",
    "    # 有用的常数\n",
    "    ρ1 = α + β\n",
    "    ρ2 = -β\n",
    "\n",
    "    # 对解进行分类\n",
    "    categorize_solution(ρ1, ρ2)\n",
    "\n",
    "    # 求多项式的根\n",
    "    roots = np.roots([1, -ρ1, -ρ2])\n",
    "    print(roots)\n",
    "\n",
    "    # 检查是实根还是复根\n",
    "    if all(isinstance(root, complex) for root in roots):\n",
    "        print('根是复数')\n",
    "    else:\n",
    "        print('根是实数')\n",
    "\n",
    "    # 检查根的绝对值是否小于1\n",
    "    if all(abs(root) < 1 for root in roots):\n",
    "        print('根的绝对值小于1')\n",
    "    else:\n",
    "        print('根的绝对值不小于1')\n",
    "\n",
    "    # 生成冲击\n",
    "    ϵ = np.random.normal(0, 1, n)\n",
    "\n",
    "    # 定义转移方程\n",
    "    def transition(x, t): return ρ1 * \\\n",
    "        x[t - 1] + ρ2 * x[t - 2] + γ + σ * ϵ[t]\n",
    "\n",
    "    # 设置初始条件\n",
    "    y_t = [y_0, y_1]\n",
    "\n",
    "    # 生成y_t序列\n",
    "    for t in range(2, n):\n",
    "        y_t.append(transition(y_t, t))\n",
    "\n",
    "    return y_t\n",
    "\n",
    "plot_y(y_stochastic())"
   ]
  },
  {
   "cell_type": "markdown",
   "id": "de9f40f0",
   "metadata": {},
   "source": [
    "让我们进行一个模拟，其中存在冲击且特征多项式具有复根"
   ]
  },
  {
   "cell_type": "code",
   "execution_count": null,
   "id": "cd25e001",
   "metadata": {
    "hide-output": false
   },
   "outputs": [],
   "source": [
    "r = .97\n",
    "\n",
    "period = 10   # 时间单位中的周期长度\n",
    "ϕ = 2 * math.pi/period\n",
    "\n",
    "### 应用反向推导函数f\n",
    "\n",
    "ρ1, ρ2, α, β = f(r, ϕ)\n",
    "\n",
    "# 去掉虚部，使其成为y_nonstochastic的有效输入\n",
    "α = α.real\n",
    "β = β.real\n",
    "\n",
    "print(f\"α, β = {α}, {β}\")\n",
    "plot_y(y_stochastic(y_0=40, y_1 = 42, α=α, β=β, σ=2, n=100))"
   ]
  },
  {
   "cell_type": "markdown",
   "id": "25ac4032",
   "metadata": {},
   "source": [
    "## 政府支出\n",
    "\n",
    "此函数计算对政府支出的永久性或一次性增加的响应"
   ]
  },
  {
   "cell_type": "code",
   "execution_count": null,
   "id": "6cbcbeaf",
   "metadata": {
    "hide-output": false
   },
   "outputs": [],
   "source": [
    "def y_stochastic_g(y_0=20,\n",
    "                   y_1=20,\n",
    "                   α=0.8,\n",
    "                   β=0.2,\n",
    "                   γ=10,\n",
    "                   n=100,\n",
    "                   σ=2,\n",
    "                   g=0,\n",
    "                   g_t=0,\n",
    "                   duration='permanent'):\n",
    "\n",
    "    \"\"\"此程序计算在时间20发生的政府支出\n",
    "    永久性增加的响应\n",
    "    \"\"\"\n",
    "\n",
    "    # 有用的常数\n",
    "    ρ1 = α + β\n",
    "    ρ2 = -β\n",
    "\n",
    "    # 对解进行分类\n",
    "    categorize_solution(ρ1, ρ2)\n",
    "\n",
    "    # 找出多项式的根\n",
    "    roots = np.roots([1, -ρ1, -ρ2])\n",
    "    print(roots)\n",
    "\n",
    "    # 检查是实数还是复数\n",
    "    if all(isinstance(root, complex) for root in roots):\n",
    "        print('根为复数')\n",
    "    else:\n",
    "        print('根为实数')\n",
    "\n",
    "    # 检查根是否小于1\n",
    "    if all(abs(root) < 1 for root in roots):\n",
    "        print('根小于1')\n",
    "    else:\n",
    "        print('根不小于1')\n",
    "\n",
    "    # 生成冲击\n",
    "    ϵ = np.random.normal(0, 1, n)\n",
    "\n",
    "    def transition(x, t, g):\n",
    "\n",
    "        # 非随机 - 分开以避免在不需要时\n",
    "        # 生成随机序列\n",
    "        if σ == 0:\n",
    "            return ρ1 * x[t - 1] + ρ2 * x[t - 2] + γ + g\n",
    "\n",
    "        # 随机\n",
    "        else:\n",
    "            ϵ = np.random.normal(0, 1, n)\n",
    "            return ρ1 * x[t - 1] + ρ2 * x[t - 2] + γ + g + σ * ϵ[t]\n",
    "\n",
    "    # 创建列表并设置初始条件\n",
    "    y_t = [y_0, y_1]\n",
    "\n",
    "    # 生成y_t序列\n",
    "    for t in range(2, n):\n",
    "\n",
    "        # 无政府支出\n",
    "        if g == 0:\n",
    "            y_t.append(transition(y_t, t))\n",
    "\n",
    "        # 政府支出（无冲击）\n",
    "        elif g != 0 and duration == None:\n",
    "            y_t.append(transition(y_t, t))\n",
    "\n",
    "        # 永久性政府支出冲击\n",
    "        elif duration == 'permanent':\n",
    "            if t < g_t:\n",
    "                y_t.append(transition(y_t, t, g=0))\n",
    "            else:\n",
    "                y_t.append(transition(y_t, t, g=g))\n",
    "\n",
    "        # 一次性政府支出冲击\n",
    "        elif duration == 'one-off':\n",
    "            if t == g_t:\n",
    "                y_t.append(transition(y_t, t, g=g))\n",
    "            else:\n",
    "                y_t.append(transition(y_t, t, g=0))\n",
    "    return y_t"
   ]
  },
  {
   "cell_type": "markdown",
   "id": "a40e1730",
   "metadata": {},
   "source": [
    "可以按以下方式模拟永久性政府支出冲击"
   ]
  },
  {
   "cell_type": "code",
   "execution_count": null,
   "id": "614285c1",
   "metadata": {
    "hide-output": false
   },
   "outputs": [],
   "source": [
    "plot_y(y_stochastic_g(g=10, g_t=20, duration='permanent'))"
   ]
  },
  {
   "cell_type": "markdown",
   "id": "0ee6ec95",
   "metadata": {},
   "source": [
    "我们还可以观察一次性政府支出增加所带来的响应"
   ]
  },
  {
   "cell_type": "code",
   "execution_count": null,
   "id": "69a7d136",
   "metadata": {
    "hide-output": false
   },
   "outputs": [],
   "source": [
    "plot_y(y_stochastic_g(g=500, g_t=50, duration='one-off'))"
   ]
  },
  {
   "cell_type": "markdown",
   "id": "6a5a54aa",
   "metadata": {},
   "source": [
    "## 将所有内容封装到类中\n",
    "\n",
    "到目前为止，我们已经编写了函数来完成工作。\n",
    "\n",
    "现在让我们撸起袖子，为萨缪尔森模型编写一个名为`Samuelson`的Python类"
   ]
  },
  {
   "cell_type": "code",
   "execution_count": null,
   "id": "157684ef",
   "metadata": {
    "hide-output": false
   },
   "outputs": [],
   "source": [
    "class Samuelson():\n",
    "\n",
    "    \"\"\"这个类代表萨缪尔森模型，也称为多重加速器模型。该模型将凯恩斯乘数与\n",
    "    投资加速器理论相结合。\n",
    "\n",
    "    产出路径由线性二阶差分方程控制\n",
    "\n",
    "    .. math::\n",
    "\n",
    "        Y_t = + (α + β) Y_{t-1} - β Y_{t-2}\n",
    "\n",
    "    参数\n",
    "    ----------\n",
    "    y_0 : 标量\n",
    "        Y_0的初始条件\n",
    "    y_1 : 标量\n",
    "        Y_1的初始条件\n",
    "    α : 标量\n",
    "        边际消费倾向\n",
    "    β : 标量\n",
    "        加速器系数\n",
    "    n : 整数\n",
    "        迭代次数\n",
    "    σ : 标量\n",
    "        波动性参数。必须大于或等于0。设为0表示非随机模型。\n",
    "    g : 标量\n",
    "        政府支出冲击\n",
    "    g_t : 整数\n",
    "        政府支出冲击发生的时间。当duration != None时必须指定。\n",
    "    duration : {None, 'permanent', 'one-off'}\n",
    "        指定政府支出冲击的类型。如果为none，则所有t的政府支出等于g。\n",
    "\n",
    "    \"\"\"\n",
    "\n",
    "    def __init__(self,\n",
    "                 y_0=100,\n",
    "                 y_1=50,\n",
    "                 α=1.3,\n",
    "                 β=0.2,\n",
    "                 γ=10,\n",
    "                 n=100,\n",
    "                 σ=0,\n",
    "                 g=0,\n",
    "                 g_t=0,\n",
    "                 duration=None):\n",
    "\n",
    "        self.y_0, self.y_1, self.α, self.β = y_0, y_1, α, β\n",
    "        self.n, self.g, self.g_t, self.duration = n, g, g_t, duration\n",
    "        self.γ, self.σ = γ, σ\n",
    "        self.ρ1 = α + β\n",
    "        self.ρ2 = -β\n",
    "        self.roots = np.roots([1, -self.ρ1, -self.ρ2])\n",
    "\n",
    "    def root_type(self):\n",
    "        if all(isinstance(root, complex) for root in self.roots):\n",
    "            return '复共轭'\n",
    "        elif len(self.roots) > 1:\n",
    "            return '双实根'\n",
    "        else:\n",
    "            return '单实根'\n",
    "\n",
    "    def root_less_than_one(self):\n",
    "        if all(abs(root) < 1 for root in self.roots):\n",
    "            return True\n",
    "\n",
    "    def solution_type(self):\n",
    "        ρ1, ρ2 = self.ρ1, self.ρ2\n",
    "        discriminant = ρ1 ** 2 + 4 * ρ2\n",
    "        if ρ2 >= 1 + ρ1 or ρ2 <= -1:\n",
    "            return '爆炸性振荡'\n",
    "        elif ρ1 + ρ2 >= 1:\n",
    "            return '爆炸性增长'\n",
    "        elif discriminant < 0:\n",
    "            return '阻尼振荡'\n",
    "        else:\n",
    "            return '稳态'\n",
    "\n",
    "    def _transition(self, x, t, g):\n",
    "\n",
    "        # 非随机 - 分开以避免在不需要时生成随机序列\n",
    "        if self.σ == 0:\n",
    "            return self.ρ1 * x[t - 1] + self.ρ2 * x[t - 2] + self.γ + g\n",
    "\n",
    "        # 随机\n",
    "        else:\n",
    "            ϵ = np.random.normal(0, 1, self.n)\n",
    "            return self.ρ1 * x[t - 1] + self.ρ2 * x[t - 2] + self.γ + g \\\n",
    "                + self.σ * ϵ[t]\n",
    "\n",
    "    def generate_series(self):\n",
    "\n",
    "        # 创建列表并设置初始条件\n",
    "        y_t = [self.y_0, self.y_1]\n",
    "\n",
    "        # 生成y_t序列\n",
    "        for t in range(2, self.n):\n",
    "\n",
    "            # 无政府支出\n",
    "            if self.g == 0:\n",
    "                y_t.append(self._transition(y_t, t))\n",
    "\n",
    "            # 政府支出(无冲击)\n",
    "            elif self.g != 0 and self.duration == None:\n",
    "                y_t.append(self._transition(y_t, t))\n",
    "\n",
    "            # 永久性政府支出冲击\n",
    "            elif self.duration == 'permanent':\n",
    "                if t < self.g_t:\n",
    "                    y_t.append(self._transition(y_t, t, g=0))\n",
    "                else:\n",
    "                    y_t.append(self._transition(y_t, t, g=self.g))\n",
    "\n",
    "            # 一次性政府支出冲击\n",
    "            elif self.duration == 'one-off':\n",
    "                if t == self.g_t:\n",
    "                    y_t.append(self._transition(y_t, t, g=self.g))\n",
    "                else:\n",
    "                    y_t.append(self._transition(y_t, t, g=0))\n",
    "        return y_t\n",
    "\n",
    "    def summary(self):\n",
    "        print('摘要\\n' + '-' * 50)\n",
    "        print(f'根的类型: {self.root_type()}')\n",
    "        print(f'解的类型: {self.solution_type()}')\n",
    "        print(f'根: {str(self.roots)}')\n",
    "\n",
    "        if self.root_less_than_one() == True:\n",
    "            print('根的绝对值小于1')\n",
    "        else:\n",
    "            print('根的绝对值不小于1')\n",
    "\n",
    "        if self.σ > 0:\n",
    "            print('随机序列，σ = ' + str(self.σ))\n",
    "        else:\n",
    "            print('非随机序列')\n",
    "\n",
    "        if self.g != 0:\n",
    "            print('政府支出等于 ' + str(self.g))\n",
    "\n",
    "        if self.duration != None:\n",
    "            print(self.duration.capitalize() +\n",
    "                  ' 政府支出冲击发生在 t = ' + str(self.g_t))\n",
    "\n",
    "    def plot(self):\n",
    "        fig, ax = plt.subplots(figsize=(10, 6))\n",
    "        ax.plot(self.generate_series())\n",
    "        ax.set(xlabel='迭代次数', xlim=(0, self.n))\n",
    "        ax.set_ylabel('$Y_t$', rotation=0)\n",
    "        ax.grid()\n",
    "\n",
    "        # 在图中添加参数值\n",
    "        paramstr = f'''\n",
    "        $\\\\alpha={self.α:.2f}$\n",
    "        $\\\\beta={self.β:.2f}$ \n",
    "        $\\\\gamma={self.γ:.2f}$\n",
    "        $\\\\sigma={self.σ:.2f}$\n",
    "        $\\\\rho_1={self.ρ1:.2f}$\n",
    "        $\\\\rho_2={self.ρ2:.2f}$'''\n",
    "        props = dict(fc='white', pad=10, alpha=0.5)\n",
    "        ax.text(0.87, 0.05, paramstr, transform=ax.transAxes,\n",
    "                fontsize=12, bbox=props, va='bottom')\n",
    "\n",
    "        return fig\n",
    "\n",
    "    def param_plot(self):\n",
    "\n",
    "        # 使用之前定义的param_plot()函数(这样它既可以单独使用，\n",
    "        # 也可以作为模型的一部分使用)\n",
    "\n",
    "        fig = param_plot()\n",
    "        ax = fig.gca()\n",
    "\n",
    "        # 在图例中添加λ值\n",
    "        for i, root in enumerate(self.roots):\n",
    "            if isinstance(root, complex):\n",
    "                # 需要为正数填充运算符，因为字符串被分开\n",
    "                operator = ['+', '']\n",
    "                label = rf'$\\lambda_{i+1} = {sam.roots[i].real:.2f} {operator[i]} {sam.roots[i].imag:.2f}i$'\n",
    "            else:\n",
    "                label = rf'$\\lambda_{i+1} = {sam.roots[i].real:.2f}$'\n",
    "            ax.scatter(0, 0, 0, label=label) # 虚拟点以添加到图例\n",
    "\n",
    "        # 在图中添加ρ对\n",
    "        ax.scatter(self.ρ1, self.ρ2, 100, 'red', '+',\n",
    "            label=r'$(\\ \\rho_1, \\ \\rho_2 \\ )$', zorder=5)\n",
    "\n",
    "        plt.legend(fontsize=12, loc=3)\n",
    "\n",
    "        return fig"
   ]
  },
  {
   "cell_type": "markdown",
   "id": "8325888b",
   "metadata": {},
   "source": [
    "### Samuelson类的说明\n",
    "\n",
    "现在我们用一个例子来展示Samuelson类的应用"
   ]
  },
  {
   "cell_type": "code",
   "execution_count": null,
   "id": "4464528c",
   "metadata": {
    "hide-output": false
   },
   "outputs": [],
   "source": [
    "sam = Samuelson(α=0.8, β=0.5, σ=2, g=10, g_t=20, duration='permanent')\n",
    "sam.summary()"
   ]
  },
  {
   "cell_type": "code",
   "execution_count": null,
   "id": "8bd2722b",
   "metadata": {
    "hide-output": false
   },
   "outputs": [],
   "source": [
    "sam.plot()\n",
    "plt.show()"
   ]
  },
  {
   "cell_type": "markdown",
   "id": "1fd49b20",
   "metadata": {},
   "source": [
    "### 使用图形\n",
    "\n",
    "我们将使用我们的图形来显示根的位置，并说明它们的位置如何与刚才绘制的路径行为相一致。\n",
    "\n",
    "红色的 $ + $ 符号显示了根的位置"
   ]
  },
  {
   "cell_type": "code",
   "execution_count": null,
   "id": "3eee5b70",
   "metadata": {
    "hide-output": false
   },
   "outputs": [],
   "source": [
    "sam.param_plot()\n",
    "plt.show()"
   ]
  },
  {
   "cell_type": "markdown",
   "id": "ed20773b",
   "metadata": {},
   "source": [
    "## 使用LinearStateSpace类\n",
    "\n",
    "我们可以使用[QuantEcon.py](http://quantecon.org/quantecon-py)中的[LinearStateSpace](https://github.com/QuantEcon/QuantEcon.py/blob/master/quantecon/lss.py)类来完成我们之前从头开始做的大部分工作。\n",
    "\n",
    "以下是我们如何将萨缪尔森模型映射到`LinearStateSpace`类的实例中"
   ]
  },
  {
   "cell_type": "code",
   "execution_count": null,
   "id": "6eb97c90",
   "metadata": {
    "hide-output": false
   },
   "outputs": [],
   "source": [
    "\"\"\"此脚本将萨缪尔森模型映射到\n",
    "``LinearStateSpace``类中\n",
    "\"\"\"\n",
    "α = 0.8\n",
    "β = 0.9\n",
    "ρ1 = α + β\n",
    "ρ2 = -β\n",
    "γ = 10\n",
    "σ = 1\n",
    "g = 10\n",
    "n = 100\n",
    "\n",
    "A = [[1,        0,      0],\n",
    "     [γ + g,   ρ1,     ρ2],\n",
    "     [0,        1,      0]]\n",
    "\n",
    "G = [[γ + g, ρ1,   ρ2],         # 这是Y_{t+1}\n",
    "     [γ,      α,    0],         # 这是C_{t+1}\n",
    "     [0,      β,   -β]]         # 这是I_{t+1}\n",
    "\n",
    "μ_0 = [1, 100, 50]\n",
    "C = np.zeros((3,1))\n",
    "C[1] = σ # 随机项\n",
    "\n",
    "sam_t = LinearStateSpace(A, C, G, mu_0=μ_0)\n",
    "\n",
    "x, y = sam_t.simulate(ts_length=n)\n",
    "\n",
    "fig, axes = plt.subplots(3, 1, sharex=True, figsize=(12, 8))\n",
    "titles = ['产出 ($Y_t$)', '消费 ($C_t$)', '投资 ($I_t$)']\n",
    "colors = ['darkblue', 'red', 'purple']\n",
    "for ax, series, title, color in zip(axes, y, titles, colors):\n",
    "    ax.plot(series, color=color)\n",
    "    ax.set(title=title, xlim=(0, n))\n",
    "    ax.grid()\n",
    "\n",
    "axes[-1].set_xlabel('迭代次数')\n",
    "\n",
    "plt.show()"
   ]
  },
  {
   "cell_type": "markdown",
   "id": "f2acdc47",
   "metadata": {},
   "source": [
    "### `LinearStateSpace` 类中的其他方法\n",
    "\n",
    "让我们使用 `LinearStateSpace` 类中的方法为萨缪尔森模型的实例绘制**脉冲响应函数**"
   ]
  },
  {
   "cell_type": "code",
   "execution_count": null,
   "id": "f42574d4",
   "metadata": {
    "hide-output": false
   },
   "outputs": [],
   "source": [
    "imres = sam_t.impulse_response()\n",
    "imres = np.asarray(imres)\n",
    "y1 = imres[:, :, 0]\n",
    "y2 = imres[:, :, 1]\n",
    "y1.shape"
   ]
  },
  {
   "cell_type": "markdown",
   "id": "28237edb",
   "metadata": {},
   "source": [
    "现在让我们通过计算矩阵$ A $的特征值来求解特征多项式的零点"
   ]
  },
  {
   "cell_type": "code",
   "execution_count": null,
   "id": "d196cc93",
   "metadata": {
    "hide-output": false
   },
   "outputs": [],
   "source": [
    "A = np.asarray(A)\n",
    "w, v = np.linalg.eig(A)\n",
    "print(w)"
   ]
  },
  {
   "cell_type": "markdown",
   "id": "d1895400",
   "metadata": {},
   "source": [
    "### 从 `LinearStateSpace` 继承方法\n",
    "\n",
    "我们也可以创建 `LinearStateSpace` 的子类（继承其所有方法和属性）来添加更多可用的函数"
   ]
  },
  {
   "cell_type": "code",
   "execution_count": null,
   "id": "db368d28",
   "metadata": {
    "hide-output": false
   },
   "outputs": [],
   "source": [
    "class SamuelsonLSS(LinearStateSpace):\n",
    "\n",
    "    \"\"\"\n",
    "    这个子类将萨缪尔森乘数-加速器模型\n",
    "    创建为线性状态空间系统。\n",
    "    \"\"\"\n",
    "    def __init__(self,\n",
    "                 y_0=100,\n",
    "                 y_1=50,\n",
    "                 α=0.8,\n",
    "                 β=0.9,\n",
    "                 γ=10,\n",
    "                 σ=1,\n",
    "                 g=10):\n",
    "\n",
    "        self.α, self.β = α, β\n",
    "        self.y_0, self.y_1, self.g = y_0, y_1, g\n",
    "        self.γ, self.σ = γ, σ\n",
    "\n",
    "        # 定义初始条件\n",
    "        self.μ_0 = [1, y_0, y_1]\n",
    "\n",
    "        self.ρ1 = α + β\n",
    "        self.ρ2 = -β\n",
    "\n",
    "        # 定义转移矩阵\n",
    "        self.A = [[1,                 0,         0],\n",
    "                  [γ + g,       self.ρ1,   self.ρ2],\n",
    "                  [0,                 1,         0]]\n",
    "\n",
    "        # 定义输出矩阵\n",
    "        self.G = [[γ + g, self.ρ1, self.ρ2],         # 这是 Y_{t+1}\n",
    "                  [γ,           α,       0],         # 这是 C_{t+1}\n",
    "                  [0,           β,      -β]]         # 这是 I_{t+1}\n",
    "\n",
    "        self.C = np.zeros((3, 1))\n",
    "        self.C[1] = σ  # 随机项\n",
    "\n",
    "        # 用萨缪尔森模型的参数初始化 LSS\n",
    "        LinearStateSpace.__init__(self, self.A, self.C, self.G, mu_0=self.μ_0)\n",
    "\n",
    "    def plot_simulation(self, ts_length=100, stationary=True):\n",
    "\n",
    "        # 临时存储原始参数\n",
    "        temp_mu = self.mu_0\n",
    "        temp_Sigma = self.Sigma_0\n",
    "\n",
    "        # 将分布参数设置为其平稳值用于模拟\n",
    "        if stationary == True:\n",
    "            try:\n",
    "                self.mu_x, self.mu_y, self.Sigma_x, self.Sigma_y, self.Sigma_yx = \\\n",
    "                    self.stationary_distributions()\n",
    "                self.mu_0 = self.mu_x\n",
    "                self.Sigma_0 = self.Sigma_x\n",
    "            # 计算平稳分布时未能收敛的异常情况\n",
    "            except ValueError:\n",
    "                print('平稳分布不存在')\n",
    "\n",
    "        x, y = self.simulate(ts_length)\n",
    "\n",
    "        fig, axes = plt.subplots(3, 1, sharex=True, figsize=(12, 8))\n",
    "        titles = ['产出 ($Y_t$)', '消费 ($C_t$)', '投资 ($I_t$)']\n",
    "        colors = ['darkblue', 'red', 'purple']\n",
    "        for ax, series, title, color in zip(axes, y, titles, colors):\n",
    "            ax.plot(series, color=color)\n",
    "            ax.set(title=title, xlim=(0, n))\n",
    "            ax.grid()\n",
    "\n",
    "        axes[-1].set_xlabel('迭代次数')\n",
    "\n",
    "        # 将分布参数重置为初始值\n",
    "        self.mu_0 = temp_mu\n",
    "        self.Sigma_0 = temp_Sigma\n",
    "\n",
    "        return fig\n",
    "\n",
    "    def plot_irf(self, j=5):\n",
    "\n",
    "        x, y = self.impulse_response(j)\n",
    "\n",
    "        # 重塑为 3 x j 矩阵用于绘图\n",
    "        yimf = np.array(y).flatten().reshape(j+1, 3).T\n",
    "\n",
    "        fig, axes = plt.subplots(3, 1, sharex=True, figsize=(12, 8))\n",
    "        labels = ['$Y_t$', '$C_t$', '$I_t$']\n",
    "        colors = ['darkblue', 'red', 'purple']\n",
    "        for ax, series, label, color in zip(axes, yimf, labels, colors):\n",
    "            ax.plot(series, color=color)\n",
    "            ax.set(xlim=(0, j))\n",
    "            ax.set_ylabel(label, rotation=0, fontsize=14, labelpad=10)\n",
    "            ax.grid()\n",
    "\n",
    "        axes[0].set_title('脉冲响应函数')\n",
    "        axes[-1].set_xlabel('迭代次数')\n",
    "\n",
    "        return fig\n",
    "\n",
    "    def multipliers(self, j=5):\n",
    "        x, y = self.impulse_response(j)\n",
    "        return np.sum(np.array(y).flatten().reshape(j+1, 3), axis=0)"
   ]
  },
  {
   "cell_type": "markdown",
   "id": "6565c92b",
   "metadata": {},
   "source": [
    "### 图示\n",
    "\n",
    "让我们展示如何使用`SamuelsonLSS`"
   ]
  },
  {
   "cell_type": "code",
   "execution_count": null,
   "id": "073cdebf",
   "metadata": {
    "hide-output": false
   },
   "outputs": [],
   "source": [
    "samlss = SamuelsonLSS()"
   ]
  },
  {
   "cell_type": "code",
   "execution_count": null,
   "id": "fa05aac6",
   "metadata": {
    "hide-output": false
   },
   "outputs": [],
   "source": [
    "samlss.plot_simulation(100, stationary=False)\n",
    "plt.show()"
   ]
  },
  {
   "cell_type": "code",
   "execution_count": null,
   "id": "22ec4067",
   "metadata": {
    "hide-output": false
   },
   "outputs": [],
   "source": [
    "samlss.plot_simulation(100, stationary=True)\n",
    "plt.show()"
   ]
  },
  {
   "cell_type": "code",
   "execution_count": null,
   "id": "a6ed29e6",
   "metadata": {
    "hide-output": false
   },
   "outputs": [],
   "source": [
    "samlss.plot_irf(100)\n",
    "plt.show()"
   ]
  },
  {
   "cell_type": "code",
   "execution_count": null,
   "id": "529da6e4",
   "metadata": {
    "hide-output": false
   },
   "outputs": [],
   "source": [
    "samlss.multipliers()"
   ]
  },
  {
   "cell_type": "markdown",
   "id": "53753f8b",
   "metadata": {},
   "source": [
    "## 纯乘数模型\n",
    "\n",
    "让我们通过设置 $ b=0 $ 来关闭加速器，得到一个纯乘数模型\n",
    "\n",
    "- 缺少周期性的现象说明了为什么萨缪尔森要引入加速器  "
   ]
  },
  {
   "cell_type": "code",
   "execution_count": null,
   "id": "18d777d3",
   "metadata": {
    "hide-output": false
   },
   "outputs": [],
   "source": [
    "pure_multiplier = SamuelsonLSS(α=0.95, β=0)"
   ]
  },
  {
   "cell_type": "code",
   "execution_count": null,
   "id": "6062cb1b",
   "metadata": {
    "hide-output": false
   },
   "outputs": [],
   "source": [
    "pure_multiplier.plot_simulation()"
   ]
  },
  {
   "cell_type": "code",
   "execution_count": null,
   "id": "40be2729",
   "metadata": {
    "hide-output": false
   },
   "outputs": [],
   "source": [
    "pure_multiplier = SamuelsonLSS(α=0.8, β=0)"
   ]
  },
  {
   "cell_type": "code",
   "execution_count": null,
   "id": "34cd81b0",
   "metadata": {
    "hide-output": false
   },
   "outputs": [],
   "source": [
    "pure_multiplier.plot_simulation()"
   ]
  },
  {
   "cell_type": "code",
   "execution_count": null,
   "id": "632acb7d",
   "metadata": {
    "hide-output": false
   },
   "outputs": [],
   "source": [
    "pure_multiplier.plot_irf(100)"
   ]
  },
  {
   "cell_type": "markdown",
   "id": "255ed242",
   "metadata": {},
   "source": [
    "## 总结\n",
    "\n",
    "在本讲中，我们编写了函数和类来表示萨缪尔森乘数-加速器模型的非随机和随机版本，该模型在[[Samuelson, 1939](https://python.quantecon.org/zreferences.html#id96)]中有所描述。\n",
    "\n",
    "我们看到不同的参数值会导致不同的输出路径，这些路径可能是平稳的、发散的或振荡的。\n",
    "\n",
    "我们还能够使用[QuantEcon.py](http://quantecon.org/quantecon-py)的[LinearStateSpace](https://github.com/QuantEcon/QuantEcon.py/blob/master/quantecon/lss.py)类来表示该模型。"
   ]
  }
 ],
 "metadata": {
  "date": 1761257075.7730353,
  "filename": "samuelson.md",
  "kernelspec": {
   "display_name": "Python",
   "language": "python3",
   "name": "python3"
  },
  "title": "萨缪尔森乘数-加速器模型"
 },
 "nbformat": 4,
 "nbformat_minor": 5
}