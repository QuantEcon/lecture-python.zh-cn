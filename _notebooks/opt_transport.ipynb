{
 "cells": [
  {
   "cell_type": "markdown",
   "id": "bb5fa0db",
   "metadata": {},
   "source": [
    "# 最优传输"
   ]
  },
  {
   "cell_type": "markdown",
   "id": "8149222a",
   "metadata": {},
   "source": [
    "## 概述\n",
    "\n",
    "**运输**或**最优传输**问题之所以有趣，不仅是因为它有许多应用，还因为它在经济理论历史中扮演着重要角色。\n",
    "\n",
    "在本讲座中，我们将描述这个问题，说明[线性规划](https://quantecon.github.io/lecture-intro.zh-cn/lp_intro.html)是解决它的关键工具，然后提供一些示例。\n",
    "\n",
    "我们将在后续讲座中提供其他应用。\n",
    "\n",
    "最优传输问题在早期关于线性规划的研究中就被研究过，例如在[[Dorfman *et al.*, 1958](https://python.quantecon.org/zreferences.html#id40)]中有总结。关于经济学应用的现代参考文献是[[Galichon, 2016](https://python.quantecon.org/zreferences.html#id41)]。\n",
    "\n",
    "下面，我们将展示如何使用几种线性规划的实现方法来解决最优传输问题，包括：\n",
    "\n",
    "1. 这个  \n",
    "\n",
    "\n",
    "[linprog](https://docs.scipy.org/doc/scipy/reference/generated/scipy.optimize.linprog.html)\n",
    "来自SciPy的求解器，\n",
    "2. [linprog_simplex](https://quanteconpy.readthedocs.io/en/latest/optimize/linprog_simplex.html) 来自QuantEcon的求解器，以及\n",
    "3. [Python Optimal Transport](https://pythonot.github.io/) 包中包含的基于单纯形法的求解器。"
   ]
  },
  {
   "cell_type": "code",
   "execution_count": null,
   "id": "736e8cec",
   "metadata": {
    "hide-output": false
   },
   "outputs": [],
   "source": [
    "!pip install --upgrade quantecon\n",
    "!pip install --upgrade POT"
   ]
  },
  {
   "cell_type": "markdown",
   "id": "501c43ca",
   "metadata": {},
   "source": [
    "让我们从一些导入语句开始。"
   ]
  },
  {
   "cell_type": "code",
   "execution_count": null,
   "id": "5979c1fc",
   "metadata": {
    "hide-output": false
   },
   "outputs": [],
   "source": [
    "import numpy as np\n",
    "import matplotlib.pyplot as plt\n",
    "import matplotlib as mpl\n",
    "FONTPATH = \"fonts/SourceHanSerifSC-SemiBold.otf\"\n",
    "mpl.font_manager.fontManager.addfont(FONTPATH)\n",
    "plt.rcParams['font.family'] = ['Source Han Serif SC']\n",
    "\n",
    "from scipy.optimize import linprog\n",
    "from quantecon.optimize.linprog_simplex import linprog_simplex\n",
    "import ot\n",
    "from scipy.stats import betabinom\n",
    "import networkx as nx"
   ]
  },
  {
   "cell_type": "markdown",
   "id": "7a4f6b4a",
   "metadata": {},
   "source": [
    "## 最优运输问题\n",
    "\n",
    "假设有$ m $个工厂生产的商品必须运送到$ n $个地点。\n",
    "\n",
    "令\n",
    "\n",
    "- $ x_{ij} $ 表示从工厂$ i $运往地点$ j $的数量  \n",
    "- $ c_{ij} $ 表示从工厂$ i $运往地点$ j $每单位的运输成本  \n",
    "- $ p_i $ 表示工厂$ i $的产能，$ q_j $表示地点$ j $所需的数量  \n",
    "- $ i = 1, 2, \\dots, m $ 且 $ j = 1, 2, \\dots, n $  \n",
    "\n",
    "\n",
    "规划者希望在以下约束条件下最小化总运输成本：\n",
    "\n",
    "- 从每个工厂运出的数量必须等于其产能  \n",
    "- 运往每个地点的数量必须等于该地点所需的数量  \n",
    "\n",
    "\n",
    "下图展示了当工厂和目标地点分布在平面上时的一种可视化表示。\n",
    "\n",
    "![https://python.quantecon.org/_static/lecture_specific/opt_transport/optimal_transport_splitting_experiment.png](https://python.quantecon.org/_static/lecture_specific/opt_transport/optimal_transport_splitting_experiment.png)\n",
    "\n",
    "  \n",
    "图中顶点的大小与以下内容成正比：\n",
    "\n",
    "- 对于工厂来说，是产能  \n",
    "- 目标地点的需求量。  \n",
    "\n",
    "\n",
    "箭头显示了一个可能的运输方案，该方案遵守上述约束条件。\n",
    "\n",
    "规划者的问题可以表示为以下约束最小化问题：\n",
    "\n",
    "\n",
    "<a id='equation-plannerproblem'></a>\n",
    "$$\n",
    "\\begin{aligned}\n",
    "    \\min_{x_{ij}} \\ & \\sum_{i=1}^m \\sum_{j=1}^n c_{ij} x_{ij} \\\\\n",
    "    \\mbox{subject to } \\ & \\sum_{j=1}^n x_{ij} = p_i, & i = 1, 2, \\dots, m \\\\\n",
    "    & \\sum_{i=1}^m x_{ij} = q_j, & j = 1, 2, \\dots, n \\\\\n",
    "    & x_{ij} \\ge 0 \\\\\n",
    "\\end{aligned} \\tag{17.1}\n",
    "$$\n",
    "\n",
    "这是一个**最优运输问题**，包含：\n",
    "\n",
    "- $ mn $ 个决策变量，即 $ x_{ij} $ 的条目，以及  \n",
    "- $ m+n $ 个约束条件。  \n",
    "\n",
    "\n",
    "将所有 $ j $ 的 $ q_j $ 相加和所有 $ i $ 的 $ p_i $ 相加表明，所有工厂的总产能等于所有地点的总需求：\n",
    "\n",
    "\n",
    "<a id='equation-sumconstraints'></a>\n",
    "$$\n",
    "\\sum_{j=1}^n q_j\n",
    "    = \\sum_{j=1}^n \\sum_{i=1}^m x_{ij}\n",
    "    = \\sum_{i=1}^m \\sum_{j=1}^n x_{ij}\n",
    "    = \\sum_{i=1}^m p_i \\tag{17.2}\n",
    "$$\n",
    "\n",
    "[(17.2)](#equation-sumconstraints) 中的约束条件将导致我们下面描述的完整约束集中出现一个冗余。\n",
    "\n",
    "稍后会详细讨论这一点。"
   ]
  },
  {
   "cell_type": "markdown",
   "id": "eb089f5a",
   "metadata": {},
   "source": [
    "## 线性规划方法\n",
    "\n",
    "本节我们讨论如何使用标准线性规划求解器来解决最优运输问题。"
   ]
  },
  {
   "cell_type": "markdown",
   "id": "d2571650",
   "metadata": {},
   "source": [
    "### 决策变量矩阵的向量化\n",
    "\n",
    "在问题 [(17.1)](#equation-plannerproblem) 中出现了决策变量 $ x_{ij} $ 的*矩阵*。\n",
    "\n",
    "SciPy 函数 `linprog` 需要接收决策变量的*向量*。\n",
    "\n",
    "这种情况促使我们需要用决策变量的*向量*来重写我们的问题。\n",
    "\n",
    "令：\n",
    "\n",
    "- $ X, C $ 是具有元素 $ x_{ij}, c_{ij} $ 的 $ m \\times n $ 矩阵，  \n",
    "- $ p $ 是具有元素 $ p_i $ 的 $ m $ 维向量，  \n",
    "- $ q $ 是具有元素 $ q_j $ 的 $ n $ 维向量。  \n",
    "\n",
    "\n",
    "用 $ \\mathbf{1}_n $ 表示 $ n $ 维列向量 $ (1, 1, \\dots, 1)' $，我们的问题现在可以简洁地表示为：\n",
    "\n",
    "$$\n",
    "\\begin{aligned}\n",
    "\n",
    "\\min_{X} \\ & \\operatorname{tr} (C' X) \\\\\n",
    "    \\mbox{subject to } \\ & X \\ \\mathbf{1}_n = p \\\\\n",
    "    & X' \\ \\mathbf{1}_m = q \\\\\n",
    "    & X \\ge 0 \\\\\n",
    "\\end{aligned}\n",
    "$$\n",
    "\n",
    "我们可以通过将矩阵$ X $的所有列堆叠成一个列向量来将其转换为向量。\n",
    "\n",
    "这种操作称为**向量化**，我们用$ \\operatorname{vec}(X) $表示。\n",
    "\n",
    "同样，我们将矩阵$ C $转换为$ mn $维向量$ \\operatorname{vec}(C) $。\n",
    "\n",
    "目标函数可以表示为$ \\operatorname{vec}(C) $和$ \\operatorname{vec}(X) $之间的内积：\n",
    "\n",
    "$$\n",
    "\\operatorname{vec}(C)' \\cdot \\operatorname{vec}(X).\n",
    "$$\n",
    "\n",
    "为了用$ \\operatorname{vec}(X) $表示约束条件，我们使用**克罗内克积**，用$ \\otimes $表示，定义如下。\n",
    "\n",
    "假设$ A $是一个$ m \\times s $矩阵，其元素为$ (a_{ij}) $，而$ B $是一个$ n \\times t $矩阵。\n",
    "\n",
    "**克罗内克积**的定义，以分块矩阵形式表示为：\n",
    "\n",
    "$$\n",
    "A \\otimes B =\n",
    "\n",
    "\\begin{pmatrix}\n",
    "    a_{11}B & a_{12}B & \\dots & a_{1s}B \\\\\n",
    "    a_{21}B & a_{22}B & \\dots & a_{2s}B \\\\\n",
    "      &   & \\vdots &   \\\\\n",
    "    a_{m1}B & a_{m2}B & \\dots & a_{ms}B \\\\\n",
    "    \\end{pmatrix}.\n",
    "$$\n",
    "\n",
    "$ A \\otimes B $ 是一个 $ mn \\times st $ 矩阵。\n",
    "\n",
    "它具有这样的性质：对于任意 $ m \\times n $ 矩阵 $ X $\n",
    "\n",
    "\n",
    "<a id='equation-kroneckerprop'></a>\n",
    "$$\n",
    "\\operatorname{vec}(A'XB) = (B' \\otimes A') \\operatorname{vec}(X). \\tag{17.3}\n",
    "$$\n",
    "\n",
    "现在我们可以用 $ \\operatorname{vec}(X) $ 来表示我们的约束条件。\n",
    "\n",
    "令 $ A = \\mathbf{I}_m', B = \\mathbf{1}_n $。\n",
    "\n",
    "根据等式 [(17.3)](#equation-kroneckerprop)\n",
    "\n",
    "$$\n",
    "X \\ \\mathbf{1}_n\n",
    "    = \\operatorname{vec}(X \\ \\mathbf{1}_n)\n",
    "    = \\operatorname{vec}(\\mathbf{I}_m X \\ \\mathbf{1}_n)\n",
    "    = (\\mathbf{1}_n' \\otimes \\mathbf{I}_m) \\operatorname{vec}(X).\n",
    "$$\n",
    "\n",
    "其中 $ \\mathbf{I}_m $ 表示 $ m \\times m $ 单位矩阵。\n",
    "\n",
    "约束条件 $ X \\ \\mathbf{1}_n = p $ 现在可以写成：\n",
    "\n",
    "$$\n",
    "(\\mathbf{1}_n' \\otimes \\mathbf{I}_m) \\operatorname{vec}(X) = p.\n",
    "$$\n",
    "\n",
    "类似地，约束条件 $ X' \\ \\mathbf{1}_m = q $ 可以重写为：\n",
    "\n",
    "$$\n",
    "(\\mathbf{I}_n \\otimes \\mathbf{1}_m') \\operatorname{vec}(X) = q.\n",
    "$$\n",
    "\n",
    "令 $ z := \\operatorname{vec}(X) $，我们的问题现在可以用一个 $ mn $ 维的决策变量向量来表示：\n",
    "\n",
    "\n",
    "<a id='equation-decisionvars'></a>\n",
    "$$\n",
    "\\begin{aligned}\n",
    "        \\min_{z} \\ & \\operatorname{vec}(C)' z \\\\\n",
    "        \\mbox{subject to } \\ & A z = b \\\\\n",
    "        & z \\ge 0 \\\\\n",
    "    \\end{aligned} \\tag{17.4}\n",
    "$$\n",
    "\n",
    "其中\n",
    "\n",
    "$$\n",
    "A =\n",
    "    \\begin{pmatrix}\n",
    "        \\mathbf{1}_n' \\otimes \\mathbf{I}_m \\\\\n",
    "        \\mathbf{I}_n \\otimes \\mathbf{1}_m' \\\\\n",
    "    \\end{pmatrix}\n",
    "    \\quad \\text{和} \\quad\n",
    "    b = \\begin{pmatrix}\n",
    "            p \\\\\n",
    "            q \\\\\n",
    "        \\end{pmatrix}\n",
    "$$"
   ]
  },
  {
   "cell_type": "markdown",
   "id": "8e96d3ff",
   "metadata": {},
   "source": [
    "### 应用实例\n",
    "\n",
    "我们现在提供一个采用 [(17.4)](#equation-decisionvars) 形式的例子，我们将通过使用 `linprog` 函数来求解。\n",
    "\n",
    "下表提供了需求向量 $ q $、产能向量 $ p $ 以及运输成本矩阵 $ C $ 中各项 $ c_{ij} $ 的数值。\n",
    "\n",
    "上表中的数字告诉我们设定 $ m = 3 $，$ n = 5 $，并构造以下对象：\n",
    "\n",
    "$$\n",
    "p = \\begin{pmatrix}\n",
    "        50 \\\\\n",
    "        100 \\\\\n",
    "        150\n",
    "    \\end{pmatrix},\n",
    "    \\quad\n",
    "    q =\n",
    "    \\begin{pmatrix}\n",
    "        25 \\\\\n",
    "        115 \\\\\n",
    "        60 \\\\\n",
    "\n",
    "30 \\\\\n",
    "        70\n",
    "    \\end{pmatrix}\n",
    "    \\quad \\text{和} \\quad\n",
    "    C =\n",
    "    \\begin{pmatrix}\n",
    "        10 &15 &20 &20 &40 \\\\\n",
    "        20 &40 &15 &30 &30 \\\\\n",
    "        30 &35 &40 &55 &25\n",
    "    \\end{pmatrix}.\n",
    "$$\n",
    "\n",
    "让我们编写Python代码来设置问题并求解。"
   ]
  },
  {
   "cell_type": "code",
   "execution_count": null,
   "id": "2bc1d50c",
   "metadata": {
    "hide-output": false
   },
   "outputs": [],
   "source": [
    "# 定义参数\n",
    "m = 3\n",
    "n = 5\n",
    "\n",
    "p = np.array([50, 100, 150])\n",
    "q = np.array([25, 115, 60, 30, 70])\n",
    "\n",
    "C = np.array([[10, 15, 20, 20, 40],\n",
    "              [20, 40, 15, 30, 30],\n",
    "              [30, 35, 40, 55, 25]])\n",
    "\n",
    "# 将矩阵C向量化\n",
    "C_vec = C.reshape((m*n, 1), order='F')\n",
    "\n",
    "# 通过克罗内克积构造矩阵A\n",
    "A1 = np.kron(np.ones((1, n)), np.identity(m))\n",
    "A2 = np.kron(np.identity(n), np.ones((1, m)))\n",
    "A = np.vstack([A1, A2])\n",
    "\n",
    "# 构造向量b\n",
    "b = np.hstack([p, q])\n",
    "\n",
    "# 求解原问题\n",
    "res = linprog(C_vec, A_eq=A, b_eq=b)\n",
    "\n",
    "# 打印结果\n",
    "print(\"消息:\", res.message)\n",
    "print(\"迭代次数:\", res.nit)\n",
    "print(\"目标函数值:\", res.fun)\n",
    "print(\"z:\", res.x)\n",
    "print(\"X:\", res.x.reshape((m,n), order='F'))"
   ]
  },
  {
   "cell_type": "markdown",
   "id": "f1e6cc6c",
   "metadata": {},
   "source": [
    "注意在 `C_vec = C.reshape((m*n, 1), order='F')` 这一行中，我们谨慎地使用了标志 `order='F'` 来进行向量化。\n",
    "\n",
    "这与将矩阵 $ C $ 转换为向量的方式一致，即将其所有列堆叠成一个列向量。\n",
    "\n",
    "这里的 `'F'` 代表”Fortran”，我们使用的是Fortran风格的列优先顺序。\n",
    "\n",
    "（关于使用Python默认的行优先顺序的另一种方法，请参见[Alfred Galichon的这个讲座](https://www.math-econ-code.org/dynamic-programming)。）\n",
    "\n",
    "**解读警告信息：**\n",
    "\n",
    "上面来自SciPy的警告信息指出A不是满秩的。\n",
    "\n",
    "这表明线性规划中包含了一个或多个冗余约束。\n",
    "\n",
    "这里，冗余的来源是限制条件 [(17.2)](#equation-sumconstraints) 的结构。\n",
    "\n",
    "让我们通过打印出 $ A $ 并仔细观察来进一步探讨这个问题。"
   ]
  },
  {
   "cell_type": "code",
   "execution_count": null,
   "id": "906fac60",
   "metadata": {
    "hide-output": false
   },
   "outputs": [],
   "source": [
    "A"
   ]
  },
  {
   "cell_type": "markdown",
   "id": "f1d9e651",
   "metadata": {},
   "source": [
    "$ A $ 的奇异性反映了前三个约束和后五个约束都要求”总需求等于总容量”，这在[(17.2)](#equation-sumconstraints)中表达。\n",
    "\n",
    "这里有一个冗余的等式约束。\n",
    "\n",
    "下面我们去掉一个等式约束，只使用其中的7个。\n",
    "\n",
    "这样做之后，我们得到了相同的最小成本。\n",
    "\n",
    "然而，我们找到了一个不同的运输方案。\n",
    "\n",
    "虽然这是一个不同的方案，但它达到了相同的成本！"
   ]
  },
  {
   "cell_type": "code",
   "execution_count": null,
   "id": "ec5952a7",
   "metadata": {
    "hide-output": false
   },
   "outputs": [],
   "source": [
    "linprog(C_vec, A_eq=A[:-1], b_eq=b[:-1])"
   ]
  },
  {
   "cell_type": "code",
   "execution_count": null,
   "id": "66ff3d73",
   "metadata": {
    "hide-output": false
   },
   "outputs": [],
   "source": [
    "%time linprog(C_vec, A_eq=A[:-1], b_eq=b[:-1])"
   ]
  },
  {
   "cell_type": "code",
   "execution_count": null,
   "id": "472f745b",
   "metadata": {
    "hide-output": false
   },
   "outputs": [],
   "source": [
    "%time linprog(C_vec, A_eq=A, b_eq=b)"
   ]
  },
  {
   "cell_type": "markdown",
   "id": "412bee93",
   "metadata": {},
   "source": [
    "显然，处理去掉冗余约束的系统会稍微快一些。\n",
    "\n",
    "让我们深入进行更多计算，以帮助我们理解发现**两个**不同的最优运输方案是否反映了我们删除了一个冗余的等式约束。"
   ]
  },
  {
   "cell_type": "markdown",
   "id": "a8b1cf5c",
   "metadata": {},
   "source": [
    "### 提示\n",
    "\n",
    "事实将证明，删除冗余等式约束并不是真正重要的。\n",
    "\n",
    "为了验证我们的提示，我们将简单地使用**所有**原始的等式约束（包括一个冗余约束），但我们只是打乱约束的顺序。"
   ]
  },
  {
   "cell_type": "code",
   "execution_count": null,
   "id": "ace34922",
   "metadata": {
    "hide-output": false
   },
   "outputs": [],
   "source": [
    "arr = np.arange(m+n)"
   ]
  },
  {
   "cell_type": "code",
   "execution_count": null,
   "id": "d4f3ad00",
   "metadata": {
    "hide-output": false
   },
   "outputs": [],
   "source": [
    "sol_found = []\n",
    "cost = []\n",
    "\n",
    "# 模拟1000次\n",
    "for i in range(1000):\n",
    "\n",
    "    np.random.shuffle(arr)\n",
    "    res_shuffle = linprog(C_vec, A_eq=A[arr], b_eq=b[arr])\n",
    "\n",
    "    # 如果找到新解\n",
    "    sol = tuple(res_shuffle.x)\n",
    "    if sol not in sol_found:\n",
    "        sol_found.append(sol)\n",
    "        cost.append(res_shuffle.fun)"
   ]
  },
  {
   "cell_type": "code",
   "execution_count": null,
   "id": "efec6984",
   "metadata": {
    "hide-output": false
   },
   "outputs": [],
   "source": [
    "for i in range(len(sol_found)):\n",
    "    print(f\"运输方案 {i}: \", sol_found[i])\n",
    "    print(f\"     最小成本 {i}: \", cost[i])"
   ]
  },
  {
   "cell_type": "markdown",
   "id": "8a83a160",
   "metadata": {},
   "source": [
    "**啊哈！**如你所见，在这种情况下以不同顺序放置约束条件揭示了两个实现相同最小成本的最优运输方案。\n",
    "\n",
    "这就是我们之前计算出的相同两个方案。\n",
    "\n",
    "接下来，我们展示”意外地”省略第一个约束条件会得到我们最初计算的方案。"
   ]
  },
  {
   "cell_type": "code",
   "execution_count": null,
   "id": "5f19f415",
   "metadata": {
    "hide-output": false
   },
   "outputs": [],
   "source": [
    "linprog(C_vec, A_eq=A[1:], b_eq=b[1:])"
   ]
  },
  {
   "cell_type": "markdown",
   "id": "e3702335",
   "metadata": {},
   "source": [
    "让我们将这个运输方案与"
   ]
  },
  {
   "cell_type": "code",
   "execution_count": null,
   "id": "4f453ab8",
   "metadata": {
    "hide-output": false
   },
   "outputs": [],
   "source": [
    "res.x"
   ]
  },
  {
   "cell_type": "markdown",
   "id": "87ef22ef",
   "metadata": {},
   "source": [
    "这里矩阵 $ X $ 包含的元素 $ x_{ij} $ 表示从工厂 $ i = 1, 2, 3 $ **运往**地点 $ j=1,2, \\ldots, 5 $ 的运输量。\n",
    "\n",
    "向量 $ z $ 显然等于 $ \\operatorname{vec}(X) $。\n",
    "\n",
    "最优运输方案的最小成本由变量 $ fun $ 给出。"
   ]
  },
  {
   "cell_type": "markdown",
   "id": "d7f96a9e",
   "metadata": {},
   "source": [
    "### 使用即时编译器\n",
    "\n",
    "我们也可以使用 QuantEcon 中的一个强大工具来求解最优运输问题，即 `quantecon.optimize.linprog_simplex`。\n",
    "\n",
    "虽然这个程序使用的是与 `scipy.optimize.linprog` 相同的单纯形算法，但通过使用 `numba` 库中的即时编译器，代码运行速度得到了加速。\n",
    "\n",
    "如你很快就会看到，使用 `scipy.optimize.linprog` 可以显著减少求解最优运输问题所需的时间。"
   ]
  },
  {
   "cell_type": "code",
   "execution_count": null,
   "id": "9179c325",
   "metadata": {
    "hide-output": false
   },
   "outputs": [],
   "source": [
    "# construct matrices/vectors for linprog_simplex\n",
    "c = C.flatten()\n",
    "\n",
    "# Equality constraints\n",
    "A_eq = np.zeros((m+n, m*n))\n",
    "for i in range(m):\n",
    "    for j in range(n):\n",
    "        A_eq[i, i*n+j] = 1\n",
    "        A_eq[m+j, i*n+j] = 1\n",
    "\n",
    "b_eq = np.hstack([p, q])"
   ]
  },
  {
   "cell_type": "markdown",
   "id": "5ab734aa",
   "metadata": {},
   "source": [
    "由于 `quantecon.optimize.linprog_simplex` 执行的是最大化而不是最小化运算，我们需要在向量 `c` 前加上负号。"
   ]
  },
  {
   "cell_type": "code",
   "execution_count": null,
   "id": "92fe09f8",
   "metadata": {
    "hide-output": false
   },
   "outputs": [],
   "source": [
    "res_qe = linprog_simplex(-c, A_eq=A_eq, b_eq=b_eq)"
   ]
  },
  {
   "cell_type": "markdown",
   "id": "b8c00a94",
   "metadata": {},
   "source": [
    "由于这两个线性规划求解器使用相同的单纯形算法，我们预期会得到完全相同的解"
   ]
  },
  {
   "cell_type": "code",
   "execution_count": null,
   "id": "997584cf",
   "metadata": {
    "hide-output": false
   },
   "outputs": [],
   "source": [
    "res_qe.x.reshape((m, n), order='C')"
   ]
  },
  {
   "cell_type": "code",
   "execution_count": null,
   "id": "e984db5a",
   "metadata": {
    "hide-output": false
   },
   "outputs": [],
   "source": [
    "res.x.reshape((m, n), order='F')"
   ]
  },
  {
   "cell_type": "markdown",
   "id": "f280ed48",
   "metadata": {},
   "source": [
    "让我们比较一下 `scipy.optimize.linprog` 和 `quantecon.optimize.linprog_simplex` 的运行速度。"
   ]
  },
  {
   "cell_type": "code",
   "execution_count": null,
   "id": "b4cfe9da",
   "metadata": {
    "hide-output": false
   },
   "outputs": [],
   "source": [
    "# scipy.optimize.linprog\n",
    "%time res = linprog(C_vec, A_eq=A[:-1, :], b_eq=b[:-1])"
   ]
  },
  {
   "cell_type": "code",
   "execution_count": null,
   "id": "36f9723c",
   "metadata": {
    "hide-output": false
   },
   "outputs": [],
   "source": [
    "# quantecon.optimize.linprog_simplex\n",
    "%time out = linprog_simplex(-c, A_eq=A_eq, b_eq=b_eq)"
   ]
  },
  {
   "cell_type": "markdown",
   "id": "eb4d7165",
   "metadata": {},
   "source": [
    "如您所见，`quantecon.optimize.linprog_simplex` 的速度要快得多。\n",
    "\n",
    "(但请注意，SciPy 版本可能比 QuantEcon 版本更稳定，因为它经过了更长时间的广泛测试。)"
   ]
  },
  {
   "cell_type": "markdown",
   "id": "d9d843ce",
   "metadata": {},
   "source": [
    "## 对偶问题\n",
    "\n",
    "设 $ u, v $ 表示对偶决策变量的向量，其分量为 $ (u_i), (v_j) $。\n",
    "\n",
    "[(17.1)](#equation-plannerproblem) **最小化**问题的**对偶**是以下**最大化**问题：\n",
    "\n",
    "\n",
    "<a id='equation-dualproblem'></a>\n",
    "$$\n",
    "\\begin{aligned}\n",
    "\\max_{u_i, v_j} \\ & \\sum_{i=1}^m p_i u_i + \\sum_{j=1}^n q_j v_j \\\\\n",
    "\\mbox{subject to } \\ & u_i + v_j \\le c_{ij}, \\ i = 1, 2, \\dots, m;\\ j = 1, 2, \\dots, n \\\\\n",
    "\\end{aligned} \\tag{17.5}\n",
    "$$\n",
    "\n",
    "对偶问题也是一个线性规划问题。\n",
    "\n",
    "它有 $ m+n $ 个对偶变量和 $ mn $ 个约束。\n",
    "\n",
    "**值**向量 $ u $ 和 $ v $ 分别附加到原问题的第一组和第二组约束上。\n",
    "\n",
    "因此，$ u $ 附加到以下约束上：\n",
    "\n",
    "- $ (\\mathbf{1}_n' \\otimes \\mathbf{I}_m) \\operatorname{vec}(X) = p $  \n",
    "\n",
    "\n",
    "且 $ v $ 与以下约束相关\n",
    "\n",
    "- $ (\\mathbf{I}_n \\otimes \\mathbf{1}_m') \\operatorname{vec}(X) = q. $  \n",
    "\n",
    "\n",
    "向量 $ u $ 和 $ v $ 的各个分量的单位**价值**是这些约束右侧数量的**影子价格**。\n",
    "\n",
    "我们可以将对偶问题写作\n",
    "\n",
    "\n",
    "<a id='equation-dualproblem2'></a>\n",
    "$$\n",
    "\\begin{aligned}\n",
    "\\max_{u_i, v_j} \\ & p u + q v \\\\\n",
    "\\mbox{subject to } \\ & A' \\begin{pmatrix} u \\\\ v \\\\ \\end{pmatrix} = \\operatorname{vec}(C) \\\\\n",
    "\\end{aligned} \\tag{17.6}\n",
    "$$\n",
    "\n",
    "对于上述相同的数值示例，让我们求解对偶问题。"
   ]
  },
  {
   "cell_type": "code",
   "execution_count": null,
   "id": "d43d9472",
   "metadata": {
    "hide-output": false
   },
   "outputs": [],
   "source": [
    "# Solve the dual problem\n",
    "res_dual = linprog(-b, A_ub=A.T, b_ub=C_vec,\n",
    "                   bounds=[(None, None)]*(m+n))\n",
    "\n",
    "#Print results\n",
    "print(\"message:\", res_dual.message)\n",
    "print(\"nit:\", res_dual.nit)\n",
    "print(\"fun:\", res_dual.fun)\n",
    "print(\"u:\", res_dual.x[:m])\n",
    "print(\"v:\", res_dual.x[-n:])"
   ]
  },
  {
   "cell_type": "markdown",
   "id": "b89c3bbb",
   "metadata": {},
   "source": [
    "我们也可以使用[quantecon.optimize.linprog_simplex](https://quanteconpy.readthedocs.io/en/latest/optimize/linprog_simplex.html)来求解对偶问题。"
   ]
  },
  {
   "cell_type": "code",
   "execution_count": null,
   "id": "578ffee7",
   "metadata": {
    "hide-output": false
   },
   "outputs": [],
   "source": [
    "res_dual_qe = linprog_simplex(b_eq, A_ub=A_eq.T, b_ub=c)"
   ]
  },
  {
   "cell_type": "markdown",
   "id": "7054cd63",
   "metadata": {},
   "source": [
    "两个程序计算出的影子价格是相同的。"
   ]
  },
  {
   "cell_type": "code",
   "execution_count": null,
   "id": "74947fa7",
   "metadata": {
    "hide-output": false
   },
   "outputs": [],
   "source": [
    "res_dual_qe.x"
   ]
  },
  {
   "cell_type": "code",
   "execution_count": null,
   "id": "0398b071",
   "metadata": {
    "hide-output": false
   },
   "outputs": [],
   "source": [
    "res_dual.x"
   ]
  },
  {
   "cell_type": "markdown",
   "id": "056c8012",
   "metadata": {},
   "source": [
    "我们可以比较使用这两种工具的计算时间。"
   ]
  },
  {
   "cell_type": "code",
   "execution_count": null,
   "id": "16f6665a",
   "metadata": {
    "hide-output": false
   },
   "outputs": [],
   "source": [
    "%time linprog(-b, A_ub=A.T, b_ub=C_vec, bounds=[(None, None)]*(m+n))"
   ]
  },
  {
   "cell_type": "code",
   "execution_count": null,
   "id": "79159a62",
   "metadata": {
    "hide-output": false
   },
   "outputs": [],
   "source": [
    "%time linprog_simplex(b_eq, A_ub=A_eq.T, b_ub=c)"
   ]
  },
  {
   "cell_type": "markdown",
   "id": "ea65c319",
   "metadata": {},
   "source": [
    "`quantecon.optimize.linprog_simplex`求解对偶问题的速度快10倍。\n",
    "\n",
    "为了完整性，让我们通过删除一个冗余的等式约束来求解具有非奇异$ A $矩阵的对偶问题。\n",
    "\n",
    "首先尝试去掉第一个约束："
   ]
  },
  {
   "cell_type": "code",
   "execution_count": null,
   "id": "889eaead",
   "metadata": {
    "hide-output": false
   },
   "outputs": [],
   "source": [
    "linprog(-b[1:], A_ub=A[1:].T, b_ub=C_vec,\n",
    "        bounds=[(None, None)]*(m+n-1))"
   ]
  },
  {
   "cell_type": "markdown",
   "id": "68b44594",
   "metadata": {},
   "source": [
    "现在让我们去掉最后一个约束条件："
   ]
  },
  {
   "cell_type": "code",
   "execution_count": null,
   "id": "8a62c7ee",
   "metadata": {
    "hide-output": false
   },
   "outputs": [],
   "source": [
    "linprog(-b[:-1], A_ub=A[:-1].T, b_ub=C_vec,\n",
    "        bounds=[(None, None)]*(m+n-1))"
   ]
  },
  {
   "cell_type": "markdown",
   "id": "8b0f56b0",
   "metadata": {},
   "source": [
    "### 对偶问题的解释\n",
    "\n",
    "根据**强对偶性**（请参见此讲座\n",
    "[线性规划](https://quantecon.github.io/lecture-intro.zh-cn/lp_intro.html)），我们知道：\n",
    "\n",
    "$$\n",
    "\\sum_{i=1}^m \\sum_{j=1}^n c_{ij} x_{ij}  = \\sum_{i=1}^m p_i u_i + \\sum_{j=1}^n q_j v_j\n",
    "$$\n",
    "\n",
    "工厂$ i $增加一个单位的产能，即$ p_i $，将导致运输成本增加$ u_i $。\n",
    "\n",
    "因此，$ u_i $描述了**从**工厂$ i $运出一个单位的成本。\n",
    "\n",
    "我们称之为从工厂$ i $运出一个单位的出货成本。\n",
    "\n",
    "类似地，$ v_j $是运送一个单位**到**地点$ j $的成本。\n",
    "\n",
    "我们称之为运送一个单位到地点$ j $的进货成本。\n",
    "\n",
    "强对偶性表明总运输成本等于总出货成本**加上**总进货成本。\n",
    "\n",
    "对于一个单位的产品，出货成本$ u_i $**加上**进货成本$ v_j $应该等于运输成本$ c_{ij} $，这是合理的。\n",
    "\n",
    "这种相等性由**互补松弛**条件保证，该条件规定当 $ x_{ij} > 0 $ 时，即当从工厂 $ i $ 到地点 $ j $ 有正向运输量时，必须满足 $ u_i + v_j = c_{ij} $。"
   ]
  },
  {
   "cell_type": "markdown",
   "id": "549f506e",
   "metadata": {},
   "source": [
    "## Python最优传输包\n",
    "\n",
    "有一个优秀的[Python包](https://pythonot.github.io/)专门用于最优传输，它简化了我们上面采取的一些步骤。\n",
    "\n",
    "特别是，该软件包在将数据传递给线性规划程序之前会处理向量化步骤。\n",
    "\n",
    "（话虽如此，上面关于向量化的讨论仍然很重要，因为我们想要了解其内部运作原理。）"
   ]
  },
  {
   "cell_type": "markdown",
   "id": "1331d98d",
   "metadata": {},
   "source": [
    "### 复现之前的结果\n",
    "\n",
    "下面这行代码使用线性规划解决了上面讨论的示例应用。"
   ]
  },
  {
   "cell_type": "code",
   "execution_count": null,
   "id": "a9fcbc74",
   "metadata": {
    "hide-output": false
   },
   "outputs": [],
   "source": [
    "X = ot.emd(p, q, C)\n",
    "X"
   ]
  },
  {
   "cell_type": "markdown",
   "id": "bd37ab46",
   "metadata": {},
   "source": [
    "果然，我们得到了相同的解决方案和相同的成本"
   ]
  },
  {
   "cell_type": "code",
   "execution_count": null,
   "id": "afda4ad1",
   "metadata": {
    "hide-output": false
   },
   "outputs": [],
   "source": [
    "total_cost = np.sum(X * C)\n",
    "total_cost"
   ]
  },
  {
   "cell_type": "markdown",
   "id": "d8a4dc3f",
   "metadata": {},
   "source": [
    "### 更大的应用程序\n",
    "\n",
    "现在让我们尝试在一个稍大的应用程序上使用相同的包。\n",
    "\n",
    "该应用程序具有与上述相同的解释，但我们还将为每个节点（即顶点）在平面上赋予一个位置。\n",
    "\n",
    "这将使我们能够将得到的运输方案绘制为图中的边。\n",
    "\n",
    "以下类通过以下方式定义节点：\n",
    "\n",
    "- 其位置 $ (x, y) \\in \\mathbb R^2 $，  \n",
    "- 其组别（工厂或位置，用`p`或`q`表示）以及  \n",
    "- 其质量（例如，$ p_i $或$ q_j $）。  "
   ]
  },
  {
   "cell_type": "code",
   "execution_count": null,
   "id": "5f8c68df",
   "metadata": {
    "hide-output": false
   },
   "outputs": [],
   "source": [
    "class Node:\n",
    "\n",
    "    def __init__(self, x, y, mass, group, name):\n",
    "\n",
    "        self.x, self.y = x, y\n",
    "        self.mass, self.group = mass, group\n",
    "        self.name = name"
   ]
  },
  {
   "cell_type": "markdown",
   "id": "0a6e2013",
   "metadata": {},
   "source": [
    "接下来我们编写一个函数，重复调用上面的类来构建实例。\n",
    "\n",
    "它为创建的节点分配位置、质量和组别。\n",
    "\n",
    "位置是随机分配的。"
   ]
  },
  {
   "cell_type": "code",
   "execution_count": null,
   "id": "c9e2c7e9",
   "metadata": {
    "hide-output": false
   },
   "outputs": [],
   "source": [
    "def build_nodes_of_one_type(group='p', n=100, seed=123):\n",
    "\n",
    "    nodes = []\n",
    "    np.random.seed(seed)\n",
    "\n",
    "    for i in range(n):\n",
    "\n",
    "        if group == 'p':\n",
    "            m = 1/n\n",
    "            x = np.random.uniform(-2, 2)\n",
    "            y = np.random.uniform(-2, 2)\n",
    "        else:\n",
    "            m = betabinom.pmf(i, n-1, 2, 2)\n",
    "            x = 0.6 * np.random.uniform(-1.5, 1.5)\n",
    "            y = 0.6 * np.random.uniform(-1.5, 1.5)\n",
    "\n",
    "        name = group + str(i)\n",
    "        nodes.append(Node(x, y, m, group, name))\n",
    "\n",
    "    return nodes"
   ]
  },
  {
   "cell_type": "markdown",
   "id": "18485612",
   "metadata": {},
   "source": [
    "现在我们构建两个节点列表，每个列表包含一种类型（工厂或位置）"
   ]
  },
  {
   "cell_type": "code",
   "execution_count": null,
   "id": "3e185bbc",
   "metadata": {
    "hide-output": false
   },
   "outputs": [],
   "source": [
    "n_p = 32\n",
    "n_q = 32\n",
    "p_list = build_nodes_of_one_type(group='p', n=n_p)\n",
    "q_list = build_nodes_of_one_type(group='q', n=n_q)\n",
    "\n",
    "p_probs = [p.mass for p in p_list]\n",
    "q_probs = [q.mass for q in q_list]"
   ]
  },
  {
   "cell_type": "markdown",
   "id": "74a012d2",
   "metadata": {},
   "source": [
    "对于成本矩阵$ C $，我们使用每个工厂和位置之间的欧几里得距离。"
   ]
  },
  {
   "cell_type": "code",
   "execution_count": null,
   "id": "199f217e",
   "metadata": {
    "hide-output": false
   },
   "outputs": [],
   "source": [
    "c = np.empty((n_p, n_q))\n",
    "for i in range(n_p):\n",
    "    for j in range(n_q):\n",
    "        x0, y0 = p_list[i].x, p_list[i].y\n",
    "        x1, y1 = q_list[j].x, q_list[j].y\n",
    "        c[i, j] = np.sqrt((x0-x1)**2 + (y0-y1)**2)"
   ]
  },
  {
   "cell_type": "markdown",
   "id": "ad32ccc6",
   "metadata": {},
   "source": [
    "现在我们准备应用求解器"
   ]
  },
  {
   "cell_type": "code",
   "execution_count": null,
   "id": "ab9b5141",
   "metadata": {
    "hide-output": false
   },
   "outputs": [],
   "source": [
    "%time pi = ot.emd(p_probs, q_probs, c)"
   ]
  },
  {
   "cell_type": "markdown",
   "id": "be4ea815",
   "metadata": {},
   "source": [
    "最后，让我们使用`networkx`来绘制结果。\n",
    "\n",
    "在下面的图中，\n",
    "\n",
    "- 节点大小与概率质量成正比  \n",
    "- 当在最优运输方案下从$ i $到$ j $有正向转移时，会画出一个从$ i $到$ j $的边（箭头）。  "
   ]
  },
  {
   "cell_type": "code",
   "execution_count": null,
   "id": "d200fd66",
   "metadata": {
    "hide-output": false
   },
   "outputs": [],
   "source": [
    "g = nx.DiGraph()\n",
    "g.add_nodes_from([p.name for p in p_list])\n",
    "g.add_nodes_from([q.name for q in q_list])\n",
    "\n",
    "for i in range(n_p):\n",
    "    for j in range(n_q):\n",
    "        if pi[i, j] > 0:\n",
    "            g.add_edge(p_list[i].name, q_list[j].name, weight=pi[i, j])\n",
    "\n",
    "node_pos_dict={}\n",
    "for p in p_list:\n",
    "    node_pos_dict[p.name] = (p.x, p.y)\n",
    "\n",
    "for q in q_list:\n",
    "    node_pos_dict[q.name] = (q.x, q.y)\n",
    "\n",
    "node_color_list = []\n",
    "node_size_list = []\n",
    "scale = 8_000\n",
    "for p in p_list:\n",
    "    node_color_list.append('blue')\n",
    "    node_size_list.append(p.mass * scale)\n",
    "for q in q_list:\n",
    "    node_color_list.append('red')\n",
    "    node_size_list.append(q.mass * scale)\n",
    "\n",
    "\n",
    "fig, ax = plt.subplots(figsize=(7, 10))\n",
    "plt.axis('off')\n",
    "\n",
    "nx.draw_networkx_nodes(g,\n",
    "                       node_pos_dict,\n",
    "                       node_color=node_color_list,\n",
    "                       node_size=node_size_list,\n",
    "                       edgecolors='grey',\n",
    "                       linewidths=1,\n",
    "                       alpha=0.5,\n",
    "                       ax=ax)\n",
    "\n",
    "nx.draw_networkx_edges(g,\n",
    "                       node_pos_dict,\n",
    "                       arrows=True,\n",
    "                       connectionstyle='arc3,rad=0.1',\n",
    "                       alpha=0.6)\n",
    "plt.show()"
   ]
  }
 ],
 "metadata": {
  "date": 1742685623.5211937,
  "filename": "opt_transport.md",
  "kernelspec": {
   "display_name": "Python",
   "language": "python3",
   "name": "python3"
  },
  "title": "最优传输"
 },
 "nbformat": 4,
 "nbformat_minor": 5
}