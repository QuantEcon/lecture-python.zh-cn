{
 "cells": [
  {
   "cell_type": "markdown",
   "id": "c670cc42",
   "metadata": {},
   "source": [
    "\n",
    "<a id='cass-koopmans-1'></a>\n",
    "<div id=\"qe-notebook-header\" align=\"right\" style=\"text-align:right;\">\n",
    "        <a href=\"https://quantecon.org/\" title=\"quantecon.org\">\n",
    "                <img style=\"width:250px;display:inline;\" width=\"250px\" src=\"https://assets.quantecon.org/img/qe-menubar-logo.svg\" alt=\"QuantEcon\">\n",
    "        </a>\n",
    "</div>"
   ]
  },
  {
   "cell_type": "markdown",
   "id": "756b2553",
   "metadata": {},
   "source": [
    "# Cass-Koopmans模型"
   ]
  },
  {
   "cell_type": "markdown",
   "id": "ba04c9e7",
   "metadata": {},
   "source": [
    "## 概述\n",
    "\n",
    "本讲座和[Cass-Koopmans竞争均衡](https://python.quantecon.org/cass_koopmans_2.html)描述了Tjalling Koopmans [[Koopmans, 1965](https://python.quantecon.org/zreferences.html#id91)]和David Cass [[Cass, 1965](https://python.quantecon.org/zreferences.html#id92)]用来分析最优增长的模型。\n",
    "\n",
    "该模型扩展了[早前讲座](https://python-programming.quantecon.org/python_oop.html)中描述的Robert Solow模型。\n",
    "它通过将储蓄率作为一个决策变量，而不是一个固定的常数来实现这一点。\n",
    "\n",
    "（索洛假设储蓄率是模型外部决定的常数。）\n",
    "\n",
    "我们将描述该模型的两个版本，本讲中的规划问题，以及在[Cass-Koopmans 竞争均衡](https://python.quantecon.org/cass_koopmans_2.html)讲中的竞争均衡。\n",
    "\n",
    "这两节课共同说明了**计划经济**和以**竞争均衡**形式组织的分散经济之间实际上存在的更普遍联系。\n",
    "\n",
    "本讲重点讨论计划经济版本。\n",
    "\n",
    "在计划经济中，\n",
    "\n",
    "- 没有价格  \n",
    "- 没有预算约束  \n",
    "\n",
    "\n",
    "相反，有一个决策者告诉人们\n",
    "\n",
    "- 生产什么  \n",
    "- 在实物资本中投资什么  \n",
    "- 谁在什么时候消费什么  \n",
    "\n",
    "\n",
    "本讲使用的重要概念包括\n",
    "\n",
    "- 用于解决规划问题的极小极大问题  \n",
    "- 用于求解差分方程的**射击算法**\n",
    "  对初始和终端条件。  \n",
    "- 对于长期但有限期限经济的最优路径的**收费公路**性质。  \n",
    "- **稳定流形**和**相位平面**  \n",
    "\n",
    "\n",
    "让我们从一些标准导入开始："
   ]
  },
  {
   "cell_type": "code",
   "execution_count": null,
   "id": "7d837232",
   "metadata": {
    "hide-output": false
   },
   "outputs": [],
   "source": [
    "import matplotlib.pyplot as plt\n",
    "import matplotlib as mpl\n",
    "FONTPATH = \"fonts/SourceHanSerifSC-SemiBold.otf\"\n",
    "mpl.font_manager.fontManager.addfont(FONTPATH)\n",
    "plt.rcParams['font.family'] = ['Source Han Serif SC']\n",
    "\n",
    "from numba import jit, float64\n",
    "from numba.experimental import jitclass\n",
    "import numpy as np\n",
    "from quantecon.optimize import brentq"
   ]
  },
  {
   "cell_type": "markdown",
   "id": "92bd9cc9",
   "metadata": {},
   "source": [
    "## 模型\n",
    "\n",
    "时间是离散的，取值为 $ t = 0, 1 , \\ldots, T $，其中 $ T $ 是有限的。\n",
    "\n",
    "(我们最终会研究 $ T = + \\infty $ 的极限情况)\n",
    "\n",
    "单一商品可以被消费或投资于实物资本。\n",
    "\n",
    "消费品不耐用，如果不立即消费就会完全折旧。\n",
    "\n",
    "资本品是耐用的，但会折旧。\n",
    "\n",
    "我们用 $ C_t $ 表示在时间 $ t $ 的非耐用消费品的总消费量。\n",
    "\n",
    "用 $ K_t $ 表示在时间 $ t $ 的实物资本存量。\n",
    "\n",
    "令 $ \\vec{C} $ = $ \\{C_0,\\dots, C_T\\} $ 且\n",
    "$ \\vec{K} $ = $ \\{K_0,\\dots,K_{T+1}\\} $。"
   ]
  },
  {
   "cell_type": "markdown",
   "id": "9434e736",
   "metadata": {},
   "source": [
    "### 插话：聚合理论\n",
    "\n",
    "我们使用代表性消费者的概念，可以理解如下。\n",
    "\n",
    "有一个单位质量的相同消费者，用 $ \\omega \\in [0,1] $ 索引。\n",
    "\n",
    "消费者 $ \\omega $ 的消费量为 $ c(\\omega) $。\n",
    "\n",
    "总消费量为\n",
    "\n",
    "$$\n",
    "C = \\int_0^1 c(\\omega) d \\omega\n",
    "$$\n",
    "\n",
    "考虑一个福利问题，选择消费者之间的分配 $ \\{c(\\omega)\\} $ 以最大化\n",
    "\\$$ \\int_0^1 u(c(\\omega)) d \\omega $\\$\n",
    "\n",
    "其中 $ u(\\cdot) $ 是一个凹效用函数，满足 $ u' >0, u'' < 0 $，且最大化受约束于\n",
    "\n",
    "\n",
    "<a id='equation-eq-feas200'></a>\n",
    "$$\n",
    "C = \\int_0^1 c(\\omega) d \\omega . \\tag{34.1}\n",
    "$$\n",
    "\n",
    "构建拉格朗日函数 $ L = \\int_0^1 u(c(\\omega)) d \\omega + \\lambda [C - \\int_0^1 c(\\omega) d \\omega ] $。\n",
    "\n",
    "对每个 $ \\omega $ 在积分号下求导，得到一阶必要条件\n",
    "\n",
    "$$\n",
    "u'(c(\\omega)) = \\lambda.\n",
    "$$\n",
    "\n",
    "这些条件意味着 $ c(\\omega) $ 等于一个与 $ \\omega $ 无关的常数 $ c $。\n",
    "\n",
    "要找到 $ c $，使用可行性约束 [(34.1)](#equation-eq-feas200) 可以得出\n",
    "\n",
    "$$\n",
    "c(\\omega) = c = C.\n",
    "$$\n",
    "\n",
    "这种推导过程揭示了代表性消费者消费量为 $ C $ 背后的特殊*聚合理论*。\n",
    "\n",
    "这在宏观经济学中经常出现。\n",
    "\n",
    "我们将在这里以及在这篇讲座 [Cass-Koopmans 竞争均衡](https://python.quantecon.org/cass_koopmans_2.html) 中使用这个聚合理论。"
   ]
  },
  {
   "cell_type": "markdown",
   "id": "44fcf5ce",
   "metadata": {},
   "source": [
    "#### 一个经济体\n",
    "\n",
    "代表性家庭在每个时期$ t $都拥有一单位的劳动力，并且喜欢在每个时期消费商品。\n",
    "\n",
    "代表性家庭在每个时期$ t $非弹性地供应一单位劳动力$ N_t $，因此\n",
    "$ N_t =1 \\text{ 对所有 } t \\in \\{0, 1, \\ldots,  T\\} $。\n",
    "\n",
    "代表性家庭对消费组合的偏好由以下效用函数排序：\n",
    "\n",
    "\n",
    "<a id='equation-utility-functional'></a>\n",
    "$$\n",
    "U(\\vec{C}) = \\sum_{t=0}^{T} \\beta^t \\frac{C_t^{1-\\gamma}}{1-\\gamma} \\tag{34.2}\n",
    "$$\n",
    "\n",
    "其中$ \\beta \\in (0,1) $是贴现因子，$ \\gamma >0 $\n",
    "决定单期效用函数的曲率。\n",
    "\n",
    "较大的$ \\gamma $意味着更大的曲率。\n",
    "\n",
    "注意\n",
    "\n",
    "\n",
    "<a id='equation-utility-oneperiod'></a>\n",
    "$$\n",
    "u(C_t) = \\frac{C_t^{1-\\gamma}}{1-\\gamma} \\tag{34.3}\n",
    "$$\n",
    "\n",
    "满足$ u'>0,u''<0 $。\n",
    "\n",
    "$ u' > 0 $表明消费者偏好更多而不是更少。\n",
    "\n",
    "$ u''< 0 $表明随着$ C_t $的增加，边际效用递减。\n",
    "\n",
    "我们假设$ K_0 > 0 $是一个外生的初始资本存量。\n",
    "存在一个全经济范围的生产函数\n",
    "\n",
    "\n",
    "<a id='equation-production-function'></a>\n",
    "$$\n",
    "F(K_t,N_t) = A K_t^{\\alpha}N_t^{1-\\alpha} \\tag{34.4}\n",
    "$$\n",
    "\n",
    "其中 $ 0 < \\alpha<1 $，$ A > 0 $。\n",
    "\n",
    "一个可行的配置 $ \\vec{C}, \\vec{K} $ 满足\n",
    "\n",
    "\n",
    "<a id='equation-allocation'></a>\n",
    "$$\n",
    "C_t + K_{t+1} \\leq F(K_t,N_t) + (1-\\delta) K_t \\quad \\text{for all } t \\in \\{0, 1, \\ldots,  T\\} \\tag{34.5}\n",
    "$$\n",
    "\n",
    "其中 $ \\delta \\in (0,1) $ 是资本的折旧率。"
   ]
  },
  {
   "cell_type": "markdown",
   "id": "61a55999",
   "metadata": {},
   "source": [
    "## 规划问题\n",
    "\n",
    "规划者选择配置 $ \\{\\vec{C},\\vec{K}\\} $ 以\n",
    "最大化 [(34.2)](#equation-utility-functional)，同时受制于 [(34.5)](#equation-allocation)。\n",
    "\n",
    "令 $ \\vec{\\mu}=\\{\\mu_0,\\dots,\\mu_T\\} $ 为一个\n",
    "非负的**拉格朗日乘数**序列。\n",
    "\n",
    "为了找到最优配置，构建拉格朗日函数\n",
    "\n",
    "\n",
    "<a id='equation-eq-lagrangian201'></a>\n",
    "$$\n",
    "\\mathcal{L}(\\vec{C} ,\\vec{K} ,\\vec{\\mu} ) =\n",
    "\\sum_{t=0}^T \\beta^t\\left\\{ u(C_t)+ \\mu_t\n",
    "\\left(F(K_t,1) + (1-\\delta) K_t- C_t - K_{t+1} \\right)\\right\\} \\tag{34.6}\n",
    "$$\n",
    "\n",
    "并提出以下极小极大问题：\n",
    "\n",
    "\n",
    "<a id='equation-min-max-prob'></a>\n",
    "$$\n",
    "\\min_{\\vec{\\mu}} \\max_{\\vec{C},\\vec{K}} \\mathcal{L}(\\vec{C},\\vec{K},\\vec{\\mu} ) \\tag{34.7}\n",
    "$$\n",
    "\n",
    "- **极值化**意味着\n",
    "  对$ \\vec{C}, \\vec{K} $求最大值，\n",
    "  对$ \\vec{\\mu} $求最小值。  \n",
    "- 我们的问题满足\n",
    "  确保在满足我们即将计算的\n",
    "  一阶必要条件的配置下，\n",
    "  二阶条件得到满足的条件。  \n",
    "\n",
    "\n",
    "在计算一阶条件之前，我们先介绍一些实用的公式。"
   ]
  },
  {
   "cell_type": "markdown",
   "id": "890ede09",
   "metadata": {},
   "source": [
    "### 线性齐次生产函数的有用性质\n",
    "\n",
    "以下技术细节将对我们有帮助。\n",
    "\n",
    "注意到\n",
    "\n",
    "$$\n",
    "F(K_t,N_t) = A K_t^\\alpha N_t^{1-\\alpha} = N_t A\\left(\\frac{K_t}{N_t}\\right)^\\alpha\n",
    "$$\n",
    "\n",
    "定义**人均产出生产函数**\n",
    "\n",
    "$$\n",
    "\\frac{F(K_t,N_t)}{N_t} \\equiv f\\left(\\frac{K_t}{N_t}\\right) = A\\left(\\frac{K_t}{N_t}\\right)^\\alpha\n",
    "$$\n",
    "\n",
    "其参数是**人均资本**。\n",
    "\n",
    "回顾以下关于资本边际产出的计算是很有用的\n",
    "\n",
    "\n",
    "<a id='equation-useful-calc1'></a>\n",
    "$$\n",
    "\\begin{aligned}\n",
    "\\frac{\\partial F(K_t,N_t)}{\\partial K_t}\n",
    "& =\n",
    "\\frac{\\partial N_t f\\left( \\frac{K_t}{N_t}\\right)}{\\partial K_t}\n",
    "\\\\ &=\n",
    "N_t f'\\left(\\frac{K_t}{N_t}\\right)\\frac{1}{N_t} \\quad \\text{(链式法则)}\n",
    "\\\\ &=\n",
    "f'\\left.\\left(\\frac{K_t}{N_t}\\right)\\right|_{N_t=1}\n",
    "\\\\ &= f'(K_t)\n",
    "\\end{aligned} \\tag{34.8}\n",
    "$$\n",
    "\n",
    "以及劳动力的边际产出\n",
    "\n",
    "$$\n",
    "\\begin{aligned}\n",
    "\\frac{\\partial F(K_t,N_t)}{\\partial N_t}\n",
    "&=\n",
    "\\frac{\\partial N_t f\\left( \\frac{K_t}{N_t}\\right)}{\\partial N_t} \\quad \\text{(乘积法则)}\n",
    "\\\\ &=\n",
    "f\\left(\\frac{K_t}{N_t}\\right){+} N_t f'\\left(\\frac{K_t}{N_t}\\right) \\frac{-K_t}{N_t^2} \\quad \\text{(链式法则)}\n",
    "\\\\ &=\n",
    "f\\left(\\frac{K_t}{N_t}\\right){-}\\frac{K_t}{N_t}f'\\left.\\left(\\frac{K_t}{N_t}\\right)\\right|_{N_t=1}\n",
    "\\\\ &=\n",
    "f(K_t) - f'(K_t) K_t\n",
    "\\end{aligned}\n",
    "$$\n",
    "\n",
    "(这里我们使用了对所有 $ t $ 都有 $ N_t = 1 $ 的条件，因此 $ K_t = \\frac{K_t}{N_t} $。)"
   ]
  },
  {
   "cell_type": "markdown",
   "id": "6f931bc8",
   "metadata": {},
   "source": [
    "### 一阶必要条件\n",
    "\n",
    "我们现在计算拉格朗日函数[(34.6)](#equation-eq-lagrangian201)的**一阶必要条件**：\n",
    "\n",
    "\n",
    "<a id='equation-constraint1'></a>\n",
    "$$\n",
    "C_t: \\qquad u'(C_t)-\\mu_t=0 \\qquad \\text{for all} \\quad t= 0,1,\\dots,T \\tag{34.9}\n",
    "$$\n",
    "\n",
    "\n",
    "<a id='equation-constraint2'></a>\n",
    "$$\n",
    "K_t: \\qquad \\beta \\mu_t\\left[(1-\\delta)+f'(K_t)\\right] - \\mu_{t-1}=0 \\qquad \\text{for all } \\quad t=1,2,\\dots,T \\tag{34.10}\n",
    "$$\n",
    "\n",
    "\n",
    "<a id='equation-constraint3'></a>\n",
    "$$\n",
    "\\mu_t:\\qquad F(K_t,1)+ (1-\\delta) K_t  - C_t - K_{t+1}=0 \\qquad \\text{for all } \\quad t=0,1,\\dots,T \\tag{34.11}\n",
    "$$\n",
    "\n",
    "\n",
    "<a id='equation-constraint4'></a>\n",
    "$$\n",
    "K_{T+1}: \\qquad -\\mu_T \\leq 0, \\ \\leq 0 \\text{ if } K_{T+1}=0; \\ =0 \\text{ if } K_{T+1}>0 \\tag{34.12}\n",
    "$$\n",
    "\n",
    "在计算[(34.10)](#equation-constraint2)时，我们注意到$ K_t $同时出现在时间$ t $和时间$ t-1 $的可行性约束[(34.5)](#equation-allocation)中。\n",
    "\n",
    "限制条件[(34.12)](#equation-constraint4)来自对$ K_{T+1} $求导，并应用以下**卡鲁什-库恩-塔克条件**（KKT）\n",
    "(参见[Karush-Kuhn-Tucker条件](https://en.wikipedia.org/wiki/Karush-Kuhn-Tucker_conditions)):\n",
    "\n",
    "\n",
    "<a id='equation-kkt'></a>\n",
    "$$\n",
    "\\mu_T K_{T+1}=0 \\tag{34.13}\n",
    "$$\n",
    "\n",
    "将[(34.9)](#equation-constraint1)和[(34.10)](#equation-constraint2)结合得到\n",
    "\n",
    "$$\n",
    "\\beta u'\\left(C_t\\right)\\left[(1-\\delta)+f'\\left(K_t\\right)\\right]-u'\\left(C_{t-1}\\right)=0\n",
    "\\quad \\text{ for all } t=1,2,\\dots, T+1\n",
    "$$\n",
    "\n",
    "可以重新整理为\n",
    "\n",
    "\n",
    "<a id='equation-l12'></a>\n",
    "$$\n",
    "\\beta u'\\left(C_{t+1}\\right)\\left[(1-\\delta)+f'\\left(K_{t+1}\\right)\\right]=\n",
    "u'\\left(C_{t}\\right) \\quad \\text{ for all } t=0,1,\\dots, T \\tag{34.14}\n",
    "$$\n",
    "\n",
    "对上述等式两边应用消费的边际效用的反函数得到\n",
    "\n",
    "$$\n",
    "C_{t+1} =u'^{-1}\\left(\\left(\\frac{\\beta}{u'(C_t)}[f'(K_{t+1}) +(1-\\delta)]\\right)^{-1}\\right)\n",
    "$$\n",
    "\n",
    "对于我们的效用函数[(34.3)](#equation-utility-oneperiod)，这就变成了消费的**欧拉方程**\n",
    "\n",
    "\n",
    "<a id='equation-eq-consn-euler'></a>\n",
    "$$\n",
    "\\begin{aligned} C_{t+1} =\\left(\\beta C_t^{\\gamma}[f'(K_{t+1}) +\n",
    "(1-\\delta)]\\right)^{1/\\gamma} \n",
    "%\\notag\\\\= C_t\\left(\\beta [f'(K_{t+1}) +\n",
    "%(1-\\delta)]\\right)^{1/\\gamma} \n",
    "\\end{aligned} \\tag{34.15}\n",
    "$$\n",
    "\n",
    "我们可以将其与可行性约束[(34.5)](#equation-allocation)结合得到\n",
    "\n",
    "\n",
    "<a id='equation-eq-systemdynamics'></a>\n",
    "$$\n",
    "\\begin{aligned}\n",
    "C_{t+1} & = C_t\\left(\\beta [f'(F(K_t,1)+ (1-\\delta) K_t  - C_t) +\n",
    "(1-\\delta)]\\right)^{1/\\gamma}  \\\\\n",
    "K_{t+1}  & = F(K_t,1)+ (1-\\delta) K_t  - C_t .\n",
    "\\end{aligned} \\tag{34.16}\n",
    "$$\n",
    "\n",
    "这是一对非线性一阶差分方程，将$ C_t, K_t $映射到$ C_{t+1}, K_{t+1} $，最优序列$ \\vec C , \\vec K $必须满足这些方程。\n",
    "\n",
    "它还必须满足初始条件:给定$ K_0 $且$ K_{T+1} = 0 $。\n",
    "\n",
    "下面我们定义一个`jitclass`来存储定义我们经济的参数和函数。"
   ]
  },
  {
   "cell_type": "code",
   "execution_count": null,
   "id": "66d6fdbf",
   "metadata": {
    "hide-output": false
   },
   "outputs": [],
   "source": [
    "planning_data = [\n",
    "    ('γ', float64),    # 相对风险厌恶系数\n",
    "    ('β', float64),    # 贴现因子\n",
    "    ('δ', float64),    # 资本折旧率\n",
    "    ('α', float64),    # 人均资本回报率\n",
    "    ('A', float64)     # 技术水平\n",
    "]"
   ]
  },
  {
   "cell_type": "code",
   "execution_count": null,
   "id": "7786535f",
   "metadata": {
    "hide-output": false
   },
   "outputs": [],
   "source": [
    "@jitclass(planning_data)\n",
    "class PlanningProblem():\n",
    "\n",
    "    def __init__(self, γ=2, β=0.95, δ=0.02, α=0.33, A=1):\n",
    "\n",
    "        self.γ, self.β = γ, β\n",
    "        self.δ, self.α, self.A = δ, α, A\n",
    "\n",
    "    def u(self, c):\n",
    "        '''\n",
    "        效用函数\n",
    "        注意：如果你有一个难以手动求解的效用函数\n",
    "        你可以使用自动或符号微分\n",
    "        参见 https://github.com/HIPS/autograd\n",
    "        '''\n",
    "        γ = self.γ\n",
    "\n",
    "        return c ** (1 - γ) / (1 - γ) if γ!= 1 else np.log(c)\n",
    "\n",
    "    def u_prime(self, c):\n",
    "        '效用函数的导数'\n",
    "        γ = self.γ\n",
    "\n",
    "        return c ** (-γ)\n",
    "\n",
    "    def u_prime_inv(self, c):\n",
    "        '效用函数导数的逆函数'\n",
    "        γ = self.γ\n",
    "\n",
    "        return c ** (-1 / γ)\n",
    "\n",
    "    def f(self, k):\n",
    "        '生产函数'\n",
    "        α, A = self.α, self.A\n",
    "\n",
    "        return A * k ** α\n",
    "\n",
    "    def f_prime(self, k):\n",
    "        '生产函数的导数'\n",
    "        α, A = self.α, self.A\n",
    "\n",
    "        return α * A * k ** (α - 1)\n",
    "\n",
    "    def f_prime_inv(self, k):\n",
    "        '生产函数导数的逆函数'\n",
    "        α, A = self.α, self.A\n",
    "\n",
    "        return (k / (A * α)) ** (1 / (α - 1))\n",
    "\n",
    "    def next_k_c(self, k, c):\n",
    "        ''''\n",
    "        给定当前资本Kt和任意可行的\n",
    "        消费选择Ct，通过状态转移定律计算Kt+1\n",
    "        并通过欧拉方程计算最优Ct+1。\n",
    "        '''\n",
    "        β, δ = self.β, self.δ\n",
    "        u_prime, u_prime_inv = self.u_prime, self.u_prime_inv\n",
    "        f, f_prime = self.f, self.f_prime\n",
    "\n",
    "        k_next = f(k) + (1 - δ) * k - c\n",
    "        c_next = u_prime_inv(u_prime(c) / (β * (f_prime(k_next) + (1 - δ))))\n",
    "\n",
    "        return k_next, c_next"
   ]
  },
  {
   "cell_type": "markdown",
   "id": "52d4663b",
   "metadata": {},
   "source": [
    "我们可以用Python代码构建一个经济模型："
   ]
  },
  {
   "cell_type": "code",
   "execution_count": null,
   "id": "63cc9dc7",
   "metadata": {
    "hide-output": false
   },
   "outputs": [],
   "source": [
    "pp = PlanningProblem()"
   ]
  },
  {
   "cell_type": "markdown",
   "id": "124234a4",
   "metadata": {},
   "source": [
    "## 打靶算法\n",
    "\n",
    "我们使用**打靶法**来计算最优配置\n",
    "$ \\vec{C}, \\vec{K} $ 和相关的拉格朗日乘数序列\n",
    "$ \\vec{\\mu} $。\n",
    "\n",
    "规划问题的一阶必要条件\n",
    "[(34.9)](#equation-constraint1), [(34.10)](#equation-constraint2), 和\n",
    "[(34.11)](#equation-constraint3) 构成了一个具有两个边界条件的**差分方程**系统：\n",
    "\n",
    "- $ K_0 $ 是资本的给定**初始条件**  \n",
    "- $ K_{T+1} =0 $ 是资本的**终端条件**，这是我们从\n",
    "  $ K_{T+1} $ 的一阶必要条件KKT条件 [(34.13)](#equation-kkt) 推导出来的  \n",
    "\n",
    "\n",
    "我们没有拉格朗日乘数 $ \\mu_0 $ 的初始条件。\n",
    "\n",
    "如果我们有初始条件，我们的工作就会很简单：\n",
    "\n",
    "- 给定 $ \\mu_0 $ 和 $ k_0 $，我们可以从方程 [(34.9)](#equation-constraint1) 计算出 $ c_0 $，\n",
    "  然后从方程 [(34.11)](#equation-constraint3) 计算出 $ k_1 $，从方程\n",
    "  [(34.10)](#equation-constraint2) 计算出 $ \\mu_1 $。  \n",
    "- 我们可以用这种方式继续计算\n",
    "  $ \\vec{C}, \\vec{K}, \\vec{\\mu} $ 的其余元素。\n",
    "  然而，我们无法确保 Kuhn-Tucker 条件 [(34.13)](#equation-kkt) 会得到满足。  \n",
    "\n",
    "\n",
    "此外，我们没有 $ \\mu_0 $ 的初始条件。\n",
    "\n",
    "所以这种方法行不通。\n",
    "\n",
    "实际上，我们的任务之一就是计算 $ \\mu_0 $ 的**最优**值。\n",
    "\n",
    "为了计算 $ \\mu_0 $ 和其他我们想要的对象，对上述程序做一个简单的修改就可以了。\n",
    "\n",
    "这被称为**射击算法**。\n",
    "\n",
    "这是一个**猜测和验证**算法的实例，包含以下步骤：\n",
    "\n",
    "- 猜测一个初始拉格朗日乘数 $ \\mu_0 $。  \n",
    "- 应用上述描述的**简单算法**。  \n",
    "- 计算 $ K_{T+1} $ 并检查它是否等于零。  \n",
    "- 如果 $ K_{T+1} =0 $，我们就解决了这个问题。  \n",
    "- 如果 $ K_{T+1} > 0 $，降低 $ \\mu_0 $ 并重试。  \n",
    "- 如果 $ K_{T+1} < 0 $，提高 $ \\mu_0 $ 并重试。  \n",
    "\n",
    "\n",
    "以下 Python 代码为规划问题实现了射击算法。\n",
    "\n",
    "（实际上，我们稍微修改了前面的算法，从一个猜测开始\n",
    "在以下代码中使用 $ c_0 $ 而不是 $ \\mu_0 $。"
   ]
  },
  {
   "cell_type": "code",
   "execution_count": null,
   "id": "71ee8742",
   "metadata": {
    "hide-output": false
   },
   "outputs": [],
   "source": [
    "@jit\n",
    "def shooting(pp, c0, k0, T=10):\n",
    "    '''\n",
    "    给定资本的初始条件k0和消费的初始猜测值c0，\n",
    "    使用状态转移方程和欧拉方程计算T期内c和k的完整路径。\n",
    "    '''\n",
    "    if c0 > pp.f(k0) + (1 - pp.δ) * k0:\n",
    "        print(\"初始消费不可行\")\n",
    "\n",
    "        return None\n",
    "\n",
    "    # 初始化c和k的向量\n",
    "    c_vec = np.empty(T+1)\n",
    "    k_vec = np.empty(T+2)\n",
    "\n",
    "    c_vec[0] = c0\n",
    "    k_vec[0] = k0\n",
    "\n",
    "    for t in range(T):\n",
    "        k_vec[t+1], c_vec[t+1] = pp.next_k_c(k_vec[t], c_vec[t])\n",
    "\n",
    "    k_vec[T+1] = pp.f(k_vec[T]) + (1 - pp.δ) * k_vec[T] - c_vec[T]\n",
    "\n",
    "    return c_vec, k_vec"
   ]
  },
  {
   "cell_type": "markdown",
   "id": "870b36ab",
   "metadata": {},
   "source": [
    "我们先从一个错误的猜测开始。"
   ]
  },
  {
   "cell_type": "code",
   "execution_count": null,
   "id": "dd7f7877",
   "metadata": {
    "hide-output": false
   },
   "outputs": [],
   "source": [
    "paths = shooting(pp, 0.2, 0.3, T=10)"
   ]
  },
  {
   "cell_type": "code",
   "execution_count": null,
   "id": "61db00cf",
   "metadata": {
    "hide-output": false
   },
   "outputs": [],
   "source": [
    "fig, axs = plt.subplots(1, 2, figsize=(14, 5))\n",
    "\n",
    "colors = ['blue', 'red']\n",
    "titles = ['消费', '资本']\n",
    "ylabels = ['$c_t$', '$k_t$']\n",
    "\n",
    "T = paths[0].size - 1\n",
    "for i in range(2):\n",
    "    axs[i].plot(paths[i], c=colors[i])\n",
    "    axs[i].set(xlabel='t', ylabel=ylabels[i], title=titles[i])\n",
    "\n",
    "axs[1].scatter(T+1, 0, s=80)\n",
    "axs[1].axvline(T+1, color='k', ls='--', lw=1)\n",
    "\n",
    "plt.show()"
   ]
  },
  {
   "cell_type": "markdown",
   "id": "ff41b989",
   "metadata": {},
   "source": [
    "显然，我们对$ \\mu_0 $的初始猜测值太高了，所以初始消费太低。\n",
    "\n",
    "我们知道这一点是因为我们超过了目标$ K_{T+1}=0 $。\n",
    "\n",
    "现在我们用一个搜索合适$ \\mu_0 $的算法来自动化这个过程，当我们达到目标$ K_{t+1} = 0 $时停止。\n",
    "\n",
    "我们使用**二分法**。\n",
    "\n",
    "我们对$ C_0 $做一个初始猜测（我们可以消除$ \\mu_0 $，因为$ C_0 $是$ \\mu_0 $的精确函数）。\n",
    "\n",
    "我们知道$ C_0 $的最小值只能是$ 0 $，最大值是初始产出$ f(K_0) $。\n",
    "\n",
    "猜测$ C_0 $并向前推算到$ T+1 $。\n",
    "\n",
    "如果$ K_{T+1}>0 $，我们将其作为$ C_0 $的新**下**界。\n",
    "\n",
    "如果$ K_{T+1}<0 $，我们将其作为新的**上**界。\n",
    "\n",
    "对$ C_0 $做一个新的猜测，取新的上下界的中间值。\n",
    "\n",
    "再次向前推算，重复这些步骤直到收敛。\n",
    "\n",
    "当$ K_{T+1} $足够接近$ 0 $（即在误差容限范围内）时，我们停止。"
   ]
  },
  {
   "cell_type": "code",
   "execution_count": null,
   "id": "ebb16181",
   "metadata": {
    "hide-output": false
   },
   "outputs": [],
   "source": [
    "@jit\n",
    "def bisection(pp, c0, k0, T=10, tol=1e-4, max_iter=500, k_ter=0, verbose=True):\n",
    "\n",
    "    # initial boundaries for guess c0\n",
    "    c0_upper = pp.f(k0)\n",
    "    c0_lower = 0\n",
    "\n",
    "    i = 0\n",
    "    while True:\n",
    "        c_vec, k_vec = shooting(pp, c0, k0, T)\n",
    "        error = k_vec[-1] - k_ter\n",
    "\n",
    "        # check if the terminal condition is satisfied\n",
    "        if np.abs(error) < tol:\n",
    "            if verbose:\n",
    "                print('Converged successfully on iteration ', i+1)\n",
    "            return c_vec, k_vec\n",
    "\n",
    "        i += 1\n",
    "        if i == max_iter:\n",
    "            if verbose:\n",
    "                print('Convergence failed.')\n",
    "            return c_vec, k_vec\n",
    "\n",
    "        # if iteration continues, updates boundaries and guess of c0\n",
    "        if error > 0:\n",
    "            c0_lower = c0\n",
    "        else:\n",
    "            c0_upper = c0\n",
    "\n",
    "        c0 = (c0_lower + c0_upper) / 2"
   ]
  },
  {
   "cell_type": "code",
   "execution_count": null,
   "id": "907a34ac",
   "metadata": {
    "hide-output": false
   },
   "outputs": [],
   "source": [
    "def plot_paths(pp, c0, k0, T_arr, k_ter=0, k_ss=None, axs=None):\n",
    "\n",
    "    if axs is None:\n",
    "        fix, axs = plt.subplots(1, 3, figsize=(16, 4))\n",
    "    ylabels = ['$c_t$', '$k_t$', '$\\mu_t$']\n",
    "    titles = ['消费', '资本', '拉格朗日乘数']\n",
    "\n",
    "    c_paths = []\n",
    "    k_paths = []\n",
    "    for T in T_arr:\n",
    "        c_vec, k_vec = bisection(pp, c0, k0, T, k_ter=k_ter, verbose=False)\n",
    "        c_paths.append(c_vec)\n",
    "        k_paths.append(k_vec)\n",
    "\n",
    "        μ_vec = pp.u_prime(c_vec)\n",
    "        paths = [c_vec, k_vec, μ_vec]\n",
    "\n",
    "        for i in range(3):\n",
    "            axs[i].plot(paths[i])\n",
    "            axs[i].set(xlabel='t', ylabel=ylabels[i], title=titles[i])\n",
    "\n",
    "        # 绘制资本的稳态值\n",
    "        if k_ss is not None:\n",
    "            axs[1].axhline(k_ss, c='k', ls='--', lw=1)\n",
    "\n",
    "        axs[1].axvline(T+1, c='k', ls='--', lw=1)\n",
    "        axs[1].scatter(T+1, paths[1][-1], s=80)\n",
    "\n",
    "    return c_paths, k_paths"
   ]
  },
  {
   "cell_type": "markdown",
   "id": "9a15030f",
   "metadata": {},
   "source": [
    "现在我们可以求解模型并绘制消费、资本和拉格朗日乘数的路径。"
   ]
  },
  {
   "cell_type": "code",
   "execution_count": null,
   "id": "f488a20c",
   "metadata": {
    "hide-output": false
   },
   "outputs": [],
   "source": [
    "plot_paths(pp, 0.3, 0.3, [10]);"
   ]
  },
  {
   "cell_type": "markdown",
   "id": "5c45c8c9",
   "metadata": {},
   "source": [
    "## 将初始资本设定为稳态资本\n",
    "\n",
    "当 $ T \\rightarrow +\\infty $ 时，最优配置收敛到\n",
    "$ C_t $ 和 $ K_t $ 的稳态值。\n",
    "\n",
    "将 $ K_0 $ 设定为 $ \\lim_{T \\rightarrow + \\infty } K_t $ 是很有启发性的，我们称之为稳态资本。\n",
    "\n",
    "在稳态下，对于所有很大的 $ t $ 都有 $ K_{t+1} = K_t=\\bar{K} $。\n",
    "\n",
    "在 $ \\bar{K} $ 处评估可行性约束 [(34.5)](#equation-allocation) 得到\n",
    "\n",
    "\n",
    "<a id='equation-feasibility-constraint'></a>\n",
    "$$\n",
    "f(\\bar{K})-\\delta \\bar{K} = \\bar{C} \\tag{34.17}\n",
    "$$\n",
    "\n",
    "将所有 $ t $ 的 $ K_t = \\bar K $ 和 $ C_t=\\bar C $\n",
    "代入 [(34.14)](#equation-l12) 得到\n",
    "\n",
    "$$\n",
    "1=\\beta \\frac{u'(\\bar{C})}{u'(\\bar{C})}[f'(\\bar{K})+(1-\\delta)]\n",
    "$$\n",
    "\n",
    "定义 $ \\beta = \\frac{1}{1+\\rho} $，并消去得到\n",
    "\n",
    "$$\n",
    "1+\\rho = 1[f'(\\bar{K}) + (1-\\delta)]\n",
    "$$\n",
    "\n",
    "化简得到\n",
    "\n",
    "$$\n",
    "f'(\\bar{K}) = \\rho +\\delta\n",
    "$$\n",
    "\n",
    "和\n",
    "\n",
    "$$\n",
    "\\bar{K} = f'^{-1}(\\rho+\\delta)\n",
    "$$\n",
    "\n",
    "对于生产函数 [(34.4)](#equation-production-function)，这变为\n",
    "\n",
    "$$\n",
    "\\alpha \\bar{K}^{\\alpha-1} = \\rho + \\delta\n",
    "$$\n",
    "\n",
    "例如，在设定 $ \\alpha= .33 $，\n",
    "$ \\rho = 1/\\beta-1 =1/(19/20)-1 = 20/19-19/19 = 1/19 $，$ \\delta = 1/50 $ 后，\n",
    "我们得到\n",
    "\n",
    "$$\n",
    "\\bar{K} = \\left(\\frac{\\frac{33}{100}}{\\frac{1}{50}+\\frac{1}{19}}\\right)^{\\frac{67}{100}} \\approx 9.57583\n",
    "$$\n",
    "\n",
    "让我们用Python验证这个结果，然后使用这个稳态值\n",
    "$ \\bar K $ 作为我们的初始资本存量 $ K_0 $。"
   ]
  },
  {
   "cell_type": "code",
   "execution_count": null,
   "id": "a2f3f948",
   "metadata": {
    "hide-output": false
   },
   "outputs": [],
   "source": [
    "ρ = 1 / pp.β - 1\n",
    "k_ss = pp.f_prime_inv(ρ+pp.δ)\n",
    "\n",
    "print(f'steady state for capital is: {k_ss}')"
   ]
  },
  {
   "cell_type": "markdown",
   "id": "2c403645",
   "metadata": {},
   "source": [
    "现在我们绘制图形"
   ]
  },
  {
   "cell_type": "code",
   "execution_count": null,
   "id": "35e67914",
   "metadata": {
    "hide-output": false
   },
   "outputs": [],
   "source": [
    "plot_paths(pp, 0.3, k_ss, [150], k_ss=k_ss);"
   ]
  },
  {
   "cell_type": "markdown",
   "id": "0a210e17",
   "metadata": {},
   "source": [
    "显然，当 $ T $ 值较大时，$ K_t $ 会一直保持在接近 $ K_0 $ 的水平，直到 $ t $ 接近 $ T $ 时才会发生变化。\n",
    "\n",
    "让我们看看当我们将 $ K_0 $ 设置为低于 $ \\bar K $ 时，规划者会做什么。"
   ]
  },
  {
   "cell_type": "code",
   "execution_count": null,
   "id": "709f2dcd",
   "metadata": {
    "hide-output": false
   },
   "outputs": [],
   "source": [
    "plot_paths(pp, 0.3, k_ss/3, [150], k_ss=k_ss);"
   ]
  },
  {
   "cell_type": "markdown",
   "id": "c0cbef48",
   "metadata": {},
   "source": [
    "注意观察规划者如何将资本推向稳态，在那里停留一段时间，然后当 $ t $ 接近 $ T $ 时，将 $ K_t $ 推向终值 $ K_{T+1} =0 $。\n",
    "\n",
    "下面的图表比较了在不同的 $ T $ 值下的最优结果。"
   ]
  },
  {
   "cell_type": "code",
   "execution_count": null,
   "id": "ca011edd",
   "metadata": {
    "hide-output": false
   },
   "outputs": [],
   "source": [
    "plot_paths(pp, 0.3, k_ss/3, [150, 75, 50, 25], k_ss=k_ss);"
   ]
  },
  {
   "cell_type": "markdown",
   "id": "990a34fc",
   "metadata": {},
   "source": [
    "## 收费公路性质\n",
    "\n",
    "以下计算表明，当 $ T $ 非常大时，最优资本存量在大部分时间里都会保持在接近其稳态值的水平。"
   ]
  },
  {
   "cell_type": "code",
   "execution_count": null,
   "id": "0c2f9093",
   "metadata": {
    "hide-output": false
   },
   "outputs": [],
   "source": [
    "plot_paths(pp, 0.3, k_ss/3, [250, 150, 50, 25], k_ss=k_ss);"
   ]
  },
  {
   "cell_type": "markdown",
   "id": "0b3c034e",
   "metadata": {},
   "source": [
    "在上图中，不同的颜色对应着不同的规划期限 $ T $。\n",
    "\n",
    "注意，随着规划期限的增加，规划者会让 $ K_t $ 在更长时间内保持接近稳态值 $ \\bar K $。\n",
    "\n",
    "这种模式反映了稳态的**转pike**特性。\n",
    "\n",
    "对规划者来说，一个经验法则是：\n",
    "\n",
    "- 从 $ K_0 $ 开始，将 $ K_t $ 推向\n",
    "  稳态，并在接近时间 $ T $ 之前保持在稳态附近。  \n",
    "\n",
    "\n",
    "规划者通过调整储蓄率 $ \\frac{f(K_t) - C_t}{f(K_t)} $ 来实现这一目标。\n",
    "\n",
    "让我们计算并绘制储蓄率。"
   ]
  },
  {
   "cell_type": "code",
   "execution_count": null,
   "id": "57477a1e",
   "metadata": {
    "hide-output": false
   },
   "outputs": [],
   "source": [
    "@jit\n",
    "def saving_rate(pp, c_path, k_path):\n",
    "    '给定 c 和 k 的路径，计算储蓄率的路径。'\n",
    "    production = pp.f(k_path[:-1])\n",
    "\n",
    "    return (production - c_path) / production"
   ]
  },
  {
   "cell_type": "code",
   "execution_count": null,
   "id": "ddc54fc9",
   "metadata": {
    "hide-output": false
   },
   "outputs": [],
   "source": [
    "def plot_saving_rate(pp, c0, k0, T_arr, k_ter=0, k_ss=None, s_ss=None):\n",
    "\n",
    "    fix, axs = plt.subplots(2, 2, figsize=(12, 9))\n",
    "\n",
    "    c_paths, k_paths = plot_paths(pp, c0, k0, T_arr, k_ter=k_ter, k_ss=k_ss, axs=axs.flatten())\n",
    "\n",
    "    for i, T in enumerate(T_arr):\n",
    "        s_path = saving_rate(pp, c_paths[i], k_paths[i])\n",
    "        axs[1, 1].plot(s_path)\n",
    "\n",
    "    axs[1, 1].set(xlabel='t', ylabel='$s_t$', title='储蓄率')\n",
    "\n",
    "    if s_ss is not None:\n",
    "        axs[1, 1].hlines(s_ss, 0, np.max(T_arr), linestyle='--')"
   ]
  },
  {
   "cell_type": "code",
   "execution_count": null,
   "id": "9fdf3b45",
   "metadata": {
    "hide-output": false
   },
   "outputs": [],
   "source": [
    "plot_saving_rate(pp, 0.3, k_ss/3, [250, 150, 75, 50], k_ss=k_ss)"
   ]
  },
  {
   "cell_type": "markdown",
   "id": "259dad89",
   "metadata": {},
   "source": [
    "## 极限无限期经济\n",
    "\n",
    "我们要设定 $ T = +\\infty $。\n",
    "\n",
    "合适的做法是将终端条件[(34.12)](#equation-constraint4)替换为\n",
    "\n",
    "$$\n",
    "\\lim_{T \\rightarrow +\\infty} \\beta^T u'(C_T) K_{T+1} = 0 ,\n",
    "$$\n",
    "\n",
    "这个条件将被收敛到最优稳态的路径所满足。\n",
    "\n",
    "我们可以通过从任意初始值$ K_0 $开始，向一个较大但有限的$ T+1 $时期的最优稳态$ K $推进来近似最优路径。\n",
    "\n",
    "在下面的代码中，我们对一个较大的$ T $进行这样的计算，并绘制消费、资本和储蓄率。\n",
    "\n",
    "我们知道在稳态时储蓄率是恒定的，且$ \\bar s= \\frac{f(\\bar K)-\\bar C}{f(\\bar K)} $。\n",
    "\n",
    "根据[(34.17)](#equation-feasibility-constraint)，稳态储蓄率等于\n",
    "\n",
    "$$\n",
    "\\bar s =\\frac{ \\delta \\bar{K}}{f(\\bar K)}\n",
    "$$\n",
    "\n",
    "稳态储蓄量$ \\bar S = \\bar s f(\\bar K) $是每期用于抵消资本折旧所需的数量。\n",
    "我们首先研究从稳态水平以下开始的最优资本路径。"
   ]
  },
  {
   "cell_type": "code",
   "execution_count": null,
   "id": "6bed6fa2",
   "metadata": {
    "hide-output": false
   },
   "outputs": [],
   "source": [
    "# 稳态储蓄率\n",
    "s_ss = pp.δ * k_ss / pp.f(k_ss)\n",
    "\n",
    "plot_saving_rate(pp, 0.3, k_ss/3, [130], k_ter=k_ss, k_ss=k_ss, s_ss=s_ss)"
   ]
  },
  {
   "cell_type": "markdown",
   "id": "de543f42",
   "metadata": {},
   "source": [
    "由于$ K_0<\\bar K $，所以$ f'(K_0)>\\rho +\\delta $。\n",
    "\n",
    "规划者选择一个高于稳态储蓄率的正储蓄率。\n",
    "\n",
    "注意$ f''(K)<0 $，因此随着$ K $的增加，$ f'(K) $下降。\n",
    "\n",
    "规划者逐渐降低储蓄率，直到达到$ f'(K)=\\rho +\\delta $的稳态。"
   ]
  },
  {
   "cell_type": "markdown",
   "id": "91155720",
   "metadata": {},
   "source": [
    "## 稳定流形和相图\n",
    "\n",
    "现在我们描述一个经典图表，用来描述最优的$ (K_{t+1}, C_t) $路径。\n",
    "\n",
    "图表的纵轴是$ K $，横轴是$ C $。\n",
    "\n",
    "对于任意固定的$ K $，消费欧拉方程[(34.15)](#equation-eq-consn-euler)的固定点$ C $满足\n",
    "\n",
    "$$\n",
    "C=C\\left(\\beta\\left[f^{\\prime}\\left(f\\left(K\\right)+\\left(1-\\delta\\right)K-C\\right)+\\left(1-\\delta\\right)\\right]\\right)^{1/\\gamma}\n",
    "$$\n",
    "\n",
    "这意味着\n",
    "\n",
    "\n",
    "<a id='equation-eq-tildec'></a>\n",
    "$$\n",
    "\\begin{aligned}\n",
    "C &=f\\left(K\\right)+\\left(1-\\delta\\right)K-f^{\\prime-1}\\left(\\frac{1}{\\beta}-\\left(1-\\delta\\right)\\right)  \\\\\n",
    " &\\equiv \\tilde{C} \\left(K\\right)\n",
    "\\end{aligned} \\tag{34.18}\n",
    "$$\n",
    "\n",
    "正固定点 $ C = \\tilde C(K) $ 仅在 $ f\\left(K\\right)+\\left(1-\\delta\\right)K-f^{\\prime-1}\\left(\\frac{1}{\\beta}-\\left(1-\\delta\\right)\\right)>0 $ 时存在"
   ]
  },
  {
   "cell_type": "code",
   "execution_count": null,
   "id": "b86d4e58",
   "metadata": {
    "hide-output": false
   },
   "outputs": [],
   "source": [
    "@jit\n",
    "def C_tilde(K, pp):\n",
    "\n",
    "    return pp.f(K) + (1 - pp.δ) * K - pp.f_prime_inv(1 / pp.β - 1 + pp.δ)"
   ]
  },
  {
   "cell_type": "markdown",
   "id": "7c865c2a",
   "metadata": {},
   "source": [
    "接下来注意,给定一个时不变的任意 $ C $,可行性条件 [(34.5)](#equation-allocation) 的不动点 $ K $ 满足以下方程\n",
    "\n",
    "$$\n",
    "K = f(K) + (1 - \\delta K) - C .\n",
    "$$\n",
    "\n",
    "上述方程的不动点可以用函数表示为\n",
    "\n",
    "\n",
    "<a id='equation-eq-tildek'></a>\n",
    "$$\n",
    "K = \\tilde K(C) \\tag{34.19}\n",
    "$$"
   ]
  },
  {
   "cell_type": "code",
   "execution_count": null,
   "id": "16578dd5",
   "metadata": {
    "hide-output": false
   },
   "outputs": [],
   "source": [
    "@jit\n",
    "def K_diff(K, C, pp):\n",
    "    return pp.f(K) - pp.δ * K - C\n",
    "\n",
    "@jit\n",
    "def K_tilde(C, pp):\n",
    "\n",
    "    res = brentq(K_diff, 1e-6, 100, args=(C, pp))\n",
    "\n",
    "    return res.root"
   ]
  },
  {
   "cell_type": "markdown",
   "id": "8d5fbe4c",
   "metadata": {},
   "source": [
    "稳态 $ \\left(K_s, C_s\\right) $ 是满足方程 [(34.18)](#equation-eq-tildec) 和 [(34.19)](#equation-eq-tildek) 的一对 $ (K,C) $ 值。\n",
    "\n",
    "它是我们将在下面图 Fig. 34.1 中绘制的两条曲线 $ \\tilde{C} $ 和 $ \\tilde{K} $ 的交点。\n",
    "\n",
    "我们可以通过求解方程 $ K_s = \\tilde{K}\\left(\\tilde{C}\\left(K_s\\right)\\right) $ 来计算 $ K_s $"
   ]
  },
  {
   "cell_type": "code",
   "execution_count": null,
   "id": "59eb648a",
   "metadata": {
    "hide-output": false
   },
   "outputs": [],
   "source": [
    "@jit\n",
    "def K_tilde_diff(K, pp):\n",
    "\n",
    "    K_out = K_tilde(C_tilde(K, pp), pp)\n",
    "\n",
    "    return K - K_out"
   ]
  },
  {
   "cell_type": "code",
   "execution_count": null,
   "id": "22265f96",
   "metadata": {
    "hide-output": false
   },
   "outputs": [],
   "source": [
    "res = brentq(K_tilde_diff, 8, 10, args=(pp,))\n",
    "\n",
    "Ks = res.root\n",
    "Cs = C_tilde(Ks, pp)\n",
    "\n",
    "Ks, Cs"
   ]
  },
  {
   "cell_type": "markdown",
   "id": "cc610cc4",
   "metadata": {},
   "source": [
    "我们可以使用打靶算法来计算趋近于$ \\left(K_s, C_s\\right) $的轨迹。\n",
    "\n",
    "对于给定的$ K $，让我们计算一个较大$ T $（例如$ =200 $）时的$ \\vec{C} $和$ \\vec{K} $。\n",
    "\n",
    "我们通过二分法算法计算$ C_0 $，确保$ K_T=K_s $。\n",
    "\n",
    "让我们计算两条朝向$ \\left(K_s, C_s\\right) $的轨迹，这两条轨迹从$ K_s $的不同侧开始：$ \\bar{K}_0=1e-3<K_s<\\bar{K}_1=15 $。"
   ]
  },
  {
   "cell_type": "code",
   "execution_count": null,
   "id": "ad037b13",
   "metadata": {
    "hide-output": false
   },
   "outputs": [],
   "source": [
    "c_vec1, k_vec1 = bisection(pp, 5, 15, T=200, k_ter=Ks)\n",
    "c_vec2, k_vec2 = bisection(pp, 1e-3, 1e-3, T=200, k_ter=Ks)"
   ]
  },
  {
   "cell_type": "markdown",
   "id": "5f499454",
   "metadata": {},
   "source": [
    "以下代码生成图 Fig. 34.1，这是仿照 [[Intriligator, 2002](https://python.quantecon.org/zreferences.html#id3)] 第411页的一个图表制作的。\n",
    "\n",
    "图 Fig. 34.1 是一个经典的”相平面”，其中”状态”变量 $ K $ 在纵轴上，”协态”变量 $ C $ 在横轴上。\n",
    "\n",
    "图 Fig. 34.1 绘制了三条曲线：\n",
    "\n",
    "- 蓝线表示方程 [(34.18)](#equation-eq-tildec) 所描述的固定点 $ C = \\tilde C (K) $ 的图像。  \n",
    "- 红线表示方程 [(34.19)](#equation-eq-tildek) 所描述的固定点 $ K = \\tilde K(C) $ 的图像。  \n",
    "- 绿线表示从时间0时任意 $ K_0 $ 开始收敛到稳态的稳定流形。  \n",
    "  - 对于给定的 $ K_0 $，射击算法将 $ C_0 $ 设置为绿线上的坐标，以启动一条收敛到最优稳态的路径。  \n",
    "- 绿线上的箭头显示了动态方程[(34.16)](#equation-eq-systemdynamics)推动连续$ (K_{t+1}, C_t) $对的方向。  \n",
    "\n",
    "\n",
    "图Fig. 34.1除了显示三条曲线外，还绘制了箭头来指示当给定$ K_0 $时，$ C_0 $不在绿线所示稳定流形上时，动态方程[(34.16)](#equation-eq-systemdynamics)驱动系统的方向。\n",
    "\n",
    "- 如果对给定的$ K_0 $，$ C_0 $设置在绿线以下，则积累了过多的资本  \n",
    "- 如果对给定的$ K_0 $，$ C_0 $设置在绿线以上，则积累的资本太少  "
   ]
  },
  {
   "cell_type": "code",
   "execution_count": null,
   "id": "5dd3e114",
   "metadata": {
    "hide-output": false
   },
   "outputs": [],
   "source": [
    "fig, ax = plt.subplots(figsize=(7, 5))\n",
    "\n",
    "K_range = np.arange(1e-1, 15, 0.1)\n",
    "C_range = np.arange(1e-1, 2.3, 0.1)\n",
    "\n",
    "# C tilde\n",
    "ax.plot(K_range, [C_tilde(Ks, pp) for Ks in K_range], color='b')\n",
    "ax.text(11.8, 4, r'$C=\\tilde{C}(K)$', color='b')\n",
    "\n",
    "# K tilde\n",
    "ax.plot([K_tilde(Cs, pp) for Cs in C_range], C_range, color='r')\n",
    "ax.text(2, 1.5, r'$K=\\tilde{K}(C)$', color='r')\n",
    "\n",
    "# stable branch\n",
    "ax.plot(k_vec1[:-1], c_vec1, color='g')\n",
    "ax.plot(k_vec2[:-1], c_vec2, color='g')\n",
    "ax.quiver(k_vec1[5], c_vec1[5],\n",
    "          k_vec1[6]-k_vec1[5], c_vec1[6]-c_vec1[5],\n",
    "          color='g')\n",
    "ax.quiver(k_vec2[5], c_vec2[5],\n",
    "          k_vec2[6]-k_vec2[5], c_vec2[6]-c_vec2[5],\n",
    "          color='g')\n",
    "ax.text(12, 2.5, r'稳定分支', color='g')\n",
    "\n",
    "# (Ks, Cs)\n",
    "ax.scatter(Ks, Cs)\n",
    "ax.text(Ks-1.2, Cs+0.2, '$(K_s, C_s)$')\n",
    "\n",
    "# arrows\n",
    "K_range = np.linspace(1e-3, 15, 20)\n",
    "C_range = np.linspace(1e-3, 7.5, 20)\n",
    "K_mesh, C_mesh = np.meshgrid(K_range, C_range)\n",
    "\n",
    "next_K, next_C = pp.next_k_c(K_mesh, C_mesh)\n",
    "ax.quiver(K_range, C_range, next_K-K_mesh, next_C-C_mesh)\n",
    "\n",
    "# infeasible consumption area\n",
    "ax.text(0.5, 5, \"不可行\\n消费区\")\n",
    "\n",
    "ax.set_ylim([0, 7.5])\n",
    "ax.set_xlim([0, 15])\n",
    "\n",
    "ax.set_xlabel('$K$')\n",
    "ax.set_ylabel('$C$')\n",
    "\n",
    "plt.show()"
   ]
  },
  {
   "cell_type": "markdown",
   "id": "6f2d94fa",
   "metadata": {},
   "source": [
    "## 结论\n",
    "\n",
    "在[Cass-Koopmans 竞争均衡](https://python.quantecon.org/cass_koopmans_2.html)中，我们研究了一个去中心化的经济版本，其技术和偏好结构与本讲完全相同。\n",
    "\n",
    "在那一讲中，我们用亚当·斯密的**看不见的手**替代了本讲中的规划者。\n",
    "\n",
    "取代规划者做出的数量选择的是市场价格，这些价格由模型外部的一个”机械神”(即所谓的看不见的手)设定。\n",
    "\n",
    "均衡市场价格必须协调由代表性家庭和代表性企业独立做出的不同决策。\n",
    "\n",
    "像本讲所研究的计划经济与[Cass-Koopmans 竞争均衡](https://python.quantecon.org/cass_koopmans_2.html)中研究的市场经济之间的关系是一般均衡理论和福利经济学的基础性主题。"
   ]
  },
  {
   "cell_type": "markdown",
   "id": "0e777651",
   "metadata": {},
   "source": [
    "### 练习"
   ]
  },
  {
   "cell_type": "markdown",
   "id": "dca514a8",
   "metadata": {},
   "source": [
    "### Exercise 34.1\n",
    "\n",
    "- 当以下条件时，绘制最优消费、资本和储蓄路径\n",
    "  初始资本水平从稳态水平的1.5倍开始，\n",
    "  当我们向着$ T=130 $的稳态推进时。  \n",
    "- 储蓄率为什么会这样响应？  "
   ]
  },
  {
   "cell_type": "markdown",
   "id": "ae6d5762",
   "metadata": {},
   "source": [
    "### Solution to[ Exercise 34.1](https://python.quantecon.org/#ck1_ex1)"
   ]
  },
  {
   "cell_type": "code",
   "execution_count": null,
   "id": "77088a31",
   "metadata": {
    "hide-output": false
   },
   "outputs": [],
   "source": [
    "plot_saving_rate(pp, 0.3, k_ss*1.5, [130], k_ter=k_ss, k_ss=k_ss, s_ss=s_ss)"
   ]
  }
 ],
 "metadata": {
  "date": 1742685620.714684,
  "filename": "cass_koopmans_1.md",
  "kernelspec": {
   "display_name": "Python",
   "language": "python3",
   "name": "python3"
  },
  "title": "Cass-Koopmans模型"
 },
 "nbformat": 4,
 "nbformat_minor": 5
}