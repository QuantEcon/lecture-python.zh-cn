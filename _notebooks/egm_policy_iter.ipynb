{
 "cells": [
  {
   "cell_type": "markdown",
   "id": "1cb3d92c",
   "metadata": {},
   "source": [
    "<div id=\"qe-notebook-header\" align=\"right\" style=\"text-align:right;\">\n",
    "        <a href=\"https://quantecon.org/\" title=\"quantecon.org\">\n",
    "                <img style=\"width:250px;display:inline;\" width=\"250px\" src=\"https://assets.quantecon.org/img/qe-menubar-logo.svg\" alt=\"QuantEcon\">\n",
    "        </a>\n",
    "</div>"
   ]
  },
  {
   "cell_type": "markdown",
   "id": "3bc0011d",
   "metadata": {},
   "source": [
    "# 最优增长 IV：内生网格法"
   ]
  },
  {
   "cell_type": "markdown",
   "id": "6858c616",
   "metadata": {},
   "source": [
    "## 目录\n",
    "\n",
    "- [最优增长 IV：内生网格法](#最优增长-IV：内生网格法)  \n",
    "  - [概述](#概述)  \n",
    "  - [核心思想](#核心思想)  \n",
    "  - [实现](#实现)  "
   ]
  },
  {
   "cell_type": "markdown",
   "id": "eeeebe95",
   "metadata": {},
   "source": [
    "## 概述\n",
    "\n",
    "在之前，我们使用以下方法求解了随机最优增长模型：\n",
    "\n",
    "1. [价值函数迭代](https://python.quantecon.org/optgrowth_fast.html)  \n",
    "1. [基于欧拉方程的时间迭代](https://python.quantecon.org/coleman_policy_iter.html)  \n",
    "\n",
    "\n",
    "我们发现时间迭代在准确性和效率方面都明显更好。\n",
    "\n",
    "在本讲义中，我们将介绍时间迭代的一种巧妙变体，称为**内生网格法**（EGM）。\n",
    "\n",
    "EGM是由[Chris Carroll](http://www.econ2.jhu.edu/people/ccarroll/)发明的一种用于实现政策迭代的数值方法。\n",
    "\n",
    "该方法的原始参考文献是[[Carroll, 2006](https://python.quantecon.org/zreferences.html#id162)]。\n",
    "\n",
    "让我们从一些标准导入开始："
   ]
  },
  {
   "cell_type": "code",
   "execution_count": null,
   "id": "0a9f6044",
   "metadata": {
    "hide-output": false
   },
   "outputs": [],
   "source": [
    "import matplotlib.pyplot as plt\n",
    "import matplotlib as mpl\n",
    "FONTPATH = \"fonts/SourceHanSerifSC-SemiBold.otf\"\n",
    "mpl.font_manager.fontManager.addfont(FONTPATH)\n",
    "plt.rcParams['font.family'] = ['Source Han Serif SC']\n",
    "\n",
    "import numpy as np\n",
    "from numba import jit"
   ]
  },
  {
   "cell_type": "markdown",
   "id": "168190c8",
   "metadata": {},
   "source": [
    "## 核心思想\n",
    "\n",
    "我们首先回顾理论背景，然后说明数值方法如何融入其中。"
   ]
  },
  {
   "cell_type": "markdown",
   "id": "4bee38c2",
   "metadata": {},
   "source": [
    "### 理论\n",
    "\n",
    "我们沿用[时间迭代](https://python.quantecon.org/coleman_policy_iter.html)中的模型设定，遵循相同的术语和符号。\n",
    "\n",
    "欧拉方程为：\n",
    "\n",
    "\n",
    "<a id='equation-egm-euler'></a>\n",
    "$$\n",
    "(u'\\circ \\sigma^*)(y)\n",
    "= \\beta \\int (u'\\circ \\sigma^*)(f(y - \\sigma^*(y)) z) f'(y - \\sigma^*(y)) z \\phi(dz) \\tag{60.1}\n",
    "$$\n",
    "\n",
    "如前所示，Coleman-Reffett算子是一个非线性算子 $ K $，其设计使得 $ \\sigma^* $ 是 $ K $ 的不动点。\n",
    "\n",
    "该算子以一个连续且严格递增的消费策略 $ \\sigma \\in \\Sigma $ 作为自变量。\n",
    "\n",
    "它返回一个新函数 $ K \\sigma $，其中 $ (K \\sigma)(y) $ 是满足以下方程的 $ c \\in (0, \\infty) $：\n",
    "\n",
    "\n",
    "<a id='equation-egm-coledef'></a>\n",
    "$$\n",
    "u'(c)\n",
    "= \\beta \\int (u' \\circ \\sigma) (f(y - c) z ) f'(y - c) z \\phi(dz) \\tag{60.2}\n",
    "$$"
   ]
  },
  {
   "cell_type": "markdown",
   "id": "565c6daa",
   "metadata": {},
   "source": [
    "### 外生网格\n",
    "\n",
    "如[时间迭代](https://python.quantecon.org/coleman_policy_iter.html)中所述，为了在计算机上实现该方法，我们需要数值近似。\n",
    "\n",
    "具体来说，我们通过在有限网格上取值的方式表示策略函数。\n",
    "\n",
    "在需要时，使用插值或其他方法从该有限表示中重建原函数。\n",
    "\n",
    "在[时间迭代](https://python.quantecon.org/coleman_policy_iter.html)中，为了获得更新后的消费策略的有限表示，我们：\n",
    "\n",
    "- 固定一组收入点 $ \\{y_i\\} $；  \n",
    "- 使用[(60.2)](#equation-egm-coledef)与求根算法，计算与每个 $ y_i $ 对应的消费值 $ c_i $。  \n",
    "\n",
    "\n",
    "每个 $ c_i $ 被解释为函数 $ K \\sigma $ 在 $ y_i $ 处的值。\n",
    "\n",
    "因此，有了点集 $ \\{y_i, c_i\\} $，我们可以通过近似重建 $ K \\sigma $。\n",
    "\n",
    "然后继续迭代…"
   ]
  },
  {
   "cell_type": "markdown",
   "id": "1d234556",
   "metadata": {},
   "source": [
    "### 内生网格\n",
    "\n",
    "上述方法需要通过求根算法来确定与给定收入值 $ y_i $ 对应的消费水平 $ c_i $。\n",
    "\n",
    "然而，求根运算的代价较高，因为其通常涉及大量函数求值。\n",
    "\n",
    "正如Carroll [[Carroll, 2006](https://python.quantecon.org/zreferences.html#id162)]所指出的，如果 $ y_i $ 是内生选择的，则可避免这一过程。\n",
    "\n",
    "唯一需要的假设是：$ u' $ 在 $ (0, \\infty) $ 上是可逆的。\n",
    "\n",
    "令 $ (u')^{-1} $ 为 $ u' $ 的反函数。\n",
    "\n",
    "其核心思想如下：\n",
    "\n",
    "- 首先，固定一个关于资本($ k = y - c $)的*外生*网格 $ \\{k_i\\} $；  \n",
    "- 接着，根据以下公式求得 $ c_i $:  \n",
    "\n",
    "\n",
    "\n",
    "<a id='equation-egm-getc'></a>\n",
    "$$\n",
    "c_i =\n",
    "(u')^{-1}\n",
    "\\left\\{\n",
    "    \\beta \\int (u' \\circ \\sigma) (f(k_i) z ) \\, f'(k_i) \\, z \\, \\phi(dz)\n",
    "\\right\\} \\tag{60.3}\n",
    "$$\n",
    "\n",
    "- 最后，对每个 $ c_i $，设定 $ y_i = c_i + k_i $。  \n",
    "\n",
    "\n",
    "显然，每个通过上述方式构建的 $ (y_i, c_i) $ 都满足[(60.2)](#equation-egm-coledef)。\n",
    "\n",
    "有了点集 $ \\{y_i, c_i\\} $，我们即可通过近似方法重建 $ K \\sigma $。\n",
    "\n",
    "新的EGM算法的关键在于：网格 $ \\{y_i\\} $ 是**内生**决定的。"
   ]
  },
  {
   "cell_type": "markdown",
   "id": "7f3eff4a",
   "metadata": {},
   "source": [
    "## 实现\n",
    "\n",
    "与[时间迭代](https://python.quantecon.org/coleman_policy_iter.html)相同，我们从一个简单设定开始：\n",
    "\n",
    "- $ u(c) = \\ln c $；  \n",
    "- 生产函数是柯布-道格拉斯形式；  \n",
    "- 冲击项服从对数正态分布。  \n",
    "\n",
    "\n",
    "这一设定使我们能够将数值解与解析解进行对比。"
   ]
  },
  {
   "cell_type": "code",
   "execution_count": null,
   "id": "458d8993",
   "metadata": {
    "hide-output": false
   },
   "outputs": [],
   "source": [
    "\n",
    "def v_star(y, α, β, μ):\n",
    "    \"\"\"\n",
    "    真实价值函数\n",
    "    \"\"\"\n",
    "    c1 = np.log(1 - α * β) / (1 - β)\n",
    "    c2 = (μ + α * np.log(α * β)) / (1 - α)\n",
    "    c3 = 1 / (1 - β)\n",
    "    c4 = 1 / (1 - α * β)\n",
    "    return c1 + c2 * (c3 - c4) + c4 * np.log(y)\n",
    "\n",
    "def σ_star(y, α, β):\n",
    "    \"\"\"\n",
    "    真实最优策略\n",
    "    \"\"\"\n",
    "    return (1 - α * β) * y"
   ]
  },
  {
   "cell_type": "markdown",
   "id": "70153404",
   "metadata": {},
   "source": [
    "我们重用 `OptimalGrowthModel` 类"
   ]
  },
  {
   "cell_type": "code",
   "execution_count": null,
   "id": "af9747e2",
   "metadata": {
    "hide-output": false
   },
   "outputs": [],
   "source": [
    "from numba import float64\n",
    "from numba.experimental import jitclass\n",
    "\n",
    "opt_growth_data = [\n",
    "    ('α', float64),          # 生产参数\n",
    "    ('β', float64),          # 折现因子\n",
    "    ('μ', float64),          # 冲击的均值参数\n",
    "    ('s', float64),          # 冲击的尺度参数\n",
    "    ('grid', float64[:]),    # 网格（数组）\n",
    "    ('shocks', float64[:])   # 冲击样本（数组）\n",
    "]\n",
    "\n",
    "@jitclass(opt_growth_data)\n",
    "class OptimalGrowthModel:\n",
    "\n",
    "    def __init__(self,\n",
    "                α=0.4,\n",
    "                β=0.96,\n",
    "                μ=0,\n",
    "                s=0.1,\n",
    "                grid_max=4,\n",
    "                grid_size=120,\n",
    "                shock_size=250,\n",
    "                seed=1234):\n",
    "\n",
    "        self.α, self.β, self.μ, self.s = α, β, μ, s\n",
    "\n",
    "         # 设置网格\n",
    "        self.grid = np.linspace(1e-5, grid_max, grid_size)\n",
    "\n",
    "        # 存储冲击（设置随机种子以确保结果可重复）\n",
    "        np.random.seed(seed)\n",
    "        self.shocks = np.exp(μ + s * np.random.randn(shock_size))\n",
    "\n",
    "\n",
    "    def f(self, k):\n",
    "       \"生产函数\"\n",
    "        return k**self.α\n",
    "\n",
    "\n",
    "    def u(self, c):\n",
    "        \"效用函数\"\n",
    "        return np.log(c)\n",
    "\n",
    "    def f_prime(self, k):\n",
    "        \"生产函数的一阶导数\"\n",
    "        return self.α * (k**(self.α - 1))\n",
    "\n",
    "\n",
    "    def u_prime(self, c):\n",
    "        \"效用函数的一阶导数\"\n",
    "        return 1/c\n",
    "\n",
    "    def u_prime_inv(self, c):\n",
    "        \"效用函数一阶导数的反函数\"\n",
    "        return 1/c"
   ]
  },
  {
   "cell_type": "markdown",
   "id": "bd0bbdcc",
   "metadata": {},
   "source": [
    "### 算子\n",
    "\n",
    "以下给出使用EGM方法实现算子 $ K $ 的代码："
   ]
  },
  {
   "cell_type": "code",
   "execution_count": null,
   "id": "5ed2f277",
   "metadata": {
    "hide-output": false
   },
   "outputs": [],
   "source": [
    "@jit\n",
    "def K(σ_array, og):\n",
    "    \"\"\"\n",
    "    使用EGM的Coleman-Reffett算子\n",
    "\n",
    "    \"\"\"\n",
    "\n",
    "    # 简化命名\n",
    "    f, β = og.f, og.β\n",
    "    f_prime, u_prime = og.f_prime, og.u_prime\n",
    "    u_prime_inv = og.u_prime_inv\n",
    "    grid, shocks = og.grid, og.shocks\n",
    "\n",
    "    # 确定内生网格\n",
    "    y = grid + σ_array  # y_i = k_i + c_i\n",
    "\n",
    "    # 使用内生网格进行策略的线性插值\n",
    "    σ = lambda x: np.interp(x, y, σ_array)\n",
    "\n",
    "    # 为新的消费数组分配内存\n",
    "    c = np.empty_like(grid)\n",
    "\n",
    "    # 求解更新后的消费值\n",
    "    for i, k in enumerate(grid):\n",
    "        vals = u_prime(σ(f(k) * shocks)) * f_prime(k) * shocks\n",
    "        c[i] = u_prime_inv(β * np.mean(vals))\n",
    "\n",
    "    return c"
   ]
  },
  {
   "cell_type": "markdown",
   "id": "3d10b066",
   "metadata": {},
   "source": [
    "值得注意的是，该算法不需要求根算法。"
   ]
  },
  {
   "cell_type": "markdown",
   "id": "12716cd1",
   "metadata": {},
   "source": [
    "### 测试\n",
    "\n",
    "首先，我们创建一个实例。"
   ]
  },
  {
   "cell_type": "code",
   "execution_count": null,
   "id": "498316b2",
   "metadata": {
    "hide-output": false
   },
   "outputs": [],
   "source": [
    "og = OptimalGrowthModel()\n",
    "grid = og.grid"
   ]
  },
  {
   "cell_type": "markdown",
   "id": "b973151a",
   "metadata": {},
   "source": [
    "下面是求解程序："
   ]
  },
  {
   "cell_type": "code",
   "execution_count": null,
   "id": "683c97a7",
   "metadata": {
    "hide-output": false
   },
   "outputs": [],
   "source": [
    "def solve_model_time_iter(model,    # 含有模型信息的类\n",
    "                          σ,        # 初始条件\n",
    "                          tol=1e-4,\n",
    "                          max_iter=1000,\n",
    "                          verbose=True,\n",
    "                          print_skip=25):\n",
    "\n",
    "    # 设置迭代循环\n",
    "    i = 0\n",
    "    error = tol + 1\n",
    "\n",
    "    while i < max_iter and error > tol:\n",
    "        σ_new = K(σ, model)\n",
    "        error = np.max(np.abs(σ - σ_new))\n",
    "        i += 1\n",
    "        if verbose and i % print_skip == 0:\n",
    "            print(f\"第 {i} 次迭代的误差为 {error}。\")\n",
    "        σ = σ_new\n",
    "\n",
    "    if error > tol:\n",
    "        print(\"未能收敛！\")\n",
    "    elif verbose:\n",
    "        print(f\"\\n在 {i} 次迭代后收敛。\")\n",
    "\n",
    "    return σ_new"
   ]
  },
  {
   "cell_type": "markdown",
   "id": "b5e6530d",
   "metadata": {},
   "source": [
    "让我们运行它："
   ]
  },
  {
   "cell_type": "code",
   "execution_count": null,
   "id": "ee333457",
   "metadata": {
    "hide-output": false
   },
   "outputs": [],
   "source": [
    "σ_init = np.copy(grid)\n",
    "σ = solve_model_time_iter(og, σ_init)"
   ]
  },
  {
   "cell_type": "markdown",
   "id": "8e814be5",
   "metadata": {},
   "source": [
    "以下是得到的策略与真实策略的比较："
   ]
  },
  {
   "cell_type": "code",
   "execution_count": null,
   "id": "e226a0a2",
   "metadata": {
    "hide-output": false
   },
   "outputs": [],
   "source": [
    "y = grid + σ  # y_i = k_i + c_i\n",
    "\n",
    "fig, ax = plt.subplots()\n",
    "\n",
    "ax.plot(y, σ, lw=2,\n",
    "        alpha=0.8, label='近似策略函数')\n",
    "\n",
    "ax.plot(y, σ_star(y, og.α, og.β), 'k--',\n",
    "        lw=2, alpha=0.8, label='真实策略函数')\n",
    "\n",
    "ax.legend()\n",
    "plt.show()"
   ]
  },
  {
   "cell_type": "markdown",
   "id": "bc52b2bd",
   "metadata": {},
   "source": [
    "两个策略之间的最大绝对偏差是"
   ]
  },
  {
   "cell_type": "code",
   "execution_count": null,
   "id": "c8cef2e3",
   "metadata": {
    "hide-output": false
   },
   "outputs": [],
   "source": [
    "np.max(np.abs(σ - σ_star(y, og.α, og.β)))"
   ]
  },
  {
   "cell_type": "markdown",
   "id": "b5224912",
   "metadata": {},
   "source": [
    "收敛所需的时间为："
   ]
  },
  {
   "cell_type": "code",
   "execution_count": null,
   "id": "2efbbfb8",
   "metadata": {
    "hide-output": false
   },
   "outputs": [],
   "source": [
    "%%timeit -n 3 -r 1\n",
    "σ = solve_model_time_iter(og, σ_init, verbose=False)"
   ]
  },
  {
   "cell_type": "markdown",
   "id": "d16fee17",
   "metadata": {},
   "source": [
    "相较于已被证明高度高效的时间迭代法，内生网格法（EGM）在保持精度不变的前提下，进一步显著减少了运行时间。\n",
    "\n",
    "其主要原因在于该方法不需要进行数值求根步骤。\n",
    "\n",
    "因此，我们能够在给定参数下以极高的速度求解最优增长模型。"
   ]
  }
 ],
 "metadata": {
  "date": 1761257070.113272,
  "filename": "egm_policy_iter.md",
  "kernelspec": {
   "display_name": "Python",
   "language": "python3",
   "name": "python3"
  },
  "title": "最优增长 IV：内生网格法"
 },
 "nbformat": 4,
 "nbformat_minor": 5
}