{
 "cells": [
  {
   "cell_type": "markdown",
   "id": "d064bfe3",
   "metadata": {},
   "source": [
    "<div id=\"qe-notebook-header\" align=\"right\" style=\"text-align:right;\">\n",
    "        <a href=\"https://quantecon.org/\" title=\"quantecon.org\">\n",
    "                <img style=\"width:250px;display:inline;\" width=\"250px\" src=\"https://assets.quantecon.org/img/qe-menubar-logo.svg\" alt=\"QuantEcon\">\n",
    "        </a>\n",
    "</div>"
   ]
  },
  {
   "cell_type": "markdown",
   "id": "6fce8ce8",
   "metadata": {},
   "source": [
    "# 求职搜索 IV：相关工资报价"
   ]
  },
  {
   "cell_type": "markdown",
   "id": "4ace8bb4",
   "metadata": {},
   "source": [
    "## 目录\n",
    "\n",
    "- [求职搜索 IV：相关工资报价](#求职搜索-IV：相关工资报价)  \n",
    "  - [概述](#概述)  \n",
    "  - [模型](#模型)  \n",
    "  - [实现](#实现)  \n",
    "  - [失业持续时间](#失业持续时间)  \n",
    "  - [练习](#练习)  "
   ]
  },
  {
   "cell_type": "markdown",
   "id": "3457ff6d",
   "metadata": {},
   "source": [
    "除了Anaconda中的内容外，本讲座还需要以下库："
   ]
  },
  {
   "cell_type": "code",
   "execution_count": null,
   "id": "ba4e75cd",
   "metadata": {
    "hide-output": false
   },
   "outputs": [],
   "source": [
    "!pip install quantecon"
   ]
  },
  {
   "cell_type": "markdown",
   "id": "efddb84f",
   "metadata": {},
   "source": [
    "## 概述\n",
    "\n",
    "在本讲座中，我们求解一个工资报价由持续性和暂时性成分组成的[McCall求职搜索模型](https://python.quantecon.org/mccall_model.html)。\n",
    "\n",
    "换句话说，我们放宽了工资随机性在时间上独立的假设。\n",
    "\n",
    "同时，我们将回到假设工作是永久性的，不会发生离职。\n",
    "\n",
    "这是为了在研究相关性影响时保持模型相对简单。\n",
    "\n",
    "我们将使用以下导入："
   ]
  },
  {
   "cell_type": "code",
   "execution_count": null,
   "id": "432b128f",
   "metadata": {
    "hide-output": false
   },
   "outputs": [],
   "source": [
    "import matplotlib.pyplot as plt\n",
    "import matplotlib as mpl\n",
    "FONTPATH = \"fonts/SourceHanSerifSC-SemiBold.otf\"\n",
    "mpl.font_manager.fontManager.addfont(FONTPATH)\n",
    "plt.rcParams['font.family'] = ['Source Han Serif SC']\n",
    "\n",
    "import numpy as np\n",
    "import quantecon as qe\n",
    "from numpy.random import randn\n",
    "from numba import jit, prange, float64\n",
    "from numba.experimental import jitclass"
   ]
  },
  {
   "cell_type": "markdown",
   "id": "854311df",
   "metadata": {},
   "source": [
    "## 模型\n",
    "\n",
    "每个时期的工资由下式给出：\n",
    "\n",
    "$$\n",
    "w_t = \\exp(z_t) + y_t\n",
    "$$\n",
    "\n",
    "其中\n",
    "\n",
    "$$\n",
    "y_t \\sim \\exp(\\mu + s \\zeta_t)\n",
    "\\quad \\text{且} \\quad\n",
    "z_{t+1} = d + \\rho z_t + \\sigma \\epsilon_{t+1}\n",
    "$$\n",
    "\n",
    "这里 $ \\{ \\zeta_t \\} $ 和 $ \\{ \\epsilon_t \\} $ 都是独立同分布的标准正态随机变量。\n",
    "\n",
    "这里 $ \\{y_t\\} $ 是暂时性成分，$ \\{z_t\\} $ 是持续性成分。\n",
    "\n",
    "如前所述，劳动者可以：\n",
    "\n",
    "1. 接受当前工作机会，并在该工资水平永久工作，或  \n",
    "1. 领取失业补偿金 $ c $ 并等待下一期。  \n",
    "\n",
    "\n",
    "价值函数满足贝尔曼方程：\n",
    "\n",
    "$$\n",
    "v^*(w, z) =\n",
    "    \\max\n",
    "    \\left\\{\n",
    "        \\frac{u(w)}{1-\\beta}, u(c) + \\beta \\, \\mathbb E_z v^*(w', z')\n",
    "    \\right\\}\n",
    "$$\n",
    "\n",
    "在这个表达式中，$ u $ 是效用函数，$ \\mathbb E_z $ 是给定当前 $ z $ 时下一期变量的条件期望。\n",
    "\n",
    "变量 $ z $ 作为状态变量进入贝尔曼方程，这是因为它的当前值有助于预测未来工资。"
   ]
  },
  {
   "cell_type": "markdown",
   "id": "eab2a178",
   "metadata": {},
   "source": [
    "### 简化\n",
    "\n",
    "我们可以通过以下方法降低问题维度，显著提升计算效率：\n",
    "\n",
    "首先，让 $ f^* $ 为延续价值函数，定义为：\n",
    "\n",
    "$$\n",
    "f^*(z) := u(c) + \\beta \\, \\mathbb E_z v^*(w', z')\n",
    "$$\n",
    "\n",
    "现在贝尔曼方程可以写成：\n",
    "\n",
    "$$\n",
    "v^*(w, z) = \\max \\left\\{ \\frac{u(w)}{1-\\beta}, \\, f^*(z) \\right\\}\n",
    "$$\n",
    "\n",
    "结合上述两个表达式，我们看到延续价值函数满足：\n",
    "\n",
    "$$\n",
    "f^*(z) = u(c) + \\beta \\, \\mathbb E_z \\max \\left\\{ \\frac{u(w')}{1-\\beta}, f^*(z') \\right\\}\n",
    "$$\n",
    "\n",
    "为求解该函数方程，我们引入算子$ Q $：\n",
    "\n",
    "$$\n",
    "Qf(z) = u(c) + \\beta \\, \\mathbb E_z \\max \\left\\{ \\frac{u(w')}{1-\\beta}, f(z') \\right\\}\n",
    "$$\n",
    "\n",
    "根据构造，$ f^* $ 是 $ Q $ 的不动点，即 $ Q f^* = f^* $。\n",
    "\n",
    "在较弱的假设下，可以证明 $ Q $ 是 $ \\mathbb R $ 上连续函数空间上的一个[压缩映射](https://baike.baidu.com/item/%E5%8E%8B%E7%BC%A9%E6%98%A0%E5%B0%84/5114126)。\n",
    "\n",
    "根据巴拿赫压缩映射定理，$ f^* $ 是唯一的不动点，我们可以从任何合理的初始条件开始通过迭代 $ Q $ 来得到$ f^* $。\n",
    "\n",
    "求得 $ f^* $后，这一搜索问题的解就是当接受工作的收益超过延续价值时停止求职，即：\n",
    "\n",
    "$$\n",
    "\\frac{u(w)}{1-\\beta} \\geq f^*(z)\n",
    "$$\n",
    "\n",
    "对于效用函数，我们取 $ u(c) = \\ln(c) $。\n",
    "\n",
    "保留工资是最后一个表达式中等式成立的工资：\n",
    "\n",
    "\n",
    "<a id='equation-corr-mcm-barw'></a>\n",
    "$$\n",
    "\\bar w (z) := \\exp(f^*(z) (1-\\beta)) \\tag{30.1}\n",
    "$$\n",
    "\n",
    "我们的主要目标是求解该保留工资规则，并分析其性质与含义。"
   ]
  },
  {
   "cell_type": "markdown",
   "id": "8a5460ff",
   "metadata": {},
   "source": [
    "## 实现\n",
    "\n",
    "让 $ f $ 作为我们对 $ f^* $ 的初始猜测。\n",
    "\n",
    "在迭代时，我们使用[拟合价值函数迭代](https://python.quantecon.org/mccall_fitted_vfi.html)算法。\n",
    "\n",
    "特别地，$ f $ 和所有后续迭代值都作为向量存储在一个网格。\n",
    "\n",
    "这些点通过分段线性插值转换为函数。\n",
    "\n",
    "$ Qf $ 定义中的期望项通过蒙特卡洛计算。\n",
    "\n",
    "以下类型声明帮助 Numba 进行类型推断："
   ]
  },
  {
   "cell_type": "code",
   "execution_count": null,
   "id": "bae30ea9",
   "metadata": {
    "hide-output": false
   },
   "outputs": [],
   "source": [
    "job_search_data = [\n",
    "     ('μ', float64),             # 暂时性冲击对数均值\n",
    "     ('s', float64),             # 暂时性冲击对数方差\n",
    "     ('d', float64),             # 持续性状态位移系数\n",
    "     ('ρ', float64),             # 持续性状态相关系数\n",
    "     ('σ', float64),             # 状态波动率\n",
    "     ('β', float64),             # 折现因子\n",
    "     ('c', float64),             # 失业补助\n",
    "     ('z_grid', float64[:]),     # 状态空间网格\n",
    "     ('e_draws', float64[:,:])   # 积分用的蒙特卡洛抽取\n",
    "]"
   ]
  },
  {
   "cell_type": "markdown",
   "id": "1c1911eb",
   "metadata": {},
   "source": [
    "这是一个存储数据和贝尔曼方程右侧项的类。\n",
    "\n",
    "默认参数值嵌入在类中。"
   ]
  },
  {
   "cell_type": "code",
   "execution_count": null,
   "id": "09328df8",
   "metadata": {
    "hide-output": false
   },
   "outputs": [],
   "source": [
    "@jitclass(job_search_data)\n",
    "class JobSearch:\n",
    "\n",
    "    def __init__(self,\n",
    "                 μ=0.0,       # 暂时性冲击对数均值\n",
    "                 s=1.0,       # 暂时性冲击对数方差\n",
    "                 d=0.0,       # 持续性状态位移系数\n",
    "                 ρ=0.9,       # 持续性状态相关系数\n",
    "                 σ=0.1,       # 状态波动率\n",
    "                 β=0.98,      # 折现因子\n",
    "                 c=5,         # 失业补助\n",
    "                 mc_size=1000,\n",
    "                 grid_size=100):\n",
    "\n",
    "        self.μ, self.s, self.d,  = μ, s, d,\n",
    "        self.ρ, self.σ, self.β, self.c = ρ, σ, β, c\n",
    "\n",
    "        # 设置网格\n",
    "        z_mean = d / (1 - ρ)\n",
    "        z_sd = σ / np.sqrt(1 - ρ**2)\n",
    "        k = 3  # 标准差倍数\n",
    "        a, b = z_mean - k * z_sd, z_mean + k * z_sd\n",
    "        self.z_grid = np.linspace(a, b, grid_size)\n",
    "\n",
    "        # 生成并存储冲击\n",
    "        np.random.seed(1234)\n",
    "        self.e_draws = randn(2, mc_size)\n",
    "\n",
    "    def parameters(self):\n",
    "        \"\"\"\n",
    "        返回所有参数作为元组。\n",
    "        \"\"\"\n",
    "        return self.μ, self.s, self.d, \\\n",
    "                self.ρ, self.σ, self.β, self.c"
   ]
  },
  {
   "cell_type": "markdown",
   "id": "482f7b0b",
   "metadata": {},
   "source": [
    "接下来我们实现 $ Q $ 算子。"
   ]
  },
  {
   "cell_type": "code",
   "execution_count": null,
   "id": "e4a9e900",
   "metadata": {
    "hide-output": false
   },
   "outputs": [],
   "source": [
    "@jit(parallel=True)\n",
    "def Q(js, f_in, f_out):\n",
    "    \"\"\"\n",
    "    应用算子Q。\n",
    "\n",
    "        * js 是 JobSearch 的实例\n",
    "        * f_in 和 f_out 是表示 f 和 Qf 的数组\n",
    "\n",
    "    \"\"\"\n",
    "\n",
    "    μ, s, d, ρ, σ, β, c = js.parameters()\n",
    "    M = js.e_draws.shape[1]\n",
    "\n",
    "    for i in prange(len(js.z_grid)):\n",
    "        z = js.z_grid[i]\n",
    "        expectation = 0.0\n",
    "        for m in range(M):\n",
    "            e1, e2 = js.e_draws[:, m]\n",
    "            z_next = d + ρ * z + σ * e1\n",
    "            go_val = np.interp(z_next, js.z_grid, f_in)  # f(z')\n",
    "            y_next = np.exp(μ + s * e2)                  # 生成 y' \n",
    "            w_next = np.exp(z_next) + y_next             # 生成 w' \n",
    "            stop_val = np.log(w_next) / (1 - β)\n",
    "            expectation += max(stop_val, go_val)\n",
    "        expectation = expectation / M\n",
    "        f_out[i] = np.log(c) + β * expectation"
   ]
  },
  {
   "cell_type": "markdown",
   "id": "a4b12932",
   "metadata": {},
   "source": [
    "这是一个计算 $ Q $ 不动点近似值的函数。"
   ]
  },
  {
   "cell_type": "code",
   "execution_count": null,
   "id": "18b7c128",
   "metadata": {
    "hide-output": false
   },
   "outputs": [],
   "source": [
    "def compute_fixed_point(js,\n",
    "                        use_parallel=True,\n",
    "                        tol=1e-4,\n",
    "                        max_iter=1000,\n",
    "                        verbose=True,\n",
    "                        print_skip=25):\n",
    "\n",
    "    f_init = np.full(len(js.z_grid), np.log(js.c))\n",
    "    f_out = np.empty_like(f_init)\n",
    "\n",
    "    # 设置循环\n",
    "    f_in = f_init\n",
    "    i = 0\n",
    "    error = tol + 1\n",
    "\n",
    "    while i < max_iter and error > tol:\n",
    "        Q(js, f_in, f_out)\n",
    "        error = np.max(np.abs(f_in - f_out))\n",
    "        i += 1\n",
    "        if verbose and i % print_skip == 0:\n",
    "            print(f\"第 {i} 次迭代的误差为 {error}。\")\n",
    "        f_in[:] = f_out\n",
    "\n",
    "    if error > tol:\n",
    "        print(\"未能收敛！\")\n",
    "    elif verbose:\n",
    "        print(f\"\\n在第 {i} 次迭代时收敛。\")\n",
    "\n",
    "    return f_out"
   ]
  },
  {
   "cell_type": "markdown",
   "id": "243ecf94",
   "metadata": {},
   "source": [
    "让我们尝试生成一个实例并求解模型。"
   ]
  },
  {
   "cell_type": "code",
   "execution_count": null,
   "id": "77b337a5",
   "metadata": {
    "hide-output": false
   },
   "outputs": [],
   "source": [
    "js = JobSearch()\n",
    "\n",
    "qe.tic()\n",
    "f_star = compute_fixed_point(js, verbose=True)\n",
    "qe.toc()"
   ]
  },
  {
   "cell_type": "markdown",
   "id": "1a72333b",
   "metadata": {},
   "source": [
    "接下来我们将计算并绘制在[(30.1)](#equation-corr-mcm-barw)中定义的保留工资函数。"
   ]
  },
  {
   "cell_type": "code",
   "execution_count": null,
   "id": "4e1d7ff1",
   "metadata": {
    "hide-output": false
   },
   "outputs": [],
   "source": [
    "res_wage_function = np.exp(f_star * (1 - js.β))\n",
    "\n",
    "fig, ax = plt.subplots()\n",
    "ax.plot(js.z_grid, res_wage_function, label=\"给定 $z$ 的保留工资\")\n",
    "ax.set(xlabel=\"$z$\", ylabel=\"工资\")\n",
    "ax.legend()\n",
    "plt.show()"
   ]
  },
  {
   "cell_type": "markdown",
   "id": "53d07742",
   "metadata": {},
   "source": [
    "注意保留工资随当前状态 $ z $ 单调递增。\n",
    "\n",
    "这是因为更高的状态导致代理人预测更高的未来工资，增加了等待的价值。\n",
    "\n",
    "让我们尝试改变失业补偿金并观察其对保留工资的影响："
   ]
  },
  {
   "cell_type": "code",
   "execution_count": null,
   "id": "a385a9af",
   "metadata": {
    "hide-output": false
   },
   "outputs": [],
   "source": [
    "c_vals = 1, 2, 3\n",
    "\n",
    "fig, ax = plt.subplots()\n",
    "\n",
    "for c in c_vals:\n",
    "    js = JobSearch(c=c)\n",
    "    f_star = compute_fixed_point(js, verbose=False)\n",
    "    res_wage_function = np.exp(f_star * (1 - js.β))\n",
    "    ax.plot(js.z_grid, res_wage_function, label=rf\"$c = {c}$ 时的 $\\bar w$\")\n",
    "\n",
    "ax.set(xlabel=\"$z$\", ylabel=\"工资\")\n",
    "ax.legend()\n",
    "plt.show()"
   ]
  },
  {
   "cell_type": "markdown",
   "id": "653f5e20",
   "metadata": {},
   "source": [
    "正如预期的那样，更高的失业补偿金在所有状态下都提高了保留工资。"
   ]
  },
  {
   "cell_type": "markdown",
   "id": "502fd488",
   "metadata": {},
   "source": [
    "## 失业持续时间\n",
    "\n",
    "接下来我们研究平均失业持续时间如何随失业补偿金变化。\n",
    "\n",
    "为简单起见，我们将初始状态固定在 $ z_t = 0 $。"
   ]
  },
  {
   "cell_type": "code",
   "execution_count": null,
   "id": "fab0d6ec",
   "metadata": {
    "hide-output": false
   },
   "outputs": [],
   "source": [
    "def compute_unemployment_duration(js, seed=1234):\n",
    "\n",
    "    f_star = compute_fixed_point(js, verbose=False)\n",
    "    μ, s, d, ρ, σ, β, c = js.parameters()\n",
    "    z_grid = js.z_grid\n",
    "    np.random.seed(seed)\n",
    "\n",
    "    @jit\n",
    "    def f_star_function(z):\n",
    "        return np.interp(z, z_grid, f_star)\n",
    "\n",
    "    @jit\n",
    "    def draw_tau(t_max=10_000):\n",
    "        z = 0\n",
    "        t = 0\n",
    "\n",
    "        unemployed = True\n",
    "        while unemployed and t < t_max:\n",
    "            # 生成当前工资\n",
    "            y = np.exp(μ + s * np.random.randn())\n",
    "            w = np.exp(z) + y\n",
    "            res_wage = np.exp(f_star_function(z) * (1 - β))\n",
    "            # 如果最优选择是停止，记录t\n",
    "            if w >= res_wage:\n",
    "                unemployed = False\n",
    "                τ = t\n",
    "            # 否则增加数据和状态\n",
    "            else:\n",
    "                z = ρ * z + d + σ * np.random.randn()\n",
    "                t += 1\n",
    "        return τ\n",
    "\n",
    "    @jit(parallel=True)\n",
    "    def compute_expected_tau(num_reps=100_000):\n",
    "        sum_value = 0\n",
    "        for i in prange(num_reps):\n",
    "            sum_value += draw_tau()\n",
    "        return sum_value / num_reps\n",
    "\n",
    "    return compute_expected_tau()"
   ]
  },
  {
   "cell_type": "markdown",
   "id": "469de78c",
   "metadata": {},
   "source": [
    "让我们用一些可能的失业补偿金值来计算失业持续时间："
   ]
  },
  {
   "cell_type": "code",
   "execution_count": null,
   "id": "2b61cbc8",
   "metadata": {
    "hide-output": false
   },
   "outputs": [],
   "source": [
    "c_vals = np.linspace(1.0, 10.0, 8)\n",
    "durations = np.empty_like(c_vals)\n",
    "for i, c in enumerate(c_vals):\n",
    "    js = JobSearch(c=c)\n",
    "    τ = compute_unemployment_duration(js)\n",
    "    durations[i] = τ"
   ]
  },
  {
   "cell_type": "markdown",
   "id": "ea9c5188",
   "metadata": {},
   "source": [
    "这是可视化结果："
   ]
  },
  {
   "cell_type": "code",
   "execution_count": null,
   "id": "72c9aa5f",
   "metadata": {
    "hide-output": false
   },
   "outputs": [],
   "source": [
    "fig, ax = plt.subplots()\n",
    "ax.plot(c_vals, durations)\n",
    "ax.set_xlabel(\"失业补偿金\")\n",
    "ax.set_ylabel(\"平均失业持续时间\")\n",
    "plt.show()"
   ]
  },
  {
   "cell_type": "markdown",
   "id": "5192689d",
   "metadata": {},
   "source": [
    "不出所料，当失业补偿金更高时，失业持续时间增加。\n",
    "\n",
    "这是因为等待的价值随失业补偿金增加。"
   ]
  },
  {
   "cell_type": "markdown",
   "id": "e6c5e136",
   "metadata": {},
   "source": [
    "## 练习"
   ]
  },
  {
   "cell_type": "markdown",
   "id": "fa2e1462",
   "metadata": {},
   "source": [
    "## Exercise 30.1\n",
    "\n",
    "研究平均失业持续时间如何随折现因子 $ \\beta $ 变化。\n",
    "\n",
    "- 你的预期是什么？  \n",
    "- 结果是否符合你的预期？  "
   ]
  },
  {
   "cell_type": "markdown",
   "id": "d2b3de95",
   "metadata": {},
   "source": [
    "## Solution to[ Exercise 30.1](https://python.quantecon.org/#mc_ex1)\n",
    "\n",
    "这是一个解决方案"
   ]
  },
  {
   "cell_type": "code",
   "execution_count": null,
   "id": "fcae589a",
   "metadata": {
    "hide-output": false
   },
   "outputs": [],
   "source": [
    "beta_vals = np.linspace(0.94, 0.99, 8)\n",
    "durations = np.empty_like(beta_vals)\n",
    "for i, β in enumerate(beta_vals):\n",
    "    js = JobSearch(β=β)\n",
    "    τ = compute_unemployment_duration(js)\n",
    "    durations[i] = τ"
   ]
  },
  {
   "cell_type": "code",
   "execution_count": null,
   "id": "d3fa21a1",
   "metadata": {
    "hide-output": false
   },
   "outputs": [],
   "source": [
    "fig, ax = plt.subplots()\n",
    "ax.plot(beta_vals, durations)\n",
    "ax.set_xlabel(r\"$\\beta$\")\n",
    "ax.set_ylabel(\"平均失业持续时间\")\n",
    "plt.show()"
   ]
  },
  {
   "cell_type": "markdown",
   "id": "ead2e50f",
   "metadata": {},
   "source": [
    "该图显示，更有耐心的个人倾向于等待更长时间才接受报价。"
   ]
  }
 ],
 "metadata": {
  "date": 1750032243.7670588,
  "filename": "mccall_correlated.md",
  "kernelspec": {
   "display_name": "Python",
   "language": "python3",
   "name": "python3"
  },
  "title": "求职搜索 IV：相关工资报价"
 },
 "nbformat": 4,
 "nbformat_minor": 5
}