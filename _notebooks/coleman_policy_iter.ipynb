{
 "cells": [
  {
   "cell_type": "markdown",
   "id": "bd3369b4",
   "metadata": {},
   "source": [
    "<div id=\"qe-notebook-header\" align=\"right\" style=\"text-align:right;\">\n",
    "        <a href=\"https://quantecon.org/\" title=\"quantecon.org\">\n",
    "                <img style=\"width:250px;display:inline;\" width=\"250px\" src=\"https://assets.quantecon.org/img/qe-menubar-logo.svg\" alt=\"QuantEcon\">\n",
    "        </a>\n",
    "</div>"
   ]
  },
  {
   "cell_type": "markdown",
   "id": "ca8b0780",
   "metadata": {},
   "source": [
    "# 最优增长 III：时间迭代"
   ]
  },
  {
   "cell_type": "markdown",
   "id": "223630e5",
   "metadata": {},
   "source": [
    "## 目录\n",
    "\n",
    "- [最优增长 III：时间迭代](#最优增长-III：时间迭代)  \n",
    "  - [概述](#概述)  \n",
    "  - [欧拉方程](#欧拉方程)  \n",
    "  - [实现](#实现)  \n",
    "  - [练习](#练习)  "
   ]
  },
  {
   "cell_type": "markdown",
   "id": "f9777a19",
   "metadata": {},
   "source": [
    "除Anaconda已包含的库外，本讲义还需要安装以下库："
   ]
  },
  {
   "cell_type": "code",
   "execution_count": null,
   "id": "0611f259",
   "metadata": {
    "hide-output": false
   },
   "outputs": [],
   "source": [
    "!pip install quantecon"
   ]
  },
  {
   "cell_type": "markdown",
   "id": "c373ad00",
   "metadata": {},
   "source": [
    "## 概述\n",
    "\n",
    "在本讲中，我们将继续此前对[随机最优增长模型](https://python.quantecon.org/optgrowth.html)的研究。\n",
    "\n",
    "在那一讲中，我们使用价值函数迭代求解了相关的动态规划问题。\n",
    "\n",
    "这种技术的优点在于其广泛的适用性。\n",
    "\n",
    "然而，在数值问题中，我们常常可以通过推导出更贴合具体应用的算法，以获得更高的效率。\n",
    "\n",
    "随机最优增长模型具备丰富的结构可供利用，尤其当我们对原始要素施加某些凹性与光滑性假设时。\n",
    "\n",
    "我们将利用这一结构，获得基于欧拉方程的方法。\n",
    "\n",
    "这将是我们在基础讲义[吃蛋糕问题](https://python.quantecon.org/cake_eating_numerical.html)中所考虑的时间迭代方法的扩展。\n",
    "\n",
    "在[下一讲](https://python.quantecon.org/egm_policy_iter.html)中，我们将看到，时间迭代可以进一步调整，以获得更高的效率。\n",
    "\n",
    "接下来，让我们从导入开始："
   ]
  },
  {
   "cell_type": "code",
   "execution_count": null,
   "id": "70ea6950",
   "metadata": {
    "hide-output": false
   },
   "outputs": [],
   "source": [
    "import matplotlib.pyplot as plt\n",
    "import matplotlib as mpl\n",
    "FONTPATH = \"fonts/SourceHanSerifSC-SemiBold.otf\"\n",
    "mpl.font_manager.fontManager.addfont(FONTPATH)\n",
    "plt.rcParams['font.family'] = ['Source Han Serif SC']\n",
    "\n",
    "import numpy as np\n",
    "from quantecon.optimize import brentq\n",
    "from numba import jit"
   ]
  },
  {
   "cell_type": "markdown",
   "id": "e3d46b3e",
   "metadata": {},
   "source": [
    "## 欧拉方程\n",
    "\n",
    "我们的第一步是推导欧拉方程，这是此前在[吃蛋糕问题](https://python.quantecon.org/cake_eating_problem.html)中得到的欧拉方程的推广。\n",
    "\n",
    "我们采用[随机增长模型](https://python.quantecon.org/optgrowth.html)中的模型设定，并加入以下假设：\n",
    "\n",
    "1. $ u $ 和 $ f $ 是连续可微且严格凹函数；  \n",
    "1. $ f(0) = 0 $；  \n",
    "1. $ \\lim_{c \\to 0} u'(c) = \\infty $ 且 $ \\lim_{c \\to \\infty} u'(c) = 0 $；  \n",
    "1. $ \\lim_{k \\to 0} f'(k) = \\infty $ 且 $ \\lim_{k \\to \\infty} f'(k) = 0 $。  \n",
    "\n",
    "\n",
    "最后两个条件通常被称为**Inada条件**。\n",
    "\n",
    "回顾贝尔曼方程：\n",
    "\n",
    "\n",
    "<a id='equation-cpi-fpb30'></a>\n",
    "$$\n",
    "v^*(y) = \\max_{0 \\leq c \\leq y}\n",
    "    \\left\\{\n",
    "        u(c) + \\beta \\int v^*(f(y - c) z) \\phi(dz)\n",
    "    \\right\\}\n",
    "\\quad \\forall y \\in \\mathbb R_+ \\tag{59.1}\n",
    "$$\n",
    "\n",
    "令最优消费策略记为 $ \\sigma^* $。\n",
    "\n",
    "我们知道 $ \\sigma^* $ 是一个 $ v^* $-逐期最优的，因此 $ \\sigma^*(y) $ 是[(59.1)](#equation-cpi-fpb30)中的最大化解。\n",
    "\n",
    "上述条件表明：\n",
    "\n",
    "- $ \\sigma^* $ 是随机最优增长模型的唯一最优策略；  \n",
    "- 该最优策略是连续的、严格递增的，并且是**内部解**，即对于所有严格正的 $ y $，都有 $ 0 < \\sigma^*(y) < y $；  \n",
    "- 价值函数是严格凹的且连续可微的，并满足：  \n",
    "\n",
    "\n",
    "\n",
    "<a id='equation-cpi-env'></a>\n",
    "$$\n",
    "(v^*)'(y) = u' (\\sigma^*(y) ) := (u' \\circ \\sigma^*)(y) \\tag{59.2}\n",
    "$$\n",
    "\n",
    "最后一个结果被称为**包络条件**，因为它与[包络定理](https://baike.baidu.com/item/%E5%8C%85%E7%BB%9C%E5%AE%9A%E7%90%86/5746200)有关。\n",
    "\n",
    "要理解为什么[(59.2)](#equation-cpi-env)成立，可以将贝尔曼方程写成等价形式：\n",
    "\n",
    "$$\n",
    "v^*(y) = \\max_{0 \\leq k \\leq y}\n",
    "    \\left\\{\n",
    "        u(y-k) + \\beta \\int v^*(f(k) z) \\phi(dz)\n",
    "    \\right\\},\n",
    "$$\n",
    "\n",
    "对 $ y $ 求导，并在最优解处求值，即可得到[(59.2)](#equation-cpi-env)。\n",
    "\n",
    "（[EDTC](https://johnstachurski.net/edtc.html)第12.1节给出了这些结果的完整证明，许多其他教材中也可找到类似讨论。）\n",
    "\n",
    "价值函数的可微性和最优策略的内部性意味着，最优消费决策满足与[(59.1)](#equation-cpi-fpb30)相关的一阶条件，即\n",
    "\n",
    "\n",
    "<a id='equation-cpi-foc'></a>\n",
    "$$\n",
    "u'(\\sigma^*(y)) = \\beta \\int (v^*)'(f(y - \\sigma^*(y)) z) f'(y - \\sigma^*(y)) z \\phi(dz) \\tag{59.3}\n",
    "$$\n",
    "\n",
    "将[(59.2)](#equation-cpi-env)和该一阶条件[(59.3)](#equation-cpi-foc)结合，得到**欧拉方程**：\n",
    "\n",
    "\n",
    "<a id='equation-cpi-euler'></a>\n",
    "$$\n",
    "(u'\\circ \\sigma^*)(y)\n",
    "= \\beta \\int (u'\\circ \\sigma^*)(f(y - \\sigma^*(y)) z) f'(y - \\sigma^*(y)) z \\phi(dz) \\tag{59.4}\n",
    "$$\n",
    "\n",
    "我们可以将欧拉方程视为一个函数方程：\n",
    "\n",
    "\n",
    "<a id='equation-cpi-euler-func'></a>\n",
    "$$\n",
    "(u'\\circ \\sigma)(y)\n",
    "= \\beta \\int (u'\\circ \\sigma)(f(y - \\sigma(y)) z) f'(y - \\sigma(y)) z \\phi(dz) \\tag{59.5}\n",
    "$$\n",
    "\n",
    "其中 $ \\sigma $ 为内部消费策略，其解之一即为最优策略 $ \\sigma^* $。\n",
    "\n",
    "我们的目标是求解函数方程 [(59.5)](#equation-cpi-euler-func) 从而获得 $ \\sigma^* $。"
   ]
  },
  {
   "cell_type": "markdown",
   "id": "171139f2",
   "metadata": {},
   "source": [
    "### Coleman-Reffett 算子\n",
    "\n",
    "回顾贝尔曼算子：\n",
    "\n",
    "\n",
    "<a id='equation-fcbell20-coleman'></a>\n",
    "$$\n",
    "Tv(y) := \\max_{0 \\leq c \\leq y}\n",
    "\\left\\{\n",
    "    u(c) + \\beta \\int v(f(y - c) z) \\phi(dz)\n",
    "\\right\\} \\tag{59.6}\n",
    "$$\n",
    "\n",
    "正如我们引入贝尔曼算子来求解贝尔曼方程一样，我们现在将引入一个作用于策略空间的算子，用于帮助我们求解欧拉方程。\n",
    "\n",
    "该算子 $ K $ 将作用于所有连续、严格递增且为内部解的 $ \\sigma \\in \\Sigma $。\n",
    "\n",
    "此后我们将这类策略集合记为 $ \\mathscr P $。\n",
    "\n",
    "1. 算子 $ K $ 的自变量是一个 $ \\sigma \\in \\mathscr P $；  \n",
    "1. 返回一个新函数 $ K\\sigma $，其中 $ (K\\sigma)(y) $ 是求解以下方程的 $ c \\in (0, y) $:  \n",
    "\n",
    "\n",
    "\n",
    "<a id='equation-cpi-coledef'></a>\n",
    "$$\n",
    "u'(c)\n",
    "= \\beta \\int (u' \\circ \\sigma) (f(y - c) z ) f'(y - c) z \\phi(dz) \\tag{59.7}\n",
    "$$\n",
    "\n",
    "我们称这个算子为**Coleman-Reffett算子**，以此致敬[[Coleman, 1990](https://python.quantecon.org/zreferences.html#id163)]和[[Reffett, 1996](https://python.quantecon.org/zreferences.html#id95)]的研究工作。\n",
    "\n",
    "本质上，$ K\\sigma $ 表示在给定未来消费策略为 $ \\sigma $ 时，欧拉方程指导你今天应选择的消费策略。\n",
    "\n",
    "值得注意的是：依据构造，算子 $ K $ 的不动点恰好与函数方程[(59.5)](#equation-cpi-euler-func)的解相一致。\n",
    "\n",
    "特别地，最优政策 $ \\sigma^* $ 是一个不动点。\n",
    "\n",
    "事实上，对于固定的 $ y $，$ (K\\sigma^*)(y) $ 是满足以下方程的 $ c $：\n",
    "\n",
    "$$\n",
    "u'(c)\n",
    "= \\beta \\int (u' \\circ \\sigma^*) (f(y - c) z ) f'(y - c) z \\phi(dz)\n",
    "$$\n",
    "\n",
    "根据欧拉方程，该解正是 $ \\sigma^*(y) $。"
   ]
  },
  {
   "cell_type": "markdown",
   "id": "86e82579",
   "metadata": {},
   "source": [
    "### Coleman-Reffett算子是否定义良好？\n",
    "\n",
    "特别地，是否总存在唯一的 $ c \\in (0, y) $ 使其满足[(59.7)](#equation-cpi-coledef)？\n",
    "\n",
    "在我们的假设条件下，答案是肯定的。\n",
    "\n",
    "对于任何 $ \\sigma \\in \\mathscr P $，[(59.7)](#equation-cpi-coledef) 的右侧：\n",
    "\n",
    "- 在 $ (0, y) $ 上关于 $ c $ 是连续且严格递增的；  \n",
    "- 当 $ c \\uparrow y $ 时趋向于 $ +\\infty $。  \n",
    "\n",
    "\n",
    "[(59.7)](#equation-cpi-coledef) 的左侧：\n",
    "\n",
    "- 在 $ (0, y) $ 上关于 $ c $ 是连续且严格递减的；  \n",
    "- 当 $ c \\downarrow 0 $ 时趋向于 $ +\\infty $。  \n",
    "\n",
    "\n",
    "绘制这些曲线并利用上述信息，二者在 $ c \\in (0, y) $ 上恰好有且仅有一次交点。\n",
    "\n",
    "进一步分析可得：若 $ \\sigma \\in \\mathscr P $，则 $ K \\sigma \\in \\mathscr P $。"
   ]
  },
  {
   "cell_type": "markdown",
   "id": "22fd2219",
   "metadata": {},
   "source": [
    "### 与价值函数迭代的理论比较\n",
    "\n",
    "可以证明，算子 $ K $ 的迭代与贝尔曼算子的迭代之间存在紧密关系。\n",
    "\n",
    "从数学上讲，这两个算子是*拓扑共轭的*。\n",
    "\n",
    "简单来说，这意味着：如果一个算子的迭代收敛，那么另一个算子的迭代也会收敛，反之亦然。\n",
    "\n",
    "此外，在理论上可以认为二者的收敛速率是相同的。\n",
    "\n",
    "然而，事实证明，算子 $ K $ 在数值计算上更加稳定，因此在我们考虑的应用中更加高效。\n",
    "\n",
    "下面给出若干示例。"
   ]
  },
  {
   "cell_type": "markdown",
   "id": "42c67ad9",
   "metadata": {},
   "source": [
    "## 实现\n",
    "\n",
    "与[上一讲](https://python.quantecon.org/optgrowth_fast.html)一样，我们继续假设：\n",
    "\n",
    "- $ u(c) = \\ln c $；  \n",
    "- $ f(k) = k^{\\alpha} $；  \n",
    "- $ \\phi $ 是 $ \\xi := \\exp(\\mu + s \\zeta) $ 的分布，且 $ \\zeta $ 服从标准正态分布。  \n",
    "\n",
    "\n",
    "这一设定使我们能够将数值结果与解析解进行比较。"
   ]
  },
  {
   "cell_type": "code",
   "execution_count": null,
   "id": "610c4962",
   "metadata": {
    "hide-output": false
   },
   "outputs": [],
   "source": [
    "\n",
    "def v_star(y, α, β, μ):\n",
    "    \"\"\"\n",
    "    真实价值函数\n",
    "    \"\"\"\n",
    "    c1 = np.log(1 - α * β) / (1 - β)\n",
    "    c2 = (μ + α * np.log(α * β)) / (1 - α)\n",
    "    c3 = 1 / (1 - β)\n",
    "    c4 = 1 / (1 - α * β)\n",
    "    return c1 + c2 * (c3 - c4) + c4 * np.log(y)\n",
    "\n",
    "def σ_star(y, α, β):\n",
    "    \"\"\"\n",
    "    真实最优策略\n",
    "    \"\"\"\n",
    "    return (1 - α * β) * y"
   ]
  },
  {
   "cell_type": "markdown",
   "id": "7f36eb43",
   "metadata": {},
   "source": [
    "如上所述，我们的目标是通过时间迭代来求解模型，即对算子 $ K $ 进行迭代。\n",
    "\n",
    "为此，我们需要函数 $ u', f $ 和 $ f' $。\n",
    "\n",
    "我们将使用[上一讲](https://python.quantecon.org/optgrowth_fast.html)中构建的`OptimalGrowthModel`类来实现。"
   ]
  },
  {
   "cell_type": "code",
   "execution_count": null,
   "id": "34b20361",
   "metadata": {
    "hide-output": false
   },
   "outputs": [],
   "source": [
    "from numba import float64\n",
    "from numba.experimental import jitclass\n",
    "\n",
    "opt_growth_data = [\n",
    "    ('α', float64),          # 生产参数\n",
    "    ('β', float64),          # 折现因子\n",
    "    ('μ', float64),          # 冲击的均值参数\n",
    "    ('s', float64),          # 冲击的尺度参数\n",
    "    ('grid', float64[:]),    # 网格（数组）\n",
    "    ('shocks', float64[:])   # 冲击样本（数组）\n",
    "]\n",
    "\n",
    "@jitclass(opt_growth_data)\n",
    "class OptimalGrowthModel:\n",
    "\n",
    "    def __init__(self,\n",
    "                α=0.4,\n",
    "                β=0.96,\n",
    "                μ=0,\n",
    "                s=0.1,\n",
    "                grid_max=4,\n",
    "                grid_size=120,\n",
    "                shock_size=250,\n",
    "                seed=1234):\n",
    "\n",
    "        self.α, self.β, self.μ, self.s = α, β, μ, s\n",
    "\n",
    "         # 设置网格\n",
    "        self.grid = np.linspace(1e-5, grid_max, grid_size)\n",
    "\n",
    "        # 存储冲击（设置随机种子以确保结果可重复）\n",
    "        np.random.seed(seed)\n",
    "        self.shocks = np.exp(μ + s * np.random.randn(shock_size))\n",
    "\n",
    "\n",
    "    def f(self, k):\n",
    "       \"生产函数\"\n",
    "        return k**self.α\n",
    "\n",
    "\n",
    "    def u(self, c):\n",
    "        \"效用函数\"\n",
    "        return np.log(c)\n",
    "\n",
    "    def f_prime(self, k):\n",
    "        \"生产函数的一阶导数\"\n",
    "        return self.α * (k**(self.α - 1))\n",
    "\n",
    "\n",
    "    def u_prime(self, c):\n",
    "        \"效用函数的一阶导数\"\n",
    "        return 1/c\n",
    "\n",
    "    def u_prime_inv(self, c):\n",
    "        \"效用函数一阶导数的反函数\"\n",
    "        return 1/c"
   ]
  },
  {
   "cell_type": "markdown",
   "id": "4d33dd0d",
   "metadata": {},
   "source": [
    "接下来我们实现一个名为`euler_diff`的方法，该方法返回：\n",
    "\n",
    "\n",
    "<a id='equation-euler-diff'></a>\n",
    "$$\n",
    "u'(c) - \\beta \\int (u' \\circ \\sigma) (f(y - c) z ) f'(y - c) z \\phi(dz) \\tag{59.8}\n",
    "$$"
   ]
  },
  {
   "cell_type": "code",
   "execution_count": null,
   "id": "e0c60673",
   "metadata": {
    "hide-output": false
   },
   "outputs": [],
   "source": [
    "@jit\n",
    "def euler_diff(c, σ, y, og):\n",
    "    \"\"\"\n",
    "    设置一个函数，使得关于c的根，\n",
    "    在给定y和σ的情况下，等于Kσ(y)。\n",
    "\n",
    "    \"\"\"\n",
    "\n",
    "    β, shocks, grid = og.β, og.shocks, og.grid\n",
    "    f, f_prime, u_prime = og.f, og.f_prime, og.u_prime\n",
    "\n",
    "    # 首先通过插值将σ转换为函数\n",
    "    σ_func = lambda x: np.interp(x, grid, σ)\n",
    "\n",
    "    # 现在设置我们需要找到根的函数\n",
    "    vals = u_prime(σ_func(f(y - c) * shocks)) * f_prime(y - c) * shocks\n",
    "    return u_prime(c) - β * np.mean(vals)"
   ]
  },
  {
   "cell_type": "markdown",
   "id": "4043d791",
   "metadata": {},
   "source": [
    "函数`euler_diff`通过蒙特卡洛方法计算积分，并使用线性插值对函数进行近似。\n",
    "\n",
    "我们将使用求根算法来求解式[(59.8)](#equation-euler-diff)，给定状态 $ y $ 和 $ σ $，寻找当前期消费 $ c $。\n",
    "\n",
    "下面是实现该求根算法的算子 $ K $。"
   ]
  },
  {
   "cell_type": "code",
   "execution_count": null,
   "id": "acb393e1",
   "metadata": {
    "hide-output": false
   },
   "outputs": [],
   "source": [
    "@jit\n",
    "def K(σ, og):\n",
    "    \"\"\"\n",
    "    Coleman-Reffett算子\n",
    "\n",
    "    这里og是OptimalGrowthModel的一个实例。\n",
    "    \"\"\"\n",
    "\n",
    "    β = og.β\n",
    "    f, f_prime, u_prime = og.f, og.f_prime, og.u_prime\n",
    "    grid, shocks = og.grid, og.shocks\n",
    "\n",
    "    σ_new = np.empty_like(σ)\n",
    "    for i, y in enumerate(grid):\n",
    "        # 在y处求解最优c\n",
    "        c_star = brentq(euler_diff, 1e-10, y-1e-10, args=(σ, y, og))[0]\n",
    "        σ_new[i] = c_star\n",
    "\n",
    "    return σ_new"
   ]
  },
  {
   "cell_type": "markdown",
   "id": "7e444490",
   "metadata": {},
   "source": [
    "### 测试\n",
    "\n",
    "接下来，我们生成一个实例并绘制算子 $ K $ 的若干次迭代结果，初始条件取 $ σ(y) = y $。"
   ]
  },
  {
   "cell_type": "code",
   "execution_count": null,
   "id": "355e4f87",
   "metadata": {
    "hide-output": false
   },
   "outputs": [],
   "source": [
    "og = OptimalGrowthModel()\n",
    "grid = og.grid\n",
    "\n",
    "n = 15\n",
    "σ = grid.copy()  # 设置初始条件\n",
    "\n",
    "fig, ax = plt.subplots()\n",
    "lb = '初始条件 $\\sigma(y) = y$'\n",
    "ax.plot(grid, σ, color=plt.cm.jet(0), alpha=0.6, label=lb)\n",
    "\n",
    "for i in range(n):\n",
    "    σ = K(σ, og)\n",
    "    ax.plot(grid, σ, color=plt.cm.jet(i / n), alpha=0.6)\n",
    "\n",
    "# 再更新一次并用黑色绘制最后一次迭代\n",
    "σ = K(σ, og)\n",
    "ax.plot(grid, σ, color='k', alpha=0.8, label='最后一次迭代')\n",
    "\n",
    "ax.legend()\n",
    "\n",
    "plt.show()"
   ]
  },
  {
   "cell_type": "markdown",
   "id": "2ebc90dd",
   "metadata": {},
   "source": [
    "我们可以看到，迭代过程快速收敛到一个极限，该极限与我们在[上一讲](https://python.quantecon.org/optgrowth_fast.html)中得到的解非常相似。\n",
    "\n",
    "这里给出一个名为`solve_model_time_iter`的函数，它接收一个`OptimalGrowthModel`实例作为输入，并通过时间迭代法返回最优策略的近似解。"
   ]
  },
  {
   "cell_type": "code",
   "execution_count": null,
   "id": "ceb06c89",
   "metadata": {
    "hide-output": false
   },
   "outputs": [],
   "source": [
    "def solve_model_time_iter(model,    # 含有模型信息的类\n",
    "                          σ,        # 初始条件\n",
    "                          tol=1e-4,\n",
    "                          max_iter=1000,\n",
    "                          verbose=True,\n",
    "                          print_skip=25):\n",
    "\n",
    "    # 设置迭代循环\n",
    "    i = 0\n",
    "    error = tol + 1\n",
    "\n",
    "    while i < max_iter and error > tol:\n",
    "        σ_new = K(σ, model)\n",
    "        error = np.max(np.abs(σ - σ_new))\n",
    "        i += 1\n",
    "        if verbose and i % print_skip == 0:\n",
    "            print(f\"第 {i} 次迭代的误差为 {error}。\")\n",
    "        σ = σ_new\n",
    "\n",
    "    if error > tol:\n",
    "        print(\"未能收敛！\")\n",
    "    elif verbose:\n",
    "        print(f\"\\n在 {i} 次迭代后收敛。\")\n",
    "\n",
    "    return σ_new"
   ]
  },
  {
   "cell_type": "markdown",
   "id": "1e9380ee",
   "metadata": {},
   "source": [
    "让我们运行它："
   ]
  },
  {
   "cell_type": "code",
   "execution_count": null,
   "id": "a1bc2e24",
   "metadata": {
    "hide-output": false
   },
   "outputs": [],
   "source": [
    "σ_init = np.copy(og.grid)\n",
    "σ = solve_model_time_iter(og, σ_init)"
   ]
  },
  {
   "cell_type": "markdown",
   "id": "5c50244d",
   "metadata": {},
   "source": [
    "这是得到的策略与真实策略的对比图："
   ]
  },
  {
   "cell_type": "code",
   "execution_count": null,
   "id": "848d3ed0",
   "metadata": {
    "hide-output": false
   },
   "outputs": [],
   "source": [
    "fig, ax = plt.subplots()\n",
    "\n",
    "ax.plot(og.grid, σ, lw=2,\n",
    "        alpha=0.8, label='近似策略函数')\n",
    "\n",
    "ax.plot(og.grid, σ_star(og.grid, og.α, og.β), 'k--',\n",
    "        lw=2, alpha=0.8, label='真实策略函数')\n",
    "\n",
    "ax.legend()\n",
    "plt.show()"
   ]
  },
  {
   "cell_type": "markdown",
   "id": "9c2dee5c",
   "metadata": {},
   "source": [
    "再次说明，拟合效果非常好。\n",
    "\n",
    "两种策略之间的最大绝对偏差是："
   ]
  },
  {
   "cell_type": "code",
   "execution_count": null,
   "id": "70a6f723",
   "metadata": {
    "hide-output": false
   },
   "outputs": [],
   "source": [
    "np.max(np.abs(σ - σ_star(og.grid, og.α, og.β)))"
   ]
  },
  {
   "cell_type": "markdown",
   "id": "888ff16f",
   "metadata": {},
   "source": [
    "收敛所需时间如下："
   ]
  },
  {
   "cell_type": "code",
   "execution_count": null,
   "id": "cb63ec1c",
   "metadata": {
    "hide-output": false
   },
   "outputs": [],
   "source": [
    "%%timeit -n 3 -r 1\n",
    "σ = solve_model_time_iter(og, σ_init, verbose=False)"
   ]
  },
  {
   "cell_type": "markdown",
   "id": "e5ccca14",
   "metadata": {},
   "source": [
    "收敛速度非常快，甚至优于我们[基于JIT编译的价值函数迭代](https://python.quantecon.org/optgrowth_fast.html)。\n",
    "\n",
    "总的来说，我们发现，至少对于该模型而言，时间迭代法在效率与准确度上均展现出高度优势。"
   ]
  },
  {
   "cell_type": "markdown",
   "id": "7e79cb0a",
   "metadata": {},
   "source": [
    "## 练习"
   ]
  },
  {
   "cell_type": "markdown",
   "id": "7e709e44",
   "metadata": {},
   "source": [
    "## Exercise 59.1\n",
    "\n",
    "求解具有CRRA效用函数的模型\n",
    "\n",
    "$$\n",
    "u(c) = \\frac{c^{1 - \\gamma}} {1 - \\gamma}\n",
    "$$\n",
    "\n",
    "其中`γ = 1.5`。\n",
    "\n",
    "计算并绘制最优策略。"
   ]
  },
  {
   "cell_type": "markdown",
   "id": "baf11ca1",
   "metadata": {},
   "source": [
    "## Solution to[ Exercise 59.1](https://python.quantecon.org/#cpi_ex1)\n",
    "\n",
    "我们使用[VFI讲义](https://python.quantecon.org/optgrowth_fast.html)中的`OptimalGrowthModel_CRRA`类。"
   ]
  },
  {
   "cell_type": "code",
   "execution_count": null,
   "id": "6e0735a8",
   "metadata": {
    "hide-output": false
   },
   "outputs": [],
   "source": [
    "from numba import float64\n",
    "from numba.experimental import jitclass\n",
    "\n",
    "opt_growth_data = [\n",
    "    ('α', float64),          # 生产参数\n",
    "    ('β', float64),          # 折现因子\n",
    "    ('μ', float64),          # 冲击的均值参数\n",
    "    ('γ', float64),          # 偏好参数\n",
    "    ('s', float64),          # 冲击的尺度参数\n",
    "    ('grid', float64[:]),    # 网格（数组）\n",
    "    ('shocks', float64[:])   # 冲击样本（数组）\n",
    "]\n",
    "\n",
    "@jitclass(opt_growth_data)\n",
    "class OptimalGrowthModel_CRRA:\n",
    "\n",
    "    def __init__(self,\n",
    "                α=0.4,\n",
    "                β=0.96,\n",
    "                μ=0,\n",
    "                s=0.1,\n",
    "                γ=1.5,\n",
    "                grid_max=4,\n",
    "                grid_size=120,\n",
    "                shock_size=250,\n",
    "                seed=1234):\n",
    "\n",
    "        self.α, self.β, self.γ, self.μ, self.s = α, β, γ, μ, s\n",
    "\n",
    "        # 设置网格\n",
    "        self.grid = np.linspace(1e-5, grid_max, grid_size)\n",
    "\n",
    "        # 存储冲击（设置随机种子以确保结果可重复）\n",
    "        np.random.seed(seed)\n",
    "        self.shocks = np.exp(μ + s * np.random.randn(shock_size))\n",
    "\n",
    "    def f(self, k):\n",
    "        \"生产函数\"\n",
    "        return k**self.α\n",
    "\n",
    "    def u(self, c):\n",
    "        \"效用函数\"\n",
    "        return c**(1 - self.γ) / (1 - self.γ)\n",
    "\n",
    "    def f_prime(self, k):\n",
    "        \"生产函数的一阶导数\"\n",
    "        return self.α * (k**(self.α - 1))\n",
    "\n",
    "    def u_prime(self, c):\n",
    "        \"效用函数的一阶导数\"\n",
    "        return c**(-self.γ)\n",
    "\n",
    "    def u_prime_inv(self, c):\n",
    "        \"效用函数一阶导数的反函数\"\n",
    "        return c**(-1 / self.γ)"
   ]
  },
  {
   "cell_type": "markdown",
   "id": "20d77295",
   "metadata": {},
   "source": [
    "创建一个实例："
   ]
  },
  {
   "cell_type": "code",
   "execution_count": null,
   "id": "e70b7037",
   "metadata": {
    "hide-output": false
   },
   "outputs": [],
   "source": [
    "og_crra = OptimalGrowthModel_CRRA()"
   ]
  },
  {
   "cell_type": "markdown",
   "id": "f7409591",
   "metadata": {},
   "source": [
    "求解并绘制策略："
   ]
  },
  {
   "cell_type": "code",
   "execution_count": null,
   "id": "d3fedbb0",
   "metadata": {
    "hide-output": false
   },
   "outputs": [],
   "source": [
    "%%time\n",
    "σ = solve_model_time_iter(og_crra, σ_init)\n",
    "\n",
    "\n",
    "fig, ax = plt.subplots()\n",
    "\n",
    "ax.plot(og.grid, σ, lw=2,\n",
    "        alpha=0.8, label='近似策略函数')\n",
    "\n",
    "ax.legend()\n",
    "plt.show()"
   ]
  }
 ],
 "metadata": {
  "date": 1761257070.0124273,
  "filename": "coleman_policy_iter.md",
  "kernelspec": {
   "display_name": "Python",
   "language": "python3",
   "name": "python3"
  },
  "title": "最优增长 III：时间迭代"
 },
 "nbformat": 4,
 "nbformat_minor": 5
}