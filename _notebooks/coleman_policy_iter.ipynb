{
 "cells": [
  {
   "cell_type": "markdown",
   "id": "913c2b6c",
   "metadata": {},
   "source": [
    "<div id=\"qe-notebook-header\" align=\"right\" style=\"text-align:right;\">\n",
    "        <a href=\"https://quantecon.org/\" title=\"quantecon.org\">\n",
    "                <img style=\"width:250px;display:inline;\" width=\"250px\" src=\"https://assets.quantecon.org/img/qe-menubar-logo.svg\" alt=\"QuantEcon\">\n",
    "        </a>\n",
    "</div>"
   ]
  },
  {
   "cell_type": "markdown",
   "id": "601d79a8",
   "metadata": {},
   "source": [
    "# 最优增长 III：时间迭代"
   ]
  },
  {
   "cell_type": "markdown",
   "id": "b8332f64",
   "metadata": {},
   "source": [
    "## 目录\n",
    "\n",
    "- [最优增长 III：时间迭代](#最优增长-III：时间迭代)  \n",
    "  - [概述](#概述)  \n",
    "  - [欧拉方程](#欧拉方程)  \n",
    "  - [实现](#实现)  \n",
    "  - [练习](#练习)  "
   ]
  },
  {
   "cell_type": "markdown",
   "id": "a5bb98e6",
   "metadata": {},
   "source": [
    "除了Anaconda中已有的库外，本讲座还需要以下库："
   ]
  },
  {
   "cell_type": "code",
   "execution_count": null,
   "id": "e25c1c67",
   "metadata": {
    "hide-output": false
   },
   "outputs": [],
   "source": [
    "!pip install quantecon"
   ]
  },
  {
   "cell_type": "markdown",
   "id": "4b4d6042",
   "metadata": {},
   "source": [
    "## 概述\n",
    "\n",
    "在本讲中，我们将继续我们[之前](https://python.quantecon.org/optgrowth.html)对随机最优增长模型的研究。\n",
    "\n",
    "在那节课中，我们使用值函数迭代求解了相关的动态规划问题。\n",
    "\n",
    "这种技术的优点在于其广泛的适用性。\n",
    "\n",
    "然而，对于数值问题，我们通常可以通过推导专门针对具体应用的方法来获得更高的效率。\n",
    "\n",
    "随机最优增长模型有大量可供利用的结构，特别是当我们对原始函数采用一些凹性和光滑性假设时。\n",
    "\n",
    "我们将利用这种结构来获得一个基于欧拉方程的方法。\n",
    "\n",
    "这将是对我们在[蛋糕食用问题](https://python.quantecon.org/cake_eating_numerical.html)的基础讲座中考虑的时间迭代法的扩展。\n",
    "\n",
    "在[后续讲座](https://python.quantecon.org/egm_policy_iter.html)中，我们将看到时间迭代可以进一步调整以获得更高的效率。\n",
    "让我们从一些导入开始："
   ]
  },
  {
   "cell_type": "code",
   "execution_count": null,
   "id": "14a24479",
   "metadata": {
    "hide-output": false
   },
   "outputs": [],
   "source": [
    "import matplotlib.pyplot as plt\n",
    "import matplotlib as mpl\n",
    "FONTPATH = \"fonts/SourceHanSerifSC-SemiBold.otf\"\n",
    "mpl.font_manager.fontManager.addfont(FONTPATH)\n",
    "plt.rcParams['font.family'] = ['Source Han Serif SC']\n",
    "\n",
    "import numpy as np\n",
    "from quantecon.optimize import brentq\n",
    "from numba import jit"
   ]
  },
  {
   "cell_type": "markdown",
   "id": "3ef3bbcf",
   "metadata": {},
   "source": [
    "## 欧拉方程\n",
    "\n",
    "我们的第一步是推导欧拉方程，这是对我们在[蛋糕食用问题讲座](https://python.quantecon.org/cake_eating_problem.html)中得到的欧拉方程的推广。\n",
    "\n",
    "我们采用[随机增长模型讲座](https://python.quantecon.org/optgrowth.html)中设定的模型，并添加以下假设：\n",
    "\n",
    "1. $ u $和$ f $是连续可微且严格凹函数  \n",
    "1. $ f(0) = 0 $  \n",
    "1. $ \\lim_{c \\to 0} u'(c) = \\infty $且$ \\lim_{c \\to \\infty} u'(c) = 0 $  \n",
    "1. $ \\lim_{k \\to 0} f'(k) = \\infty $且$ \\lim_{k \\to \\infty} f'(k) = 0 $  \n",
    "\n",
    "\n",
    "最后两个条件通常被称为**稻田条件**。\n",
    "\n",
    "回顾贝尔曼方程\n",
    "\n",
    "\n",
    "<a id='equation-cpi-fpb30'></a>\n",
    "$$\n",
    "v^*(y) = \\max_{0 \\leq c \\leq y}\n",
    "    \\left\\{\n",
    "        u(c) + \\beta \\int v^*(f(y - c) z) \\phi(dz)\n",
    "    \\right\\}\n",
    "\\quad \\text{for all} \\quad\n",
    "y \\in \\mathbb R_+ \\tag{42.1}\n",
    "$$\n",
    "\n",
    "让最优消费策略用$ \\sigma^* $表示。\n",
    "\n",
    "我们知道$ \\sigma^* $是一个$ v^* $-贪婪策略，因此$ \\sigma^*(y) $是[(42.1)](#equation-cpi-fpb30)中的最大化值。\n",
    "上述条件表明\n",
    "\n",
    "- $ \\sigma^* $ 是随机最优增长模型的唯一最优策略  \n",
    "- 最优策略是连续的、严格递增的，并且是**内部的**，即对于所有严格正的 $ y $，都有 $ 0 < \\sigma^*(y) < y $，并且  \n",
    "- 值函数是严格凹的且连续可微的，满足  \n",
    "\n",
    "\n",
    "\n",
    "<a id='equation-cpi-env'></a>\n",
    "$$\n",
    "(v^*)'(y) = u' (\\sigma^*(y) ) := (u' \\circ \\sigma^*)(y) \\tag{42.2}\n",
    "$$\n",
    "\n",
    "最后这个结果被称为**包络条件**，因为它与[包络定理](https://en.wikipedia.org/wiki/Envelope_theorem)有关。\n",
    "\n",
    "要理解为什么[(42.2)](#equation-cpi-env)成立，可以将贝尔曼方程写成等价形式\n",
    "\n",
    "$$\n",
    "v^*(y) = \\max_{0 \\leq k \\leq y}\n",
    "    \\left\\{\n",
    "        u(y-k) + \\beta \\int v^*(f(k) z) \\phi(dz)\n",
    "    \\right\\},\n",
    "$$\n",
    "\n",
    "对 $ y $ 求导，然后在最优点处求值即可得到[(42.2)](#equation-cpi-env)。\n",
    "（[EDTC](https://johnstachurski.net/edtc.html)第12.1节包含这些结果的完整证明，许多其他教材中也可以找到密切相关的讨论。）\n",
    "\n",
    "价值函数的可微性和最优策略的内部性意味着最优消费满足与[(42.1)](#equation-cpi-fpb30)相关的一阶条件，即\n",
    "\n",
    "\n",
    "<a id='equation-cpi-foc'></a>\n",
    "$$\n",
    "u'(\\sigma^*(y)) = \\beta \\int (v^*)'(f(y - \\sigma^*(y)) z) f'(y - \\sigma^*(y)) z \\phi(dz) \\tag{42.3}\n",
    "$$\n",
    "\n",
    "将[(42.2)](#equation-cpi-env)和一阶条件[(42.3)](#equation-cpi-foc)结合得到**欧拉方程**\n",
    "\n",
    "\n",
    "<a id='equation-cpi-euler'></a>\n",
    "$$\n",
    "(u'\\circ \\sigma^*)(y)\n",
    "= \\beta \\int (u'\\circ \\sigma^*)(f(y - \\sigma^*(y)) z) f'(y - \\sigma^*(y)) z \\phi(dz) \\tag{42.4}\n",
    "$$\n",
    "\n",
    "我们可以将欧拉方程视为一个泛函方程\n",
    "\n",
    "\n",
    "<a id='equation-cpi-euler-func'></a>\n",
    "$$\n",
    "(u'\\circ \\sigma)(y)\n",
    "= \\beta \\int (u'\\circ \\sigma)(f(y - \\sigma(y)) z) f'(y - \\sigma(y)) z \\phi(dz) \\tag{42.5}\n",
    "$$\n",
    "\n",
    "对于内部消费策略 $ \\sigma $，其中一个解就是最优策略 $ \\sigma^* $。\n",
    "\n",
    "我们的目标是求解函数方程 [(42.5)](#equation-cpi-euler-func) 从而获得 $ \\sigma^* $。"
   ]
  },
  {
   "cell_type": "markdown",
   "id": "6d63ebde",
   "metadata": {},
   "source": [
    "### Coleman-Reffett 算子\n",
    "\n",
    "回顾 Bellman 算子\n",
    "\n",
    "\n",
    "<a id='equation-fcbell20-coleman'></a>\n",
    "$$\n",
    "Tv(y) := \\max_{0 \\leq c \\leq y}\n",
    "\\left\\{\n",
    "    u(c) + \\beta \\int v(f(y - c) z) \\phi(dz)\n",
    "\\right\\} \\tag{42.6}\n",
    "$$\n",
    "\n",
    "正如我们引入 Bellman 算子来求解 Bellman 方程一样，我们现在将引入一个作用于策略的算子来帮助我们求解欧拉方程。\n",
    "\n",
    "这个算子 $ K $ 将作用于所有连续、严格递增且内部的 $ \\sigma \\in \\Sigma $ 的集合上。\n",
    "\n",
    "此后我们用 $ \\mathscr P $ 表示这个策略集合\n",
    "\n",
    "1. 算子 $ K $ 以 $ \\sigma \\in \\mathscr P $ 为参数  \n",
    "1. 返回一个新函数 $ K\\sigma $，其中 $ K\\sigma(y) $ 是求解以下方程的 $ c \\in (0, y) $。  \n",
    "\n",
    "\n",
    "\n",
    "<a id='equation-cpi-coledef'></a>\n",
    "$$\n",
    "u'(c)\n",
    "= \\beta \\int (u' \\circ \\sigma) (f(y - c) z ) f'(y - c) z \\phi(dz) \\tag{42.7}\n",
    "$$\n",
    "\n",
    "我们称这个算子为**Coleman-Reffett算子**，以此致敬[[Coleman, 1990](https://python.quantecon.org/zreferences.html#id155)]和[[Reffett, 1996](https://python.quantecon.org/zreferences.html#id87)]的研究工作。\n",
    "\n",
    "本质上，当你的未来消费政策是$ \\sigma $时，$ K\\sigma $是欧拉方程告诉你今天应该选择的消费政策。\n",
    "\n",
    "关于$ K $需要注意的重要一点是，根据其构造，其不动点恰好与函数方程[(42.5)](#equation-cpi-euler-func)的解coincide。\n",
    "\n",
    "特别地，最优政策$ \\sigma^* $就是一个不动点。\n",
    "\n",
    "事实上，对于固定的$ y $，$ K\\sigma^*(y) $是解决以下方程的$ c $：\n",
    "\n",
    "$$\n",
    "u'(c)\n",
    "= \\beta \\int (u' \\circ \\sigma^*) (f(y - c) z ) f'(y - c) z \\phi(dz)\n",
    "$$\n",
    "\n",
    "根据欧拉方程，这恰好就是$ \\sigma^*(y) $。"
   ]
  },
  {
   "cell_type": "markdown",
   "id": "eefbcacc",
   "metadata": {},
   "source": [
    "### Coleman-Reffett算子是否良定义？\n",
    "\n",
    "特别地，是否总存在唯一的$ c \\in (0, y) $来解决[(42.7)](#equation-cpi-coledef)？\n",
    "\n",
    "在我们的假设条件下，答案是肯定的。\n",
    "对于任何 $ \\sigma \\in \\mathscr P $，[(42.7)](#equation-cpi-coledef) 右侧\n",
    "\n",
    "- 在 $ (0, y) $ 上关于 $ c $ 是连续且严格递增的  \n",
    "- 当 $ c \\uparrow y $ 时趋向于 $ +\\infty $  \n",
    "\n",
    "\n",
    "[(42.7)](#equation-cpi-coledef) 左侧\n",
    "\n",
    "- 在 $ (0, y) $ 上关于 $ c $ 是连续且严格递减的  \n",
    "- 当 $ c \\downarrow 0 $ 时趋向于 $ +\\infty $  \n",
    "\n",
    "\n",
    "绘制这些曲线并利用上述信息，你会确信当 $ c $ 在 $ (0, y) $ 范围内变化时，这些曲线恰好相交一次。\n",
    "\n",
    "通过更深入的分析，可以进一步证明当 $ \\sigma \\in \\mathscr P $ 时，$ K \\sigma \\in \\mathscr P $。"
   ]
  },
  {
   "cell_type": "markdown",
   "id": "54cfe426",
   "metadata": {},
   "source": [
    "### 与值函数迭代的比较（理论）\n",
    "\n",
    "可以证明 $ K $ 的迭代与贝尔曼算子的迭代之间存在紧密关系。\n",
    "\n",
    "从数学角度来说，这两个算子是*拓扑共轭的*。\n",
    "\n",
    "简单来说，这意味着如果一个算子的迭代收敛，那么另一个算子的迭代也会收敛，反之亦然。\n",
    "\n",
    "而且，至少从理论上讲，它们的收敛速度是相同的。\n",
    "然而，事实证明算子 $ K $ 在数值计算上更加稳定，因此在我们考虑的应用中更加高效。\n",
    "\n",
    "下面给出一些例子。"
   ]
  },
  {
   "cell_type": "markdown",
   "id": "81524b15",
   "metadata": {},
   "source": [
    "## 实现\n",
    "\n",
    "如同我们在[之前的研究](https://python.quantecon.org/optgrowth_fast.html)中一样，我们继续假设\n",
    "\n",
    "- $ u(c) = \\ln c $  \n",
    "- $ f(k) = k^{\\alpha} $  \n",
    "- $ \\phi $ 是当 $ \\zeta $ 为标准正态分布时 $ \\xi := \\exp(\\mu + s \\zeta) $ 的分布  \n",
    "\n",
    "\n",
    "这将使我们能够将结果与解析解进行比较"
   ]
  },
  {
   "cell_type": "code",
   "execution_count": null,
   "id": "c19c4503",
   "metadata": {
    "hide-output": false
   },
   "outputs": [],
   "source": [
    "\n",
    "def v_star(y, α, β, μ):\n",
    "    \"\"\"\n",
    "    True value function\n",
    "    \"\"\"\n",
    "    c1 = np.log(1 - α * β) / (1 - β)\n",
    "    c2 = (μ + α * np.log(α * β)) / (1 - α)\n",
    "    c3 = 1 / (1 - β)\n",
    "    c4 = 1 / (1 - α * β)\n",
    "    return c1 + c2 * (c3 - c4) + c4 * np.log(y)\n",
    "\n",
    "def σ_star(y, α, β):\n",
    "    \"\"\"\n",
    "    True optimal policy\n",
    "    \"\"\"\n",
    "    return (1 - α * β) * y"
   ]
  },
  {
   "cell_type": "markdown",
   "id": "5390ee9a",
   "metadata": {},
   "source": [
    "如上所述，我们计划使用时间迭代来求解模型，这意味着要使用算子$ K $进行迭代。\n",
    "\n",
    "为此，我们需要访问函数$ u' $和$ f, f' $。\n",
    "\n",
    "这些函数在我们在[之前的讲座](https://python.quantecon.org/optgrowth_fast.html)中构建的`OptimalGrowthModel`类中可用。"
   ]
  },
  {
   "cell_type": "code",
   "execution_count": null,
   "id": "5dd2626c",
   "metadata": {
    "hide-output": false
   },
   "outputs": [],
   "source": [
    "from numba import float64\n",
    "from numba.experimental import jitclass\n",
    "\n",
    "opt_growth_data = [\n",
    "    ('α', float64),          # Production parameter\n",
    "    ('β', float64),          # Discount factor\n",
    "    ('μ', float64),          # Shock location parameter\n",
    "    ('s', float64),          # Shock scale parameter\n",
    "    ('grid', float64[:]),    # Grid (array)\n",
    "    ('shocks', float64[:])   # Shock draws (array)\n",
    "]\n",
    "\n",
    "@jitclass(opt_growth_data)\n",
    "class OptimalGrowthModel:\n",
    "\n",
    "    def __init__(self,\n",
    "                α=0.4,\n",
    "                β=0.96,\n",
    "                μ=0,\n",
    "                s=0.1,\n",
    "                grid_max=4,\n",
    "                grid_size=120,\n",
    "                shock_size=250,\n",
    "                seed=1234):\n",
    "\n",
    "        self.α, self.β, self.μ, self.s = α, β, μ, s\n",
    "\n",
    "        # Set up grid\n",
    "        self.grid = np.linspace(1e-5, grid_max, grid_size)\n",
    "\n",
    "        # Store shocks (with a seed, so results are reproducible)\n",
    "        np.random.seed(seed)\n",
    "        self.shocks = np.exp(μ + s * np.random.randn(shock_size))\n",
    "\n",
    "\n",
    "    def f(self, k):\n",
    "        \"The production function\"\n",
    "        return k**self.α\n",
    "\n",
    "\n",
    "    def u(self, c):\n",
    "        \"The utility function\"\n",
    "        return np.log(c)\n",
    "\n",
    "    def f_prime(self, k):\n",
    "        \"Derivative of f\"\n",
    "        return self.α * (k**(self.α - 1))\n",
    "\n",
    "\n",
    "    def u_prime(self, c):\n",
    "        \"Derivative of u\"\n",
    "        return 1/c\n",
    "\n",
    "    def u_prime_inv(self, c):\n",
    "        \"Inverse of u'\"\n",
    "        return 1/c"
   ]
  },
  {
   "cell_type": "markdown",
   "id": "52270e98",
   "metadata": {},
   "source": [
    "现在我们实现一个名为`euler_diff`的方法，它返回\n",
    "\n",
    "\n",
    "<a id='equation-euler-diff'></a>\n",
    "$$\n",
    "u'(c) - \\beta \\int (u' \\circ \\sigma) (f(y - c) z ) f'(y - c) z \\phi(dz) \\tag{42.8}\n",
    "$$"
   ]
  },
  {
   "cell_type": "code",
   "execution_count": null,
   "id": "8f52cc6c",
   "metadata": {
    "hide-output": false
   },
   "outputs": [],
   "source": [
    "@jit\n",
    "def euler_diff(c, σ, y, og):\n",
    "    \"\"\"\n",
    "    设置一个函数，使得关于c的根，\n",
    "    在给定y和σ的情况下，等于Kσ(y)。\n",
    "\n",
    "    \"\"\"\n",
    "\n",
    "    β, shocks, grid = og.β, og.shocks, og.grid\n",
    "    f, f_prime, u_prime = og.f, og.f_prime, og.u_prime\n",
    "\n",
    "    # 首先通过插值将σ转换为函数\n",
    "    σ_func = lambda x: np.interp(x, grid, σ)\n",
    "\n",
    "    # 现在设置我们需要找到根的函数\n",
    "    vals = u_prime(σ_func(f(y - c) * shocks)) * f_prime(y - c) * shocks\n",
    "    return u_prime(c) - β * np.mean(vals)"
   ]
  },
  {
   "cell_type": "markdown",
   "id": "535fa457",
   "metadata": {},
   "source": [
    "函数`euler_diff`通过蒙特卡洛方法计算积分，并使用线性插值来近似函数。\n",
    "\n",
    "我们将使用根查找算法来求解[(42.8)](#equation-euler-diff)，在给定状态$ y $和$ σ $（当前策略猜测值）的情况下求解$ c $。\n",
    "\n",
    "以下是实现根查找步骤的算子$ K $。"
   ]
  },
  {
   "cell_type": "code",
   "execution_count": null,
   "id": "c4f664c1",
   "metadata": {
    "hide-output": false
   },
   "outputs": [],
   "source": [
    "@jit\n",
    "def K(σ, og):\n",
    "    \"\"\"\n",
    "    Coleman-Reffett算子\n",
    "\n",
    "    这里og是OptimalGrowthModel的一个实例。\n",
    "    \"\"\"\n",
    "\n",
    "    β = og.β\n",
    "    f, f_prime, u_prime = og.f, og.f_prime, og.u_prime\n",
    "    grid, shocks = og.grid, og.shocks\n",
    "\n",
    "    σ_new = np.empty_like(σ)\n",
    "    for i, y in enumerate(grid):\n",
    "        # 在y处求解最优c\n",
    "        c_star = brentq(euler_diff, 1e-10, y-1e-10, args=(σ, y, og))[0]\n",
    "        σ_new[i] = c_star\n",
    "\n",
    "    return σ_new"
   ]
  },
  {
   "cell_type": "markdown",
   "id": "35b09485",
   "metadata": {},
   "source": [
    "### 测试\n",
    "\n",
    "让我们生成一个实例并绘制$ K $的一些迭代结果，从$ σ(y) = y $开始。"
   ]
  },
  {
   "cell_type": "code",
   "execution_count": null,
   "id": "f08f96fb",
   "metadata": {
    "hide-output": false
   },
   "outputs": [],
   "source": [
    "og = OptimalGrowthModel()\n",
    "grid = og.grid\n",
    "\n",
    "n = 15\n",
    "σ = grid.copy()  # 设置初始条件\n",
    "\n",
    "fig, ax = plt.subplots()\n",
    "lb = '初始条件 $\\sigma(y) = y$'\n",
    "ax.plot(grid, σ, color=plt.cm.jet(0), alpha=0.6, label=lb)\n",
    "\n",
    "for i in range(n):\n",
    "    σ = K(σ, og)\n",
    "    ax.plot(grid, σ, color=plt.cm.jet(i / n), alpha=0.6)\n",
    "\n",
    "# 再更新一次并用黑色绘制最后一次迭代\n",
    "σ = K(σ, og)\n",
    "ax.plot(grid, σ, color='k', alpha=0.8, label='最后一次迭代')\n",
    "\n",
    "ax.legend()\n",
    "\n",
    "plt.show()"
   ]
  },
  {
   "cell_type": "markdown",
   "id": "1f47f6c5",
   "metadata": {},
   "source": [
    "我们可以看到迭代过程快速收敛到一个极限值，这与我们在[上一讲](https://python.quantecon.org/optgrowth_fast.html)中得到的解相似。\n",
    "\n",
    "这里有一个名为`solve_model_time_iter`的函数，它接收一个`OptimalGrowthModel`实例作为输入，并通过时间迭代法返回最优策略的近似解。"
   ]
  },
  {
   "cell_type": "code",
   "execution_count": null,
   "id": "141d977b",
   "metadata": {
    "hide-output": false
   },
   "outputs": [],
   "source": [
    "def solve_model_time_iter(model,    # Class with model information\n",
    "                          σ,        # Initial condition\n",
    "                          tol=1e-4,\n",
    "                          max_iter=1000,\n",
    "                          verbose=True,\n",
    "                          print_skip=25):\n",
    "\n",
    "    # Set up loop\n",
    "    i = 0\n",
    "    error = tol + 1\n",
    "\n",
    "    while i < max_iter and error > tol:\n",
    "        σ_new = K(σ, model)\n",
    "        error = np.max(np.abs(σ - σ_new))\n",
    "        i += 1\n",
    "        if verbose and i % print_skip == 0:\n",
    "            print(f\"Error at iteration {i} is {error}.\")\n",
    "        σ = σ_new\n",
    "\n",
    "    if error > tol:\n",
    "        print(\"Failed to converge!\")\n",
    "    elif verbose:\n",
    "        print(f\"\\nConverged in {i} iterations.\")\n",
    "\n",
    "    return σ_new"
   ]
  },
  {
   "cell_type": "markdown",
   "id": "825f761d",
   "metadata": {},
   "source": [
    "让我们运行它："
   ]
  },
  {
   "cell_type": "code",
   "execution_count": null,
   "id": "105fe2f3",
   "metadata": {
    "hide-output": false
   },
   "outputs": [],
   "source": [
    "σ_init = np.copy(og.grid)\n",
    "σ = solve_model_time_iter(og, σ_init)"
   ]
  },
  {
   "cell_type": "markdown",
   "id": "e0661065",
   "metadata": {},
   "source": [
    "这是得到的策略与真实策略的对比图："
   ]
  },
  {
   "cell_type": "code",
   "execution_count": null,
   "id": "b657b45f",
   "metadata": {
    "hide-output": false
   },
   "outputs": [],
   "source": [
    "fig, ax = plt.subplots()\n",
    "\n",
    "ax.plot(og.grid, σ, lw=2,\n",
    "        alpha=0.8, label='近似策略函数')\n",
    "\n",
    "ax.plot(og.grid, σ_star(og.grid, og.α, og.β), 'k--',\n",
    "        lw=2, alpha=0.8, label='真实策略函数')\n",
    "\n",
    "ax.legend()\n",
    "plt.show()"
   ]
  },
  {
   "cell_type": "markdown",
   "id": "b82a5e72",
   "metadata": {},
   "source": [
    "再次说明，拟合效果非常好。\n",
    "\n",
    "两种策略之间的最大绝对偏差是"
   ]
  },
  {
   "cell_type": "code",
   "execution_count": null,
   "id": "273a8981",
   "metadata": {
    "hide-output": false
   },
   "outputs": [],
   "source": [
    "np.max(np.abs(σ - σ_star(og.grid, og.α, og.β)))"
   ]
  },
  {
   "cell_type": "markdown",
   "id": "38a80837",
   "metadata": {},
   "source": [
    "需要多长时间才能收敛？"
   ]
  },
  {
   "cell_type": "code",
   "execution_count": null,
   "id": "920aedc3",
   "metadata": {
    "hide-output": false
   },
   "outputs": [],
   "source": [
    "%%timeit -n 3 -r 1\n",
    "σ = solve_model_time_iter(og, σ_init, verbose=False)"
   ]
  },
  {
   "cell_type": "markdown",
   "id": "444cfd6c",
   "metadata": {},
   "source": [
    "与我们的[JIT编译的值函数迭代](https://python.quantecon.org/optgrowth_fast.html)相比，收敛速度非常快。\n",
    "\n",
    "总的来说，我们发现时间迭代方法对于这个模型来说提供了很高的效率和准确性。"
   ]
  },
  {
   "cell_type": "markdown",
   "id": "247e1c24",
   "metadata": {},
   "source": [
    "## 练习"
   ]
  },
  {
   "cell_type": "markdown",
   "id": "c858189c",
   "metadata": {},
   "source": [
    "## Exercise 42.1\n",
    "\n",
    "用CRRA效用函数求解模型\n",
    "\n",
    "$$\n",
    "u(c) = \\frac{c^{1 - \\gamma}} {1 - \\gamma}\n",
    "$$\n",
    "\n",
    "设定`γ = 1.5`。\n",
    "\n",
    "计算并绘制最优策略。"
   ]
  },
  {
   "cell_type": "markdown",
   "id": "7cf26aeb",
   "metadata": {},
   "source": [
    "## Solution to[ Exercise 42.1](https://python.quantecon.org/#cpi_ex1)\n",
    "\n",
    "我们使用[VFI讲座](https://python.quantecon.org/optgrowth_fast.html)中的`OptimalGrowthModel_CRRA`类。"
   ]
  },
  {
   "cell_type": "code",
   "execution_count": null,
   "id": "9df0b811",
   "metadata": {
    "hide-output": false
   },
   "outputs": [],
   "source": [
    "from numba import float64\n",
    "from numba.experimental import jitclass\n",
    "\n",
    "opt_growth_data = [\n",
    "    ('α', float64),          # Production parameter\n",
    "    ('β', float64),          # Discount factor\n",
    "    ('μ', float64),          # Shock location parameter\n",
    "    ('γ', float64),          # Preference parameter\n",
    "    ('s', float64),          # Shock scale parameter\n",
    "    ('grid', float64[:]),    # Grid (array)\n",
    "    ('shocks', float64[:])   # Shock draws (array)\n",
    "]\n",
    "\n",
    "@jitclass(opt_growth_data)\n",
    "class OptimalGrowthModel_CRRA:\n",
    "\n",
    "    def __init__(self,\n",
    "                α=0.4,\n",
    "                β=0.96,\n",
    "                μ=0,\n",
    "                s=0.1,\n",
    "                γ=1.5,\n",
    "                grid_max=4,\n",
    "                grid_size=120,\n",
    "                shock_size=250,\n",
    "                seed=1234):\n",
    "\n",
    "        self.α, self.β, self.γ, self.μ, self.s = α, β, γ, μ, s\n",
    "\n",
    "        # Set up grid\n",
    "        self.grid = np.linspace(1e-5, grid_max, grid_size)\n",
    "\n",
    "        # Store shocks (with a seed, so results are reproducible)\n",
    "        np.random.seed(seed)\n",
    "        self.shocks = np.exp(μ + s * np.random.randn(shock_size))\n",
    "\n",
    "\n",
    "    def f(self, k):\n",
    "        \"The production function.\"\n",
    "        return k**self.α\n",
    "\n",
    "    def u(self, c):\n",
    "        \"The utility function.\"\n",
    "        return c**(1 - self.γ) / (1 - self.γ)\n",
    "\n",
    "    def f_prime(self, k):\n",
    "        \"Derivative of f.\"\n",
    "        return self.α * (k**(self.α - 1))\n",
    "\n",
    "    def u_prime(self, c):\n",
    "        \"Derivative of u.\"\n",
    "        return c**(-self.γ)\n",
    "\n",
    "    def u_prime_inv(c):\n",
    "        return c**(-1 / self.γ)"
   ]
  },
  {
   "cell_type": "markdown",
   "id": "ef3fc4a1",
   "metadata": {},
   "source": [
    "让我们创建一个实例："
   ]
  },
  {
   "cell_type": "code",
   "execution_count": null,
   "id": "b3969a6d",
   "metadata": {
    "hide-output": false
   },
   "outputs": [],
   "source": [
    "og_crra = OptimalGrowthModel_CRRA()"
   ]
  },
  {
   "cell_type": "markdown",
   "id": "b12ee616",
   "metadata": {},
   "source": [
    "现在我们求解并绘制策略："
   ]
  },
  {
   "cell_type": "code",
   "execution_count": null,
   "id": "e1be1767",
   "metadata": {
    "hide-output": false
   },
   "outputs": [],
   "source": [
    "%%time\n",
    "σ = solve_model_time_iter(og_crra, σ_init)\n",
    "\n",
    "\n",
    "fig, ax = plt.subplots()\n",
    "\n",
    "ax.plot(og.grid, σ, lw=2,\n",
    "        alpha=0.8, label='approximate policy function')\n",
    "\n",
    "ax.legend()\n",
    "plt.show()"
   ]
  }
 ],
 "metadata": {
  "date": 1747894128.8139067,
  "filename": "coleman_policy_iter.md",
  "kernelspec": {
   "display_name": "Python",
   "language": "python3",
   "name": "python3"
  },
  "title": "最优增长 III：时间迭代"
 },
 "nbformat": 4,
 "nbformat_minor": 5
}