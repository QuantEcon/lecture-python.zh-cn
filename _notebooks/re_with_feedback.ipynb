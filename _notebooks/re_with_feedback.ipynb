{
 "cells": [
  {
   "cell_type": "markdown",
   "id": "5bd3ad9d",
   "metadata": {},
   "source": [
    "\n",
    "<a id='re-with-feedback'></a>\n",
    "<div id=\"qe-notebook-header\" align=\"right\" style=\"text-align:right;\">\n",
    "        <a href=\"https://quantecon.org/\" title=\"quantecon.org\">\n",
    "                <img style=\"width:250px;display:inline;\" width=\"250px\" src=\"https://assets.quantecon.org/img/qe-menubar-logo.svg\" alt=\"QuantEcon\">\n",
    "        </a>\n",
    "</div>"
   ]
  },
  {
   "cell_type": "markdown",
   "id": "f3e07f88",
   "metadata": {},
   "source": [
    "# 线性理性预期模型中的稳定性\n",
    "\n",
    "\n",
    "<a id='index-0'></a>"
   ]
  },
  {
   "cell_type": "markdown",
   "id": "10ae31b5",
   "metadata": {},
   "source": [
    "## 目录\n",
    "\n",
    "- [线性理性预期模型中的稳定性](#线性理性预期模型中的稳定性)  \n",
    "  - [概述](#概述)  \n",
    "  - [线性差分方程](#线性差分方程)  \n",
    "  - [示例：凯根模型](#示例：凯根模型)  \n",
    "  - [Python代码示例](#Python代码示例)  \n",
    "  - [替代代码](#替代代码)  \n",
    "  - [另一个视角](#另一个视角)  \n",
    "  - [对数货币供应对对数价格水平的反馈](#对数货币供应对对数价格水平的反馈)  \n",
    "  - [大 $ P $，小 $ p $ 解释](#大-$-P-$，小-$-p-$-解释)  \n",
    "  - [玩转 SymPy](#玩转-SymPy)  "
   ]
  },
  {
   "cell_type": "markdown",
   "id": "fc6840b0",
   "metadata": {},
   "source": [
    "除了Anaconda中已有的库外，本讲座还需要安装以下库："
   ]
  },
  {
   "cell_type": "code",
   "execution_count": null,
   "id": "f7f265d7",
   "metadata": {
    "hide-output": false
   },
   "outputs": [],
   "source": [
    "!pip install quantecon"
   ]
  },
  {
   "cell_type": "code",
   "execution_count": null,
   "id": "e07778cf",
   "metadata": {
    "hide-output": false
   },
   "outputs": [],
   "source": [
    "import matplotlib.pyplot as plt\n",
    "import matplotlib as mpl\n",
    "FONTPATH = \"fonts/SourceHanSerifSC-SemiBold.otf\"\n",
    "mpl.font_manager.fontManager.addfont(FONTPATH)\n",
    "plt.rcParams['font.family'] = ['Source Han Serif SC']\n",
    "\n",
    "import numpy as np\n",
    "import quantecon as qe\n",
    "from sympy import init_printing, symbols, Matrix\n",
    "init_printing()"
   ]
  },
  {
   "cell_type": "markdown",
   "id": "8fa1ff97",
   "metadata": {},
   "source": [
    "## 概述\n",
    "\n",
    "本讲座在基本理性预期模型的背景下研究稳定性。\n",
    "\n",
    "我们研究Philip Cagan模型[[Cagan, 1956](https://python.quantecon.org/zreferences.html#id93)]的理性预期版本，该模型将价格水平与货币供应联系起来。\n",
    "\n",
    "Cagan本人并未使用其模型的理性预期版本，但Sargent[[Sargent, 1977](https://python.quantecon.org/zreferences.html#id94)]使用了。\n",
    "\n",
    "我们研究这个模型的理性预期版本，是因为它本身很有趣，而且它具有几乎所有线性理性预期模型都具有的数学结构，即关键的内生变量等于另一个变量未来值的几何级数的数学期望。\n",
    "\n",
    "该模型将价格水平或通货膨胀率确定为货币供应量或货币供应变化率的函数。\n",
    "\n",
    "在本讲座中，我们将遇到：\n",
    "\n",
    "- 一个用于计算变量未来值几何级数期望的便捷公式  \n",
    "- 一种通过将期望差分方程映射到向量一阶差分方程，并适当操作转移矩阵的特征分解来施加稳定性的解决方法  \n",
    "- 一种使用大 $ K $、小 $ k $ 论证的方法，允许在理性预期均衡中从内生变量到外生变量的表面反馈  \n",
    "- Blanchard和Khan (1981) [[Blanchard and Kahn, 1980](https://python.quantecon.org/zreferences.html#id252)]以及Whiteman (1983) [[Whiteman, 1983](https://python.quantecon.org/zreferences.html#id253)]使用矩阵特征向量分解来解决一类线性理性预期模型的方法  \n",
    "- 如何使用**SymPy**获取理性预期均衡中一些关键对象的解析公式  \n",
    "\n",
    "\n",
    "这里使用的矩阵分解在本讲座[拉格朗日公式](https://python.quantecon.org/lagrangian_lqdp.html)中有更深入的描述。\n",
    "\n",
    "我们在理性预期下制定Cagan模型的一个版本\n",
    "\n",
    "作为一个**期望差分方程**，其解是一个理性预期均衡。\n",
    "\n",
    "我们将从快速回顾确定性(即非随机)的一阶和二阶线性差分方程开始这节课。"
   ]
  },
  {
   "cell_type": "markdown",
   "id": "13a62088",
   "metadata": {},
   "source": [
    "## 线性差分方程\n",
    "\n",
    "我们将使用*后移*或*滞后*算子 $ L $。\n",
    "\n",
    "滞后算子 $ L $ 将序列 $ \\{x_t\\}_{t=0}^\\infty $ 映射到序列 $ \\{x_{t-1}\\}_{t=0}^\\infty $\n",
    "\n",
    "我们将通过在代数表达式中使用等式 $ L x_t \\equiv x_{t-1} $ 来部署 $ L $。\n",
    "\n",
    "此外，滞后算子 $ L $ 的逆运算 $ L^{-1} $ 是*前移*算子。\n",
    "\n",
    "我们下面将经常使用等式 $ L^{-1} x_t \\equiv x_{t+1} $。\n",
    "\n",
    "滞后和前移算子的代数运算可以简化线性差分方程的表示和求解。"
   ]
  },
  {
   "cell_type": "markdown",
   "id": "a3bbb6fb",
   "metadata": {},
   "source": [
    "### 一阶方程\n",
    "\n",
    "我们要解一个一阶标量线性差分方程。\n",
    "\n",
    "设 $ |\\lambda | < 1 $ 且 $ \\{u_t\\}_{t=-\\infty}^\\infty $ 是一个有界的实数标量序列。\n",
    "\n",
    "设 $ L $ 为滞后算子，定义为\n",
    "$ L x_t \\equiv x_{t-1} $，设 $ L^{-1} $ 为前移算子，定义为\n",
    "$ L^{-1} x_t \\equiv x_{t+1} $。\n",
    "\n",
    "那么\n",
    "\n",
    "\n",
    "<a id='equation-equn-1'></a>\n",
    "$$\n",
    "(1 - \\lambda L) y_t = u_t, \\forall t \\tag{65.1}\n",
    "$$\n",
    "\n",
    "的解为\n",
    "\n",
    "\n",
    "<a id='equation-equn-2'></a>\n",
    "$$\n",
    "y_t = (1 -\\lambda L)^{-1} u_t +k \\lambda^t \\tag{65.2}\n",
    "$$\n",
    "\n",
    "或\n",
    "\n",
    "$$\n",
    "y_t =  \\sum_{j=0}^\\infty \\lambda^j u_{t-j} +k \\lambda^t\n",
    "$$\n",
    "\n",
    "其中 $ k $ 为任意实数。\n",
    "\n",
    "你可以通过对等式 [(65.2)](#equation-equn-2) 两边应用 $ (1-\\lambda L) $ 来验证这一点，\n",
    "并注意到 $ (1 - \\lambda L) \\lambda^t =0 $。\n",
    "\n",
    "要确定 $ k $ 的值，我们需要从外部对 $ y $ 的路径施加一个条件\n",
    "（例如，初始条件或终端条件）。\n",
    "\n",
    "现在令 $ | \\lambda | > 1 $。\n",
    "\n",
    "将等式 [(65.1)](#equation-equn-1) 改写为\n",
    "\n",
    "\n",
    "<a id='equation-equn-3'></a>\n",
    "$$\n",
    "y_{t-1} = \\lambda^{-1} y_t - \\lambda^{-1} u_t , \\forall t \\tag{65.3}\n",
    "$$\n",
    "\n",
    "或\n",
    "\n",
    "\n",
    "<a id='equation-equn-4'></a>\n",
    "$$\n",
    "(1 - \\lambda^{-1} L^{-1}) y_t = - \\lambda^{-1} u_{t+1}. \\tag{65.4}\n",
    "$$\n",
    "\n",
    "一个解为\n",
    "\n",
    "\n",
    "<a id='equation-equn-5'></a>\n",
    "$$\n",
    "y_t = - \\lambda^{-1}\\left({ 1 \\over  1 - \\lambda^{-1} L^{-1}} \\right)\n",
    "         u_{t+1} + k \\lambda^t \\tag{65.5}\n",
    "$$\n",
    "\n",
    "对任意 $ k $ 成立。\n",
    "\n",
    "要验证这是一个解，请检查方程 [(65.5)](#equation-equn-5) 两边同时被 $ (1 -\\lambda L) $ 操作的结果，并与方程 [(65.1)](#equation-equn-1) 比较。\n",
    "\n",
    "对于任意有界序列 $ \\{u_t\\} $，当 $ |\\lambda | < 1 $ 时，解 [(65.2)](#equation-equn-2) 存在，因为 $ u $ 的**分布滞后**收敛。\n",
    "\n",
    "当 $ |\\lambda| > 1 $ 时，解 [(65.5)](#equation-equn-5) 存在，因为 $ u $ 的**分布超前**收敛。\n",
    "\n",
    "当 $ |\\lambda | > 1 $ 时，[(65.2)](#equation-equn-2) 中 $ u $ 的分布滞后可能发散，在这种情况下，这种形式的解不存在。\n",
    "\n",
    "当 $ |\\lambda| < 1 $ 时，[(65.5)](#equation-equn-5) 中 $ u $ 的分布超前不一定收敛。"
   ]
  },
  {
   "cell_type": "markdown",
   "id": "91fa8cdf",
   "metadata": {},
   "source": [
    "### 二阶\n",
    "\n",
    "现在考虑二阶差分方程\n",
    "\n",
    "\n",
    "<a id='equation-equn-6'></a>\n",
    "$$\n",
    "(1-\\lambda_1 L) (1 - \\lambda_2 L) y_{t+1} = u_t \\tag{65.6}\n",
    "$$\n",
    "\n",
    "其中 $ \\{u_t\\} $ 是一个有界序列，$ y_0 $ 是一个初始\n",
    "\n",
    "条件为 $ | \\lambda_1 | < 1 $ 和 $ | \\lambda_2| >1 $。\n",
    "\n",
    "我们寻找满足[(65.6)](#equation-equn-6)的有界序列$ \\{y_t\\}_{t=0}^\\infty $。利用我们对一阶方程分析的见解，对[(65.6)](#equation-equn-6)的两边应用$ (1-\\lambda_2 L) $的前向逆运算，可以将方程[(65.6)](#equation-equn-6)重写为\n",
    "\n",
    "$$\n",
    "(1-\\lambda_1 L) y_{t+1} = -{\\frac{\\lambda_2^{-1}}{1 - \\lambda_2^{-1}L^{-1}}} u_{t+1}\n",
    "$$\n",
    "\n",
    "或\n",
    "\n",
    "\n",
    "<a id='equation-equn-7'></a>\n",
    "$$\n",
    "y_{t+1} = \\lambda_1 y_t - \\lambda_2^{-1} \\sum_{j=0}^\\infty \\lambda_2^{-j} u_{t+j+1} . \\tag{65.7}\n",
    "$$\n",
    "\n",
    "因此，我们通过向后求解稳定根（在这种情况下是$ \\lambda_1 $）和向前求解不稳定根（在这种情况下是$ \\lambda_2 $）得到了方程[(65.7)](#equation-equn-7)。\n",
    "\n",
    "方程[(65.7)](#equation-equn-7)具有我们将经常遇到的形式。\n",
    "\n",
    "- $ \\lambda_1 y_t $ 被称为**反馈部分**  \n",
    "- $ -{\\frac{\\lambda_2^{-1}}{1 - \\lambda_2^{-1}L^{-1}}} u_{t+1} $ 被称为**前馈部分**  "
   ]
  },
  {
   "cell_type": "markdown",
   "id": "190b97e3",
   "metadata": {},
   "source": [
    "## 示例：凯根模型\n",
    "\n",
    "让我们使用线性差分方程来表示和求解 Sargent [[Sargent, 1977](https://python.quantecon.org/zreferences.html#id94)] 的理性预期版本的 Cagan 模型 [[Cagan, 1956](https://python.quantecon.org/zreferences.html#id93)]，该模型将价格水平与公众对未来货币供应的预期联系起来。\n",
    "\n",
    "Cagan 并没有使用他模型的理性预期版本，但 Sargent [[Sargent, 1977](https://python.quantecon.org/zreferences.html#id94)] 使用了。\n",
    "\n",
    "令：\n",
    "\n",
    "- $ m_t^d $ 为货币需求的对数  \n",
    "- $ m_t $ 为货币供应的对数  \n",
    "- $ p_t $ 为价格水平的对数  \n",
    "\n",
    "\n",
    "因此，$ p_{t+1} - p_t $ 是通货膨胀率。\n",
    "\n",
    "实际货币余额的对数 $ m_t^d - p_t $ 是预期通货膨胀率 $ p_{t+1} - p_t $ 的反函数，对于 $ t \\geq 0 $：\n",
    "\n",
    "$$\n",
    "m_t^d - p_t = - \\beta (p_{t+1} - p_t ), \\quad \\beta >0\n",
    "$$\n",
    "\n",
    "在上述方程中，将对数货币需求 $ m_t^d $ 等同于对数货币供应 $ m_t $，并重新整理，可以得出价格水平的对数 $ p_t $ 与货币供应的对数 $ m_t $ 之间的关系：\n",
    "\n",
    "\n",
    "<a id='equation-equation-1'></a>\n",
    "$$\n",
    "p_t = (1 -\\lambda) m_t + \\lambda p_{t+1} \\tag{65.8}\n",
    "$$\n",
    "\n",
    "其中 $ \\lambda \\equiv \\frac{\\beta}{1+\\beta} \\in (0,1) $。\n",
    "\n",
    "（我们注意到特征多项式为 $ 1 - \\lambda^{-1} z^{-1} = 0 $，因此在这种情况下特征多项式的零点是 $ \\lambda \\in (0,1) $，它在单位圆**内部**。）\n",
    "\n",
    "向前求解一阶差分方程[(65.8)](#equation-equation-1)得到\n",
    "\n",
    "\n",
    "<a id='equation-equation-2'></a>\n",
    "$$\n",
    "p_t = (1 - \\lambda) \\sum_{j=0}^\\infty \\lambda^j m_{t+j}, \\tag{65.9}\n",
    "$$\n",
    "\n",
    "这是差分方程[(65.8)](#equation-equation-1)在更一般解的类别中的唯一**稳定**解\n",
    "\n",
    "\n",
    "<a id='equation-equation-1a'></a>\n",
    "$$\n",
    "p_t = (1 - \\lambda) \\sum_{j=0}^\\infty \\lambda^j m_{t+j} + c \\lambda^{-t} \\tag{65.10}\n",
    "$$\n",
    "\n",
    "其中由实数 $ c \\in {\\bf R} $ 来索引。\n",
    "\n",
    "因为我们想要关注稳定解，我们设定 $ c=0 $。\n",
    "\n",
    "方程[(65.10)](#equation-equation-1a)将货币供应序列的**完全预见性**归因于实际货币余额的持有者。\n",
    "\n",
    "我们首先假设货币供应量的对数是**外生的**，即它是一个自主过程，不会对价格水平的对数产生反馈。\n",
    "\n",
    "具体来说，我们假设货币供应量的对数可以用以下线性状态空间系统来描述：\n",
    "\n",
    "\n",
    "<a id='equation-equation-3'></a>\n",
    "$$\n",
    "\\begin{aligned}\n",
    "  m_t &  = G x_t \\\\ x_{t+1} & = A x_t\n",
    " \\end{aligned} \\tag{65.11}\n",
    "$$\n",
    "\n",
    "其中$ x_t $是一个$ n \\times 1 $的向量，不包含$ p_t $或$ p_t $的滞后项，$ A $是一个$ n \\times n $的矩阵，其特征值的绝对值小于$ \\lambda^{-1} $，$ G $是一个$ 1 \\times n $的选择矩阵。\n",
    "\n",
    "向量$ x_t $中出现的变量包含可能有助于预测未来货币供应量的信息。\n",
    "\n",
    "我们将从一个例子开始，其中$ x_t $仅包含$ m_t $、可能的$ m $的滞后值和一个常数。\n",
    "\n",
    "一个符合状态空间系统[(65.11)](#equation-equation-3)的$ \\{m_t\\} $过程的例子是满足二阶线性差分的过程\n",
    "\n",
    "方程\n",
    "\n",
    "$$\n",
    "m_{t+1} = \\alpha + \\rho_1 m_t + \\rho_2 m_{t-1}\n",
    "$$\n",
    "\n",
    "其中特征多项式 $ (1 - \\rho_1 z - \\rho_2 z^2) $ 的零点的模严格大于 $ 1 $。\n",
    "\n",
    "(关于特征多项式及其在求解线性差分方程中的作用，请参见 [此处](https://python.quantecon.org/samuelson.html) QuantEcon 讲座。)\n",
    "\n",
    "我们寻求方程 [(65.8)](#equation-equation-1) 的稳定或非爆炸解，该解满足由 [(65.8)](#equation-equation-1)-[(65.11)](#equation-equation-3) 组成的系统。\n",
    "\n",
    "所谓稳定或非爆炸，我们指的是当 $ t \\rightarrow + \\infty $ 时，$ m_t $ 和 $ p_t $ 都不发散。\n",
    "\n",
    "这要求我们通过设定 $ c=0 $ 来消除上面方程 [(65.10)](#equation-equation-1a) 中的项 $ c \\lambda^{-t} $\n",
    "\n",
    "我们要找的解是\n",
    "\n",
    "\n",
    "<a id='equation-equation-4'></a>\n",
    "$$\n",
    "p_t = F x_t \\tag{65.12}\n",
    "$$\n",
    "\n",
    "其中\n",
    "\n",
    "\n",
    "<a id='equation-equation-5'></a>\n",
    "$$\n",
    "F = (1-\\lambda) G (I - \\lambda A)^{-1} \\tag{65.13}\n",
    "$$\n",
    "\n",
    ">**Note**\n",
    ">\n",
    ">如上所述，差分方程的*爆炸解*\n",
    "\n",
    "方程 [(65.8)](#equation-equation-1) 可以通过在 [(65.12)](#equation-equation-4) 的右侧添加序列 $ c \\lambda^{-t} $ 来构造，其中 $ c $ 是任意正常数。"
   ]
  },
  {
   "cell_type": "markdown",
   "id": "0f5254b9",
   "metadata": {},
   "source": [
    "## Python代码示例\n",
    "\n",
    "我们将构造示例来说明 [(65.11)](#equation-equation-3)。\n",
    "\n",
    "我们的第一个示例将货币供应量对数的运动规律设定为二阶差分方程\n",
    "\n",
    "\n",
    "<a id='equation-equation-6'></a>\n",
    "$$\n",
    "m_{t+1} = \\alpha + \\rho_1 m_t + \\rho_2 m_{t-1} \\tag{65.14}\n",
    "$$\n",
    "\n",
    "该方程由参数 $ \\rho_1, \\rho_2, \\alpha $ 确定\n",
    "\n",
    "为了用系统 [(65.9)](#equation-equation-2) 捕捉这个参数化，我们设定\n",
    "\n",
    "$$\n",
    "x_t = \\begin{bmatrix} 1 \\cr m_t \\cr m_{t-1} \\end{bmatrix} , \\quad\n",
    "  A= \\begin{bmatrix} 1 & 0 & 0 \\cr\n",
    "                     \\alpha & \\rho_1 & \\rho_2 \\cr\n",
    "                      0 & 1 & 0 \\end{bmatrix} , \\quad\n",
    "  G = \\begin{bmatrix} 0 & 1 & 0 \\end{bmatrix}\n",
    "$$\n",
    "\n",
    "这是Python代码"
   ]
  },
  {
   "cell_type": "code",
   "execution_count": null,
   "id": "d7a968a4",
   "metadata": {
    "hide-output": false
   },
   "outputs": [],
   "source": [
    "λ = .9\n",
    "\n",
    "α = 0\n",
    "ρ1 = .9\n",
    "ρ2 = .05\n",
    "\n",
    "A = np.array([[1,  0,  0],\n",
    "              [α, ρ1, ρ2],\n",
    "              [0,  1,  0]])\n",
    "G = np.array([[0, 1, 0]])"
   ]
  },
  {
   "cell_type": "markdown",
   "id": "413a6834",
   "metadata": {},
   "source": [
    "矩阵$ A $有一个特征值等于1。\n",
    "\n",
    "它与$ A_{11} $分量相关联，该分量捕获状态$ x_t $的一个常数分量。\n",
    "\n",
    "我们可以验证，与状态$ x_t $中的常数不相关的$ A $的两个特征值的模严格小于1。"
   ]
  },
  {
   "cell_type": "code",
   "execution_count": null,
   "id": "47903767",
   "metadata": {
    "hide-output": false
   },
   "outputs": [],
   "source": [
    "eigvals = np.linalg.eigvals(A)\n",
    "print(eigvals)"
   ]
  },
  {
   "cell_type": "code",
   "execution_count": null,
   "id": "c8433ff7",
   "metadata": {
    "hide-output": false
   },
   "outputs": [],
   "source": [
    "(abs(eigvals) <= 1).all()"
   ]
  },
  {
   "cell_type": "markdown",
   "id": "4f496813",
   "metadata": {},
   "source": [
    "现在让我们计算公式[(65.12)](#equation-equation-4)和[(65.13)](#equation-equation-5)中的$ F $。"
   ]
  },
  {
   "cell_type": "code",
   "execution_count": null,
   "id": "02327e32",
   "metadata": {
    "hide-output": false
   },
   "outputs": [],
   "source": [
    "# 计算解，即公式(3)\n",
    "F = (1 - λ) * G @ np.linalg.inv(np.eye(A.shape[0]) - λ * A)\n",
    "print(\"F= \",F)"
   ]
  },
  {
   "cell_type": "markdown",
   "id": "e773013e",
   "metadata": {},
   "source": [
    "现在让我们从初始值 $ x_0 $ 开始模拟 $ m_t $ 和 $ p_t $ 的路径。"
   ]
  },
  {
   "cell_type": "code",
   "execution_count": null,
   "id": "13fa94b1",
   "metadata": {
    "hide-output": false
   },
   "outputs": [],
   "source": [
    "# 设置初始状态\n",
    "x0 = np.array([1, 1, 0])\n",
    "\n",
    "T = 100 # 模拟长度\n",
    "\n",
    "m_seq = np.empty(T+1)\n",
    "p_seq = np.empty(T+1)\n",
    "\n",
    "[m_seq[0]] = G @ x0\n",
    "[p_seq[0]] = F @ x0\n",
    "\n",
    "# 模拟T个周期\n",
    "x_old = x0\n",
    "for t in range(T):\n",
    "\n",
    "    x = A @ x_old\n",
    "\n",
    "    [m_seq[t+1]] = G @ x\n",
    "    [p_seq[t+1]] = F @ x\n",
    "\n",
    "    x_old = x"
   ]
  },
  {
   "cell_type": "code",
   "execution_count": null,
   "id": "e1054299",
   "metadata": {
    "hide-output": false
   },
   "outputs": [],
   "source": [
    "plt.figure()\n",
    "plt.plot(range(T+1), m_seq, label=r'$m_t$')\n",
    "plt.plot(range(T+1), p_seq, label=r'$p_t$')\n",
    "plt.xlabel('t')\n",
    "plt.title(rf'λ={λ}, α={α}, $ρ_1$={ρ1}, $ρ_2$={ρ2}')\n",
    "plt.legend()\n",
    "plt.show()"
   ]
  },
  {
   "cell_type": "markdown",
   "id": "c80eb508",
   "metadata": {},
   "source": [
    "在上图中，为什么价格水平的对数总是小于货币供应量的对数？\n",
    "\n",
    "因为\n",
    "\n",
    "- 根据方程 [(65.9)](#equation-equation-2)，$ p_t $ 是当前和未来 $ m_t $ 值的几何加权平均值，并且  \n",
    "- 在这个例子中，未来的 $ m $ 值总是小于当前的 $ m $ 值  "
   ]
  },
  {
   "cell_type": "markdown",
   "id": "55836421",
   "metadata": {},
   "source": [
    "## 替代代码\n",
    "\n",
    "我们也可以使用 quantecon 的 **LinearStateSpace** 代码来运行模拟。\n",
    "\n",
    "以下代码块使用该代码进行计算。"
   ]
  },
  {
   "cell_type": "code",
   "execution_count": null,
   "id": "6ff171f4",
   "metadata": {
    "hide-output": false
   },
   "outputs": [],
   "source": [
    "# 构建一个 LinearStateSpace 实例\n",
    "\n",
    "# 堆叠 G 和 F\n",
    "G_ext = np.vstack([G, F])\n",
    "\n",
    "C = np.zeros((A.shape[0], 1))\n",
    "\n",
    "ss = qe.LinearStateSpace(A, C, G_ext, mu_0=x0)"
   ]
  },
  {
   "cell_type": "code",
   "execution_count": null,
   "id": "98736b57",
   "metadata": {
    "hide-output": false
   },
   "outputs": [],
   "source": [
    "T = 100\n",
    "\n",
    "# 使用LinearStateSpace进行模拟\n",
    "x, y = ss.simulate(ts_length=T)\n",
    "\n",
    "# 绘图\n",
    "plt.figure()\n",
    "plt.plot(range(T), y[0,:], label='$m_t$')\n",
    "plt.plot(range(T), y[1,:], label='$p_t$')\n",
    "plt.xlabel('t')\n",
    "plt.title(f'λ={λ}, α={α}, $ρ_1$={ρ1}, $ρ_2$={ρ2}')\n",
    "plt.legend()\n",
    "plt.show()"
   ]
  },
  {
   "cell_type": "markdown",
   "id": "b828d46a",
   "metadata": {},
   "source": [
    "### 特殊情况\n",
    "\n",
    "为了简化我们的表述，让我们能够专注于一个重要的概念，在上述控制$ m_t $的二阶差分方程[(65.14)](#equation-equation-6)中，我们现在设定$ \\alpha =0 $，$ \\rho_1 = \\rho \\in (-1,1) $，以及$ \\rho_2 =0 $，这样$ m_t $的运动规律变为\n",
    "\n",
    "\n",
    "<a id='equation-equation-7'></a>\n",
    "$$\n",
    "m_{t+1} =\\rho m_t \\tag{65.15}\n",
    "$$\n",
    "\n",
    "且状态$ x_t $变为\n",
    "\n",
    "$$\n",
    "x_t = m_t .\n",
    "$$\n",
    "\n",
    "因此，我们可以设定$ G =1, A =\\rho $，使得我们的公式[(65.13)](#equation-equation-5)中的$ F $变为\n",
    "\n",
    "$$\n",
    "F = (1-\\lambda) (1 -\\lambda \\rho)^{-1} .\n",
    "$$\n",
    "\n",
    "这样对数价格水平满足\n",
    "\n",
    "$$\n",
    "p_t = F m_t .\n",
    "$$\n",
    "\n",
    "在我们研究另一种推导和解释$ F $公式的方法时，请记住这些公式。"
   ]
  },
  {
   "cell_type": "markdown",
   "id": "36f7e6a2",
   "metadata": {},
   "source": [
    "## 另一个视角\n",
    "\n",
    "在上文中，我们通过向前求解特征多项式的不稳定根，对Cagan模型中关键差分方程[(65.8)](#equation-equation-1)的解施加了稳定性或非爆炸性条件。\n",
    "\n",
    "为了阐明在一个潜在不稳定的线性差分方程组解中施加稳定性的机制，并为我们的模型进行推广做准备（在这个推广中，货币供应量被允许对价格水平本身产生反馈），我们将方程[(65.8)](#equation-equation-1)和[(65.15)](#equation-equation-7)叠加形成如下系统\n",
    "\n",
    "\n",
    "<a id='equation-equation-8'></a>\n",
    "$$\n",
    "\\begin{bmatrix} m_{t+1} \\cr p_{t+1} \\end{bmatrix} = \\begin{bmatrix} \\rho & 0 \\\\ - (1-\\lambda)/\\lambda & \\lambda^{-1}  \\end{bmatrix} \\begin{bmatrix} m_t \\\\ p_t \\end{bmatrix} \\tag{65.16}\n",
    "$$\n",
    "\n",
    "或\n",
    "\n",
    "\n",
    "<a id='equation-equation-9'></a>\n",
    "$$\n",
    "y_{t+1} = H y_t, \\quad t \\geq 0 \\tag{65.17}\n",
    "$$\n",
    "\n",
    "其中\n",
    "\n",
    "\n",
    "<a id='equation-equation-10'></a>\n",
    "$$\n",
    "H = \\begin{bmatrix} \\rho & 0 \\\\ - (1-\\lambda)/\\lambda & \\lambda^{-1}  \\end{bmatrix} . \\tag{65.18}\n",
    "$$\n",
    "\n",
    "转移矩阵$ H $的特征值为$ \\rho \\in (0,1) $和$ \\lambda^{-1} > 1 $。\n",
    "\n",
    "因为$ H $的一个特征值大于1，如果我们从任意初始向量开始迭代方程[(65.17)](#equation-equation-9)\n",
    "\n",
    "$ y_0 = \\begin{bmatrix} m_0 \\\\ p_0 \\end{bmatrix} $ 其中 $ m_0 >0, p_0 >0 $，我们发现\n",
    "通常情况下，当 $ t \\rightarrow + \\infty $ 时，$ y_t $ 的两个分量的绝对值都趋向于 $ +\\infty $。\n",
    "\n",
    "为了证实这一说法，我们可以使用 $ H $ 的特征向量矩阵分解，这是可行的因为 $ H $ 的特征值是不同的\n",
    "\n",
    "$$\n",
    "H = Q \\Lambda Q^{-1} .\n",
    "$$\n",
    "\n",
    "这里 $ \\Lambda $ 是 $ H $ 的特征值构成的对角矩阵，$ Q $ 是由与相应特征值相关的特征向量组成的矩阵。\n",
    "\n",
    "注意到\n",
    "\n",
    "$$\n",
    "H^t = Q \\Lambda^t Q^{-1}\n",
    "$$\n",
    "\n",
    "因此\n",
    "\n",
    "$$\n",
    "y_t = Q \\Lambda^t Q^{-1} y_0\n",
    "$$\n",
    "\n",
    "对于几乎所有的初始向量 $ y_0 $，由于存在特征值 $ \\lambda^{-1} > 1 $，$ y_t $ 的两个分量的绝对值都会趋向于 $ +\\infty $。\n",
    "\n",
    "为了更详细地探讨这个结果，我们可以使用以下变换\n",
    "\n",
    "$$\n",
    "y^*_t = Q^{-1} y_t\n",
    "$$\n",
    "\n",
    "这使我们能够以一种分离的方式来表示动态过程\n",
    "\n",
    "路径发散倾向的来源：\n",
    "\n",
    "$$\n",
    "y^*_{t+1} = \\Lambda^t y^*_t\n",
    "$$\n",
    "\n",
    "观察这个方程可以发现，除非\n",
    "\n",
    "\n",
    "<a id='equation-equation-11'></a>\n",
    "$$\n",
    "y^*_0 = \\begin{bmatrix} y^*_{1,0} \\cr 0 \\end{bmatrix} \\tag{65.19}\n",
    "$$\n",
    "\n",
    "否则当$ t \\rightarrow +\\infty $时，$ y^*_t $的路径以及$ y_t = Q y^*_t $的两个分量的路径都将在绝对值上发散。（我们称这些路径*爆炸*）\n",
    "\n",
    "方程[(65.19)](#equation-equation-11)还使我们得出结论，初始向量$ y_0 $只有一个特定取值能使$ y_t $的两个分量不发散。\n",
    "\n",
    "$ y_0 $的这个必要取值显然必须满足以下性质：\n",
    "\n",
    "$$\n",
    "Q y_0 =  y^*_0 = \\begin{bmatrix} y^*_{1,0} \\cr 0 \\end{bmatrix} .\n",
    "$$\n",
    "\n",
    "但请注意，由于$ y_0 = \\begin{bmatrix} m_0 \\cr p_0 \\end{bmatrix} $且$ m_0 $是给定的初始条件，$ p_0 $必须进行所有调整以满足这个方程。\n",
    "\n",
    "有时这种情况被描述为，虽然$ m_0 $\n",
    "\n",
    "确实是一个**状态**变量，$ p_0 $是一个**跳跃**变量，必须在$ t=0 $时调整以满足方程。\n",
    "\n",
    "因此，简而言之，使$ y_t $路径不发散的向量$ y_0 $的唯一值必须具有第二个分量$ p_0 $，该分量通过将$ y^*_0 $的第二个分量设为零来验证等式[(65.19)](#equation-equation-11)。\n",
    "\n",
    "初始向量$ y_0 = \\begin{bmatrix} m_0 \\cr p_0 \\end{bmatrix} $的分量$ p_0 $必须明显满足\n",
    "\n",
    "$$\n",
    "Q^{\\{2\\}} y_0 =0\n",
    "$$\n",
    "\n",
    "其中$ Q^{\\{2\\}} $表示$ Q^{-1} $的第二行，这个限制等价于\n",
    "\n",
    "\n",
    "<a id='equation-equation-12'></a>\n",
    "$$\n",
    "Q^{21} m_0 + Q^{22} p_0 = 0 \\tag{65.20}\n",
    "$$\n",
    "\n",
    "其中$ Q^{ij} $表示$ Q^{-1} $的$ (i,j) $分量。\n",
    "\n",
    "求解此方程得到$ p_0 $：\n",
    "\n",
    "\n",
    "<a id='equation-equation-13'></a>\n",
    "$$\n",
    "p_0 = - (Q^{22})^{-1} Q^{21} m_0. \\tag{65.21}\n",
    "$$\n",
    "\n",
    "这是$ p_0 $的唯一**稳定值**，表示为$ m_0 $的函数。"
   ]
  },
  {
   "cell_type": "markdown",
   "id": "9c79982b",
   "metadata": {},
   "source": [
    "### 完善公式\n",
    "\n",
    "我们可以得到一个更便利的$ p_0 $公式，它被表示为\n",
    "\n",
    "用 $ Q $ 的分量而不是 $ Q^{-1} $ 的分量来表示。\n",
    "\n",
    "要得到这个公式，首先注意因为 $ (Q^{21}\\ Q^{22}) $ 是 $ Q $ 的逆矩阵的第二行，并且因为 $ Q^{-1} Q = I $，所以有：\n",
    "\n",
    "$$\n",
    "\\begin{bmatrix} Q^{21} & Q^{22} \\end{bmatrix}  \\begin{bmatrix} Q_{11}\\cr Q_{21} \\end{bmatrix} = 0\n",
    "$$\n",
    "\n",
    "这意味着：\n",
    "\n",
    "$$\n",
    "Q^{21} Q_{11} + Q^{22} Q_{21} = 0.\n",
    "$$\n",
    "\n",
    "因此，\n",
    "\n",
    "$$\n",
    "-(Q^{22})^{-1} Q^{21} = Q_{21} Q^{-1}_{11}.\n",
    "$$\n",
    "\n",
    "所以我们可以写成：\n",
    "\n",
    "\n",
    "<a id='equation-equation-14'></a>\n",
    "$$\n",
    "p_0 = Q_{21} Q_{11}^{-1} m_0 . \\tag{65.22}\n",
    "$$\n",
    "\n",
    "可以验证这个公式在时间上会自我复制，即：\n",
    "\n",
    "\n",
    "<a id='equation-equation-15'></a>\n",
    "$$\n",
    "p_t = Q_{21} Q^{-1}_{11} m_t. \\tag{65.23}\n",
    "$$\n",
    "\n",
    "要实现公式 [(65.23)](#equation-equation-15)，我们需要计算 $ Q_1 $，即与 $ Q $ 的稳定特征值 $ \\rho $ 相关的特征向量。\n",
    "\n",
    "通过手工计算可以验证，与稳定特征值 $ \\rho $ 相关的特征向量与下式成比例：\n",
    "\n",
    "$$\n",
    "Q_1  = \\begin{bmatrix} 1-\\lambda  \\rho \\\\ 1 - \\lambda   \\end{bmatrix}.\n",
    "$$\n",
    "\n",
    "注意，如果我们在之前的 $ p_t $ 公式中设定 $ A=\\rho $ 和 $ G=1 $，我们得到\n",
    "\n",
    "$$\n",
    "p_t = G (I - \\lambda A)^{-1} m_t =  (1-\\lambda) (1 - \\lambda \\rho)^{-1} m_t ,\n",
    "$$\n",
    "\n",
    "这个公式等价于\n",
    "\n",
    "$$\n",
    "p_t = Q_{21} Q_{11}^{-1}  m_t ,\n",
    "$$\n",
    "\n",
    "其中\n",
    "\n",
    "$$\n",
    "Q_1 = \\begin{bmatrix} Q_{11} \\\\ Q_{21}  \\end{bmatrix}.\n",
    "$$"
   ]
  },
  {
   "cell_type": "markdown",
   "id": "0eb64caa",
   "metadata": {},
   "source": [
    "### 关于反馈的说明\n",
    "\n",
    "我们已经将[(65.16)](#equation-equation-8)表达成一个表面上看起来是 $ y_{t+1} $ 对 $ y_t $ 进行反馈的形式，尽管我们实际想要表达的是分量 $ p_t $ 向 $ p_{t+1} $ **前馈**，并通过它向未来的 $ m_{t+j} $，$ j = 0, 1, 2, \\ldots $ 前馈。\n",
    "\n",
    "一个提示我们应该超越其表面”反馈”形式的明显迹象是 $ \\lambda^{-1} > 1 $，因此[(65.16)](#equation-equation-8)中的矩阵 $ H $ 是**不稳定的**\n",
    "\n",
    "- 它有一个模小于1的特征值 $ \\rho $，这不会危及稳定性，但是…  \n",
    "- 它有第二个特征值 $ \\lambda^{-1} $，其模大于1，这使得 $ H $ 成为一个不稳定矩阵  \n",
    "\n",
    "\n",
    "让我们记住这些观察结果，现在转向一个对数货币供应实际上会对价格水平的对数产生反馈的情况。"
   ]
  },
  {
   "cell_type": "markdown",
   "id": "2b841198",
   "metadata": {},
   "source": [
    "## 对数货币供应对对数价格水平的反馈\n",
    "\n",
    "当存在从对数价格水平到对数货币供应的*反馈*时，特征值在1的两侧分布的情况（一个小于1，另一个大于1）有时会出现。\n",
    "\n",
    "让反馈规则为\n",
    "\n",
    "\n",
    "<a id='equation-equation-16'></a>\n",
    "$$\n",
    "m_{t+1} =  \\rho m_t + \\delta p_t \\tag{65.24}\n",
    "$$\n",
    "\n",
    "其中 $ \\rho \\in (0,1) $，现在我们允许 $ \\delta \\neq 0 $。\n",
    "\n",
    "**警告：** 如果我们希望系统对某个我们想要唯一确定的初始值 $ p_0 $ 保持稳定，$ \\delta $ 不能太大。\n",
    "\n",
    "前瞻性方程 [(65.8)](#equation-equation-1) 继续描述货币需求和供给的均衡。\n",
    "\n",
    "我们假设方程 [(65.8)](#equation-equation-1) 和 [(65.24)](#equation-equation-16) 控制着\n",
    "$ y_t \\equiv \\begin{bmatrix} m_t \\cr p_t \\end{bmatrix} $，其中\n",
    "$ t \\geq 0 $。\n",
    "\n",
    "运动规律中的转移矩阵 $ H $\n",
    "\n",
    "$$\n",
    "y_{t+1} = H y_t\n",
    "$$\n",
    "\n",
    "现在变为\n",
    "\n",
    "$$\n",
    "H = \\begin{bmatrix} \\rho & \\delta \\\\ - (1-\\lambda)/\\lambda & \\lambda^{-1}  \\end{bmatrix} .\n",
    "$$\n",
    "\n",
    "我们将 $ m_0 $ 作为给定的初始条件，并像之前一样寻找一个初始值 $ p_0 $ 使系统稳定，即\n",
    "$ y_t $ 在 $ t \\rightarrow + \\infty $ 时收敛。\n",
    "\n",
    "我们采用的方法与上面相同，基于特征值分解，我们希望一个特征值大于1，另一个特征值的绝对值小于1。\n",
    "\n",
    "当我们现在假设 $ \\delta \\neq 0 $ 时，$ H $ 的特征值将不再是\n",
    "$ \\rho \\in (0,1) $ 和 $ \\lambda^{-1} > 1 $\n",
    "\n",
    "我们只需计算这些特征值，并应用与上面相同的算法。\n",
    "\n",
    "只要特征值仍然像之前那样在1的两侧分布，该算法就依然有效。\n",
    "\n",
    "我们再次假设 $ m_0 $ 是一个初始条件，但是 $ p_0 $ 不是给定的，而是需要求解的。\n",
    "\n",
    "让我们编写并执行一些Python代码，来探索结果如何依赖于 $ \\delta $。"
   ]
  },
  {
   "cell_type": "code",
   "execution_count": null,
   "id": "22b6495e",
   "metadata": {
    "hide-output": false
   },
   "outputs": [],
   "source": [
    "def construct_H(ρ, λ, δ):\n",
    "    \"根据参数构建矩阵H。\"\n",
    "\n",
    "    H = np.empty((2, 2))\n",
    "    H[0, :] = ρ,δ\n",
    "    H[1, :] = - (1 - λ) / λ, 1 / λ\n",
    "\n",
    "    return H\n",
    "\n",
    "def H_eigvals(ρ=.9, λ=.5, δ=0):\n",
    "    \"根据参数计算矩阵H的特征值。\"\n",
    "\n",
    "    # 构建H矩阵\n",
    "    H = construct_H(ρ, λ, δ)\n",
    "\n",
    "    # 计算特征值\n",
    "    eigvals = np.linalg.eigvals(H)\n",
    "\n",
    "    return eigvals"
   ]
  },
  {
   "cell_type": "code",
   "execution_count": null,
   "id": "a55872e6",
   "metadata": {
    "hide-output": false
   },
   "outputs": [],
   "source": [
    "H_eigvals()"
   ]
  },
  {
   "cell_type": "markdown",
   "id": "50a37fea",
   "metadata": {},
   "source": [
    "注意即使负的 $ \\delta $ 有很大的绝对值，也不会危及矩阵 $ H $ 的稳定性。"
   ]
  },
  {
   "cell_type": "code",
   "execution_count": null,
   "id": "7ce81e85",
   "metadata": {
    "hide-output": false
   },
   "outputs": [],
   "source": [
    "# 小的负 δ\n",
    "H_eigvals(δ=-0.05)"
   ]
  },
  {
   "cell_type": "code",
   "execution_count": null,
   "id": "5db7c622",
   "metadata": {
    "hide-output": false
   },
   "outputs": [],
   "source": [
    "# 较大的负δ值\n",
    "H_eigvals(δ=-1.5)"
   ]
  },
  {
   "cell_type": "markdown",
   "id": "010a7ccc",
   "metadata": {},
   "source": [
    "一个足够小的正数 $ \\delta $ 也不会造成问题。"
   ]
  },
  {
   "cell_type": "code",
   "execution_count": null,
   "id": "ab834def",
   "metadata": {
    "hide-output": false
   },
   "outputs": [],
   "source": [
    "# 足够小的正数 δ\n",
    "H_eigvals(δ=0.05)"
   ]
  },
  {
   "cell_type": "markdown",
   "id": "5625372f",
   "metadata": {},
   "source": [
    "但是足够大的正值 $ \\delta $ 会使 $ H $ 的两个特征值的模都严格大于1。\n",
    "\n",
    "例如，"
   ]
  },
  {
   "cell_type": "code",
   "execution_count": null,
   "id": "5b10553a",
   "metadata": {
    "hide-output": false
   },
   "outputs": [],
   "source": [
    "H_eigvals(δ=0.2)"
   ]
  },
  {
   "cell_type": "markdown",
   "id": "d2f30896",
   "metadata": {},
   "source": [
    "我们要研究的是这样的系统：一个特征值的模大于1，而另一个特征值的模小于1，因此我们要避免$ \\delta $的值过大。\n",
    "\n",
    "也就是说，我们要避免从$ p_t $到$ m_{t+1} $的正反馈过强。"
   ]
  },
  {
   "cell_type": "code",
   "execution_count": null,
   "id": "6b85b07b",
   "metadata": {
    "hide-output": false
   },
   "outputs": [],
   "source": [
    "def magic_p0(m0, ρ=.9, λ=.5, δ=0):\n",
    "    \"\"\"\n",
    "    使用魔法公式(8)计算使系统稳定的p0水平。\n",
    "    \"\"\"\n",
    "\n",
    "    H = construct_H(ρ, λ, δ)\n",
    "    eigvals, Q = np.linalg.eig(H)\n",
    "\n",
    "    # 找到较小特征值的索引\n",
    "    ind = 0 if eigvals[0] < eigvals[1] else 1\n",
    "\n",
    "    # 验证特征值是否小于1\n",
    "    if eigvals[ind] > 1:\n",
    "\n",
    "        print(\"两个特征值的模都大于1\")\n",
    "\n",
    "        return None\n",
    "\n",
    "    p0 = Q[1, ind] / Q[0, ind] * m0\n",
    "\n",
    "    return p0"
   ]
  },
  {
   "cell_type": "markdown",
   "id": "0af04cbf",
   "metadata": {},
   "source": [
    "让我们绘制在不同的$ \\delta $设置下，$ p_0 $如何随着$ m_0 $的变化而变化。"
   ]
  },
  {
   "cell_type": "code",
   "execution_count": null,
   "id": "1a212691",
   "metadata": {
    "hide-output": false
   },
   "outputs": [],
   "source": [
    "m_range = np.arange(0.1, 2., 0.1)\n",
    "\n",
    "for δ in [-0.05, 0, 0.05]:\n",
    "    plt.plot(m_range, [magic_p0(m0, δ=δ) for m0 in m_range], label=f\"δ={δ}\")\n",
    "plt.legend()\n",
    "\n",
    "plt.xlabel(r\"$m_0$\")\n",
    "plt.ylabel(r\"$p_0$\")\n",
    "plt.show()"
   ]
  },
  {
   "cell_type": "markdown",
   "id": "ed13422b",
   "metadata": {},
   "source": [
    "从另一个角度来看，我们可以固定初始值$ m_0 $，观察当$ \\delta $变化时$ p_0 $如何变化。"
   ]
  },
  {
   "cell_type": "code",
   "execution_count": null,
   "id": "e003b1b1",
   "metadata": {
    "hide-output": false
   },
   "outputs": [],
   "source": [
    "m0 = 1\n",
    "\n",
    "δ_range = np.linspace(-0.05, 0.05, 100)\n",
    "plt.plot(δ_range, [magic_p0(m0, δ=δ) for δ in δ_range])\n",
    "plt.xlabel(r'$\\delta$')\n",
    "plt.ylabel(r'$p_0$')\n",
    "plt.title(rf'$m_0$={m0}')\n",
    "plt.show()"
   ]
  },
  {
   "cell_type": "markdown",
   "id": "fbb592a3",
   "metadata": {},
   "source": [
    "注意当 $ \\delta $ 足够大时，两个特征值的模都大于1，这导致不存在能使系统稳定的 $ p_0 $ 值。"
   ]
  },
  {
   "cell_type": "code",
   "execution_count": null,
   "id": "499afd96",
   "metadata": {
    "hide-output": false
   },
   "outputs": [],
   "source": [
    "magic_p0(1, δ=0.2)"
   ]
  },
  {
   "cell_type": "markdown",
   "id": "6e8b397c",
   "metadata": {},
   "source": [
    "## 大 $ P $，小 $ p $ 解释\n",
    "\n",
    "从价格水平或通货膨胀对货币或货币创造率的反馈角度来看待差分方程的解，用[理性预期模型](https://python.quantecon.org/rational_expectations.html)中讨论的大 $ K $，小 $ k $ 的思路来理解会很有帮助。\n",
    "\n",
    "这将帮助我们理清，当决策者使用差分方程[(65.9)](#equation-equation-2)来根据他们对未来$ m_t $值的预测确定$ p_t $时，哪些是被视为既定的。\n",
    "\n",
    "让我们将使用$ H $的特征向量分解计算得到的稳定解写作$ P_t = F^* m_t $，其中\n",
    "\n",
    "$$\n",
    "F^* = Q_{21} Q_{11}^{-1} .\n",
    "$$\n",
    "\n",
    "然后从$ P_{t+1} = F^* m_{t+1} $和$ m_{t+1} = \\rho m_t + \\delta P_t $，我们可以推导出递归式$ P_{t+1} = F^* \\rho m_t + F^* \\delta P_t $并创建堆叠系统\n",
    "\n",
    "$$\n",
    "\\begin{bmatrix} m_{t+1} \\cr P_{t+1} \\end{bmatrix}  =    \\begin{bmatrix} \\rho & \\delta \\cr\n",
    "\n",
    "F^* \\rho & F^* \\delta   \\end{bmatrix} \\begin{bmatrix} m_t \\cr P_t \\end{bmatrix}\n",
    "$$\n",
    "\n",
    "或\n",
    "\n",
    "$$\n",
    "x_{t+1} = A x_t\n",
    "$$\n",
    "\n",
    "其中 $ x_t = \\begin{bmatrix} m_t \\cr P_t \\end{bmatrix} $。\n",
    "\n",
    "应用公式 [(65.13)](#equation-equation-5) 对 $ F $ 推导得出\n",
    "\n",
    "$$\n",
    "p_t = F \\begin{bmatrix} m_t \\cr P_t \\end{bmatrix} = F \\begin{bmatrix} m_t \\cr F^* m_t \\end{bmatrix}\n",
    "$$\n",
    "\n",
    "这意味着\n",
    "\n",
    "$$\n",
    "p_t = \\begin{bmatrix} F_1 & F_2 \\end{bmatrix}    \\begin{bmatrix} m_t \\cr F^* m_t \\end{bmatrix} = F_1 m_t + F_2 F^* m_t\n",
    "$$\n",
    "\n",
    "因此我们可以预期\n",
    "\n",
    "$$\n",
    "F^* = F_1 + F_2 F^*\n",
    "$$\n",
    "\n",
    "我们将在下一个Python代码块中验证这个等式，该代码块实现以下计算。\n",
    "\n",
    "1. 对于 $ \\delta\\neq 0 $ 的系统（即存在反馈的系统），\n",
    "  我们计算 $ p_t $ 的稳定解，形式为\n",
    "  $ p_t = F^* m_t $，其中 $ F^* = Q_{21}Q_{11}^{-1} $，如上所述。  \n",
    "1. 回顾上面的系统 [(65.11)](#equation-equation-3)、[(65.12)](#equation-equation-4) 和 [(65.13)](#equation-equation-5)，我们定义  \n",
    "\n",
    "\n",
    "$ x_t = \\begin{bmatrix} m_t \\cr P_t \\end{bmatrix} $ 请注意\n",
    "这里是大写的 $ P_t $ 而不是小写的 $ p_t $。然后我们构建 $ A $ 和 $ G $ 为\n",
    "$ A = \\begin{bmatrix}\\rho & \\delta \\cr F^* \\rho & F^*\\delta \\end{bmatrix} $\n",
    "和 $ G = \\begin{bmatrix} 1 & 0 \\end{bmatrix} $ 并且我们从上面的\n",
    "方程 [(65.13)](#equation-equation-5) 计算\n",
    "$ \\begin{bmatrix}  F_1 &  F_2 \\end{bmatrix} \\equiv F $。\n",
    "\n",
    "1. 我们计算 $ F_1 +  F_2 F^* $ 并将其\n",
    "  与 $ F^* $ 进行比较，检验是否符合预期的等式。  "
   ]
  },
  {
   "cell_type": "code",
   "execution_count": null,
   "id": "8c7d2405",
   "metadata": {
    "hide-output": false
   },
   "outputs": [],
   "source": [
    "# 设置参数\n",
    "ρ = .9\n",
    "λ = .5\n",
    "δ = .05"
   ]
  },
  {
   "cell_type": "code",
   "execution_count": null,
   "id": "7e804026",
   "metadata": {
    "hide-output": false
   },
   "outputs": [],
   "source": [
    "# 求解 F_star\n",
    "H = construct_H(ρ, λ, δ)\n",
    "eigvals, Q = np.linalg.eig(H)\n",
    "\n",
    "ind = 0 if eigvals[0] < eigvals[1] else 1\n",
    "F_star = Q[1, ind] / Q[0, ind]\n",
    "F_star"
   ]
  },
  {
   "cell_type": "code",
   "execution_count": null,
   "id": "702b1dd1",
   "metadata": {
    "hide-output": false
   },
   "outputs": [],
   "source": [
    "# 求解 F_check\n",
    "A = np.empty((2, 2))\n",
    "A[0, :] = ρ, δ\n",
    "A[1, :] = F_star * A[0, :]\n",
    "\n",
    "G = np.array([1, 0])\n",
    "\n",
    "F_check= (1 - λ) * G @ np.linalg.inv(np.eye(2) - λ * A)\n",
    "F_check"
   ]
  },
  {
   "cell_type": "markdown",
   "id": "96967bf6",
   "metadata": {},
   "source": [
    "比较 $ F^* $ 与 $ F_1 + F_2 F^* $"
   ]
  },
  {
   "cell_type": "code",
   "execution_count": null,
   "id": "033ee27f",
   "metadata": {
    "hide-output": false
   },
   "outputs": [],
   "source": [
    "F_check[0] + F_check[1] * F_star, F_star"
   ]
  },
  {
   "cell_type": "markdown",
   "id": "64add697",
   "metadata": {},
   "source": [
    "## 玩转 SymPy\n",
    "\n",
    "本节是给坚持读到这里的读者的一份礼物。\n",
    "\n",
    "我们将使用 SymPy 来处理我们的模型。\n",
    "\n",
    "具体来说，我们使用 SymPy 来计算 $ H $ 的特征向量分解中的一些关键对象。\n",
    "\n",
    "我们首先生成一个具有非零 $ \\delta $ 的 $ H $。"
   ]
  },
  {
   "cell_type": "code",
   "execution_count": null,
   "id": "d534dee9",
   "metadata": {
    "hide-output": false
   },
   "outputs": [],
   "source": [
    "λ, δ, ρ = symbols('λ, δ, ρ')"
   ]
  },
  {
   "cell_type": "code",
   "execution_count": null,
   "id": "b948a123",
   "metadata": {
    "hide-output": false
   },
   "outputs": [],
   "source": [
    "H1 = Matrix([[ρ,δ], [- (1 - λ) / λ, λ ** -1]])"
   ]
  },
  {
   "cell_type": "code",
   "execution_count": null,
   "id": "d5c02b85",
   "metadata": {
    "hide-output": false
   },
   "outputs": [],
   "source": [
    "H1"
   ]
  },
  {
   "cell_type": "code",
   "execution_count": null,
   "id": "5117932a",
   "metadata": {
    "hide-output": false
   },
   "outputs": [],
   "source": [
    "H1.eigenvals()"
   ]
  },
  {
   "cell_type": "code",
   "execution_count": null,
   "id": "44f67978",
   "metadata": {
    "hide-output": false
   },
   "outputs": [],
   "source": [
    "H1.eigenvects()"
   ]
  },
  {
   "cell_type": "markdown",
   "id": "48cb89eb",
   "metadata": {},
   "source": [
    "现在让我们计算当 $ \\delta $ 为零时的 $ H $。"
   ]
  },
  {
   "cell_type": "code",
   "execution_count": null,
   "id": "b4d53a6c",
   "metadata": {
    "hide-output": false
   },
   "outputs": [],
   "source": [
    "H2 = Matrix([[ρ,0], [- (1 - λ) / λ, λ ** -1]])"
   ]
  },
  {
   "cell_type": "code",
   "execution_count": null,
   "id": "8244c070",
   "metadata": {
    "hide-output": false
   },
   "outputs": [],
   "source": [
    "H2"
   ]
  },
  {
   "cell_type": "code",
   "execution_count": null,
   "id": "f47ba293",
   "metadata": {
    "hide-output": false
   },
   "outputs": [],
   "source": [
    "H2.eigenvals()"
   ]
  },
  {
   "cell_type": "code",
   "execution_count": null,
   "id": "92074dd9",
   "metadata": {
    "hide-output": false
   },
   "outputs": [],
   "source": [
    "H2.eigenvects()"
   ]
  },
  {
   "cell_type": "markdown",
   "id": "ee0c6134",
   "metadata": {},
   "source": [
    "下面我们让SymPy为我们分析性地完成以下有趣的计算：\n",
    "\n",
    "1. 我们计算矩阵$ Q $，其第一列是与$ \\rho $相关的特征向量，第二列是与$ \\lambda^{-1} $相关的特征向量。  \n",
    "1. 我们使用SymPy计算$ Q $的逆矩阵$ Q^{-1} $（都用符号表示）。  \n",
    "1. 我们使用SymPy计算$ Q_{21} Q_{11}^{-1} $（用符号表示）。  \n",
    "1. 其中$ Q^{ij} $表示$ Q^{-1} $的$ (i,j) $分量，我们使用SymPy计算$ - (Q^{22})^{-1} Q^{21} $（同样用符号表示）  "
   ]
  },
  {
   "cell_type": "code",
   "execution_count": null,
   "id": "f62dde2f",
   "metadata": {
    "hide-output": false
   },
   "outputs": [],
   "source": [
    "# 构造Q\n",
    "vec = []\n",
    "for i, (eigval, _, eigvec) in enumerate(H2.eigenvects()):\n",
    "\n",
    "    vec.append(eigvec[0])\n",
    "\n",
    "    if eigval == ρ:\n",
    "        ind = i\n",
    "\n",
    "Q = vec[ind].col_insert(1, vec[1-ind])"
   ]
  },
  {
   "cell_type": "code",
   "execution_count": null,
   "id": "30c2a60f",
   "metadata": {
    "hide-output": false
   },
   "outputs": [],
   "source": [
    "Q"
   ]
  },
  {
   "cell_type": "markdown",
   "id": "9d82e896",
   "metadata": {},
   "source": [
    "$ Q^{-1} $"
   ]
  },
  {
   "cell_type": "code",
   "execution_count": null,
   "id": "8dcc1b30",
   "metadata": {
    "hide-output": false
   },
   "outputs": [],
   "source": [
    "Q_inv = Q ** (-1)\n",
    "Q_inv"
   ]
  },
  {
   "cell_type": "markdown",
   "id": "b671508b",
   "metadata": {},
   "source": [
    "$ Q_{21}Q_{11}^{-1} $"
   ]
  },
  {
   "cell_type": "code",
   "execution_count": null,
   "id": "27dfd5c9",
   "metadata": {
    "hide-output": false
   },
   "outputs": [],
   "source": [
    "Q[1, 0] / Q[0, 0]"
   ]
  },
  {
   "cell_type": "markdown",
   "id": "6e9a8f10",
   "metadata": {},
   "source": [
    "$ −(Q^{22})^{−1}Q^{21} $"
   ]
  },
  {
   "cell_type": "code",
   "execution_count": null,
   "id": "d233c6af",
   "metadata": {
    "hide-output": false
   },
   "outputs": [],
   "source": [
    "- Q_inv[1, 0] / Q_inv[1, 1]"
   ]
  }
 ],
 "metadata": {
  "date": 1750032245.4094384,
  "filename": "re_with_feedback.md",
  "kernelspec": {
   "display_name": "Python",
   "language": "python3",
   "name": "python3"
  },
  "title": "线性理性预期模型中的稳定性"
 },
 "nbformat": 4,
 "nbformat_minor": 5
}