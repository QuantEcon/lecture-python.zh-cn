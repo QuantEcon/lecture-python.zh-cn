{
 "cells": [
  {
   "cell_type": "markdown",
   "id": "42f5b6a4",
   "metadata": {},
   "source": [
    "# 随机化回应调查"
   ]
  },
  {
   "cell_type": "markdown",
   "id": "4aed05a7",
   "metadata": {},
   "source": [
    "## 概述\n",
    "\n",
    "社会污名可能会阻止人们承认潜在的令人尴尬的行为或观点。\n",
    "\n",
    "当人们不愿意参与关于个人敏感问题的抽样调查时，他们可能会拒绝参与，即使参与了，他们也可能会对敏感问题提供不正确的答案。\n",
    "\n",
    "这些问题会导致**选择**偏差，给调查的解释和设计带来挑战。\n",
    "\n",
    "为了说明社会科学家如何思考估计此类令人尴尬的行为和观点的普遍程度，本讲座描述了S. L. Warner [[Warner, 1965](https://python.quantecon.org/zreferences.html#id10)]的一种经典方法。\n",
    "\n",
    "Warner使用基础概率论构建了一种方法，在保护调查受访者**个人**隐私的同时，仍能估算出在一个**群体**中具有社会污名特征或从事社会污名活动的人数比例。\n",
    "\n",
    "Warner的想法是在受访者的答案与调查制作者最终收到的**信号**之间添加**噪声**。\n",
    "\n",
    "了解噪声的结构可以让受访者确信调查制作者无法观察到他的答案。\n",
    "\n",
    "噪声注入程序的统计特性为受访者提供了**合理的可否认性**。\n",
    "\n",
    "相关理念构成了现代**差分隐私**系统的基础。\n",
    "\n",
    "(参见 [https://en.wikipedia.org/wiki/Differential_privacy](https://en.wikipedia.org/wiki/Differential_privacy))"
   ]
  },
  {
   "cell_type": "markdown",
   "id": "0cde7eb5",
   "metadata": {},
   "source": [
    "## Warner的策略\n",
    "\n",
    "像往常一样，让我们导入将要使用的Python模块。"
   ]
  },
  {
   "cell_type": "code",
   "execution_count": null,
   "id": "0ac12f48",
   "metadata": {
    "hide-output": false
   },
   "outputs": [],
   "source": [
    "import numpy as np\n",
    "import pandas as pd"
   ]
  },
  {
   "cell_type": "markdown",
   "id": "3035d3e2",
   "metadata": {},
   "source": [
    "假设人群中的每个人要么属于 A 组，要么属于 B 组。\n",
    "\n",
    "我们想要估计属于 A 组的人口比例 $ \\pi $，同时保护个人受访者的隐私。\n",
    "\n",
    "Warner [[Warner, 1965](https://python.quantecon.org/zreferences.html#id10)] 提出并分析了以下程序：\n",
    "\n",
    "- 从人群中有放回地抽取 $ n $ 个随机样本，并对每个人进行访谈。  \n",
    "- 从人群中有放回地抽取 $ n $ 个随机样本，并对每个人进行访谈。  \n",
    "- 准备一个**随机转盘**，该转盘指向字母 A 的概率为 $ p $，指向字母 B 的概率为 $ (1-p) $。  \n",
    "- 每个受试者转动随机转盘，看到一个面试官**看不到**的结果（A 或 B）。  \n",
    "- 受试者说明自己是否属于转盘所指向的组。  \n",
    "- 如果转盘指向受试者所属的组，受试者回答”是”；否则回答”否”。  \n",
    "- 受试者如实回答问题。  \n",
    "\n",
    "\n",
    "Warner构建了一个用于估计总体中集合A所占比例的最大似然估计量。\n",
    "\n",
    "设\n",
    "\n",
    "- $ \\pi $ : 总体中A的真实概率  \n",
    "- $ p $ : 指针指向A的概率  \n",
    "- $ X_{i}=\\begin{cases}1,\\text{ 如果第}i\\text{个受试者回答是}\\\\0,\\text{ 如果第}i\\text{个受试者回答否}\\end{cases} $  \n",
    "\n",
    "\n",
    "将样本集编号，使得前$ n_1 $个报告”是”，而后$ n-n_1 $个报告”否”。\n",
    "\n",
    "样本集的似然函数为\n",
    "\n",
    "\n",
    "<a id='equation-eq-one'></a>\n",
    "$$\n",
    "L=\\left[\\pi p + (1-\\pi)(1-p)\\right]^{n_{1}}\\left[(1-\\pi) p +\\pi (1-p)\\right]^{n-n_{1}} \\tag{15.1}\n",
    "$$\n",
    "\n",
    "似然函数的对数为：\n",
    "\n",
    "\n",
    "<a id='equation-eq-two'></a>\n",
    "$$\n",
    "\\log(L)= n_1 \\log \\left[\\pi p + (1-\\pi)(1-p)\\right] + (n-n_{1}) \\log \\left[(1-\\pi) p +\\pi (1-p)\\right] \\tag{15.2}\n",
    "$$\n",
    "\n",
    "关于$ \\pi $最大化对数似然函数的一阶必要条件是：\n",
    "\n",
    "$$\n",
    "\\frac{(n-n_1)(2p-1)}{(1-\\pi) p +\\pi (1-p)}=\\frac{n_1 (2p-1)}{\\pi p + (1-\\pi)(1-p)}\n",
    "$$\n",
    "\n",
    "或\n",
    "\n",
    "\n",
    "<a id='equation-eq-3'></a>\n",
    "$$\n",
    "\\pi p + (1-\\pi)(1-p)=\\frac{n_1}{n} \\tag{15.3}\n",
    "$$\n",
    "\n",
    "如果 $ p \\neq \\frac{1}{2} $，则最大似然估计量（MLE）$ \\pi $ 为：\n",
    "\n",
    "\n",
    "<a id='equation-eq-four'></a>\n",
    "$$\n",
    "\\hat{\\pi}=\\frac{p-1}{2p-1}+\\frac{n_1}{(2p-1)n} \\tag{15.4}\n",
    "$$\n",
    "\n",
    "我们计算MLE估计量 $ \\hat \\pi $ 的均值和方差为：\n",
    "\n",
    "\n",
    "<a id='equation-eq-five'></a>\n",
    "$$\n",
    "\\begin{aligned}\n",
    "\\mathbb{E}(\\hat{\\pi})&= \\frac{1}{2 p-1}\\left[p-1+\\frac{1}{n} \\sum_{i=1}^{n} \\mathbb{E} X_i \\right] \\\\\n",
    "&=\\frac{1}{2 p-1} \\left[ p -1 + \\pi p + (1-\\pi)(1-p)\\right] \\\\\n",
    "&=\\pi\n",
    "\\end{aligned} \\tag{15.5}\n",
    "$$\n",
    "\n",
    "以及\n",
    "\n",
    "\n",
    "<a id='equation-eq-six'></a>\n",
    "$$\n",
    "\\begin{aligned}\n",
    "Var(\\hat{\\pi})&=\\frac{n Var(X_i)}{(2p - 1 )^2 n^2} \\\\\n",
    "&= \\frac{\\left[\\pi p + (1-\\pi)(1-p)\\right]\\left[(1-\\pi) p +\\pi (1-p)\\right]}{(2p - 1 )^2 n^2}\\\\\n",
    "&=\\frac{\\frac{1}{4}+(2 p^2 - 2 p +\\frac{1}{2})(- 2 \\pi^2 + 2 \\pi -\\frac{1}{2})}{(2p - 1 )^2 n^2}\\\\\n",
    "&=\\frac{1}{n}\\left[\\frac{1}{16(p-\\frac{1}{2})^2}-(\\pi-\\frac{1}{2})^2 \\right]\n",
    "\\end{aligned} \\tag{15.6}\n",
    "$$\n",
    "\n",
    "方程 [(15.5)](#equation-eq-five) 表明 $ \\hat{\\pi} $ 是 $ \\pi $ 的**无偏估计量**，而方程 [(15.6)](#equation-eq-six) 告诉我们估计量的方差。\n",
    "\n",
    "为了计算置信区间，首先将 [(15.6)](#equation-eq-six) 重写为：\n",
    "\n",
    "\n",
    "<a id='equation-eq-seven'></a>\n",
    "$$\n",
    "Var(\\hat{\\pi})=\\frac{\\frac{1}{4}-(\\pi-\\frac{1}{2})^2}{n}+\\frac{\\frac{1}{16(p-\\frac{1}{2})^2}-\\frac{1}{4}}{n} \\tag{15.7}\n",
    "$$\n",
    "\n",
    "这个方程表明 $ \\hat{\\pi} $ 的方差可以表示为抽样方差和随机设备方差的和。\n",
    "\n",
    "从上述表达式中我们可以发现：\n",
    "\n",
    "- 当 $ p $ 为 $ \\frac{1}{2} $ 时，表达式 [(15.1)](#equation-eq-one) 退化为一个常数。  \n",
    "- 当 $ p $ 为 $ 1 $ 或 $ 0 $ 时，随机化估计退化为不含随机抽样的估计量。  \n",
    "\n",
    "\n",
    "我们将只讨论 $ p \\in (\\frac{1}{2},1) $ 的情况\n",
    "\n",
    "（$ p \\in (0,\\frac{1}{2}) $ 的情况是对称的）。\n",
    "\n",
    "从表达式 [(15.5)](#equation-eq-five) 和 [(15.7)](#equation-eq-seven) 我们可以推导出：\n",
    "\n",
    "- 随着 $ p $ 的增加，$ \\hat{\\pi} $ 的均方误差(MSE)减小。  "
   ]
  },
  {
   "cell_type": "markdown",
   "id": "b53a403e",
   "metadata": {},
   "source": [
    "## 比较两种调查设计\n",
    "\n",
    "让我们比较前面的随机化回答法与一个简化的非随机化回答法。\n",
    "\n",
    "在我们的非随机化回答法中，我们假设：\n",
    "\n",
    "- A组成员以概率 $ T_a $ 说真话，而B组成员以概率 $ T_b $ 说真话  \n",
    "- $ Y_i $ 为1或0，取决于样本中第i个成员的报告是否属于A组。  \n",
    "\n",
    "\n",
    "那么我们可以估计 $ \\pi $ 为：\n",
    "\n",
    "\n",
    "<a id='equation-eq-eight'></a>\n",
    "$$\n",
    "\\hat{\\pi}=\\frac{\\sum_{i=1}^{n}Y_i}{n} \\tag{15.8}\n",
    "$$\n",
    "\n",
    "我们计算该估计量的期望值、偏差和方差为：\n",
    "\n",
    "\n",
    "<a id='equation-eq-nine'></a>\n",
    "$$\n",
    "\\begin{aligned}\n",
    "\\mathbb{E}(\\hat{\\pi})&=\\pi T_a + \\left[ (1-\\pi)(1-T_b)\\right]\\\\\n",
    "\\end{aligned} \\tag{15.9}\n",
    "$$\n",
    "\n",
    "\n",
    "<a id='equation-eq-ten'></a>\n",
    "$$\n",
    "\\begin{aligned}\n",
    "Bias(\\hat{\\pi})&=\\mathbb{E}(\\hat{\\pi}-\\pi)\\\\\n",
    "&=\\pi [T_a + T_b -2 ] + [1- T_b] \\\\\n",
    "\\end{aligned} \\tag{15.10}\n",
    "$$\n",
    "\n",
    "\n",
    "<a id='equation-eq-eleven'></a>\n",
    "$$\n",
    "\\begin{aligned}\n",
    "\n",
    "Var(\\hat{\\pi})&=\\frac{ \\left[ \\pi T_a + (1-\\pi)(1-T_b)\\right]  \\left[1- \\pi T_a -(1-\\pi)(1-T_b)\\right] }{n}\n",
    "\\end{aligned} \\tag{15.11}\n",
    "$$\n",
    "\n",
    "定义一个\n",
    "\n",
    "$$\n",
    "\\text{MSE 比率}=\\frac{\\text{随机化的均方误差}}{\\text{常规的均方误差}}\n",
    "$$\n",
    "\n",
    "我们可以计算不同参数值下不同调查设计的MSE比率。\n",
    "\n",
    "以下Python代码计算了我们想要观察的对象，以便在不同的$ \\pi_A $和$ n $值下进行比较："
   ]
  },
  {
   "cell_type": "code",
   "execution_count": null,
   "id": "4cc19213",
   "metadata": {
    "hide-output": false
   },
   "outputs": [],
   "source": [
    "class Comparison:\n",
    "    def __init__(self, A, n):\n",
    "        self.A = A\n",
    "        self.n = n\n",
    "        TaTb = np.array([[0.95,  1], [0.9,   1], [0.7,    1], \n",
    "                         [0.5,   1], [1,  0.95], [1,    0.9], \n",
    "                         [1,   0.7], [1,   0.5], [0.95, 0.95], \n",
    "                         [0.9, 0.9], [0.7, 0.7], [0.5,  0.5]])\n",
    "        self.p_arr = np.array([0.6, 0.7, 0.8, 0.9])\n",
    "        self.p_map = dict(zip(self.p_arr, [f\"MSE 比率: p = {x}\" for x in self.p_arr]))\n",
    "        self.template = pd.DataFrame(columns=self.p_arr)\n",
    "        self.template[['T_a','T_b']] = TaTb\n",
    "        self.template['Bias'] = None\n",
    "    \n",
    "    def theoretical(self):\n",
    "        A = self.A\n",
    "        n = self.n\n",
    "        df = self.template.copy()\n",
    "        df['Bias'] = A * (df['T_a'] + df['T_b'] - 2) + (1 - df['T_b'])\n",
    "        for p in self.p_arr:\n",
    "            df[p] = (1 / (16 * (p - 1/2)**2) - (A - 1/2)**2) / n / \\\n",
    "                    (df['Bias']**2 + ((A * df['T_a'] + (1 - A) * (1 - df['T_b'])) * (1 - A * df['T_a'] - (1 - A) * (1 - df['T_b'])) / n))\n",
    "            df[p] = df[p].round(2)\n",
    "        df = df.set_index([\"T_a\", \"T_b\", \"Bias\"]).rename(columns=self.p_map)\n",
    "        return df\n",
    "        \n",
    "    def MCsimulation(self, size=1000, seed=123456):\n",
    "        A = self.A\n",
    "        n = self.n\n",
    "        df = self.template.copy()\n",
    "        np.random.seed(seed)\n",
    "        sample = np.random.rand(size, self.n) <= A\n",
    "        random_device = np.random.rand(size, n)\n",
    "        mse_rd = {}\n",
    "        for p in self.p_arr:\n",
    "            spinner = random_device <= p\n",
    "            rd_answer = sample * spinner + (1 - sample) * (1 - spinner)\n",
    "            n1 = rd_answer.sum(axis=1)\n",
    "            pi_hat = (p - 1) / (2 * p - 1) + n1 / n / (2 * p - 1)\n",
    "            mse_rd[p] = np.sum((pi_hat - A)**2)\n",
    "        for inum, irow in df.iterrows():\n",
    "            truth_a = np.random.rand(size, self.n) <= irow.T_a\n",
    "            truth_b = np.random.rand(size, self.n) <= irow.T_b\n",
    "            trad_answer = sample * truth_a + (1 - sample) * (1 - truth_b)\n",
    "            pi_trad = trad_answer.sum(axis=1) / n\n",
    "            df.loc[inum, 'Bias'] = pi_trad.mean() - A\n",
    "            mse_trad = np.sum((pi_trad - A)**2)\n",
    "            for p in self.p_arr:\n",
    "                df.loc[inum, p] = (mse_rd[p] / mse_trad).round(2)\n",
    "        df = df.set_index([\"T_a\", \"T_b\", \"Bias\"]).rename(columns=self.p_map)\n",
    "        return df"
   ]
  },
  {
   "cell_type": "markdown",
   "id": "44c8db41",
   "metadata": {},
   "source": [
    "让我们使用以下参数值来运行代码\n",
    "\n",
    "- $ \\pi_A=0.6 $  \n",
    "- $ n=1000 $  \n",
    "\n",
    "\n",
    "我们可以使用上述公式理论上生成MSE比率。\n",
    "\n",
    "我们也可以对MSE比率进行蒙特卡洛模拟。"
   ]
  },
  {
   "cell_type": "code",
   "execution_count": null,
   "id": "bb6ac365",
   "metadata": {
    "hide-output": false
   },
   "outputs": [],
   "source": [
    "cp1 = Comparison(0.6, 1000)\n",
    "df1_theoretical = cp1.theoretical()\n",
    "df1_theoretical"
   ]
  },
  {
   "cell_type": "code",
   "execution_count": null,
   "id": "cab2dfaa",
   "metadata": {
    "hide-output": false
   },
   "outputs": [],
   "source": [
    "df1_mc = cp1.MCsimulation()\n",
    "df1_mc"
   ]
  },
  {
   "cell_type": "markdown",
   "id": "94ecc940",
   "metadata": {},
   "source": [
    "理论计算很好地预测了蒙特卡洛结果。\n",
    "\n",
    "我们看到在许多情况下，特别是当偏差不小时，随机抽样方法的均方误差比非随机抽样方法要小。\n",
    "\n",
    "随着$ p $的增加，这些差异变得更大。\n",
    "\n",
    "通过调整参数$ \\pi_A $和$ n $，我们可以研究不同情况下的结果。\n",
    "\n",
    "例如，对于Warner [[Warner, 1965](https://python.quantecon.org/zreferences.html#id10)]描述的另一种情况：\n",
    "\n",
    "- $ \\pi_A=0.5 $  \n",
    "- $ n=1000 $  \n",
    "\n",
    "\n",
    "我们可以使用以下代码"
   ]
  },
  {
   "cell_type": "code",
   "execution_count": null,
   "id": "e92d2274",
   "metadata": {
    "hide-output": false
   },
   "outputs": [],
   "source": [
    "cp2 = Comparison(0.5, 1000)\n",
    "df2_theoretical = cp2.theoretical()\n",
    "df2_theoretical"
   ]
  },
  {
   "cell_type": "code",
   "execution_count": null,
   "id": "b6ed55ea",
   "metadata": {
    "hide-output": false
   },
   "outputs": [],
   "source": [
    "df2_mc = cp2.MCsimulation()\n",
    "df2_mc"
   ]
  },
  {
   "cell_type": "markdown",
   "id": "2445b19d",
   "metadata": {},
   "source": [
    "我们还可以重新审视Warner [[Warner, 1965](https://python.quantecon.org/zreferences.html#id10)]结论部分的一个计算，其中\n",
    "\n",
    "- $ \\pi_A=0.6 $  \n",
    "- $ n=2000 $  \n",
    "\n",
    "\n",
    "我们使用以下代码"
   ]
  },
  {
   "cell_type": "code",
   "execution_count": null,
   "id": "a418ab35",
   "metadata": {
    "hide-output": false
   },
   "outputs": [],
   "source": [
    "cp3 = Comparison(0.6, 2000)\n",
    "df3_theoretical = cp3.theoretical()\n",
    "df3_theoretical"
   ]
  },
  {
   "cell_type": "code",
   "execution_count": null,
   "id": "231d02a2",
   "metadata": {
    "hide-output": false
   },
   "outputs": [],
   "source": [
    "df3_mc = cp3.MCsimulation()\n",
    "df3_mc"
   ]
  },
  {
   "cell_type": "markdown",
   "id": "2a86f859",
   "metadata": {},
   "source": [
    "显然，随着$ n $的增加，随机化回应法在更多情况下表现更好。"
   ]
  },
  {
   "cell_type": "markdown",
   "id": "637950a8",
   "metadata": {},
   "source": [
    "## 结束语\n",
    "\n",
    "[这个QuantEcon讲座](https://python.quantecon.org/util_rand_resp.html)描述了一些其他的随机化回应调查方法。\n",
    "\n",
    "该讲座介绍了Lars Ljungqvist [[Ljungqvist, 1993](https://python.quantecon.org/zreferences.html#id11)]对这些替代方案进行的功利主义分析。"
   ]
  }
 ],
 "metadata": {
  "date": 1750032245.2772307,
  "filename": "rand_resp.md",
  "kernelspec": {
   "display_name": "Python",
   "language": "python3",
   "name": "python3"
  },
  "title": "随机化回应调查"
 },
 "nbformat": 4,
 "nbformat_minor": 5
}